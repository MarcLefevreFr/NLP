{
 "cells": [
  {
   "cell_type": "markdown",
   "metadata": {
    "id": "cQ_DSbgo9MuD"
   },
   "source": [
    "Formation OpenClassrooms DS-IML - **Marc Lefèvre**, <marc.lefevre@noos.fr>"
   ]
  },
  {
   "cell_type": "markdown",
   "metadata": {
    "id": "xxLruR_v9U6Z"
   },
   "source": [
    " "
   ]
  },
  {
   "cell_type": "markdown",
   "metadata": {},
   "source": [
    " "
   ]
  },
  {
   "cell_type": "markdown",
   "metadata": {},
   "source": [
    "# **Projet 7 : Classification de textes avec BERT**"
   ]
  },
  {
   "cell_type": "markdown",
   "metadata": {},
   "source": [
    " "
   ]
  },
  {
   "cell_type": "markdown",
   "metadata": {},
   "source": [
    " "
   ]
  },
  {
   "cell_type": "markdown",
   "metadata": {},
   "source": [
    "### **Mission et contenu**"
   ]
  },
  {
   "cell_type": "markdown",
   "metadata": {},
   "source": [
    "Ce 7ème projet consistait à effectuer une veille technologique et à mettre en pratique un procédé ou une technique récente en machine learning que nous aurions découvert à l'occasion de cette veille.<br><br>Nous avons choisi comme sujet les modèles <b>BERT</b> (Bidirectional Encoder Representation from Transformer), apparus fin 2018, qui proposent une représentation du langage sensée être meilleure et plus riche que ce qui existait avant.<br><br>Afin de le vérifier, nous avons prolongé notre <b>projet 5</b> (\"classification de questions Stack-Overflow\") en utilisant des modèles BERT. Ceux-ci allaient-ils nous permettre d'obtenir de meilleurs résultats ?"
   ]
  },
  {
   "cell_type": "markdown",
   "metadata": {},
   "source": [
    "Dans ce premier notebook, nous avons travaillé à partir des données du projet 5. Mais comme vous pourrez le voir, nous avons pensé qu'il aurait pu être pertinent de disposer de plus de données.<br>Le second notebook, qui reprend quasiment le 1er du projet 5, retrace la construction d'un nouveau dataset plus conséquent.<br>Le troisième contient nos modélisations sur ce dataset plus grand. "
   ]
  },
  {
   "cell_type": "markdown",
   "metadata": {},
   "source": [
    "**Note :**<br>Ces notebooks sont assez redondants. Si le lecteur est intéressé par la façon dont on implémente <b>BERT</b>, tout est dans le détail de la première modélisation de ce présent document."
   ]
  },
  {
   "cell_type": "markdown",
   "metadata": {
    "id": "fS5pr9Np9u5H"
   },
   "source": [
    "<b>Sources :</b><br>Voici quelques notebooks et ressources qui nous ont grandement aidés :<br>https://www.kaggle.com/anasofiauzsoy/tutorial-notebook<br>https://www.kaggle.com/c/contradictory-my-dear-watson<br>https://www.kaggle.com/katharinamenz/tutorial-notebook-edited-by-katharinamenz<br>https://towardsdatascience.com/hugging-face-transformers-fine-tuning-distilbert-for-binary-classification-tasks-490f1d192379"
   ]
  },
  {
   "cell_type": "markdown",
   "metadata": {},
   "source": [
    " "
   ]
  },
  {
   "cell_type": "markdown",
   "metadata": {},
   "source": [
    "## **1ère partie : Modélisations avec données originales du P5**"
   ]
  },
  {
   "cell_type": "markdown",
   "metadata": {},
   "source": [
    " "
   ]
  },
  {
   "cell_type": "markdown",
   "metadata": {},
   "source": [
    "## **1-) Opérations préliminaires**"
   ]
  },
  {
   "cell_type": "markdown",
   "metadata": {},
   "source": [
    " "
   ]
  },
  {
   "cell_type": "markdown",
   "metadata": {
    "id": "rBgawNh39aYb"
   },
   "source": [
    "**Liaison Google Drive**"
   ]
  },
  {
   "cell_type": "code",
   "execution_count": null,
   "metadata": {
    "colab": {
     "base_uri": "https://localhost:8080/"
    },
    "id": "iYBoz99B9U8g",
    "outputId": "0c2e925a-e74e-4f89-f795-1ddeda2318d7"
   },
   "outputs": [
    {
     "name": "stdout",
     "output_type": "stream",
     "text": [
      "Mounted at /content/drive\n"
     ]
    }
   ],
   "source": [
    "from google.colab import drive\n",
    "\n",
    "drive.mount(\"/content/drive\")"
   ]
  },
  {
   "cell_type": "markdown",
   "metadata": {
    "id": "_W_ZxOnR93fe"
   },
   "source": [
    "Installation du module **transformer** de **HugginFace**."
   ]
  },
  {
   "cell_type": "code",
   "execution_count": null,
   "metadata": {
    "colab": {
     "base_uri": "https://localhost:8080/"
    },
    "collapsed": true,
    "id": "UD9ZW4NZ9eMt",
    "jupyter": {
     "outputs_hidden": true
    },
    "outputId": "4720b5f7-bb24-4df5-8c9a-5626ebfabb2c"
   },
   "outputs": [
    {
     "name": "stdout",
     "output_type": "stream",
     "text": [
      "Collecting transformers\n",
      "\u001b[?25l  Downloading https://files.pythonhosted.org/packages/fd/1a/41c644c963249fd7f3836d926afa1e3f1cc234a1c40d80c5f03ad8f6f1b2/transformers-4.8.2-py3-none-any.whl (2.5MB)\n",
      "\u001b[K     |████████████████████████████████| 2.5MB 5.3MB/s \n",
      "\u001b[?25hRequirement already satisfied: packaging in /usr/local/lib/python3.7/dist-packages (from transformers) (21.0)\n",
      "Requirement already satisfied: tqdm>=4.27 in /usr/local/lib/python3.7/dist-packages (from transformers) (4.41.1)\n",
      "Requirement already satisfied: pyyaml in /usr/local/lib/python3.7/dist-packages (from transformers) (3.13)\n",
      "Requirement already satisfied: regex!=2019.12.17 in /usr/local/lib/python3.7/dist-packages (from transformers) (2019.12.20)\n",
      "Requirement already satisfied: filelock in /usr/local/lib/python3.7/dist-packages (from transformers) (3.0.12)\n",
      "Collecting sacremoses\n",
      "\u001b[?25l  Downloading https://files.pythonhosted.org/packages/75/ee/67241dc87f266093c533a2d4d3d69438e57d7a90abb216fa076e7d475d4a/sacremoses-0.0.45-py3-none-any.whl (895kB)\n",
      "\u001b[K     |████████████████████████████████| 901kB 30.1MB/s \n",
      "\u001b[?25hCollecting huggingface-hub==0.0.12\n",
      "  Downloading https://files.pythonhosted.org/packages/2f/ee/97e253668fda9b17e968b3f97b2f8e53aa0127e8807d24a547687423fe0b/huggingface_hub-0.0.12-py3-none-any.whl\n",
      "Requirement already satisfied: importlib-metadata; python_version < \"3.8\" in /usr/local/lib/python3.7/dist-packages (from transformers) (4.6.1)\n",
      "Collecting tokenizers<0.11,>=0.10.1\n",
      "\u001b[?25l  Downloading https://files.pythonhosted.org/packages/d4/e2/df3543e8ffdab68f5acc73f613de9c2b155ac47f162e725dcac87c521c11/tokenizers-0.10.3-cp37-cp37m-manylinux_2_5_x86_64.manylinux1_x86_64.manylinux_2_12_x86_64.manylinux2010_x86_64.whl (3.3MB)\n",
      "\u001b[K     |████████████████████████████████| 3.3MB 52.5MB/s \n",
      "\u001b[?25hRequirement already satisfied: numpy>=1.17 in /usr/local/lib/python3.7/dist-packages (from transformers) (1.19.5)\n",
      "Requirement already satisfied: requests in /usr/local/lib/python3.7/dist-packages (from transformers) (2.23.0)\n",
      "Requirement already satisfied: pyparsing>=2.0.2 in /usr/local/lib/python3.7/dist-packages (from packaging->transformers) (2.4.7)\n",
      "Requirement already satisfied: joblib in /usr/local/lib/python3.7/dist-packages (from sacremoses->transformers) (1.0.1)\n",
      "Requirement already satisfied: six in /usr/local/lib/python3.7/dist-packages (from sacremoses->transformers) (1.15.0)\n",
      "Requirement already satisfied: click in /usr/local/lib/python3.7/dist-packages (from sacremoses->transformers) (7.1.2)\n",
      "Requirement already satisfied: typing-extensions in /usr/local/lib/python3.7/dist-packages (from huggingface-hub==0.0.12->transformers) (3.7.4.3)\n",
      "Requirement already satisfied: zipp>=0.5 in /usr/local/lib/python3.7/dist-packages (from importlib-metadata; python_version < \"3.8\"->transformers) (3.5.0)\n",
      "Requirement already satisfied: idna<3,>=2.5 in /usr/local/lib/python3.7/dist-packages (from requests->transformers) (2.10)\n",
      "Requirement already satisfied: certifi>=2017.4.17 in /usr/local/lib/python3.7/dist-packages (from requests->transformers) (2021.5.30)\n",
      "Requirement already satisfied: urllib3!=1.25.0,!=1.25.1,<1.26,>=1.21.1 in /usr/local/lib/python3.7/dist-packages (from requests->transformers) (1.24.3)\n",
      "Requirement already satisfied: chardet<4,>=3.0.2 in /usr/local/lib/python3.7/dist-packages (from requests->transformers) (3.0.4)\n",
      "Installing collected packages: sacremoses, huggingface-hub, tokenizers, transformers\n",
      "Successfully installed huggingface-hub-0.0.12 sacremoses-0.0.45 tokenizers-0.10.3 transformers-4.8.2\n"
     ]
    }
   ],
   "source": [
    "!pip install transformers"
   ]
  },
  {
   "cell_type": "markdown",
   "metadata": {
    "id": "YUYK9OhSXawz"
   },
   "source": [
    "**Importations Python**"
   ]
  },
  {
   "cell_type": "code",
   "execution_count": null,
   "metadata": {
    "id": "ZGuYwInI9ePO"
   },
   "outputs": [],
   "source": [
    "import shutil\n",
    "import os\n",
    "import pickle\n",
    "import numpy as np\n",
    "import pandas as pd\n",
    "\n",
    "from time import time\n",
    "\n",
    "os.environ[\"WANDB_API_KEY\"] = \"0\" ## to silence warning\n",
    "\n",
    "\n",
    "from tensorflow.keras.callbacks import ModelCheckpoint\n",
    "from transformers import BertTokenizer, TFBertModel, DistilBertTokenizerFast, TFDistilBertModel, AutoTokenizer, TFAutoModel, TFRobertaModel#, DistilBertConfig\n",
    "import matplotlib.pyplot as plt\n",
    "import tensorflow as tf\n",
    "from sklearn.metrics import f1_score"
   ]
  },
  {
   "cell_type": "markdown",
   "metadata": {
    "id": "PHE7_qs0XkTo"
   },
   "source": [
    "Importation des données depuis **Google Drive**."
   ]
  },
  {
   "cell_type": "code",
   "execution_count": null,
   "metadata": {
    "colab": {
     "base_uri": "https://localhost:8080/"
    },
    "id": "UDXCX4Nu9eRu",
    "outputId": "b9c0bbe0-3f17-49d5-8dbb-aeadf84a5675",
    "tags": []
   },
   "outputs": [
    {
     "data": {
      "text/plain": [
       "['.config',\n",
       " 'big_y_test.pickle',\n",
       " 'feat_clean_train.pickle',\n",
       " 'df_targ.pickle',\n",
       " 'big_feat_test.pickle',\n",
       " 'feat_test.pickle',\n",
       " 'y_test.pickle',\n",
       " 'feat_train.pickle',\n",
       " 'big_labels.pickle',\n",
       " 'big_y_train.pickle',\n",
       " 'big_feat_train.pickle',\n",
       " 'drive',\n",
       " 'labels.pickle',\n",
       " 'feat_sw_test.pickle',\n",
       " 'feat_sw_train.pickle',\n",
       " 'y_train.pickle',\n",
       " 'big_df_targ.pickle',\n",
       " 'feat_clean_test.pickle',\n",
       " 'sample_data']"
      ]
     },
     "execution_count": 4,
     "metadata": {
      "tags": []
     },
     "output_type": "execute_result"
    }
   ],
   "source": [
    "cwd = os.getcwd()\n",
    "\n",
    "path_data = cwd + \"/drive/MyDrive/P7/Data/\"\n",
    "\n",
    "for file in os.listdir(path_data) :\n",
    "\n",
    "    if file != \"Models\" :\n",
    "        shutil.copy(os.path.join(path_data, file), cwd)\n",
    "\n",
    "# Vérification de l'importation\n",
    "os.listdir(cwd)"
   ]
  },
  {
   "cell_type": "markdown",
   "metadata": {},
   "source": [
    " "
   ]
  },
  {
   "cell_type": "markdown",
   "metadata": {
    "id": "KHHdsXFG-SVk"
   },
   "source": [
    "**Configuration de l'environnement TPU**"
   ]
  },
  {
   "cell_type": "markdown",
   "metadata": {},
   "source": [
    "Avec des modèles BERT, il est recommandé de si possible utiliser du hardware de type **TPU** (Tensor Processing Unit). L'utilisation de TPU n'est pas automatique, elle nécessite deux choses :<br>- D'abord d'être initialisée (cellule ci-dessous)<br>- Puis que chaque modèle les utilisant soit instancié plus tard dans le cadre de la \"stratégie de calcul\" définie lors de cette initialisation."
   ]
  },
  {
   "cell_type": "code",
   "execution_count": null,
   "metadata": {
    "colab": {
     "base_uri": "https://localhost:8080/"
    },
    "collapsed": true,
    "id": "W-OC3Fun9VBY",
    "jupyter": {
     "outputs_hidden": true
    },
    "outputId": "73415c42-542b-4536-c374-d96a2c3e16ac"
   },
   "outputs": [
    {
     "name": "stderr",
     "output_type": "stream",
     "text": [
      "INFO:absl:Entering into master device scope: /job:worker/replica:0/task:0/device:CPU:0\n"
     ]
    },
    {
     "name": "stdout",
     "output_type": "stream",
     "text": [
      "INFO:tensorflow:Initializing the TPU system: grpc://10.17.48.34:8470\n"
     ]
    },
    {
     "name": "stderr",
     "output_type": "stream",
     "text": [
      "INFO:tensorflow:Initializing the TPU system: grpc://10.17.48.34:8470\n"
     ]
    },
    {
     "name": "stdout",
     "output_type": "stream",
     "text": [
      "INFO:tensorflow:Clearing out eager caches\n"
     ]
    },
    {
     "name": "stderr",
     "output_type": "stream",
     "text": [
      "INFO:tensorflow:Clearing out eager caches\n"
     ]
    },
    {
     "name": "stdout",
     "output_type": "stream",
     "text": [
      "INFO:tensorflow:Finished initializing TPU system.\n"
     ]
    },
    {
     "name": "stderr",
     "output_type": "stream",
     "text": [
      "INFO:tensorflow:Finished initializing TPU system.\n",
      "WARNING:absl:`tf.distribute.experimental.TPUStrategy` is deprecated, please use  the non experimental symbol `tf.distribute.TPUStrategy` instead.\n"
     ]
    },
    {
     "name": "stdout",
     "output_type": "stream",
     "text": [
      "INFO:tensorflow:Found TPU system:\n"
     ]
    },
    {
     "name": "stderr",
     "output_type": "stream",
     "text": [
      "INFO:tensorflow:Found TPU system:\n"
     ]
    },
    {
     "name": "stdout",
     "output_type": "stream",
     "text": [
      "INFO:tensorflow:*** Num TPU Cores: 8\n"
     ]
    },
    {
     "name": "stderr",
     "output_type": "stream",
     "text": [
      "INFO:tensorflow:*** Num TPU Cores: 8\n"
     ]
    },
    {
     "name": "stdout",
     "output_type": "stream",
     "text": [
      "INFO:tensorflow:*** Num TPU Workers: 1\n"
     ]
    },
    {
     "name": "stderr",
     "output_type": "stream",
     "text": [
      "INFO:tensorflow:*** Num TPU Workers: 1\n"
     ]
    },
    {
     "name": "stdout",
     "output_type": "stream",
     "text": [
      "INFO:tensorflow:*** Num TPU Cores Per Worker: 8\n"
     ]
    },
    {
     "name": "stderr",
     "output_type": "stream",
     "text": [
      "INFO:tensorflow:*** Num TPU Cores Per Worker: 8\n"
     ]
    },
    {
     "name": "stdout",
     "output_type": "stream",
     "text": [
      "INFO:tensorflow:*** Available Device: _DeviceAttributes(/job:localhost/replica:0/task:0/device:CPU:0, CPU, 0, 0)\n"
     ]
    },
    {
     "name": "stderr",
     "output_type": "stream",
     "text": [
      "INFO:tensorflow:*** Available Device: _DeviceAttributes(/job:localhost/replica:0/task:0/device:CPU:0, CPU, 0, 0)\n"
     ]
    },
    {
     "name": "stdout",
     "output_type": "stream",
     "text": [
      "INFO:tensorflow:*** Available Device: _DeviceAttributes(/job:worker/replica:0/task:0/device:CPU:0, CPU, 0, 0)\n"
     ]
    },
    {
     "name": "stderr",
     "output_type": "stream",
     "text": [
      "INFO:tensorflow:*** Available Device: _DeviceAttributes(/job:worker/replica:0/task:0/device:CPU:0, CPU, 0, 0)\n"
     ]
    },
    {
     "name": "stdout",
     "output_type": "stream",
     "text": [
      "INFO:tensorflow:*** Available Device: _DeviceAttributes(/job:worker/replica:0/task:0/device:TPU:0, TPU, 0, 0)\n"
     ]
    },
    {
     "name": "stderr",
     "output_type": "stream",
     "text": [
      "INFO:tensorflow:*** Available Device: _DeviceAttributes(/job:worker/replica:0/task:0/device:TPU:0, TPU, 0, 0)\n"
     ]
    },
    {
     "name": "stdout",
     "output_type": "stream",
     "text": [
      "INFO:tensorflow:*** Available Device: _DeviceAttributes(/job:worker/replica:0/task:0/device:TPU:1, TPU, 0, 0)\n"
     ]
    },
    {
     "name": "stderr",
     "output_type": "stream",
     "text": [
      "INFO:tensorflow:*** Available Device: _DeviceAttributes(/job:worker/replica:0/task:0/device:TPU:1, TPU, 0, 0)\n"
     ]
    },
    {
     "name": "stdout",
     "output_type": "stream",
     "text": [
      "INFO:tensorflow:*** Available Device: _DeviceAttributes(/job:worker/replica:0/task:0/device:TPU:2, TPU, 0, 0)\n"
     ]
    },
    {
     "name": "stderr",
     "output_type": "stream",
     "text": [
      "INFO:tensorflow:*** Available Device: _DeviceAttributes(/job:worker/replica:0/task:0/device:TPU:2, TPU, 0, 0)\n"
     ]
    },
    {
     "name": "stdout",
     "output_type": "stream",
     "text": [
      "INFO:tensorflow:*** Available Device: _DeviceAttributes(/job:worker/replica:0/task:0/device:TPU:3, TPU, 0, 0)\n"
     ]
    },
    {
     "name": "stderr",
     "output_type": "stream",
     "text": [
      "INFO:tensorflow:*** Available Device: _DeviceAttributes(/job:worker/replica:0/task:0/device:TPU:3, TPU, 0, 0)\n"
     ]
    },
    {
     "name": "stdout",
     "output_type": "stream",
     "text": [
      "INFO:tensorflow:*** Available Device: _DeviceAttributes(/job:worker/replica:0/task:0/device:TPU:4, TPU, 0, 0)\n"
     ]
    },
    {
     "name": "stderr",
     "output_type": "stream",
     "text": [
      "INFO:tensorflow:*** Available Device: _DeviceAttributes(/job:worker/replica:0/task:0/device:TPU:4, TPU, 0, 0)\n"
     ]
    },
    {
     "name": "stdout",
     "output_type": "stream",
     "text": [
      "INFO:tensorflow:*** Available Device: _DeviceAttributes(/job:worker/replica:0/task:0/device:TPU:5, TPU, 0, 0)\n"
     ]
    },
    {
     "name": "stderr",
     "output_type": "stream",
     "text": [
      "INFO:tensorflow:*** Available Device: _DeviceAttributes(/job:worker/replica:0/task:0/device:TPU:5, TPU, 0, 0)\n"
     ]
    },
    {
     "name": "stdout",
     "output_type": "stream",
     "text": [
      "INFO:tensorflow:*** Available Device: _DeviceAttributes(/job:worker/replica:0/task:0/device:TPU:6, TPU, 0, 0)\n"
     ]
    },
    {
     "name": "stderr",
     "output_type": "stream",
     "text": [
      "INFO:tensorflow:*** Available Device: _DeviceAttributes(/job:worker/replica:0/task:0/device:TPU:6, TPU, 0, 0)\n"
     ]
    },
    {
     "name": "stdout",
     "output_type": "stream",
     "text": [
      "INFO:tensorflow:*** Available Device: _DeviceAttributes(/job:worker/replica:0/task:0/device:TPU:7, TPU, 0, 0)\n"
     ]
    },
    {
     "name": "stderr",
     "output_type": "stream",
     "text": [
      "INFO:tensorflow:*** Available Device: _DeviceAttributes(/job:worker/replica:0/task:0/device:TPU:7, TPU, 0, 0)\n"
     ]
    },
    {
     "name": "stdout",
     "output_type": "stream",
     "text": [
      "INFO:tensorflow:*** Available Device: _DeviceAttributes(/job:worker/replica:0/task:0/device:TPU_SYSTEM:0, TPU_SYSTEM, 0, 0)\n"
     ]
    },
    {
     "name": "stderr",
     "output_type": "stream",
     "text": [
      "INFO:tensorflow:*** Available Device: _DeviceAttributes(/job:worker/replica:0/task:0/device:TPU_SYSTEM:0, TPU_SYSTEM, 0, 0)\n"
     ]
    },
    {
     "name": "stdout",
     "output_type": "stream",
     "text": [
      "INFO:tensorflow:*** Available Device: _DeviceAttributes(/job:worker/replica:0/task:0/device:XLA_CPU:0, XLA_CPU, 0, 0)\n"
     ]
    },
    {
     "name": "stderr",
     "output_type": "stream",
     "text": [
      "INFO:tensorflow:*** Available Device: _DeviceAttributes(/job:worker/replica:0/task:0/device:XLA_CPU:0, XLA_CPU, 0, 0)\n"
     ]
    }
   ],
   "source": [
    "try:\n",
    "    tpu = tf.distribute.cluster_resolver.TPUClusterResolver() # detect and init the TPU: TPUClusterResolver() locates the TPUs on the network\n",
    "    tf.config.experimental_connect_to_cluster(tpu)\n",
    "    tf.tpu.experimental.initialize_tpu_system(tpu)\n",
    "    strategy = tf.distribute.experimental.TPUStrategy(tpu) # \"strategy\" contains the necessary distributed training code that will work on the TPUs\n",
    "except ValueError: # in case Accelerator is not set to TPU in the Notebook Settings\n",
    "    strategy = tf.distribute.get_strategy() # for CPU and single GPU"
   ]
  },
  {
   "cell_type": "markdown",
   "metadata": {},
   "source": [
    " "
   ]
  },
  {
   "cell_type": "markdown",
   "metadata": {},
   "source": [
    "## **2-) Modélisations tests : types de texte & cased/uncased**"
   ]
  },
  {
   "cell_type": "markdown",
   "metadata": {},
   "source": [
    " "
   ]
  },
  {
   "cell_type": "markdown",
   "metadata": {},
   "source": [
    "Les modèles de types **BERT** ont la particularité, en NLP, de mieux fonctionner avec du texte pure. C'est à dire avec du texte tel qu'il a été écrit, avec tous ses mots, tous ses éléments syntaxiques, et tous ses signes.<br>Nous allons dans un premier temps le vérifier en utilisant un modèle sur des données non traitées, puis des données à qui ont a enlevé chiffres et certains signes, puis enfin des données à qui on a enlevé en plus ponctuation et \"stopwords\"."
   ]
  },
  {
   "cell_type": "markdown",
   "metadata": {},
   "source": [
    " "
   ]
  },
  {
   "cell_type": "markdown",
   "metadata": {
    "id": "VJZQDMKe-F1a"
   },
   "source": [
    "**Chargement des données**"
   ]
  },
  {
   "cell_type": "code",
   "execution_count": null,
   "metadata": {
    "id": "pWq86_1O9U-s"
   },
   "outputs": [],
   "source": [
    "X_train = pickle.load(open(\"feat_train.pickle\", \"rb\"))\n",
    "X_test = pickle.load(open(\"feat_test.pickle\", \"rb\"))\n",
    "\n",
    "X_clean_train = pickle.load(open(\"feat_clean_train.pickle\", \"rb\"))\n",
    "X_clean_test = pickle.load(open(\"feat_clean_test.pickle\", \"rb\"))\n",
    "\n",
    "X_sw_train = pickle.load(open(\"feat_sw_train.pickle\", \"rb\"))\n",
    "X_sw_test = pickle.load(open(\"feat_sw_test.pickle\", \"rb\"))\n",
    "\n",
    "y_train = pickle.load(open(\"y_train.pickle\", \"rb\"))\n",
    "y_test = pickle.load(open(\"y_test.pickle\", \"rb\"))\n",
    "\n",
    "y_train = y_train.toarray()\n",
    "y_test = y_test.toarray()"
   ]
  },
  {
   "cell_type": "markdown",
   "metadata": {
    "id": "6tWjB81CUs2E"
   },
   "source": [
    "On a bien trois types de données texte :"
   ]
  },
  {
   "cell_type": "code",
   "execution_count": null,
   "metadata": {
    "colab": {
     "base_uri": "https://localhost:8080/",
     "height": 147
    },
    "id": "QB0vZVO_Upmx",
    "outputId": "6635d9ce-434a-4e39-89b5-43864b2b875b",
    "tags": []
   },
   "outputs": [
    {
     "data": {
      "application/vnd.google.colaboratory.intrinsic+json": {
       "type": "string"
      },
      "text/plain": [
       "\"angular2: insert a dynamic component as child of a container in the dom. Is there a way to insert dynamically a component as a child (not a sibling) of a DOM tag in Angular 2? There are plenty of examples around there to insert a dynamic component as a sibling of a given ViewContainerRef's tag, like (as of RC3): But this generates a DOM similar to: Expected result: Using the SomeComponent's ViewContainerRef has the same result, it is still inserting the generated component as a sibling, not a child. I would be okay with a solution where the template is empty and dynamic components are inserted in the template (within the component selector tag). The DOM structure is very important when using libraries like ng2-dragula to drag from a list of dynamic components and benefit from the model updates. The extra div is in the list of draggable elements, but outside the model, breaking the drag & drop logic. Some say it is not possible (c.f. this comment), but it sounds like a very surprising limitation.\""
      ]
     },
     "execution_count": 6,
     "metadata": {
      "tags": []
     },
     "output_type": "execute_result"
    }
   ],
   "source": [
    "X_train[5]"
   ]
  },
  {
   "cell_type": "code",
   "execution_count": null,
   "metadata": {
    "colab": {
     "base_uri": "https://localhost:8080/",
     "height": 147
    },
    "id": "d_ccOddpUptl",
    "outputId": "2d8feb20-ce46-4752-c204-8d189067f380",
    "tags": []
   },
   "outputs": [
    {
     "data": {
      "application/vnd.google.colaboratory.intrinsic+json": {
       "type": "string"
      },
      "text/plain": [
       "'angular: insert a dynamic component as child of a container in the dom. is there a way to insert dynamically a component as a child not a sibling of a dom tag in angular ? there are plenty of examples around there to insert a dynamic component as a sibling of a given viewcontainerrefs tag, like as of rc: but this generates a dom similar to: expected result: using the somecomponents viewcontainerref has the same result, it is still inserting the generated component as a sibling, not a child. i would be okay with a solution where the template is empty and dynamic components are inserted in the template within the component selector tag. the dom structure is very important when using libraries like ngdragula to drag from a list of dynamic components and benefit from the model updates. the extra div is in the list of draggable elements, but outside the model, breaking the drag  drop logic. some say it is not possible c.f. this comment, but it sounds like a very surprising limitation.'"
      ]
     },
     "execution_count": 7,
     "metadata": {
      "tags": []
     },
     "output_type": "execute_result"
    }
   ],
   "source": [
    "X_clean_train[5]"
   ]
  },
  {
   "cell_type": "code",
   "execution_count": null,
   "metadata": {
    "colab": {
     "base_uri": "https://localhost:8080/",
     "height": 110
    },
    "id": "E3C-u7gUUpwp",
    "outputId": "1029acc8-272e-49df-b1c4-1e813f7ed90e",
    "tags": []
   },
   "outputs": [
    {
     "data": {
      "application/vnd.google.colaboratory.intrinsic+json": {
       "type": "string"
      },
      "text/plain": [
       "'angular insert dynamic component child container dom way insert dynamically component child sibling dom tag angular plenty examples insert dynamic component sibling given viewcontainerrefs tag like rc generates dom similar expected result somecomponents viewcontainerref result inserting generated component sibling child okay solution template dynamic components inserted template component selector tag dom structure important libraries like ngdragula drag list dynamic components benefit model updates extra div list draggable elements outside model breaking drag drop logic possible c.f comment sounds like surprising limitation'"
      ]
     },
     "execution_count": 8,
     "metadata": {
      "tags": []
     },
     "output_type": "execute_result"
    }
   ],
   "source": [
    "X_sw_train[5]"
   ]
  },
  {
   "cell_type": "markdown",
   "metadata": {},
   "source": [
    "## **2-a) Déroulement détaillé d'une modélisation BERT : DistilBERT cased données brutes**"
   ]
  },
  {
   "cell_type": "markdown",
   "metadata": {
    "id": "fp2qXC-G9VEN"
   },
   "source": [
    " "
   ]
  },
  {
   "cell_type": "markdown",
   "metadata": {
    "id": "unrHuTpxrhbE"
   },
   "source": [
    "Nous allons maintenant détailler notre première modélisation, avec le modèle **DistilBERT** (une version allégée de BERT) sur les données texte brutes. On commence par la version **cased** du modèle (qui tient compte des majuscules) avant d'essayer ensuite la version **uncased**."
   ]
  },
  {
   "cell_type": "markdown",
   "metadata": {},
   "source": [
    " "
   ]
  },
  {
   "cell_type": "markdown",
   "metadata": {},
   "source": [
    "**Longueur maximum des questions**"
   ]
  },
  {
   "cell_type": "markdown",
   "metadata": {
    "id": "alNbToSOrhdh"
   },
   "source": [
    "Il nous faut d'abord définir une **longueur** des features qu'on envoie au modèle. Cette longueur est le nombre de tokens maximum d'une question. Si une question est composée de moins de tokens, il y aura un padding automatique. Si une question est composée de plus de token que ce nombre, elle sera coupée et ce qui \"dépasse\" sera ignoré."
   ]
  },
  {
   "cell_type": "markdown",
   "metadata": {},
   "source": [
    " "
   ]
  },
  {
   "cell_type": "markdown",
   "metadata": {
    "id": "uNoYI0o5nzFe"
   },
   "source": [
    "**Elements statistiques sur le nombre de mots par question**"
   ]
  },
  {
   "cell_type": "code",
   "execution_count": null,
   "metadata": {
    "colab": {
     "base_uri": "https://localhost:8080/"
    },
    "id": "K2BDzswznyIu",
    "outputId": "aa818151-92be-4ad2-fd96-f62be61f6eb4"
   },
   "outputs": [
    {
     "name": "stdout",
     "output_type": "stream",
     "text": [
      "Nombre de questions d'entrainement : 20000\n",
      "Nombre de questions de test : 5555\n"
     ]
    }
   ],
   "source": [
    "print(f\"Nombre de questions d'entrainement : {len(X_train)}\")\n",
    "print(f\"Nombre de questions de test : {len(X_test)}\")"
   ]
  },
  {
   "cell_type": "markdown",
   "metadata": {
    "id": "zLMtvrtZpRTU"
   },
   "source": [
    "Pour avoir une approximation des nombres de mots dans nos textes, on compte le nombre d'éléments séparés par des espaces."
   ]
  },
  {
   "cell_type": "code",
   "execution_count": null,
   "metadata": {
    "id": "0N5WL2ejnyLP"
   },
   "outputs": [],
   "source": [
    "def stats(X_train, X_test):\n",
    "\n",
    "    longueurs_train = []\n",
    "    longueurs_test = []\n",
    "\n",
    "    for quest in X_train :\n",
    "        longueurs_train.append(len(quest.split(\" \")))\n",
    "    l_train_max = max(longueurs_train)\n",
    "\n",
    "    for quest in X_test :\n",
    "        longueurs_test.append(len(quest.split(\" \")))\n",
    "    l_test_max = max(longueurs_test)\n",
    "\n",
    "\n",
    "    print(f\"Nombre de mots max dans les données d'entrainement : {l_train_max}\")\n",
    "    print(f\"Nombre de mots moyen dans les données d'entrainement : {np.mean(longueurs_train):.2f}\")\n",
    "    print(f\"Déviation standart du nombre de mots dans les données d'entrainement : {np.std(longueurs_train):.2f}\")\n",
    "\n",
    "    print()\n",
    "    print(f\"Nombre de mots max dans les données de test : {l_test_max}\")\n",
    "    print(f\"Nombre de mots moyen dans les données de test : {np.mean(longueurs_test):.2f}\")\n",
    "    print(f\"Déviation standart du nombre de mots dans les données de test : {np.std(longueurs_test):.2f}\")"
   ]
  },
  {
   "cell_type": "code",
   "execution_count": null,
   "metadata": {
    "colab": {
     "base_uri": "https://localhost:8080/"
    },
    "id": "Q625bhk6tqhS",
    "outputId": "a0585a66-6259-4a2a-aaff-68fc66fe8f3e"
   },
   "outputs": [
    {
     "name": "stdout",
     "output_type": "stream",
     "text": [
      "Nombre de mots max dans les données d'entrainement : 8210\n",
      "Nombre de mots moyen dans les données d'entrainement : 95.11\n",
      "Déviation standart du nombre de mots dans les données d'entrainement : 108.89\n",
      "\n",
      "Nombre de mots max dans les données de test : 2627\n",
      "Nombre de mots moyen dans les données de test : 94.31\n",
      "Déviation standart du nombre de mots dans les données de test : 93.46\n"
     ]
    }
   ],
   "source": [
    "stats(X_train, X_test)"
   ]
  },
  {
   "cell_type": "markdown",
   "metadata": {
    "id": "E0p1mR1npqgP"
   },
   "source": [
    "Etant donnés ces résultats, et étant donné que les tokenizers des modèles BERT décomposent les mots par \"sub-words\" (et non par mots entiers), on décide de prendre la longueur maximum standard qui est de **512** tokens."
   ]
  },
  {
   "cell_type": "code",
   "execution_count": null,
   "metadata": {
    "id": "BnicMsbOvpbY"
   },
   "outputs": [],
   "source": [
    "MAX_LENGTH = 512\n",
    "BATCH_SIZE = 32"
   ]
  },
  {
   "cell_type": "markdown",
   "metadata": {},
   "source": [
    " "
   ]
  },
  {
   "cell_type": "markdown",
   "metadata": {
    "id": "_EEzvhWpiEAe"
   },
   "source": [
    "**Tokenination**"
   ]
  },
  {
   "cell_type": "markdown",
   "metadata": {
    "id": "j7PaoO2IiFm0"
   },
   "source": [
    "Chaque modèle BERT dispose de son tokenizer associé qu'on commence par charger."
   ]
  },
  {
   "cell_type": "code",
   "execution_count": null,
   "metadata": {
    "colab": {
     "base_uri": "https://localhost:8080/",
     "height": 168,
     "referenced_widgets": [
      "2defcac26ef8447d99a3eb1001662bb5",
      "4a207661647b4cf2a6268211fd843ae2",
      "90f731523a1f4b46853a327b25e4c1f8",
      "3d920575eaae4dc896781fe3f8193cec",
      "88d5b802cbe44be796e515e6e818c1dd",
      "e318670c405141228801d184583aaa44",
      "751f5f4cae164bafa24b2cf3b181be92",
      "cc82737757e142afb51f35c6409deaff",
      "994845cf15b34458ab61691a3be3b4a7",
      "4c795ef82fcd42b6be1bd282bd38d4b7",
      "bed11c3bbf784240a5228eb1acbb17b2",
      "46c3a174bffb496dae5f6d8e5414a8a6",
      "9893e8370f0e44a58396d925fc936c74",
      "2e246b4cf1b54eb79e29de9a669e7ea5",
      "7552288e5c6b42f0a947d75c6e878636",
      "43359fac388e4c4da922c5db3ca22983",
      "a197c6159c13420d9d6cbff4b228b9fb",
      "30992030aa334dd79ee99df95703cde5",
      "a2ee72642179419f8eb6eb5cd61c2f02",
      "ae354061d9dc457f975425098efa3143",
      "609c109090174f63bfb4e26a03ab78d5",
      "3b9baac3956a4db4a07b61356e8f0299",
      "14b862288d3c4f50be6d20935f5fcf2c",
      "8bfeb3a10c4f4c20a6896d14e869d4e9"
     ]
    },
    "collapsed": true,
    "id": "EwZuQzgriEDN",
    "jupyter": {
     "outputs_hidden": true
    },
    "outputId": "8ce59584-5131-48d5-d661-9cfb6afd7f29"
   },
   "outputs": [
    {
     "data": {
      "application/vnd.jupyter.widget-view+json": {
       "model_id": "2defcac26ef8447d99a3eb1001662bb5",
       "version_major": 2,
       "version_minor": 0
      },
      "text/plain": [
       "HBox(children=(FloatProgress(value=0.0, description='Downloading', max=213450.0, style=ProgressStyle(descripti…"
      ]
     },
     "metadata": {
      "tags": []
     },
     "output_type": "display_data"
    },
    {
     "name": "stdout",
     "output_type": "stream",
     "text": [
      "\n"
     ]
    },
    {
     "data": {
      "application/vnd.jupyter.widget-view+json": {
       "model_id": "994845cf15b34458ab61691a3be3b4a7",
       "version_major": 2,
       "version_minor": 0
      },
      "text/plain": [
       "HBox(children=(FloatProgress(value=0.0, description='Downloading', max=435797.0, style=ProgressStyle(descripti…"
      ]
     },
     "metadata": {
      "tags": []
     },
     "output_type": "display_data"
    },
    {
     "name": "stdout",
     "output_type": "stream",
     "text": [
      "\n"
     ]
    },
    {
     "data": {
      "application/vnd.jupyter.widget-view+json": {
       "model_id": "a197c6159c13420d9d6cbff4b228b9fb",
       "version_major": 2,
       "version_minor": 0
      },
      "text/plain": [
       "HBox(children=(FloatProgress(value=0.0, description='Downloading', max=29.0, style=ProgressStyle(description_w…"
      ]
     },
     "metadata": {
      "tags": []
     },
     "output_type": "display_data"
    },
    {
     "name": "stdout",
     "output_type": "stream",
     "text": [
      "\n"
     ]
    }
   ],
   "source": [
    "model_name = 'distilbert-base-cased'\n",
    "tokenizer = DistilBertTokenizerFast.from_pretrained(model_name)"
   ]
  },
  {
   "cell_type": "markdown",
   "metadata": {},
   "source": [
    "Ce tokenizer va créer les **deux tenseurs** qui seront les **inputs** du modèle.<br>Les **input_ids**, qui sont principalement des clés permettant d'identifier chaque token dans le vocabulaire du modèle pré-entrainés.<br>Les **attention_mask** qui sont des masques indiquant au modèle le nombre de tokens à prendre en compte dans une feature.<br><br>On opère la tokenization grâce à la fonction suivante."
   ]
  },
  {
   "cell_type": "code",
   "execution_count": null,
   "metadata": {},
   "outputs": [],
   "source": [
    "def batch_encode(tokenizer, data, batch_size=BATCH_SIZE, max_length=MAX_LENGTH):\n",
    "    \"\"\"\n",
    "    Fonction d'encodage/tokenisation des données\n",
    "    \"\"\"\n",
    "    input_ids = []\n",
    "    attention_mask = []\n",
    "    \n",
    "    for i in range(0, len(data), batch_size):\n",
    "        batch = data[i:i+batch_size]\n",
    "        inputs = tokenizer.batch_encode_plus(batch,\n",
    "                                             max_length=max_length,\n",
    "                                             padding= \"max_length\",\n",
    "                                             truncation=True,\n",
    "                                             return_attention_mask=True,\n",
    "                                             return_token_type_ids=False)\n",
    "        input_ids.extend(inputs['input_ids'])\n",
    "        attention_mask.extend(inputs['attention_mask'])\n",
    "    \n",
    "    return tf.convert_to_tensor(input_ids), tf.convert_to_tensor(attention_mask)"
   ]
  },
  {
   "cell_type": "markdown",
   "metadata": {},
   "source": [
    "Mise en pratique..."
   ]
  },
  {
   "cell_type": "code",
   "execution_count": null,
   "metadata": {
    "colab": {
     "base_uri": "https://localhost:8080/"
    },
    "id": "c40rbuKsiEGl",
    "outputId": "871c60c5-6c16-4e86-b5c9-b1512d2db6f6"
   },
   "outputs": [
    {
     "name": "stdout",
     "output_type": "stream",
     "text": [
      "L'encodage a pris : 17 secondes.\n"
     ]
    }
   ],
   "source": [
    "start = time()\n",
    "X_train_ids, X_train_attention = batch_encode(tokenizer, X_train)\n",
    "X_test_ids, X_test_attention = batch_encode(tokenizer, X_test)\n",
    "\n",
    "data = [[X_train_ids, X_train_attention], y_train, [X_test_ids, X_test_attention], y_test]\n",
    "\n",
    "print(f\"L'encodage a pris : {time()-start:.0f} secondes.\")"
   ]
  },
  {
   "cell_type": "markdown",
   "metadata": {},
   "source": [
    " "
   ]
  },
  {
   "cell_type": "markdown",
   "metadata": {},
   "source": [
    "**Création du modèle**"
   ]
  },
  {
   "cell_type": "markdown",
   "metadata": {},
   "source": [
    "Fonction de création du modèle ci-dessous.<br><br>La modélisation avec des modèles BERT ressort du **transfert learning**. Notre modèle est l'adjonction d'une couche dense de classification à un modèle BERT pré-entrainé. Dans un premier temps on entrainera la partie classification (\"freeze\" de la partie BERT ici...) avant une phase de \"fine-tuning\".<br><br>**Très important :**<br>Un modèle BERT fournit un output (de dimension 768) par token de l'input concerné. Celui qui nous intéresse est le premier de ces outputs, qui correspond à une représentation globale de nos questions encodées.<br><br>**Rappel :**<br>Nous sommes dans un cadre de **classification multi-label** à **25 classes**. Notre couche de sortie a donc **25 neurones** et une **activation sigmoïde**. La fonction de coût est la **binary_crossentropy** car une modélisation multi-label s'envisage comme une succession de classifications binaires."
   ]
  },
  {
   "cell_type": "code",
   "execution_count": null,
   "metadata": {
    "id": "CeV0Xrv2iEJt"
   },
   "outputs": [],
   "source": [
    "def build_distil_model_cased(max_length = MAX_LENGTH):\n",
    "\n",
    "    distilBERT = TFDistilBertModel.from_pretrained('distilbert-base-cased')\n",
    "\n",
    "    # DistilBERT est non-entrainable dans un premier temps\n",
    "    for layer in distilBERT.layers:\n",
    "        layer.trainable = False\n",
    "    \n",
    "    # Définition des entrées\n",
    "    input_ids_layer = tf.keras.layers.Input(shape=(max_length,), \n",
    "                                            name='input_ids', \n",
    "                                            dtype='int32')\n",
    "    input_attention_layer = tf.keras.layers.Input(shape=(max_length,), \n",
    "                                                  name='input_attention', \n",
    "                                                  dtype='int32')\n",
    "    \n",
    "    # C'est sur le premier output du modèle que nous effectuons la classificaztion.\n",
    "    last_hidden_state = distilBERT([input_ids_layer, input_attention_layer])[0]\n",
    "    cls_token = last_hidden_state[:, 0, :]\n",
    "    \n",
    "    # Définition de notre partie classification\n",
    "    output = tf.keras.layers.Dense(25, activation='sigmoid')(cls_token)\n",
    "    \n",
    "    # Définition du modèle\n",
    "    model = tf.keras.Model([input_ids_layer, input_attention_layer], output)\n",
    "    \n",
    "    # Compilation\n",
    "    model.compile(tf.keras.optimizers.Adam(),\n",
    "                  loss = 'binary_crossentropy',\n",
    "                  metrics='accuracy')\n",
    "    \n",
    "    return model"
   ]
  },
  {
   "cell_type": "markdown",
   "metadata": {},
   "source": [
    " "
   ]
  },
  {
   "cell_type": "markdown",
   "metadata": {},
   "source": [
    "**Instanciation du modèle**<br>Comme nous l'avons dit plus tôt, les modèles sont créés dans le cadre de la \"stratégie\" d'utilisation des **TPU**."
   ]
  },
  {
   "cell_type": "code",
   "execution_count": null,
   "metadata": {
    "colab": {
     "base_uri": "https://localhost:8080/",
     "height": 304,
     "referenced_widgets": [
      "a421a71425e54f8187d4250f10aede80",
      "b60ebc711de84bd98a563f27ec8cddbe",
      "92b16c9308904bfca412b63fdedfd0f8",
      "4254aaebc088446b92d232c286296522",
      "772e83d6f7134334bd47632349427eec",
      "9835132c2475431c998e5dc732dd7a33",
      "287b8730081a43ccb6279ebdd9e452cd",
      "8c01f27f6b514af38ade57b1d7a0823e",
      "f2153b8afa3c4b21b5f53fc9d4057e63",
      "29e1199c529c42008b4e3d77b8237f2b",
      "ec8567fe751e4e6ebfd59878759e306d",
      "1e96d78d43f74834b0801bfa4f7e8fbc",
      "0ec6b3aabfd34a1a87307c0f2956a6df",
      "fb078f11d1f643f3a488f6b29190c388",
      "37507b8f61114cc59693a974eee9a015",
      "1da0aa0747fa465bb0c90364d99b295b"
     ]
    },
    "collapsed": true,
    "id": "MHd5OplfiEND",
    "jupyter": {
     "outputs_hidden": true
    },
    "outputId": "ac3d00e9-a9f6-4321-a50a-7ad01a974017"
   },
   "outputs": [
    {
     "data": {
      "application/vnd.jupyter.widget-view+json": {
       "model_id": "a421a71425e54f8187d4250f10aede80",
       "version_major": 2,
       "version_minor": 0
      },
      "text/plain": [
       "HBox(children=(FloatProgress(value=0.0, description='Downloading', max=411.0, style=ProgressStyle(description_…"
      ]
     },
     "metadata": {
      "tags": []
     },
     "output_type": "display_data"
    },
    {
     "name": "stdout",
     "output_type": "stream",
     "text": [
      "\n"
     ]
    },
    {
     "data": {
      "application/vnd.jupyter.widget-view+json": {
       "model_id": "f2153b8afa3c4b21b5f53fc9d4057e63",
       "version_major": 2,
       "version_minor": 0
      },
      "text/plain": [
       "HBox(children=(FloatProgress(value=0.0, description='Downloading', max=354041576.0, style=ProgressStyle(descri…"
      ]
     },
     "metadata": {
      "tags": []
     },
     "output_type": "display_data"
    },
    {
     "name": "stdout",
     "output_type": "stream",
     "text": [
      "\n"
     ]
    },
    {
     "name": "stderr",
     "output_type": "stream",
     "text": [
      "Some layers from the model checkpoint at distilbert-base-cased were not used when initializing TFDistilBertModel: ['vocab_layer_norm', 'activation_13', 'vocab_projector', 'vocab_transform']\n",
      "- This IS expected if you are initializing TFDistilBertModel from the checkpoint of a model trained on another task or with another architecture (e.g. initializing a BertForSequenceClassification model from a BertForPreTraining model).\n",
      "- This IS NOT expected if you are initializing TFDistilBertModel from the checkpoint of a model that you expect to be exactly identical (initializing a BertForSequenceClassification model from a BertForSequenceClassification model).\n",
      "All the layers of TFDistilBertModel were initialized from the model checkpoint at distilbert-base-cased.\n",
      "If your task is similar to the task the model of the checkpoint was trained on, you can already use TFDistilBertModel for predictions without further training.\n"
     ]
    },
    {
     "name": "stdout",
     "output_type": "stream",
     "text": [
      "WARNING:tensorflow:The parameters `output_attentions`, `output_hidden_states` and `use_cache` cannot be updated when calling a model.They have to be set to True/False in the config object (i.e.: `config=XConfig.from_pretrained('name', output_attentions=True)`).\n"
     ]
    },
    {
     "name": "stderr",
     "output_type": "stream",
     "text": [
      "WARNING:tensorflow:The parameters `output_attentions`, `output_hidden_states` and `use_cache` cannot be updated when calling a model.They have to be set to True/False in the config object (i.e.: `config=XConfig.from_pretrained('name', output_attentions=True)`).\n"
     ]
    },
    {
     "name": "stdout",
     "output_type": "stream",
     "text": [
      "WARNING:tensorflow:The parameter `return_dict` cannot be set in graph mode and will always be set to `True`.\n"
     ]
    },
    {
     "name": "stderr",
     "output_type": "stream",
     "text": [
      "WARNING:tensorflow:The parameter `return_dict` cannot be set in graph mode and will always be set to `True`.\n"
     ]
    }
   ],
   "source": [
    "with strategy.scope():\n",
    "    model_dist_raw_cased = build_distil_model_cased()"
   ]
  },
  {
   "cell_type": "markdown",
   "metadata": {},
   "source": [
    " "
   ]
  },
  {
   "cell_type": "markdown",
   "metadata": {},
   "source": [
    "**Modélisation**"
   ]
  },
  {
   "cell_type": "code",
   "execution_count": null,
   "metadata": {
    "id": "7rnsffLX_yiO"
   },
   "outputs": [],
   "source": [
    "def modelize(model, epochs, data, mod_name, batch = BATCH_SIZE):\n",
    "    \"\"\"\n",
    "    Fonction de modélisation.\n",
    "    \"\"\"\n",
    "    checkpoint = ModelCheckpoint(filepath = \"drive/MyDrive/P7/Data/Models/\" + mod_name + \".hdf5\", \n",
    "                                 monitor = \"val_accuracy\",\n",
    "                                 verbose = 0,\n",
    "                                 save_weights_only = True,\n",
    "                                 save_best_only = True)\n",
    "    \n",
    "    start = time()\n",
    "\n",
    "    history = model.fit(data[0],\n",
    "                        data[1],\n",
    "                        epochs = epochs,\n",
    "                        batch_size = batch,\n",
    "                        validation_split = 0.2,\n",
    "                        callbacks = [checkpoint])\n",
    "    \n",
    "    preds = model.predict(data[2])\n",
    "    \n",
    "    preds = preds.round()\n",
    "    \n",
    "    f1_sc = f1_score(data[3],\n",
    "                     preds,\n",
    "                     average = \"weighted\")\n",
    "    \n",
    "    fig = plt.figure(figsize = (10,4))\n",
    "\n",
    "    train_acc = history.history[\"accuracy\"]\n",
    "    val_acc = history.history[\"val_accuracy\"]\n",
    "    \n",
    "    plt.plot(range(1, epochs+1), train_acc, 'b', label='Train acc', color = \"red\")\n",
    "    plt.plot(range(1, epochs+1), val_acc, 'b', label='Validation acc', color = \"blue\")\n",
    "    plt.title('Train & validation accuracies - ' + mod_name)\n",
    "    plt.xlabel(\"Epochs\")\n",
    "    plt.ylabel(\"Accuracy\")\n",
    "    plt.legend()\n",
    "    \n",
    "    print()\n",
    "    print(f\"Temps d'entrainements pour {epochs} epochs : {time()-start:.0f} secondes.\")\n",
    "    print(f\"Meilleure train_acc = {np.max(train_acc):.3f}, meilleure val_acc = {np.max(val_acc):.3f}\")\n",
    "    print()\n",
    "    print(f\"F1_score obtenu : {f1_sc:.2f}\")\n",
    "\n",
    "    plt.show()"
   ]
  },
  {
   "cell_type": "markdown",
   "metadata": {},
   "source": [
    " "
   ]
  },
  {
   "cell_type": "code",
   "execution_count": null,
   "metadata": {
    "colab": {
     "base_uri": "https://localhost:8080/",
     "height": 1000
    },
    "collapsed": true,
    "id": "osw2e-AxiEPm",
    "jupyter": {
     "outputs_hidden": true
    },
    "outputId": "5373c546-fb7e-4563-d5ff-6dc653b2fcc3"
   },
   "outputs": [
    {
     "name": "stdout",
     "output_type": "stream",
     "text": [
      "Epoch 1/50\n",
      "WARNING:tensorflow:The parameters `output_attentions`, `output_hidden_states` and `use_cache` cannot be updated when calling a model.They have to be set to True/False in the config object (i.e.: `config=XConfig.from_pretrained('name', output_attentions=True)`).\n"
     ]
    },
    {
     "name": "stderr",
     "output_type": "stream",
     "text": [
      "WARNING:tensorflow:The parameters `output_attentions`, `output_hidden_states` and `use_cache` cannot be updated when calling a model.They have to be set to True/False in the config object (i.e.: `config=XConfig.from_pretrained('name', output_attentions=True)`).\n"
     ]
    },
    {
     "name": "stdout",
     "output_type": "stream",
     "text": [
      "WARNING:tensorflow:The parameter `return_dict` cannot be set in graph mode and will always be set to `True`.\n"
     ]
    },
    {
     "name": "stderr",
     "output_type": "stream",
     "text": [
      "WARNING:tensorflow:The parameter `return_dict` cannot be set in graph mode and will always be set to `True`.\n"
     ]
    },
    {
     "name": "stdout",
     "output_type": "stream",
     "text": [
      "WARNING:tensorflow:The parameters `output_attentions`, `output_hidden_states` and `use_cache` cannot be updated when calling a model.They have to be set to True/False in the config object (i.e.: `config=XConfig.from_pretrained('name', output_attentions=True)`).\n"
     ]
    },
    {
     "name": "stderr",
     "output_type": "stream",
     "text": [
      "WARNING:tensorflow:The parameters `output_attentions`, `output_hidden_states` and `use_cache` cannot be updated when calling a model.They have to be set to True/False in the config object (i.e.: `config=XConfig.from_pretrained('name', output_attentions=True)`).\n"
     ]
    },
    {
     "name": "stdout",
     "output_type": "stream",
     "text": [
      "WARNING:tensorflow:The parameter `return_dict` cannot be set in graph mode and will always be set to `True`.\n"
     ]
    },
    {
     "name": "stderr",
     "output_type": "stream",
     "text": [
      "WARNING:tensorflow:The parameter `return_dict` cannot be set in graph mode and will always be set to `True`.\n"
     ]
    },
    {
     "name": "stdout",
     "output_type": "stream",
     "text": [
      "499/500 [============================>.] - ETA: 0s - loss: 0.1920 - accuracy: 0.2147WARNING:tensorflow:The parameters `output_attentions`, `output_hidden_states` and `use_cache` cannot be updated when calling a model.They have to be set to True/False in the config object (i.e.: `config=XConfig.from_pretrained('name', output_attentions=True)`).\n"
     ]
    },
    {
     "name": "stderr",
     "output_type": "stream",
     "text": [
      "WARNING:tensorflow:The parameters `output_attentions`, `output_hidden_states` and `use_cache` cannot be updated when calling a model.They have to be set to True/False in the config object (i.e.: `config=XConfig.from_pretrained('name', output_attentions=True)`).\n"
     ]
    },
    {
     "name": "stdout",
     "output_type": "stream",
     "text": [
      "WARNING:tensorflow:The parameter `return_dict` cannot be set in graph mode and will always be set to `True`.\n"
     ]
    },
    {
     "name": "stderr",
     "output_type": "stream",
     "text": [
      "WARNING:tensorflow:The parameter `return_dict` cannot be set in graph mode and will always be set to `True`.\n"
     ]
    },
    {
     "name": "stdout",
     "output_type": "stream",
     "text": [
      "500/500 [==============================] - 25s 31ms/step - loss: 0.1920 - accuracy: 0.2148 - val_loss: 0.1778 - val_accuracy: 0.2575\n",
      "Epoch 2/50\n",
      "500/500 [==============================] - 11s 21ms/step - loss: 0.1732 - accuracy: 0.2819 - val_loss: 0.1680 - val_accuracy: 0.3103\n",
      "Epoch 3/50\n",
      "500/500 [==============================] - 11s 21ms/step - loss: 0.1659 - accuracy: 0.3129 - val_loss: 0.1639 - val_accuracy: 0.3088\n",
      "Epoch 4/50\n",
      "500/500 [==============================] - 11s 21ms/step - loss: 0.1603 - accuracy: 0.3374 - val_loss: 0.1582 - val_accuracy: 0.3435\n",
      "Epoch 5/50\n",
      "500/500 [==============================] - 10s 21ms/step - loss: 0.1562 - accuracy: 0.3596 - val_loss: 0.1544 - val_accuracy: 0.3603\n",
      "Epoch 6/50\n",
      "500/500 [==============================] - 10s 21ms/step - loss: 0.1528 - accuracy: 0.3752 - val_loss: 0.1517 - val_accuracy: 0.3845\n",
      "Epoch 7/50\n",
      "500/500 [==============================] - 11s 21ms/step - loss: 0.1498 - accuracy: 0.3905 - val_loss: 0.1496 - val_accuracy: 0.3788\n",
      "Epoch 8/50\n",
      "500/500 [==============================] - 11s 21ms/step - loss: 0.1476 - accuracy: 0.4013 - val_loss: 0.1457 - val_accuracy: 0.4203\n",
      "Epoch 9/50\n",
      "500/500 [==============================] - 10s 21ms/step - loss: 0.1455 - accuracy: 0.4094 - val_loss: 0.1439 - val_accuracy: 0.4290\n",
      "Epoch 10/50\n",
      "500/500 [==============================] - 10s 21ms/step - loss: 0.1436 - accuracy: 0.4153 - val_loss: 0.1446 - val_accuracy: 0.4153\n",
      "Epoch 11/50\n",
      "500/500 [==============================] - 11s 22ms/step - loss: 0.1417 - accuracy: 0.4252 - val_loss: 0.1415 - val_accuracy: 0.4173\n",
      "Epoch 12/50\n",
      "500/500 [==============================] - 10s 20ms/step - loss: 0.1405 - accuracy: 0.4296 - val_loss: 0.1397 - val_accuracy: 0.4300\n",
      "Epoch 13/50\n",
      "500/500 [==============================] - 10s 21ms/step - loss: 0.1394 - accuracy: 0.4346 - val_loss: 0.1382 - val_accuracy: 0.4500\n",
      "Epoch 14/50\n",
      "500/500 [==============================] - 10s 20ms/step - loss: 0.1378 - accuracy: 0.4425 - val_loss: 0.1375 - val_accuracy: 0.4320\n",
      "Epoch 15/50\n",
      "500/500 [==============================] - 12s 23ms/step - loss: 0.1367 - accuracy: 0.4458 - val_loss: 0.1368 - val_accuracy: 0.4410\n",
      "Epoch 16/50\n",
      "500/500 [==============================] - 10s 20ms/step - loss: 0.1358 - accuracy: 0.4495 - val_loss: 0.1350 - val_accuracy: 0.4478\n",
      "Epoch 17/50\n",
      "500/500 [==============================] - 10s 20ms/step - loss: 0.1349 - accuracy: 0.4572 - val_loss: 0.1336 - val_accuracy: 0.4650\n",
      "Epoch 18/50\n",
      "500/500 [==============================] - 10s 20ms/step - loss: 0.1341 - accuracy: 0.4591 - val_loss: 0.1324 - val_accuracy: 0.4798\n",
      "Epoch 19/50\n",
      "500/500 [==============================] - 10s 21ms/step - loss: 0.1334 - accuracy: 0.4651 - val_loss: 0.1324 - val_accuracy: 0.4680\n",
      "Epoch 20/50\n",
      "500/500 [==============================] - 13s 25ms/step - loss: 0.1327 - accuracy: 0.4604 - val_loss: 0.1316 - val_accuracy: 0.4773\n",
      "Epoch 21/50\n",
      "500/500 [==============================] - 10s 20ms/step - loss: 0.1320 - accuracy: 0.4678 - val_loss: 0.1313 - val_accuracy: 0.4613\n",
      "Epoch 22/50\n",
      "500/500 [==============================] - 12s 25ms/step - loss: 0.1315 - accuracy: 0.4666 - val_loss: 0.1303 - val_accuracy: 0.4885\n",
      "Epoch 23/50\n",
      "500/500 [==============================] - 11s 21ms/step - loss: 0.1309 - accuracy: 0.4731 - val_loss: 0.1289 - val_accuracy: 0.4885\n",
      "Epoch 24/50\n",
      "500/500 [==============================] - 11s 21ms/step - loss: 0.1301 - accuracy: 0.4737 - val_loss: 0.1292 - val_accuracy: 0.4830\n",
      "Epoch 25/50\n",
      "500/500 [==============================] - 10s 20ms/step - loss: 0.1298 - accuracy: 0.4760 - val_loss: 0.1293 - val_accuracy: 0.4680\n",
      "Epoch 26/50\n",
      "500/500 [==============================] - 10s 20ms/step - loss: 0.1292 - accuracy: 0.4747 - val_loss: 0.1279 - val_accuracy: 0.4820\n",
      "Epoch 27/50\n",
      "500/500 [==============================] - 10s 20ms/step - loss: 0.1285 - accuracy: 0.4821 - val_loss: 0.1275 - val_accuracy: 0.4918\n",
      "Epoch 28/50\n",
      "500/500 [==============================] - 11s 23ms/step - loss: 0.1282 - accuracy: 0.4846 - val_loss: 0.1274 - val_accuracy: 0.4993\n",
      "Epoch 29/50\n",
      "500/500 [==============================] - 10s 21ms/step - loss: 0.1277 - accuracy: 0.4818 - val_loss: 0.1264 - val_accuracy: 0.4923\n",
      "Epoch 30/50\n",
      "500/500 [==============================] - 11s 21ms/step - loss: 0.1276 - accuracy: 0.4848 - val_loss: 0.1264 - val_accuracy: 0.5023\n",
      "Epoch 31/50\n",
      "500/500 [==============================] - 11s 21ms/step - loss: 0.1272 - accuracy: 0.4831 - val_loss: 0.1253 - val_accuracy: 0.4993\n",
      "Epoch 32/50\n",
      "500/500 [==============================] - 11s 21ms/step - loss: 0.1262 - accuracy: 0.4919 - val_loss: 0.1245 - val_accuracy: 0.5053\n",
      "Epoch 33/50\n",
      "500/500 [==============================] - 11s 21ms/step - loss: 0.1260 - accuracy: 0.4941 - val_loss: 0.1249 - val_accuracy: 0.5063\n",
      "Epoch 34/50\n",
      "500/500 [==============================] - 11s 21ms/step - loss: 0.1256 - accuracy: 0.4903 - val_loss: 0.1243 - val_accuracy: 0.5003\n",
      "Epoch 35/50\n",
      "500/500 [==============================] - 11s 21ms/step - loss: 0.1254 - accuracy: 0.4936 - val_loss: 0.1236 - val_accuracy: 0.5107\n",
      "Epoch 36/50\n",
      "500/500 [==============================] - 11s 21ms/step - loss: 0.1254 - accuracy: 0.4926 - val_loss: 0.1241 - val_accuracy: 0.5063\n",
      "Epoch 37/50\n",
      "500/500 [==============================] - 11s 21ms/step - loss: 0.1251 - accuracy: 0.4945 - val_loss: 0.1243 - val_accuracy: 0.4993\n",
      "Epoch 38/50\n",
      "500/500 [==============================] - 10s 20ms/step - loss: 0.1246 - accuracy: 0.4939 - val_loss: 0.1237 - val_accuracy: 0.4995\n",
      "Epoch 39/50\n",
      "500/500 [==============================] - 10s 21ms/step - loss: 0.1243 - accuracy: 0.4955 - val_loss: 0.1225 - val_accuracy: 0.5125\n",
      "Epoch 40/50\n",
      "500/500 [==============================] - 11s 21ms/step - loss: 0.1240 - accuracy: 0.4994 - val_loss: 0.1238 - val_accuracy: 0.4985\n",
      "Epoch 41/50\n",
      "500/500 [==============================] - 11s 21ms/step - loss: 0.1240 - accuracy: 0.4955 - val_loss: 0.1221 - val_accuracy: 0.5113\n",
      "Epoch 42/50\n",
      "500/500 [==============================] - 10s 20ms/step - loss: 0.1238 - accuracy: 0.4965 - val_loss: 0.1229 - val_accuracy: 0.4968\n",
      "Epoch 43/50\n",
      "500/500 [==============================] - 10s 21ms/step - loss: 0.1231 - accuracy: 0.5002 - val_loss: 0.1216 - val_accuracy: 0.5163\n",
      "Epoch 44/50\n",
      "500/500 [==============================] - 10s 21ms/step - loss: 0.1231 - accuracy: 0.5041 - val_loss: 0.1221 - val_accuracy: 0.5093\n",
      "Epoch 45/50\n",
      "500/500 [==============================] - 11s 22ms/step - loss: 0.1231 - accuracy: 0.4981 - val_loss: 0.1219 - val_accuracy: 0.5143\n",
      "Epoch 46/50\n",
      "500/500 [==============================] - 10s 21ms/step - loss: 0.1226 - accuracy: 0.5032 - val_loss: 0.1213 - val_accuracy: 0.5080\n",
      "Epoch 47/50\n",
      "500/500 [==============================] - 10s 21ms/step - loss: 0.1225 - accuracy: 0.5033 - val_loss: 0.1205 - val_accuracy: 0.5140\n",
      "Epoch 48/50\n",
      "500/500 [==============================] - 10s 21ms/step - loss: 0.1222 - accuracy: 0.5073 - val_loss: 0.1209 - val_accuracy: 0.5240\n",
      "Epoch 49/50\n",
      "500/500 [==============================] - 11s 22ms/step - loss: 0.1221 - accuracy: 0.5029 - val_loss: 0.1200 - val_accuracy: 0.5245\n",
      "Epoch 50/50\n",
      "500/500 [==============================] - 11s 22ms/step - loss: 0.1220 - accuracy: 0.5098 - val_loss: 0.1201 - val_accuracy: 0.5225\n"
     ]
    },
    {
     "name": "stderr",
     "output_type": "stream",
     "text": [
      "INFO:absl:TPU has inputs with dynamic shapes: [<tf.Tensor 'Const:0' shape=() dtype=int32>, <tf.Tensor 'cond_8/Identity:0' shape=(None, 210) dtype=int32>, <tf.Tensor 'cond_8/Identity_1:0' shape=(None, 210) dtype=int32>]\n"
     ]
    },
    {
     "name": "stdout",
     "output_type": "stream",
     "text": [
      "WARNING:tensorflow:The parameters `output_attentions`, `output_hidden_states` and `use_cache` cannot be updated when calling a model.They have to be set to True/False in the config object (i.e.: `config=XConfig.from_pretrained('name', output_attentions=True)`).\n"
     ]
    },
    {
     "name": "stderr",
     "output_type": "stream",
     "text": [
      "WARNING:tensorflow:The parameters `output_attentions`, `output_hidden_states` and `use_cache` cannot be updated when calling a model.They have to be set to True/False in the config object (i.e.: `config=XConfig.from_pretrained('name', output_attentions=True)`).\n"
     ]
    },
    {
     "name": "stdout",
     "output_type": "stream",
     "text": [
      "WARNING:tensorflow:The parameter `return_dict` cannot be set in graph mode and will always be set to `True`.\n"
     ]
    },
    {
     "name": "stderr",
     "output_type": "stream",
     "text": [
      "WARNING:tensorflow:The parameter `return_dict` cannot be set in graph mode and will always be set to `True`.\n"
     ]
    },
    {
     "name": "stdout",
     "output_type": "stream",
     "text": [
      "\n",
      "Temps d'entrainements pour 50 epochs : 619 secondes.\n",
      "Meilleure train_acc = 0.510, meilleure val_acc = 0.525\n",
      "\n",
      "F1_score obtenu : 0.36\n"
     ]
    },
    {
     "data": {
      "image/png": "[encoded data removed]",
      "text/plain": [
       "<Figure size 720x288 with 1 Axes>"
      ]
     },
     "metadata": {
      "needs_background": "light",
      "tags": []
     },
     "output_type": "display_data"
    }
   ],
   "source": [
    "modelize(model_dist_raw_cased, 50, data, \"model_dist_raw_cased_t\")"
   ]
  },
  {
   "cell_type": "markdown",
   "metadata": {},
   "source": [
    "Les modélisations donnent lieu à de nombreux messages. Nous reproduirons des captures de leurs résultats.<br><br><img src=\"images/distilbert_cased_raw.png\" width = \"600\" heights = \"336\">"
   ]
  },
  {
   "cell_type": "markdown",
   "metadata": {},
   "source": [
    "**Fine-tuning**"
   ]
  },
  {
   "cell_type": "code",
   "execution_count": null,
   "metadata": {
    "id": "YoNCNURdiESs"
   },
   "outputs": [],
   "source": [
    "# Toutes les couches du modèle sont désormais entraînables...\n",
    "for layer in model_dist_raw_cased.layers :\n",
    "    layer.trainable = True\n",
    "    \n",
    "# ...sauf la dernière\n",
    "model_dist_raw_cased.layers[-1].trainable = False\n",
    "\n",
    "# recompilation du modèle avec assignation d'un LR plus petit...\n",
    "model_dist_raw_cased.compile(tf.keras.optimizers.Adam(learning_rate = 1e-5),\n",
    "                             loss = 'binary_crossentropy',\n",
    "                             metrics='accuracy')"
   ]
  },
  {
   "cell_type": "code",
   "execution_count": null,
   "metadata": {
    "colab": {
     "base_uri": "https://localhost:8080/",
     "height": 1000
    },
    "collapsed": true,
    "id": "VTMcyziaiEV1",
    "jupyter": {
     "outputs_hidden": true
    },
    "outputId": "61911c4a-00dd-46d0-cf13-ec1d42008887"
   },
   "outputs": [
    {
     "name": "stdout",
     "output_type": "stream",
     "text": [
      "Epoch 1/20\n",
      "WARNING:tensorflow:The parameters `output_attentions`, `output_hidden_states` and `use_cache` cannot be updated when calling a model.They have to be set to True/False in the config object (i.e.: `config=XConfig.from_pretrained('name', output_attentions=True)`).\n"
     ]
    },
    {
     "name": "stderr",
     "output_type": "stream",
     "text": [
      "WARNING:tensorflow:The parameters `output_attentions`, `output_hidden_states` and `use_cache` cannot be updated when calling a model.They have to be set to True/False in the config object (i.e.: `config=XConfig.from_pretrained('name', output_attentions=True)`).\n"
     ]
    },
    {
     "name": "stdout",
     "output_type": "stream",
     "text": [
      "WARNING:tensorflow:The parameter `return_dict` cannot be set in graph mode and will always be set to `True`.\n"
     ]
    },
    {
     "name": "stderr",
     "output_type": "stream",
     "text": [
      "WARNING:tensorflow:The parameter `return_dict` cannot be set in graph mode and will always be set to `True`.\n"
     ]
    },
    {
     "name": "stdout",
     "output_type": "stream",
     "text": [
      "WARNING:tensorflow:The parameters `output_attentions`, `output_hidden_states` and `use_cache` cannot be updated when calling a model.They have to be set to True/False in the config object (i.e.: `config=XConfig.from_pretrained('name', output_attentions=True)`).\n"
     ]
    },
    {
     "name": "stderr",
     "output_type": "stream",
     "text": [
      "WARNING:tensorflow:The parameters `output_attentions`, `output_hidden_states` and `use_cache` cannot be updated when calling a model.They have to be set to True/False in the config object (i.e.: `config=XConfig.from_pretrained('name', output_attentions=True)`).\n"
     ]
    },
    {
     "name": "stdout",
     "output_type": "stream",
     "text": [
      "WARNING:tensorflow:The parameter `return_dict` cannot be set in graph mode and will always be set to `True`.\n"
     ]
    },
    {
     "name": "stderr",
     "output_type": "stream",
     "text": [
      "WARNING:tensorflow:The parameter `return_dict` cannot be set in graph mode and will always be set to `True`.\n"
     ]
    },
    {
     "name": "stdout",
     "output_type": "stream",
     "text": [
      "500/500 [==============================] - ETA: 0s - loss: 0.0876 - accuracy: 0.6416WARNING:tensorflow:The parameters `output_attentions`, `output_hidden_states` and `use_cache` cannot be updated when calling a model.They have to be set to True/False in the config object (i.e.: `config=XConfig.from_pretrained('name', output_attentions=True)`).\n"
     ]
    },
    {
     "name": "stderr",
     "output_type": "stream",
     "text": [
      "WARNING:tensorflow:The parameters `output_attentions`, `output_hidden_states` and `use_cache` cannot be updated when calling a model.They have to be set to True/False in the config object (i.e.: `config=XConfig.from_pretrained('name', output_attentions=True)`).\n"
     ]
    },
    {
     "name": "stdout",
     "output_type": "stream",
     "text": [
      "WARNING:tensorflow:The parameter `return_dict` cannot be set in graph mode and will always be set to `True`.\n"
     ]
    },
    {
     "name": "stderr",
     "output_type": "stream",
     "text": [
      "WARNING:tensorflow:The parameter `return_dict` cannot be set in graph mode and will always be set to `True`.\n"
     ]
    },
    {
     "name": "stdout",
     "output_type": "stream",
     "text": [
      "500/500 [==============================] - 72s 67ms/step - loss: 0.0876 - accuracy: 0.6416 - val_loss: 0.0769 - val_accuracy: 0.6743\n",
      "Epoch 2/20\n",
      "500/500 [==============================] - 28s 56ms/step - loss: 0.0683 - accuracy: 0.6992 - val_loss: 0.0688 - val_accuracy: 0.6913\n",
      "Epoch 3/20\n",
      "500/500 [==============================] - 28s 56ms/step - loss: 0.0578 - accuracy: 0.7276 - val_loss: 0.0695 - val_accuracy: 0.6985\n",
      "Epoch 4/20\n",
      "500/500 [==============================] - 29s 57ms/step - loss: 0.0501 - accuracy: 0.7491 - val_loss: 0.0686 - val_accuracy: 0.7103\n",
      "Epoch 5/20\n",
      "500/500 [==============================] - 29s 57ms/step - loss: 0.0432 - accuracy: 0.7687 - val_loss: 0.0681 - val_accuracy: 0.7113\n",
      "Epoch 6/20\n",
      "500/500 [==============================] - 28s 56ms/step - loss: 0.0357 - accuracy: 0.7915 - val_loss: 0.0751 - val_accuracy: 0.7045\n",
      "Epoch 7/20\n",
      "500/500 [==============================] - 28s 56ms/step - loss: 0.0298 - accuracy: 0.8074 - val_loss: 0.0776 - val_accuracy: 0.7053\n",
      "Epoch 8/20\n",
      "500/500 [==============================] - 28s 56ms/step - loss: 0.0245 - accuracy: 0.8222 - val_loss: 0.0835 - val_accuracy: 0.7070\n",
      "Epoch 9/20\n",
      "500/500 [==============================] - 28s 56ms/step - loss: 0.0201 - accuracy: 0.8296 - val_loss: 0.0909 - val_accuracy: 0.7070\n",
      "Epoch 10/20\n",
      "500/500 [==============================] - 28s 56ms/step - loss: 0.0164 - accuracy: 0.8370 - val_loss: 0.0978 - val_accuracy: 0.7098\n",
      "Epoch 11/20\n",
      "500/500 [==============================] - 28s 56ms/step - loss: 0.0139 - accuracy: 0.8445 - val_loss: 0.1078 - val_accuracy: 0.7040\n",
      "Epoch 12/20\n",
      "500/500 [==============================] - 28s 56ms/step - loss: 0.0113 - accuracy: 0.8510 - val_loss: 0.1148 - val_accuracy: 0.7070\n",
      "Epoch 13/20\n",
      "500/500 [==============================] - 28s 55ms/step - loss: 0.0103 - accuracy: 0.8506 - val_loss: 0.1148 - val_accuracy: 0.7090\n",
      "Epoch 14/20\n",
      "500/500 [==============================] - 27s 55ms/step - loss: 0.0089 - accuracy: 0.8538 - val_loss: 0.1240 - val_accuracy: 0.7053\n",
      "Epoch 15/20\n",
      "500/500 [==============================] - 28s 56ms/step - loss: 0.0076 - accuracy: 0.8566 - val_loss: 0.1324 - val_accuracy: 0.7085\n",
      "Epoch 16/20\n",
      "500/500 [==============================] - 27s 55ms/step - loss: 0.0069 - accuracy: 0.8592 - val_loss: 0.1473 - val_accuracy: 0.7005\n",
      "Epoch 17/20\n",
      "500/500 [==============================] - 27s 55ms/step - loss: 0.0061 - accuracy: 0.8589 - val_loss: 0.1423 - val_accuracy: 0.7155\n",
      "Epoch 18/20\n",
      "500/500 [==============================] - 28s 56ms/step - loss: 0.0052 - accuracy: 0.8632 - val_loss: 0.1505 - val_accuracy: 0.7095\n",
      "Epoch 19/20\n",
      "500/500 [==============================] - 27s 55ms/step - loss: 0.0049 - accuracy: 0.8636 - val_loss: 0.1536 - val_accuracy: 0.7098\n",
      "Epoch 20/20\n",
      "500/500 [==============================] - 27s 55ms/step - loss: 0.0047 - accuracy: 0.8576 - val_loss: 0.1575 - val_accuracy: 0.7053\n"
     ]
    },
    {
     "name": "stderr",
     "output_type": "stream",
     "text": [
      "INFO:absl:TPU has inputs with dynamic shapes: [<tf.Tensor 'Const:0' shape=() dtype=int32>, <tf.Tensor 'cond_8/Identity:0' shape=(None, 210) dtype=int32>, <tf.Tensor 'cond_8/Identity_1:0' shape=(None, 210) dtype=int32>]\n"
     ]
    },
    {
     "name": "stdout",
     "output_type": "stream",
     "text": [
      "WARNING:tensorflow:The parameters `output_attentions`, `output_hidden_states` and `use_cache` cannot be updated when calling a model.They have to be set to True/False in the config object (i.e.: `config=XConfig.from_pretrained('name', output_attentions=True)`).\n"
     ]
    },
    {
     "name": "stderr",
     "output_type": "stream",
     "text": [
      "WARNING:tensorflow:The parameters `output_attentions`, `output_hidden_states` and `use_cache` cannot be updated when calling a model.They have to be set to True/False in the config object (i.e.: `config=XConfig.from_pretrained('name', output_attentions=True)`).\n"
     ]
    },
    {
     "name": "stdout",
     "output_type": "stream",
     "text": [
      "WARNING:tensorflow:The parameter `return_dict` cannot be set in graph mode and will always be set to `True`.\n"
     ]
    },
    {
     "name": "stderr",
     "output_type": "stream",
     "text": [
      "WARNING:tensorflow:The parameter `return_dict` cannot be set in graph mode and will always be set to `True`.\n"
     ]
    },
    {
     "name": "stdout",
     "output_type": "stream",
     "text": [
      "\n",
      "Temps d'entrainements pour 20 epochs : 626 secondes.\n",
      "Meilleure train_acc = 0.864, meilleure val_acc = 0.716\n",
      "\n",
      "F1_score obtenu : 0.76\n"
     ]
    },
    {
     "data": {
      "image/png": "[encoded data removed]",
      "text/plain": [
       "<Figure size 720x288 with 1 Axes>"
      ]
     },
     "metadata": {
      "needs_background": "light",
      "tags": []
     },
     "output_type": "display_data"
    }
   ],
   "source": [
    "modelize(model_dist_raw_cased, 20, data, \"model_dist_raw_cased_ft\")"
   ]
  },
  {
   "cell_type": "markdown",
   "metadata": {
    "id": "ifOo67jLiEZA"
   },
   "source": [
    "<br><img src=\"images/distilbert_cased_raw_ft.png\" width = \"600\" heights = \"336\">"
   ]
  },
  {
   "cell_type": "markdown",
   "metadata": {
    "id": "YM3MBI3KiEcB"
   },
   "source": [
    "Nous y reviendrons, mais on peut noter que ce premier résultat est intéressant puisqu'il améliore sensiblement ce que nous avions obtenu lors du **projet 5**, à savoir un **f1_score_weighted** de **0,69**.<br><br>**Remarque :**<br>Toutes les modélisations que nous avons effectuées ont suivi  le cheminement que nous venons de décrire."
   ]
  },
  {
   "cell_type": "markdown",
   "metadata": {
    "id": "bb3R6OtgiEfF"
   },
   "source": [
    " "
   ]
  },
  {
   "cell_type": "markdown",
   "metadata": {
    "id": "0c23P2wqiEiK"
   },
   "source": [
    "## **2-b) DistilBERT uncased données brutes**"
   ]
  },
  {
   "cell_type": "markdown",
   "metadata": {
    "id": "0CWVrhb1iErN"
   },
   "source": [
    " "
   ]
  },
  {
   "cell_type": "markdown",
   "metadata": {},
   "source": [
    "**Chargement du modèle**"
   ]
  },
  {
   "cell_type": "code",
   "execution_count": null,
   "metadata": {
    "colab": {
     "base_uri": "https://localhost:8080/",
     "height": 168,
     "referenced_widgets": [
      "40573e7ffe0d491986e88d41574d201e",
      "29f1273753dd49a2b82dd08619b06f8d",
      "32dfb11bb2c4425c8854b57a12673b6b",
      "671545c29ce44825a8b5e3d8ea2e2b44",
      "a1eae09b7f364018bdc85f8681c42015",
      "c64fd20be9ce447c91c8897b2d8ed43c",
      "1d2e6a5560af469da4d68620f79769b2",
      "831473fa6b7c4b5e9ed740f0ec2fb0b9",
      "045706ea790c41f281d1944d706e1f85",
      "8dcf8948835c436b8e628cf88dd9b5ec",
      "3b0af3da45b747b19a81d5445507ed00",
      "84daa860bb72412bb0f699aa37a219a4",
      "80421cb485004914b805b283811dd51b",
      "b208f6a309bb4b2bbdb385865b5c28fe",
      "508f19aa9ae24a098255b7365ca403aa",
      "fc0d79987a354f999681d0f7e2d5beb0",
      "4c4a0d5a3c3f458db89de8bbf9436ba5",
      "f0a7abe1389b4299a6bbbd7a3d73eb41",
      "bce8adb256db430492e0fe4aacc010be",
      "29d264f44f0343c684424c02497983ce",
      "f342dd090cea420b83b3fd53a520ad04",
      "5e6c50d578b744eeb67e3ca5486750e4",
      "c4944a105313430b98918f7bf4ecbab9",
      "ef7a48b690984c8aa77b062c1b48c87e"
     ]
    },
    "collapsed": true,
    "id": "hvQDCyBG-M2O",
    "jupyter": {
     "outputs_hidden": true
    },
    "outputId": "a400f49d-fb47-4b6d-a357-9bc294afc50b"
   },
   "outputs": [
    {
     "data": {
      "application/vnd.jupyter.widget-view+json": {
       "model_id": "40573e7ffe0d491986e88d41574d201e",
       "version_major": 2,
       "version_minor": 0
      },
      "text/plain": [
       "HBox(children=(FloatProgress(value=0.0, description='Downloading', max=231508.0, style=ProgressStyle(descripti…"
      ]
     },
     "metadata": {
      "tags": []
     },
     "output_type": "display_data"
    },
    {
     "name": "stdout",
     "output_type": "stream",
     "text": [
      "\n"
     ]
    },
    {
     "data": {
      "application/vnd.jupyter.widget-view+json": {
       "model_id": "045706ea790c41f281d1944d706e1f85",
       "version_major": 2,
       "version_minor": 0
      },
      "text/plain": [
       "HBox(children=(FloatProgress(value=0.0, description='Downloading', max=466062.0, style=ProgressStyle(descripti…"
      ]
     },
     "metadata": {
      "tags": []
     },
     "output_type": "display_data"
    },
    {
     "name": "stdout",
     "output_type": "stream",
     "text": [
      "\n"
     ]
    },
    {
     "data": {
      "application/vnd.jupyter.widget-view+json": {
       "model_id": "4c4a0d5a3c3f458db89de8bbf9436ba5",
       "version_major": 2,
       "version_minor": 0
      },
      "text/plain": [
       "HBox(children=(FloatProgress(value=0.0, description='Downloading', max=28.0, style=ProgressStyle(description_w…"
      ]
     },
     "metadata": {
      "tags": []
     },
     "output_type": "display_data"
    },
    {
     "name": "stdout",
     "output_type": "stream",
     "text": [
      "\n"
     ]
    }
   ],
   "source": [
    "model_name = 'distilbert-base-uncased'\n",
    "tokenizer = DistilBertTokenizerFast.from_pretrained(model_name)"
   ]
  },
  {
   "cell_type": "markdown",
   "metadata": {
    "id": "qS-2T5S1yOGU"
   },
   "source": [
    "**Encodage**"
   ]
  },
  {
   "cell_type": "code",
   "execution_count": null,
   "metadata": {
    "colab": {
     "base_uri": "https://localhost:8080/"
    },
    "id": "d7EIGBYT-M7w",
    "outputId": "21e689f4-6e29-4ced-ec54-5c8747ec2a58"
   },
   "outputs": [
    {
     "name": "stdout",
     "output_type": "stream",
     "text": [
      "L'encodage a pris : 21 secondes.\n"
     ]
    }
   ],
   "source": [
    "start = time()\n",
    "X_train_ids, X_train_attention = batch_encode(tokenizer, X_train)\n",
    "X_test_ids, X_test_attention = batch_encode(tokenizer, X_test)\n",
    "print(f\"L'encodage a pris : {time()-start:.0f} secondes.\")"
   ]
  },
  {
   "cell_type": "markdown",
   "metadata": {},
   "source": [
    "**Création du modèle**"
   ]
  },
  {
   "cell_type": "code",
   "execution_count": null,
   "metadata": {
    "id": "O3zWLJ_D-0Kz"
   },
   "outputs": [],
   "source": [
    "def build_distil_model(max_length = MAX_LENGTH):\n",
    "\n",
    "    distilBERT = TFDistilBertModel.from_pretrained('distilbert-base-uncased')\n",
    "\n",
    "    for layer in distilBERT.layers:\n",
    "        layer.trainable = False\n",
    "\n",
    "    input_ids_layer = tf.keras.layers.Input(shape=(max_length,), \n",
    "                                            name='input_ids', \n",
    "                                            dtype='int32')\n",
    "    input_attention_layer = tf.keras.layers.Input(shape=(max_length,), \n",
    "                                                  name='input_attention', \n",
    "                                                  dtype='int32')\n",
    "    \n",
    "    last_hidden_state = distilBERT([input_ids_layer, input_attention_layer])[0]\n",
    "\n",
    "    cls_token = last_hidden_state[:, 0, :]\n",
    "    \n",
    "    output = tf.keras.layers.Dense(25, \n",
    "                                   activation='sigmoid'\n",
    "                                   )(cls_token)\n",
    "    \n",
    "    model = tf.keras.Model([input_ids_layer, input_attention_layer], output)\n",
    "\n",
    "    model.compile(tf.keras.optimizers.Adam(),\n",
    "                  loss = 'binary_crossentropy',\n",
    "                  metrics='accuracy')\n",
    "    \n",
    "    return model"
   ]
  },
  {
   "cell_type": "code",
   "execution_count": null,
   "metadata": {
    "colab": {
     "base_uri": "https://localhost:8080/",
     "height": 1000,
     "referenced_widgets": [
      "0ec53080b2a447cd8a548fbb51b691b5",
      "6ee74ed72615489ebae47ee6f302ef5e",
      "f7456ce098c440ad86d7fd9580fb1983",
      "5b78c057a0eb4a7486bd6c0e2046dff4",
      "dd2e5970199a4c82a0423fd9b1f407a4",
      "0d145c336a9841c387702fe81cd11aa0",
      "929186e3ca7746b1978dd8bad2e8717b",
      "1d17dcea989f46dfa7c7f47972d1aa7a",
      "fe1ce75e3df146259b81c02b0e74ecfe",
      "dd1c0cb7765c462c8edf89643f068dcc",
      "554b0dd32d544c81891ee4ac0efa4347",
      "6ef2df21f32b4314a9291f1cb0554aa0",
      "e7a4727372124e68ae44d6da14b453b5",
      "588cef5ebb244242877bb503c1ee50c5",
      "12272b697fd649e691f7e8d7ba1d5902",
      "68c35052761e46efaa04b52f4da66a43"
     ]
    },
    "collapsed": true,
    "id": "CuaYkoxY-0Nc",
    "jupyter": {
     "outputs_hidden": true
    },
    "outputId": "285d5849-dd0d-4958-c016-6dacd98f88de"
   },
   "outputs": [
    {
     "data": {
      "application/vnd.jupyter.widget-view+json": {
       "model_id": "0ec53080b2a447cd8a548fbb51b691b5",
       "version_major": 2,
       "version_minor": 0
      },
      "text/plain": [
       "HBox(children=(FloatProgress(value=0.0, description='Downloading', max=442.0, style=ProgressStyle(description_…"
      ]
     },
     "metadata": {
      "tags": []
     },
     "output_type": "display_data"
    },
    {
     "name": "stdout",
     "output_type": "stream",
     "text": [
      "\n"
     ]
    },
    {
     "data": {
      "application/vnd.jupyter.widget-view+json": {
       "model_id": "fe1ce75e3df146259b81c02b0e74ecfe",
       "version_major": 2,
       "version_minor": 0
      },
      "text/plain": [
       "HBox(children=(FloatProgress(value=0.0, description='Downloading', max=363423424.0, style=ProgressStyle(descri…"
      ]
     },
     "metadata": {
      "tags": []
     },
     "output_type": "display_data"
    },
    {
     "name": "stdout",
     "output_type": "stream",
     "text": [
      "\n"
     ]
    },
    {
     "name": "stderr",
     "output_type": "stream",
     "text": [
      "Some layers from the model checkpoint at distilbert-base-uncased were not used when initializing TFDistilBertModel: ['activation_13', 'vocab_transform', 'vocab_layer_norm', 'vocab_projector']\n",
      "- This IS expected if you are initializing TFDistilBertModel from the checkpoint of a model trained on another task or with another architecture (e.g. initializing a BertForSequenceClassification model from a BertForPreTraining model).\n",
      "- This IS NOT expected if you are initializing TFDistilBertModel from the checkpoint of a model that you expect to be exactly identical (initializing a BertForSequenceClassification model from a BertForSequenceClassification model).\n",
      "All the layers of TFDistilBertModel were initialized from the model checkpoint at distilbert-base-uncased.\n",
      "If your task is similar to the task the model of the checkpoint was trained on, you can already use TFDistilBertModel for predictions without further training.\n"
     ]
    },
    {
     "name": "stdout",
     "output_type": "stream",
     "text": [
      "WARNING:tensorflow:The parameters `output_attentions`, `output_hidden_states` and `use_cache` cannot be updated when calling a model.They have to be set to True/False in the config object (i.e.: `config=XConfig.from_pretrained('name', output_attentions=True)`).\n",
      "WARNING:tensorflow:AutoGraph could not transform <bound method Socket.send of <zmq.sugar.socket.Socket object at 0x7f4357936d70>> and will run it as-is.\n",
      "Please report this to the TensorFlow team. When filing the bug, set the verbosity to 10 (on Linux, `export AUTOGRAPH_VERBOSITY=10`) and attach the full output.\n",
      "Cause: module, class, method, function, traceback, frame, or code object was expected, got cython_function_or_method\n",
      "To silence this warning, decorate the function with @tf.autograph.experimental.do_not_convert\n"
     ]
    },
    {
     "name": "stderr",
     "output_type": "stream",
     "text": [
      "WARNING:tensorflow:AutoGraph could not transform <bound method Socket.send of <zmq.sugar.socket.Socket object at 0x7f4357936d70>> and will run it as-is.\n",
      "Please report this to the TensorFlow team. When filing the bug, set the verbosity to 10 (on Linux, `export AUTOGRAPH_VERBOSITY=10`) and attach the full output.\n",
      "Cause: module, class, method, function, traceback, frame, or code object was expected, got cython_function_or_method\n",
      "To silence this warning, decorate the function with @tf.autograph.experimental.do_not_convert\n"
     ]
    },
    {
     "name": "stdout",
     "output_type": "stream",
     "text": [
      "WARNING: AutoGraph could not transform <bound method Socket.send of <zmq.sugar.socket.Socket object at 0x7f4357936d70>> and will run it as-is.\n",
      "Please report this to the TensorFlow team. When filing the bug, set the verbosity to 10 (on Linux, `export AUTOGRAPH_VERBOSITY=10`) and attach the full output.\n",
      "Cause: module, class, method, function, traceback, frame, or code object was expected, got cython_function_or_method\n",
      "To silence this warning, decorate the function with @tf.autograph.experimental.do_not_convert\n"
     ]
    },
    {
     "name": "stderr",
     "output_type": "stream",
     "text": [
      "WARNING:tensorflow:The parameters `output_attentions`, `output_hidden_states` and `use_cache` cannot be updated when calling a model.They have to be set to True/False in the config object (i.e.: `config=XConfig.from_pretrained('name', output_attentions=True)`).\n"
     ]
    },
    {
     "name": "stdout",
     "output_type": "stream",
     "text": [
      "WARNING:tensorflow:AutoGraph could not transform <function wrap at 0x7f4376c60dd0> and will run it as-is.\n",
      "Cause: while/else statement not yet supported\n",
      "To silence this warning, decorate the function with @tf.autograph.experimental.do_not_convert\n"
     ]
    },
    {
     "name": "stderr",
     "output_type": "stream",
     "text": [
      "WARNING:tensorflow:AutoGraph could not transform <function wrap at 0x7f4376c60dd0> and will run it as-is.\n",
      "Cause: while/else statement not yet supported\n",
      "To silence this warning, decorate the function with @tf.autograph.experimental.do_not_convert\n"
     ]
    },
    {
     "name": "stdout",
     "output_type": "stream",
     "text": [
      "WARNING:tensorflow:The parameter `return_dict` cannot be set in graph mode and will always be set to `True`.\n",
      "WARNING: AutoGraph could not transform <function wrap at 0x7f4376c60dd0> and will run it as-is.\n",
      "Cause: while/else statement not yet supported\n",
      "To silence this warning, decorate the function with @tf.autograph.experimental.do_not_convert\n"
     ]
    },
    {
     "name": "stderr",
     "output_type": "stream",
     "text": [
      "WARNING:tensorflow:The parameter `return_dict` cannot be set in graph mode and will always be set to `True`.\n"
     ]
    },
    {
     "name": "stdout",
     "output_type": "stream",
     "text": [
      "WARNING:tensorflow:From /usr/local/lib/python3.7/dist-packages/tensorflow/python/ops/array_ops.py:5049: calling gather (from tensorflow.python.ops.array_ops) with validate_indices is deprecated and will be removed in a future version.\n",
      "Instructions for updating:\n",
      "The `validate_indices` argument has no effect. Indices are always validated on CPU and never validated on GPU.\n"
     ]
    },
    {
     "name": "stderr",
     "output_type": "stream",
     "text": [
      "WARNING:tensorflow:From /usr/local/lib/python3.7/dist-packages/tensorflow/python/ops/array_ops.py:5049: calling gather (from tensorflow.python.ops.array_ops) with validate_indices is deprecated and will be removed in a future version.\n",
      "Instructions for updating:\n",
      "The `validate_indices` argument has no effect. Indices are always validated on CPU and never validated on GPU.\n"
     ]
    },
    {
     "name": "stdout",
     "output_type": "stream",
     "text": [
      "Model: \"model\"\n",
      "__________________________________________________________________________________________________\n",
      "Layer (type)                    Output Shape         Param #     Connected to                     \n",
      "==================================================================================================\n",
      "input_ids (InputLayer)          [(None, 512)]        0                                            \n",
      "__________________________________________________________________________________________________\n",
      "input_attention (InputLayer)    [(None, 512)]        0                                            \n",
      "__________________________________________________________________________________________________\n",
      "tf_distil_bert_model (TFDistilB TFBaseModelOutput(la 66362880    input_ids[0][0]                  \n",
      "                                                                 input_attention[0][0]            \n",
      "__________________________________________________________________________________________________\n",
      "tf.__operators__.getitem (Slici (None, 768)          0           tf_distil_bert_model[0][0]       \n",
      "__________________________________________________________________________________________________\n",
      "dense (Dense)                   (None, 25)           19225       tf.__operators__.getitem[0][0]   \n",
      "==================================================================================================\n",
      "Total params: 66,382,105\n",
      "Trainable params: 19,225\n",
      "Non-trainable params: 66,362,880\n",
      "__________________________________________________________________________________________________\n"
     ]
    }
   ],
   "source": [
    "with strategy.scope():\n",
    "    model_dist_raw = build_distil_model()\n",
    "    model_dist_raw.summary()"
   ]
  },
  {
   "cell_type": "markdown",
   "metadata": {},
   "source": [
    "**Représentation du modèle**"
   ]
  },
  {
   "cell_type": "code",
   "execution_count": null,
   "metadata": {
    "colab": {
     "base_uri": "https://localhost:8080/",
     "height": 422
    },
    "id": "jTU3Qycb-0QG",
    "outputId": "84a7e99f-ddb6-4387-cf8b-0677b9acee28"
   },
   "outputs": [
    {
     "data": {
      "image/png": "[encoded data removed]",
      "text/plain": [
       "<IPython.core.display.Image object>"
      ]
     },
     "execution_count": 19,
     "metadata": {
      "tags": []
     },
     "output_type": "execute_result"
    }
   ],
   "source": [
    "tf.keras.utils.plot_model(model_dist_raw, \"model_dist_raw.png\", show_shapes=True)"
   ]
  },
  {
   "cell_type": "code",
   "execution_count": null,
   "metadata": {
    "colab": {
     "base_uri": "https://localhost:8080/",
     "height": 1000
    },
    "collapsed": true,
    "id": "5Q86qCt8w8H3",
    "jupyter": {
     "outputs_hidden": true
    },
    "outputId": "7c9a1279-4428-4df1-bbf8-622b577eae0b"
   },
   "outputs": [
    {
     "name": "stdout",
     "output_type": "stream",
     "text": [
      "Epoch 1/50\n",
      "WARNING:tensorflow:The parameters `output_attentions`, `output_hidden_states` and `use_cache` cannot be updated when calling a model.They have to be set to True/False in the config object (i.e.: `config=XConfig.from_pretrained('name', output_attentions=True)`).\n"
     ]
    },
    {
     "name": "stderr",
     "output_type": "stream",
     "text": [
      "WARNING:tensorflow:The parameters `output_attentions`, `output_hidden_states` and `use_cache` cannot be updated when calling a model.They have to be set to True/False in the config object (i.e.: `config=XConfig.from_pretrained('name', output_attentions=True)`).\n"
     ]
    },
    {
     "name": "stdout",
     "output_type": "stream",
     "text": [
      "WARNING:tensorflow:The parameter `return_dict` cannot be set in graph mode and will always be set to `True`.\n"
     ]
    },
    {
     "name": "stderr",
     "output_type": "stream",
     "text": [
      "WARNING:tensorflow:The parameter `return_dict` cannot be set in graph mode and will always be set to `True`.\n"
     ]
    },
    {
     "name": "stdout",
     "output_type": "stream",
     "text": [
      "WARNING:tensorflow:The parameters `output_attentions`, `output_hidden_states` and `use_cache` cannot be updated when calling a model.They have to be set to True/False in the config object (i.e.: `config=XConfig.from_pretrained('name', output_attentions=True)`).\n"
     ]
    },
    {
     "name": "stderr",
     "output_type": "stream",
     "text": [
      "WARNING:tensorflow:The parameters `output_attentions`, `output_hidden_states` and `use_cache` cannot be updated when calling a model.They have to be set to True/False in the config object (i.e.: `config=XConfig.from_pretrained('name', output_attentions=True)`).\n"
     ]
    },
    {
     "name": "stdout",
     "output_type": "stream",
     "text": [
      "WARNING:tensorflow:The parameter `return_dict` cannot be set in graph mode and will always be set to `True`.\n"
     ]
    },
    {
     "name": "stderr",
     "output_type": "stream",
     "text": [
      "WARNING:tensorflow:The parameter `return_dict` cannot be set in graph mode and will always be set to `True`.\n"
     ]
    },
    {
     "name": "stdout",
     "output_type": "stream",
     "text": [
      "500/500 [==============================] - ETA: 0s - loss: 0.1862 - accuracy: 0.2551WARNING:tensorflow:The parameters `output_attentions`, `output_hidden_states` and `use_cache` cannot be updated when calling a model.They have to be set to True/False in the config object (i.e.: `config=XConfig.from_pretrained('name', output_attentions=True)`).\n"
     ]
    },
    {
     "name": "stderr",
     "output_type": "stream",
     "text": [
      "WARNING:tensorflow:The parameters `output_attentions`, `output_hidden_states` and `use_cache` cannot be updated when calling a model.They have to be set to True/False in the config object (i.e.: `config=XConfig.from_pretrained('name', output_attentions=True)`).\n"
     ]
    },
    {
     "name": "stdout",
     "output_type": "stream",
     "text": [
      "WARNING:tensorflow:The parameter `return_dict` cannot be set in graph mode and will always be set to `True`.\n"
     ]
    },
    {
     "name": "stderr",
     "output_type": "stream",
     "text": [
      "WARNING:tensorflow:The parameter `return_dict` cannot be set in graph mode and will always be set to `True`.\n"
     ]
    },
    {
     "name": "stdout",
     "output_type": "stream",
     "text": [
      "500/500 [==============================] - 28s 38ms/step - loss: 0.1862 - accuracy: 0.2551 - val_loss: 0.1672 - val_accuracy: 0.3105\n",
      "Epoch 2/50\n",
      "500/500 [==============================] - 16s 31ms/step - loss: 0.1610 - accuracy: 0.3434 - val_loss: 0.1543 - val_accuracy: 0.3683\n",
      "Epoch 3/50\n",
      "500/500 [==============================] - 16s 32ms/step - loss: 0.1508 - accuracy: 0.3915 - val_loss: 0.1459 - val_accuracy: 0.4373\n",
      "Epoch 4/50\n",
      "500/500 [==============================] - 16s 32ms/step - loss: 0.1442 - accuracy: 0.4255 - val_loss: 0.1399 - val_accuracy: 0.4525\n",
      "Epoch 5/50\n",
      "500/500 [==============================] - 16s 32ms/step - loss: 0.1393 - accuracy: 0.4478 - val_loss: 0.1352 - val_accuracy: 0.4643\n",
      "Epoch 6/50\n",
      "500/500 [==============================] - 16s 32ms/step - loss: 0.1353 - accuracy: 0.4603 - val_loss: 0.1317 - val_accuracy: 0.4773\n",
      "Epoch 7/50\n",
      "500/500 [==============================] - 16s 31ms/step - loss: 0.1323 - accuracy: 0.4770 - val_loss: 0.1295 - val_accuracy: 0.4993\n",
      "Epoch 8/50\n",
      "500/500 [==============================] - 16s 31ms/step - loss: 0.1302 - accuracy: 0.4805 - val_loss: 0.1273 - val_accuracy: 0.4908\n",
      "Epoch 9/50\n",
      "500/500 [==============================] - 15s 30ms/step - loss: 0.1280 - accuracy: 0.4925 - val_loss: 0.1255 - val_accuracy: 0.4968\n",
      "Epoch 10/50\n",
      "500/500 [==============================] - 15s 30ms/step - loss: 0.1261 - accuracy: 0.4958 - val_loss: 0.1235 - val_accuracy: 0.5098\n",
      "Epoch 11/50\n",
      "500/500 [==============================] - 16s 32ms/step - loss: 0.1247 - accuracy: 0.4989 - val_loss: 0.1216 - val_accuracy: 0.5120\n",
      "Epoch 12/50\n",
      "500/500 [==============================] - 16s 31ms/step - loss: 0.1233 - accuracy: 0.5066 - val_loss: 0.1212 - val_accuracy: 0.5240\n",
      "Epoch 13/50\n",
      "500/500 [==============================] - 16s 32ms/step - loss: 0.1219 - accuracy: 0.5103 - val_loss: 0.1191 - val_accuracy: 0.5330\n",
      "Epoch 14/50\n",
      "500/500 [==============================] - 16s 32ms/step - loss: 0.1209 - accuracy: 0.5126 - val_loss: 0.1183 - val_accuracy: 0.5290\n",
      "Epoch 15/50\n",
      "500/500 [==============================] - 15s 29ms/step - loss: 0.1201 - accuracy: 0.5183 - val_loss: 0.1184 - val_accuracy: 0.5295\n",
      "Epoch 16/50\n",
      "500/500 [==============================] - 15s 30ms/step - loss: 0.1192 - accuracy: 0.5231 - val_loss: 0.1169 - val_accuracy: 0.5298\n",
      "Epoch 17/50\n",
      "500/500 [==============================] - 15s 29ms/step - loss: 0.1184 - accuracy: 0.5224 - val_loss: 0.1160 - val_accuracy: 0.5353\n",
      "Epoch 18/50\n",
      "500/500 [==============================] - 16s 31ms/step - loss: 0.1175 - accuracy: 0.5272 - val_loss: 0.1152 - val_accuracy: 0.5350\n",
      "Epoch 19/50\n",
      "500/500 [==============================] - 15s 30ms/step - loss: 0.1168 - accuracy: 0.5275 - val_loss: 0.1142 - val_accuracy: 0.5463\n",
      "Epoch 20/50\n",
      "500/500 [==============================] - 16s 31ms/step - loss: 0.1161 - accuracy: 0.5281 - val_loss: 0.1146 - val_accuracy: 0.5248\n",
      "Epoch 21/50\n",
      "500/500 [==============================] - 15s 29ms/step - loss: 0.1159 - accuracy: 0.5295 - val_loss: 0.1131 - val_accuracy: 0.5358\n",
      "Epoch 22/50\n",
      "500/500 [==============================] - 15s 29ms/step - loss: 0.1153 - accuracy: 0.5312 - val_loss: 0.1132 - val_accuracy: 0.5553\n",
      "Epoch 23/50\n",
      "500/500 [==============================] - 16s 31ms/step - loss: 0.1150 - accuracy: 0.5394 - val_loss: 0.1130 - val_accuracy: 0.5450\n",
      "Epoch 24/50\n",
      "500/500 [==============================] - 15s 29ms/step - loss: 0.1144 - accuracy: 0.5347 - val_loss: 0.1123 - val_accuracy: 0.5433\n",
      "Epoch 25/50\n",
      "500/500 [==============================] - 15s 29ms/step - loss: 0.1138 - accuracy: 0.5387 - val_loss: 0.1119 - val_accuracy: 0.5452\n",
      "Epoch 26/50\n",
      "500/500 [==============================] - 15s 29ms/step - loss: 0.1135 - accuracy: 0.5443 - val_loss: 0.1111 - val_accuracy: 0.5445\n",
      "Epoch 27/50\n",
      "500/500 [==============================] - 15s 30ms/step - loss: 0.1129 - accuracy: 0.5424 - val_loss: 0.1114 - val_accuracy: 0.5435\n",
      "Epoch 28/50\n",
      "500/500 [==============================] - 15s 30ms/step - loss: 0.1128 - accuracy: 0.5398 - val_loss: 0.1107 - val_accuracy: 0.5478\n",
      "Epoch 29/50\n",
      "500/500 [==============================] - 15s 29ms/step - loss: 0.1122 - accuracy: 0.5428 - val_loss: 0.1113 - val_accuracy: 0.5488\n",
      "Epoch 30/50\n",
      "500/500 [==============================] - 14s 29ms/step - loss: 0.1123 - accuracy: 0.5430 - val_loss: 0.1101 - val_accuracy: 0.5543\n",
      "Epoch 31/50\n",
      "500/500 [==============================] - 15s 29ms/step - loss: 0.1114 - accuracy: 0.5466 - val_loss: 0.1095 - val_accuracy: 0.5560\n",
      "Epoch 32/50\n",
      "500/500 [==============================] - 16s 31ms/step - loss: 0.1114 - accuracy: 0.5448 - val_loss: 0.1096 - val_accuracy: 0.5620\n",
      "Epoch 33/50\n",
      "500/500 [==============================] - 16s 32ms/step - loss: 0.1110 - accuracy: 0.5445 - val_loss: 0.1091 - val_accuracy: 0.5590\n",
      "Epoch 34/50\n",
      "500/500 [==============================] - 15s 29ms/step - loss: 0.1114 - accuracy: 0.5473 - val_loss: 0.1097 - val_accuracy: 0.5575\n",
      "Epoch 35/50\n",
      "500/500 [==============================] - 15s 29ms/step - loss: 0.1108 - accuracy: 0.5448 - val_loss: 0.1089 - val_accuracy: 0.5573\n",
      "Epoch 36/50\n",
      "500/500 [==============================] - 14s 29ms/step - loss: 0.1103 - accuracy: 0.5434 - val_loss: 0.1085 - val_accuracy: 0.5538\n",
      "Epoch 37/50\n",
      "500/500 [==============================] - 15s 29ms/step - loss: 0.1100 - accuracy: 0.5503 - val_loss: 0.1078 - val_accuracy: 0.5693\n",
      "Epoch 38/50\n",
      "500/500 [==============================] - 16s 31ms/step - loss: 0.1098 - accuracy: 0.5521 - val_loss: 0.1078 - val_accuracy: 0.5653\n",
      "Epoch 39/50\n",
      "500/500 [==============================] - 15s 30ms/step - loss: 0.1094 - accuracy: 0.5545 - val_loss: 0.1081 - val_accuracy: 0.5590\n",
      "Epoch 40/50\n",
      "500/500 [==============================] - 15s 29ms/step - loss: 0.1095 - accuracy: 0.5560 - val_loss: 0.1074 - val_accuracy: 0.5680\n",
      "Epoch 41/50\n",
      "500/500 [==============================] - 15s 29ms/step - loss: 0.1090 - accuracy: 0.5579 - val_loss: 0.1078 - val_accuracy: 0.5630\n",
      "Epoch 42/50\n",
      "500/500 [==============================] - 15s 30ms/step - loss: 0.1089 - accuracy: 0.5559 - val_loss: 0.1075 - val_accuracy: 0.5570\n",
      "Epoch 43/50\n",
      "500/500 [==============================] - 15s 30ms/step - loss: 0.1085 - accuracy: 0.5546 - val_loss: 0.1071 - val_accuracy: 0.5615\n",
      "Epoch 44/50\n",
      "500/500 [==============================] - 15s 30ms/step - loss: 0.1085 - accuracy: 0.5564 - val_loss: 0.1070 - val_accuracy: 0.5613\n",
      "Epoch 45/50\n",
      "500/500 [==============================] - 15s 29ms/step - loss: 0.1086 - accuracy: 0.5609 - val_loss: 0.1071 - val_accuracy: 0.5648\n",
      "Epoch 46/50\n",
      "500/500 [==============================] - 15s 29ms/step - loss: 0.1083 - accuracy: 0.5512 - val_loss: 0.1069 - val_accuracy: 0.5640\n",
      "Epoch 47/50\n",
      "500/500 [==============================] - 15s 29ms/step - loss: 0.1084 - accuracy: 0.5548 - val_loss: 0.1063 - val_accuracy: 0.5575\n",
      "Epoch 48/50\n",
      "500/500 [==============================] - 15s 30ms/step - loss: 0.1080 - accuracy: 0.5576 - val_loss: 0.1064 - val_accuracy: 0.5733\n",
      "Epoch 49/50\n",
      "500/500 [==============================] - 16s 31ms/step - loss: 0.1085 - accuracy: 0.5583 - val_loss: 0.1057 - val_accuracy: 0.5710\n",
      "Epoch 50/50\n",
      "500/500 [==============================] - 15s 29ms/step - loss: 0.1082 - accuracy: 0.5559 - val_loss: 0.1061 - val_accuracy: 0.5680\n"
     ]
    },
    {
     "name": "stderr",
     "output_type": "stream",
     "text": [
      "INFO:absl:TPU has inputs with dynamic shapes: [<tf.Tensor 'Const:0' shape=() dtype=int32>, <tf.Tensor 'cond_8/Identity:0' shape=(None, 512) dtype=int32>, <tf.Tensor 'cond_8/Identity_1:0' shape=(None, 512) dtype=int32>]\n"
     ]
    },
    {
     "name": "stdout",
     "output_type": "stream",
     "text": [
      "WARNING:tensorflow:The parameters `output_attentions`, `output_hidden_states` and `use_cache` cannot be updated when calling a model.They have to be set to True/False in the config object (i.e.: `config=XConfig.from_pretrained('name', output_attentions=True)`).\n"
     ]
    },
    {
     "name": "stderr",
     "output_type": "stream",
     "text": [
      "WARNING:tensorflow:The parameters `output_attentions`, `output_hidden_states` and `use_cache` cannot be updated when calling a model.They have to be set to True/False in the config object (i.e.: `config=XConfig.from_pretrained('name', output_attentions=True)`).\n"
     ]
    },
    {
     "name": "stdout",
     "output_type": "stream",
     "text": [
      "WARNING:tensorflow:The parameter `return_dict` cannot be set in graph mode and will always be set to `True`.\n"
     ]
    },
    {
     "name": "stderr",
     "output_type": "stream",
     "text": [
      "WARNING:tensorflow:The parameter `return_dict` cannot be set in graph mode and will always be set to `True`.\n"
     ]
    },
    {
     "name": "stdout",
     "output_type": "stream",
     "text": [
      "\n",
      "Temps d'entrainements pour 50 epochs : 830 secondes.\n",
      "Meilleure train_acc = 0.561, meilleure val_acc = 0.573\n",
      "\n",
      "F1_score obtenu : 0.50\n"
     ]
    },
    {
     "data": {
      "image/png": "[encoded data removed]",
      "text/plain": [
       "<Figure size 720x288 with 1 Axes>"
      ]
     },
     "metadata": {
      "needs_background": "light",
      "tags": []
     },
     "output_type": "display_data"
    }
   ],
   "source": [
    "modelize(model_dist_raw, 50, data, \"mod_dist_raw_t\")"
   ]
  },
  {
   "cell_type": "markdown",
   "metadata": {
    "id": "nn3ELA_fSdqx"
   },
   "source": [
    "<br><img src=\"images/distilbert_uncased_raw_t.png\" width = \"600\" heights = \"336\">"
   ]
  },
  {
   "cell_type": "markdown",
   "metadata": {},
   "source": [
    "**Fine-tuning**"
   ]
  },
  {
   "cell_type": "code",
   "execution_count": null,
   "metadata": {
    "id": "xbgvwYSUw8N-"
   },
   "outputs": [],
   "source": [
    "for layer in model_dist_raw.layers :\n",
    "    layer.trainable = True\n",
    "    \n",
    "model_dist_raw.layers[-1].trainable = False"
   ]
  },
  {
   "cell_type": "markdown",
   "metadata": {
    "id": "L-3oFwbkSdt9"
   },
   "source": [
    "**Recompilation**"
   ]
  },
  {
   "cell_type": "code",
   "execution_count": null,
   "metadata": {
    "colab": {
     "base_uri": "https://localhost:8080/"
    },
    "collapsed": true,
    "id": "-GXJKNw9w8Q-",
    "jupyter": {
     "outputs_hidden": true
    },
    "outputId": "8d6d17d7-1b04-4ca1-df46-5b172778f31e"
   },
   "outputs": [
    {
     "name": "stdout",
     "output_type": "stream",
     "text": [
      "Model: \"model\"\n",
      "__________________________________________________________________________________________________\n",
      "Layer (type)                    Output Shape         Param #     Connected to                     \n",
      "==================================================================================================\n",
      "input_ids (InputLayer)          [(None, 512)]        0                                            \n",
      "__________________________________________________________________________________________________\n",
      "input_attention (InputLayer)    [(None, 512)]        0                                            \n",
      "__________________________________________________________________________________________________\n",
      "tf_distil_bert_model (TFDistilB TFBaseModelOutput(la 66362880    input_ids[0][0]                  \n",
      "                                                                 input_attention[0][0]            \n",
      "__________________________________________________________________________________________________\n",
      "tf.__operators__.getitem (Slici (None, 768)          0           tf_distil_bert_model[0][0]       \n",
      "__________________________________________________________________________________________________\n",
      "dense (Dense)                   (None, 25)           19225       tf.__operators__.getitem[0][0]   \n",
      "==================================================================================================\n",
      "Total params: 66,382,105\n",
      "Trainable params: 66,362,880\n",
      "Non-trainable params: 19,225\n",
      "__________________________________________________________________________________________________\n"
     ]
    }
   ],
   "source": [
    "model_dist_raw.compile(tf.keras.optimizers.Adam(learning_rate = 1e-5),\n",
    "                       loss = 'binary_crossentropy',\n",
    "                       metrics='accuracy')\n",
    "\n",
    "model_dist_raw.summary()"
   ]
  },
  {
   "cell_type": "code",
   "execution_count": null,
   "metadata": {
    "colab": {
     "base_uri": "https://localhost:8080/",
     "height": 1000
    },
    "collapsed": true,
    "id": "ZnHIe4Iuw8Ti",
    "jupyter": {
     "outputs_hidden": true
    },
    "outputId": "82da89ee-017e-491f-9ea1-b8a8fa594b31"
   },
   "outputs": [
    {
     "name": "stdout",
     "output_type": "stream",
     "text": [
      "Epoch 1/20\n",
      "WARNING:tensorflow:The parameters `output_attentions`, `output_hidden_states` and `use_cache` cannot be updated when calling a model.They have to be set to True/False in the config object (i.e.: `config=XConfig.from_pretrained('name', output_attentions=True)`).\n"
     ]
    },
    {
     "name": "stderr",
     "output_type": "stream",
     "text": [
      "WARNING:tensorflow:The parameters `output_attentions`, `output_hidden_states` and `use_cache` cannot be updated when calling a model.They have to be set to True/False in the config object (i.e.: `config=XConfig.from_pretrained('name', output_attentions=True)`).\n"
     ]
    },
    {
     "name": "stdout",
     "output_type": "stream",
     "text": [
      "WARNING:tensorflow:The parameter `return_dict` cannot be set in graph mode and will always be set to `True`.\n"
     ]
    },
    {
     "name": "stderr",
     "output_type": "stream",
     "text": [
      "WARNING:tensorflow:The parameter `return_dict` cannot be set in graph mode and will always be set to `True`.\n"
     ]
    },
    {
     "name": "stdout",
     "output_type": "stream",
     "text": [
      "WARNING:tensorflow:The parameters `output_attentions`, `output_hidden_states` and `use_cache` cannot be updated when calling a model.They have to be set to True/False in the config object (i.e.: `config=XConfig.from_pretrained('name', output_attentions=True)`).\n"
     ]
    },
    {
     "name": "stderr",
     "output_type": "stream",
     "text": [
      "WARNING:tensorflow:The parameters `output_attentions`, `output_hidden_states` and `use_cache` cannot be updated when calling a model.They have to be set to True/False in the config object (i.e.: `config=XConfig.from_pretrained('name', output_attentions=True)`).\n"
     ]
    },
    {
     "name": "stdout",
     "output_type": "stream",
     "text": [
      "WARNING:tensorflow:The parameter `return_dict` cannot be set in graph mode and will always be set to `True`.\n"
     ]
    },
    {
     "name": "stderr",
     "output_type": "stream",
     "text": [
      "WARNING:tensorflow:The parameter `return_dict` cannot be set in graph mode and will always be set to `True`.\n"
     ]
    },
    {
     "name": "stdout",
     "output_type": "stream",
     "text": [
      "500/500 [==============================] - ETA: 0s - loss: 0.0802 - accuracy: 0.6553WARNING:tensorflow:The parameters `output_attentions`, `output_hidden_states` and `use_cache` cannot be updated when calling a model.They have to be set to True/False in the config object (i.e.: `config=XConfig.from_pretrained('name', output_attentions=True)`).\n"
     ]
    },
    {
     "name": "stderr",
     "output_type": "stream",
     "text": [
      "WARNING:tensorflow:The parameters `output_attentions`, `output_hidden_states` and `use_cache` cannot be updated when calling a model.They have to be set to True/False in the config object (i.e.: `config=XConfig.from_pretrained('name', output_attentions=True)`).\n"
     ]
    },
    {
     "name": "stdout",
     "output_type": "stream",
     "text": [
      "WARNING:tensorflow:The parameter `return_dict` cannot be set in graph mode and will always be set to `True`.\n"
     ]
    },
    {
     "name": "stderr",
     "output_type": "stream",
     "text": [
      "WARNING:tensorflow:The parameter `return_dict` cannot be set in graph mode and will always be set to `True`.\n"
     ]
    },
    {
     "name": "stdout",
     "output_type": "stream",
     "text": [
      "500/500 [==============================] - 82s 88ms/step - loss: 0.0802 - accuracy: 0.6553 - val_loss: 0.0720 - val_accuracy: 0.6858\n",
      "Epoch 2/20\n",
      "500/500 [==============================] - 40s 80ms/step - loss: 0.0633 - accuracy: 0.7086 - val_loss: 0.0670 - val_accuracy: 0.6973\n",
      "Epoch 3/20\n",
      "500/500 [==============================] - 40s 80ms/step - loss: 0.0548 - accuracy: 0.7327 - val_loss: 0.0659 - val_accuracy: 0.6930\n",
      "Epoch 4/20\n",
      "500/500 [==============================] - 40s 79ms/step - loss: 0.0471 - accuracy: 0.7525 - val_loss: 0.0650 - val_accuracy: 0.7068\n",
      "Epoch 5/20\n",
      "500/500 [==============================] - 40s 80ms/step - loss: 0.0406 - accuracy: 0.7741 - val_loss: 0.0696 - val_accuracy: 0.7060\n",
      "Epoch 6/20\n",
      "500/500 [==============================] - 39s 78ms/step - loss: 0.0337 - accuracy: 0.7939 - val_loss: 0.0779 - val_accuracy: 0.6928\n",
      "Epoch 7/20\n",
      "500/500 [==============================] - 40s 79ms/step - loss: 0.0276 - accuracy: 0.8092 - val_loss: 0.0782 - val_accuracy: 0.7053\n",
      "Epoch 8/20\n",
      "500/500 [==============================] - 39s 79ms/step - loss: 0.0224 - accuracy: 0.8218 - val_loss: 0.0882 - val_accuracy: 0.7010\n",
      "Epoch 9/20\n",
      "500/500 [==============================] - 39s 79ms/step - loss: 0.0175 - accuracy: 0.8339 - val_loss: 0.0977 - val_accuracy: 0.7055\n",
      "Epoch 10/20\n",
      "500/500 [==============================] - 39s 79ms/step - loss: 0.0145 - accuracy: 0.8414 - val_loss: 0.1053 - val_accuracy: 0.6990\n",
      "Epoch 11/20\n",
      "500/500 [==============================] - 39s 79ms/step - loss: 0.0115 - accuracy: 0.8481 - val_loss: 0.1195 - val_accuracy: 0.7113\n",
      "Epoch 12/20\n",
      "500/500 [==============================] - 40s 80ms/step - loss: 0.0098 - accuracy: 0.8515 - val_loss: 0.1208 - val_accuracy: 0.7053\n",
      "Epoch 13/20\n",
      "500/500 [==============================] - 39s 79ms/step - loss: 0.0082 - accuracy: 0.8543 - val_loss: 0.1294 - val_accuracy: 0.6993\n",
      "Epoch 14/20\n",
      "500/500 [==============================] - 39s 79ms/step - loss: 0.0070 - accuracy: 0.8577 - val_loss: 0.1302 - val_accuracy: 0.7108\n",
      "Epoch 15/20\n",
      "500/500 [==============================] - 39s 79ms/step - loss: 0.0063 - accuracy: 0.8576 - val_loss: 0.1378 - val_accuracy: 0.7083\n",
      "Epoch 16/20\n",
      "500/500 [==============================] - 39s 79ms/step - loss: 0.0055 - accuracy: 0.8606 - val_loss: 0.1460 - val_accuracy: 0.7065\n",
      "Epoch 17/20\n",
      "500/500 [==============================] - 39s 79ms/step - loss: 0.0048 - accuracy: 0.8628 - val_loss: 0.1453 - val_accuracy: 0.7100\n",
      "Epoch 18/20\n",
      "500/500 [==============================] - 39s 79ms/step - loss: 0.0041 - accuracy: 0.8612 - val_loss: 0.1497 - val_accuracy: 0.7048\n",
      "Epoch 19/20\n",
      "500/500 [==============================] - 39s 79ms/step - loss: 0.0039 - accuracy: 0.8595 - val_loss: 0.1523 - val_accuracy: 0.7070\n",
      "Epoch 20/20\n",
      "500/500 [==============================] - 39s 79ms/step - loss: 0.0039 - accuracy: 0.8636 - val_loss: 0.1517 - val_accuracy: 0.7173\n"
     ]
    },
    {
     "name": "stderr",
     "output_type": "stream",
     "text": [
      "INFO:absl:TPU has inputs with dynamic shapes: [<tf.Tensor 'Const:0' shape=() dtype=int32>, <tf.Tensor 'cond_8/Identity:0' shape=(None, 512) dtype=int32>, <tf.Tensor 'cond_8/Identity_1:0' shape=(None, 512) dtype=int32>]\n"
     ]
    },
    {
     "name": "stdout",
     "output_type": "stream",
     "text": [
      "WARNING:tensorflow:The parameters `output_attentions`, `output_hidden_states` and `use_cache` cannot be updated when calling a model.They have to be set to True/False in the config object (i.e.: `config=XConfig.from_pretrained('name', output_attentions=True)`).\n"
     ]
    },
    {
     "name": "stderr",
     "output_type": "stream",
     "text": [
      "WARNING:tensorflow:The parameters `output_attentions`, `output_hidden_states` and `use_cache` cannot be updated when calling a model.They have to be set to True/False in the config object (i.e.: `config=XConfig.from_pretrained('name', output_attentions=True)`).\n"
     ]
    },
    {
     "name": "stdout",
     "output_type": "stream",
     "text": [
      "WARNING:tensorflow:The parameter `return_dict` cannot be set in graph mode and will always be set to `True`.\n"
     ]
    },
    {
     "name": "stderr",
     "output_type": "stream",
     "text": [
      "WARNING:tensorflow:The parameter `return_dict` cannot be set in graph mode and will always be set to `True`.\n"
     ]
    },
    {
     "name": "stdout",
     "output_type": "stream",
     "text": [
      "\n",
      "Temps d'entrainements pour 20 epochs : 857 secondes.\n",
      "Meilleure train_acc = 0.864, meilleure val_acc = 0.717\n",
      "\n",
      "F1_score obtenu : 0.78\n"
     ]
    },
    {
     "data": {
      "image/png": "[encoded data removed]",
      "text/plain": [
       "<Figure size 720x288 with 1 Axes>"
      ]
     },
     "metadata": {
      "needs_background": "light",
      "tags": []
     },
     "output_type": "display_data"
    }
   ],
   "source": [
    "modelize(model_dist_raw, 20, data, \"mod_dist_raw_ft\")"
   ]
  },
  {
   "cell_type": "markdown",
   "metadata": {
    "id": "zjTDPwy-SdxH"
   },
   "source": [
    "<br><img src=\"images/distilbert_uncased_raw_ft.png\" width = \"600\" heights = \"336\">"
   ]
  },
  {
   "cell_type": "markdown",
   "metadata": {},
   "source": [
    "Les résultats sont meilleurs (F1score_weighted : **0.78**) avec la version **uncased** de DistilBERT. Nous utiliserons désormais ce type de version des modèles."
   ]
  },
  {
   "cell_type": "markdown",
   "metadata": {},
   "source": [
    " "
   ]
  },
  {
   "cell_type": "markdown",
   "metadata": {},
   "source": [
    "## **2-c) DistilBERT données \"cleanées\"**"
   ]
  },
  {
   "cell_type": "markdown",
   "metadata": {},
   "source": [
    " "
   ]
  },
  {
   "cell_type": "code",
   "execution_count": null,
   "metadata": {
    "colab": {
     "base_uri": "https://localhost:8080/"
    },
    "id": "U9gyJtCQCFOS",
    "outputId": "90e1f2c0-d097-418e-84e4-2386cb0f803b"
   },
   "outputs": [
    {
     "name": "stdout",
     "output_type": "stream",
     "text": [
      "L'encodage a pris : 21 secondes.\n"
     ]
    }
   ],
   "source": [
    "# encodage données nettoyées\n",
    "start = time()\n",
    "X_train_cl_ids, X_train_cl_attention = batch_encode(tokenizer, X_clean_train)\n",
    "X_test_cl_ids, X_test_cl_attention = batch_encode(tokenizer, X_clean_test)\n",
    "print(f\"L'encodage a pris : {time()-start:.0f} secondes.\")"
   ]
  },
  {
   "cell_type": "code",
   "execution_count": null,
   "metadata": {
    "colab": {
     "base_uri": "https://localhost:8080/"
    },
    "id": "x7XCFoQwwiAz",
    "outputId": "102cfa69-ba41-47b3-f19e-079bac2039b0"
   },
   "outputs": [
    {
     "name": "stdout",
     "output_type": "stream",
     "text": [
      "L'encodage a pris : 19 secondes.\n"
     ]
    }
   ],
   "source": [
    "# encodage données nettoyées et sans stopwords ni ponctuation\n",
    "start = time()\n",
    "X_train_sw_ids, X_train_sw_attention = batch_encode(tokenizer, X_sw_train, max_length=MAX_LENGTH_SW)\n",
    "X_test_sw_ids, X_test_sw_attention = batch_encode(tokenizer, X_sw_test, max_length=MAX_LENGTH_SW)\n",
    "print(f\"L'encodage a pris : {time()-start:.0f} secondes.\")"
   ]
  },
  {
   "cell_type": "code",
   "execution_count": null,
   "metadata": {
    "id": "ezh1yIW69VKK"
   },
   "outputs": [],
   "source": [
    "data_cl = [[X_train_cl_ids, X_train_cl_attention], y_train, [X_test_cl_ids, X_test_cl_attention], y_test]\n",
    "data_sw = [[X_train_sw_ids, X_train_sw_attention], y_train, [X_test_sw_ids, X_test_sw_attention], y_test]"
   ]
  },
  {
   "cell_type": "markdown",
   "metadata": {
    "id": "LArqak2Dx1rZ"
   },
   "source": [
    "**Création du modèle**"
   ]
  },
  {
   "cell_type": "code",
   "execution_count": null,
   "metadata": {
    "colab": {
     "base_uri": "https://localhost:8080/"
    },
    "collapsed": true,
    "id": "_iMuDZcLvUbc",
    "jupyter": {
     "outputs_hidden": true
    },
    "outputId": "acccae2e-28c2-4ebb-d8f9-af8032892cfc"
   },
   "outputs": [
    {
     "name": "stderr",
     "output_type": "stream",
     "text": [
      "Some layers from the model checkpoint at distilbert-base-uncased were not used when initializing TFDistilBertModel: ['activation_13', 'vocab_transform', 'vocab_layer_norm', 'vocab_projector']\n",
      "- This IS expected if you are initializing TFDistilBertModel from the checkpoint of a model trained on another task or with another architecture (e.g. initializing a BertForSequenceClassification model from a BertForPreTraining model).\n",
      "- This IS NOT expected if you are initializing TFDistilBertModel from the checkpoint of a model that you expect to be exactly identical (initializing a BertForSequenceClassification model from a BertForSequenceClassification model).\n",
      "All the layers of TFDistilBertModel were initialized from the model checkpoint at distilbert-base-uncased.\n",
      "If your task is similar to the task the model of the checkpoint was trained on, you can already use TFDistilBertModel for predictions without further training.\n"
     ]
    },
    {
     "name": "stdout",
     "output_type": "stream",
     "text": [
      "WARNING:tensorflow:The parameters `output_attentions`, `output_hidden_states` and `use_cache` cannot be updated when calling a model.They have to be set to True/False in the config object (i.e.: `config=XConfig.from_pretrained('name', output_attentions=True)`).\n"
     ]
    },
    {
     "name": "stderr",
     "output_type": "stream",
     "text": [
      "WARNING:tensorflow:The parameters `output_attentions`, `output_hidden_states` and `use_cache` cannot be updated when calling a model.They have to be set to True/False in the config object (i.e.: `config=XConfig.from_pretrained('name', output_attentions=True)`).\n"
     ]
    },
    {
     "name": "stdout",
     "output_type": "stream",
     "text": [
      "WARNING:tensorflow:The parameter `return_dict` cannot be set in graph mode and will always be set to `True`.\n"
     ]
    },
    {
     "name": "stderr",
     "output_type": "stream",
     "text": [
      "WARNING:tensorflow:The parameter `return_dict` cannot be set in graph mode and will always be set to `True`.\n"
     ]
    }
   ],
   "source": [
    "with strategy.scope():\n",
    "    model_dist_cl = build_distil_model()"
   ]
  },
  {
   "cell_type": "markdown",
   "metadata": {},
   "source": [
    "**Entrainement DistilBERT avec données nettoyées**"
   ]
  },
  {
   "cell_type": "code",
   "execution_count": null,
   "metadata": {
    "colab": {
     "base_uri": "https://localhost:8080/",
     "height": 1000
    },
    "collapsed": true,
    "id": "yIsNCmi2vPEQ",
    "jupyter": {
     "outputs_hidden": true
    },
    "outputId": "bef3274d-8bec-48f6-801f-339614ad617a"
   },
   "outputs": [
    {
     "name": "stdout",
     "output_type": "stream",
     "text": [
      "Epoch 1/50\n",
      "WARNING:tensorflow:The parameters `output_attentions`, `output_hidden_states` and `use_cache` cannot be updated when calling a model.They have to be set to True/False in the config object (i.e.: `config=XConfig.from_pretrained('name', output_attentions=True)`).\n"
     ]
    },
    {
     "name": "stderr",
     "output_type": "stream",
     "text": [
      "WARNING:tensorflow:The parameters `output_attentions`, `output_hidden_states` and `use_cache` cannot be updated when calling a model.They have to be set to True/False in the config object (i.e.: `config=XConfig.from_pretrained('name', output_attentions=True)`).\n"
     ]
    },
    {
     "name": "stdout",
     "output_type": "stream",
     "text": [
      "WARNING:tensorflow:The parameter `return_dict` cannot be set in graph mode and will always be set to `True`.\n"
     ]
    },
    {
     "name": "stderr",
     "output_type": "stream",
     "text": [
      "WARNING:tensorflow:The parameter `return_dict` cannot be set in graph mode and will always be set to `True`.\n"
     ]
    },
    {
     "name": "stdout",
     "output_type": "stream",
     "text": [
      "WARNING:tensorflow:The parameters `output_attentions`, `output_hidden_states` and `use_cache` cannot be updated when calling a model.They have to be set to True/False in the config object (i.e.: `config=XConfig.from_pretrained('name', output_attentions=True)`).\n"
     ]
    },
    {
     "name": "stderr",
     "output_type": "stream",
     "text": [
      "WARNING:tensorflow:The parameters `output_attentions`, `output_hidden_states` and `use_cache` cannot be updated when calling a model.They have to be set to True/False in the config object (i.e.: `config=XConfig.from_pretrained('name', output_attentions=True)`).\n"
     ]
    },
    {
     "name": "stdout",
     "output_type": "stream",
     "text": [
      "WARNING:tensorflow:The parameter `return_dict` cannot be set in graph mode and will always be set to `True`.\n"
     ]
    },
    {
     "name": "stderr",
     "output_type": "stream",
     "text": [
      "WARNING:tensorflow:The parameter `return_dict` cannot be set in graph mode and will always be set to `True`.\n"
     ]
    },
    {
     "name": "stdout",
     "output_type": "stream",
     "text": [
      "499/500 [============================>.] - ETA: 0s - loss: 0.1865 - accuracy: 0.2583WARNING:tensorflow:The parameters `output_attentions`, `output_hidden_states` and `use_cache` cannot be updated when calling a model.They have to be set to True/False in the config object (i.e.: `config=XConfig.from_pretrained('name', output_attentions=True)`).\n"
     ]
    },
    {
     "name": "stderr",
     "output_type": "stream",
     "text": [
      "WARNING:tensorflow:The parameters `output_attentions`, `output_hidden_states` and `use_cache` cannot be updated when calling a model.They have to be set to True/False in the config object (i.e.: `config=XConfig.from_pretrained('name', output_attentions=True)`).\n"
     ]
    },
    {
     "name": "stdout",
     "output_type": "stream",
     "text": [
      "WARNING:tensorflow:The parameter `return_dict` cannot be set in graph mode and will always be set to `True`.\n"
     ]
    },
    {
     "name": "stderr",
     "output_type": "stream",
     "text": [
      "WARNING:tensorflow:The parameter `return_dict` cannot be set in graph mode and will always be set to `True`.\n"
     ]
    },
    {
     "name": "stdout",
     "output_type": "stream",
     "text": [
      "500/500 [==============================] - 29s 39ms/step - loss: 0.1864 - accuracy: 0.2586 - val_loss: 0.1688 - val_accuracy: 0.3085\n",
      "Epoch 2/50\n",
      "500/500 [==============================] - 16s 32ms/step - loss: 0.1632 - accuracy: 0.3315 - val_loss: 0.1568 - val_accuracy: 0.3640\n",
      "Epoch 3/50\n",
      "500/500 [==============================] - 16s 32ms/step - loss: 0.1534 - accuracy: 0.3769 - val_loss: 0.1487 - val_accuracy: 0.3863\n",
      "Epoch 4/50\n",
      "500/500 [==============================] - 16s 32ms/step - loss: 0.1471 - accuracy: 0.4023 - val_loss: 0.1427 - val_accuracy: 0.4453\n",
      "Epoch 5/50\n",
      "500/500 [==============================] - 16s 32ms/step - loss: 0.1421 - accuracy: 0.4232 - val_loss: 0.1405 - val_accuracy: 0.4223\n",
      "Epoch 6/50\n",
      "500/500 [==============================] - 15s 30ms/step - loss: 0.1387 - accuracy: 0.4400 - val_loss: 0.1351 - val_accuracy: 0.4668\n",
      "Epoch 7/50\n",
      "500/500 [==============================] - 16s 32ms/step - loss: 0.1357 - accuracy: 0.4532 - val_loss: 0.1333 - val_accuracy: 0.4753\n",
      "Epoch 8/50\n",
      "500/500 [==============================] - 16s 32ms/step - loss: 0.1334 - accuracy: 0.4588 - val_loss: 0.1307 - val_accuracy: 0.4703\n",
      "Epoch 9/50\n",
      "500/500 [==============================] - 15s 30ms/step - loss: 0.1313 - accuracy: 0.4696 - val_loss: 0.1288 - val_accuracy: 0.4923\n",
      "Epoch 10/50\n",
      "500/500 [==============================] - 16s 32ms/step - loss: 0.1296 - accuracy: 0.4771 - val_loss: 0.1267 - val_accuracy: 0.4998\n",
      "Epoch 11/50\n",
      "500/500 [==============================] - 16s 32ms/step - loss: 0.1277 - accuracy: 0.4856 - val_loss: 0.1255 - val_accuracy: 0.5035\n",
      "Epoch 12/50\n",
      "500/500 [==============================] - 16s 32ms/step - loss: 0.1266 - accuracy: 0.4905 - val_loss: 0.1244 - val_accuracy: 0.5010\n",
      "Epoch 13/50\n",
      "500/500 [==============================] - 15s 30ms/step - loss: 0.1252 - accuracy: 0.4944 - val_loss: 0.1232 - val_accuracy: 0.4983\n",
      "Epoch 14/50\n",
      "500/500 [==============================] - 15s 30ms/step - loss: 0.1245 - accuracy: 0.4977 - val_loss: 0.1224 - val_accuracy: 0.5090\n",
      "Epoch 15/50\n",
      "500/500 [==============================] - 16s 32ms/step - loss: 0.1235 - accuracy: 0.5008 - val_loss: 0.1213 - val_accuracy: 0.5180\n",
      "Epoch 16/50\n",
      "500/500 [==============================] - 16s 33ms/step - loss: 0.1229 - accuracy: 0.5012 - val_loss: 0.1202 - val_accuracy: 0.5205\n",
      "Epoch 17/50\n",
      "500/500 [==============================] - 16s 32ms/step - loss: 0.1216 - accuracy: 0.5073 - val_loss: 0.1200 - val_accuracy: 0.5105\n",
      "Epoch 18/50\n",
      "500/500 [==============================] - 15s 30ms/step - loss: 0.1212 - accuracy: 0.5123 - val_loss: 0.1185 - val_accuracy: 0.5220\n",
      "Epoch 19/50\n",
      "500/500 [==============================] - 16s 32ms/step - loss: 0.1203 - accuracy: 0.5145 - val_loss: 0.1191 - val_accuracy: 0.5205\n",
      "Epoch 20/50\n",
      "500/500 [==============================] - 15s 30ms/step - loss: 0.1195 - accuracy: 0.5178 - val_loss: 0.1181 - val_accuracy: 0.5248\n",
      "Epoch 21/50\n",
      "500/500 [==============================] - 16s 32ms/step - loss: 0.1190 - accuracy: 0.5181 - val_loss: 0.1169 - val_accuracy: 0.5268\n",
      "Epoch 22/50\n",
      "500/500 [==============================] - 16s 32ms/step - loss: 0.1186 - accuracy: 0.5186 - val_loss: 0.1174 - val_accuracy: 0.5218\n",
      "Epoch 23/50\n",
      "500/500 [==============================] - 15s 30ms/step - loss: 0.1178 - accuracy: 0.5218 - val_loss: 0.1157 - val_accuracy: 0.5325\n",
      "Epoch 24/50\n",
      "500/500 [==============================] - 16s 32ms/step - loss: 0.1174 - accuracy: 0.5216 - val_loss: 0.1158 - val_accuracy: 0.5383\n",
      "Epoch 25/50\n",
      "500/500 [==============================] - 16s 32ms/step - loss: 0.1172 - accuracy: 0.5246 - val_loss: 0.1151 - val_accuracy: 0.5395\n",
      "Epoch 26/50\n",
      "500/500 [==============================] - 16s 32ms/step - loss: 0.1168 - accuracy: 0.5275 - val_loss: 0.1156 - val_accuracy: 0.5283\n",
      "Epoch 27/50\n",
      "500/500 [==============================] - 15s 30ms/step - loss: 0.1163 - accuracy: 0.5293 - val_loss: 0.1149 - val_accuracy: 0.5298\n",
      "Epoch 28/50\n",
      "500/500 [==============================] - 15s 30ms/step - loss: 0.1158 - accuracy: 0.5294 - val_loss: 0.1144 - val_accuracy: 0.5368\n",
      "Epoch 29/50\n",
      "500/500 [==============================] - 15s 30ms/step - loss: 0.1153 - accuracy: 0.5319 - val_loss: 0.1137 - val_accuracy: 0.5373\n",
      "Epoch 30/50\n",
      "500/500 [==============================] - 15s 30ms/step - loss: 0.1156 - accuracy: 0.5341 - val_loss: 0.1140 - val_accuracy: 0.5408\n",
      "Epoch 31/50\n",
      "500/500 [==============================] - 16s 32ms/step - loss: 0.1149 - accuracy: 0.5287 - val_loss: 0.1140 - val_accuracy: 0.5345\n",
      "Epoch 32/50\n",
      "500/500 [==============================] - 15s 29ms/step - loss: 0.1148 - accuracy: 0.5327 - val_loss: 0.1127 - val_accuracy: 0.5435\n",
      "Epoch 33/50\n",
      "500/500 [==============================] - 16s 32ms/step - loss: 0.1142 - accuracy: 0.5344 - val_loss: 0.1123 - val_accuracy: 0.5388\n",
      "Epoch 34/50\n",
      "500/500 [==============================] - 15s 30ms/step - loss: 0.1143 - accuracy: 0.5299 - val_loss: 0.1120 - val_accuracy: 0.5490\n",
      "Epoch 35/50\n",
      "500/500 [==============================] - 16s 31ms/step - loss: 0.1137 - accuracy: 0.5330 - val_loss: 0.1124 - val_accuracy: 0.5380\n",
      "Epoch 36/50\n",
      "500/500 [==============================] - 15s 30ms/step - loss: 0.1139 - accuracy: 0.5396 - val_loss: 0.1118 - val_accuracy: 0.5465\n",
      "Epoch 37/50\n",
      "500/500 [==============================] - 15s 30ms/step - loss: 0.1133 - accuracy: 0.5372 - val_loss: 0.1116 - val_accuracy: 0.5378\n",
      "Epoch 38/50\n",
      "500/500 [==============================] - 15s 30ms/step - loss: 0.1132 - accuracy: 0.5426 - val_loss: 0.1115 - val_accuracy: 0.5418\n",
      "Epoch 39/50\n",
      "500/500 [==============================] - 15s 30ms/step - loss: 0.1129 - accuracy: 0.5382 - val_loss: 0.1108 - val_accuracy: 0.5510\n",
      "Epoch 40/50\n",
      "500/500 [==============================] - 15s 31ms/step - loss: 0.1127 - accuracy: 0.5393 - val_loss: 0.1114 - val_accuracy: 0.5528\n",
      "Epoch 41/50\n",
      "500/500 [==============================] - 16s 32ms/step - loss: 0.1127 - accuracy: 0.5392 - val_loss: 0.1109 - val_accuracy: 0.5410\n",
      "Epoch 42/50\n",
      "500/500 [==============================] - 15s 30ms/step - loss: 0.1124 - accuracy: 0.5397 - val_loss: 0.1106 - val_accuracy: 0.5460\n",
      "Epoch 43/50\n",
      "500/500 [==============================] - 15s 29ms/step - loss: 0.1121 - accuracy: 0.5449 - val_loss: 0.1109 - val_accuracy: 0.5490\n",
      "Epoch 44/50\n",
      "500/500 [==============================] - 15s 29ms/step - loss: 0.1122 - accuracy: 0.5388 - val_loss: 0.1109 - val_accuracy: 0.5380\n",
      "Epoch 45/50\n",
      "500/500 [==============================] - 15s 30ms/step - loss: 0.1116 - accuracy: 0.5416 - val_loss: 0.1104 - val_accuracy: 0.5580\n",
      "Epoch 46/50\n",
      "500/500 [==============================] - 16s 31ms/step - loss: 0.1116 - accuracy: 0.5456 - val_loss: 0.1107 - val_accuracy: 0.5555\n",
      "Epoch 47/50\n",
      "500/500 [==============================] - 15s 30ms/step - loss: 0.1115 - accuracy: 0.5404 - val_loss: 0.1104 - val_accuracy: 0.5458\n",
      "Epoch 48/50\n",
      "500/500 [==============================] - 15s 30ms/step - loss: 0.1116 - accuracy: 0.5451 - val_loss: 0.1095 - val_accuracy: 0.5493\n",
      "Epoch 49/50\n",
      "500/500 [==============================] - 15s 30ms/step - loss: 0.1115 - accuracy: 0.5479 - val_loss: 0.1103 - val_accuracy: 0.5500\n",
      "Epoch 50/50\n",
      "500/500 [==============================] - 15s 30ms/step - loss: 0.1110 - accuracy: 0.5436 - val_loss: 0.1100 - val_accuracy: 0.5563\n"
     ]
    },
    {
     "name": "stderr",
     "output_type": "stream",
     "text": [
      "INFO:absl:TPU has inputs with dynamic shapes: [<tf.Tensor 'Const:0' shape=() dtype=int32>, <tf.Tensor 'cond_8/Identity:0' shape=(None, 512) dtype=int32>, <tf.Tensor 'cond_8/Identity_1:0' shape=(None, 512) dtype=int32>]\n"
     ]
    },
    {
     "name": "stdout",
     "output_type": "stream",
     "text": [
      "WARNING:tensorflow:The parameters `output_attentions`, `output_hidden_states` and `use_cache` cannot be updated when calling a model.They have to be set to True/False in the config object (i.e.: `config=XConfig.from_pretrained('name', output_attentions=True)`).\n"
     ]
    },
    {
     "name": "stderr",
     "output_type": "stream",
     "text": [
      "WARNING:tensorflow:The parameters `output_attentions`, `output_hidden_states` and `use_cache` cannot be updated when calling a model.They have to be set to True/False in the config object (i.e.: `config=XConfig.from_pretrained('name', output_attentions=True)`).\n"
     ]
    },
    {
     "name": "stdout",
     "output_type": "stream",
     "text": [
      "WARNING:tensorflow:The parameter `return_dict` cannot be set in graph mode and will always be set to `True`.\n"
     ]
    },
    {
     "name": "stderr",
     "output_type": "stream",
     "text": [
      "WARNING:tensorflow:The parameter `return_dict` cannot be set in graph mode and will always be set to `True`.\n"
     ]
    },
    {
     "name": "stdout",
     "output_type": "stream",
     "text": [
      "\n",
      "Temps d'entrainements pour 50 epochs : 860 secondes.\n",
      "Meilleure train_acc = 0.548, meilleure val_acc = 0.558\n",
      "\n",
      "F1_score obtenu : 0.46\n"
     ]
    },
    {
     "data": {
      "image/png": "[encoded data removed]",
      "text/plain": [
       "<Figure size 720x288 with 1 Axes>"
      ]
     },
     "metadata": {
      "needs_background": "light",
      "tags": []
     },
     "output_type": "display_data"
    }
   ],
   "source": [
    "modelize(model_dist_cl, 50, data_cl, \"mod_dist_cl_t\")"
   ]
  },
  {
   "cell_type": "markdown",
   "metadata": {},
   "source": [
    "<br><img src=\"images/distilbert_uncased_cl_t.png\" width = \"600\" heights = \"336\">"
   ]
  },
  {
   "cell_type": "markdown",
   "metadata": {},
   "source": [
    "**Fine_tuning**"
   ]
  },
  {
   "cell_type": "code",
   "execution_count": null,
   "metadata": {},
   "outputs": [],
   "source": [
    "# Toutes les couches du modèle sont désormais entraînables...\n",
    "for layer in model_dist_cl.layers :\n",
    "    layer.trainable = True\n",
    "    \n",
    "# ...sauf la dernière\n",
    "model_dist_cl.layers[-1].trainable = False\n",
    "\n",
    "# recompilation du modèle avec assignation d'un LR plus petit...\n",
    "model_dist_cl.compile(tf.keras.optimizers.Adam(learning_rate = 1e-5),\n",
    "                       loss = 'binary_crossentropy',\n",
    "                       metrics='accuracy')"
   ]
  },
  {
   "cell_type": "code",
   "execution_count": null,
   "metadata": {
    "colab": {
     "base_uri": "https://localhost:8080/",
     "height": 1000
    },
    "collapsed": true,
    "id": "pfZ2gN1qqh_9",
    "jupyter": {
     "outputs_hidden": true
    },
    "outputId": "cb2da952-8c47-4f09-912d-fa8c1b201da7"
   },
   "outputs": [
    {
     "name": "stdout",
     "output_type": "stream",
     "text": [
      "Epoch 1/20\n",
      "WARNING:tensorflow:The parameters `output_attentions`, `output_hidden_states` and `use_cache` cannot be updated when calling a model.They have to be set to True/False in the config object (i.e.: `config=XConfig.from_pretrained('name', output_attentions=True)`).\n"
     ]
    },
    {
     "name": "stderr",
     "output_type": "stream",
     "text": [
      "WARNING:tensorflow:The parameters `output_attentions`, `output_hidden_states` and `use_cache` cannot be updated when calling a model.They have to be set to True/False in the config object (i.e.: `config=XConfig.from_pretrained('name', output_attentions=True)`).\n"
     ]
    },
    {
     "name": "stdout",
     "output_type": "stream",
     "text": [
      "WARNING:tensorflow:The parameter `return_dict` cannot be set in graph mode and will always be set to `True`.\n"
     ]
    },
    {
     "name": "stderr",
     "output_type": "stream",
     "text": [
      "WARNING:tensorflow:The parameter `return_dict` cannot be set in graph mode and will always be set to `True`.\n"
     ]
    },
    {
     "name": "stdout",
     "output_type": "stream",
     "text": [
      "WARNING:tensorflow:The parameters `output_attentions`, `output_hidden_states` and `use_cache` cannot be updated when calling a model.They have to be set to True/False in the config object (i.e.: `config=XConfig.from_pretrained('name', output_attentions=True)`).\n"
     ]
    },
    {
     "name": "stderr",
     "output_type": "stream",
     "text": [
      "WARNING:tensorflow:The parameters `output_attentions`, `output_hidden_states` and `use_cache` cannot be updated when calling a model.They have to be set to True/False in the config object (i.e.: `config=XConfig.from_pretrained('name', output_attentions=True)`).\n"
     ]
    },
    {
     "name": "stdout",
     "output_type": "stream",
     "text": [
      "WARNING:tensorflow:The parameter `return_dict` cannot be set in graph mode and will always be set to `True`.\n"
     ]
    },
    {
     "name": "stderr",
     "output_type": "stream",
     "text": [
      "WARNING:tensorflow:The parameter `return_dict` cannot be set in graph mode and will always be set to `True`.\n"
     ]
    },
    {
     "name": "stdout",
     "output_type": "stream",
     "text": [
      "500/500 [==============================] - ETA: 0s - loss: 0.0819 - accuracy: 0.6512WARNING:tensorflow:The parameters `output_attentions`, `output_hidden_states` and `use_cache` cannot be updated when calling a model.They have to be set to True/False in the config object (i.e.: `config=XConfig.from_pretrained('name', output_attentions=True)`).\n"
     ]
    },
    {
     "name": "stderr",
     "output_type": "stream",
     "text": [
      "WARNING:tensorflow:The parameters `output_attentions`, `output_hidden_states` and `use_cache` cannot be updated when calling a model.They have to be set to True/False in the config object (i.e.: `config=XConfig.from_pretrained('name', output_attentions=True)`).\n"
     ]
    },
    {
     "name": "stdout",
     "output_type": "stream",
     "text": [
      "WARNING:tensorflow:The parameter `return_dict` cannot be set in graph mode and will always be set to `True`.\n"
     ]
    },
    {
     "name": "stderr",
     "output_type": "stream",
     "text": [
      "WARNING:tensorflow:The parameter `return_dict` cannot be set in graph mode and will always be set to `True`.\n"
     ]
    },
    {
     "name": "stdout",
     "output_type": "stream",
     "text": [
      "500/500 [==============================] - 84s 89ms/step - loss: 0.0819 - accuracy: 0.6512 - val_loss: 0.0715 - val_accuracy: 0.6818\n",
      "Epoch 2/20\n",
      "500/500 [==============================] - 40s 80ms/step - loss: 0.0649 - accuracy: 0.7035 - val_loss: 0.0671 - val_accuracy: 0.6908\n",
      "Epoch 3/20\n",
      "500/500 [==============================] - 40s 80ms/step - loss: 0.0560 - accuracy: 0.7294 - val_loss: 0.0667 - val_accuracy: 0.6945\n",
      "Epoch 4/20\n",
      "500/500 [==============================] - 40s 80ms/step - loss: 0.0485 - accuracy: 0.7516 - val_loss: 0.0685 - val_accuracy: 0.6940\n",
      "Epoch 5/20\n",
      "500/500 [==============================] - 40s 79ms/step - loss: 0.0423 - accuracy: 0.7699 - val_loss: 0.0707 - val_accuracy: 0.6998\n",
      "Epoch 6/20\n",
      "500/500 [==============================] - 40s 80ms/step - loss: 0.0349 - accuracy: 0.7916 - val_loss: 0.0722 - val_accuracy: 0.7085\n",
      "Epoch 7/20\n",
      "500/500 [==============================] - 40s 80ms/step - loss: 0.0288 - accuracy: 0.8096 - val_loss: 0.0822 - val_accuracy: 0.6960\n",
      "Epoch 8/20\n",
      "500/500 [==============================] - 40s 79ms/step - loss: 0.0236 - accuracy: 0.8232 - val_loss: 0.0916 - val_accuracy: 0.6900\n",
      "Epoch 9/20\n",
      "500/500 [==============================] - 39s 79ms/step - loss: 0.0184 - accuracy: 0.8384 - val_loss: 0.1004 - val_accuracy: 0.6980\n",
      "Epoch 10/20\n",
      "500/500 [==============================] - 40s 79ms/step - loss: 0.0151 - accuracy: 0.8406 - val_loss: 0.1089 - val_accuracy: 0.7003\n",
      "Epoch 11/20\n",
      "500/500 [==============================] - 39s 79ms/step - loss: 0.0122 - accuracy: 0.8486 - val_loss: 0.1141 - val_accuracy: 0.7053\n",
      "Epoch 12/20\n",
      "500/500 [==============================] - 39s 79ms/step - loss: 0.0103 - accuracy: 0.8521 - val_loss: 0.1236 - val_accuracy: 0.7010\n",
      "Epoch 13/20\n",
      "500/500 [==============================] - 40s 79ms/step - loss: 0.0082 - accuracy: 0.8566 - val_loss: 0.1300 - val_accuracy: 0.6978\n",
      "Epoch 14/20\n",
      "500/500 [==============================] - 40s 79ms/step - loss: 0.0074 - accuracy: 0.8598 - val_loss: 0.1360 - val_accuracy: 0.6995\n",
      "Epoch 15/20\n",
      "500/500 [==============================] - 39s 79ms/step - loss: 0.0065 - accuracy: 0.8600 - val_loss: 0.1392 - val_accuracy: 0.6960\n",
      "Epoch 16/20\n",
      "500/500 [==============================] - 39s 79ms/step - loss: 0.0056 - accuracy: 0.8598 - val_loss: 0.1432 - val_accuracy: 0.7030\n",
      "Epoch 17/20\n",
      "500/500 [==============================] - 39s 79ms/step - loss: 0.0049 - accuracy: 0.8637 - val_loss: 0.1453 - val_accuracy: 0.6968\n",
      "Epoch 18/20\n",
      "500/500 [==============================] - 39s 79ms/step - loss: 0.0047 - accuracy: 0.8630 - val_loss: 0.1553 - val_accuracy: 0.6983\n",
      "Epoch 19/20\n",
      "500/500 [==============================] - 39s 79ms/step - loss: 0.0044 - accuracy: 0.8623 - val_loss: 0.1524 - val_accuracy: 0.7018\n",
      "Epoch 20/20\n",
      "500/500 [==============================] - 39s 79ms/step - loss: 0.0040 - accuracy: 0.8613 - val_loss: 0.1574 - val_accuracy: 0.7100\n"
     ]
    },
    {
     "name": "stderr",
     "output_type": "stream",
     "text": [
      "INFO:absl:TPU has inputs with dynamic shapes: [<tf.Tensor 'Const:0' shape=() dtype=int32>, <tf.Tensor 'cond_8/Identity:0' shape=(None, 512) dtype=int32>, <tf.Tensor 'cond_8/Identity_1:0' shape=(None, 512) dtype=int32>]\n"
     ]
    },
    {
     "name": "stdout",
     "output_type": "stream",
     "text": [
      "WARNING:tensorflow:The parameters `output_attentions`, `output_hidden_states` and `use_cache` cannot be updated when calling a model.They have to be set to True/False in the config object (i.e.: `config=XConfig.from_pretrained('name', output_attentions=True)`).\n"
     ]
    },
    {
     "name": "stderr",
     "output_type": "stream",
     "text": [
      "WARNING:tensorflow:The parameters `output_attentions`, `output_hidden_states` and `use_cache` cannot be updated when calling a model.They have to be set to True/False in the config object (i.e.: `config=XConfig.from_pretrained('name', output_attentions=True)`).\n"
     ]
    },
    {
     "name": "stdout",
     "output_type": "stream",
     "text": [
      "WARNING:tensorflow:The parameter `return_dict` cannot be set in graph mode and will always be set to `True`.\n"
     ]
    },
    {
     "name": "stderr",
     "output_type": "stream",
     "text": [
      "WARNING:tensorflow:The parameter `return_dict` cannot be set in graph mode and will always be set to `True`.\n"
     ]
    },
    {
     "name": "stdout",
     "output_type": "stream",
     "text": [
      "\n",
      "Temps d'entrainements pour 20 epochs : 863 secondes.\n",
      "Meilleure train_acc = 0.864, meilleure val_acc = 0.710\n",
      "\n",
      "F1_score obtenu : 0.77\n"
     ]
    },
    {
     "data": {
      "image/png": "[encoded data removed]",
      "text/plain": [
       "<Figure size 720x288 with 1 Axes>"
      ]
     },
     "metadata": {
      "needs_background": "light",
      "tags": []
     },
     "output_type": "display_data"
    }
   ],
   "source": [
    "modelize(model_dist_cl, 20, data_cl, \"mod_dist_cl_ft\") # fine-tuning"
   ]
  },
  {
   "cell_type": "markdown",
   "metadata": {
    "id": "37Z1W8OzqiDG"
   },
   "source": [
    "<br><img src=\"images/distilbert_uncased_cl_ft.png\" width = \"600\" heights = \"336\">"
   ]
  },
  {
   "cell_type": "markdown",
   "metadata": {},
   "source": [
    " "
   ]
  },
  {
   "cell_type": "markdown",
   "metadata": {},
   "source": [
    "**Création du modèle**"
   ]
  },
  {
   "cell_type": "code",
   "execution_count": null,
   "metadata": {
    "colab": {
     "base_uri": "https://localhost:8080/"
    },
    "collapsed": true,
    "id": "fmsWcOPAqiF1",
    "jupyter": {
     "outputs_hidden": true
    },
    "outputId": "cc18a85f-fbf7-4be4-a7f9-e95888c108fa"
   },
   "outputs": [
    {
     "name": "stderr",
     "output_type": "stream",
     "text": [
      "Some layers from the model checkpoint at distilbert-base-uncased were not used when initializing TFDistilBertModel: ['activation_13', 'vocab_transform', 'vocab_layer_norm', 'vocab_projector']\n",
      "- This IS expected if you are initializing TFDistilBertModel from the checkpoint of a model trained on another task or with another architecture (e.g. initializing a BertForSequenceClassification model from a BertForPreTraining model).\n",
      "- This IS NOT expected if you are initializing TFDistilBertModel from the checkpoint of a model that you expect to be exactly identical (initializing a BertForSequenceClassification model from a BertForSequenceClassification model).\n",
      "All the layers of TFDistilBertModel were initialized from the model checkpoint at distilbert-base-uncased.\n",
      "If your task is similar to the task the model of the checkpoint was trained on, you can already use TFDistilBertModel for predictions without further training.\n"
     ]
    },
    {
     "name": "stdout",
     "output_type": "stream",
     "text": [
      "WARNING:tensorflow:The parameters `output_attentions`, `output_hidden_states` and `use_cache` cannot be updated when calling a model.They have to be set to True/False in the config object (i.e.: `config=XConfig.from_pretrained('name', output_attentions=True)`).\n"
     ]
    },
    {
     "name": "stderr",
     "output_type": "stream",
     "text": [
      "WARNING:tensorflow:The parameters `output_attentions`, `output_hidden_states` and `use_cache` cannot be updated when calling a model.They have to be set to True/False in the config object (i.e.: `config=XConfig.from_pretrained('name', output_attentions=True)`).\n"
     ]
    },
    {
     "name": "stdout",
     "output_type": "stream",
     "text": [
      "WARNING:tensorflow:The parameter `return_dict` cannot be set in graph mode and will always be set to `True`.\n"
     ]
    },
    {
     "name": "stderr",
     "output_type": "stream",
     "text": [
      "WARNING:tensorflow:The parameter `return_dict` cannot be set in graph mode and will always be set to `True`.\n"
     ]
    }
   ],
   "source": [
    "with strategy.scope():\n",
    "    model_dist_sw = build_distil_model()"
   ]
  },
  {
   "cell_type": "markdown",
   "metadata": {},
   "source": [
    "**Entrainement DistilBERT avec données nettoyées y compris stopwords et ponctuation**"
   ]
  },
  {
   "cell_type": "code",
   "execution_count": null,
   "metadata": {
    "colab": {
     "base_uri": "https://localhost:8080/",
     "height": 1000
    },
    "collapsed": true,
    "id": "Pgs3r1uQzPHK",
    "jupyter": {
     "outputs_hidden": true
    },
    "outputId": "f115f1ee-7c61-482a-ff08-e925ce0dbd0e"
   },
   "outputs": [
    {
     "name": "stdout",
     "output_type": "stream",
     "text": [
      "Epoch 1/50\n",
      "WARNING:tensorflow:The parameters `output_attentions`, `output_hidden_states` and `use_cache` cannot be updated when calling a model.They have to be set to True/False in the config object (i.e.: `config=XConfig.from_pretrained('name', output_attentions=True)`).\n"
     ]
    },
    {
     "name": "stderr",
     "output_type": "stream",
     "text": [
      "WARNING:tensorflow:The parameters `output_attentions`, `output_hidden_states` and `use_cache` cannot be updated when calling a model.They have to be set to True/False in the config object (i.e.: `config=XConfig.from_pretrained('name', output_attentions=True)`).\n"
     ]
    },
    {
     "name": "stdout",
     "output_type": "stream",
     "text": [
      "WARNING:tensorflow:The parameter `return_dict` cannot be set in graph mode and will always be set to `True`.\n"
     ]
    },
    {
     "name": "stderr",
     "output_type": "stream",
     "text": [
      "WARNING:tensorflow:The parameter `return_dict` cannot be set in graph mode and will always be set to `True`.\n"
     ]
    },
    {
     "name": "stdout",
     "output_type": "stream",
     "text": [
      "WARNING:tensorflow:The parameters `output_attentions`, `output_hidden_states` and `use_cache` cannot be updated when calling a model.They have to be set to True/False in the config object (i.e.: `config=XConfig.from_pretrained('name', output_attentions=True)`).\n"
     ]
    },
    {
     "name": "stderr",
     "output_type": "stream",
     "text": [
      "WARNING:tensorflow:The parameters `output_attentions`, `output_hidden_states` and `use_cache` cannot be updated when calling a model.They have to be set to True/False in the config object (i.e.: `config=XConfig.from_pretrained('name', output_attentions=True)`).\n"
     ]
    },
    {
     "name": "stdout",
     "output_type": "stream",
     "text": [
      "WARNING:tensorflow:The parameter `return_dict` cannot be set in graph mode and will always be set to `True`.\n"
     ]
    },
    {
     "name": "stderr",
     "output_type": "stream",
     "text": [
      "WARNING:tensorflow:The parameter `return_dict` cannot be set in graph mode and will always be set to `True`.\n"
     ]
    },
    {
     "name": "stdout",
     "output_type": "stream",
     "text": [
      "500/500 [==============================] - ETA: 0s - loss: 0.1890 - accuracy: 0.2534WARNING:tensorflow:The parameters `output_attentions`, `output_hidden_states` and `use_cache` cannot be updated when calling a model.They have to be set to True/False in the config object (i.e.: `config=XConfig.from_pretrained('name', output_attentions=True)`).\n"
     ]
    },
    {
     "name": "stderr",
     "output_type": "stream",
     "text": [
      "WARNING:tensorflow:The parameters `output_attentions`, `output_hidden_states` and `use_cache` cannot be updated when calling a model.They have to be set to True/False in the config object (i.e.: `config=XConfig.from_pretrained('name', output_attentions=True)`).\n"
     ]
    },
    {
     "name": "stdout",
     "output_type": "stream",
     "text": [
      "WARNING:tensorflow:The parameter `return_dict` cannot be set in graph mode and will always be set to `True`.\n"
     ]
    },
    {
     "name": "stderr",
     "output_type": "stream",
     "text": [
      "WARNING:tensorflow:The parameter `return_dict` cannot be set in graph mode and will always be set to `True`.\n"
     ]
    },
    {
     "name": "stdout",
     "output_type": "stream",
     "text": [
      "500/500 [==============================] - 29s 39ms/step - loss: 0.1890 - accuracy: 0.2534 - val_loss: 0.1685 - val_accuracy: 0.3175\n",
      "Epoch 2/50\n",
      "500/500 [==============================] - 16s 31ms/step - loss: 0.1617 - accuracy: 0.3367 - val_loss: 0.1555 - val_accuracy: 0.3450\n",
      "Epoch 3/50\n",
      "500/500 [==============================] - 16s 32ms/step - loss: 0.1514 - accuracy: 0.3820 - val_loss: 0.1479 - val_accuracy: 0.3975\n",
      "Epoch 4/50\n",
      "500/500 [==============================] - 16s 31ms/step - loss: 0.1448 - accuracy: 0.4136 - val_loss: 0.1426 - val_accuracy: 0.4520\n",
      "Epoch 5/50\n",
      "500/500 [==============================] - 16s 31ms/step - loss: 0.1402 - accuracy: 0.4309 - val_loss: 0.1384 - val_accuracy: 0.4350\n",
      "Epoch 6/50\n",
      "500/500 [==============================] - 15s 30ms/step - loss: 0.1362 - accuracy: 0.4501 - val_loss: 0.1347 - val_accuracy: 0.4710\n",
      "Epoch 7/50\n",
      "500/500 [==============================] - 16s 32ms/step - loss: 0.1333 - accuracy: 0.4594 - val_loss: 0.1327 - val_accuracy: 0.4865\n",
      "Epoch 8/50\n",
      "500/500 [==============================] - 16s 32ms/step - loss: 0.1308 - accuracy: 0.4726 - val_loss: 0.1299 - val_accuracy: 0.4930\n",
      "Epoch 9/50\n",
      "500/500 [==============================] - 16s 32ms/step - loss: 0.1292 - accuracy: 0.4744 - val_loss: 0.1284 - val_accuracy: 0.4948\n",
      "Epoch 10/50\n",
      "500/500 [==============================] - 16s 31ms/step - loss: 0.1274 - accuracy: 0.4809 - val_loss: 0.1272 - val_accuracy: 0.5003\n",
      "Epoch 11/50\n",
      "500/500 [==============================] - 16s 31ms/step - loss: 0.1257 - accuracy: 0.4889 - val_loss: 0.1265 - val_accuracy: 0.4995\n",
      "Epoch 12/50\n",
      "500/500 [==============================] - 15s 30ms/step - loss: 0.1246 - accuracy: 0.4949 - val_loss: 0.1240 - val_accuracy: 0.5060\n",
      "Epoch 13/50\n",
      "500/500 [==============================] - 16s 32ms/step - loss: 0.1232 - accuracy: 0.4978 - val_loss: 0.1243 - val_accuracy: 0.5140\n",
      "Epoch 14/50\n",
      "500/500 [==============================] - 16s 32ms/step - loss: 0.1225 - accuracy: 0.5061 - val_loss: 0.1230 - val_accuracy: 0.5105\n",
      "Epoch 15/50\n",
      "500/500 [==============================] - 15s 29ms/step - loss: 0.1216 - accuracy: 0.5041 - val_loss: 0.1218 - val_accuracy: 0.5165\n",
      "Epoch 16/50\n",
      "500/500 [==============================] - 16s 32ms/step - loss: 0.1208 - accuracy: 0.5089 - val_loss: 0.1213 - val_accuracy: 0.5160\n",
      "Epoch 17/50\n",
      "500/500 [==============================] - 15s 30ms/step - loss: 0.1199 - accuracy: 0.5098 - val_loss: 0.1202 - val_accuracy: 0.5265\n",
      "Epoch 18/50\n",
      "500/500 [==============================] - 15s 31ms/step - loss: 0.1193 - accuracy: 0.5152 - val_loss: 0.1197 - val_accuracy: 0.5208\n",
      "Epoch 19/50\n",
      "500/500 [==============================] - 15s 30ms/step - loss: 0.1187 - accuracy: 0.5164 - val_loss: 0.1196 - val_accuracy: 0.5183\n",
      "Epoch 20/50\n",
      "500/500 [==============================] - 15s 30ms/step - loss: 0.1182 - accuracy: 0.5179 - val_loss: 0.1188 - val_accuracy: 0.5405\n",
      "Epoch 21/50\n",
      "500/500 [==============================] - 16s 32ms/step - loss: 0.1179 - accuracy: 0.5172 - val_loss: 0.1185 - val_accuracy: 0.5312\n",
      "Epoch 22/50\n",
      "500/500 [==============================] - 15s 30ms/step - loss: 0.1172 - accuracy: 0.5199 - val_loss: 0.1189 - val_accuracy: 0.5163\n",
      "Epoch 23/50\n",
      "500/500 [==============================] - 15s 30ms/step - loss: 0.1169 - accuracy: 0.5216 - val_loss: 0.1174 - val_accuracy: 0.5290\n",
      "Epoch 24/50\n",
      "500/500 [==============================] - 15s 30ms/step - loss: 0.1165 - accuracy: 0.5227 - val_loss: 0.1169 - val_accuracy: 0.5295\n",
      "Epoch 25/50\n",
      "500/500 [==============================] - 15s 30ms/step - loss: 0.1161 - accuracy: 0.5222 - val_loss: 0.1170 - val_accuracy: 0.5413\n",
      "Epoch 26/50\n",
      "500/500 [==============================] - 16s 31ms/step - loss: 0.1159 - accuracy: 0.5253 - val_loss: 0.1167 - val_accuracy: 0.5355\n",
      "Epoch 27/50\n",
      "500/500 [==============================] - 15s 29ms/step - loss: 0.1149 - accuracy: 0.5244 - val_loss: 0.1168 - val_accuracy: 0.5330\n",
      "Epoch 28/50\n",
      "500/500 [==============================] - 15s 30ms/step - loss: 0.1146 - accuracy: 0.5304 - val_loss: 0.1164 - val_accuracy: 0.5333\n",
      "Epoch 29/50\n",
      "500/500 [==============================] - 15s 30ms/step - loss: 0.1145 - accuracy: 0.5299 - val_loss: 0.1160 - val_accuracy: 0.5318\n",
      "Epoch 30/50\n",
      "500/500 [==============================] - 15s 30ms/step - loss: 0.1142 - accuracy: 0.5322 - val_loss: 0.1157 - val_accuracy: 0.5365\n",
      "Epoch 31/50\n",
      "500/500 [==============================] - 15s 30ms/step - loss: 0.1139 - accuracy: 0.5334 - val_loss: 0.1158 - val_accuracy: 0.5283\n",
      "Epoch 32/50\n",
      "500/500 [==============================] - 15s 30ms/step - loss: 0.1138 - accuracy: 0.5334 - val_loss: 0.1157 - val_accuracy: 0.5428\n",
      "Epoch 33/50\n",
      "500/500 [==============================] - 16s 31ms/step - loss: 0.1134 - accuracy: 0.5344 - val_loss: 0.1148 - val_accuracy: 0.5440\n",
      "Epoch 34/50\n",
      "500/500 [==============================] - 17s 34ms/step - loss: 0.1134 - accuracy: 0.5373 - val_loss: 0.1149 - val_accuracy: 0.5360\n",
      "Epoch 35/50\n",
      "500/500 [==============================] - 15s 30ms/step - loss: 0.1132 - accuracy: 0.5359 - val_loss: 0.1145 - val_accuracy: 0.5435\n",
      "Epoch 36/50\n",
      "500/500 [==============================] - 15s 30ms/step - loss: 0.1127 - accuracy: 0.5359 - val_loss: 0.1136 - val_accuracy: 0.5435\n",
      "Epoch 37/50\n",
      "500/500 [==============================] - 15s 29ms/step - loss: 0.1126 - accuracy: 0.5363 - val_loss: 0.1141 - val_accuracy: 0.5408\n",
      "Epoch 38/50\n",
      "500/500 [==============================] - 15s 30ms/step - loss: 0.1124 - accuracy: 0.5361 - val_loss: 0.1142 - val_accuracy: 0.5433\n",
      "Epoch 39/50\n",
      "500/500 [==============================] - 15s 30ms/step - loss: 0.1126 - accuracy: 0.5405 - val_loss: 0.1135 - val_accuracy: 0.5380\n",
      "Epoch 40/50\n",
      "500/500 [==============================] - 15s 30ms/step - loss: 0.1119 - accuracy: 0.5399 - val_loss: 0.1134 - val_accuracy: 0.5380\n",
      "Epoch 41/50\n",
      "500/500 [==============================] - 15s 30ms/step - loss: 0.1117 - accuracy: 0.5394 - val_loss: 0.1127 - val_accuracy: 0.5573\n",
      "Epoch 42/50\n",
      "500/500 [==============================] - 16s 32ms/step - loss: 0.1118 - accuracy: 0.5379 - val_loss: 0.1137 - val_accuracy: 0.5443\n",
      "Epoch 43/50\n",
      "500/500 [==============================] - 15s 30ms/step - loss: 0.1115 - accuracy: 0.5423 - val_loss: 0.1125 - val_accuracy: 0.5600\n",
      "Epoch 44/50\n",
      "500/500 [==============================] - 16s 32ms/step - loss: 0.1113 - accuracy: 0.5390 - val_loss: 0.1126 - val_accuracy: 0.5598\n",
      "Epoch 45/50\n",
      "500/500 [==============================] - 15s 29ms/step - loss: 0.1113 - accuracy: 0.5416 - val_loss: 0.1123 - val_accuracy: 0.5523\n",
      "Epoch 46/50\n",
      "500/500 [==============================] - 15s 30ms/step - loss: 0.1109 - accuracy: 0.5409 - val_loss: 0.1126 - val_accuracy: 0.5575\n",
      "Epoch 47/50\n",
      "500/500 [==============================] - 15s 30ms/step - loss: 0.1108 - accuracy: 0.5420 - val_loss: 0.1124 - val_accuracy: 0.5555\n",
      "Epoch 48/50\n",
      "500/500 [==============================] - 15s 30ms/step - loss: 0.1107 - accuracy: 0.5434 - val_loss: 0.1116 - val_accuracy: 0.5535\n",
      "Epoch 49/50\n",
      "500/500 [==============================] - 15s 30ms/step - loss: 0.1104 - accuracy: 0.5445 - val_loss: 0.1121 - val_accuracy: 0.5475\n",
      "Epoch 50/50\n",
      "500/500 [==============================] - 15s 29ms/step - loss: 0.1106 - accuracy: 0.5449 - val_loss: 0.1118 - val_accuracy: 0.5455\n"
     ]
    },
    {
     "name": "stderr",
     "output_type": "stream",
     "text": [
      "INFO:absl:TPU has inputs with dynamic shapes: [<tf.Tensor 'Const:0' shape=() dtype=int32>, <tf.Tensor 'cond_8/Identity:0' shape=(None, 512) dtype=int32>, <tf.Tensor 'cond_8/Identity_1:0' shape=(None, 512) dtype=int32>]\n"
     ]
    },
    {
     "name": "stdout",
     "output_type": "stream",
     "text": [
      "WARNING:tensorflow:The parameters `output_attentions`, `output_hidden_states` and `use_cache` cannot be updated when calling a model.They have to be set to True/False in the config object (i.e.: `config=XConfig.from_pretrained('name', output_attentions=True)`).\n"
     ]
    },
    {
     "name": "stderr",
     "output_type": "stream",
     "text": [
      "WARNING:tensorflow:The parameters `output_attentions`, `output_hidden_states` and `use_cache` cannot be updated when calling a model.They have to be set to True/False in the config object (i.e.: `config=XConfig.from_pretrained('name', output_attentions=True)`).\n"
     ]
    },
    {
     "name": "stdout",
     "output_type": "stream",
     "text": [
      "WARNING:tensorflow:The parameter `return_dict` cannot be set in graph mode and will always be set to `True`.\n"
     ]
    },
    {
     "name": "stderr",
     "output_type": "stream",
     "text": [
      "WARNING:tensorflow:The parameter `return_dict` cannot be set in graph mode and will always be set to `True`.\n"
     ]
    },
    {
     "name": "stdout",
     "output_type": "stream",
     "text": [
      "\n",
      "Temps d'entrainements pour 50 epochs : 838 secondes.\n",
      "Meilleure train_acc = 0.545, meilleure val_acc = 0.560\n",
      "\n",
      "F1_score obtenu : 0.47\n"
     ]
    },
    {
     "data": {
      "image/png": "[encoded data removed]",
      "text/plain": [
       "<Figure size 720x288 with 1 Axes>"
      ]
     },
     "metadata": {
      "needs_background": "light",
      "tags": []
     },
     "output_type": "display_data"
    }
   ],
   "source": [
    "modelize(model_dist_sw, 50, data_sw, \"mod_dist_sw_t\")"
   ]
  },
  {
   "cell_type": "markdown",
   "metadata": {},
   "source": [
    "<br><img src=\"images/distilbert_uncased_sw_t.png\" width = \"600\" heights = \"336\">"
   ]
  },
  {
   "cell_type": "markdown",
   "metadata": {
    "id": "HMyofIZrZxxS"
   },
   "source": [
    "**Fine-tuning**"
   ]
  },
  {
   "cell_type": "code",
   "execution_count": null,
   "metadata": {
    "id": "ADfiGwNQzPJ4"
   },
   "outputs": [],
   "source": [
    "for layer in model_dist_sw.layers :\n",
    "    layer.trainable = True\n",
    "    \n",
    "model_dist_sw.layers[-1].trainable = False\n",
    "\n",
    "model_dist_sw.compile(tf.keras.optimizers.Adam(learning_rate = 1e-5),\n",
    "                       loss = 'binary_crossentropy',\n",
    "                       metrics='accuracy')"
   ]
  },
  {
   "cell_type": "code",
   "execution_count": null,
   "metadata": {
    "colab": {
     "base_uri": "https://localhost:8080/",
     "height": 1000
    },
    "collapsed": true,
    "id": "3R_6JxjuzPM3",
    "jupyter": {
     "outputs_hidden": true
    },
    "outputId": "2f961b70-68f3-48e3-efeb-aefe0688de2b"
   },
   "outputs": [
    {
     "name": "stdout",
     "output_type": "stream",
     "text": [
      "Epoch 1/20\n",
      "WARNING:tensorflow:The parameters `output_attentions`, `output_hidden_states` and `use_cache` cannot be updated when calling a model.They have to be set to True/False in the config object (i.e.: `config=XConfig.from_pretrained('name', output_attentions=True)`).\n"
     ]
    },
    {
     "name": "stderr",
     "output_type": "stream",
     "text": [
      "WARNING:tensorflow:The parameters `output_attentions`, `output_hidden_states` and `use_cache` cannot be updated when calling a model.They have to be set to True/False in the config object (i.e.: `config=XConfig.from_pretrained('name', output_attentions=True)`).\n"
     ]
    },
    {
     "name": "stdout",
     "output_type": "stream",
     "text": [
      "WARNING:tensorflow:The parameter `return_dict` cannot be set in graph mode and will always be set to `True`.\n"
     ]
    },
    {
     "name": "stderr",
     "output_type": "stream",
     "text": [
      "WARNING:tensorflow:The parameter `return_dict` cannot be set in graph mode and will always be set to `True`.\n"
     ]
    },
    {
     "name": "stdout",
     "output_type": "stream",
     "text": [
      "WARNING:tensorflow:The parameters `output_attentions`, `output_hidden_states` and `use_cache` cannot be updated when calling a model.They have to be set to True/False in the config object (i.e.: `config=XConfig.from_pretrained('name', output_attentions=True)`).\n"
     ]
    },
    {
     "name": "stderr",
     "output_type": "stream",
     "text": [
      "WARNING:tensorflow:The parameters `output_attentions`, `output_hidden_states` and `use_cache` cannot be updated when calling a model.They have to be set to True/False in the config object (i.e.: `config=XConfig.from_pretrained('name', output_attentions=True)`).\n"
     ]
    },
    {
     "name": "stdout",
     "output_type": "stream",
     "text": [
      "WARNING:tensorflow:The parameter `return_dict` cannot be set in graph mode and will always be set to `True`.\n"
     ]
    },
    {
     "name": "stderr",
     "output_type": "stream",
     "text": [
      "WARNING:tensorflow:The parameter `return_dict` cannot be set in graph mode and will always be set to `True`.\n"
     ]
    },
    {
     "name": "stdout",
     "output_type": "stream",
     "text": [
      "500/500 [==============================] - ETA: 0s - loss: 0.0839 - accuracy: 0.6457WARNING:tensorflow:The parameters `output_attentions`, `output_hidden_states` and `use_cache` cannot be updated when calling a model.They have to be set to True/False in the config object (i.e.: `config=XConfig.from_pretrained('name', output_attentions=True)`).\n"
     ]
    },
    {
     "name": "stderr",
     "output_type": "stream",
     "text": [
      "WARNING:tensorflow:The parameters `output_attentions`, `output_hidden_states` and `use_cache` cannot be updated when calling a model.They have to be set to True/False in the config object (i.e.: `config=XConfig.from_pretrained('name', output_attentions=True)`).\n"
     ]
    },
    {
     "name": "stdout",
     "output_type": "stream",
     "text": [
      "WARNING:tensorflow:The parameter `return_dict` cannot be set in graph mode and will always be set to `True`.\n"
     ]
    },
    {
     "name": "stderr",
     "output_type": "stream",
     "text": [
      "WARNING:tensorflow:The parameter `return_dict` cannot be set in graph mode and will always be set to `True`.\n"
     ]
    },
    {
     "name": "stdout",
     "output_type": "stream",
     "text": [
      "500/500 [==============================] - 84s 88ms/step - loss: 0.0839 - accuracy: 0.6457 - val_loss: 0.0746 - val_accuracy: 0.6713\n",
      "Epoch 2/20\n",
      "500/500 [==============================] - 41s 82ms/step - loss: 0.0667 - accuracy: 0.6961 - val_loss: 0.0690 - val_accuracy: 0.6860\n",
      "Epoch 3/20\n",
      "500/500 [==============================] - 40s 80ms/step - loss: 0.0582 - accuracy: 0.7204 - val_loss: 0.0686 - val_accuracy: 0.6913\n",
      "Epoch 4/20\n",
      "500/500 [==============================] - 40s 80ms/step - loss: 0.0507 - accuracy: 0.7413 - val_loss: 0.0672 - val_accuracy: 0.6973\n",
      "Epoch 5/20\n",
      "500/500 [==============================] - 40s 80ms/step - loss: 0.0439 - accuracy: 0.7637 - val_loss: 0.0704 - val_accuracy: 0.6970\n",
      "Epoch 6/20\n",
      "500/500 [==============================] - 39s 79ms/step - loss: 0.0376 - accuracy: 0.7827 - val_loss: 0.0751 - val_accuracy: 0.6905\n",
      "Epoch 7/20\n",
      "500/500 [==============================] - 39s 79ms/step - loss: 0.0313 - accuracy: 0.8029 - val_loss: 0.0830 - val_accuracy: 0.6963\n",
      "Epoch 8/20\n",
      "500/500 [==============================] - 39s 79ms/step - loss: 0.0258 - accuracy: 0.8177 - val_loss: 0.0892 - val_accuracy: 0.6925\n",
      "Epoch 9/20\n",
      "500/500 [==============================] - 39s 79ms/step - loss: 0.0215 - accuracy: 0.8303 - val_loss: 0.0964 - val_accuracy: 0.6908\n",
      "Epoch 10/20\n",
      "500/500 [==============================] - 40s 79ms/step - loss: 0.0170 - accuracy: 0.8391 - val_loss: 0.1016 - val_accuracy: 0.6963\n",
      "Epoch 11/20\n",
      "500/500 [==============================] - 40s 79ms/step - loss: 0.0142 - accuracy: 0.8452 - val_loss: 0.1133 - val_accuracy: 0.6918\n",
      "Epoch 12/20\n",
      "500/500 [==============================] - 39s 79ms/step - loss: 0.0120 - accuracy: 0.8499 - val_loss: 0.1179 - val_accuracy: 0.6968\n",
      "Epoch 13/20\n",
      "500/500 [==============================] - 40s 79ms/step - loss: 0.0100 - accuracy: 0.8497 - val_loss: 0.1246 - val_accuracy: 0.6930\n",
      "Epoch 14/20\n",
      "500/500 [==============================] - 40s 80ms/step - loss: 0.0087 - accuracy: 0.8561 - val_loss: 0.1316 - val_accuracy: 0.6948\n",
      "Epoch 15/20\n",
      "500/500 [==============================] - 40s 79ms/step - loss: 0.0077 - accuracy: 0.8550 - val_loss: 0.1364 - val_accuracy: 0.6928\n",
      "Epoch 16/20\n",
      "500/500 [==============================] - 40s 80ms/step - loss: 0.0066 - accuracy: 0.8581 - val_loss: 0.1412 - val_accuracy: 0.6973\n",
      "Epoch 17/20\n",
      "500/500 [==============================] - 40s 80ms/step - loss: 0.0060 - accuracy: 0.8598 - val_loss: 0.1460 - val_accuracy: 0.6955\n",
      "Epoch 18/20\n",
      "500/500 [==============================] - 40s 79ms/step - loss: 0.0050 - accuracy: 0.8588 - val_loss: 0.1477 - val_accuracy: 0.6980\n",
      "Epoch 19/20\n",
      "500/500 [==============================] - 40s 80ms/step - loss: 0.0049 - accuracy: 0.8601 - val_loss: 0.1535 - val_accuracy: 0.6985\n",
      "Epoch 20/20\n",
      "500/500 [==============================] - 40s 80ms/step - loss: 0.0044 - accuracy: 0.8634 - val_loss: 0.1541 - val_accuracy: 0.7045\n"
     ]
    },
    {
     "name": "stderr",
     "output_type": "stream",
     "text": [
      "INFO:absl:TPU has inputs with dynamic shapes: [<tf.Tensor 'Const:0' shape=() dtype=int32>, <tf.Tensor 'cond_8/Identity:0' shape=(None, 512) dtype=int32>, <tf.Tensor 'cond_8/Identity_1:0' shape=(None, 512) dtype=int32>]\n"
     ]
    },
    {
     "name": "stdout",
     "output_type": "stream",
     "text": [
      "WARNING:tensorflow:The parameters `output_attentions`, `output_hidden_states` and `use_cache` cannot be updated when calling a model.They have to be set to True/False in the config object (i.e.: `config=XConfig.from_pretrained('name', output_attentions=True)`).\n"
     ]
    },
    {
     "name": "stderr",
     "output_type": "stream",
     "text": [
      "WARNING:tensorflow:The parameters `output_attentions`, `output_hidden_states` and `use_cache` cannot be updated when calling a model.They have to be set to True/False in the config object (i.e.: `config=XConfig.from_pretrained('name', output_attentions=True)`).\n"
     ]
    },
    {
     "name": "stdout",
     "output_type": "stream",
     "text": [
      "WARNING:tensorflow:The parameter `return_dict` cannot be set in graph mode and will always be set to `True`.\n"
     ]
    },
    {
     "name": "stderr",
     "output_type": "stream",
     "text": [
      "WARNING:tensorflow:The parameter `return_dict` cannot be set in graph mode and will always be set to `True`.\n"
     ]
    },
    {
     "name": "stdout",
     "output_type": "stream",
     "text": [
      "\n",
      "Temps d'entrainements pour 20 epochs : 876 secondes.\n",
      "Meilleure train_acc = 0.863, meilleure val_acc = 0.705\n",
      "\n",
      "F1_score obtenu : 0.77\n"
     ]
    },
    {
     "data": {
      "image/png": "[encoded data removed]",
      "text/plain": [
       "<Figure size 720x288 with 1 Axes>"
      ]
     },
     "metadata": {
      "needs_background": "light",
      "tags": []
     },
     "output_type": "display_data"
    }
   ],
   "source": [
    "modelize(model_dist_sw, 20, data_sw, \"mod_dist_sw_ft\") # fine-tuning"
   ]
  },
  {
   "cell_type": "markdown",
   "metadata": {},
   "source": [
    "<br><img src=\"images/distilbert_uncased_sw_ft.png\" width = \"600\" heights = \"336\">"
   ]
  },
  {
   "cell_type": "markdown",
   "metadata": {
    "id": "V-LzP4WWb-A0"
   },
   "source": [
    "On tire deux enseignements de ces résultats :<br><br>D'abord, si les résultats des trois jeux de données sont dans un mouchoir de poche, ceux obtenus à partir des données brutes sont au moins équivalents sinon meilleurs que les autres. Cela confirme que les modèles de type **Bert** sont en effet conçus pour fonctionner à partir de données non-traitées. Ce sont elles que nous utiliserons désormais pour tester d'autres modèles.<br><br>Ensuite, pour revenir à notre projet, on voit que l'utilisation du modèle **DistilBert uncased** nous a fait gagner **8 points** par rapport au meilleur résultat obtenu en fin de **projet 5**.<br><br>Essayons maintenant d'autres modèles. "
   ]
  },
  {
   "cell_type": "markdown",
   "metadata": {},
   "source": [
    " "
   ]
  },
  {
   "cell_type": "markdown",
   "metadata": {
    "id": "npX2PNSzfc34"
   },
   "source": [
    "# **3-) Modèle BERT**"
   ]
  },
  {
   "cell_type": "markdown",
   "metadata": {},
   "source": [
    " "
   ]
  },
  {
   "cell_type": "markdown",
   "metadata": {},
   "source": [
    "Implémentation du modèle **BERT** original mis au point par Google dans sa version **medium**."
   ]
  },
  {
   "cell_type": "code",
   "execution_count": null,
   "metadata": {
    "colab": {
     "base_uri": "https://localhost:8080/",
     "height": 168,
     "referenced_widgets": [
      "d5959c056f8843d28da49a184205b702",
      "c1ad79990d7f4eeea8625000cf5992f8",
      "d63bace3c4bb4685befec220edc976b9",
      "5151fc4a709e450faf1a2e40f061bacb",
      "4f0bd28dc47f41868d7289acb209e722",
      "86a404fea09b49648924c4053ee59835",
      "a51285d169494f1b9b66835c17eda905",
      "18129a3240fc400da701be120d409473",
      "aac90f3ee450463d843d00be10dd06c3",
      "d2a6de95d2764022a8e2c1b78365cb36",
      "3279b2a20e0e418094e1da092e89e1a1",
      "761dafe5823b4c609096d7db24783e0f",
      "f8a536005c4348e8a7ec6d69b3e7b155",
      "e881efe6c82f4526a3c6798cddabd27f",
      "c1ae59c5830f467f900d789bd6e8a9fa",
      "c109a56f82ba4fe4974a34339731b3ca",
      "f238aa075f044e5b8efafd62a2ba433f",
      "74fd385f19c54b2da714ff96090ec148",
      "446ffa094de54707a10d732af8a7307e",
      "a4701554c9f84de98b24e6dfee779e5c",
      "4f4f110575b4473b91400e29cb23a4d4",
      "8e4c88c687bd42819bc1601da69d3a4a",
      "7a4949db0224495caee82d05708d99ef",
      "65bbd7ddb42746e39608cd1714a5c65d"
     ]
    },
    "collapsed": true,
    "id": "mibzx2cxzPU9",
    "jupyter": {
     "outputs_hidden": true
    },
    "outputId": "219d56ab-0176-4514-82df-f3447af6b9f0"
   },
   "outputs": [
    {
     "data": {
      "application/vnd.jupyter.widget-view+json": {
       "model_id": "d5959c056f8843d28da49a184205b702",
       "version_major": 2,
       "version_minor": 0
      },
      "text/plain": [
       "HBox(children=(FloatProgress(value=0.0, description='Downloading', max=231508.0, style=ProgressStyle(descripti…"
      ]
     },
     "metadata": {
      "tags": []
     },
     "output_type": "display_data"
    },
    {
     "name": "stdout",
     "output_type": "stream",
     "text": [
      "\n"
     ]
    },
    {
     "data": {
      "application/vnd.jupyter.widget-view+json": {
       "model_id": "aac90f3ee450463d843d00be10dd06c3",
       "version_major": 2,
       "version_minor": 0
      },
      "text/plain": [
       "HBox(children=(FloatProgress(value=0.0, description='Downloading', max=28.0, style=ProgressStyle(description_w…"
      ]
     },
     "metadata": {
      "tags": []
     },
     "output_type": "display_data"
    },
    {
     "name": "stdout",
     "output_type": "stream",
     "text": [
      "\n"
     ]
    },
    {
     "data": {
      "application/vnd.jupyter.widget-view+json": {
       "model_id": "f238aa075f044e5b8efafd62a2ba433f",
       "version_major": 2,
       "version_minor": 0
      },
      "text/plain": [
       "HBox(children=(FloatProgress(value=0.0, description='Downloading', max=466062.0, style=ProgressStyle(descripti…"
      ]
     },
     "metadata": {
      "tags": []
     },
     "output_type": "display_data"
    },
    {
     "name": "stdout",
     "output_type": "stream",
     "text": [
      "\n"
     ]
    }
   ],
   "source": [
    "model_name = 'bert-base-uncased'\n",
    "tokenizer = BertTokenizer.from_pretrained(model_name)"
   ]
  },
  {
   "cell_type": "markdown",
   "metadata": {
    "id": "MdP8Px7Tf9qr"
   },
   "source": [
    "**Encodage des données**"
   ]
  },
  {
   "cell_type": "code",
   "execution_count": null,
   "metadata": {
    "colab": {
     "base_uri": "https://localhost:8080/"
    },
    "id": "AJMiXaV5zPX2",
    "outputId": "5b818497-9ca1-4f0d-cce8-584f8ce13a49"
   },
   "outputs": [
    {
     "name": "stdout",
     "output_type": "stream",
     "text": [
      "L'encodage a pris : 77 secondes.\n"
     ]
    }
   ],
   "source": [
    "start = time()\n",
    "\n",
    "X_train_ids, X_train_attention = batch_encode(tokenizer, X_train)\n",
    "X_test_ids, X_test_attention = batch_encode(tokenizer, X_test)\n",
    "\n",
    "data_bert = [[X_train_ids, X_train_attention], y_train, [X_test_ids, X_test_attention], y_test]\n",
    "\n",
    "print(f\"L'encodage a pris : {time()-start:.0f} secondes.\")"
   ]
  },
  {
   "cell_type": "markdown",
   "metadata": {},
   "source": [
    "**Création du modèle**"
   ]
  },
  {
   "cell_type": "code",
   "execution_count": null,
   "metadata": {
    "id": "6Ta_fIeezPdK"
   },
   "outputs": [],
   "source": [
    "def build_bert_model(max_length = MAX_LENGTH):\n",
    "                    \n",
    "\n",
    "    bert = TFBertModel.from_pretrained('bert-base-uncased')\n",
    "    \n",
    "    for layer in bert.layers:\n",
    "        layer.trainable = False\n",
    "\n",
    "    input_ids_layer = tf.keras.layers.Input(shape=(max_length,), \n",
    "                                            name='input_ids', \n",
    "                                            dtype='int32')\n",
    "    input_attention_layer = tf.keras.layers.Input(shape=(max_length,), \n",
    "                                                  name='input_attention', \n",
    "                                                  dtype='int32')\n",
    "\n",
    "    last_hidden_state = bert([input_ids_layer, input_attention_layer])[0]\n",
    "    \n",
    "    cls_token = last_hidden_state[:, 0, :]\n",
    "\n",
    "    output = tf.keras.layers.Dense(25, activation='sigmoid')(cls_token)\n",
    "    \n",
    "    model = tf.keras.Model([input_ids_layer, input_attention_layer], output)\n",
    "\n",
    "    model.compile(tf.keras.optimizers.Adam(),\n",
    "                  loss = 'binary_crossentropy',\n",
    "                  metrics='accuracy')\n",
    "    \n",
    "    return model"
   ]
  },
  {
   "cell_type": "code",
   "execution_count": null,
   "metadata": {
    "colab": {
     "base_uri": "https://localhost:8080/",
     "height": 304,
     "referenced_widgets": [
      "00af28dcbfeb44c3b255fc8fe07ff76a",
      "18fd001d3fd34fad88ec3870b1d38e14",
      "a608cdb9de63409bb74bc293c0991d18",
      "db16cdc627204af49e73ffa9e7f849cf",
      "bd9e4d96d9f5412494255356ae3e27ce",
      "1bab0231fc8b42339bdd399ae65d9acd",
      "92ac0c791080406bb58938595624920a",
      "c9a33db1034d4e6db52458248b864bbf",
      "d9fd40518a454c9b91d40708a1cb750a",
      "6c50a49ceb214acd80f3df64478ca1da",
      "42711566f4b145859b2bdd6a125914f7",
      "a2931781a9ab4dd8bde3d1dd9da3ac58",
      "1efe412733cd4cf0b010bd90777d6d6a",
      "db0bca68e8dc4e3ba7b3f6e3a0bf0c0e",
      "882375936e694fe79d21e41421ab324b",
      "5e516dd8283b44e485476b7e244039e7"
     ]
    },
    "collapsed": true,
    "id": "6bjAZFFBzPf-",
    "jupyter": {
     "outputs_hidden": true
    },
    "outputId": "552529d3-1b29-4d43-af45-d6303873ff96"
   },
   "outputs": [
    {
     "data": {
      "application/vnd.jupyter.widget-view+json": {
       "model_id": "00af28dcbfeb44c3b255fc8fe07ff76a",
       "version_major": 2,
       "version_minor": 0
      },
      "text/plain": [
       "HBox(children=(FloatProgress(value=0.0, description='Downloading', max=570.0, style=ProgressStyle(description_…"
      ]
     },
     "metadata": {
      "tags": []
     },
     "output_type": "display_data"
    },
    {
     "name": "stdout",
     "output_type": "stream",
     "text": [
      "\n"
     ]
    },
    {
     "data": {
      "application/vnd.jupyter.widget-view+json": {
       "model_id": "d9fd40518a454c9b91d40708a1cb750a",
       "version_major": 2,
       "version_minor": 0
      },
      "text/plain": [
       "HBox(children=(FloatProgress(value=0.0, description='Downloading', max=536063208.0, style=ProgressStyle(descri…"
      ]
     },
     "metadata": {
      "tags": []
     },
     "output_type": "display_data"
    },
    {
     "name": "stdout",
     "output_type": "stream",
     "text": [
      "\n"
     ]
    },
    {
     "name": "stderr",
     "output_type": "stream",
     "text": [
      "Some layers from the model checkpoint at bert-base-uncased were not used when initializing TFBertModel: ['nsp___cls', 'mlm___cls']\n",
      "- This IS expected if you are initializing TFBertModel from the checkpoint of a model trained on another task or with another architecture (e.g. initializing a BertForSequenceClassification model from a BertForPreTraining model).\n",
      "- This IS NOT expected if you are initializing TFBertModel from the checkpoint of a model that you expect to be exactly identical (initializing a BertForSequenceClassification model from a BertForSequenceClassification model).\n",
      "All the layers of TFBertModel were initialized from the model checkpoint at bert-base-uncased.\n",
      "If your task is similar to the task the model of the checkpoint was trained on, you can already use TFBertModel for predictions without further training.\n"
     ]
    },
    {
     "name": "stdout",
     "output_type": "stream",
     "text": [
      "WARNING:tensorflow:The parameters `output_attentions`, `output_hidden_states` and `use_cache` cannot be updated when calling a model.They have to be set to True/False in the config object (i.e.: `config=XConfig.from_pretrained('name', output_attentions=True)`).\n"
     ]
    },
    {
     "name": "stderr",
     "output_type": "stream",
     "text": [
      "WARNING:tensorflow:The parameters `output_attentions`, `output_hidden_states` and `use_cache` cannot be updated when calling a model.They have to be set to True/False in the config object (i.e.: `config=XConfig.from_pretrained('name', output_attentions=True)`).\n"
     ]
    },
    {
     "name": "stdout",
     "output_type": "stream",
     "text": [
      "WARNING:tensorflow:The parameter `return_dict` cannot be set in graph mode and will always be set to `True`.\n"
     ]
    },
    {
     "name": "stderr",
     "output_type": "stream",
     "text": [
      "WARNING:tensorflow:The parameter `return_dict` cannot be set in graph mode and will always be set to `True`.\n"
     ]
    }
   ],
   "source": [
    "with strategy.scope():\n",
    "    model_bert = build_bert_model()"
   ]
  },
  {
   "cell_type": "markdown",
   "metadata": {
    "id": "n-XNtpiAiUtj"
   },
   "source": [
    "**Entrainement**"
   ]
  },
  {
   "cell_type": "code",
   "execution_count": null,
   "metadata": {
    "colab": {
     "base_uri": "https://localhost:8080/",
     "height": 1000
    },
    "collapsed": true,
    "id": "iEsw09FXzPik",
    "jupyter": {
     "outputs_hidden": true
    },
    "outputId": "83743725-4cf4-4380-d767-ee989f518b0e"
   },
   "outputs": [
    {
     "name": "stdout",
     "output_type": "stream",
     "text": [
      "Epoch 1/50\n",
      "WARNING:tensorflow:The parameters `output_attentions`, `output_hidden_states` and `use_cache` cannot be updated when calling a model.They have to be set to True/False in the config object (i.e.: `config=XConfig.from_pretrained('name', output_attentions=True)`).\n"
     ]
    },
    {
     "name": "stderr",
     "output_type": "stream",
     "text": [
      "WARNING:tensorflow:The parameters `output_attentions`, `output_hidden_states` and `use_cache` cannot be updated when calling a model.They have to be set to True/False in the config object (i.e.: `config=XConfig.from_pretrained('name', output_attentions=True)`).\n"
     ]
    },
    {
     "name": "stdout",
     "output_type": "stream",
     "text": [
      "WARNING:tensorflow:The parameter `return_dict` cannot be set in graph mode and will always be set to `True`.\n"
     ]
    },
    {
     "name": "stderr",
     "output_type": "stream",
     "text": [
      "WARNING:tensorflow:The parameter `return_dict` cannot be set in graph mode and will always be set to `True`.\n"
     ]
    },
    {
     "name": "stdout",
     "output_type": "stream",
     "text": [
      "WARNING:tensorflow:The parameters `output_attentions`, `output_hidden_states` and `use_cache` cannot be updated when calling a model.They have to be set to True/False in the config object (i.e.: `config=XConfig.from_pretrained('name', output_attentions=True)`).\n"
     ]
    },
    {
     "name": "stderr",
     "output_type": "stream",
     "text": [
      "WARNING:tensorflow:The parameters `output_attentions`, `output_hidden_states` and `use_cache` cannot be updated when calling a model.They have to be set to True/False in the config object (i.e.: `config=XConfig.from_pretrained('name', output_attentions=True)`).\n"
     ]
    },
    {
     "name": "stdout",
     "output_type": "stream",
     "text": [
      "WARNING:tensorflow:The parameter `return_dict` cannot be set in graph mode and will always be set to `True`.\n"
     ]
    },
    {
     "name": "stderr",
     "output_type": "stream",
     "text": [
      "WARNING:tensorflow:The parameter `return_dict` cannot be set in graph mode and will always be set to `True`.\n"
     ]
    },
    {
     "name": "stdout",
     "output_type": "stream",
     "text": [
      "499/500 [============================>.] - ETA: 0s - loss: 0.1874 - accuracy: 0.2587WARNING:tensorflow:The parameters `output_attentions`, `output_hidden_states` and `use_cache` cannot be updated when calling a model.They have to be set to True/False in the config object (i.e.: `config=XConfig.from_pretrained('name', output_attentions=True)`).\n"
     ]
    },
    {
     "name": "stderr",
     "output_type": "stream",
     "text": [
      "WARNING:tensorflow:The parameters `output_attentions`, `output_hidden_states` and `use_cache` cannot be updated when calling a model.They have to be set to True/False in the config object (i.e.: `config=XConfig.from_pretrained('name', output_attentions=True)`).\n"
     ]
    },
    {
     "name": "stdout",
     "output_type": "stream",
     "text": [
      "WARNING:tensorflow:The parameter `return_dict` cannot be set in graph mode and will always be set to `True`.\n"
     ]
    },
    {
     "name": "stderr",
     "output_type": "stream",
     "text": [
      "WARNING:tensorflow:The parameter `return_dict` cannot be set in graph mode and will always be set to `True`.\n"
     ]
    },
    {
     "name": "stdout",
     "output_type": "stream",
     "text": [
      "500/500 [==============================] - 48s 63ms/step - loss: 0.1874 - accuracy: 0.2587 - val_loss: 0.1654 - val_accuracy: 0.3195\n",
      "Epoch 2/50\n",
      "500/500 [==============================] - 26s 52ms/step - loss: 0.1605 - accuracy: 0.3474 - val_loss: 0.1519 - val_accuracy: 0.3715\n",
      "Epoch 3/50\n",
      "500/500 [==============================] - 26s 53ms/step - loss: 0.1509 - accuracy: 0.3888 - val_loss: 0.1437 - val_accuracy: 0.4115\n",
      "Epoch 4/50\n",
      "500/500 [==============================] - 26s 52ms/step - loss: 0.1444 - accuracy: 0.4168 - val_loss: 0.1398 - val_accuracy: 0.4190\n",
      "Epoch 5/50\n",
      "500/500 [==============================] - 26s 52ms/step - loss: 0.1403 - accuracy: 0.4316 - val_loss: 0.1341 - val_accuracy: 0.4783\n",
      "Epoch 6/50\n",
      "500/500 [==============================] - 26s 52ms/step - loss: 0.1371 - accuracy: 0.4452 - val_loss: 0.1313 - val_accuracy: 0.4885\n",
      "Epoch 7/50\n",
      "500/500 [==============================] - 26s 52ms/step - loss: 0.1348 - accuracy: 0.4542 - val_loss: 0.1300 - val_accuracy: 0.4775\n",
      "Epoch 8/50\n",
      "500/500 [==============================] - 25s 50ms/step - loss: 0.1330 - accuracy: 0.4613 - val_loss: 0.1276 - val_accuracy: 0.4865\n",
      "Epoch 9/50\n",
      "500/500 [==============================] - 25s 50ms/step - loss: 0.1318 - accuracy: 0.4673 - val_loss: 0.1266 - val_accuracy: 0.4965\n",
      "Epoch 10/50\n",
      "500/500 [==============================] - 26s 52ms/step - loss: 0.1301 - accuracy: 0.4713 - val_loss: 0.1250 - val_accuracy: 0.5103\n",
      "Epoch 11/50\n",
      "500/500 [==============================] - 26s 53ms/step - loss: 0.1291 - accuracy: 0.4756 - val_loss: 0.1247 - val_accuracy: 0.4983\n",
      "Epoch 12/50\n",
      "500/500 [==============================] - 25s 49ms/step - loss: 0.1279 - accuracy: 0.4801 - val_loss: 0.1240 - val_accuracy: 0.4980\n",
      "Epoch 13/50\n",
      "500/500 [==============================] - 25s 49ms/step - loss: 0.1274 - accuracy: 0.4863 - val_loss: 0.1226 - val_accuracy: 0.4963\n",
      "Epoch 14/50\n",
      "500/500 [==============================] - 25s 49ms/step - loss: 0.1269 - accuracy: 0.4844 - val_loss: 0.1222 - val_accuracy: 0.5055\n",
      "Epoch 15/50\n",
      "500/500 [==============================] - 25s 50ms/step - loss: 0.1261 - accuracy: 0.4848 - val_loss: 0.1215 - val_accuracy: 0.5220\n",
      "Epoch 16/50\n",
      "500/500 [==============================] - 26s 52ms/step - loss: 0.1257 - accuracy: 0.4904 - val_loss: 0.1214 - val_accuracy: 0.5103\n",
      "Epoch 17/50\n",
      "500/500 [==============================] - 25s 50ms/step - loss: 0.1254 - accuracy: 0.4888 - val_loss: 0.1215 - val_accuracy: 0.5020\n",
      "Epoch 18/50\n",
      "500/500 [==============================] - 25s 50ms/step - loss: 0.1247 - accuracy: 0.4919 - val_loss: 0.1213 - val_accuracy: 0.5160\n",
      "Epoch 19/50\n",
      "500/500 [==============================] - 25s 50ms/step - loss: 0.1244 - accuracy: 0.4964 - val_loss: 0.1189 - val_accuracy: 0.5203\n",
      "Epoch 20/50\n",
      "500/500 [==============================] - 25s 50ms/step - loss: 0.1239 - accuracy: 0.4927 - val_loss: 0.1196 - val_accuracy: 0.5258\n",
      "Epoch 21/50\n",
      "500/500 [==============================] - 26s 52ms/step - loss: 0.1235 - accuracy: 0.4965 - val_loss: 0.1199 - val_accuracy: 0.5220\n",
      "Epoch 22/50\n",
      "500/500 [==============================] - 25s 50ms/step - loss: 0.1230 - accuracy: 0.4988 - val_loss: 0.1195 - val_accuracy: 0.5233\n",
      "Epoch 23/50\n",
      "500/500 [==============================] - 25s 50ms/step - loss: 0.1235 - accuracy: 0.4933 - val_loss: 0.1191 - val_accuracy: 0.5170\n",
      "Epoch 24/50\n",
      "500/500 [==============================] - 25s 50ms/step - loss: 0.1229 - accuracy: 0.4971 - val_loss: 0.1186 - val_accuracy: 0.5248\n",
      "Epoch 25/50\n",
      "500/500 [==============================] - 25s 49ms/step - loss: 0.1227 - accuracy: 0.4996 - val_loss: 0.1187 - val_accuracy: 0.5225\n",
      "Epoch 26/50\n",
      "500/500 [==============================] - 25s 50ms/step - loss: 0.1225 - accuracy: 0.4988 - val_loss: 0.1188 - val_accuracy: 0.5263\n",
      "Epoch 27/50\n",
      "500/500 [==============================] - 26s 53ms/step - loss: 0.1220 - accuracy: 0.4951 - val_loss: 0.1178 - val_accuracy: 0.5230\n",
      "Epoch 28/50\n",
      "500/500 [==============================] - 25s 50ms/step - loss: 0.1224 - accuracy: 0.4985 - val_loss: 0.1176 - val_accuracy: 0.5323\n",
      "Epoch 29/50\n",
      "500/500 [==============================] - 26s 52ms/step - loss: 0.1219 - accuracy: 0.5031 - val_loss: 0.1166 - val_accuracy: 0.5263\n",
      "Epoch 30/50\n",
      "500/500 [==============================] - 25s 49ms/step - loss: 0.1220 - accuracy: 0.4987 - val_loss: 0.1175 - val_accuracy: 0.5268\n",
      "Epoch 31/50\n",
      "500/500 [==============================] - 25s 50ms/step - loss: 0.1212 - accuracy: 0.5024 - val_loss: 0.1165 - val_accuracy: 0.5345\n",
      "Epoch 32/50\n",
      "500/500 [==============================] - 26s 53ms/step - loss: 0.1217 - accuracy: 0.4968 - val_loss: 0.1172 - val_accuracy: 0.5360\n",
      "Epoch 33/50\n",
      "500/500 [==============================] - 26s 52ms/step - loss: 0.1213 - accuracy: 0.4978 - val_loss: 0.1162 - val_accuracy: 0.5368\n",
      "Epoch 34/50\n",
      "500/500 [==============================] - 26s 52ms/step - loss: 0.1216 - accuracy: 0.5023 - val_loss: 0.1165 - val_accuracy: 0.5310\n",
      "Epoch 35/50\n",
      "500/500 [==============================] - 25s 50ms/step - loss: 0.1213 - accuracy: 0.4981 - val_loss: 0.1162 - val_accuracy: 0.5395\n",
      "Epoch 36/50\n",
      "500/500 [==============================] - 26s 52ms/step - loss: 0.1205 - accuracy: 0.4999 - val_loss: 0.1164 - val_accuracy: 0.5360\n",
      "Epoch 37/50\n",
      "500/500 [==============================] - 25s 50ms/step - loss: 0.1210 - accuracy: 0.5016 - val_loss: 0.1175 - val_accuracy: 0.5312\n",
      "Epoch 38/50\n",
      "500/500 [==============================] - 25s 49ms/step - loss: 0.1208 - accuracy: 0.5044 - val_loss: 0.1181 - val_accuracy: 0.5325\n",
      "Epoch 39/50\n",
      "500/500 [==============================] - 25s 50ms/step - loss: 0.1211 - accuracy: 0.5022 - val_loss: 0.1166 - val_accuracy: 0.5288\n",
      "Epoch 40/50\n",
      "500/500 [==============================] - 25s 50ms/step - loss: 0.1206 - accuracy: 0.5074 - val_loss: 0.1158 - val_accuracy: 0.5388\n",
      "Epoch 41/50\n",
      "500/500 [==============================] - 25s 50ms/step - loss: 0.1200 - accuracy: 0.5081 - val_loss: 0.1158 - val_accuracy: 0.5358\n",
      "Epoch 42/50\n",
      "500/500 [==============================] - 25s 50ms/step - loss: 0.1206 - accuracy: 0.5019 - val_loss: 0.1159 - val_accuracy: 0.5423\n",
      "Epoch 43/50\n",
      "500/500 [==============================] - 26s 51ms/step - loss: 0.1203 - accuracy: 0.5059 - val_loss: 0.1164 - val_accuracy: 0.5330\n",
      "Epoch 44/50\n",
      "500/500 [==============================] - 25s 49ms/step - loss: 0.1206 - accuracy: 0.4986 - val_loss: 0.1169 - val_accuracy: 0.5205\n",
      "Epoch 45/50\n",
      "500/500 [==============================] - 25s 49ms/step - loss: 0.1203 - accuracy: 0.5051 - val_loss: 0.1152 - val_accuracy: 0.5503\n",
      "Epoch 46/50\n",
      "500/500 [==============================] - 26s 52ms/step - loss: 0.1200 - accuracy: 0.5070 - val_loss: 0.1159 - val_accuracy: 0.5333\n",
      "Epoch 47/50\n",
      "500/500 [==============================] - 25s 49ms/step - loss: 0.1202 - accuracy: 0.5074 - val_loss: 0.1162 - val_accuracy: 0.5335\n",
      "Epoch 48/50\n",
      "500/500 [==============================] - 25s 49ms/step - loss: 0.1195 - accuracy: 0.5090 - val_loss: 0.1153 - val_accuracy: 0.5393\n",
      "Epoch 49/50\n",
      "500/500 [==============================] - 25s 49ms/step - loss: 0.1198 - accuracy: 0.5031 - val_loss: 0.1146 - val_accuracy: 0.5485\n",
      "Epoch 50/50\n",
      "500/500 [==============================] - 26s 51ms/step - loss: 0.1203 - accuracy: 0.5035 - val_loss: 0.1146 - val_accuracy: 0.5473\n"
     ]
    },
    {
     "name": "stderr",
     "output_type": "stream",
     "text": [
      "INFO:absl:TPU has inputs with dynamic shapes: [<tf.Tensor 'Const:0' shape=() dtype=int32>, <tf.Tensor 'cond_8/Identity:0' shape=(None, 512) dtype=int32>, <tf.Tensor 'cond_8/Identity_1:0' shape=(None, 512) dtype=int32>]\n"
     ]
    },
    {
     "name": "stdout",
     "output_type": "stream",
     "text": [
      "WARNING:tensorflow:The parameters `output_attentions`, `output_hidden_states` and `use_cache` cannot be updated when calling a model.They have to be set to True/False in the config object (i.e.: `config=XConfig.from_pretrained('name', output_attentions=True)`).\n"
     ]
    },
    {
     "name": "stderr",
     "output_type": "stream",
     "text": [
      "WARNING:tensorflow:The parameters `output_attentions`, `output_hidden_states` and `use_cache` cannot be updated when calling a model.They have to be set to True/False in the config object (i.e.: `config=XConfig.from_pretrained('name', output_attentions=True)`).\n"
     ]
    },
    {
     "name": "stdout",
     "output_type": "stream",
     "text": [
      "WARNING:tensorflow:The parameter `return_dict` cannot be set in graph mode and will always be set to `True`.\n"
     ]
    },
    {
     "name": "stderr",
     "output_type": "stream",
     "text": [
      "WARNING:tensorflow:The parameter `return_dict` cannot be set in graph mode and will always be set to `True`.\n"
     ]
    },
    {
     "name": "stdout",
     "output_type": "stream",
     "text": [
      "\n",
      "Temps d'entrainements pour 50 epochs : 1412 secondes.\n",
      "Meilleure train_acc = 0.509, meilleure val_acc = 0.550\n",
      "\n",
      "F1_score obtenu : 0.43\n"
     ]
    },
    {
     "data": {
      "image/png": "[encoded data removed]",
      "text/plain": [
       "<Figure size 720x288 with 1 Axes>"
      ]
     },
     "metadata": {
      "needs_background": "light",
      "tags": []
     },
     "output_type": "display_data"
    }
   ],
   "source": [
    "modelize(model_bert, 50, data_bert, \"mod_bert_t\")"
   ]
  },
  {
   "cell_type": "markdown",
   "metadata": {},
   "source": [
    "<br><img src=\"images/bert_t.png\" width = \"600\" heights = \"336\">"
   ]
  },
  {
   "cell_type": "markdown",
   "metadata": {},
   "source": [
    " "
   ]
  },
  {
   "cell_type": "markdown",
   "metadata": {
    "id": "rWgxVTuiicGW"
   },
   "source": [
    "**Fine-tuning**"
   ]
  },
  {
   "cell_type": "code",
   "execution_count": null,
   "metadata": {
    "id": "yqLMd1ZtzPlI"
   },
   "outputs": [],
   "source": [
    "for layer in model_bert.layers :\n",
    "    layer.trainable = True\n",
    "    \n",
    "model_bert.layers[-1].trainable = False\n",
    "\n",
    "model_bert.compile(tf.keras.optimizers.Adam(learning_rate = 1e-5),\n",
    "                       loss = 'binary_crossentropy',\n",
    "                       metrics='accuracy')"
   ]
  },
  {
   "cell_type": "code",
   "execution_count": null,
   "metadata": {
    "colab": {
     "base_uri": "https://localhost:8080/",
     "height": 1000
    },
    "collapsed": true,
    "id": "nKOd3TZAzPn-",
    "jupyter": {
     "outputs_hidden": true
    },
    "outputId": "39f834e7-778a-4056-d78a-b47a62a01b5b"
   },
   "outputs": [
    {
     "name": "stdout",
     "output_type": "stream",
     "text": [
      "Epoch 1/20\n",
      "WARNING:tensorflow:The parameters `output_attentions`, `output_hidden_states` and `use_cache` cannot be updated when calling a model.They have to be set to True/False in the config object (i.e.: `config=XConfig.from_pretrained('name', output_attentions=True)`).\n"
     ]
    },
    {
     "name": "stderr",
     "output_type": "stream",
     "text": [
      "WARNING:tensorflow:The parameters `output_attentions`, `output_hidden_states` and `use_cache` cannot be updated when calling a model.They have to be set to True/False in the config object (i.e.: `config=XConfig.from_pretrained('name', output_attentions=True)`).\n"
     ]
    },
    {
     "name": "stdout",
     "output_type": "stream",
     "text": [
      "WARNING:tensorflow:The parameter `return_dict` cannot be set in graph mode and will always be set to `True`.\n"
     ]
    },
    {
     "name": "stderr",
     "output_type": "stream",
     "text": [
      "WARNING:tensorflow:The parameter `return_dict` cannot be set in graph mode and will always be set to `True`.\n"
     ]
    },
    {
     "name": "stdout",
     "output_type": "stream",
     "text": [
      "WARNING:tensorflow:Gradients do not exist for variables ['tf_bert_model/bert/pooler/dense/kernel:0', 'tf_bert_model/bert/pooler/dense/bias:0'] when minimizing the loss.\n"
     ]
    },
    {
     "name": "stderr",
     "output_type": "stream",
     "text": [
      "WARNING:tensorflow:Gradients do not exist for variables ['tf_bert_model/bert/pooler/dense/kernel:0', 'tf_bert_model/bert/pooler/dense/bias:0'] when minimizing the loss.\n"
     ]
    },
    {
     "name": "stdout",
     "output_type": "stream",
     "text": [
      "WARNING:tensorflow:The parameters `output_attentions`, `output_hidden_states` and `use_cache` cannot be updated when calling a model.They have to be set to True/False in the config object (i.e.: `config=XConfig.from_pretrained('name', output_attentions=True)`).\n"
     ]
    },
    {
     "name": "stderr",
     "output_type": "stream",
     "text": [
      "WARNING:tensorflow:The parameters `output_attentions`, `output_hidden_states` and `use_cache` cannot be updated when calling a model.They have to be set to True/False in the config object (i.e.: `config=XConfig.from_pretrained('name', output_attentions=True)`).\n"
     ]
    },
    {
     "name": "stdout",
     "output_type": "stream",
     "text": [
      "WARNING:tensorflow:The parameter `return_dict` cannot be set in graph mode and will always be set to `True`.\n"
     ]
    },
    {
     "name": "stderr",
     "output_type": "stream",
     "text": [
      "WARNING:tensorflow:The parameter `return_dict` cannot be set in graph mode and will always be set to `True`.\n"
     ]
    },
    {
     "name": "stdout",
     "output_type": "stream",
     "text": [
      "WARNING:tensorflow:Gradients do not exist for variables ['tf_bert_model/bert/pooler/dense/kernel:0', 'tf_bert_model/bert/pooler/dense/bias:0'] when minimizing the loss.\n"
     ]
    },
    {
     "name": "stderr",
     "output_type": "stream",
     "text": [
      "WARNING:tensorflow:Gradients do not exist for variables ['tf_bert_model/bert/pooler/dense/kernel:0', 'tf_bert_model/bert/pooler/dense/bias:0'] when minimizing the loss.\n"
     ]
    },
    {
     "name": "stdout",
     "output_type": "stream",
     "text": [
      "500/500 [==============================] - ETA: 0s - loss: 0.0801 - accuracy: 0.6583WARNING:tensorflow:The parameters `output_attentions`, `output_hidden_states` and `use_cache` cannot be updated when calling a model.They have to be set to True/False in the config object (i.e.: `config=XConfig.from_pretrained('name', output_attentions=True)`).\n"
     ]
    },
    {
     "name": "stderr",
     "output_type": "stream",
     "text": [
      "WARNING:tensorflow:The parameters `output_attentions`, `output_hidden_states` and `use_cache` cannot be updated when calling a model.They have to be set to True/False in the config object (i.e.: `config=XConfig.from_pretrained('name', output_attentions=True)`).\n"
     ]
    },
    {
     "name": "stdout",
     "output_type": "stream",
     "text": [
      "WARNING:tensorflow:The parameter `return_dict` cannot be set in graph mode and will always be set to `True`.\n"
     ]
    },
    {
     "name": "stderr",
     "output_type": "stream",
     "text": [
      "WARNING:tensorflow:The parameter `return_dict` cannot be set in graph mode and will always be set to `True`.\n"
     ]
    },
    {
     "name": "stdout",
     "output_type": "stream",
     "text": [
      "500/500 [==============================] - 113s 104ms/step - loss: 0.0801 - accuracy: 0.6583 - val_loss: 0.0718 - val_accuracy: 0.6865\n",
      "Epoch 2/20\n",
      "500/500 [==============================] - 46s 92ms/step - loss: 0.0622 - accuracy: 0.7132 - val_loss: 0.0658 - val_accuracy: 0.6998\n",
      "Epoch 3/20\n",
      "500/500 [==============================] - 46s 92ms/step - loss: 0.0528 - accuracy: 0.7421 - val_loss: 0.0649 - val_accuracy: 0.7058\n",
      "Epoch 4/20\n",
      "500/500 [==============================] - 46s 92ms/step - loss: 0.0448 - accuracy: 0.7628 - val_loss: 0.0674 - val_accuracy: 0.7068\n",
      "Epoch 5/20\n",
      "500/500 [==============================] - 47s 93ms/step - loss: 0.0375 - accuracy: 0.7864 - val_loss: 0.0710 - val_accuracy: 0.7065\n",
      "Epoch 6/20\n",
      "500/500 [==============================] - 46s 92ms/step - loss: 0.0311 - accuracy: 0.8062 - val_loss: 0.0763 - val_accuracy: 0.7070\n",
      "Epoch 7/20\n",
      "500/500 [==============================] - 47s 95ms/step - loss: 0.0248 - accuracy: 0.8200 - val_loss: 0.0849 - val_accuracy: 0.7083\n",
      "Epoch 8/20\n",
      "500/500 [==============================] - 48s 95ms/step - loss: 0.0203 - accuracy: 0.8338 - val_loss: 0.0919 - val_accuracy: 0.7013\n",
      "Epoch 9/20\n",
      "500/500 [==============================] - 46s 93ms/step - loss: 0.0162 - accuracy: 0.8398 - val_loss: 0.0977 - val_accuracy: 0.7045\n",
      "Epoch 10/20\n",
      "500/500 [==============================] - 46s 92ms/step - loss: 0.0136 - accuracy: 0.8444 - val_loss: 0.1006 - val_accuracy: 0.7128\n",
      "Epoch 11/20\n",
      "500/500 [==============================] - 47s 93ms/step - loss: 0.0111 - accuracy: 0.8501 - val_loss: 0.1039 - val_accuracy: 0.7123\n",
      "Epoch 12/20\n",
      "500/500 [==============================] - 46s 91ms/step - loss: 0.0090 - accuracy: 0.8549 - val_loss: 0.1109 - val_accuracy: 0.7063\n",
      "Epoch 13/20\n",
      "500/500 [==============================] - 45s 91ms/step - loss: 0.0076 - accuracy: 0.8546 - val_loss: 0.1114 - val_accuracy: 0.7163\n",
      "Epoch 14/20\n",
      "500/500 [==============================] - 46s 93ms/step - loss: 0.0068 - accuracy: 0.8586 - val_loss: 0.1186 - val_accuracy: 0.7125\n",
      "Epoch 15/20\n",
      "500/500 [==============================] - 46s 91ms/step - loss: 0.0058 - accuracy: 0.8559 - val_loss: 0.1171 - val_accuracy: 0.7153\n",
      "Epoch 16/20\n",
      "500/500 [==============================] - 45s 91ms/step - loss: 0.0052 - accuracy: 0.8586 - val_loss: 0.1186 - val_accuracy: 0.7100\n",
      "Epoch 17/20\n",
      "500/500 [==============================] - 45s 91ms/step - loss: 0.0045 - accuracy: 0.8566 - val_loss: 0.1203 - val_accuracy: 0.7153\n",
      "Epoch 18/20\n",
      "500/500 [==============================] - 45s 91ms/step - loss: 0.0038 - accuracy: 0.8593 - val_loss: 0.1232 - val_accuracy: 0.7128\n",
      "Epoch 19/20\n",
      "500/500 [==============================] - 46s 91ms/step - loss: 0.0033 - accuracy: 0.8609 - val_loss: 0.1265 - val_accuracy: 0.7148\n",
      "Epoch 20/20\n",
      "500/500 [==============================] - 46s 91ms/step - loss: 0.0034 - accuracy: 0.8599 - val_loss: 0.1278 - val_accuracy: 0.7105\n"
     ]
    },
    {
     "name": "stderr",
     "output_type": "stream",
     "text": [
      "INFO:absl:TPU has inputs with dynamic shapes: [<tf.Tensor 'Const:0' shape=() dtype=int32>, <tf.Tensor 'cond_8/Identity:0' shape=(None, 210) dtype=int32>, <tf.Tensor 'cond_8/Identity_1:0' shape=(None, 210) dtype=int32>]\n"
     ]
    },
    {
     "name": "stdout",
     "output_type": "stream",
     "text": [
      "WARNING:tensorflow:The parameters `output_attentions`, `output_hidden_states` and `use_cache` cannot be updated when calling a model.They have to be set to True/False in the config object (i.e.: `config=XConfig.from_pretrained('name', output_attentions=True)`).\n"
     ]
    },
    {
     "name": "stderr",
     "output_type": "stream",
     "text": [
      "WARNING:tensorflow:The parameters `output_attentions`, `output_hidden_states` and `use_cache` cannot be updated when calling a model.They have to be set to True/False in the config object (i.e.: `config=XConfig.from_pretrained('name', output_attentions=True)`).\n"
     ]
    },
    {
     "name": "stdout",
     "output_type": "stream",
     "text": [
      "WARNING:tensorflow:The parameter `return_dict` cannot be set in graph mode and will always be set to `True`.\n"
     ]
    },
    {
     "name": "stderr",
     "output_type": "stream",
     "text": [
      "WARNING:tensorflow:The parameter `return_dict` cannot be set in graph mode and will always be set to `True`.\n"
     ]
    },
    {
     "name": "stdout",
     "output_type": "stream",
     "text": [
      "\n",
      "Temps d'entrainements pour 20 epochs : 1044 secondes.\n",
      "Meilleure train_acc = 0.861, meilleure val_acc = 0.716\n",
      "\n",
      "F1_score obtenu : 0.78\n"
     ]
    },
    {
     "data": {
      "image/png": "[encoded data removed]",
      "text/plain": [
       "<Figure size 720x288 with 1 Axes>"
      ]
     },
     "metadata": {
      "needs_background": "light",
      "tags": []
     },
     "output_type": "display_data"
    }
   ],
   "source": [
    "modelize(model_bert, 20, data_bert, \"mod_bert_ft\")"
   ]
  },
  {
   "cell_type": "markdown",
   "metadata": {},
   "source": [
    "<br><img src=\"images/bert_ft.png\" width = \"600\" heights = \"336\">"
   ]
  },
  {
   "cell_type": "code",
   "execution_count": null,
   "metadata": {
    "id": "AsL31GPQRNIg",
    "jupyter": {
     "source_hidden": true
    }
   },
   "outputs": [],
   "source": [
    "results_small[\"Bert\"] = {\"Training\" : (0.550, 0.43), \"Fine-Tuning\": (0.716, 0.78)}\n",
    "\n",
    "pickle_out = open(path_data + \"results_small.pickle\", \"wb\")\n",
    "pickle.dump(results_small, pickle_out)\n",
    "pickle_out.close()"
   ]
  },
  {
   "cell_type": "markdown",
   "metadata": {
    "id": "TpfN8DqhRNQJ"
   },
   "source": [
    " "
   ]
  },
  {
   "cell_type": "markdown",
   "metadata": {
    "id": "cJLyXiC94eUM"
   },
   "source": [
    "## **4-) Modèle SciBERT**"
   ]
  },
  {
   "cell_type": "code",
   "execution_count": null,
   "metadata": {
    "colab": {
     "base_uri": "https://localhost:8080/",
     "height": 118,
     "referenced_widgets": [
      "71a12efd42d94af2b4a4da45f739f74f",
      "f03f4ee565604ed292d111b05c6500b3",
      "e82a0168ddc848369ec2f20c898c006e",
      "d665619b470546b3a8cb24e8323e6fa9",
      "2c22231ddf224100992887c8b0114676",
      "c33492ae46e94f65a33063fdcfdc8426",
      "54cc3f21581640d4b75376cb5d76c54e",
      "c8bb5f8bc7714c0a9223cff2e9a15caf",
      "6924ff9449bc490fb8f3accadd6cfac2",
      "16011af66b3940e6b3066c534b74f9ba",
      "659030acf16149f1883fe950d86beb5d",
      "0f818cb540f44b1fb945a85259cfd824",
      "e2bcf10a992c432abf261f5cd9204bf1",
      "a46d1bd33b864c378b5778c8b7b63faa",
      "8ade57ac3145437d9f71631bffc42f2f",
      "4189fb45bf564bd5a3faa115aa419f15"
     ]
    },
    "collapsed": true,
    "id": "hfsWf9sj4cGJ",
    "jupyter": {
     "outputs_hidden": true
    },
    "outputId": "56e19c38-5cb1-4995-a296-9eb3f21a448a"
   },
   "outputs": [
    {
     "data": {
      "application/vnd.jupyter.widget-view+json": {
       "model_id": "71a12efd42d94af2b4a4da45f739f74f",
       "version_major": 2,
       "version_minor": 0
      },
      "text/plain": [
       "HBox(children=(FloatProgress(value=0.0, description='Downloading', max=385.0, style=ProgressStyle(description_…"
      ]
     },
     "metadata": {
      "tags": []
     },
     "output_type": "display_data"
    },
    {
     "name": "stdout",
     "output_type": "stream",
     "text": [
      "\n"
     ]
    },
    {
     "data": {
      "application/vnd.jupyter.widget-view+json": {
       "model_id": "6924ff9449bc490fb8f3accadd6cfac2",
       "version_major": 2,
       "version_minor": 0
      },
      "text/plain": [
       "HBox(children=(FloatProgress(value=0.0, description='Downloading', max=227845.0, style=ProgressStyle(descripti…"
      ]
     },
     "metadata": {
      "tags": []
     },
     "output_type": "display_data"
    },
    {
     "name": "stdout",
     "output_type": "stream",
     "text": [
      "\n"
     ]
    }
   ],
   "source": [
    "model_name = 'allenai/scibert_scivocab_uncased'\n",
    "tokenizer = AutoTokenizer.from_pretrained(model_name)"
   ]
  },
  {
   "cell_type": "code",
   "execution_count": null,
   "metadata": {
    "colab": {
     "base_uri": "https://localhost:8080/"
    },
    "id": "mb45OBFE4cIx",
    "outputId": "4a10ce7d-2425-4f50-bd3c-8452ae97d0df"
   },
   "outputs": [
    {
     "name": "stdout",
     "output_type": "stream",
     "text": [
      "L'encodage a pris : 21 secondes.\n"
     ]
    }
   ],
   "source": [
    "start = time()\n",
    "\n",
    "X_train_ids, X_train_attention = batch_encode(tokenizer, X_train)\n",
    "X_test_ids, X_test_attention = batch_encode(tokenizer, X_test)\n",
    "\n",
    "data_sci = [[X_train_ids, X_train_attention], y_train, [X_test_ids, X_test_attention], y_test]\n",
    "\n",
    "print(f\"L'encodage a pris : {time()-start:.0f} secondes.\")"
   ]
  },
  {
   "cell_type": "code",
   "execution_count": null,
   "metadata": {
    "id": "IdEcw-BL4cLe"
   },
   "outputs": [],
   "source": [
    "def build_sci_model(max_length = MAX_LENGTH):\n",
    "                    \n",
    "    sci_mod = TFAutoModel.from_pretrained('allenai/scibert_scivocab_uncased', from_pt=True)\n",
    "\n",
    "    for layer in sci_mod.layers:\n",
    "        layer.trainable = False\n",
    "\n",
    "    input_ids_layer = tf.keras.layers.Input(shape=(max_length,), \n",
    "                                            name='input_ids', \n",
    "                                            dtype='int32')\n",
    "    input_attention_layer = tf.keras.layers.Input(shape=(max_length,), \n",
    "                                                  name='input_attention', \n",
    "                                                  dtype='int32')\n",
    "\n",
    "    last_hidden_state = sci_mod([input_ids_layer, input_attention_layer])[0]\n",
    "\n",
    "    cls_token = last_hidden_state[:, 0, :]\n",
    "\n",
    "    output = tf.keras.layers.Dense(25, activation='sigmoid')(cls_token)\n",
    "    \n",
    "    model = tf.keras.Model([input_ids_layer, input_attention_layer], output)\n",
    "\n",
    "    model.compile(tf.keras.optimizers.Adam(),\n",
    "                  loss = 'binary_crossentropy',\n",
    "                  metrics='accuracy')\n",
    "    \n",
    "    return model"
   ]
  },
  {
   "cell_type": "code",
   "execution_count": null,
   "metadata": {
    "colab": {
     "base_uri": "https://localhost:8080/",
     "height": 753,
     "referenced_widgets": [
      "ba94e2191d5046288938fdd2edf2f24e",
      "0f827c767b294216995dfef228b0f547",
      "890bad4efe014eaf85c51278797b6400",
      "33547b80da494a1a95427efaa1bea26d",
      "258fd822d21647609d618af8ac5527c6",
      "a918a63ec1de46a7be3798287f2d229b",
      "f45fe4aaeb774ed49a2d7330bd7cf0fd",
      "cde14ae8b9ee47c682330dffc433ca13"
     ]
    },
    "collapsed": true,
    "id": "JWnLXIMS4cRC",
    "jupyter": {
     "outputs_hidden": true
    },
    "outputId": "18a40f22-86da-418f-a881-2639aee277d7"
   },
   "outputs": [
    {
     "data": {
      "application/vnd.jupyter.widget-view+json": {
       "model_id": "ba94e2191d5046288938fdd2edf2f24e",
       "version_major": 2,
       "version_minor": 0
      },
      "text/plain": [
       "HBox(children=(FloatProgress(value=0.0, description='Downloading', max=442221694.0, style=ProgressStyle(descri…"
      ]
     },
     "metadata": {
      "tags": []
     },
     "output_type": "display_data"
    },
    {
     "name": "stdout",
     "output_type": "stream",
     "text": [
      "\n"
     ]
    },
    {
     "name": "stderr",
     "output_type": "stream",
     "text": [
      "Some weights of the PyTorch model were not used when initializing the TF 2.0 model TFBertModel: ['cls.predictions.transform.dense.bias', 'cls.seq_relationship.bias', 'cls.predictions.decoder.weight', 'cls.predictions.transform.LayerNorm.weight', 'cls.seq_relationship.weight', 'cls.predictions.decoder.bias', 'cls.predictions.transform.LayerNorm.bias', 'cls.predictions.bias', 'cls.predictions.transform.dense.weight']\n",
      "- This IS expected if you are initializing TFBertModel from a PyTorch model trained on another task or with another architecture (e.g. initializing a TFBertForSequenceClassification model from a BertForPreTraining model).\n",
      "- This IS NOT expected if you are initializing TFBertModel from a PyTorch model that you expect to be exactly identical (e.g. initializing a TFBertForSequenceClassification model from a BertForSequenceClassification model).\n",
      "All the weights of TFBertModel were initialized from the PyTorch model.\n",
      "If your task is similar to the task the model of the checkpoint was trained on, you can already use TFBertModel for predictions without further training.\n"
     ]
    },
    {
     "name": "stdout",
     "output_type": "stream",
     "text": [
      "WARNING:tensorflow:The parameters `output_attentions`, `output_hidden_states` and `use_cache` cannot be updated when calling a model.They have to be set to True/False in the config object (i.e.: `config=XConfig.from_pretrained('name', output_attentions=True)`).\n",
      "WARNING:tensorflow:AutoGraph could not transform <bound method Socket.send of <zmq.sugar.socket.Socket object at 0x7efe2c19bc20>> and will run it as-is.\n",
      "Please report this to the TensorFlow team. When filing the bug, set the verbosity to 10 (on Linux, `export AUTOGRAPH_VERBOSITY=10`) and attach the full output.\n",
      "Cause: module, class, method, function, traceback, frame, or code object was expected, got cython_function_or_method\n",
      "To silence this warning, decorate the function with @tf.autograph.experimental.do_not_convert\n"
     ]
    },
    {
     "name": "stderr",
     "output_type": "stream",
     "text": [
      "WARNING:tensorflow:AutoGraph could not transform <bound method Socket.send of <zmq.sugar.socket.Socket object at 0x7efe2c19bc20>> and will run it as-is.\n",
      "Please report this to the TensorFlow team. When filing the bug, set the verbosity to 10 (on Linux, `export AUTOGRAPH_VERBOSITY=10`) and attach the full output.\n",
      "Cause: module, class, method, function, traceback, frame, or code object was expected, got cython_function_or_method\n",
      "To silence this warning, decorate the function with @tf.autograph.experimental.do_not_convert\n"
     ]
    },
    {
     "name": "stdout",
     "output_type": "stream",
     "text": [
      "WARNING: AutoGraph could not transform <bound method Socket.send of <zmq.sugar.socket.Socket object at 0x7efe2c19bc20>> and will run it as-is.\n",
      "Please report this to the TensorFlow team. When filing the bug, set the verbosity to 10 (on Linux, `export AUTOGRAPH_VERBOSITY=10`) and attach the full output.\n",
      "Cause: module, class, method, function, traceback, frame, or code object was expected, got cython_function_or_method\n",
      "To silence this warning, decorate the function with @tf.autograph.experimental.do_not_convert\n"
     ]
    },
    {
     "name": "stderr",
     "output_type": "stream",
     "text": [
      "WARNING:tensorflow:The parameters `output_attentions`, `output_hidden_states` and `use_cache` cannot be updated when calling a model.They have to be set to True/False in the config object (i.e.: `config=XConfig.from_pretrained('name', output_attentions=True)`).\n"
     ]
    },
    {
     "name": "stdout",
     "output_type": "stream",
     "text": [
      "WARNING:tensorflow:AutoGraph could not transform <function wrap at 0x7efe4b4c6cb0> and will run it as-is.\n",
      "Cause: while/else statement not yet supported\n",
      "To silence this warning, decorate the function with @tf.autograph.experimental.do_not_convert\n"
     ]
    },
    {
     "name": "stderr",
     "output_type": "stream",
     "text": [
      "WARNING:tensorflow:AutoGraph could not transform <function wrap at 0x7efe4b4c6cb0> and will run it as-is.\n",
      "Cause: while/else statement not yet supported\n",
      "To silence this warning, decorate the function with @tf.autograph.experimental.do_not_convert\n"
     ]
    },
    {
     "name": "stdout",
     "output_type": "stream",
     "text": [
      "WARNING:tensorflow:The parameter `return_dict` cannot be set in graph mode and will always be set to `True`.\n",
      "WARNING: AutoGraph could not transform <function wrap at 0x7efe4b4c6cb0> and will run it as-is.\n",
      "Cause: while/else statement not yet supported\n",
      "To silence this warning, decorate the function with @tf.autograph.experimental.do_not_convert\n"
     ]
    },
    {
     "name": "stderr",
     "output_type": "stream",
     "text": [
      "WARNING:tensorflow:The parameter `return_dict` cannot be set in graph mode and will always be set to `True`.\n"
     ]
    },
    {
     "name": "stdout",
     "output_type": "stream",
     "text": [
      "WARNING:tensorflow:From /usr/local/lib/python3.7/dist-packages/tensorflow/python/ops/array_ops.py:5049: calling gather (from tensorflow.python.ops.array_ops) with validate_indices is deprecated and will be removed in a future version.\n",
      "Instructions for updating:\n",
      "The `validate_indices` argument has no effect. Indices are always validated on CPU and never validated on GPU.\n"
     ]
    },
    {
     "name": "stderr",
     "output_type": "stream",
     "text": [
      "WARNING:tensorflow:From /usr/local/lib/python3.7/dist-packages/tensorflow/python/ops/array_ops.py:5049: calling gather (from tensorflow.python.ops.array_ops) with validate_indices is deprecated and will be removed in a future version.\n",
      "Instructions for updating:\n",
      "The `validate_indices` argument has no effect. Indices are always validated on CPU and never validated on GPU.\n"
     ]
    }
   ],
   "source": [
    "with strategy.scope():\n",
    "    model_sci = build_sci_model()"
   ]
  },
  {
   "cell_type": "code",
   "execution_count": null,
   "metadata": {
    "colab": {
     "base_uri": "https://localhost:8080/",
     "height": 1000
    },
    "collapsed": true,
    "id": "f7qVcPkG4cT0",
    "jupyter": {
     "outputs_hidden": true
    },
    "outputId": "a636830a-7e3f-46b1-f2de-7ba5501db490"
   },
   "outputs": [
    {
     "name": "stdout",
     "output_type": "stream",
     "text": [
      "Epoch 1/50\n",
      "WARNING:tensorflow:The parameters `output_attentions`, `output_hidden_states` and `use_cache` cannot be updated when calling a model.They have to be set to True/False in the config object (i.e.: `config=XConfig.from_pretrained('name', output_attentions=True)`).\n"
     ]
    },
    {
     "name": "stderr",
     "output_type": "stream",
     "text": [
      "WARNING:tensorflow:The parameters `output_attentions`, `output_hidden_states` and `use_cache` cannot be updated when calling a model.They have to be set to True/False in the config object (i.e.: `config=XConfig.from_pretrained('name', output_attentions=True)`).\n"
     ]
    },
    {
     "name": "stdout",
     "output_type": "stream",
     "text": [
      "WARNING:tensorflow:The parameter `return_dict` cannot be set in graph mode and will always be set to `True`.\n"
     ]
    },
    {
     "name": "stderr",
     "output_type": "stream",
     "text": [
      "WARNING:tensorflow:The parameter `return_dict` cannot be set in graph mode and will always be set to `True`.\n"
     ]
    },
    {
     "name": "stdout",
     "output_type": "stream",
     "text": [
      "WARNING:tensorflow:The parameters `output_attentions`, `output_hidden_states` and `use_cache` cannot be updated when calling a model.They have to be set to True/False in the config object (i.e.: `config=XConfig.from_pretrained('name', output_attentions=True)`).\n"
     ]
    },
    {
     "name": "stderr",
     "output_type": "stream",
     "text": [
      "WARNING:tensorflow:The parameters `output_attentions`, `output_hidden_states` and `use_cache` cannot be updated when calling a model.They have to be set to True/False in the config object (i.e.: `config=XConfig.from_pretrained('name', output_attentions=True)`).\n"
     ]
    },
    {
     "name": "stdout",
     "output_type": "stream",
     "text": [
      "WARNING:tensorflow:The parameter `return_dict` cannot be set in graph mode and will always be set to `True`.\n"
     ]
    },
    {
     "name": "stderr",
     "output_type": "stream",
     "text": [
      "WARNING:tensorflow:The parameter `return_dict` cannot be set in graph mode and will always be set to `True`.\n"
     ]
    },
    {
     "name": "stdout",
     "output_type": "stream",
     "text": [
      "499/500 [============================>.] - ETA: 0s - loss: 0.1882 - accuracy: 0.2532WARNING:tensorflow:The parameters `output_attentions`, `output_hidden_states` and `use_cache` cannot be updated when calling a model.They have to be set to True/False in the config object (i.e.: `config=XConfig.from_pretrained('name', output_attentions=True)`).\n"
     ]
    },
    {
     "name": "stderr",
     "output_type": "stream",
     "text": [
      "WARNING:tensorflow:The parameters `output_attentions`, `output_hidden_states` and `use_cache` cannot be updated when calling a model.They have to be set to True/False in the config object (i.e.: `config=XConfig.from_pretrained('name', output_attentions=True)`).\n"
     ]
    },
    {
     "name": "stdout",
     "output_type": "stream",
     "text": [
      "WARNING:tensorflow:The parameter `return_dict` cannot be set in graph mode and will always be set to `True`.\n"
     ]
    },
    {
     "name": "stderr",
     "output_type": "stream",
     "text": [
      "WARNING:tensorflow:The parameter `return_dict` cannot be set in graph mode and will always be set to `True`.\n"
     ]
    },
    {
     "name": "stdout",
     "output_type": "stream",
     "text": [
      "500/500 [==============================] - 46s 61ms/step - loss: 0.1882 - accuracy: 0.2533 - val_loss: 0.1669 - val_accuracy: 0.3415\n",
      "Epoch 2/50\n",
      "500/500 [==============================] - 26s 51ms/step - loss: 0.1622 - accuracy: 0.3418 - val_loss: 0.1571 - val_accuracy: 0.3588\n",
      "Epoch 3/50\n",
      "500/500 [==============================] - 26s 52ms/step - loss: 0.1544 - accuracy: 0.3713 - val_loss: 0.1519 - val_accuracy: 0.3688\n",
      "Epoch 4/50\n",
      "500/500 [==============================] - 26s 51ms/step - loss: 0.1491 - accuracy: 0.3968 - val_loss: 0.1469 - val_accuracy: 0.4065\n",
      "Epoch 5/50\n",
      "500/500 [==============================] - 26s 52ms/step - loss: 0.1464 - accuracy: 0.3982 - val_loss: 0.1437 - val_accuracy: 0.4033\n",
      "Epoch 6/50\n",
      "500/500 [==============================] - 25s 49ms/step - loss: 0.1438 - accuracy: 0.4131 - val_loss: 0.1424 - val_accuracy: 0.4120\n",
      "Epoch 7/50\n",
      "500/500 [==============================] - 26s 52ms/step - loss: 0.1421 - accuracy: 0.4193 - val_loss: 0.1418 - val_accuracy: 0.4105\n",
      "Epoch 8/50\n",
      "500/500 [==============================] - 25s 49ms/step - loss: 0.1405 - accuracy: 0.4271 - val_loss: 0.1409 - val_accuracy: 0.4255\n",
      "Epoch 9/50\n",
      "500/500 [==============================] - 26s 51ms/step - loss: 0.1399 - accuracy: 0.4231 - val_loss: 0.1403 - val_accuracy: 0.4245\n",
      "Epoch 10/50\n",
      "500/500 [==============================] - 25s 50ms/step - loss: 0.1383 - accuracy: 0.4333 - val_loss: 0.1382 - val_accuracy: 0.4333\n",
      "Epoch 11/50\n",
      "500/500 [==============================] - 26s 52ms/step - loss: 0.1374 - accuracy: 0.4342 - val_loss: 0.1377 - val_accuracy: 0.4500\n",
      "Epoch 12/50\n",
      "500/500 [==============================] - 26s 51ms/step - loss: 0.1369 - accuracy: 0.4416 - val_loss: 0.1370 - val_accuracy: 0.4428\n",
      "Epoch 13/50\n",
      "500/500 [==============================] - 25s 49ms/step - loss: 0.1367 - accuracy: 0.4404 - val_loss: 0.1354 - val_accuracy: 0.4525\n",
      "Epoch 14/50\n",
      "500/500 [==============================] - 26s 52ms/step - loss: 0.1364 - accuracy: 0.4370 - val_loss: 0.1362 - val_accuracy: 0.4558\n",
      "Epoch 15/50\n",
      "500/500 [==============================] - 26s 51ms/step - loss: 0.1359 - accuracy: 0.4397 - val_loss: 0.1365 - val_accuracy: 0.4420\n",
      "Epoch 16/50\n",
      "500/500 [==============================] - 25s 49ms/step - loss: 0.1351 - accuracy: 0.4432 - val_loss: 0.1356 - val_accuracy: 0.4555\n",
      "Epoch 17/50\n",
      "500/500 [==============================] - 25s 50ms/step - loss: 0.1352 - accuracy: 0.4447 - val_loss: 0.1364 - val_accuracy: 0.4495\n",
      "Epoch 18/50\n",
      "500/500 [==============================] - 25s 49ms/step - loss: 0.1340 - accuracy: 0.4484 - val_loss: 0.1346 - val_accuracy: 0.4505\n",
      "Epoch 19/50\n",
      "500/500 [==============================] - 25s 49ms/step - loss: 0.1345 - accuracy: 0.4444 - val_loss: 0.1361 - val_accuracy: 0.4425\n",
      "Epoch 20/50\n",
      "500/500 [==============================] - 25s 50ms/step - loss: 0.1339 - accuracy: 0.4463 - val_loss: 0.1357 - val_accuracy: 0.4475\n",
      "Epoch 21/50\n",
      "500/500 [==============================] - 25s 49ms/step - loss: 0.1339 - accuracy: 0.4457 - val_loss: 0.1339 - val_accuracy: 0.4655\n",
      "Epoch 22/50\n",
      "500/500 [==============================] - 26s 51ms/step - loss: 0.1332 - accuracy: 0.4507 - val_loss: 0.1352 - val_accuracy: 0.4478\n",
      "Epoch 23/50\n",
      "500/500 [==============================] - 25s 50ms/step - loss: 0.1333 - accuracy: 0.4473 - val_loss: 0.1346 - val_accuracy: 0.4473\n",
      "Epoch 24/50\n",
      "500/500 [==============================] - 25s 49ms/step - loss: 0.1331 - accuracy: 0.4485 - val_loss: 0.1343 - val_accuracy: 0.4565\n",
      "Epoch 25/50\n",
      "500/500 [==============================] - 25s 50ms/step - loss: 0.1332 - accuracy: 0.4487 - val_loss: 0.1339 - val_accuracy: 0.4533\n",
      "Epoch 26/50\n",
      "500/500 [==============================] - 25s 50ms/step - loss: 0.1330 - accuracy: 0.4526 - val_loss: 0.1334 - val_accuracy: 0.4695\n",
      "Epoch 27/50\n",
      "500/500 [==============================] - 26s 52ms/step - loss: 0.1331 - accuracy: 0.4521 - val_loss: 0.1341 - val_accuracy: 0.4473\n",
      "Epoch 28/50\n",
      "500/500 [==============================] - 25s 50ms/step - loss: 0.1329 - accuracy: 0.4551 - val_loss: 0.1324 - val_accuracy: 0.4675\n",
      "Epoch 29/50\n",
      "500/500 [==============================] - 25s 49ms/step - loss: 0.1322 - accuracy: 0.4540 - val_loss: 0.1334 - val_accuracy: 0.4600\n",
      "Epoch 30/50\n",
      "500/500 [==============================] - 25s 50ms/step - loss: 0.1329 - accuracy: 0.4493 - val_loss: 0.1341 - val_accuracy: 0.4490\n",
      "Epoch 31/50\n",
      "500/500 [==============================] - 25s 50ms/step - loss: 0.1322 - accuracy: 0.4540 - val_loss: 0.1314 - val_accuracy: 0.4623\n",
      "Epoch 32/50\n",
      "500/500 [==============================] - 25s 49ms/step - loss: 0.1320 - accuracy: 0.4578 - val_loss: 0.1322 - val_accuracy: 0.4598\n",
      "Epoch 33/50\n",
      "500/500 [==============================] - 25s 49ms/step - loss: 0.1322 - accuracy: 0.4508 - val_loss: 0.1330 - val_accuracy: 0.4630\n",
      "Epoch 34/50\n",
      "500/500 [==============================] - 25s 50ms/step - loss: 0.1316 - accuracy: 0.4513 - val_loss: 0.1338 - val_accuracy: 0.4628\n",
      "Epoch 35/50\n",
      "500/500 [==============================] - 25s 50ms/step - loss: 0.1317 - accuracy: 0.4573 - val_loss: 0.1330 - val_accuracy: 0.4598\n",
      "Epoch 36/50\n",
      "500/500 [==============================] - 25s 49ms/step - loss: 0.1325 - accuracy: 0.4508 - val_loss: 0.1326 - val_accuracy: 0.4675\n",
      "Epoch 37/50\n",
      "500/500 [==============================] - 25s 50ms/step - loss: 0.1318 - accuracy: 0.4528 - val_loss: 0.1349 - val_accuracy: 0.4380\n",
      "Epoch 38/50\n",
      "500/500 [==============================] - 25s 50ms/step - loss: 0.1312 - accuracy: 0.4575 - val_loss: 0.1334 - val_accuracy: 0.4523\n",
      "Epoch 39/50\n",
      "500/500 [==============================] - 25s 49ms/step - loss: 0.1313 - accuracy: 0.4575 - val_loss: 0.1320 - val_accuracy: 0.4508\n",
      "Epoch 40/50\n",
      "500/500 [==============================] - 25s 49ms/step - loss: 0.1315 - accuracy: 0.4511 - val_loss: 0.1335 - val_accuracy: 0.4485\n",
      "Epoch 41/50\n",
      "500/500 [==============================] - 25s 49ms/step - loss: 0.1316 - accuracy: 0.4546 - val_loss: 0.1327 - val_accuracy: 0.4760\n",
      "Epoch 42/50\n",
      "500/500 [==============================] - 26s 52ms/step - loss: 0.1318 - accuracy: 0.4568 - val_loss: 0.1312 - val_accuracy: 0.4695\n",
      "Epoch 43/50\n",
      "500/500 [==============================] - 25s 49ms/step - loss: 0.1313 - accuracy: 0.4535 - val_loss: 0.1314 - val_accuracy: 0.4793\n",
      "Epoch 44/50\n",
      "500/500 [==============================] - 26s 52ms/step - loss: 0.1315 - accuracy: 0.4517 - val_loss: 0.1328 - val_accuracy: 0.4585\n",
      "Epoch 45/50\n",
      "500/500 [==============================] - 25s 49ms/step - loss: 0.1313 - accuracy: 0.4506 - val_loss: 0.1315 - val_accuracy: 0.4643\n",
      "Epoch 46/50\n",
      "500/500 [==============================] - 25s 49ms/step - loss: 0.1316 - accuracy: 0.4546 - val_loss: 0.1319 - val_accuracy: 0.4628\n",
      "Epoch 47/50\n",
      "500/500 [==============================] - 25s 49ms/step - loss: 0.1312 - accuracy: 0.4556 - val_loss: 0.1334 - val_accuracy: 0.4638\n",
      "Epoch 48/50\n",
      "500/500 [==============================] - 25s 50ms/step - loss: 0.1309 - accuracy: 0.4544 - val_loss: 0.1326 - val_accuracy: 0.4433\n",
      "Epoch 49/50\n",
      "500/500 [==============================] - 25s 49ms/step - loss: 0.1310 - accuracy: 0.4584 - val_loss: 0.1323 - val_accuracy: 0.4615\n",
      "Epoch 50/50\n",
      "500/500 [==============================] - 25s 49ms/step - loss: 0.1314 - accuracy: 0.4541 - val_loss: 0.1313 - val_accuracy: 0.4705\n"
     ]
    },
    {
     "name": "stderr",
     "output_type": "stream",
     "text": [
      "INFO:absl:TPU has inputs with dynamic shapes: [<tf.Tensor 'Const:0' shape=() dtype=int32>, <tf.Tensor 'cond_8/Identity:0' shape=(None, 512) dtype=int32>, <tf.Tensor 'cond_8/Identity_1:0' shape=(None, 512) dtype=int32>]\n"
     ]
    },
    {
     "name": "stdout",
     "output_type": "stream",
     "text": [
      "WARNING:tensorflow:The parameters `output_attentions`, `output_hidden_states` and `use_cache` cannot be updated when calling a model.They have to be set to True/False in the config object (i.e.: `config=XConfig.from_pretrained('name', output_attentions=True)`).\n"
     ]
    },
    {
     "name": "stderr",
     "output_type": "stream",
     "text": [
      "WARNING:tensorflow:The parameters `output_attentions`, `output_hidden_states` and `use_cache` cannot be updated when calling a model.They have to be set to True/False in the config object (i.e.: `config=XConfig.from_pretrained('name', output_attentions=True)`).\n"
     ]
    },
    {
     "name": "stdout",
     "output_type": "stream",
     "text": [
      "WARNING:tensorflow:The parameter `return_dict` cannot be set in graph mode and will always be set to `True`.\n"
     ]
    },
    {
     "name": "stderr",
     "output_type": "stream",
     "text": [
      "WARNING:tensorflow:The parameter `return_dict` cannot be set in graph mode and will always be set to `True`.\n"
     ]
    },
    {
     "name": "stdout",
     "output_type": "stream",
     "text": [
      "\n",
      "Temps d'entrainements pour 50 epochs : 1419 secondes.\n",
      "Meilleure train_acc = 0.458, meilleure val_acc = 0.479\n",
      "\n",
      "F1_score obtenu : 0.34\n"
     ]
    },
    {
     "data": {
      "image/png": "[encoded data removed]",
      "text/plain": [
       "<Figure size 720x288 with 1 Axes>"
      ]
     },
     "metadata": {
      "needs_background": "light",
      "tags": []
     },
     "output_type": "display_data"
    }
   ],
   "source": [
    "modelize(model_sci, 50, data_sci, \"mod_sci_t\")"
   ]
  },
  {
   "cell_type": "markdown",
   "metadata": {},
   "source": [
    "<br><img src=\"images/scibert_t.png\" width = \"600\" heights = \"336\">"
   ]
  },
  {
   "cell_type": "markdown",
   "metadata": {
    "id": "pLmbjOSnptd0"
   },
   "source": [
    "**Fine-tuning SciBERT**"
   ]
  },
  {
   "cell_type": "code",
   "execution_count": null,
   "metadata": {
    "id": "o_Cjh1el4cWp"
   },
   "outputs": [],
   "source": [
    "for layer in model_sci.layers :\n",
    "    layer.trainable = True\n",
    "    \n",
    "model_sci.layers[-1].trainable = False\n",
    "\n",
    "model_sci.compile(tf.keras.optimizers.Adam(learning_rate = 1e-5),\n",
    "                       loss = 'binary_crossentropy',\n",
    "                       metrics='accuracy')"
   ]
  },
  {
   "cell_type": "code",
   "execution_count": null,
   "metadata": {
    "colab": {
     "base_uri": "https://localhost:8080/",
     "height": 1000
    },
    "collapsed": true,
    "id": "zU_6WnDn4cZL",
    "jupyter": {
     "outputs_hidden": true
    },
    "outputId": "bed0fed7-4279-42c7-9ca9-0874ab33f075"
   },
   "outputs": [
    {
     "name": "stdout",
     "output_type": "stream",
     "text": [
      "Epoch 1/20\n",
      "WARNING:tensorflow:The parameters `output_attentions`, `output_hidden_states` and `use_cache` cannot be updated when calling a model.They have to be set to True/False in the config object (i.e.: `config=XConfig.from_pretrained('name', output_attentions=True)`).\n"
     ]
    },
    {
     "name": "stderr",
     "output_type": "stream",
     "text": [
      "WARNING:tensorflow:The parameters `output_attentions`, `output_hidden_states` and `use_cache` cannot be updated when calling a model.They have to be set to True/False in the config object (i.e.: `config=XConfig.from_pretrained('name', output_attentions=True)`).\n"
     ]
    },
    {
     "name": "stdout",
     "output_type": "stream",
     "text": [
      "WARNING:tensorflow:The parameter `return_dict` cannot be set in graph mode and will always be set to `True`.\n"
     ]
    },
    {
     "name": "stderr",
     "output_type": "stream",
     "text": [
      "WARNING:tensorflow:The parameter `return_dict` cannot be set in graph mode and will always be set to `True`.\n"
     ]
    },
    {
     "name": "stdout",
     "output_type": "stream",
     "text": [
      "WARNING:tensorflow:Gradients do not exist for variables ['tf_bert_model/bert/pooler/dense/kernel:0', 'tf_bert_model/bert/pooler/dense/bias:0'] when minimizing the loss.\n"
     ]
    },
    {
     "name": "stderr",
     "output_type": "stream",
     "text": [
      "WARNING:tensorflow:Gradients do not exist for variables ['tf_bert_model/bert/pooler/dense/kernel:0', 'tf_bert_model/bert/pooler/dense/bias:0'] when minimizing the loss.\n"
     ]
    },
    {
     "name": "stdout",
     "output_type": "stream",
     "text": [
      "WARNING:tensorflow:The parameters `output_attentions`, `output_hidden_states` and `use_cache` cannot be updated when calling a model.They have to be set to True/False in the config object (i.e.: `config=XConfig.from_pretrained('name', output_attentions=True)`).\n"
     ]
    },
    {
     "name": "stderr",
     "output_type": "stream",
     "text": [
      "WARNING:tensorflow:The parameters `output_attentions`, `output_hidden_states` and `use_cache` cannot be updated when calling a model.They have to be set to True/False in the config object (i.e.: `config=XConfig.from_pretrained('name', output_attentions=True)`).\n"
     ]
    },
    {
     "name": "stdout",
     "output_type": "stream",
     "text": [
      "WARNING:tensorflow:The parameter `return_dict` cannot be set in graph mode and will always be set to `True`.\n"
     ]
    },
    {
     "name": "stderr",
     "output_type": "stream",
     "text": [
      "WARNING:tensorflow:The parameter `return_dict` cannot be set in graph mode and will always be set to `True`.\n"
     ]
    },
    {
     "name": "stdout",
     "output_type": "stream",
     "text": [
      "WARNING:tensorflow:Gradients do not exist for variables ['tf_bert_model/bert/pooler/dense/kernel:0', 'tf_bert_model/bert/pooler/dense/bias:0'] when minimizing the loss.\n"
     ]
    },
    {
     "name": "stderr",
     "output_type": "stream",
     "text": [
      "WARNING:tensorflow:Gradients do not exist for variables ['tf_bert_model/bert/pooler/dense/kernel:0', 'tf_bert_model/bert/pooler/dense/bias:0'] when minimizing the loss.\n"
     ]
    },
    {
     "name": "stdout",
     "output_type": "stream",
     "text": [
      "500/500 [==============================] - ETA: 0s - loss: 0.0804 - accuracy: 0.6564WARNING:tensorflow:The parameters `output_attentions`, `output_hidden_states` and `use_cache` cannot be updated when calling a model.They have to be set to True/False in the config object (i.e.: `config=XConfig.from_pretrained('name', output_attentions=True)`).\n"
     ]
    },
    {
     "name": "stderr",
     "output_type": "stream",
     "text": [
      "WARNING:tensorflow:The parameters `output_attentions`, `output_hidden_states` and `use_cache` cannot be updated when calling a model.They have to be set to True/False in the config object (i.e.: `config=XConfig.from_pretrained('name', output_attentions=True)`).\n"
     ]
    },
    {
     "name": "stdout",
     "output_type": "stream",
     "text": [
      "WARNING:tensorflow:The parameter `return_dict` cannot be set in graph mode and will always be set to `True`.\n"
     ]
    },
    {
     "name": "stderr",
     "output_type": "stream",
     "text": [
      "WARNING:tensorflow:The parameter `return_dict` cannot be set in graph mode and will always be set to `True`.\n"
     ]
    },
    {
     "name": "stdout",
     "output_type": "stream",
     "text": [
      "500/500 [==============================] - 138s 154ms/step - loss: 0.0804 - accuracy: 0.6564 - val_loss: 0.0679 - val_accuracy: 0.6923\n",
      "Epoch 2/20\n",
      "500/500 [==============================] - 71s 142ms/step - loss: 0.0606 - accuracy: 0.7086 - val_loss: 0.0652 - val_accuracy: 0.6990\n",
      "Epoch 3/20\n",
      "500/500 [==============================] - 71s 143ms/step - loss: 0.0503 - accuracy: 0.7442 - val_loss: 0.0637 - val_accuracy: 0.7063\n",
      "Epoch 4/20\n",
      "500/500 [==============================] - 71s 142ms/step - loss: 0.0419 - accuracy: 0.7674 - val_loss: 0.0659 - val_accuracy: 0.7100\n",
      "Epoch 5/20\n",
      "500/500 [==============================] - 71s 142ms/step - loss: 0.0341 - accuracy: 0.7871 - val_loss: 0.0701 - val_accuracy: 0.7143\n",
      "Epoch 6/20\n",
      "500/500 [==============================] - 71s 143ms/step - loss: 0.0267 - accuracy: 0.8080 - val_loss: 0.0772 - val_accuracy: 0.7013\n",
      "Epoch 7/20\n",
      "500/500 [==============================] - 71s 141ms/step - loss: 0.0211 - accuracy: 0.8262 - val_loss: 0.0791 - val_accuracy: 0.7068\n",
      "Epoch 8/20\n",
      "500/500 [==============================] - 71s 141ms/step - loss: 0.0164 - accuracy: 0.8357 - val_loss: 0.0876 - val_accuracy: 0.7015\n",
      "Epoch 9/20\n",
      "500/500 [==============================] - 71s 142ms/step - loss: 0.0129 - accuracy: 0.8410 - val_loss: 0.0905 - val_accuracy: 0.7080\n",
      "Epoch 10/20\n",
      "500/500 [==============================] - 71s 142ms/step - loss: 0.0102 - accuracy: 0.8494 - val_loss: 0.0935 - val_accuracy: 0.7133\n",
      "Epoch 11/20\n",
      "500/500 [==============================] - 71s 141ms/step - loss: 0.0081 - accuracy: 0.8479 - val_loss: 0.1024 - val_accuracy: 0.7038\n",
      "Epoch 12/20\n",
      "500/500 [==============================] - 70s 141ms/step - loss: 0.0071 - accuracy: 0.8514 - val_loss: 0.1023 - val_accuracy: 0.7090\n",
      "Epoch 13/20\n",
      "500/500 [==============================] - 71s 141ms/step - loss: 0.0059 - accuracy: 0.8498 - val_loss: 0.1067 - val_accuracy: 0.7095\n",
      "Epoch 14/20\n",
      "500/500 [==============================] - 71s 141ms/step - loss: 0.0050 - accuracy: 0.8519 - val_loss: 0.1079 - val_accuracy: 0.7168\n",
      "Epoch 15/20\n",
      "500/500 [==============================] - 71s 143ms/step - loss: 0.0041 - accuracy: 0.8515 - val_loss: 0.1113 - val_accuracy: 0.7075\n",
      "Epoch 16/20\n",
      "500/500 [==============================] - 71s 141ms/step - loss: 0.0035 - accuracy: 0.8519 - val_loss: 0.1135 - val_accuracy: 0.7185\n",
      "Epoch 17/20\n",
      "500/500 [==============================] - 71s 143ms/step - loss: 0.0033 - accuracy: 0.8538 - val_loss: 0.1143 - val_accuracy: 0.7163\n",
      "Epoch 18/20\n",
      "500/500 [==============================] - 71s 141ms/step - loss: 0.0029 - accuracy: 0.8519 - val_loss: 0.1168 - val_accuracy: 0.7158\n",
      "Epoch 19/20\n",
      "500/500 [==============================] - 71s 142ms/step - loss: 0.0026 - accuracy: 0.8545 - val_loss: 0.1222 - val_accuracy: 0.7133\n",
      "Epoch 20/20\n",
      "500/500 [==============================] - 71s 141ms/step - loss: 0.0027 - accuracy: 0.8554 - val_loss: 0.1197 - val_accuracy: 0.7143\n"
     ]
    },
    {
     "name": "stderr",
     "output_type": "stream",
     "text": [
      "INFO:absl:TPU has inputs with dynamic shapes: [<tf.Tensor 'Const:0' shape=() dtype=int32>, <tf.Tensor 'cond_8/Identity:0' shape=(None, 512) dtype=int32>, <tf.Tensor 'cond_8/Identity_1:0' shape=(None, 512) dtype=int32>]\n"
     ]
    },
    {
     "name": "stdout",
     "output_type": "stream",
     "text": [
      "WARNING:tensorflow:The parameters `output_attentions`, `output_hidden_states` and `use_cache` cannot be updated when calling a model.They have to be set to True/False in the config object (i.e.: `config=XConfig.from_pretrained('name', output_attentions=True)`).\n"
     ]
    },
    {
     "name": "stderr",
     "output_type": "stream",
     "text": [
      "WARNING:tensorflow:The parameters `output_attentions`, `output_hidden_states` and `use_cache` cannot be updated when calling a model.They have to be set to True/False in the config object (i.e.: `config=XConfig.from_pretrained('name', output_attentions=True)`).\n"
     ]
    },
    {
     "name": "stdout",
     "output_type": "stream",
     "text": [
      "WARNING:tensorflow:The parameter `return_dict` cannot be set in graph mode and will always be set to `True`.\n"
     ]
    },
    {
     "name": "stderr",
     "output_type": "stream",
     "text": [
      "WARNING:tensorflow:The parameter `return_dict` cannot be set in graph mode and will always be set to `True`.\n"
     ]
    },
    {
     "name": "stdout",
     "output_type": "stream",
     "text": [
      "\n",
      "Temps d'entrainements pour 20 epochs : 1541 secondes.\n",
      "Meilleure train_acc = 0.855, meilleure val_acc = 0.719\n",
      "\n",
      "F1_score obtenu : 0.78\n"
     ]
    },
    {
     "data": {
      "image/png": "[encoded data removed]",
      "text/plain": [
       "<Figure size 720x288 with 1 Axes>"
      ]
     },
     "metadata": {
      "needs_background": "light",
      "tags": []
     },
     "output_type": "display_data"
    }
   ],
   "source": [
    "modelize(model_sci, 20, data_sci, \"mod_sci_ft\")"
   ]
  },
  {
   "cell_type": "markdown",
   "metadata": {},
   "source": [
    "<br><img src=\"images/scibert_ft.png\" width = \"600\" heights = \"336\">"
   ]
  },
  {
   "cell_type": "code",
   "execution_count": null,
   "metadata": {
    "id": "HDqfVFKP4cb9",
    "jupyter": {
     "source_hidden": true
    }
   },
   "outputs": [],
   "source": [
    "results_small[\"SciBert\"] = {\"Training\" : (0.479, 0.34), \"Fine-Tuning\": (0.719, 0.78)}\n",
    "\n",
    "pickle_out = open(path_data + \"results_small.pickle\", \"wb\")\n",
    "pickle.dump(results_small, pickle_out)\n",
    "pickle_out.close()"
   ]
  },
  {
   "cell_type": "markdown",
   "metadata": {
    "id": "fZFKpdJR4cyr"
   },
   "source": [
    " "
   ]
  },
  {
   "cell_type": "markdown",
   "metadata": {
    "id": "mRcgc7Cpi69X"
   },
   "source": [
    "## **5-) Modèle RoBERTa**"
   ]
  },
  {
   "cell_type": "code",
   "execution_count": null,
   "metadata": {
    "colab": {
     "base_uri": "https://localhost:8080/",
     "height": 219,
     "referenced_widgets": [
      "74f1a60d75804c3eb02bd1c9e183d7e0",
      "5ae60876babe42888d6d0f82a7114eeb",
      "c86e810c9fed4e8fa64c1ae3372a0885",
      "18bcd1a314bf44a0bdb7a0f49efac7fb",
      "048ee36707fb4cecabb454004c1a8aaf",
      "567519648eba409093207bc3a847d683",
      "6dfe0e2ed58e4e02a44d2d99c062945f",
      "10539f3988ee4bfbab9755410fb5da07",
      "b789422acf17431abec521c44e93cf81",
      "e781ed48b2094e9697948d62ff67de3e",
      "9bfd29847e9a4e53a5abbbb5e6d7264c",
      "e245612358a845f5aa5f9b6b66d63837",
      "23a38b4bf4a64139ad9ea3770ffcaad0",
      "885085821e2847beac0196d07a84040d",
      "8383f5c1db8a4631bf1645c092a29357",
      "dea0d4b6e666442da4d679d5b62bc511",
      "e5e00ab969f6425fbc392c88f38a630a",
      "4572286ac20445b5830fa2ab64cd7e0e",
      "b4955e76c0354d9d9d29b6f7e49c2b71",
      "f8e4f98078f94f19b4689bde63227e85",
      "6898229ff0d241d7adf2e0fa87651b31",
      "c9f7b9bb7a43480db04a66f56709ec0b",
      "f01827b12d684ccf98e900c599ad6063",
      "7844f4ad4e1047b8b8f26f7477bc5b0c",
      "c2a6caea4e874f28b278640ee7d97bd1",
      "4f438ad989624a8698e97bef3cfacd48",
      "f38a3f6be03f442a889121a7460bb44b",
      "fa3a483186234a7bb0eef60711eccbe0",
      "96ee6923a44f40958b78b23adb5a1ac9",
      "6b9c6c006937416bbfe44bc955d9cbbc",
      "e37d73705d9348a786612b575488e4aa",
      "86ad2e03e6cb484ca6279cd1a58919b7"
     ]
    },
    "collapsed": true,
    "id": "qGDuEyc_zPv8",
    "jupyter": {
     "outputs_hidden": true
    },
    "outputId": "dad764a8-003a-43dc-f388-b7594b2ccf4e"
   },
   "outputs": [
    {
     "data": {
      "application/vnd.jupyter.widget-view+json": {
       "model_id": "74f1a60d75804c3eb02bd1c9e183d7e0",
       "version_major": 2,
       "version_minor": 0
      },
      "text/plain": [
       "HBox(children=(FloatProgress(value=0.0, description='Downloading', max=481.0, style=ProgressStyle(description_…"
      ]
     },
     "metadata": {
      "tags": []
     },
     "output_type": "display_data"
    },
    {
     "name": "stdout",
     "output_type": "stream",
     "text": [
      "\n"
     ]
    },
    {
     "data": {
      "application/vnd.jupyter.widget-view+json": {
       "model_id": "b789422acf17431abec521c44e93cf81",
       "version_major": 2,
       "version_minor": 0
      },
      "text/plain": [
       "HBox(children=(FloatProgress(value=0.0, description='Downloading', max=898823.0, style=ProgressStyle(descripti…"
      ]
     },
     "metadata": {
      "tags": []
     },
     "output_type": "display_data"
    },
    {
     "name": "stdout",
     "output_type": "stream",
     "text": [
      "\n"
     ]
    },
    {
     "data": {
      "application/vnd.jupyter.widget-view+json": {
       "model_id": "e5e00ab969f6425fbc392c88f38a630a",
       "version_major": 2,
       "version_minor": 0
      },
      "text/plain": [
       "HBox(children=(FloatProgress(value=0.0, description='Downloading', max=456318.0, style=ProgressStyle(descripti…"
      ]
     },
     "metadata": {
      "tags": []
     },
     "output_type": "display_data"
    },
    {
     "name": "stdout",
     "output_type": "stream",
     "text": [
      "\n"
     ]
    },
    {
     "data": {
      "application/vnd.jupyter.widget-view+json": {
       "model_id": "c2a6caea4e874f28b278640ee7d97bd1",
       "version_major": 2,
       "version_minor": 0
      },
      "text/plain": [
       "HBox(children=(FloatProgress(value=0.0, description='Downloading', max=1355863.0, style=ProgressStyle(descript…"
      ]
     },
     "metadata": {
      "tags": []
     },
     "output_type": "display_data"
    },
    {
     "name": "stdout",
     "output_type": "stream",
     "text": [
      "\n"
     ]
    }
   ],
   "source": [
    "model_name = \"roberta-base\"\n",
    "tokenizer = AutoTokenizer.from_pretrained(model_name)"
   ]
  },
  {
   "cell_type": "code",
   "execution_count": null,
   "metadata": {
    "colab": {
     "base_uri": "https://localhost:8080/"
    },
    "id": "0aWbXcQ7zPyr",
    "outputId": "33c90d06-8932-409f-bf29-5bbb8f88de09"
   },
   "outputs": [
    {
     "name": "stdout",
     "output_type": "stream",
     "text": [
      "L'encodage a pris : 27 secondes.\n"
     ]
    }
   ],
   "source": [
    "start = time()\n",
    "\n",
    "X_train_ids, X_train_attention = batch_encode(tokenizer, X_train)\n",
    "X_test_ids, X_test_attention = batch_encode(tokenizer, X_test)\n",
    "\n",
    "data_berta = [[X_train_ids, X_train_attention], y_train, [X_test_ids, X_test_attention], y_test]\n",
    "\n",
    "print(f\"L'encodage a pris : {time()-start:.0f} secondes.\")"
   ]
  },
  {
   "cell_type": "code",
   "execution_count": null,
   "metadata": {
    "id": "ZX1tY6vHzP1u"
   },
   "outputs": [],
   "source": [
    "def build_berta_model(max_length = MAX_LENGTH):\n",
    "                    \n",
    "    roberta = TFRobertaModel.from_pretrained(\"roberta-base\")\n",
    "\n",
    "    for layer in roberta.layers:\n",
    "        layer.trainable = False\n",
    "\n",
    "    input_ids_layer = tf.keras.layers.Input(shape=(max_length,), \n",
    "                                            name='input_ids', \n",
    "                                            dtype='int32')\n",
    "    input_attention_layer = tf.keras.layers.Input(shape=(max_length,), \n",
    "                                                  name='input_attention', \n",
    "                                                  dtype='int32')\n",
    "\n",
    "    last_hidden_state = roberta([input_ids_layer, input_attention_layer])[0]\n",
    "\n",
    "    cls_token = last_hidden_state[:, 0, :]\n",
    "\n",
    "    output = tf.keras.layers.Dense(25, activation='sigmoid')(cls_token)\n",
    "    \n",
    "    model = tf.keras.Model([input_ids_layer, input_attention_layer], output)\n",
    "\n",
    "    model.compile(tf.keras.optimizers.Adam(),\n",
    "                  loss = 'binary_crossentropy',\n",
    "                  metrics='accuracy')\n",
    "    \n",
    "    return model"
   ]
  },
  {
   "cell_type": "code",
   "execution_count": null,
   "metadata": {
    "colab": {
     "base_uri": "https://localhost:8080/",
     "height": 254,
     "referenced_widgets": [
      "5fd3d55943dc48cf8aea78e8f1e28890",
      "b330face545d40289dd688cd10a1a592",
      "57c39062a4c74ca7a528ca0d5e9b17a9",
      "9ff640a8eca1494882a9da4f81c6cd33",
      "3826fcfc69184446ad46bf3a9cd88fcf",
      "ccc888baf3b045ffa622bfbb6303246d",
      "e7073ff31ce14397ab0db32b36b494aa",
      "ad9948dd50cb41528da88cf775e7f277"
     ]
    },
    "collapsed": true,
    "id": "O7R8K-O_zP4m",
    "jupyter": {
     "outputs_hidden": true
    },
    "outputId": "4c6321b8-acca-4ae6-8391-e980bbc74b13"
   },
   "outputs": [
    {
     "data": {
      "application/vnd.jupyter.widget-view+json": {
       "model_id": "5fd3d55943dc48cf8aea78e8f1e28890",
       "version_major": 2,
       "version_minor": 0
      },
      "text/plain": [
       "HBox(children=(FloatProgress(value=0.0, description='Downloading', max=657434796.0, style=ProgressStyle(descri…"
      ]
     },
     "metadata": {
      "tags": []
     },
     "output_type": "display_data"
    },
    {
     "name": "stdout",
     "output_type": "stream",
     "text": [
      "\n"
     ]
    },
    {
     "name": "stderr",
     "output_type": "stream",
     "text": [
      "Some layers from the model checkpoint at roberta-base were not used when initializing TFRobertaModel: ['lm_head']\n",
      "- This IS expected if you are initializing TFRobertaModel from the checkpoint of a model trained on another task or with another architecture (e.g. initializing a BertForSequenceClassification model from a BertForPreTraining model).\n",
      "- This IS NOT expected if you are initializing TFRobertaModel from the checkpoint of a model that you expect to be exactly identical (initializing a BertForSequenceClassification model from a BertForSequenceClassification model).\n",
      "All the layers of TFRobertaModel were initialized from the model checkpoint at roberta-base.\n",
      "If your task is similar to the task the model of the checkpoint was trained on, you can already use TFRobertaModel for predictions without further training.\n"
     ]
    },
    {
     "name": "stdout",
     "output_type": "stream",
     "text": [
      "WARNING:tensorflow:The parameters `output_attentions`, `output_hidden_states` and `use_cache` cannot be updated when calling a model.They have to be set to True/False in the config object (i.e.: `config=XConfig.from_pretrained('name', output_attentions=True)`).\n"
     ]
    },
    {
     "name": "stderr",
     "output_type": "stream",
     "text": [
      "WARNING:tensorflow:The parameters `output_attentions`, `output_hidden_states` and `use_cache` cannot be updated when calling a model.They have to be set to True/False in the config object (i.e.: `config=XConfig.from_pretrained('name', output_attentions=True)`).\n"
     ]
    },
    {
     "name": "stdout",
     "output_type": "stream",
     "text": [
      "WARNING:tensorflow:The parameter `return_dict` cannot be set in graph mode and will always be set to `True`.\n"
     ]
    },
    {
     "name": "stderr",
     "output_type": "stream",
     "text": [
      "WARNING:tensorflow:The parameter `return_dict` cannot be set in graph mode and will always be set to `True`.\n"
     ]
    }
   ],
   "source": [
    "with strategy.scope():\n",
    "    model_berta = build_berta_model()"
   ]
  },
  {
   "cell_type": "code",
   "execution_count": null,
   "metadata": {
    "colab": {
     "base_uri": "https://localhost:8080/",
     "height": 1000
    },
    "collapsed": true,
    "id": "qbxPY6IszP7i",
    "jupyter": {
     "outputs_hidden": true
    },
    "outputId": "d7c69a94-04f6-4264-8427-2070909c241f"
   },
   "outputs": [
    {
     "name": "stdout",
     "output_type": "stream",
     "text": [
      "Epoch 1/50\n",
      "WARNING:tensorflow:The parameters `output_attentions`, `output_hidden_states` and `use_cache` cannot be updated when calling a model.They have to be set to True/False in the config object (i.e.: `config=XConfig.from_pretrained('name', output_attentions=True)`).\n"
     ]
    },
    {
     "name": "stderr",
     "output_type": "stream",
     "text": [
      "WARNING:tensorflow:The parameters `output_attentions`, `output_hidden_states` and `use_cache` cannot be updated when calling a model.They have to be set to True/False in the config object (i.e.: `config=XConfig.from_pretrained('name', output_attentions=True)`).\n"
     ]
    },
    {
     "name": "stdout",
     "output_type": "stream",
     "text": [
      "WARNING:tensorflow:The parameter `return_dict` cannot be set in graph mode and will always be set to `True`.\n"
     ]
    },
    {
     "name": "stderr",
     "output_type": "stream",
     "text": [
      "WARNING:tensorflow:The parameter `return_dict` cannot be set in graph mode and will always be set to `True`.\n"
     ]
    },
    {
     "name": "stdout",
     "output_type": "stream",
     "text": [
      "WARNING:tensorflow:The parameters `output_attentions`, `output_hidden_states` and `use_cache` cannot be updated when calling a model.They have to be set to True/False in the config object (i.e.: `config=XConfig.from_pretrained('name', output_attentions=True)`).\n"
     ]
    },
    {
     "name": "stderr",
     "output_type": "stream",
     "text": [
      "WARNING:tensorflow:The parameters `output_attentions`, `output_hidden_states` and `use_cache` cannot be updated when calling a model.They have to be set to True/False in the config object (i.e.: `config=XConfig.from_pretrained('name', output_attentions=True)`).\n"
     ]
    },
    {
     "name": "stdout",
     "output_type": "stream",
     "text": [
      "WARNING:tensorflow:The parameter `return_dict` cannot be set in graph mode and will always be set to `True`.\n"
     ]
    },
    {
     "name": "stderr",
     "output_type": "stream",
     "text": [
      "WARNING:tensorflow:The parameter `return_dict` cannot be set in graph mode and will always be set to `True`.\n"
     ]
    },
    {
     "name": "stdout",
     "output_type": "stream",
     "text": [
      "499/500 [============================>.] - ETA: 0s - loss: 0.2335 - accuracy: 0.1804WARNING:tensorflow:The parameters `output_attentions`, `output_hidden_states` and `use_cache` cannot be updated when calling a model.They have to be set to True/False in the config object (i.e.: `config=XConfig.from_pretrained('name', output_attentions=True)`).\n"
     ]
    },
    {
     "name": "stderr",
     "output_type": "stream",
     "text": [
      "WARNING:tensorflow:The parameters `output_attentions`, `output_hidden_states` and `use_cache` cannot be updated when calling a model.They have to be set to True/False in the config object (i.e.: `config=XConfig.from_pretrained('name', output_attentions=True)`).\n"
     ]
    },
    {
     "name": "stdout",
     "output_type": "stream",
     "text": [
      "WARNING:tensorflow:The parameter `return_dict` cannot be set in graph mode and will always be set to `True`.\n"
     ]
    },
    {
     "name": "stderr",
     "output_type": "stream",
     "text": [
      "WARNING:tensorflow:The parameter `return_dict` cannot be set in graph mode and will always be set to `True`.\n"
     ]
    },
    {
     "name": "stdout",
     "output_type": "stream",
     "text": [
      "500/500 [==============================] - 46s 62ms/step - loss: 0.2335 - accuracy: 0.1803 - val_loss: 0.1888 - val_accuracy: 0.1930\n",
      "Epoch 2/50\n",
      "500/500 [==============================] - 27s 53ms/step - loss: 0.1925 - accuracy: 0.2219 - val_loss: 0.1828 - val_accuracy: 0.2270\n",
      "Epoch 3/50\n",
      "500/500 [==============================] - 27s 54ms/step - loss: 0.1842 - accuracy: 0.2594 - val_loss: 0.1774 - val_accuracy: 0.2808\n",
      "Epoch 4/50\n",
      "500/500 [==============================] - 26s 52ms/step - loss: 0.1782 - accuracy: 0.2889 - val_loss: 0.1726 - val_accuracy: 0.3188\n",
      "Epoch 5/50\n",
      "500/500 [==============================] - 27s 53ms/step - loss: 0.1727 - accuracy: 0.3181 - val_loss: 0.1685 - val_accuracy: 0.3355\n",
      "Epoch 6/50\n",
      "500/500 [==============================] - 27s 54ms/step - loss: 0.1685 - accuracy: 0.3339 - val_loss: 0.1650 - val_accuracy: 0.3435\n",
      "Epoch 7/50\n",
      "500/500 [==============================] - 27s 53ms/step - loss: 0.1651 - accuracy: 0.3510 - val_loss: 0.1615 - val_accuracy: 0.3658\n",
      "Epoch 8/50\n",
      "500/500 [==============================] - 27s 54ms/step - loss: 0.1623 - accuracy: 0.3611 - val_loss: 0.1587 - val_accuracy: 0.3665\n",
      "Epoch 9/50\n",
      "500/500 [==============================] - 27s 53ms/step - loss: 0.1598 - accuracy: 0.3718 - val_loss: 0.1564 - val_accuracy: 0.3863\n",
      "Epoch 10/50\n",
      "500/500 [==============================] - 27s 54ms/step - loss: 0.1577 - accuracy: 0.3809 - val_loss: 0.1538 - val_accuracy: 0.4060\n",
      "Epoch 11/50\n",
      "500/500 [==============================] - 27s 53ms/step - loss: 0.1559 - accuracy: 0.3888 - val_loss: 0.1518 - val_accuracy: 0.4043\n",
      "Epoch 12/50\n",
      "500/500 [==============================] - 25s 51ms/step - loss: 0.1546 - accuracy: 0.3982 - val_loss: 0.1501 - val_accuracy: 0.4163\n",
      "Epoch 13/50\n",
      "500/500 [==============================] - 26s 53ms/step - loss: 0.1529 - accuracy: 0.3988 - val_loss: 0.1484 - val_accuracy: 0.4240\n",
      "Epoch 14/50\n",
      "500/500 [==============================] - 27s 53ms/step - loss: 0.1515 - accuracy: 0.4026 - val_loss: 0.1470 - val_accuracy: 0.4218\n",
      "Epoch 15/50\n",
      "500/500 [==============================] - 25s 51ms/step - loss: 0.1504 - accuracy: 0.4141 - val_loss: 0.1455 - val_accuracy: 0.4290\n",
      "Epoch 16/50\n",
      "500/500 [==============================] - 26s 53ms/step - loss: 0.1497 - accuracy: 0.4146 - val_loss: 0.1439 - val_accuracy: 0.4610\n",
      "Epoch 17/50\n",
      "500/500 [==============================] - 27s 54ms/step - loss: 0.1487 - accuracy: 0.4180 - val_loss: 0.1429 - val_accuracy: 0.4520\n",
      "Epoch 18/50\n",
      "500/500 [==============================] - 25s 51ms/step - loss: 0.1475 - accuracy: 0.4272 - val_loss: 0.1416 - val_accuracy: 0.4588\n",
      "Epoch 19/50\n",
      "500/500 [==============================] - 25s 50ms/step - loss: 0.1468 - accuracy: 0.4257 - val_loss: 0.1405 - val_accuracy: 0.4675\n",
      "Epoch 20/50\n",
      "500/500 [==============================] - 27s 54ms/step - loss: 0.1459 - accuracy: 0.4295 - val_loss: 0.1398 - val_accuracy: 0.4630\n",
      "Epoch 21/50\n",
      "500/500 [==============================] - 25s 50ms/step - loss: 0.1450 - accuracy: 0.4391 - val_loss: 0.1388 - val_accuracy: 0.4633\n",
      "Epoch 22/50\n",
      "500/500 [==============================] - 25s 50ms/step - loss: 0.1447 - accuracy: 0.4358 - val_loss: 0.1379 - val_accuracy: 0.4745\n",
      "Epoch 23/50\n",
      "500/500 [==============================] - 27s 54ms/step - loss: 0.1441 - accuracy: 0.4413 - val_loss: 0.1369 - val_accuracy: 0.4805\n",
      "Epoch 24/50\n",
      "500/500 [==============================] - 27s 53ms/step - loss: 0.1432 - accuracy: 0.4416 - val_loss: 0.1362 - val_accuracy: 0.4745\n",
      "Epoch 25/50\n",
      "500/500 [==============================] - 25s 51ms/step - loss: 0.1426 - accuracy: 0.4455 - val_loss: 0.1354 - val_accuracy: 0.4858\n",
      "Epoch 26/50\n",
      "500/500 [==============================] - 27s 53ms/step - loss: 0.1418 - accuracy: 0.4471 - val_loss: 0.1349 - val_accuracy: 0.4770\n",
      "Epoch 27/50\n",
      "500/500 [==============================] - 25s 51ms/step - loss: 0.1419 - accuracy: 0.4485 - val_loss: 0.1339 - val_accuracy: 0.4910\n",
      "Epoch 28/50\n",
      "500/500 [==============================] - 27s 53ms/step - loss: 0.1409 - accuracy: 0.4510 - val_loss: 0.1334 - val_accuracy: 0.4938\n",
      "Epoch 29/50\n",
      "500/500 [==============================] - 27s 53ms/step - loss: 0.1411 - accuracy: 0.4558 - val_loss: 0.1330 - val_accuracy: 0.4740\n",
      "Epoch 30/50\n",
      "500/500 [==============================] - 26s 52ms/step - loss: 0.1402 - accuracy: 0.4553 - val_loss: 0.1323 - val_accuracy: 0.4868\n",
      "Epoch 31/50\n",
      "500/500 [==============================] - 25s 51ms/step - loss: 0.1401 - accuracy: 0.4583 - val_loss: 0.1315 - val_accuracy: 0.4898\n",
      "Epoch 32/50\n",
      "500/500 [==============================] - 25s 50ms/step - loss: 0.1394 - accuracy: 0.4611 - val_loss: 0.1311 - val_accuracy: 0.4868\n",
      "Epoch 33/50\n",
      "500/500 [==============================] - 25s 51ms/step - loss: 0.1396 - accuracy: 0.4586 - val_loss: 0.1309 - val_accuracy: 0.4893\n",
      "Epoch 34/50\n",
      "500/500 [==============================] - 25s 51ms/step - loss: 0.1392 - accuracy: 0.4603 - val_loss: 0.1302 - val_accuracy: 0.5040\n",
      "Epoch 35/50\n",
      "500/500 [==============================] - 27s 53ms/step - loss: 0.1390 - accuracy: 0.4618 - val_loss: 0.1294 - val_accuracy: 0.5038\n",
      "Epoch 36/50\n",
      "500/500 [==============================] - 25s 51ms/step - loss: 0.1378 - accuracy: 0.4657 - val_loss: 0.1290 - val_accuracy: 0.5003\n",
      "Epoch 37/50\n",
      "500/500 [==============================] - 25s 50ms/step - loss: 0.1384 - accuracy: 0.4661 - val_loss: 0.1284 - val_accuracy: 0.5188\n",
      "Epoch 38/50\n",
      "500/500 [==============================] - 27s 54ms/step - loss: 0.1379 - accuracy: 0.4692 - val_loss: 0.1283 - val_accuracy: 0.5005\n",
      "Epoch 39/50\n",
      "500/500 [==============================] - 25s 50ms/step - loss: 0.1375 - accuracy: 0.4683 - val_loss: 0.1279 - val_accuracy: 0.4988\n",
      "Epoch 40/50\n",
      "500/500 [==============================] - 25s 50ms/step - loss: 0.1381 - accuracy: 0.4621 - val_loss: 0.1277 - val_accuracy: 0.5100\n",
      "Epoch 41/50\n",
      "500/500 [==============================] - 25s 50ms/step - loss: 0.1376 - accuracy: 0.4726 - val_loss: 0.1270 - val_accuracy: 0.5125\n",
      "Epoch 42/50\n",
      "500/500 [==============================] - 25s 51ms/step - loss: 0.1360 - accuracy: 0.4779 - val_loss: 0.1270 - val_accuracy: 0.5103\n",
      "Epoch 43/50\n",
      "500/500 [==============================] - 25s 50ms/step - loss: 0.1365 - accuracy: 0.4805 - val_loss: 0.1263 - val_accuracy: 0.5107\n",
      "Epoch 44/50\n",
      "500/500 [==============================] - 25s 51ms/step - loss: 0.1360 - accuracy: 0.4786 - val_loss: 0.1262 - val_accuracy: 0.5058\n",
      "Epoch 45/50\n",
      "500/500 [==============================] - 25s 51ms/step - loss: 0.1361 - accuracy: 0.4788 - val_loss: 0.1260 - val_accuracy: 0.5063\n",
      "Epoch 46/50\n",
      "500/500 [==============================] - 25s 50ms/step - loss: 0.1357 - accuracy: 0.4801 - val_loss: 0.1255 - val_accuracy: 0.5143\n",
      "Epoch 47/50\n",
      "500/500 [==============================] - 25s 51ms/step - loss: 0.1362 - accuracy: 0.4753 - val_loss: 0.1250 - val_accuracy: 0.5138\n",
      "Epoch 48/50\n",
      "500/500 [==============================] - 25s 50ms/step - loss: 0.1356 - accuracy: 0.4841 - val_loss: 0.1250 - val_accuracy: 0.5093\n",
      "Epoch 49/50\n",
      "500/500 [==============================] - 25s 51ms/step - loss: 0.1350 - accuracy: 0.4813 - val_loss: 0.1245 - val_accuracy: 0.5160\n",
      "Epoch 50/50\n",
      "500/500 [==============================] - 25s 51ms/step - loss: 0.1356 - accuracy: 0.4855 - val_loss: 0.1242 - val_accuracy: 0.5205\n"
     ]
    },
    {
     "name": "stderr",
     "output_type": "stream",
     "text": [
      "INFO:absl:TPU has inputs with dynamic shapes: [<tf.Tensor 'Const:0' shape=() dtype=int32>, <tf.Tensor 'cond_8/Identity:0' shape=(None, 512) dtype=int32>, <tf.Tensor 'cond_8/Identity_1:0' shape=(None, 512) dtype=int32>]\n"
     ]
    },
    {
     "name": "stdout",
     "output_type": "stream",
     "text": [
      "WARNING:tensorflow:The parameters `output_attentions`, `output_hidden_states` and `use_cache` cannot be updated when calling a model.They have to be set to True/False in the config object (i.e.: `config=XConfig.from_pretrained('name', output_attentions=True)`).\n"
     ]
    },
    {
     "name": "stderr",
     "output_type": "stream",
     "text": [
      "WARNING:tensorflow:The parameters `output_attentions`, `output_hidden_states` and `use_cache` cannot be updated when calling a model.They have to be set to True/False in the config object (i.e.: `config=XConfig.from_pretrained('name', output_attentions=True)`).\n"
     ]
    },
    {
     "name": "stdout",
     "output_type": "stream",
     "text": [
      "WARNING:tensorflow:The parameter `return_dict` cannot be set in graph mode and will always be set to `True`.\n"
     ]
    },
    {
     "name": "stderr",
     "output_type": "stream",
     "text": [
      "WARNING:tensorflow:The parameter `return_dict` cannot be set in graph mode and will always be set to `True`.\n"
     ]
    },
    {
     "name": "stdout",
     "output_type": "stream",
     "text": [
      "\n",
      "Temps d'entrainements pour 50 epochs : 1472 secondes.\n",
      "Meilleure train_acc = 0.486, meilleure val_acc = 0.521\n",
      "\n",
      "F1_score obtenu : 0.25\n"
     ]
    },
    {
     "data": {
      "image/png": "[encoded data removed]",
      "text/plain": [
       "<Figure size 720x288 with 1 Axes>"
      ]
     },
     "metadata": {
      "needs_background": "light",
      "tags": []
     },
     "output_type": "display_data"
    }
   ],
   "source": [
    "modelize(model_berta, 50, data_berta, \"mod_berta_t\")"
   ]
  },
  {
   "cell_type": "markdown",
   "metadata": {},
   "source": [
    "<br><img src=\"images/berta_t.png\" width = \"600\" heights = \"336\">"
   ]
  },
  {
   "cell_type": "markdown",
   "metadata": {
    "id": "N-0kX_bezP-k"
   },
   "source": [
    " "
   ]
  },
  {
   "cell_type": "markdown",
   "metadata": {
    "id": "J4B7_6cn0ZmV"
   },
   "source": [
    "**Fine-tuning**"
   ]
  },
  {
   "cell_type": "code",
   "execution_count": null,
   "metadata": {
    "id": "9xYCILH6zQBW"
   },
   "outputs": [],
   "source": [
    "for layer in model_berta.layers :\n",
    "    layer.trainable = True\n",
    "    \n",
    "model_berta.layers[-1].trainable = False\n",
    "\n",
    "model_berta.compile(tf.keras.optimizers.Adam(learning_rate = 1e-5),\n",
    "                       loss = 'binary_crossentropy',\n",
    "                       metrics='accuracy')"
   ]
  },
  {
   "cell_type": "code",
   "execution_count": null,
   "metadata": {
    "colab": {
     "base_uri": "https://localhost:8080/",
     "height": 1000
    },
    "collapsed": true,
    "id": "G4xIFLgCzQEg",
    "jupyter": {
     "outputs_hidden": true
    },
    "outputId": "b98729c1-c1f1-4da4-f594-06c1c23f51ab"
   },
   "outputs": [
    {
     "name": "stdout",
     "output_type": "stream",
     "text": [
      "Epoch 1/20\n",
      "WARNING:tensorflow:The parameters `output_attentions`, `output_hidden_states` and `use_cache` cannot be updated when calling a model.They have to be set to True/False in the config object (i.e.: `config=XConfig.from_pretrained('name', output_attentions=True)`).\n"
     ]
    },
    {
     "name": "stderr",
     "output_type": "stream",
     "text": [
      "WARNING:tensorflow:The parameters `output_attentions`, `output_hidden_states` and `use_cache` cannot be updated when calling a model.They have to be set to True/False in the config object (i.e.: `config=XConfig.from_pretrained('name', output_attentions=True)`).\n"
     ]
    },
    {
     "name": "stdout",
     "output_type": "stream",
     "text": [
      "WARNING:tensorflow:The parameter `return_dict` cannot be set in graph mode and will always be set to `True`.\n"
     ]
    },
    {
     "name": "stderr",
     "output_type": "stream",
     "text": [
      "WARNING:tensorflow:The parameter `return_dict` cannot be set in graph mode and will always be set to `True`.\n"
     ]
    },
    {
     "name": "stdout",
     "output_type": "stream",
     "text": [
      "WARNING:tensorflow:Gradients do not exist for variables ['tf_roberta_model/roberta/pooler/dense/kernel:0', 'tf_roberta_model/roberta/pooler/dense/bias:0'] when minimizing the loss.\n"
     ]
    },
    {
     "name": "stderr",
     "output_type": "stream",
     "text": [
      "WARNING:tensorflow:Gradients do not exist for variables ['tf_roberta_model/roberta/pooler/dense/kernel:0', 'tf_roberta_model/roberta/pooler/dense/bias:0'] when minimizing the loss.\n"
     ]
    },
    {
     "name": "stdout",
     "output_type": "stream",
     "text": [
      "WARNING:tensorflow:The parameters `output_attentions`, `output_hidden_states` and `use_cache` cannot be updated when calling a model.They have to be set to True/False in the config object (i.e.: `config=XConfig.from_pretrained('name', output_attentions=True)`).\n"
     ]
    },
    {
     "name": "stderr",
     "output_type": "stream",
     "text": [
      "WARNING:tensorflow:The parameters `output_attentions`, `output_hidden_states` and `use_cache` cannot be updated when calling a model.They have to be set to True/False in the config object (i.e.: `config=XConfig.from_pretrained('name', output_attentions=True)`).\n"
     ]
    },
    {
     "name": "stdout",
     "output_type": "stream",
     "text": [
      "WARNING:tensorflow:The parameter `return_dict` cannot be set in graph mode and will always be set to `True`.\n"
     ]
    },
    {
     "name": "stderr",
     "output_type": "stream",
     "text": [
      "WARNING:tensorflow:The parameter `return_dict` cannot be set in graph mode and will always be set to `True`.\n"
     ]
    },
    {
     "name": "stdout",
     "output_type": "stream",
     "text": [
      "WARNING:tensorflow:Gradients do not exist for variables ['tf_roberta_model/roberta/pooler/dense/kernel:0', 'tf_roberta_model/roberta/pooler/dense/bias:0'] when minimizing the loss.\n"
     ]
    },
    {
     "name": "stderr",
     "output_type": "stream",
     "text": [
      "WARNING:tensorflow:Gradients do not exist for variables ['tf_roberta_model/roberta/pooler/dense/kernel:0', 'tf_roberta_model/roberta/pooler/dense/bias:0'] when minimizing the loss.\n"
     ]
    },
    {
     "name": "stdout",
     "output_type": "stream",
     "text": [
      "500/500 [==============================] - ETA: 0s - loss: 0.0870 - accuracy: 0.6454WARNING:tensorflow:The parameters `output_attentions`, `output_hidden_states` and `use_cache` cannot be updated when calling a model.They have to be set to True/False in the config object (i.e.: `config=XConfig.from_pretrained('name', output_attentions=True)`).\n"
     ]
    },
    {
     "name": "stderr",
     "output_type": "stream",
     "text": [
      "WARNING:tensorflow:The parameters `output_attentions`, `output_hidden_states` and `use_cache` cannot be updated when calling a model.They have to be set to True/False in the config object (i.e.: `config=XConfig.from_pretrained('name', output_attentions=True)`).\n"
     ]
    },
    {
     "name": "stdout",
     "output_type": "stream",
     "text": [
      "WARNING:tensorflow:The parameter `return_dict` cannot be set in graph mode and will always be set to `True`.\n"
     ]
    },
    {
     "name": "stderr",
     "output_type": "stream",
     "text": [
      "WARNING:tensorflow:The parameter `return_dict` cannot be set in graph mode and will always be set to `True`.\n"
     ]
    },
    {
     "name": "stdout",
     "output_type": "stream",
     "text": [
      "500/500 [==============================] - 145s 157ms/step - loss: 0.0870 - accuracy: 0.6454 - val_loss: 0.0685 - val_accuracy: 0.6775\n",
      "Epoch 2/20\n",
      "500/500 [==============================] - 73s 147ms/step - loss: 0.0706 - accuracy: 0.6936 - val_loss: 0.0674 - val_accuracy: 0.6870\n",
      "Epoch 3/20\n",
      "500/500 [==============================] - 74s 147ms/step - loss: 0.0635 - accuracy: 0.7139 - val_loss: 0.0641 - val_accuracy: 0.6908\n",
      "Epoch 4/20\n",
      "500/500 [==============================] - 74s 147ms/step - loss: 0.0582 - accuracy: 0.7271 - val_loss: 0.0631 - val_accuracy: 0.6995\n",
      "Epoch 5/20\n",
      "500/500 [==============================] - 74s 148ms/step - loss: 0.0525 - accuracy: 0.7439 - val_loss: 0.0642 - val_accuracy: 0.7020\n",
      "Epoch 6/20\n",
      "500/500 [==============================] - 74s 148ms/step - loss: 0.0469 - accuracy: 0.7598 - val_loss: 0.0632 - val_accuracy: 0.7105\n",
      "Epoch 7/20\n",
      "500/500 [==============================] - 74s 148ms/step - loss: 0.0426 - accuracy: 0.7733 - val_loss: 0.0669 - val_accuracy: 0.7028\n",
      "Epoch 8/20\n",
      "500/500 [==============================] - 73s 147ms/step - loss: 0.0386 - accuracy: 0.7868 - val_loss: 0.0670 - val_accuracy: 0.7118\n",
      "Epoch 9/20\n",
      "500/500 [==============================] - 74s 148ms/step - loss: 0.0343 - accuracy: 0.7943 - val_loss: 0.0699 - val_accuracy: 0.7153\n",
      "Epoch 10/20\n",
      "500/500 [==============================] - 74s 148ms/step - loss: 0.0297 - accuracy: 0.8077 - val_loss: 0.0745 - val_accuracy: 0.7035\n",
      "Epoch 11/20\n",
      "500/500 [==============================] - 73s 146ms/step - loss: 0.0271 - accuracy: 0.8149 - val_loss: 0.0751 - val_accuracy: 0.7118\n",
      "Epoch 12/20\n",
      "500/500 [==============================] - 73s 146ms/step - loss: 0.0228 - accuracy: 0.8244 - val_loss: 0.0919 - val_accuracy: 0.7068\n",
      "Epoch 13/20\n",
      "500/500 [==============================] - 73s 146ms/step - loss: 0.0196 - accuracy: 0.8316 - val_loss: 0.0901 - val_accuracy: 0.7055\n",
      "Epoch 14/20\n",
      "500/500 [==============================] - 73s 146ms/step - loss: 0.0174 - accuracy: 0.8377 - val_loss: 0.0960 - val_accuracy: 0.7065\n",
      "Epoch 15/20\n",
      "500/500 [==============================] - 73s 146ms/step - loss: 0.0154 - accuracy: 0.8381 - val_loss: 0.1072 - val_accuracy: 0.7190\n",
      "Epoch 16/20\n",
      "500/500 [==============================] - 74s 148ms/step - loss: 0.0136 - accuracy: 0.8461 - val_loss: 0.1092 - val_accuracy: 0.7168\n",
      "Epoch 17/20\n",
      "500/500 [==============================] - 73s 146ms/step - loss: 0.0124 - accuracy: 0.8463 - val_loss: 0.1125 - val_accuracy: 0.7120\n",
      "Epoch 18/20\n",
      "500/500 [==============================] - 73s 146ms/step - loss: 0.0106 - accuracy: 0.8501 - val_loss: 0.1145 - val_accuracy: 0.7115\n",
      "Epoch 19/20\n",
      "500/500 [==============================] - 73s 147ms/step - loss: 0.0096 - accuracy: 0.8526 - val_loss: 0.1276 - val_accuracy: 0.7153\n",
      "Epoch 20/20\n",
      "500/500 [==============================] - 73s 147ms/step - loss: 0.0089 - accuracy: 0.8546 - val_loss: 0.1246 - val_accuracy: 0.7238\n"
     ]
    },
    {
     "name": "stderr",
     "output_type": "stream",
     "text": [
      "INFO:absl:TPU has inputs with dynamic shapes: [<tf.Tensor 'Const:0' shape=() dtype=int32>, <tf.Tensor 'cond_8/Identity:0' shape=(None, 512) dtype=int32>, <tf.Tensor 'cond_8/Identity_1:0' shape=(None, 512) dtype=int32>]\n"
     ]
    },
    {
     "name": "stdout",
     "output_type": "stream",
     "text": [
      "WARNING:tensorflow:The parameters `output_attentions`, `output_hidden_states` and `use_cache` cannot be updated when calling a model.They have to be set to True/False in the config object (i.e.: `config=XConfig.from_pretrained('name', output_attentions=True)`).\n"
     ]
    },
    {
     "name": "stderr",
     "output_type": "stream",
     "text": [
      "WARNING:tensorflow:The parameters `output_attentions`, `output_hidden_states` and `use_cache` cannot be updated when calling a model.They have to be set to True/False in the config object (i.e.: `config=XConfig.from_pretrained('name', output_attentions=True)`).\n"
     ]
    },
    {
     "name": "stdout",
     "output_type": "stream",
     "text": [
      "WARNING:tensorflow:The parameter `return_dict` cannot be set in graph mode and will always be set to `True`.\n"
     ]
    },
    {
     "name": "stderr",
     "output_type": "stream",
     "text": [
      "WARNING:tensorflow:The parameter `return_dict` cannot be set in graph mode and will always be set to `True`.\n"
     ]
    },
    {
     "name": "stdout",
     "output_type": "stream",
     "text": [
      "\n",
      "Temps d'entrainements pour 20 epochs : 1612 secondes.\n",
      "Meilleure train_acc = 0.855, meilleure val_acc = 0.724\n",
      "\n",
      "F1_score obtenu : 0.78\n"
     ]
    },
    {
     "data": {
      "image/png": "[encoded data removed]",
      "text/plain": [
       "<Figure size 720x288 with 1 Axes>"
      ]
     },
     "metadata": {
      "needs_background": "light",
      "tags": []
     },
     "output_type": "display_data"
    }
   ],
   "source": [
    "modelize(model_berta, 20, data_berta, \"mod_berta_ft\")"
   ]
  },
  {
   "cell_type": "markdown",
   "metadata": {},
   "source": [
    "<br><img src=\"images/berta_ft.png\" width = \"600\" heights = \"336\">"
   ]
  },
  {
   "cell_type": "code",
   "execution_count": null,
   "metadata": {
    "id": "d4UcHX4rhaRx",
    "jupyter": {
     "source_hidden": true
    }
   },
   "outputs": [],
   "source": [
    "results_small[\"Roberta\"] = {\"Training\" : (0.521, 0.25), \"Fine-Tuning\": (0.724, 0.78)}\n",
    "\n",
    "pickle_out = open(path_data + \"results_small.pickle\", \"wb\")\n",
    "pickle.dump(results_small, pickle_out)\n",
    "pickle_out.close()"
   ]
  },
  {
   "cell_type": "markdown",
   "metadata": {},
   "source": [
    " "
   ]
  },
  {
   "cell_type": "markdown",
   "metadata": {},
   "source": [
    "## **Résultats**"
   ]
  },
  {
   "cell_type": "markdown",
   "metadata": {},
   "source": [
    "Après cette série de modélisation, les résultats sont les suivants (val_accuracy, f1_score_weighted)."
   ]
  },
  {
   "cell_type": "code",
   "execution_count": null,
   "metadata": {
    "colab": {
     "base_uri": "https://localhost:8080/",
     "height": 175
    },
    "id": "2wIHq277habz",
    "outputId": "7001a652-2484-4355-f2e2-1f578152adbe"
   },
   "outputs": [
    {
     "data": {
      "text/html": [
       "<div>\n",
       "<style scoped>\n",
       "    .dataframe tbody tr th:only-of-type {\n",
       "        vertical-align: middle;\n",
       "    }\n",
       "\n",
       "    .dataframe tbody tr th {\n",
       "        vertical-align: top;\n",
       "    }\n",
       "\n",
       "    .dataframe thead th {\n",
       "        text-align: right;\n",
       "    }\n",
       "</style>\n",
       "<table border=\"1\" class=\"dataframe\">\n",
       "  <thead>\n",
       "    <tr style=\"text-align: right;\">\n",
       "      <th></th>\n",
       "      <th>Training</th>\n",
       "      <th>Fine-Tuning</th>\n",
       "    </tr>\n",
       "  </thead>\n",
       "  <tbody>\n",
       "    <tr>\n",
       "      <th>DistilBert</th>\n",
       "      <td>(0.573, 0.5)</td>\n",
       "      <td>(0.717, 0.78)</td>\n",
       "    </tr>\n",
       "    <tr>\n",
       "      <th>Bert</th>\n",
       "      <td>(0.55, 0.43)</td>\n",
       "      <td>(0.716, 0.78)</td>\n",
       "    </tr>\n",
       "    <tr>\n",
       "      <th>SciBert</th>\n",
       "      <td>(0.479, 0.34)</td>\n",
       "      <td>(0.719, 0.78)</td>\n",
       "    </tr>\n",
       "    <tr>\n",
       "      <th>Roberta</th>\n",
       "      <td>(0.521, 0.25)</td>\n",
       "      <td>(0.724, 0.78)</td>\n",
       "    </tr>\n",
       "  </tbody>\n",
       "</table>\n",
       "</div>"
      ],
      "text/plain": [
       "                 Training    Fine-Tuning\n",
       "DistilBert   (0.573, 0.5)  (0.717, 0.78)\n",
       "Bert         (0.55, 0.43)  (0.716, 0.78)\n",
       "SciBert     (0.479, 0.34)  (0.719, 0.78)\n",
       "Roberta     (0.521, 0.25)  (0.724, 0.78)"
      ]
     },
     "execution_count": 50,
     "metadata": {
      "tags": []
     },
     "output_type": "execute_result"
    }
   ],
   "source": [
    "res = pd.DataFrame.from_dict(results_small, orient='index')\n",
    "res"
   ]
  },
  {
   "cell_type": "markdown",
   "metadata": {
    "id": "KPc6JZLOhafd"
   },
   "source": [
    "Les quatre modèles donnent des résultats se trouvant dans un mouchoir de poche.<br><br>Second point, on a pu observer à chaque fois des profils de modélisation similaires qui, malgré de meilleurs scores que ceux du projet 5, montre un fort déficit de généralisation. Pour remédier en partie à cela, nous pensons qu'il serait pertinent de travailler sur plus de données.<br><br>Le notebook suivant relate la constrution d'un nouveau dataset. Celui d'après les modélisations à partir de celui-ci."
   ]
  },
  {
   "cell_type": "markdown",
   "metadata": {
    "id": "vV6TrS4Qhaiq"
   },
   "source": [
    " "
   ]
  },
  {
   "cell_type": "markdown",
   "metadata": {
    "id": "kv9FPbfNhal_"
   },
   "source": [
    "**Fin de la première partie.**"
   ]
  },
  {
   "cell_type": "markdown",
   "metadata": {
    "id": "F6d4GV3ChapQ"
   },
   "source": [
    " "
   ]
  },
  {
   "cell_type": "markdown",
   "metadata": {
    "id": "neNBz-2VhasR"
   },
   "source": [
    " "
   ]
  }
 ],
 "metadata": {
  "accelerator": "TPU",
  "colab": {
   "collapsed_sections": [],
   "machine_shape": "hm",
   "name": "P7_2_SmallData_2.ipynb",
   "provenance": []
  },
  "kernelspec": {
   "display_name": "Python 3 (ipykernel)",
   "language": "python",
   "name": "python3"
  },
  "language_info": {
   "codemirror_mode": {
    "name": "ipython",
    "version": 3
   },
   "file_extension": ".py",
   "mimetype": "text/x-python",
   "name": "python",
   "nbconvert_exporter": "python",
   "pygments_lexer": "ipython3",
   "version": "3.9.13"
  },
  "widgets": {
   "application/vnd.jupyter.widget-state+json": {
    "00af28dcbfeb44c3b255fc8fe07ff76a": {
     "model_module": "@jupyter-widgets/controls",
     "model_name": "HBoxModel",
     "state": {
      "_dom_classes": [],
      "_model_module": "@jupyter-widgets/controls",
      "_model_module_version": "1.5.0",
      "_model_name": "HBoxModel",
      "_view_count": null,
      "_view_module": "@jupyter-widgets/controls",
      "_view_module_version": "1.5.0",
      "_view_name": "HBoxView",
      "box_style": "",
      "children": [
       "IPY_MODEL_a608cdb9de63409bb74bc293c0991d18",
       "IPY_MODEL_db16cdc627204af49e73ffa9e7f849cf"
      ],
      "layout": "IPY_MODEL_18fd001d3fd34fad88ec3870b1d38e14"
     }
    },
    "045706ea790c41f281d1944d706e1f85": {
     "model_module": "@jupyter-widgets/controls",
     "model_name": "HBoxModel",
     "state": {
      "_dom_classes": [],
      "_model_module": "@jupyter-widgets/controls",
      "_model_module_version": "1.5.0",
      "_model_name": "HBoxModel",
      "_view_count": null,
      "_view_module": "@jupyter-widgets/controls",
      "_view_module_version": "1.5.0",
      "_view_name": "HBoxView",
      "box_style": "",
      "children": [
       "IPY_MODEL_3b0af3da45b747b19a81d5445507ed00",
       "IPY_MODEL_84daa860bb72412bb0f699aa37a219a4"
      ],
      "layout": "IPY_MODEL_8dcf8948835c436b8e628cf88dd9b5ec"
     }
    },
    "048ee36707fb4cecabb454004c1a8aaf": {
     "model_module": "@jupyter-widgets/controls",
     "model_name": "ProgressStyleModel",
     "state": {
      "_model_module": "@jupyter-widgets/controls",
      "_model_module_version": "1.5.0",
      "_model_name": "ProgressStyleModel",
      "_view_count": null,
      "_view_module": "@jupyter-widgets/base",
      "_view_module_version": "1.2.0",
      "_view_name": "StyleView",
      "bar_color": null,
      "description_width": "initial"
     }
    },
    "0d145c336a9841c387702fe81cd11aa0": {
     "model_module": "@jupyter-widgets/base",
     "model_name": "LayoutModel",
     "state": {
      "_model_module": "@jupyter-widgets/base",
      "_model_module_version": "1.2.0",
      "_model_name": "LayoutModel",
      "_view_count": null,
      "_view_module": "@jupyter-widgets/base",
      "_view_module_version": "1.2.0",
      "_view_name": "LayoutView",
      "align_content": null,
      "align_items": null,
      "align_self": null,
      "border": null,
      "bottom": null,
      "display": null,
      "flex": null,
      "flex_flow": null,
      "grid_area": null,
      "grid_auto_columns": null,
      "grid_auto_flow": null,
      "grid_auto_rows": null,
      "grid_column": null,
      "grid_gap": null,
      "grid_row": null,
      "grid_template_areas": null,
      "grid_template_columns": null,
      "grid_template_rows": null,
      "height": null,
      "justify_content": null,
      "justify_items": null,
      "left": null,
      "margin": null,
      "max_height": null,
      "max_width": null,
      "min_height": null,
      "min_width": null,
      "object_fit": null,
      "object_position": null,
      "order": null,
      "overflow": null,
      "overflow_x": null,
      "overflow_y": null,
      "padding": null,
      "right": null,
      "top": null,
      "visibility": null,
      "width": null
     }
    },
    "0ec53080b2a447cd8a548fbb51b691b5": {
     "model_module": "@jupyter-widgets/controls",
     "model_name": "HBoxModel",
     "state": {
      "_dom_classes": [],
      "_model_module": "@jupyter-widgets/controls",
      "_model_module_version": "1.5.0",
      "_model_name": "HBoxModel",
      "_view_count": null,
      "_view_module": "@jupyter-widgets/controls",
      "_view_module_version": "1.5.0",
      "_view_name": "HBoxView",
      "box_style": "",
      "children": [
       "IPY_MODEL_f7456ce098c440ad86d7fd9580fb1983",
       "IPY_MODEL_5b78c057a0eb4a7486bd6c0e2046dff4"
      ],
      "layout": "IPY_MODEL_6ee74ed72615489ebae47ee6f302ef5e"
     }
    },
    "0ec6b3aabfd34a1a87307c0f2956a6df": {
     "model_module": "@jupyter-widgets/controls",
     "model_name": "ProgressStyleModel",
     "state": {
      "_model_module": "@jupyter-widgets/controls",
      "_model_module_version": "1.5.0",
      "_model_name": "ProgressStyleModel",
      "_view_count": null,
      "_view_module": "@jupyter-widgets/base",
      "_view_module_version": "1.2.0",
      "_view_name": "StyleView",
      "bar_color": null,
      "description_width": "initial"
     }
    },
    "0f818cb540f44b1fb945a85259cfd824": {
     "model_module": "@jupyter-widgets/controls",
     "model_name": "HTMLModel",
     "state": {
      "_dom_classes": [],
      "_model_module": "@jupyter-widgets/controls",
      "_model_module_version": "1.5.0",
      "_model_name": "HTMLModel",
      "_view_count": null,
      "_view_module": "@jupyter-widgets/controls",
      "_view_module_version": "1.5.0",
      "_view_name": "HTMLView",
      "description": "",
      "description_tooltip": null,
      "layout": "IPY_MODEL_4189fb45bf564bd5a3faa115aa419f15",
      "placeholder": "​",
      "style": "IPY_MODEL_8ade57ac3145437d9f71631bffc42f2f",
      "value": " 228k/228k [00:00&lt;00:00, 367kB/s]"
     }
    },
    "0f827c767b294216995dfef228b0f547": {
     "model_module": "@jupyter-widgets/base",
     "model_name": "LayoutModel",
     "state": {
      "_model_module": "@jupyter-widgets/base",
      "_model_module_version": "1.2.0",
      "_model_name": "LayoutModel",
      "_view_count": null,
      "_view_module": "@jupyter-widgets/base",
      "_view_module_version": "1.2.0",
      "_view_name": "LayoutView",
      "align_content": null,
      "align_items": null,
      "align_self": null,
      "border": null,
      "bottom": null,
      "display": null,
      "flex": null,
      "flex_flow": null,
      "grid_area": null,
      "grid_auto_columns": null,
      "grid_auto_flow": null,
      "grid_auto_rows": null,
      "grid_column": null,
      "grid_gap": null,
      "grid_row": null,
      "grid_template_areas": null,
      "grid_template_columns": null,
      "grid_template_rows": null,
      "height": null,
      "justify_content": null,
      "justify_items": null,
      "left": null,
      "margin": null,
      "max_height": null,
      "max_width": null,
      "min_height": null,
      "min_width": null,
      "object_fit": null,
      "object_position": null,
      "order": null,
      "overflow": null,
      "overflow_x": null,
      "overflow_y": null,
      "padding": null,
      "right": null,
      "top": null,
      "visibility": null,
      "width": null
     }
    },
    "10539f3988ee4bfbab9755410fb5da07": {
     "model_module": "@jupyter-widgets/base",
     "model_name": "LayoutModel",
     "state": {
      "_model_module": "@jupyter-widgets/base",
      "_model_module_version": "1.2.0",
      "_model_name": "LayoutModel",
      "_view_count": null,
      "_view_module": "@jupyter-widgets/base",
      "_view_module_version": "1.2.0",
      "_view_name": "LayoutView",
      "align_content": null,
      "align_items": null,
      "align_self": null,
      "border": null,
      "bottom": null,
      "display": null,
      "flex": null,
      "flex_flow": null,
      "grid_area": null,
      "grid_auto_columns": null,
      "grid_auto_flow": null,
      "grid_auto_rows": null,
      "grid_column": null,
      "grid_gap": null,
      "grid_row": null,
      "grid_template_areas": null,
      "grid_template_columns": null,
      "grid_template_rows": null,
      "height": null,
      "justify_content": null,
      "justify_items": null,
      "left": null,
      "margin": null,
      "max_height": null,
      "max_width": null,
      "min_height": null,
      "min_width": null,
      "object_fit": null,
      "object_position": null,
      "order": null,
      "overflow": null,
      "overflow_x": null,
      "overflow_y": null,
      "padding": null,
      "right": null,
      "top": null,
      "visibility": null,
      "width": null
     }
    },
    "12272b697fd649e691f7e8d7ba1d5902": {
     "model_module": "@jupyter-widgets/controls",
     "model_name": "DescriptionStyleModel",
     "state": {
      "_model_module": "@jupyter-widgets/controls",
      "_model_module_version": "1.5.0",
      "_model_name": "DescriptionStyleModel",
      "_view_count": null,
      "_view_module": "@jupyter-widgets/base",
      "_view_module_version": "1.2.0",
      "_view_name": "StyleView",
      "description_width": ""
     }
    },
    "14b862288d3c4f50be6d20935f5fcf2c": {
     "model_module": "@jupyter-widgets/controls",
     "model_name": "DescriptionStyleModel",
     "state": {
      "_model_module": "@jupyter-widgets/controls",
      "_model_module_version": "1.5.0",
      "_model_name": "DescriptionStyleModel",
      "_view_count": null,
      "_view_module": "@jupyter-widgets/base",
      "_view_module_version": "1.2.0",
      "_view_name": "StyleView",
      "description_width": ""
     }
    },
    "16011af66b3940e6b3066c534b74f9ba": {
     "model_module": "@jupyter-widgets/base",
     "model_name": "LayoutModel",
     "state": {
      "_model_module": "@jupyter-widgets/base",
      "_model_module_version": "1.2.0",
      "_model_name": "LayoutModel",
      "_view_count": null,
      "_view_module": "@jupyter-widgets/base",
      "_view_module_version": "1.2.0",
      "_view_name": "LayoutView",
      "align_content": null,
      "align_items": null,
      "align_self": null,
      "border": null,
      "bottom": null,
      "display": null,
      "flex": null,
      "flex_flow": null,
      "grid_area": null,
      "grid_auto_columns": null,
      "grid_auto_flow": null,
      "grid_auto_rows": null,
      "grid_column": null,
      "grid_gap": null,
      "grid_row": null,
      "grid_template_areas": null,
      "grid_template_columns": null,
      "grid_template_rows": null,
      "height": null,
      "justify_content": null,
      "justify_items": null,
      "left": null,
      "margin": null,
      "max_height": null,
      "max_width": null,
      "min_height": null,
      "min_width": null,
      "object_fit": null,
      "object_position": null,
      "order": null,
      "overflow": null,
      "overflow_x": null,
      "overflow_y": null,
      "padding": null,
      "right": null,
      "top": null,
      "visibility": null,
      "width": null
     }
    },
    "18129a3240fc400da701be120d409473": {
     "model_module": "@jupyter-widgets/base",
     "model_name": "LayoutModel",
     "state": {
      "_model_module": "@jupyter-widgets/base",
      "_model_module_version": "1.2.0",
      "_model_name": "LayoutModel",
      "_view_count": null,
      "_view_module": "@jupyter-widgets/base",
      "_view_module_version": "1.2.0",
      "_view_name": "LayoutView",
      "align_content": null,
      "align_items": null,
      "align_self": null,
      "border": null,
      "bottom": null,
      "display": null,
      "flex": null,
      "flex_flow": null,
      "grid_area": null,
      "grid_auto_columns": null,
      "grid_auto_flow": null,
      "grid_auto_rows": null,
      "grid_column": null,
      "grid_gap": null,
      "grid_row": null,
      "grid_template_areas": null,
      "grid_template_columns": null,
      "grid_template_rows": null,
      "height": null,
      "justify_content": null,
      "justify_items": null,
      "left": null,
      "margin": null,
      "max_height": null,
      "max_width": null,
      "min_height": null,
      "min_width": null,
      "object_fit": null,
      "object_position": null,
      "order": null,
      "overflow": null,
      "overflow_x": null,
      "overflow_y": null,
      "padding": null,
      "right": null,
      "top": null,
      "visibility": null,
      "width": null
     }
    },
    "18bcd1a314bf44a0bdb7a0f49efac7fb": {
     "model_module": "@jupyter-widgets/controls",
     "model_name": "HTMLModel",
     "state": {
      "_dom_classes": [],
      "_model_module": "@jupyter-widgets/controls",
      "_model_module_version": "1.5.0",
      "_model_name": "HTMLModel",
      "_view_count": null,
      "_view_module": "@jupyter-widgets/controls",
      "_view_module_version": "1.5.0",
      "_view_name": "HTMLView",
      "description": "",
      "description_tooltip": null,
      "layout": "IPY_MODEL_10539f3988ee4bfbab9755410fb5da07",
      "placeholder": "​",
      "style": "IPY_MODEL_6dfe0e2ed58e4e02a44d2d99c062945f",
      "value": " 481/481 [00:07&lt;00:00, 61.3B/s]"
     }
    },
    "18fd001d3fd34fad88ec3870b1d38e14": {
     "model_module": "@jupyter-widgets/base",
     "model_name": "LayoutModel",
     "state": {
      "_model_module": "@jupyter-widgets/base",
      "_model_module_version": "1.2.0",
      "_model_name": "LayoutModel",
      "_view_count": null,
      "_view_module": "@jupyter-widgets/base",
      "_view_module_version": "1.2.0",
      "_view_name": "LayoutView",
      "align_content": null,
      "align_items": null,
      "align_self": null,
      "border": null,
      "bottom": null,
      "display": null,
      "flex": null,
      "flex_flow": null,
      "grid_area": null,
      "grid_auto_columns": null,
      "grid_auto_flow": null,
      "grid_auto_rows": null,
      "grid_column": null,
      "grid_gap": null,
      "grid_row": null,
      "grid_template_areas": null,
      "grid_template_columns": null,
      "grid_template_rows": null,
      "height": null,
      "justify_content": null,
      "justify_items": null,
      "left": null,
      "margin": null,
      "max_height": null,
      "max_width": null,
      "min_height": null,
      "min_width": null,
      "object_fit": null,
      "object_position": null,
      "order": null,
      "overflow": null,
      "overflow_x": null,
      "overflow_y": null,
      "padding": null,
      "right": null,
      "top": null,
      "visibility": null,
      "width": null
     }
    },
    "1bab0231fc8b42339bdd399ae65d9acd": {
     "model_module": "@jupyter-widgets/base",
     "model_name": "LayoutModel",
     "state": {
      "_model_module": "@jupyter-widgets/base",
      "_model_module_version": "1.2.0",
      "_model_name": "LayoutModel",
      "_view_count": null,
      "_view_module": "@jupyter-widgets/base",
      "_view_module_version": "1.2.0",
      "_view_name": "LayoutView",
      "align_content": null,
      "align_items": null,
      "align_self": null,
      "border": null,
      "bottom": null,
      "display": null,
      "flex": null,
      "flex_flow": null,
      "grid_area": null,
      "grid_auto_columns": null,
      "grid_auto_flow": null,
      "grid_auto_rows": null,
      "grid_column": null,
      "grid_gap": null,
      "grid_row": null,
      "grid_template_areas": null,
      "grid_template_columns": null,
      "grid_template_rows": null,
      "height": null,
      "justify_content": null,
      "justify_items": null,
      "left": null,
      "margin": null,
      "max_height": null,
      "max_width": null,
      "min_height": null,
      "min_width": null,
      "object_fit": null,
      "object_position": null,
      "order": null,
      "overflow": null,
      "overflow_x": null,
      "overflow_y": null,
      "padding": null,
      "right": null,
      "top": null,
      "visibility": null,
      "width": null
     }
    },
    "1d17dcea989f46dfa7c7f47972d1aa7a": {
     "model_module": "@jupyter-widgets/base",
     "model_name": "LayoutModel",
     "state": {
      "_model_module": "@jupyter-widgets/base",
      "_model_module_version": "1.2.0",
      "_model_name": "LayoutModel",
      "_view_count": null,
      "_view_module": "@jupyter-widgets/base",
      "_view_module_version": "1.2.0",
      "_view_name": "LayoutView",
      "align_content": null,
      "align_items": null,
      "align_self": null,
      "border": null,
      "bottom": null,
      "display": null,
      "flex": null,
      "flex_flow": null,
      "grid_area": null,
      "grid_auto_columns": null,
      "grid_auto_flow": null,
      "grid_auto_rows": null,
      "grid_column": null,
      "grid_gap": null,
      "grid_row": null,
      "grid_template_areas": null,
      "grid_template_columns": null,
      "grid_template_rows": null,
      "height": null,
      "justify_content": null,
      "justify_items": null,
      "left": null,
      "margin": null,
      "max_height": null,
      "max_width": null,
      "min_height": null,
      "min_width": null,
      "object_fit": null,
      "object_position": null,
      "order": null,
      "overflow": null,
      "overflow_x": null,
      "overflow_y": null,
      "padding": null,
      "right": null,
      "top": null,
      "visibility": null,
      "width": null
     }
    },
    "1d2e6a5560af469da4d68620f79769b2": {
     "model_module": "@jupyter-widgets/controls",
     "model_name": "DescriptionStyleModel",
     "state": {
      "_model_module": "@jupyter-widgets/controls",
      "_model_module_version": "1.5.0",
      "_model_name": "DescriptionStyleModel",
      "_view_count": null,
      "_view_module": "@jupyter-widgets/base",
      "_view_module_version": "1.2.0",
      "_view_name": "StyleView",
      "description_width": ""
     }
    },
    "1da0aa0747fa465bb0c90364d99b295b": {
     "model_module": "@jupyter-widgets/base",
     "model_name": "LayoutModel",
     "state": {
      "_model_module": "@jupyter-widgets/base",
      "_model_module_version": "1.2.0",
      "_model_name": "LayoutModel",
      "_view_count": null,
      "_view_module": "@jupyter-widgets/base",
      "_view_module_version": "1.2.0",
      "_view_name": "LayoutView",
      "align_content": null,
      "align_items": null,
      "align_self": null,
      "border": null,
      "bottom": null,
      "display": null,
      "flex": null,
      "flex_flow": null,
      "grid_area": null,
      "grid_auto_columns": null,
      "grid_auto_flow": null,
      "grid_auto_rows": null,
      "grid_column": null,
      "grid_gap": null,
      "grid_row": null,
      "grid_template_areas": null,
      "grid_template_columns": null,
      "grid_template_rows": null,
      "height": null,
      "justify_content": null,
      "justify_items": null,
      "left": null,
      "margin": null,
      "max_height": null,
      "max_width": null,
      "min_height": null,
      "min_width": null,
      "object_fit": null,
      "object_position": null,
      "order": null,
      "overflow": null,
      "overflow_x": null,
      "overflow_y": null,
      "padding": null,
      "right": null,
      "top": null,
      "visibility": null,
      "width": null
     }
    },
    "1e96d78d43f74834b0801bfa4f7e8fbc": {
     "model_module": "@jupyter-widgets/controls",
     "model_name": "HTMLModel",
     "state": {
      "_dom_classes": [],
      "_model_module": "@jupyter-widgets/controls",
      "_model_module_version": "1.5.0",
      "_model_name": "HTMLModel",
      "_view_count": null,
      "_view_module": "@jupyter-widgets/controls",
      "_view_module_version": "1.5.0",
      "_view_name": "HTMLView",
      "description": "",
      "description_tooltip": null,
      "layout": "IPY_MODEL_1da0aa0747fa465bb0c90364d99b295b",
      "placeholder": "​",
      "style": "IPY_MODEL_37507b8f61114cc59693a974eee9a015",
      "value": " 354M/354M [00:06&lt;00:00, 52.4MB/s]"
     }
    },
    "1efe412733cd4cf0b010bd90777d6d6a": {
     "model_module": "@jupyter-widgets/controls",
     "model_name": "ProgressStyleModel",
     "state": {
      "_model_module": "@jupyter-widgets/controls",
      "_model_module_version": "1.5.0",
      "_model_name": "ProgressStyleModel",
      "_view_count": null,
      "_view_module": "@jupyter-widgets/base",
      "_view_module_version": "1.2.0",
      "_view_name": "StyleView",
      "bar_color": null,
      "description_width": "initial"
     }
    },
    "23a38b4bf4a64139ad9ea3770ffcaad0": {
     "model_module": "@jupyter-widgets/controls",
     "model_name": "ProgressStyleModel",
     "state": {
      "_model_module": "@jupyter-widgets/controls",
      "_model_module_version": "1.5.0",
      "_model_name": "ProgressStyleModel",
      "_view_count": null,
      "_view_module": "@jupyter-widgets/base",
      "_view_module_version": "1.2.0",
      "_view_name": "StyleView",
      "bar_color": null,
      "description_width": "initial"
     }
    },
    "258fd822d21647609d618af8ac5527c6": {
     "model_module": "@jupyter-widgets/controls",
     "model_name": "ProgressStyleModel",
     "state": {
      "_model_module": "@jupyter-widgets/controls",
      "_model_module_version": "1.5.0",
      "_model_name": "ProgressStyleModel",
      "_view_count": null,
      "_view_module": "@jupyter-widgets/base",
      "_view_module_version": "1.2.0",
      "_view_name": "StyleView",
      "bar_color": null,
      "description_width": "initial"
     }
    },
    "287b8730081a43ccb6279ebdd9e452cd": {
     "model_module": "@jupyter-widgets/controls",
     "model_name": "DescriptionStyleModel",
     "state": {
      "_model_module": "@jupyter-widgets/controls",
      "_model_module_version": "1.5.0",
      "_model_name": "DescriptionStyleModel",
      "_view_count": null,
      "_view_module": "@jupyter-widgets/base",
      "_view_module_version": "1.2.0",
      "_view_name": "StyleView",
      "description_width": ""
     }
    },
    "29d264f44f0343c684424c02497983ce": {
     "model_module": "@jupyter-widgets/controls",
     "model_name": "HTMLModel",
     "state": {
      "_dom_classes": [],
      "_model_module": "@jupyter-widgets/controls",
      "_model_module_version": "1.5.0",
      "_model_name": "HTMLModel",
      "_view_count": null,
      "_view_module": "@jupyter-widgets/controls",
      "_view_module_version": "1.5.0",
      "_view_name": "HTMLView",
      "description": "",
      "description_tooltip": null,
      "layout": "IPY_MODEL_ef7a48b690984c8aa77b062c1b48c87e",
      "placeholder": "​",
      "style": "IPY_MODEL_c4944a105313430b98918f7bf4ecbab9",
      "value": " 28.0/28.0 [00:09&lt;00:00, 3.09B/s]"
     }
    },
    "29e1199c529c42008b4e3d77b8237f2b": {
     "model_module": "@jupyter-widgets/base",
     "model_name": "LayoutModel",
     "state": {
      "_model_module": "@jupyter-widgets/base",
      "_model_module_version": "1.2.0",
      "_model_name": "LayoutModel",
      "_view_count": null,
      "_view_module": "@jupyter-widgets/base",
      "_view_module_version": "1.2.0",
      "_view_name": "LayoutView",
      "align_content": null,
      "align_items": null,
      "align_self": null,
      "border": null,
      "bottom": null,
      "display": null,
      "flex": null,
      "flex_flow": null,
      "grid_area": null,
      "grid_auto_columns": null,
      "grid_auto_flow": null,
      "grid_auto_rows": null,
      "grid_column": null,
      "grid_gap": null,
      "grid_row": null,
      "grid_template_areas": null,
      "grid_template_columns": null,
      "grid_template_rows": null,
      "height": null,
      "justify_content": null,
      "justify_items": null,
      "left": null,
      "margin": null,
      "max_height": null,
      "max_width": null,
      "min_height": null,
      "min_width": null,
      "object_fit": null,
      "object_position": null,
      "order": null,
      "overflow": null,
      "overflow_x": null,
      "overflow_y": null,
      "padding": null,
      "right": null,
      "top": null,
      "visibility": null,
      "width": null
     }
    },
    "29f1273753dd49a2b82dd08619b06f8d": {
     "model_module": "@jupyter-widgets/base",
     "model_name": "LayoutModel",
     "state": {
      "_model_module": "@jupyter-widgets/base",
      "_model_module_version": "1.2.0",
      "_model_name": "LayoutModel",
      "_view_count": null,
      "_view_module": "@jupyter-widgets/base",
      "_view_module_version": "1.2.0",
      "_view_name": "LayoutView",
      "align_content": null,
      "align_items": null,
      "align_self": null,
      "border": null,
      "bottom": null,
      "display": null,
      "flex": null,
      "flex_flow": null,
      "grid_area": null,
      "grid_auto_columns": null,
      "grid_auto_flow": null,
      "grid_auto_rows": null,
      "grid_column": null,
      "grid_gap": null,
      "grid_row": null,
      "grid_template_areas": null,
      "grid_template_columns": null,
      "grid_template_rows": null,
      "height": null,
      "justify_content": null,
      "justify_items": null,
      "left": null,
      "margin": null,
      "max_height": null,
      "max_width": null,
      "min_height": null,
      "min_width": null,
      "object_fit": null,
      "object_position": null,
      "order": null,
      "overflow": null,
      "overflow_x": null,
      "overflow_y": null,
      "padding": null,
      "right": null,
      "top": null,
      "visibility": null,
      "width": null
     }
    },
    "2c22231ddf224100992887c8b0114676": {
     "model_module": "@jupyter-widgets/controls",
     "model_name": "ProgressStyleModel",
     "state": {
      "_model_module": "@jupyter-widgets/controls",
      "_model_module_version": "1.5.0",
      "_model_name": "ProgressStyleModel",
      "_view_count": null,
      "_view_module": "@jupyter-widgets/base",
      "_view_module_version": "1.2.0",
      "_view_name": "StyleView",
      "bar_color": null,
      "description_width": "initial"
     }
    },
    "2defcac26ef8447d99a3eb1001662bb5": {
     "model_module": "@jupyter-widgets/controls",
     "model_name": "HBoxModel",
     "state": {
      "_dom_classes": [],
      "_model_module": "@jupyter-widgets/controls",
      "_model_module_version": "1.5.0",
      "_model_name": "HBoxModel",
      "_view_count": null,
      "_view_module": "@jupyter-widgets/controls",
      "_view_module_version": "1.5.0",
      "_view_name": "HBoxView",
      "box_style": "",
      "children": [
       "IPY_MODEL_90f731523a1f4b46853a327b25e4c1f8",
       "IPY_MODEL_3d920575eaae4dc896781fe3f8193cec"
      ],
      "layout": "IPY_MODEL_4a207661647b4cf2a6268211fd843ae2"
     }
    },
    "2e246b4cf1b54eb79e29de9a669e7ea5": {
     "model_module": "@jupyter-widgets/base",
     "model_name": "LayoutModel",
     "state": {
      "_model_module": "@jupyter-widgets/base",
      "_model_module_version": "1.2.0",
      "_model_name": "LayoutModel",
      "_view_count": null,
      "_view_module": "@jupyter-widgets/base",
      "_view_module_version": "1.2.0",
      "_view_name": "LayoutView",
      "align_content": null,
      "align_items": null,
      "align_self": null,
      "border": null,
      "bottom": null,
      "display": null,
      "flex": null,
      "flex_flow": null,
      "grid_area": null,
      "grid_auto_columns": null,
      "grid_auto_flow": null,
      "grid_auto_rows": null,
      "grid_column": null,
      "grid_gap": null,
      "grid_row": null,
      "grid_template_areas": null,
      "grid_template_columns": null,
      "grid_template_rows": null,
      "height": null,
      "justify_content": null,
      "justify_items": null,
      "left": null,
      "margin": null,
      "max_height": null,
      "max_width": null,
      "min_height": null,
      "min_width": null,
      "object_fit": null,
      "object_position": null,
      "order": null,
      "overflow": null,
      "overflow_x": null,
      "overflow_y": null,
      "padding": null,
      "right": null,
      "top": null,
      "visibility": null,
      "width": null
     }
    },
    "30992030aa334dd79ee99df95703cde5": {
     "model_module": "@jupyter-widgets/base",
     "model_name": "LayoutModel",
     "state": {
      "_model_module": "@jupyter-widgets/base",
      "_model_module_version": "1.2.0",
      "_model_name": "LayoutModel",
      "_view_count": null,
      "_view_module": "@jupyter-widgets/base",
      "_view_module_version": "1.2.0",
      "_view_name": "LayoutView",
      "align_content": null,
      "align_items": null,
      "align_self": null,
      "border": null,
      "bottom": null,
      "display": null,
      "flex": null,
      "flex_flow": null,
      "grid_area": null,
      "grid_auto_columns": null,
      "grid_auto_flow": null,
      "grid_auto_rows": null,
      "grid_column": null,
      "grid_gap": null,
      "grid_row": null,
      "grid_template_areas": null,
      "grid_template_columns": null,
      "grid_template_rows": null,
      "height": null,
      "justify_content": null,
      "justify_items": null,
      "left": null,
      "margin": null,
      "max_height": null,
      "max_width": null,
      "min_height": null,
      "min_width": null,
      "object_fit": null,
      "object_position": null,
      "order": null,
      "overflow": null,
      "overflow_x": null,
      "overflow_y": null,
      "padding": null,
      "right": null,
      "top": null,
      "visibility": null,
      "width": null
     }
    },
    "3279b2a20e0e418094e1da092e89e1a1": {
     "model_module": "@jupyter-widgets/controls",
     "model_name": "FloatProgressModel",
     "state": {
      "_dom_classes": [],
      "_model_module": "@jupyter-widgets/controls",
      "_model_module_version": "1.5.0",
      "_model_name": "FloatProgressModel",
      "_view_count": null,
      "_view_module": "@jupyter-widgets/controls",
      "_view_module_version": "1.5.0",
      "_view_name": "ProgressView",
      "bar_style": "success",
      "description": "Downloading: 100%",
      "description_tooltip": null,
      "layout": "IPY_MODEL_e881efe6c82f4526a3c6798cddabd27f",
      "max": 28,
      "min": 0,
      "orientation": "horizontal",
      "style": "IPY_MODEL_f8a536005c4348e8a7ec6d69b3e7b155",
      "value": 28
     }
    },
    "32dfb11bb2c4425c8854b57a12673b6b": {
     "model_module": "@jupyter-widgets/controls",
     "model_name": "FloatProgressModel",
     "state": {
      "_dom_classes": [],
      "_model_module": "@jupyter-widgets/controls",
      "_model_module_version": "1.5.0",
      "_model_name": "FloatProgressModel",
      "_view_count": null,
      "_view_module": "@jupyter-widgets/controls",
      "_view_module_version": "1.5.0",
      "_view_name": "ProgressView",
      "bar_style": "success",
      "description": "Downloading: 100%",
      "description_tooltip": null,
      "layout": "IPY_MODEL_c64fd20be9ce447c91c8897b2d8ed43c",
      "max": 231508,
      "min": 0,
      "orientation": "horizontal",
      "style": "IPY_MODEL_a1eae09b7f364018bdc85f8681c42015",
      "value": 231508
     }
    },
    "33547b80da494a1a95427efaa1bea26d": {
     "model_module": "@jupyter-widgets/controls",
     "model_name": "HTMLModel",
     "state": {
      "_dom_classes": [],
      "_model_module": "@jupyter-widgets/controls",
      "_model_module_version": "1.5.0",
      "_model_name": "HTMLModel",
      "_view_count": null,
      "_view_module": "@jupyter-widgets/controls",
      "_view_module_version": "1.5.0",
      "_view_name": "HTMLView",
      "description": "",
      "description_tooltip": null,
      "layout": "IPY_MODEL_cde14ae8b9ee47c682330dffc433ca13",
      "placeholder": "​",
      "style": "IPY_MODEL_f45fe4aaeb774ed49a2d7330bd7cf0fd",
      "value": " 442M/442M [00:08&lt;00:00, 53.3MB/s]"
     }
    },
    "37507b8f61114cc59693a974eee9a015": {
     "model_module": "@jupyter-widgets/controls",
     "model_name": "DescriptionStyleModel",
     "state": {
      "_model_module": "@jupyter-widgets/controls",
      "_model_module_version": "1.5.0",
      "_model_name": "DescriptionStyleModel",
      "_view_count": null,
      "_view_module": "@jupyter-widgets/base",
      "_view_module_version": "1.2.0",
      "_view_name": "StyleView",
      "description_width": ""
     }
    },
    "3826fcfc69184446ad46bf3a9cd88fcf": {
     "model_module": "@jupyter-widgets/controls",
     "model_name": "ProgressStyleModel",
     "state": {
      "_model_module": "@jupyter-widgets/controls",
      "_model_module_version": "1.5.0",
      "_model_name": "ProgressStyleModel",
      "_view_count": null,
      "_view_module": "@jupyter-widgets/base",
      "_view_module_version": "1.2.0",
      "_view_name": "StyleView",
      "bar_color": null,
      "description_width": "initial"
     }
    },
    "3b0af3da45b747b19a81d5445507ed00": {
     "model_module": "@jupyter-widgets/controls",
     "model_name": "FloatProgressModel",
     "state": {
      "_dom_classes": [],
      "_model_module": "@jupyter-widgets/controls",
      "_model_module_version": "1.5.0",
      "_model_name": "FloatProgressModel",
      "_view_count": null,
      "_view_module": "@jupyter-widgets/controls",
      "_view_module_version": "1.5.0",
      "_view_name": "ProgressView",
      "bar_style": "success",
      "description": "Downloading: 100%",
      "description_tooltip": null,
      "layout": "IPY_MODEL_b208f6a309bb4b2bbdb385865b5c28fe",
      "max": 466062,
      "min": 0,
      "orientation": "horizontal",
      "style": "IPY_MODEL_80421cb485004914b805b283811dd51b",
      "value": 466062
     }
    },
    "3b9baac3956a4db4a07b61356e8f0299": {
     "model_module": "@jupyter-widgets/base",
     "model_name": "LayoutModel",
     "state": {
      "_model_module": "@jupyter-widgets/base",
      "_model_module_version": "1.2.0",
      "_model_name": "LayoutModel",
      "_view_count": null,
      "_view_module": "@jupyter-widgets/base",
      "_view_module_version": "1.2.0",
      "_view_name": "LayoutView",
      "align_content": null,
      "align_items": null,
      "align_self": null,
      "border": null,
      "bottom": null,
      "display": null,
      "flex": null,
      "flex_flow": null,
      "grid_area": null,
      "grid_auto_columns": null,
      "grid_auto_flow": null,
      "grid_auto_rows": null,
      "grid_column": null,
      "grid_gap": null,
      "grid_row": null,
      "grid_template_areas": null,
      "grid_template_columns": null,
      "grid_template_rows": null,
      "height": null,
      "justify_content": null,
      "justify_items": null,
      "left": null,
      "margin": null,
      "max_height": null,
      "max_width": null,
      "min_height": null,
      "min_width": null,
      "object_fit": null,
      "object_position": null,
      "order": null,
      "overflow": null,
      "overflow_x": null,
      "overflow_y": null,
      "padding": null,
      "right": null,
      "top": null,
      "visibility": null,
      "width": null
     }
    },
    "3d920575eaae4dc896781fe3f8193cec": {
     "model_module": "@jupyter-widgets/controls",
     "model_name": "HTMLModel",
     "state": {
      "_dom_classes": [],
      "_model_module": "@jupyter-widgets/controls",
      "_model_module_version": "1.5.0",
      "_model_name": "HTMLModel",
      "_view_count": null,
      "_view_module": "@jupyter-widgets/controls",
      "_view_module_version": "1.5.0",
      "_view_name": "HTMLView",
      "description": "",
      "description_tooltip": null,
      "layout": "IPY_MODEL_cc82737757e142afb51f35c6409deaff",
      "placeholder": "​",
      "style": "IPY_MODEL_751f5f4cae164bafa24b2cf3b181be92",
      "value": " 213k/213k [00:00&lt;00:00, 625kB/s]"
     }
    },
    "40573e7ffe0d491986e88d41574d201e": {
     "model_module": "@jupyter-widgets/controls",
     "model_name": "HBoxModel",
     "state": {
      "_dom_classes": [],
      "_model_module": "@jupyter-widgets/controls",
      "_model_module_version": "1.5.0",
      "_model_name": "HBoxModel",
      "_view_count": null,
      "_view_module": "@jupyter-widgets/controls",
      "_view_module_version": "1.5.0",
      "_view_name": "HBoxView",
      "box_style": "",
      "children": [
       "IPY_MODEL_32dfb11bb2c4425c8854b57a12673b6b",
       "IPY_MODEL_671545c29ce44825a8b5e3d8ea2e2b44"
      ],
      "layout": "IPY_MODEL_29f1273753dd49a2b82dd08619b06f8d"
     }
    },
    "4189fb45bf564bd5a3faa115aa419f15": {
     "model_module": "@jupyter-widgets/base",
     "model_name": "LayoutModel",
     "state": {
      "_model_module": "@jupyter-widgets/base",
      "_model_module_version": "1.2.0",
      "_model_name": "LayoutModel",
      "_view_count": null,
      "_view_module": "@jupyter-widgets/base",
      "_view_module_version": "1.2.0",
      "_view_name": "LayoutView",
      "align_content": null,
      "align_items": null,
      "align_self": null,
      "border": null,
      "bottom": null,
      "display": null,
      "flex": null,
      "flex_flow": null,
      "grid_area": null,
      "grid_auto_columns": null,
      "grid_auto_flow": null,
      "grid_auto_rows": null,
      "grid_column": null,
      "grid_gap": null,
      "grid_row": null,
      "grid_template_areas": null,
      "grid_template_columns": null,
      "grid_template_rows": null,
      "height": null,
      "justify_content": null,
      "justify_items": null,
      "left": null,
      "margin": null,
      "max_height": null,
      "max_width": null,
      "min_height": null,
      "min_width": null,
      "object_fit": null,
      "object_position": null,
      "order": null,
      "overflow": null,
      "overflow_x": null,
      "overflow_y": null,
      "padding": null,
      "right": null,
      "top": null,
      "visibility": null,
      "width": null
     }
    },
    "4254aaebc088446b92d232c286296522": {
     "model_module": "@jupyter-widgets/controls",
     "model_name": "HTMLModel",
     "state": {
      "_dom_classes": [],
      "_model_module": "@jupyter-widgets/controls",
      "_model_module_version": "1.5.0",
      "_model_name": "HTMLModel",
      "_view_count": null,
      "_view_module": "@jupyter-widgets/controls",
      "_view_module_version": "1.5.0",
      "_view_name": "HTMLView",
      "description": "",
      "description_tooltip": null,
      "layout": "IPY_MODEL_8c01f27f6b514af38ade57b1d7a0823e",
      "placeholder": "​",
      "style": "IPY_MODEL_287b8730081a43ccb6279ebdd9e452cd",
      "value": " 411/411 [00:00&lt;00:00, 578B/s]"
     }
    },
    "42711566f4b145859b2bdd6a125914f7": {
     "model_module": "@jupyter-widgets/controls",
     "model_name": "FloatProgressModel",
     "state": {
      "_dom_classes": [],
      "_model_module": "@jupyter-widgets/controls",
      "_model_module_version": "1.5.0",
      "_model_name": "FloatProgressModel",
      "_view_count": null,
      "_view_module": "@jupyter-widgets/controls",
      "_view_module_version": "1.5.0",
      "_view_name": "ProgressView",
      "bar_style": "success",
      "description": "Downloading: 100%",
      "description_tooltip": null,
      "layout": "IPY_MODEL_db0bca68e8dc4e3ba7b3f6e3a0bf0c0e",
      "max": 536063208,
      "min": 0,
      "orientation": "horizontal",
      "style": "IPY_MODEL_1efe412733cd4cf0b010bd90777d6d6a",
      "value": 536063208
     }
    },
    "43359fac388e4c4da922c5db3ca22983": {
     "model_module": "@jupyter-widgets/base",
     "model_name": "LayoutModel",
     "state": {
      "_model_module": "@jupyter-widgets/base",
      "_model_module_version": "1.2.0",
      "_model_name": "LayoutModel",
      "_view_count": null,
      "_view_module": "@jupyter-widgets/base",
      "_view_module_version": "1.2.0",
      "_view_name": "LayoutView",
      "align_content": null,
      "align_items": null,
      "align_self": null,
      "border": null,
      "bottom": null,
      "display": null,
      "flex": null,
      "flex_flow": null,
      "grid_area": null,
      "grid_auto_columns": null,
      "grid_auto_flow": null,
      "grid_auto_rows": null,
      "grid_column": null,
      "grid_gap": null,
      "grid_row": null,
      "grid_template_areas": null,
      "grid_template_columns": null,
      "grid_template_rows": null,
      "height": null,
      "justify_content": null,
      "justify_items": null,
      "left": null,
      "margin": null,
      "max_height": null,
      "max_width": null,
      "min_height": null,
      "min_width": null,
      "object_fit": null,
      "object_position": null,
      "order": null,
      "overflow": null,
      "overflow_x": null,
      "overflow_y": null,
      "padding": null,
      "right": null,
      "top": null,
      "visibility": null,
      "width": null
     }
    },
    "446ffa094de54707a10d732af8a7307e": {
     "model_module": "@jupyter-widgets/controls",
     "model_name": "FloatProgressModel",
     "state": {
      "_dom_classes": [],
      "_model_module": "@jupyter-widgets/controls",
      "_model_module_version": "1.5.0",
      "_model_name": "FloatProgressModel",
      "_view_count": null,
      "_view_module": "@jupyter-widgets/controls",
      "_view_module_version": "1.5.0",
      "_view_name": "ProgressView",
      "bar_style": "success",
      "description": "Downloading: 100%",
      "description_tooltip": null,
      "layout": "IPY_MODEL_8e4c88c687bd42819bc1601da69d3a4a",
      "max": 466062,
      "min": 0,
      "orientation": "horizontal",
      "style": "IPY_MODEL_4f4f110575b4473b91400e29cb23a4d4",
      "value": 466062
     }
    },
    "4572286ac20445b5830fa2ab64cd7e0e": {
     "model_module": "@jupyter-widgets/base",
     "model_name": "LayoutModel",
     "state": {
      "_model_module": "@jupyter-widgets/base",
      "_model_module_version": "1.2.0",
      "_model_name": "LayoutModel",
      "_view_count": null,
      "_view_module": "@jupyter-widgets/base",
      "_view_module_version": "1.2.0",
      "_view_name": "LayoutView",
      "align_content": null,
      "align_items": null,
      "align_self": null,
      "border": null,
      "bottom": null,
      "display": null,
      "flex": null,
      "flex_flow": null,
      "grid_area": null,
      "grid_auto_columns": null,
      "grid_auto_flow": null,
      "grid_auto_rows": null,
      "grid_column": null,
      "grid_gap": null,
      "grid_row": null,
      "grid_template_areas": null,
      "grid_template_columns": null,
      "grid_template_rows": null,
      "height": null,
      "justify_content": null,
      "justify_items": null,
      "left": null,
      "margin": null,
      "max_height": null,
      "max_width": null,
      "min_height": null,
      "min_width": null,
      "object_fit": null,
      "object_position": null,
      "order": null,
      "overflow": null,
      "overflow_x": null,
      "overflow_y": null,
      "padding": null,
      "right": null,
      "top": null,
      "visibility": null,
      "width": null
     }
    },
    "46c3a174bffb496dae5f6d8e5414a8a6": {
     "model_module": "@jupyter-widgets/controls",
     "model_name": "HTMLModel",
     "state": {
      "_dom_classes": [],
      "_model_module": "@jupyter-widgets/controls",
      "_model_module_version": "1.5.0",
      "_model_name": "HTMLModel",
      "_view_count": null,
      "_view_module": "@jupyter-widgets/controls",
      "_view_module_version": "1.5.0",
      "_view_name": "HTMLView",
      "description": "",
      "description_tooltip": null,
      "layout": "IPY_MODEL_43359fac388e4c4da922c5db3ca22983",
      "placeholder": "​",
      "style": "IPY_MODEL_7552288e5c6b42f0a947d75c6e878636",
      "value": " 436k/436k [01:56&lt;00:00, 3.73kB/s]"
     }
    },
    "4a207661647b4cf2a6268211fd843ae2": {
     "model_module": "@jupyter-widgets/base",
     "model_name": "LayoutModel",
     "state": {
      "_model_module": "@jupyter-widgets/base",
      "_model_module_version": "1.2.0",
      "_model_name": "LayoutModel",
      "_view_count": null,
      "_view_module": "@jupyter-widgets/base",
      "_view_module_version": "1.2.0",
      "_view_name": "LayoutView",
      "align_content": null,
      "align_items": null,
      "align_self": null,
      "border": null,
      "bottom": null,
      "display": null,
      "flex": null,
      "flex_flow": null,
      "grid_area": null,
      "grid_auto_columns": null,
      "grid_auto_flow": null,
      "grid_auto_rows": null,
      "grid_column": null,
      "grid_gap": null,
      "grid_row": null,
      "grid_template_areas": null,
      "grid_template_columns": null,
      "grid_template_rows": null,
      "height": null,
      "justify_content": null,
      "justify_items": null,
      "left": null,
      "margin": null,
      "max_height": null,
      "max_width": null,
      "min_height": null,
      "min_width": null,
      "object_fit": null,
      "object_position": null,
      "order": null,
      "overflow": null,
      "overflow_x": null,
      "overflow_y": null,
      "padding": null,
      "right": null,
      "top": null,
      "visibility": null,
      "width": null
     }
    },
    "4c4a0d5a3c3f458db89de8bbf9436ba5": {
     "model_module": "@jupyter-widgets/controls",
     "model_name": "HBoxModel",
     "state": {
      "_dom_classes": [],
      "_model_module": "@jupyter-widgets/controls",
      "_model_module_version": "1.5.0",
      "_model_name": "HBoxModel",
      "_view_count": null,
      "_view_module": "@jupyter-widgets/controls",
      "_view_module_version": "1.5.0",
      "_view_name": "HBoxView",
      "box_style": "",
      "children": [
       "IPY_MODEL_bce8adb256db430492e0fe4aacc010be",
       "IPY_MODEL_29d264f44f0343c684424c02497983ce"
      ],
      "layout": "IPY_MODEL_f0a7abe1389b4299a6bbbd7a3d73eb41"
     }
    },
    "4c795ef82fcd42b6be1bd282bd38d4b7": {
     "model_module": "@jupyter-widgets/base",
     "model_name": "LayoutModel",
     "state": {
      "_model_module": "@jupyter-widgets/base",
      "_model_module_version": "1.2.0",
      "_model_name": "LayoutModel",
      "_view_count": null,
      "_view_module": "@jupyter-widgets/base",
      "_view_module_version": "1.2.0",
      "_view_name": "LayoutView",
      "align_content": null,
      "align_items": null,
      "align_self": null,
      "border": null,
      "bottom": null,
      "display": null,
      "flex": null,
      "flex_flow": null,
      "grid_area": null,
      "grid_auto_columns": null,
      "grid_auto_flow": null,
      "grid_auto_rows": null,
      "grid_column": null,
      "grid_gap": null,
      "grid_row": null,
      "grid_template_areas": null,
      "grid_template_columns": null,
      "grid_template_rows": null,
      "height": null,
      "justify_content": null,
      "justify_items": null,
      "left": null,
      "margin": null,
      "max_height": null,
      "max_width": null,
      "min_height": null,
      "min_width": null,
      "object_fit": null,
      "object_position": null,
      "order": null,
      "overflow": null,
      "overflow_x": null,
      "overflow_y": null,
      "padding": null,
      "right": null,
      "top": null,
      "visibility": null,
      "width": null
     }
    },
    "4f0bd28dc47f41868d7289acb209e722": {
     "model_module": "@jupyter-widgets/controls",
     "model_name": "ProgressStyleModel",
     "state": {
      "_model_module": "@jupyter-widgets/controls",
      "_model_module_version": "1.5.0",
      "_model_name": "ProgressStyleModel",
      "_view_count": null,
      "_view_module": "@jupyter-widgets/base",
      "_view_module_version": "1.2.0",
      "_view_name": "StyleView",
      "bar_color": null,
      "description_width": "initial"
     }
    },
    "4f438ad989624a8698e97bef3cfacd48": {
     "model_module": "@jupyter-widgets/base",
     "model_name": "LayoutModel",
     "state": {
      "_model_module": "@jupyter-widgets/base",
      "_model_module_version": "1.2.0",
      "_model_name": "LayoutModel",
      "_view_count": null,
      "_view_module": "@jupyter-widgets/base",
      "_view_module_version": "1.2.0",
      "_view_name": "LayoutView",
      "align_content": null,
      "align_items": null,
      "align_self": null,
      "border": null,
      "bottom": null,
      "display": null,
      "flex": null,
      "flex_flow": null,
      "grid_area": null,
      "grid_auto_columns": null,
      "grid_auto_flow": null,
      "grid_auto_rows": null,
      "grid_column": null,
      "grid_gap": null,
      "grid_row": null,
      "grid_template_areas": null,
      "grid_template_columns": null,
      "grid_template_rows": null,
      "height": null,
      "justify_content": null,
      "justify_items": null,
      "left": null,
      "margin": null,
      "max_height": null,
      "max_width": null,
      "min_height": null,
      "min_width": null,
      "object_fit": null,
      "object_position": null,
      "order": null,
      "overflow": null,
      "overflow_x": null,
      "overflow_y": null,
      "padding": null,
      "right": null,
      "top": null,
      "visibility": null,
      "width": null
     }
    },
    "4f4f110575b4473b91400e29cb23a4d4": {
     "model_module": "@jupyter-widgets/controls",
     "model_name": "ProgressStyleModel",
     "state": {
      "_model_module": "@jupyter-widgets/controls",
      "_model_module_version": "1.5.0",
      "_model_name": "ProgressStyleModel",
      "_view_count": null,
      "_view_module": "@jupyter-widgets/base",
      "_view_module_version": "1.2.0",
      "_view_name": "StyleView",
      "bar_color": null,
      "description_width": "initial"
     }
    },
    "508f19aa9ae24a098255b7365ca403aa": {
     "model_module": "@jupyter-widgets/controls",
     "model_name": "DescriptionStyleModel",
     "state": {
      "_model_module": "@jupyter-widgets/controls",
      "_model_module_version": "1.5.0",
      "_model_name": "DescriptionStyleModel",
      "_view_count": null,
      "_view_module": "@jupyter-widgets/base",
      "_view_module_version": "1.2.0",
      "_view_name": "StyleView",
      "description_width": ""
     }
    },
    "5151fc4a709e450faf1a2e40f061bacb": {
     "model_module": "@jupyter-widgets/controls",
     "model_name": "HTMLModel",
     "state": {
      "_dom_classes": [],
      "_model_module": "@jupyter-widgets/controls",
      "_model_module_version": "1.5.0",
      "_model_name": "HTMLModel",
      "_view_count": null,
      "_view_module": "@jupyter-widgets/controls",
      "_view_module_version": "1.5.0",
      "_view_name": "HTMLView",
      "description": "",
      "description_tooltip": null,
      "layout": "IPY_MODEL_18129a3240fc400da701be120d409473",
      "placeholder": "​",
      "style": "IPY_MODEL_a51285d169494f1b9b66835c17eda905",
      "value": " 232k/232k [00:00&lt;00:00, 277kB/s]"
     }
    },
    "54cc3f21581640d4b75376cb5d76c54e": {
     "model_module": "@jupyter-widgets/controls",
     "model_name": "DescriptionStyleModel",
     "state": {
      "_model_module": "@jupyter-widgets/controls",
      "_model_module_version": "1.5.0",
      "_model_name": "DescriptionStyleModel",
      "_view_count": null,
      "_view_module": "@jupyter-widgets/base",
      "_view_module_version": "1.2.0",
      "_view_name": "StyleView",
      "description_width": ""
     }
    },
    "554b0dd32d544c81891ee4ac0efa4347": {
     "model_module": "@jupyter-widgets/controls",
     "model_name": "FloatProgressModel",
     "state": {
      "_dom_classes": [],
      "_model_module": "@jupyter-widgets/controls",
      "_model_module_version": "1.5.0",
      "_model_name": "FloatProgressModel",
      "_view_count": null,
      "_view_module": "@jupyter-widgets/controls",
      "_view_module_version": "1.5.0",
      "_view_name": "ProgressView",
      "bar_style": "success",
      "description": "Downloading: 100%",
      "description_tooltip": null,
      "layout": "IPY_MODEL_588cef5ebb244242877bb503c1ee50c5",
      "max": 363423424,
      "min": 0,
      "orientation": "horizontal",
      "style": "IPY_MODEL_e7a4727372124e68ae44d6da14b453b5",
      "value": 363423424
     }
    },
    "567519648eba409093207bc3a847d683": {
     "model_module": "@jupyter-widgets/base",
     "model_name": "LayoutModel",
     "state": {
      "_model_module": "@jupyter-widgets/base",
      "_model_module_version": "1.2.0",
      "_model_name": "LayoutModel",
      "_view_count": null,
      "_view_module": "@jupyter-widgets/base",
      "_view_module_version": "1.2.0",
      "_view_name": "LayoutView",
      "align_content": null,
      "align_items": null,
      "align_self": null,
      "border": null,
      "bottom": null,
      "display": null,
      "flex": null,
      "flex_flow": null,
      "grid_area": null,
      "grid_auto_columns": null,
      "grid_auto_flow": null,
      "grid_auto_rows": null,
      "grid_column": null,
      "grid_gap": null,
      "grid_row": null,
      "grid_template_areas": null,
      "grid_template_columns": null,
      "grid_template_rows": null,
      "height": null,
      "justify_content": null,
      "justify_items": null,
      "left": null,
      "margin": null,
      "max_height": null,
      "max_width": null,
      "min_height": null,
      "min_width": null,
      "object_fit": null,
      "object_position": null,
      "order": null,
      "overflow": null,
      "overflow_x": null,
      "overflow_y": null,
      "padding": null,
      "right": null,
      "top": null,
      "visibility": null,
      "width": null
     }
    },
    "57c39062a4c74ca7a528ca0d5e9b17a9": {
     "model_module": "@jupyter-widgets/controls",
     "model_name": "FloatProgressModel",
     "state": {
      "_dom_classes": [],
      "_model_module": "@jupyter-widgets/controls",
      "_model_module_version": "1.5.0",
      "_model_name": "FloatProgressModel",
      "_view_count": null,
      "_view_module": "@jupyter-widgets/controls",
      "_view_module_version": "1.5.0",
      "_view_name": "ProgressView",
      "bar_style": "success",
      "description": "Downloading: 100%",
      "description_tooltip": null,
      "layout": "IPY_MODEL_ccc888baf3b045ffa622bfbb6303246d",
      "max": 657434796,
      "min": 0,
      "orientation": "horizontal",
      "style": "IPY_MODEL_3826fcfc69184446ad46bf3a9cd88fcf",
      "value": 657434796
     }
    },
    "588cef5ebb244242877bb503c1ee50c5": {
     "model_module": "@jupyter-widgets/base",
     "model_name": "LayoutModel",
     "state": {
      "_model_module": "@jupyter-widgets/base",
      "_model_module_version": "1.2.0",
      "_model_name": "LayoutModel",
      "_view_count": null,
      "_view_module": "@jupyter-widgets/base",
      "_view_module_version": "1.2.0",
      "_view_name": "LayoutView",
      "align_content": null,
      "align_items": null,
      "align_self": null,
      "border": null,
      "bottom": null,
      "display": null,
      "flex": null,
      "flex_flow": null,
      "grid_area": null,
      "grid_auto_columns": null,
      "grid_auto_flow": null,
      "grid_auto_rows": null,
      "grid_column": null,
      "grid_gap": null,
      "grid_row": null,
      "grid_template_areas": null,
      "grid_template_columns": null,
      "grid_template_rows": null,
      "height": null,
      "justify_content": null,
      "justify_items": null,
      "left": null,
      "margin": null,
      "max_height": null,
      "max_width": null,
      "min_height": null,
      "min_width": null,
      "object_fit": null,
      "object_position": null,
      "order": null,
      "overflow": null,
      "overflow_x": null,
      "overflow_y": null,
      "padding": null,
      "right": null,
      "top": null,
      "visibility": null,
      "width": null
     }
    },
    "5ae60876babe42888d6d0f82a7114eeb": {
     "model_module": "@jupyter-widgets/base",
     "model_name": "LayoutModel",
     "state": {
      "_model_module": "@jupyter-widgets/base",
      "_model_module_version": "1.2.0",
      "_model_name": "LayoutModel",
      "_view_count": null,
      "_view_module": "@jupyter-widgets/base",
      "_view_module_version": "1.2.0",
      "_view_name": "LayoutView",
      "align_content": null,
      "align_items": null,
      "align_self": null,
      "border": null,
      "bottom": null,
      "display": null,
      "flex": null,
      "flex_flow": null,
      "grid_area": null,
      "grid_auto_columns": null,
      "grid_auto_flow": null,
      "grid_auto_rows": null,
      "grid_column": null,
      "grid_gap": null,
      "grid_row": null,
      "grid_template_areas": null,
      "grid_template_columns": null,
      "grid_template_rows": null,
      "height": null,
      "justify_content": null,
      "justify_items": null,
      "left": null,
      "margin": null,
      "max_height": null,
      "max_width": null,
      "min_height": null,
      "min_width": null,
      "object_fit": null,
      "object_position": null,
      "order": null,
      "overflow": null,
      "overflow_x": null,
      "overflow_y": null,
      "padding": null,
      "right": null,
      "top": null,
      "visibility": null,
      "width": null
     }
    },
    "5b78c057a0eb4a7486bd6c0e2046dff4": {
     "model_module": "@jupyter-widgets/controls",
     "model_name": "HTMLModel",
     "state": {
      "_dom_classes": [],
      "_model_module": "@jupyter-widgets/controls",
      "_model_module_version": "1.5.0",
      "_model_name": "HTMLModel",
      "_view_count": null,
      "_view_module": "@jupyter-widgets/controls",
      "_view_module_version": "1.5.0",
      "_view_name": "HTMLView",
      "description": "",
      "description_tooltip": null,
      "layout": "IPY_MODEL_1d17dcea989f46dfa7c7f47972d1aa7a",
      "placeholder": "​",
      "style": "IPY_MODEL_929186e3ca7746b1978dd8bad2e8717b",
      "value": " 442/442 [00:07&lt;00:00, 60.6B/s]"
     }
    },
    "5e516dd8283b44e485476b7e244039e7": {
     "model_module": "@jupyter-widgets/base",
     "model_name": "LayoutModel",
     "state": {
      "_model_module": "@jupyter-widgets/base",
      "_model_module_version": "1.2.0",
      "_model_name": "LayoutModel",
      "_view_count": null,
      "_view_module": "@jupyter-widgets/base",
      "_view_module_version": "1.2.0",
      "_view_name": "LayoutView",
      "align_content": null,
      "align_items": null,
      "align_self": null,
      "border": null,
      "bottom": null,
      "display": null,
      "flex": null,
      "flex_flow": null,
      "grid_area": null,
      "grid_auto_columns": null,
      "grid_auto_flow": null,
      "grid_auto_rows": null,
      "grid_column": null,
      "grid_gap": null,
      "grid_row": null,
      "grid_template_areas": null,
      "grid_template_columns": null,
      "grid_template_rows": null,
      "height": null,
      "justify_content": null,
      "justify_items": null,
      "left": null,
      "margin": null,
      "max_height": null,
      "max_width": null,
      "min_height": null,
      "min_width": null,
      "object_fit": null,
      "object_position": null,
      "order": null,
      "overflow": null,
      "overflow_x": null,
      "overflow_y": null,
      "padding": null,
      "right": null,
      "top": null,
      "visibility": null,
      "width": null
     }
    },
    "5e6c50d578b744eeb67e3ca5486750e4": {
     "model_module": "@jupyter-widgets/base",
     "model_name": "LayoutModel",
     "state": {
      "_model_module": "@jupyter-widgets/base",
      "_model_module_version": "1.2.0",
      "_model_name": "LayoutModel",
      "_view_count": null,
      "_view_module": "@jupyter-widgets/base",
      "_view_module_version": "1.2.0",
      "_view_name": "LayoutView",
      "align_content": null,
      "align_items": null,
      "align_self": null,
      "border": null,
      "bottom": null,
      "display": null,
      "flex": null,
      "flex_flow": null,
      "grid_area": null,
      "grid_auto_columns": null,
      "grid_auto_flow": null,
      "grid_auto_rows": null,
      "grid_column": null,
      "grid_gap": null,
      "grid_row": null,
      "grid_template_areas": null,
      "grid_template_columns": null,
      "grid_template_rows": null,
      "height": null,
      "justify_content": null,
      "justify_items": null,
      "left": null,
      "margin": null,
      "max_height": null,
      "max_width": null,
      "min_height": null,
      "min_width": null,
      "object_fit": null,
      "object_position": null,
      "order": null,
      "overflow": null,
      "overflow_x": null,
      "overflow_y": null,
      "padding": null,
      "right": null,
      "top": null,
      "visibility": null,
      "width": null
     }
    },
    "5fd3d55943dc48cf8aea78e8f1e28890": {
     "model_module": "@jupyter-widgets/controls",
     "model_name": "HBoxModel",
     "state": {
      "_dom_classes": [],
      "_model_module": "@jupyter-widgets/controls",
      "_model_module_version": "1.5.0",
      "_model_name": "HBoxModel",
      "_view_count": null,
      "_view_module": "@jupyter-widgets/controls",
      "_view_module_version": "1.5.0",
      "_view_name": "HBoxView",
      "box_style": "",
      "children": [
       "IPY_MODEL_57c39062a4c74ca7a528ca0d5e9b17a9",
       "IPY_MODEL_9ff640a8eca1494882a9da4f81c6cd33"
      ],
      "layout": "IPY_MODEL_b330face545d40289dd688cd10a1a592"
     }
    },
    "609c109090174f63bfb4e26a03ab78d5": {
     "model_module": "@jupyter-widgets/controls",
     "model_name": "ProgressStyleModel",
     "state": {
      "_model_module": "@jupyter-widgets/controls",
      "_model_module_version": "1.5.0",
      "_model_name": "ProgressStyleModel",
      "_view_count": null,
      "_view_module": "@jupyter-widgets/base",
      "_view_module_version": "1.2.0",
      "_view_name": "StyleView",
      "bar_color": null,
      "description_width": "initial"
     }
    },
    "659030acf16149f1883fe950d86beb5d": {
     "model_module": "@jupyter-widgets/controls",
     "model_name": "FloatProgressModel",
     "state": {
      "_dom_classes": [],
      "_model_module": "@jupyter-widgets/controls",
      "_model_module_version": "1.5.0",
      "_model_name": "FloatProgressModel",
      "_view_count": null,
      "_view_module": "@jupyter-widgets/controls",
      "_view_module_version": "1.5.0",
      "_view_name": "ProgressView",
      "bar_style": "success",
      "description": "Downloading: 100%",
      "description_tooltip": null,
      "layout": "IPY_MODEL_a46d1bd33b864c378b5778c8b7b63faa",
      "max": 227845,
      "min": 0,
      "orientation": "horizontal",
      "style": "IPY_MODEL_e2bcf10a992c432abf261f5cd9204bf1",
      "value": 227845
     }
    },
    "65bbd7ddb42746e39608cd1714a5c65d": {
     "model_module": "@jupyter-widgets/base",
     "model_name": "LayoutModel",
     "state": {
      "_model_module": "@jupyter-widgets/base",
      "_model_module_version": "1.2.0",
      "_model_name": "LayoutModel",
      "_view_count": null,
      "_view_module": "@jupyter-widgets/base",
      "_view_module_version": "1.2.0",
      "_view_name": "LayoutView",
      "align_content": null,
      "align_items": null,
      "align_self": null,
      "border": null,
      "bottom": null,
      "display": null,
      "flex": null,
      "flex_flow": null,
      "grid_area": null,
      "grid_auto_columns": null,
      "grid_auto_flow": null,
      "grid_auto_rows": null,
      "grid_column": null,
      "grid_gap": null,
      "grid_row": null,
      "grid_template_areas": null,
      "grid_template_columns": null,
      "grid_template_rows": null,
      "height": null,
      "justify_content": null,
      "justify_items": null,
      "left": null,
      "margin": null,
      "max_height": null,
      "max_width": null,
      "min_height": null,
      "min_width": null,
      "object_fit": null,
      "object_position": null,
      "order": null,
      "overflow": null,
      "overflow_x": null,
      "overflow_y": null,
      "padding": null,
      "right": null,
      "top": null,
      "visibility": null,
      "width": null
     }
    },
    "671545c29ce44825a8b5e3d8ea2e2b44": {
     "model_module": "@jupyter-widgets/controls",
     "model_name": "HTMLModel",
     "state": {
      "_dom_classes": [],
      "_model_module": "@jupyter-widgets/controls",
      "_model_module_version": "1.5.0",
      "_model_name": "HTMLModel",
      "_view_count": null,
      "_view_module": "@jupyter-widgets/controls",
      "_view_module_version": "1.5.0",
      "_view_name": "HTMLView",
      "description": "",
      "description_tooltip": null,
      "layout": "IPY_MODEL_831473fa6b7c4b5e9ed740f0ec2fb0b9",
      "placeholder": "​",
      "style": "IPY_MODEL_1d2e6a5560af469da4d68620f79769b2",
      "value": " 232k/232k [00:00&lt;00:00, 671kB/s]"
     }
    },
    "6898229ff0d241d7adf2e0fa87651b31": {
     "model_module": "@jupyter-widgets/controls",
     "model_name": "ProgressStyleModel",
     "state": {
      "_model_module": "@jupyter-widgets/controls",
      "_model_module_version": "1.5.0",
      "_model_name": "ProgressStyleModel",
      "_view_count": null,
      "_view_module": "@jupyter-widgets/base",
      "_view_module_version": "1.2.0",
      "_view_name": "StyleView",
      "bar_color": null,
      "description_width": "initial"
     }
    },
    "68c35052761e46efaa04b52f4da66a43": {
     "model_module": "@jupyter-widgets/base",
     "model_name": "LayoutModel",
     "state": {
      "_model_module": "@jupyter-widgets/base",
      "_model_module_version": "1.2.0",
      "_model_name": "LayoutModel",
      "_view_count": null,
      "_view_module": "@jupyter-widgets/base",
      "_view_module_version": "1.2.0",
      "_view_name": "LayoutView",
      "align_content": null,
      "align_items": null,
      "align_self": null,
      "border": null,
      "bottom": null,
      "display": null,
      "flex": null,
      "flex_flow": null,
      "grid_area": null,
      "grid_auto_columns": null,
      "grid_auto_flow": null,
      "grid_auto_rows": null,
      "grid_column": null,
      "grid_gap": null,
      "grid_row": null,
      "grid_template_areas": null,
      "grid_template_columns": null,
      "grid_template_rows": null,
      "height": null,
      "justify_content": null,
      "justify_items": null,
      "left": null,
      "margin": null,
      "max_height": null,
      "max_width": null,
      "min_height": null,
      "min_width": null,
      "object_fit": null,
      "object_position": null,
      "order": null,
      "overflow": null,
      "overflow_x": null,
      "overflow_y": null,
      "padding": null,
      "right": null,
      "top": null,
      "visibility": null,
      "width": null
     }
    },
    "6924ff9449bc490fb8f3accadd6cfac2": {
     "model_module": "@jupyter-widgets/controls",
     "model_name": "HBoxModel",
     "state": {
      "_dom_classes": [],
      "_model_module": "@jupyter-widgets/controls",
      "_model_module_version": "1.5.0",
      "_model_name": "HBoxModel",
      "_view_count": null,
      "_view_module": "@jupyter-widgets/controls",
      "_view_module_version": "1.5.0",
      "_view_name": "HBoxView",
      "box_style": "",
      "children": [
       "IPY_MODEL_659030acf16149f1883fe950d86beb5d",
       "IPY_MODEL_0f818cb540f44b1fb945a85259cfd824"
      ],
      "layout": "IPY_MODEL_16011af66b3940e6b3066c534b74f9ba"
     }
    },
    "6b9c6c006937416bbfe44bc955d9cbbc": {
     "model_module": "@jupyter-widgets/base",
     "model_name": "LayoutModel",
     "state": {
      "_model_module": "@jupyter-widgets/base",
      "_model_module_version": "1.2.0",
      "_model_name": "LayoutModel",
      "_view_count": null,
      "_view_module": "@jupyter-widgets/base",
      "_view_module_version": "1.2.0",
      "_view_name": "LayoutView",
      "align_content": null,
      "align_items": null,
      "align_self": null,
      "border": null,
      "bottom": null,
      "display": null,
      "flex": null,
      "flex_flow": null,
      "grid_area": null,
      "grid_auto_columns": null,
      "grid_auto_flow": null,
      "grid_auto_rows": null,
      "grid_column": null,
      "grid_gap": null,
      "grid_row": null,
      "grid_template_areas": null,
      "grid_template_columns": null,
      "grid_template_rows": null,
      "height": null,
      "justify_content": null,
      "justify_items": null,
      "left": null,
      "margin": null,
      "max_height": null,
      "max_width": null,
      "min_height": null,
      "min_width": null,
      "object_fit": null,
      "object_position": null,
      "order": null,
      "overflow": null,
      "overflow_x": null,
      "overflow_y": null,
      "padding": null,
      "right": null,
      "top": null,
      "visibility": null,
      "width": null
     }
    },
    "6c50a49ceb214acd80f3df64478ca1da": {
     "model_module": "@jupyter-widgets/base",
     "model_name": "LayoutModel",
     "state": {
      "_model_module": "@jupyter-widgets/base",
      "_model_module_version": "1.2.0",
      "_model_name": "LayoutModel",
      "_view_count": null,
      "_view_module": "@jupyter-widgets/base",
      "_view_module_version": "1.2.0",
      "_view_name": "LayoutView",
      "align_content": null,
      "align_items": null,
      "align_self": null,
      "border": null,
      "bottom": null,
      "display": null,
      "flex": null,
      "flex_flow": null,
      "grid_area": null,
      "grid_auto_columns": null,
      "grid_auto_flow": null,
      "grid_auto_rows": null,
      "grid_column": null,
      "grid_gap": null,
      "grid_row": null,
      "grid_template_areas": null,
      "grid_template_columns": null,
      "grid_template_rows": null,
      "height": null,
      "justify_content": null,
      "justify_items": null,
      "left": null,
      "margin": null,
      "max_height": null,
      "max_width": null,
      "min_height": null,
      "min_width": null,
      "object_fit": null,
      "object_position": null,
      "order": null,
      "overflow": null,
      "overflow_x": null,
      "overflow_y": null,
      "padding": null,
      "right": null,
      "top": null,
      "visibility": null,
      "width": null
     }
    },
    "6dfe0e2ed58e4e02a44d2d99c062945f": {
     "model_module": "@jupyter-widgets/controls",
     "model_name": "DescriptionStyleModel",
     "state": {
      "_model_module": "@jupyter-widgets/controls",
      "_model_module_version": "1.5.0",
      "_model_name": "DescriptionStyleModel",
      "_view_count": null,
      "_view_module": "@jupyter-widgets/base",
      "_view_module_version": "1.2.0",
      "_view_name": "StyleView",
      "description_width": ""
     }
    },
    "6ee74ed72615489ebae47ee6f302ef5e": {
     "model_module": "@jupyter-widgets/base",
     "model_name": "LayoutModel",
     "state": {
      "_model_module": "@jupyter-widgets/base",
      "_model_module_version": "1.2.0",
      "_model_name": "LayoutModel",
      "_view_count": null,
      "_view_module": "@jupyter-widgets/base",
      "_view_module_version": "1.2.0",
      "_view_name": "LayoutView",
      "align_content": null,
      "align_items": null,
      "align_self": null,
      "border": null,
      "bottom": null,
      "display": null,
      "flex": null,
      "flex_flow": null,
      "grid_area": null,
      "grid_auto_columns": null,
      "grid_auto_flow": null,
      "grid_auto_rows": null,
      "grid_column": null,
      "grid_gap": null,
      "grid_row": null,
      "grid_template_areas": null,
      "grid_template_columns": null,
      "grid_template_rows": null,
      "height": null,
      "justify_content": null,
      "justify_items": null,
      "left": null,
      "margin": null,
      "max_height": null,
      "max_width": null,
      "min_height": null,
      "min_width": null,
      "object_fit": null,
      "object_position": null,
      "order": null,
      "overflow": null,
      "overflow_x": null,
      "overflow_y": null,
      "padding": null,
      "right": null,
      "top": null,
      "visibility": null,
      "width": null
     }
    },
    "6ef2df21f32b4314a9291f1cb0554aa0": {
     "model_module": "@jupyter-widgets/controls",
     "model_name": "HTMLModel",
     "state": {
      "_dom_classes": [],
      "_model_module": "@jupyter-widgets/controls",
      "_model_module_version": "1.5.0",
      "_model_name": "HTMLModel",
      "_view_count": null,
      "_view_module": "@jupyter-widgets/controls",
      "_view_module_version": "1.5.0",
      "_view_name": "HTMLView",
      "description": "",
      "description_tooltip": null,
      "layout": "IPY_MODEL_68c35052761e46efaa04b52f4da66a43",
      "placeholder": "​",
      "style": "IPY_MODEL_12272b697fd649e691f7e8d7ba1d5902",
      "value": " 363M/363M [00:06&lt;00:00, 52.7MB/s]"
     }
    },
    "71a12efd42d94af2b4a4da45f739f74f": {
     "model_module": "@jupyter-widgets/controls",
     "model_name": "HBoxModel",
     "state": {
      "_dom_classes": [],
      "_model_module": "@jupyter-widgets/controls",
      "_model_module_version": "1.5.0",
      "_model_name": "HBoxModel",
      "_view_count": null,
      "_view_module": "@jupyter-widgets/controls",
      "_view_module_version": "1.5.0",
      "_view_name": "HBoxView",
      "box_style": "",
      "children": [
       "IPY_MODEL_e82a0168ddc848369ec2f20c898c006e",
       "IPY_MODEL_d665619b470546b3a8cb24e8323e6fa9"
      ],
      "layout": "IPY_MODEL_f03f4ee565604ed292d111b05c6500b3"
     }
    },
    "74f1a60d75804c3eb02bd1c9e183d7e0": {
     "model_module": "@jupyter-widgets/controls",
     "model_name": "HBoxModel",
     "state": {
      "_dom_classes": [],
      "_model_module": "@jupyter-widgets/controls",
      "_model_module_version": "1.5.0",
      "_model_name": "HBoxModel",
      "_view_count": null,
      "_view_module": "@jupyter-widgets/controls",
      "_view_module_version": "1.5.0",
      "_view_name": "HBoxView",
      "box_style": "",
      "children": [
       "IPY_MODEL_c86e810c9fed4e8fa64c1ae3372a0885",
       "IPY_MODEL_18bcd1a314bf44a0bdb7a0f49efac7fb"
      ],
      "layout": "IPY_MODEL_5ae60876babe42888d6d0f82a7114eeb"
     }
    },
    "74fd385f19c54b2da714ff96090ec148": {
     "model_module": "@jupyter-widgets/base",
     "model_name": "LayoutModel",
     "state": {
      "_model_module": "@jupyter-widgets/base",
      "_model_module_version": "1.2.0",
      "_model_name": "LayoutModel",
      "_view_count": null,
      "_view_module": "@jupyter-widgets/base",
      "_view_module_version": "1.2.0",
      "_view_name": "LayoutView",
      "align_content": null,
      "align_items": null,
      "align_self": null,
      "border": null,
      "bottom": null,
      "display": null,
      "flex": null,
      "flex_flow": null,
      "grid_area": null,
      "grid_auto_columns": null,
      "grid_auto_flow": null,
      "grid_auto_rows": null,
      "grid_column": null,
      "grid_gap": null,
      "grid_row": null,
      "grid_template_areas": null,
      "grid_template_columns": null,
      "grid_template_rows": null,
      "height": null,
      "justify_content": null,
      "justify_items": null,
      "left": null,
      "margin": null,
      "max_height": null,
      "max_width": null,
      "min_height": null,
      "min_width": null,
      "object_fit": null,
      "object_position": null,
      "order": null,
      "overflow": null,
      "overflow_x": null,
      "overflow_y": null,
      "padding": null,
      "right": null,
      "top": null,
      "visibility": null,
      "width": null
     }
    },
    "751f5f4cae164bafa24b2cf3b181be92": {
     "model_module": "@jupyter-widgets/controls",
     "model_name": "DescriptionStyleModel",
     "state": {
      "_model_module": "@jupyter-widgets/controls",
      "_model_module_version": "1.5.0",
      "_model_name": "DescriptionStyleModel",
      "_view_count": null,
      "_view_module": "@jupyter-widgets/base",
      "_view_module_version": "1.2.0",
      "_view_name": "StyleView",
      "description_width": ""
     }
    },
    "7552288e5c6b42f0a947d75c6e878636": {
     "model_module": "@jupyter-widgets/controls",
     "model_name": "DescriptionStyleModel",
     "state": {
      "_model_module": "@jupyter-widgets/controls",
      "_model_module_version": "1.5.0",
      "_model_name": "DescriptionStyleModel",
      "_view_count": null,
      "_view_module": "@jupyter-widgets/base",
      "_view_module_version": "1.2.0",
      "_view_name": "StyleView",
      "description_width": ""
     }
    },
    "761dafe5823b4c609096d7db24783e0f": {
     "model_module": "@jupyter-widgets/controls",
     "model_name": "HTMLModel",
     "state": {
      "_dom_classes": [],
      "_model_module": "@jupyter-widgets/controls",
      "_model_module_version": "1.5.0",
      "_model_name": "HTMLModel",
      "_view_count": null,
      "_view_module": "@jupyter-widgets/controls",
      "_view_module_version": "1.5.0",
      "_view_name": "HTMLView",
      "description": "",
      "description_tooltip": null,
      "layout": "IPY_MODEL_c109a56f82ba4fe4974a34339731b3ca",
      "placeholder": "​",
      "style": "IPY_MODEL_c1ae59c5830f467f900d789bd6e8a9fa",
      "value": " 28.0/28.0 [00:00&lt;00:00, 121B/s]"
     }
    },
    "772e83d6f7134334bd47632349427eec": {
     "model_module": "@jupyter-widgets/controls",
     "model_name": "ProgressStyleModel",
     "state": {
      "_model_module": "@jupyter-widgets/controls",
      "_model_module_version": "1.5.0",
      "_model_name": "ProgressStyleModel",
      "_view_count": null,
      "_view_module": "@jupyter-widgets/base",
      "_view_module_version": "1.2.0",
      "_view_name": "StyleView",
      "bar_color": null,
      "description_width": "initial"
     }
    },
    "7844f4ad4e1047b8b8f26f7477bc5b0c": {
     "model_module": "@jupyter-widgets/base",
     "model_name": "LayoutModel",
     "state": {
      "_model_module": "@jupyter-widgets/base",
      "_model_module_version": "1.2.0",
      "_model_name": "LayoutModel",
      "_view_count": null,
      "_view_module": "@jupyter-widgets/base",
      "_view_module_version": "1.2.0",
      "_view_name": "LayoutView",
      "align_content": null,
      "align_items": null,
      "align_self": null,
      "border": null,
      "bottom": null,
      "display": null,
      "flex": null,
      "flex_flow": null,
      "grid_area": null,
      "grid_auto_columns": null,
      "grid_auto_flow": null,
      "grid_auto_rows": null,
      "grid_column": null,
      "grid_gap": null,
      "grid_row": null,
      "grid_template_areas": null,
      "grid_template_columns": null,
      "grid_template_rows": null,
      "height": null,
      "justify_content": null,
      "justify_items": null,
      "left": null,
      "margin": null,
      "max_height": null,
      "max_width": null,
      "min_height": null,
      "min_width": null,
      "object_fit": null,
      "object_position": null,
      "order": null,
      "overflow": null,
      "overflow_x": null,
      "overflow_y": null,
      "padding": null,
      "right": null,
      "top": null,
      "visibility": null,
      "width": null
     }
    },
    "7a4949db0224495caee82d05708d99ef": {
     "model_module": "@jupyter-widgets/controls",
     "model_name": "DescriptionStyleModel",
     "state": {
      "_model_module": "@jupyter-widgets/controls",
      "_model_module_version": "1.5.0",
      "_model_name": "DescriptionStyleModel",
      "_view_count": null,
      "_view_module": "@jupyter-widgets/base",
      "_view_module_version": "1.2.0",
      "_view_name": "StyleView",
      "description_width": ""
     }
    },
    "80421cb485004914b805b283811dd51b": {
     "model_module": "@jupyter-widgets/controls",
     "model_name": "ProgressStyleModel",
     "state": {
      "_model_module": "@jupyter-widgets/controls",
      "_model_module_version": "1.5.0",
      "_model_name": "ProgressStyleModel",
      "_view_count": null,
      "_view_module": "@jupyter-widgets/base",
      "_view_module_version": "1.2.0",
      "_view_name": "StyleView",
      "bar_color": null,
      "description_width": "initial"
     }
    },
    "831473fa6b7c4b5e9ed740f0ec2fb0b9": {
     "model_module": "@jupyter-widgets/base",
     "model_name": "LayoutModel",
     "state": {
      "_model_module": "@jupyter-widgets/base",
      "_model_module_version": "1.2.0",
      "_model_name": "LayoutModel",
      "_view_count": null,
      "_view_module": "@jupyter-widgets/base",
      "_view_module_version": "1.2.0",
      "_view_name": "LayoutView",
      "align_content": null,
      "align_items": null,
      "align_self": null,
      "border": null,
      "bottom": null,
      "display": null,
      "flex": null,
      "flex_flow": null,
      "grid_area": null,
      "grid_auto_columns": null,
      "grid_auto_flow": null,
      "grid_auto_rows": null,
      "grid_column": null,
      "grid_gap": null,
      "grid_row": null,
      "grid_template_areas": null,
      "grid_template_columns": null,
      "grid_template_rows": null,
      "height": null,
      "justify_content": null,
      "justify_items": null,
      "left": null,
      "margin": null,
      "max_height": null,
      "max_width": null,
      "min_height": null,
      "min_width": null,
      "object_fit": null,
      "object_position": null,
      "order": null,
      "overflow": null,
      "overflow_x": null,
      "overflow_y": null,
      "padding": null,
      "right": null,
      "top": null,
      "visibility": null,
      "width": null
     }
    },
    "8383f5c1db8a4631bf1645c092a29357": {
     "model_module": "@jupyter-widgets/controls",
     "model_name": "DescriptionStyleModel",
     "state": {
      "_model_module": "@jupyter-widgets/controls",
      "_model_module_version": "1.5.0",
      "_model_name": "DescriptionStyleModel",
      "_view_count": null,
      "_view_module": "@jupyter-widgets/base",
      "_view_module_version": "1.2.0",
      "_view_name": "StyleView",
      "description_width": ""
     }
    },
    "84daa860bb72412bb0f699aa37a219a4": {
     "model_module": "@jupyter-widgets/controls",
     "model_name": "HTMLModel",
     "state": {
      "_dom_classes": [],
      "_model_module": "@jupyter-widgets/controls",
      "_model_module_version": "1.5.0",
      "_model_name": "HTMLModel",
      "_view_count": null,
      "_view_module": "@jupyter-widgets/controls",
      "_view_module_version": "1.5.0",
      "_view_name": "HTMLView",
      "description": "",
      "description_tooltip": null,
      "layout": "IPY_MODEL_fc0d79987a354f999681d0f7e2d5beb0",
      "placeholder": "​",
      "style": "IPY_MODEL_508f19aa9ae24a098255b7365ca403aa",
      "value": " 466k/466k [00:10&lt;00:00, 43.8kB/s]"
     }
    },
    "86a404fea09b49648924c4053ee59835": {
     "model_module": "@jupyter-widgets/base",
     "model_name": "LayoutModel",
     "state": {
      "_model_module": "@jupyter-widgets/base",
      "_model_module_version": "1.2.0",
      "_model_name": "LayoutModel",
      "_view_count": null,
      "_view_module": "@jupyter-widgets/base",
      "_view_module_version": "1.2.0",
      "_view_name": "LayoutView",
      "align_content": null,
      "align_items": null,
      "align_self": null,
      "border": null,
      "bottom": null,
      "display": null,
      "flex": null,
      "flex_flow": null,
      "grid_area": null,
      "grid_auto_columns": null,
      "grid_auto_flow": null,
      "grid_auto_rows": null,
      "grid_column": null,
      "grid_gap": null,
      "grid_row": null,
      "grid_template_areas": null,
      "grid_template_columns": null,
      "grid_template_rows": null,
      "height": null,
      "justify_content": null,
      "justify_items": null,
      "left": null,
      "margin": null,
      "max_height": null,
      "max_width": null,
      "min_height": null,
      "min_width": null,
      "object_fit": null,
      "object_position": null,
      "order": null,
      "overflow": null,
      "overflow_x": null,
      "overflow_y": null,
      "padding": null,
      "right": null,
      "top": null,
      "visibility": null,
      "width": null
     }
    },
    "86ad2e03e6cb484ca6279cd1a58919b7": {
     "model_module": "@jupyter-widgets/base",
     "model_name": "LayoutModel",
     "state": {
      "_model_module": "@jupyter-widgets/base",
      "_model_module_version": "1.2.0",
      "_model_name": "LayoutModel",
      "_view_count": null,
      "_view_module": "@jupyter-widgets/base",
      "_view_module_version": "1.2.0",
      "_view_name": "LayoutView",
      "align_content": null,
      "align_items": null,
      "align_self": null,
      "border": null,
      "bottom": null,
      "display": null,
      "flex": null,
      "flex_flow": null,
      "grid_area": null,
      "grid_auto_columns": null,
      "grid_auto_flow": null,
      "grid_auto_rows": null,
      "grid_column": null,
      "grid_gap": null,
      "grid_row": null,
      "grid_template_areas": null,
      "grid_template_columns": null,
      "grid_template_rows": null,
      "height": null,
      "justify_content": null,
      "justify_items": null,
      "left": null,
      "margin": null,
      "max_height": null,
      "max_width": null,
      "min_height": null,
      "min_width": null,
      "object_fit": null,
      "object_position": null,
      "order": null,
      "overflow": null,
      "overflow_x": null,
      "overflow_y": null,
      "padding": null,
      "right": null,
      "top": null,
      "visibility": null,
      "width": null
     }
    },
    "882375936e694fe79d21e41421ab324b": {
     "model_module": "@jupyter-widgets/controls",
     "model_name": "DescriptionStyleModel",
     "state": {
      "_model_module": "@jupyter-widgets/controls",
      "_model_module_version": "1.5.0",
      "_model_name": "DescriptionStyleModel",
      "_view_count": null,
      "_view_module": "@jupyter-widgets/base",
      "_view_module_version": "1.2.0",
      "_view_name": "StyleView",
      "description_width": ""
     }
    },
    "885085821e2847beac0196d07a84040d": {
     "model_module": "@jupyter-widgets/base",
     "model_name": "LayoutModel",
     "state": {
      "_model_module": "@jupyter-widgets/base",
      "_model_module_version": "1.2.0",
      "_model_name": "LayoutModel",
      "_view_count": null,
      "_view_module": "@jupyter-widgets/base",
      "_view_module_version": "1.2.0",
      "_view_name": "LayoutView",
      "align_content": null,
      "align_items": null,
      "align_self": null,
      "border": null,
      "bottom": null,
      "display": null,
      "flex": null,
      "flex_flow": null,
      "grid_area": null,
      "grid_auto_columns": null,
      "grid_auto_flow": null,
      "grid_auto_rows": null,
      "grid_column": null,
      "grid_gap": null,
      "grid_row": null,
      "grid_template_areas": null,
      "grid_template_columns": null,
      "grid_template_rows": null,
      "height": null,
      "justify_content": null,
      "justify_items": null,
      "left": null,
      "margin": null,
      "max_height": null,
      "max_width": null,
      "min_height": null,
      "min_width": null,
      "object_fit": null,
      "object_position": null,
      "order": null,
      "overflow": null,
      "overflow_x": null,
      "overflow_y": null,
      "padding": null,
      "right": null,
      "top": null,
      "visibility": null,
      "width": null
     }
    },
    "88d5b802cbe44be796e515e6e818c1dd": {
     "model_module": "@jupyter-widgets/controls",
     "model_name": "ProgressStyleModel",
     "state": {
      "_model_module": "@jupyter-widgets/controls",
      "_model_module_version": "1.5.0",
      "_model_name": "ProgressStyleModel",
      "_view_count": null,
      "_view_module": "@jupyter-widgets/base",
      "_view_module_version": "1.2.0",
      "_view_name": "StyleView",
      "bar_color": null,
      "description_width": "initial"
     }
    },
    "890bad4efe014eaf85c51278797b6400": {
     "model_module": "@jupyter-widgets/controls",
     "model_name": "FloatProgressModel",
     "state": {
      "_dom_classes": [],
      "_model_module": "@jupyter-widgets/controls",
      "_model_module_version": "1.5.0",
      "_model_name": "FloatProgressModel",
      "_view_count": null,
      "_view_module": "@jupyter-widgets/controls",
      "_view_module_version": "1.5.0",
      "_view_name": "ProgressView",
      "bar_style": "success",
      "description": "Downloading: 100%",
      "description_tooltip": null,
      "layout": "IPY_MODEL_a918a63ec1de46a7be3798287f2d229b",
      "max": 442221694,
      "min": 0,
      "orientation": "horizontal",
      "style": "IPY_MODEL_258fd822d21647609d618af8ac5527c6",
      "value": 442221694
     }
    },
    "8ade57ac3145437d9f71631bffc42f2f": {
     "model_module": "@jupyter-widgets/controls",
     "model_name": "DescriptionStyleModel",
     "state": {
      "_model_module": "@jupyter-widgets/controls",
      "_model_module_version": "1.5.0",
      "_model_name": "DescriptionStyleModel",
      "_view_count": null,
      "_view_module": "@jupyter-widgets/base",
      "_view_module_version": "1.2.0",
      "_view_name": "StyleView",
      "description_width": ""
     }
    },
    "8bfeb3a10c4f4c20a6896d14e869d4e9": {
     "model_module": "@jupyter-widgets/base",
     "model_name": "LayoutModel",
     "state": {
      "_model_module": "@jupyter-widgets/base",
      "_model_module_version": "1.2.0",
      "_model_name": "LayoutModel",
      "_view_count": null,
      "_view_module": "@jupyter-widgets/base",
      "_view_module_version": "1.2.0",
      "_view_name": "LayoutView",
      "align_content": null,
      "align_items": null,
      "align_self": null,
      "border": null,
      "bottom": null,
      "display": null,
      "flex": null,
      "flex_flow": null,
      "grid_area": null,
      "grid_auto_columns": null,
      "grid_auto_flow": null,
      "grid_auto_rows": null,
      "grid_column": null,
      "grid_gap": null,
      "grid_row": null,
      "grid_template_areas": null,
      "grid_template_columns": null,
      "grid_template_rows": null,
      "height": null,
      "justify_content": null,
      "justify_items": null,
      "left": null,
      "margin": null,
      "max_height": null,
      "max_width": null,
      "min_height": null,
      "min_width": null,
      "object_fit": null,
      "object_position": null,
      "order": null,
      "overflow": null,
      "overflow_x": null,
      "overflow_y": null,
      "padding": null,
      "right": null,
      "top": null,
      "visibility": null,
      "width": null
     }
    },
    "8c01f27f6b514af38ade57b1d7a0823e": {
     "model_module": "@jupyter-widgets/base",
     "model_name": "LayoutModel",
     "state": {
      "_model_module": "@jupyter-widgets/base",
      "_model_module_version": "1.2.0",
      "_model_name": "LayoutModel",
      "_view_count": null,
      "_view_module": "@jupyter-widgets/base",
      "_view_module_version": "1.2.0",
      "_view_name": "LayoutView",
      "align_content": null,
      "align_items": null,
      "align_self": null,
      "border": null,
      "bottom": null,
      "display": null,
      "flex": null,
      "flex_flow": null,
      "grid_area": null,
      "grid_auto_columns": null,
      "grid_auto_flow": null,
      "grid_auto_rows": null,
      "grid_column": null,
      "grid_gap": null,
      "grid_row": null,
      "grid_template_areas": null,
      "grid_template_columns": null,
      "grid_template_rows": null,
      "height": null,
      "justify_content": null,
      "justify_items": null,
      "left": null,
      "margin": null,
      "max_height": null,
      "max_width": null,
      "min_height": null,
      "min_width": null,
      "object_fit": null,
      "object_position": null,
      "order": null,
      "overflow": null,
      "overflow_x": null,
      "overflow_y": null,
      "padding": null,
      "right": null,
      "top": null,
      "visibility": null,
      "width": null
     }
    },
    "8dcf8948835c436b8e628cf88dd9b5ec": {
     "model_module": "@jupyter-widgets/base",
     "model_name": "LayoutModel",
     "state": {
      "_model_module": "@jupyter-widgets/base",
      "_model_module_version": "1.2.0",
      "_model_name": "LayoutModel",
      "_view_count": null,
      "_view_module": "@jupyter-widgets/base",
      "_view_module_version": "1.2.0",
      "_view_name": "LayoutView",
      "align_content": null,
      "align_items": null,
      "align_self": null,
      "border": null,
      "bottom": null,
      "display": null,
      "flex": null,
      "flex_flow": null,
      "grid_area": null,
      "grid_auto_columns": null,
      "grid_auto_flow": null,
      "grid_auto_rows": null,
      "grid_column": null,
      "grid_gap": null,
      "grid_row": null,
      "grid_template_areas": null,
      "grid_template_columns": null,
      "grid_template_rows": null,
      "height": null,
      "justify_content": null,
      "justify_items": null,
      "left": null,
      "margin": null,
      "max_height": null,
      "max_width": null,
      "min_height": null,
      "min_width": null,
      "object_fit": null,
      "object_position": null,
      "order": null,
      "overflow": null,
      "overflow_x": null,
      "overflow_y": null,
      "padding": null,
      "right": null,
      "top": null,
      "visibility": null,
      "width": null
     }
    },
    "8e4c88c687bd42819bc1601da69d3a4a": {
     "model_module": "@jupyter-widgets/base",
     "model_name": "LayoutModel",
     "state": {
      "_model_module": "@jupyter-widgets/base",
      "_model_module_version": "1.2.0",
      "_model_name": "LayoutModel",
      "_view_count": null,
      "_view_module": "@jupyter-widgets/base",
      "_view_module_version": "1.2.0",
      "_view_name": "LayoutView",
      "align_content": null,
      "align_items": null,
      "align_self": null,
      "border": null,
      "bottom": null,
      "display": null,
      "flex": null,
      "flex_flow": null,
      "grid_area": null,
      "grid_auto_columns": null,
      "grid_auto_flow": null,
      "grid_auto_rows": null,
      "grid_column": null,
      "grid_gap": null,
      "grid_row": null,
      "grid_template_areas": null,
      "grid_template_columns": null,
      "grid_template_rows": null,
      "height": null,
      "justify_content": null,
      "justify_items": null,
      "left": null,
      "margin": null,
      "max_height": null,
      "max_width": null,
      "min_height": null,
      "min_width": null,
      "object_fit": null,
      "object_position": null,
      "order": null,
      "overflow": null,
      "overflow_x": null,
      "overflow_y": null,
      "padding": null,
      "right": null,
      "top": null,
      "visibility": null,
      "width": null
     }
    },
    "90f731523a1f4b46853a327b25e4c1f8": {
     "model_module": "@jupyter-widgets/controls",
     "model_name": "FloatProgressModel",
     "state": {
      "_dom_classes": [],
      "_model_module": "@jupyter-widgets/controls",
      "_model_module_version": "1.5.0",
      "_model_name": "FloatProgressModel",
      "_view_count": null,
      "_view_module": "@jupyter-widgets/controls",
      "_view_module_version": "1.5.0",
      "_view_name": "ProgressView",
      "bar_style": "success",
      "description": "Downloading: 100%",
      "description_tooltip": null,
      "layout": "IPY_MODEL_e318670c405141228801d184583aaa44",
      "max": 213450,
      "min": 0,
      "orientation": "horizontal",
      "style": "IPY_MODEL_88d5b802cbe44be796e515e6e818c1dd",
      "value": 213450
     }
    },
    "929186e3ca7746b1978dd8bad2e8717b": {
     "model_module": "@jupyter-widgets/controls",
     "model_name": "DescriptionStyleModel",
     "state": {
      "_model_module": "@jupyter-widgets/controls",
      "_model_module_version": "1.5.0",
      "_model_name": "DescriptionStyleModel",
      "_view_count": null,
      "_view_module": "@jupyter-widgets/base",
      "_view_module_version": "1.2.0",
      "_view_name": "StyleView",
      "description_width": ""
     }
    },
    "92ac0c791080406bb58938595624920a": {
     "model_module": "@jupyter-widgets/controls",
     "model_name": "DescriptionStyleModel",
     "state": {
      "_model_module": "@jupyter-widgets/controls",
      "_model_module_version": "1.5.0",
      "_model_name": "DescriptionStyleModel",
      "_view_count": null,
      "_view_module": "@jupyter-widgets/base",
      "_view_module_version": "1.2.0",
      "_view_name": "StyleView",
      "description_width": ""
     }
    },
    "92b16c9308904bfca412b63fdedfd0f8": {
     "model_module": "@jupyter-widgets/controls",
     "model_name": "FloatProgressModel",
     "state": {
      "_dom_classes": [],
      "_model_module": "@jupyter-widgets/controls",
      "_model_module_version": "1.5.0",
      "_model_name": "FloatProgressModel",
      "_view_count": null,
      "_view_module": "@jupyter-widgets/controls",
      "_view_module_version": "1.5.0",
      "_view_name": "ProgressView",
      "bar_style": "success",
      "description": "Downloading: 100%",
      "description_tooltip": null,
      "layout": "IPY_MODEL_9835132c2475431c998e5dc732dd7a33",
      "max": 411,
      "min": 0,
      "orientation": "horizontal",
      "style": "IPY_MODEL_772e83d6f7134334bd47632349427eec",
      "value": 411
     }
    },
    "96ee6923a44f40958b78b23adb5a1ac9": {
     "model_module": "@jupyter-widgets/controls",
     "model_name": "ProgressStyleModel",
     "state": {
      "_model_module": "@jupyter-widgets/controls",
      "_model_module_version": "1.5.0",
      "_model_name": "ProgressStyleModel",
      "_view_count": null,
      "_view_module": "@jupyter-widgets/base",
      "_view_module_version": "1.2.0",
      "_view_name": "StyleView",
      "bar_color": null,
      "description_width": "initial"
     }
    },
    "9835132c2475431c998e5dc732dd7a33": {
     "model_module": "@jupyter-widgets/base",
     "model_name": "LayoutModel",
     "state": {
      "_model_module": "@jupyter-widgets/base",
      "_model_module_version": "1.2.0",
      "_model_name": "LayoutModel",
      "_view_count": null,
      "_view_module": "@jupyter-widgets/base",
      "_view_module_version": "1.2.0",
      "_view_name": "LayoutView",
      "align_content": null,
      "align_items": null,
      "align_self": null,
      "border": null,
      "bottom": null,
      "display": null,
      "flex": null,
      "flex_flow": null,
      "grid_area": null,
      "grid_auto_columns": null,
      "grid_auto_flow": null,
      "grid_auto_rows": null,
      "grid_column": null,
      "grid_gap": null,
      "grid_row": null,
      "grid_template_areas": null,
      "grid_template_columns": null,
      "grid_template_rows": null,
      "height": null,
      "justify_content": null,
      "justify_items": null,
      "left": null,
      "margin": null,
      "max_height": null,
      "max_width": null,
      "min_height": null,
      "min_width": null,
      "object_fit": null,
      "object_position": null,
      "order": null,
      "overflow": null,
      "overflow_x": null,
      "overflow_y": null,
      "padding": null,
      "right": null,
      "top": null,
      "visibility": null,
      "width": null
     }
    },
    "9893e8370f0e44a58396d925fc936c74": {
     "model_module": "@jupyter-widgets/controls",
     "model_name": "ProgressStyleModel",
     "state": {
      "_model_module": "@jupyter-widgets/controls",
      "_model_module_version": "1.5.0",
      "_model_name": "ProgressStyleModel",
      "_view_count": null,
      "_view_module": "@jupyter-widgets/base",
      "_view_module_version": "1.2.0",
      "_view_name": "StyleView",
      "bar_color": null,
      "description_width": "initial"
     }
    },
    "994845cf15b34458ab61691a3be3b4a7": {
     "model_module": "@jupyter-widgets/controls",
     "model_name": "HBoxModel",
     "state": {
      "_dom_classes": [],
      "_model_module": "@jupyter-widgets/controls",
      "_model_module_version": "1.5.0",
      "_model_name": "HBoxModel",
      "_view_count": null,
      "_view_module": "@jupyter-widgets/controls",
      "_view_module_version": "1.5.0",
      "_view_name": "HBoxView",
      "box_style": "",
      "children": [
       "IPY_MODEL_bed11c3bbf784240a5228eb1acbb17b2",
       "IPY_MODEL_46c3a174bffb496dae5f6d8e5414a8a6"
      ],
      "layout": "IPY_MODEL_4c795ef82fcd42b6be1bd282bd38d4b7"
     }
    },
    "9bfd29847e9a4e53a5abbbb5e6d7264c": {
     "model_module": "@jupyter-widgets/controls",
     "model_name": "FloatProgressModel",
     "state": {
      "_dom_classes": [],
      "_model_module": "@jupyter-widgets/controls",
      "_model_module_version": "1.5.0",
      "_model_name": "FloatProgressModel",
      "_view_count": null,
      "_view_module": "@jupyter-widgets/controls",
      "_view_module_version": "1.5.0",
      "_view_name": "ProgressView",
      "bar_style": "success",
      "description": "Downloading: 100%",
      "description_tooltip": null,
      "layout": "IPY_MODEL_885085821e2847beac0196d07a84040d",
      "max": 898823,
      "min": 0,
      "orientation": "horizontal",
      "style": "IPY_MODEL_23a38b4bf4a64139ad9ea3770ffcaad0",
      "value": 898823
     }
    },
    "9ff640a8eca1494882a9da4f81c6cd33": {
     "model_module": "@jupyter-widgets/controls",
     "model_name": "HTMLModel",
     "state": {
      "_dom_classes": [],
      "_model_module": "@jupyter-widgets/controls",
      "_model_module_version": "1.5.0",
      "_model_name": "HTMLModel",
      "_view_count": null,
      "_view_module": "@jupyter-widgets/controls",
      "_view_module_version": "1.5.0",
      "_view_name": "HTMLView",
      "description": "",
      "description_tooltip": null,
      "layout": "IPY_MODEL_ad9948dd50cb41528da88cf775e7f277",
      "placeholder": "​",
      "style": "IPY_MODEL_e7073ff31ce14397ab0db32b36b494aa",
      "value": " 657M/657M [00:12&lt;00:00, 53.1MB/s]"
     }
    },
    "a197c6159c13420d9d6cbff4b228b9fb": {
     "model_module": "@jupyter-widgets/controls",
     "model_name": "HBoxModel",
     "state": {
      "_dom_classes": [],
      "_model_module": "@jupyter-widgets/controls",
      "_model_module_version": "1.5.0",
      "_model_name": "HBoxModel",
      "_view_count": null,
      "_view_module": "@jupyter-widgets/controls",
      "_view_module_version": "1.5.0",
      "_view_name": "HBoxView",
      "box_style": "",
      "children": [
       "IPY_MODEL_a2ee72642179419f8eb6eb5cd61c2f02",
       "IPY_MODEL_ae354061d9dc457f975425098efa3143"
      ],
      "layout": "IPY_MODEL_30992030aa334dd79ee99df95703cde5"
     }
    },
    "a1eae09b7f364018bdc85f8681c42015": {
     "model_module": "@jupyter-widgets/controls",
     "model_name": "ProgressStyleModel",
     "state": {
      "_model_module": "@jupyter-widgets/controls",
      "_model_module_version": "1.5.0",
      "_model_name": "ProgressStyleModel",
      "_view_count": null,
      "_view_module": "@jupyter-widgets/base",
      "_view_module_version": "1.2.0",
      "_view_name": "StyleView",
      "bar_color": null,
      "description_width": "initial"
     }
    },
    "a2931781a9ab4dd8bde3d1dd9da3ac58": {
     "model_module": "@jupyter-widgets/controls",
     "model_name": "HTMLModel",
     "state": {
      "_dom_classes": [],
      "_model_module": "@jupyter-widgets/controls",
      "_model_module_version": "1.5.0",
      "_model_name": "HTMLModel",
      "_view_count": null,
      "_view_module": "@jupyter-widgets/controls",
      "_view_module_version": "1.5.0",
      "_view_name": "HTMLView",
      "description": "",
      "description_tooltip": null,
      "layout": "IPY_MODEL_5e516dd8283b44e485476b7e244039e7",
      "placeholder": "​",
      "style": "IPY_MODEL_882375936e694fe79d21e41421ab324b",
      "value": " 536M/536M [00:10&lt;00:00, 52.5MB/s]"
     }
    },
    "a2ee72642179419f8eb6eb5cd61c2f02": {
     "model_module": "@jupyter-widgets/controls",
     "model_name": "FloatProgressModel",
     "state": {
      "_dom_classes": [],
      "_model_module": "@jupyter-widgets/controls",
      "_model_module_version": "1.5.0",
      "_model_name": "FloatProgressModel",
      "_view_count": null,
      "_view_module": "@jupyter-widgets/controls",
      "_view_module_version": "1.5.0",
      "_view_name": "ProgressView",
      "bar_style": "success",
      "description": "Downloading: 100%",
      "description_tooltip": null,
      "layout": "IPY_MODEL_3b9baac3956a4db4a07b61356e8f0299",
      "max": 29,
      "min": 0,
      "orientation": "horizontal",
      "style": "IPY_MODEL_609c109090174f63bfb4e26a03ab78d5",
      "value": 29
     }
    },
    "a421a71425e54f8187d4250f10aede80": {
     "model_module": "@jupyter-widgets/controls",
     "model_name": "HBoxModel",
     "state": {
      "_dom_classes": [],
      "_model_module": "@jupyter-widgets/controls",
      "_model_module_version": "1.5.0",
      "_model_name": "HBoxModel",
      "_view_count": null,
      "_view_module": "@jupyter-widgets/controls",
      "_view_module_version": "1.5.0",
      "_view_name": "HBoxView",
      "box_style": "",
      "children": [
       "IPY_MODEL_92b16c9308904bfca412b63fdedfd0f8",
       "IPY_MODEL_4254aaebc088446b92d232c286296522"
      ],
      "layout": "IPY_MODEL_b60ebc711de84bd98a563f27ec8cddbe"
     }
    },
    "a46d1bd33b864c378b5778c8b7b63faa": {
     "model_module": "@jupyter-widgets/base",
     "model_name": "LayoutModel",
     "state": {
      "_model_module": "@jupyter-widgets/base",
      "_model_module_version": "1.2.0",
      "_model_name": "LayoutModel",
      "_view_count": null,
      "_view_module": "@jupyter-widgets/base",
      "_view_module_version": "1.2.0",
      "_view_name": "LayoutView",
      "align_content": null,
      "align_items": null,
      "align_self": null,
      "border": null,
      "bottom": null,
      "display": null,
      "flex": null,
      "flex_flow": null,
      "grid_area": null,
      "grid_auto_columns": null,
      "grid_auto_flow": null,
      "grid_auto_rows": null,
      "grid_column": null,
      "grid_gap": null,
      "grid_row": null,
      "grid_template_areas": null,
      "grid_template_columns": null,
      "grid_template_rows": null,
      "height": null,
      "justify_content": null,
      "justify_items": null,
      "left": null,
      "margin": null,
      "max_height": null,
      "max_width": null,
      "min_height": null,
      "min_width": null,
      "object_fit": null,
      "object_position": null,
      "order": null,
      "overflow": null,
      "overflow_x": null,
      "overflow_y": null,
      "padding": null,
      "right": null,
      "top": null,
      "visibility": null,
      "width": null
     }
    },
    "a4701554c9f84de98b24e6dfee779e5c": {
     "model_module": "@jupyter-widgets/controls",
     "model_name": "HTMLModel",
     "state": {
      "_dom_classes": [],
      "_model_module": "@jupyter-widgets/controls",
      "_model_module_version": "1.5.0",
      "_model_name": "HTMLModel",
      "_view_count": null,
      "_view_module": "@jupyter-widgets/controls",
      "_view_module_version": "1.5.0",
      "_view_name": "HTMLView",
      "description": "",
      "description_tooltip": null,
      "layout": "IPY_MODEL_65bbd7ddb42746e39608cd1714a5c65d",
      "placeholder": "​",
      "style": "IPY_MODEL_7a4949db0224495caee82d05708d99ef",
      "value": " 466k/466k [00:00&lt;00:00, 5.46MB/s]"
     }
    },
    "a51285d169494f1b9b66835c17eda905": {
     "model_module": "@jupyter-widgets/controls",
     "model_name": "DescriptionStyleModel",
     "state": {
      "_model_module": "@jupyter-widgets/controls",
      "_model_module_version": "1.5.0",
      "_model_name": "DescriptionStyleModel",
      "_view_count": null,
      "_view_module": "@jupyter-widgets/base",
      "_view_module_version": "1.2.0",
      "_view_name": "StyleView",
      "description_width": ""
     }
    },
    "a608cdb9de63409bb74bc293c0991d18": {
     "model_module": "@jupyter-widgets/controls",
     "model_name": "FloatProgressModel",
     "state": {
      "_dom_classes": [],
      "_model_module": "@jupyter-widgets/controls",
      "_model_module_version": "1.5.0",
      "_model_name": "FloatProgressModel",
      "_view_count": null,
      "_view_module": "@jupyter-widgets/controls",
      "_view_module_version": "1.5.0",
      "_view_name": "ProgressView",
      "bar_style": "success",
      "description": "Downloading: 100%",
      "description_tooltip": null,
      "layout": "IPY_MODEL_1bab0231fc8b42339bdd399ae65d9acd",
      "max": 570,
      "min": 0,
      "orientation": "horizontal",
      "style": "IPY_MODEL_bd9e4d96d9f5412494255356ae3e27ce",
      "value": 570
     }
    },
    "a918a63ec1de46a7be3798287f2d229b": {
     "model_module": "@jupyter-widgets/base",
     "model_name": "LayoutModel",
     "state": {
      "_model_module": "@jupyter-widgets/base",
      "_model_module_version": "1.2.0",
      "_model_name": "LayoutModel",
      "_view_count": null,
      "_view_module": "@jupyter-widgets/base",
      "_view_module_version": "1.2.0",
      "_view_name": "LayoutView",
      "align_content": null,
      "align_items": null,
      "align_self": null,
      "border": null,
      "bottom": null,
      "display": null,
      "flex": null,
      "flex_flow": null,
      "grid_area": null,
      "grid_auto_columns": null,
      "grid_auto_flow": null,
      "grid_auto_rows": null,
      "grid_column": null,
      "grid_gap": null,
      "grid_row": null,
      "grid_template_areas": null,
      "grid_template_columns": null,
      "grid_template_rows": null,
      "height": null,
      "justify_content": null,
      "justify_items": null,
      "left": null,
      "margin": null,
      "max_height": null,
      "max_width": null,
      "min_height": null,
      "min_width": null,
      "object_fit": null,
      "object_position": null,
      "order": null,
      "overflow": null,
      "overflow_x": null,
      "overflow_y": null,
      "padding": null,
      "right": null,
      "top": null,
      "visibility": null,
      "width": null
     }
    },
    "aac90f3ee450463d843d00be10dd06c3": {
     "model_module": "@jupyter-widgets/controls",
     "model_name": "HBoxModel",
     "state": {
      "_dom_classes": [],
      "_model_module": "@jupyter-widgets/controls",
      "_model_module_version": "1.5.0",
      "_model_name": "HBoxModel",
      "_view_count": null,
      "_view_module": "@jupyter-widgets/controls",
      "_view_module_version": "1.5.0",
      "_view_name": "HBoxView",
      "box_style": "",
      "children": [
       "IPY_MODEL_3279b2a20e0e418094e1da092e89e1a1",
       "IPY_MODEL_761dafe5823b4c609096d7db24783e0f"
      ],
      "layout": "IPY_MODEL_d2a6de95d2764022a8e2c1b78365cb36"
     }
    },
    "ad9948dd50cb41528da88cf775e7f277": {
     "model_module": "@jupyter-widgets/base",
     "model_name": "LayoutModel",
     "state": {
      "_model_module": "@jupyter-widgets/base",
      "_model_module_version": "1.2.0",
      "_model_name": "LayoutModel",
      "_view_count": null,
      "_view_module": "@jupyter-widgets/base",
      "_view_module_version": "1.2.0",
      "_view_name": "LayoutView",
      "align_content": null,
      "align_items": null,
      "align_self": null,
      "border": null,
      "bottom": null,
      "display": null,
      "flex": null,
      "flex_flow": null,
      "grid_area": null,
      "grid_auto_columns": null,
      "grid_auto_flow": null,
      "grid_auto_rows": null,
      "grid_column": null,
      "grid_gap": null,
      "grid_row": null,
      "grid_template_areas": null,
      "grid_template_columns": null,
      "grid_template_rows": null,
      "height": null,
      "justify_content": null,
      "justify_items": null,
      "left": null,
      "margin": null,
      "max_height": null,
      "max_width": null,
      "min_height": null,
      "min_width": null,
      "object_fit": null,
      "object_position": null,
      "order": null,
      "overflow": null,
      "overflow_x": null,
      "overflow_y": null,
      "padding": null,
      "right": null,
      "top": null,
      "visibility": null,
      "width": null
     }
    },
    "ae354061d9dc457f975425098efa3143": {
     "model_module": "@jupyter-widgets/controls",
     "model_name": "HTMLModel",
     "state": {
      "_dom_classes": [],
      "_model_module": "@jupyter-widgets/controls",
      "_model_module_version": "1.5.0",
      "_model_name": "HTMLModel",
      "_view_count": null,
      "_view_module": "@jupyter-widgets/controls",
      "_view_module_version": "1.5.0",
      "_view_name": "HTMLView",
      "description": "",
      "description_tooltip": null,
      "layout": "IPY_MODEL_8bfeb3a10c4f4c20a6896d14e869d4e9",
      "placeholder": "​",
      "style": "IPY_MODEL_14b862288d3c4f50be6d20935f5fcf2c",
      "value": " 29.0/29.0 [01:31&lt;00:00, 3.16s/B]"
     }
    },
    "b208f6a309bb4b2bbdb385865b5c28fe": {
     "model_module": "@jupyter-widgets/base",
     "model_name": "LayoutModel",
     "state": {
      "_model_module": "@jupyter-widgets/base",
      "_model_module_version": "1.2.0",
      "_model_name": "LayoutModel",
      "_view_count": null,
      "_view_module": "@jupyter-widgets/base",
      "_view_module_version": "1.2.0",
      "_view_name": "LayoutView",
      "align_content": null,
      "align_items": null,
      "align_self": null,
      "border": null,
      "bottom": null,
      "display": null,
      "flex": null,
      "flex_flow": null,
      "grid_area": null,
      "grid_auto_columns": null,
      "grid_auto_flow": null,
      "grid_auto_rows": null,
      "grid_column": null,
      "grid_gap": null,
      "grid_row": null,
      "grid_template_areas": null,
      "grid_template_columns": null,
      "grid_template_rows": null,
      "height": null,
      "justify_content": null,
      "justify_items": null,
      "left": null,
      "margin": null,
      "max_height": null,
      "max_width": null,
      "min_height": null,
      "min_width": null,
      "object_fit": null,
      "object_position": null,
      "order": null,
      "overflow": null,
      "overflow_x": null,
      "overflow_y": null,
      "padding": null,
      "right": null,
      "top": null,
      "visibility": null,
      "width": null
     }
    },
    "b330face545d40289dd688cd10a1a592": {
     "model_module": "@jupyter-widgets/base",
     "model_name": "LayoutModel",
     "state": {
      "_model_module": "@jupyter-widgets/base",
      "_model_module_version": "1.2.0",
      "_model_name": "LayoutModel",
      "_view_count": null,
      "_view_module": "@jupyter-widgets/base",
      "_view_module_version": "1.2.0",
      "_view_name": "LayoutView",
      "align_content": null,
      "align_items": null,
      "align_self": null,
      "border": null,
      "bottom": null,
      "display": null,
      "flex": null,
      "flex_flow": null,
      "grid_area": null,
      "grid_auto_columns": null,
      "grid_auto_flow": null,
      "grid_auto_rows": null,
      "grid_column": null,
      "grid_gap": null,
      "grid_row": null,
      "grid_template_areas": null,
      "grid_template_columns": null,
      "grid_template_rows": null,
      "height": null,
      "justify_content": null,
      "justify_items": null,
      "left": null,
      "margin": null,
      "max_height": null,
      "max_width": null,
      "min_height": null,
      "min_width": null,
      "object_fit": null,
      "object_position": null,
      "order": null,
      "overflow": null,
      "overflow_x": null,
      "overflow_y": null,
      "padding": null,
      "right": null,
      "top": null,
      "visibility": null,
      "width": null
     }
    },
    "b4955e76c0354d9d9d29b6f7e49c2b71": {
     "model_module": "@jupyter-widgets/controls",
     "model_name": "FloatProgressModel",
     "state": {
      "_dom_classes": [],
      "_model_module": "@jupyter-widgets/controls",
      "_model_module_version": "1.5.0",
      "_model_name": "FloatProgressModel",
      "_view_count": null,
      "_view_module": "@jupyter-widgets/controls",
      "_view_module_version": "1.5.0",
      "_view_name": "ProgressView",
      "bar_style": "success",
      "description": "Downloading: 100%",
      "description_tooltip": null,
      "layout": "IPY_MODEL_c9f7b9bb7a43480db04a66f56709ec0b",
      "max": 456318,
      "min": 0,
      "orientation": "horizontal",
      "style": "IPY_MODEL_6898229ff0d241d7adf2e0fa87651b31",
      "value": 456318
     }
    },
    "b60ebc711de84bd98a563f27ec8cddbe": {
     "model_module": "@jupyter-widgets/base",
     "model_name": "LayoutModel",
     "state": {
      "_model_module": "@jupyter-widgets/base",
      "_model_module_version": "1.2.0",
      "_model_name": "LayoutModel",
      "_view_count": null,
      "_view_module": "@jupyter-widgets/base",
      "_view_module_version": "1.2.0",
      "_view_name": "LayoutView",
      "align_content": null,
      "align_items": null,
      "align_self": null,
      "border": null,
      "bottom": null,
      "display": null,
      "flex": null,
      "flex_flow": null,
      "grid_area": null,
      "grid_auto_columns": null,
      "grid_auto_flow": null,
      "grid_auto_rows": null,
      "grid_column": null,
      "grid_gap": null,
      "grid_row": null,
      "grid_template_areas": null,
      "grid_template_columns": null,
      "grid_template_rows": null,
      "height": null,
      "justify_content": null,
      "justify_items": null,
      "left": null,
      "margin": null,
      "max_height": null,
      "max_width": null,
      "min_height": null,
      "min_width": null,
      "object_fit": null,
      "object_position": null,
      "order": null,
      "overflow": null,
      "overflow_x": null,
      "overflow_y": null,
      "padding": null,
      "right": null,
      "top": null,
      "visibility": null,
      "width": null
     }
    },
    "b789422acf17431abec521c44e93cf81": {
     "model_module": "@jupyter-widgets/controls",
     "model_name": "HBoxModel",
     "state": {
      "_dom_classes": [],
      "_model_module": "@jupyter-widgets/controls",
      "_model_module_version": "1.5.0",
      "_model_name": "HBoxModel",
      "_view_count": null,
      "_view_module": "@jupyter-widgets/controls",
      "_view_module_version": "1.5.0",
      "_view_name": "HBoxView",
      "box_style": "",
      "children": [
       "IPY_MODEL_9bfd29847e9a4e53a5abbbb5e6d7264c",
       "IPY_MODEL_e245612358a845f5aa5f9b6b66d63837"
      ],
      "layout": "IPY_MODEL_e781ed48b2094e9697948d62ff67de3e"
     }
    },
    "ba94e2191d5046288938fdd2edf2f24e": {
     "model_module": "@jupyter-widgets/controls",
     "model_name": "HBoxModel",
     "state": {
      "_dom_classes": [],
      "_model_module": "@jupyter-widgets/controls",
      "_model_module_version": "1.5.0",
      "_model_name": "HBoxModel",
      "_view_count": null,
      "_view_module": "@jupyter-widgets/controls",
      "_view_module_version": "1.5.0",
      "_view_name": "HBoxView",
      "box_style": "",
      "children": [
       "IPY_MODEL_890bad4efe014eaf85c51278797b6400",
       "IPY_MODEL_33547b80da494a1a95427efaa1bea26d"
      ],
      "layout": "IPY_MODEL_0f827c767b294216995dfef228b0f547"
     }
    },
    "bce8adb256db430492e0fe4aacc010be": {
     "model_module": "@jupyter-widgets/controls",
     "model_name": "FloatProgressModel",
     "state": {
      "_dom_classes": [],
      "_model_module": "@jupyter-widgets/controls",
      "_model_module_version": "1.5.0",
      "_model_name": "FloatProgressModel",
      "_view_count": null,
      "_view_module": "@jupyter-widgets/controls",
      "_view_module_version": "1.5.0",
      "_view_name": "ProgressView",
      "bar_style": "success",
      "description": "Downloading: 100%",
      "description_tooltip": null,
      "layout": "IPY_MODEL_5e6c50d578b744eeb67e3ca5486750e4",
      "max": 28,
      "min": 0,
      "orientation": "horizontal",
      "style": "IPY_MODEL_f342dd090cea420b83b3fd53a520ad04",
      "value": 28
     }
    },
    "bd9e4d96d9f5412494255356ae3e27ce": {
     "model_module": "@jupyter-widgets/controls",
     "model_name": "ProgressStyleModel",
     "state": {
      "_model_module": "@jupyter-widgets/controls",
      "_model_module_version": "1.5.0",
      "_model_name": "ProgressStyleModel",
      "_view_count": null,
      "_view_module": "@jupyter-widgets/base",
      "_view_module_version": "1.2.0",
      "_view_name": "StyleView",
      "bar_color": null,
      "description_width": "initial"
     }
    },
    "bed11c3bbf784240a5228eb1acbb17b2": {
     "model_module": "@jupyter-widgets/controls",
     "model_name": "FloatProgressModel",
     "state": {
      "_dom_classes": [],
      "_model_module": "@jupyter-widgets/controls",
      "_model_module_version": "1.5.0",
      "_model_name": "FloatProgressModel",
      "_view_count": null,
      "_view_module": "@jupyter-widgets/controls",
      "_view_module_version": "1.5.0",
      "_view_name": "ProgressView",
      "bar_style": "success",
      "description": "Downloading: 100%",
      "description_tooltip": null,
      "layout": "IPY_MODEL_2e246b4cf1b54eb79e29de9a669e7ea5",
      "max": 435797,
      "min": 0,
      "orientation": "horizontal",
      "style": "IPY_MODEL_9893e8370f0e44a58396d925fc936c74",
      "value": 435797
     }
    },
    "c109a56f82ba4fe4974a34339731b3ca": {
     "model_module": "@jupyter-widgets/base",
     "model_name": "LayoutModel",
     "state": {
      "_model_module": "@jupyter-widgets/base",
      "_model_module_version": "1.2.0",
      "_model_name": "LayoutModel",
      "_view_count": null,
      "_view_module": "@jupyter-widgets/base",
      "_view_module_version": "1.2.0",
      "_view_name": "LayoutView",
      "align_content": null,
      "align_items": null,
      "align_self": null,
      "border": null,
      "bottom": null,
      "display": null,
      "flex": null,
      "flex_flow": null,
      "grid_area": null,
      "grid_auto_columns": null,
      "grid_auto_flow": null,
      "grid_auto_rows": null,
      "grid_column": null,
      "grid_gap": null,
      "grid_row": null,
      "grid_template_areas": null,
      "grid_template_columns": null,
      "grid_template_rows": null,
      "height": null,
      "justify_content": null,
      "justify_items": null,
      "left": null,
      "margin": null,
      "max_height": null,
      "max_width": null,
      "min_height": null,
      "min_width": null,
      "object_fit": null,
      "object_position": null,
      "order": null,
      "overflow": null,
      "overflow_x": null,
      "overflow_y": null,
      "padding": null,
      "right": null,
      "top": null,
      "visibility": null,
      "width": null
     }
    },
    "c1ad79990d7f4eeea8625000cf5992f8": {
     "model_module": "@jupyter-widgets/base",
     "model_name": "LayoutModel",
     "state": {
      "_model_module": "@jupyter-widgets/base",
      "_model_module_version": "1.2.0",
      "_model_name": "LayoutModel",
      "_view_count": null,
      "_view_module": "@jupyter-widgets/base",
      "_view_module_version": "1.2.0",
      "_view_name": "LayoutView",
      "align_content": null,
      "align_items": null,
      "align_self": null,
      "border": null,
      "bottom": null,
      "display": null,
      "flex": null,
      "flex_flow": null,
      "grid_area": null,
      "grid_auto_columns": null,
      "grid_auto_flow": null,
      "grid_auto_rows": null,
      "grid_column": null,
      "grid_gap": null,
      "grid_row": null,
      "grid_template_areas": null,
      "grid_template_columns": null,
      "grid_template_rows": null,
      "height": null,
      "justify_content": null,
      "justify_items": null,
      "left": null,
      "margin": null,
      "max_height": null,
      "max_width": null,
      "min_height": null,
      "min_width": null,
      "object_fit": null,
      "object_position": null,
      "order": null,
      "overflow": null,
      "overflow_x": null,
      "overflow_y": null,
      "padding": null,
      "right": null,
      "top": null,
      "visibility": null,
      "width": null
     }
    },
    "c1ae59c5830f467f900d789bd6e8a9fa": {
     "model_module": "@jupyter-widgets/controls",
     "model_name": "DescriptionStyleModel",
     "state": {
      "_model_module": "@jupyter-widgets/controls",
      "_model_module_version": "1.5.0",
      "_model_name": "DescriptionStyleModel",
      "_view_count": null,
      "_view_module": "@jupyter-widgets/base",
      "_view_module_version": "1.2.0",
      "_view_name": "StyleView",
      "description_width": ""
     }
    },
    "c2a6caea4e874f28b278640ee7d97bd1": {
     "model_module": "@jupyter-widgets/controls",
     "model_name": "HBoxModel",
     "state": {
      "_dom_classes": [],
      "_model_module": "@jupyter-widgets/controls",
      "_model_module_version": "1.5.0",
      "_model_name": "HBoxModel",
      "_view_count": null,
      "_view_module": "@jupyter-widgets/controls",
      "_view_module_version": "1.5.0",
      "_view_name": "HBoxView",
      "box_style": "",
      "children": [
       "IPY_MODEL_f38a3f6be03f442a889121a7460bb44b",
       "IPY_MODEL_fa3a483186234a7bb0eef60711eccbe0"
      ],
      "layout": "IPY_MODEL_4f438ad989624a8698e97bef3cfacd48"
     }
    },
    "c33492ae46e94f65a33063fdcfdc8426": {
     "model_module": "@jupyter-widgets/base",
     "model_name": "LayoutModel",
     "state": {
      "_model_module": "@jupyter-widgets/base",
      "_model_module_version": "1.2.0",
      "_model_name": "LayoutModel",
      "_view_count": null,
      "_view_module": "@jupyter-widgets/base",
      "_view_module_version": "1.2.0",
      "_view_name": "LayoutView",
      "align_content": null,
      "align_items": null,
      "align_self": null,
      "border": null,
      "bottom": null,
      "display": null,
      "flex": null,
      "flex_flow": null,
      "grid_area": null,
      "grid_auto_columns": null,
      "grid_auto_flow": null,
      "grid_auto_rows": null,
      "grid_column": null,
      "grid_gap": null,
      "grid_row": null,
      "grid_template_areas": null,
      "grid_template_columns": null,
      "grid_template_rows": null,
      "height": null,
      "justify_content": null,
      "justify_items": null,
      "left": null,
      "margin": null,
      "max_height": null,
      "max_width": null,
      "min_height": null,
      "min_width": null,
      "object_fit": null,
      "object_position": null,
      "order": null,
      "overflow": null,
      "overflow_x": null,
      "overflow_y": null,
      "padding": null,
      "right": null,
      "top": null,
      "visibility": null,
      "width": null
     }
    },
    "c4944a105313430b98918f7bf4ecbab9": {
     "model_module": "@jupyter-widgets/controls",
     "model_name": "DescriptionStyleModel",
     "state": {
      "_model_module": "@jupyter-widgets/controls",
      "_model_module_version": "1.5.0",
      "_model_name": "DescriptionStyleModel",
      "_view_count": null,
      "_view_module": "@jupyter-widgets/base",
      "_view_module_version": "1.2.0",
      "_view_name": "StyleView",
      "description_width": ""
     }
    },
    "c64fd20be9ce447c91c8897b2d8ed43c": {
     "model_module": "@jupyter-widgets/base",
     "model_name": "LayoutModel",
     "state": {
      "_model_module": "@jupyter-widgets/base",
      "_model_module_version": "1.2.0",
      "_model_name": "LayoutModel",
      "_view_count": null,
      "_view_module": "@jupyter-widgets/base",
      "_view_module_version": "1.2.0",
      "_view_name": "LayoutView",
      "align_content": null,
      "align_items": null,
      "align_self": null,
      "border": null,
      "bottom": null,
      "display": null,
      "flex": null,
      "flex_flow": null,
      "grid_area": null,
      "grid_auto_columns": null,
      "grid_auto_flow": null,
      "grid_auto_rows": null,
      "grid_column": null,
      "grid_gap": null,
      "grid_row": null,
      "grid_template_areas": null,
      "grid_template_columns": null,
      "grid_template_rows": null,
      "height": null,
      "justify_content": null,
      "justify_items": null,
      "left": null,
      "margin": null,
      "max_height": null,
      "max_width": null,
      "min_height": null,
      "min_width": null,
      "object_fit": null,
      "object_position": null,
      "order": null,
      "overflow": null,
      "overflow_x": null,
      "overflow_y": null,
      "padding": null,
      "right": null,
      "top": null,
      "visibility": null,
      "width": null
     }
    },
    "c86e810c9fed4e8fa64c1ae3372a0885": {
     "model_module": "@jupyter-widgets/controls",
     "model_name": "FloatProgressModel",
     "state": {
      "_dom_classes": [],
      "_model_module": "@jupyter-widgets/controls",
      "_model_module_version": "1.5.0",
      "_model_name": "FloatProgressModel",
      "_view_count": null,
      "_view_module": "@jupyter-widgets/controls",
      "_view_module_version": "1.5.0",
      "_view_name": "ProgressView",
      "bar_style": "success",
      "description": "Downloading: 100%",
      "description_tooltip": null,
      "layout": "IPY_MODEL_567519648eba409093207bc3a847d683",
      "max": 481,
      "min": 0,
      "orientation": "horizontal",
      "style": "IPY_MODEL_048ee36707fb4cecabb454004c1a8aaf",
      "value": 481
     }
    },
    "c8bb5f8bc7714c0a9223cff2e9a15caf": {
     "model_module": "@jupyter-widgets/base",
     "model_name": "LayoutModel",
     "state": {
      "_model_module": "@jupyter-widgets/base",
      "_model_module_version": "1.2.0",
      "_model_name": "LayoutModel",
      "_view_count": null,
      "_view_module": "@jupyter-widgets/base",
      "_view_module_version": "1.2.0",
      "_view_name": "LayoutView",
      "align_content": null,
      "align_items": null,
      "align_self": null,
      "border": null,
      "bottom": null,
      "display": null,
      "flex": null,
      "flex_flow": null,
      "grid_area": null,
      "grid_auto_columns": null,
      "grid_auto_flow": null,
      "grid_auto_rows": null,
      "grid_column": null,
      "grid_gap": null,
      "grid_row": null,
      "grid_template_areas": null,
      "grid_template_columns": null,
      "grid_template_rows": null,
      "height": null,
      "justify_content": null,
      "justify_items": null,
      "left": null,
      "margin": null,
      "max_height": null,
      "max_width": null,
      "min_height": null,
      "min_width": null,
      "object_fit": null,
      "object_position": null,
      "order": null,
      "overflow": null,
      "overflow_x": null,
      "overflow_y": null,
      "padding": null,
      "right": null,
      "top": null,
      "visibility": null,
      "width": null
     }
    },
    "c9a33db1034d4e6db52458248b864bbf": {
     "model_module": "@jupyter-widgets/base",
     "model_name": "LayoutModel",
     "state": {
      "_model_module": "@jupyter-widgets/base",
      "_model_module_version": "1.2.0",
      "_model_name": "LayoutModel",
      "_view_count": null,
      "_view_module": "@jupyter-widgets/base",
      "_view_module_version": "1.2.0",
      "_view_name": "LayoutView",
      "align_content": null,
      "align_items": null,
      "align_self": null,
      "border": null,
      "bottom": null,
      "display": null,
      "flex": null,
      "flex_flow": null,
      "grid_area": null,
      "grid_auto_columns": null,
      "grid_auto_flow": null,
      "grid_auto_rows": null,
      "grid_column": null,
      "grid_gap": null,
      "grid_row": null,
      "grid_template_areas": null,
      "grid_template_columns": null,
      "grid_template_rows": null,
      "height": null,
      "justify_content": null,
      "justify_items": null,
      "left": null,
      "margin": null,
      "max_height": null,
      "max_width": null,
      "min_height": null,
      "min_width": null,
      "object_fit": null,
      "object_position": null,
      "order": null,
      "overflow": null,
      "overflow_x": null,
      "overflow_y": null,
      "padding": null,
      "right": null,
      "top": null,
      "visibility": null,
      "width": null
     }
    },
    "c9f7b9bb7a43480db04a66f56709ec0b": {
     "model_module": "@jupyter-widgets/base",
     "model_name": "LayoutModel",
     "state": {
      "_model_module": "@jupyter-widgets/base",
      "_model_module_version": "1.2.0",
      "_model_name": "LayoutModel",
      "_view_count": null,
      "_view_module": "@jupyter-widgets/base",
      "_view_module_version": "1.2.0",
      "_view_name": "LayoutView",
      "align_content": null,
      "align_items": null,
      "align_self": null,
      "border": null,
      "bottom": null,
      "display": null,
      "flex": null,
      "flex_flow": null,
      "grid_area": null,
      "grid_auto_columns": null,
      "grid_auto_flow": null,
      "grid_auto_rows": null,
      "grid_column": null,
      "grid_gap": null,
      "grid_row": null,
      "grid_template_areas": null,
      "grid_template_columns": null,
      "grid_template_rows": null,
      "height": null,
      "justify_content": null,
      "justify_items": null,
      "left": null,
      "margin": null,
      "max_height": null,
      "max_width": null,
      "min_height": null,
      "min_width": null,
      "object_fit": null,
      "object_position": null,
      "order": null,
      "overflow": null,
      "overflow_x": null,
      "overflow_y": null,
      "padding": null,
      "right": null,
      "top": null,
      "visibility": null,
      "width": null
     }
    },
    "cc82737757e142afb51f35c6409deaff": {
     "model_module": "@jupyter-widgets/base",
     "model_name": "LayoutModel",
     "state": {
      "_model_module": "@jupyter-widgets/base",
      "_model_module_version": "1.2.0",
      "_model_name": "LayoutModel",
      "_view_count": null,
      "_view_module": "@jupyter-widgets/base",
      "_view_module_version": "1.2.0",
      "_view_name": "LayoutView",
      "align_content": null,
      "align_items": null,
      "align_self": null,
      "border": null,
      "bottom": null,
      "display": null,
      "flex": null,
      "flex_flow": null,
      "grid_area": null,
      "grid_auto_columns": null,
      "grid_auto_flow": null,
      "grid_auto_rows": null,
      "grid_column": null,
      "grid_gap": null,
      "grid_row": null,
      "grid_template_areas": null,
      "grid_template_columns": null,
      "grid_template_rows": null,
      "height": null,
      "justify_content": null,
      "justify_items": null,
      "left": null,
      "margin": null,
      "max_height": null,
      "max_width": null,
      "min_height": null,
      "min_width": null,
      "object_fit": null,
      "object_position": null,
      "order": null,
      "overflow": null,
      "overflow_x": null,
      "overflow_y": null,
      "padding": null,
      "right": null,
      "top": null,
      "visibility": null,
      "width": null
     }
    },
    "ccc888baf3b045ffa622bfbb6303246d": {
     "model_module": "@jupyter-widgets/base",
     "model_name": "LayoutModel",
     "state": {
      "_model_module": "@jupyter-widgets/base",
      "_model_module_version": "1.2.0",
      "_model_name": "LayoutModel",
      "_view_count": null,
      "_view_module": "@jupyter-widgets/base",
      "_view_module_version": "1.2.0",
      "_view_name": "LayoutView",
      "align_content": null,
      "align_items": null,
      "align_self": null,
      "border": null,
      "bottom": null,
      "display": null,
      "flex": null,
      "flex_flow": null,
      "grid_area": null,
      "grid_auto_columns": null,
      "grid_auto_flow": null,
      "grid_auto_rows": null,
      "grid_column": null,
      "grid_gap": null,
      "grid_row": null,
      "grid_template_areas": null,
      "grid_template_columns": null,
      "grid_template_rows": null,
      "height": null,
      "justify_content": null,
      "justify_items": null,
      "left": null,
      "margin": null,
      "max_height": null,
      "max_width": null,
      "min_height": null,
      "min_width": null,
      "object_fit": null,
      "object_position": null,
      "order": null,
      "overflow": null,
      "overflow_x": null,
      "overflow_y": null,
      "padding": null,
      "right": null,
      "top": null,
      "visibility": null,
      "width": null
     }
    },
    "cde14ae8b9ee47c682330dffc433ca13": {
     "model_module": "@jupyter-widgets/base",
     "model_name": "LayoutModel",
     "state": {
      "_model_module": "@jupyter-widgets/base",
      "_model_module_version": "1.2.0",
      "_model_name": "LayoutModel",
      "_view_count": null,
      "_view_module": "@jupyter-widgets/base",
      "_view_module_version": "1.2.0",
      "_view_name": "LayoutView",
      "align_content": null,
      "align_items": null,
      "align_self": null,
      "border": null,
      "bottom": null,
      "display": null,
      "flex": null,
      "flex_flow": null,
      "grid_area": null,
      "grid_auto_columns": null,
      "grid_auto_flow": null,
      "grid_auto_rows": null,
      "grid_column": null,
      "grid_gap": null,
      "grid_row": null,
      "grid_template_areas": null,
      "grid_template_columns": null,
      "grid_template_rows": null,
      "height": null,
      "justify_content": null,
      "justify_items": null,
      "left": null,
      "margin": null,
      "max_height": null,
      "max_width": null,
      "min_height": null,
      "min_width": null,
      "object_fit": null,
      "object_position": null,
      "order": null,
      "overflow": null,
      "overflow_x": null,
      "overflow_y": null,
      "padding": null,
      "right": null,
      "top": null,
      "visibility": null,
      "width": null
     }
    },
    "d2a6de95d2764022a8e2c1b78365cb36": {
     "model_module": "@jupyter-widgets/base",
     "model_name": "LayoutModel",
     "state": {
      "_model_module": "@jupyter-widgets/base",
      "_model_module_version": "1.2.0",
      "_model_name": "LayoutModel",
      "_view_count": null,
      "_view_module": "@jupyter-widgets/base",
      "_view_module_version": "1.2.0",
      "_view_name": "LayoutView",
      "align_content": null,
      "align_items": null,
      "align_self": null,
      "border": null,
      "bottom": null,
      "display": null,
      "flex": null,
      "flex_flow": null,
      "grid_area": null,
      "grid_auto_columns": null,
      "grid_auto_flow": null,
      "grid_auto_rows": null,
      "grid_column": null,
      "grid_gap": null,
      "grid_row": null,
      "grid_template_areas": null,
      "grid_template_columns": null,
      "grid_template_rows": null,
      "height": null,
      "justify_content": null,
      "justify_items": null,
      "left": null,
      "margin": null,
      "max_height": null,
      "max_width": null,
      "min_height": null,
      "min_width": null,
      "object_fit": null,
      "object_position": null,
      "order": null,
      "overflow": null,
      "overflow_x": null,
      "overflow_y": null,
      "padding": null,
      "right": null,
      "top": null,
      "visibility": null,
      "width": null
     }
    },
    "d5959c056f8843d28da49a184205b702": {
     "model_module": "@jupyter-widgets/controls",
     "model_name": "HBoxModel",
     "state": {
      "_dom_classes": [],
      "_model_module": "@jupyter-widgets/controls",
      "_model_module_version": "1.5.0",
      "_model_name": "HBoxModel",
      "_view_count": null,
      "_view_module": "@jupyter-widgets/controls",
      "_view_module_version": "1.5.0",
      "_view_name": "HBoxView",
      "box_style": "",
      "children": [
       "IPY_MODEL_d63bace3c4bb4685befec220edc976b9",
       "IPY_MODEL_5151fc4a709e450faf1a2e40f061bacb"
      ],
      "layout": "IPY_MODEL_c1ad79990d7f4eeea8625000cf5992f8"
     }
    },
    "d63bace3c4bb4685befec220edc976b9": {
     "model_module": "@jupyter-widgets/controls",
     "model_name": "FloatProgressModel",
     "state": {
      "_dom_classes": [],
      "_model_module": "@jupyter-widgets/controls",
      "_model_module_version": "1.5.0",
      "_model_name": "FloatProgressModel",
      "_view_count": null,
      "_view_module": "@jupyter-widgets/controls",
      "_view_module_version": "1.5.0",
      "_view_name": "ProgressView",
      "bar_style": "success",
      "description": "Downloading: 100%",
      "description_tooltip": null,
      "layout": "IPY_MODEL_86a404fea09b49648924c4053ee59835",
      "max": 231508,
      "min": 0,
      "orientation": "horizontal",
      "style": "IPY_MODEL_4f0bd28dc47f41868d7289acb209e722",
      "value": 231508
     }
    },
    "d665619b470546b3a8cb24e8323e6fa9": {
     "model_module": "@jupyter-widgets/controls",
     "model_name": "HTMLModel",
     "state": {
      "_dom_classes": [],
      "_model_module": "@jupyter-widgets/controls",
      "_model_module_version": "1.5.0",
      "_model_name": "HTMLModel",
      "_view_count": null,
      "_view_module": "@jupyter-widgets/controls",
      "_view_module_version": "1.5.0",
      "_view_name": "HTMLView",
      "description": "",
      "description_tooltip": null,
      "layout": "IPY_MODEL_c8bb5f8bc7714c0a9223cff2e9a15caf",
      "placeholder": "​",
      "style": "IPY_MODEL_54cc3f21581640d4b75376cb5d76c54e",
      "value": " 385/385 [00:00&lt;00:00, 1.19kB/s]"
     }
    },
    "d9fd40518a454c9b91d40708a1cb750a": {
     "model_module": "@jupyter-widgets/controls",
     "model_name": "HBoxModel",
     "state": {
      "_dom_classes": [],
      "_model_module": "@jupyter-widgets/controls",
      "_model_module_version": "1.5.0",
      "_model_name": "HBoxModel",
      "_view_count": null,
      "_view_module": "@jupyter-widgets/controls",
      "_view_module_version": "1.5.0",
      "_view_name": "HBoxView",
      "box_style": "",
      "children": [
       "IPY_MODEL_42711566f4b145859b2bdd6a125914f7",
       "IPY_MODEL_a2931781a9ab4dd8bde3d1dd9da3ac58"
      ],
      "layout": "IPY_MODEL_6c50a49ceb214acd80f3df64478ca1da"
     }
    },
    "db0bca68e8dc4e3ba7b3f6e3a0bf0c0e": {
     "model_module": "@jupyter-widgets/base",
     "model_name": "LayoutModel",
     "state": {
      "_model_module": "@jupyter-widgets/base",
      "_model_module_version": "1.2.0",
      "_model_name": "LayoutModel",
      "_view_count": null,
      "_view_module": "@jupyter-widgets/base",
      "_view_module_version": "1.2.0",
      "_view_name": "LayoutView",
      "align_content": null,
      "align_items": null,
      "align_self": null,
      "border": null,
      "bottom": null,
      "display": null,
      "flex": null,
      "flex_flow": null,
      "grid_area": null,
      "grid_auto_columns": null,
      "grid_auto_flow": null,
      "grid_auto_rows": null,
      "grid_column": null,
      "grid_gap": null,
      "grid_row": null,
      "grid_template_areas": null,
      "grid_template_columns": null,
      "grid_template_rows": null,
      "height": null,
      "justify_content": null,
      "justify_items": null,
      "left": null,
      "margin": null,
      "max_height": null,
      "max_width": null,
      "min_height": null,
      "min_width": null,
      "object_fit": null,
      "object_position": null,
      "order": null,
      "overflow": null,
      "overflow_x": null,
      "overflow_y": null,
      "padding": null,
      "right": null,
      "top": null,
      "visibility": null,
      "width": null
     }
    },
    "db16cdc627204af49e73ffa9e7f849cf": {
     "model_module": "@jupyter-widgets/controls",
     "model_name": "HTMLModel",
     "state": {
      "_dom_classes": [],
      "_model_module": "@jupyter-widgets/controls",
      "_model_module_version": "1.5.0",
      "_model_name": "HTMLModel",
      "_view_count": null,
      "_view_module": "@jupyter-widgets/controls",
      "_view_module_version": "1.5.0",
      "_view_name": "HTMLView",
      "description": "",
      "description_tooltip": null,
      "layout": "IPY_MODEL_c9a33db1034d4e6db52458248b864bbf",
      "placeholder": "​",
      "style": "IPY_MODEL_92ac0c791080406bb58938595624920a",
      "value": " 570/570 [00:00&lt;00:00, 1.44kB/s]"
     }
    },
    "dd1c0cb7765c462c8edf89643f068dcc": {
     "model_module": "@jupyter-widgets/base",
     "model_name": "LayoutModel",
     "state": {
      "_model_module": "@jupyter-widgets/base",
      "_model_module_version": "1.2.0",
      "_model_name": "LayoutModel",
      "_view_count": null,
      "_view_module": "@jupyter-widgets/base",
      "_view_module_version": "1.2.0",
      "_view_name": "LayoutView",
      "align_content": null,
      "align_items": null,
      "align_self": null,
      "border": null,
      "bottom": null,
      "display": null,
      "flex": null,
      "flex_flow": null,
      "grid_area": null,
      "grid_auto_columns": null,
      "grid_auto_flow": null,
      "grid_auto_rows": null,
      "grid_column": null,
      "grid_gap": null,
      "grid_row": null,
      "grid_template_areas": null,
      "grid_template_columns": null,
      "grid_template_rows": null,
      "height": null,
      "justify_content": null,
      "justify_items": null,
      "left": null,
      "margin": null,
      "max_height": null,
      "max_width": null,
      "min_height": null,
      "min_width": null,
      "object_fit": null,
      "object_position": null,
      "order": null,
      "overflow": null,
      "overflow_x": null,
      "overflow_y": null,
      "padding": null,
      "right": null,
      "top": null,
      "visibility": null,
      "width": null
     }
    },
    "dd2e5970199a4c82a0423fd9b1f407a4": {
     "model_module": "@jupyter-widgets/controls",
     "model_name": "ProgressStyleModel",
     "state": {
      "_model_module": "@jupyter-widgets/controls",
      "_model_module_version": "1.5.0",
      "_model_name": "ProgressStyleModel",
      "_view_count": null,
      "_view_module": "@jupyter-widgets/base",
      "_view_module_version": "1.2.0",
      "_view_name": "StyleView",
      "bar_color": null,
      "description_width": "initial"
     }
    },
    "dea0d4b6e666442da4d679d5b62bc511": {
     "model_module": "@jupyter-widgets/base",
     "model_name": "LayoutModel",
     "state": {
      "_model_module": "@jupyter-widgets/base",
      "_model_module_version": "1.2.0",
      "_model_name": "LayoutModel",
      "_view_count": null,
      "_view_module": "@jupyter-widgets/base",
      "_view_module_version": "1.2.0",
      "_view_name": "LayoutView",
      "align_content": null,
      "align_items": null,
      "align_self": null,
      "border": null,
      "bottom": null,
      "display": null,
      "flex": null,
      "flex_flow": null,
      "grid_area": null,
      "grid_auto_columns": null,
      "grid_auto_flow": null,
      "grid_auto_rows": null,
      "grid_column": null,
      "grid_gap": null,
      "grid_row": null,
      "grid_template_areas": null,
      "grid_template_columns": null,
      "grid_template_rows": null,
      "height": null,
      "justify_content": null,
      "justify_items": null,
      "left": null,
      "margin": null,
      "max_height": null,
      "max_width": null,
      "min_height": null,
      "min_width": null,
      "object_fit": null,
      "object_position": null,
      "order": null,
      "overflow": null,
      "overflow_x": null,
      "overflow_y": null,
      "padding": null,
      "right": null,
      "top": null,
      "visibility": null,
      "width": null
     }
    },
    "e245612358a845f5aa5f9b6b66d63837": {
     "model_module": "@jupyter-widgets/controls",
     "model_name": "HTMLModel",
     "state": {
      "_dom_classes": [],
      "_model_module": "@jupyter-widgets/controls",
      "_model_module_version": "1.5.0",
      "_model_name": "HTMLModel",
      "_view_count": null,
      "_view_module": "@jupyter-widgets/controls",
      "_view_module_version": "1.5.0",
      "_view_name": "HTMLView",
      "description": "",
      "description_tooltip": null,
      "layout": "IPY_MODEL_dea0d4b6e666442da4d679d5b62bc511",
      "placeholder": "​",
      "style": "IPY_MODEL_8383f5c1db8a4631bf1645c092a29357",
      "value": " 899k/899k [00:00&lt;00:00, 2.35MB/s]"
     }
    },
    "e2bcf10a992c432abf261f5cd9204bf1": {
     "model_module": "@jupyter-widgets/controls",
     "model_name": "ProgressStyleModel",
     "state": {
      "_model_module": "@jupyter-widgets/controls",
      "_model_module_version": "1.5.0",
      "_model_name": "ProgressStyleModel",
      "_view_count": null,
      "_view_module": "@jupyter-widgets/base",
      "_view_module_version": "1.2.0",
      "_view_name": "StyleView",
      "bar_color": null,
      "description_width": "initial"
     }
    },
    "e318670c405141228801d184583aaa44": {
     "model_module": "@jupyter-widgets/base",
     "model_name": "LayoutModel",
     "state": {
      "_model_module": "@jupyter-widgets/base",
      "_model_module_version": "1.2.0",
      "_model_name": "LayoutModel",
      "_view_count": null,
      "_view_module": "@jupyter-widgets/base",
      "_view_module_version": "1.2.0",
      "_view_name": "LayoutView",
      "align_content": null,
      "align_items": null,
      "align_self": null,
      "border": null,
      "bottom": null,
      "display": null,
      "flex": null,
      "flex_flow": null,
      "grid_area": null,
      "grid_auto_columns": null,
      "grid_auto_flow": null,
      "grid_auto_rows": null,
      "grid_column": null,
      "grid_gap": null,
      "grid_row": null,
      "grid_template_areas": null,
      "grid_template_columns": null,
      "grid_template_rows": null,
      "height": null,
      "justify_content": null,
      "justify_items": null,
      "left": null,
      "margin": null,
      "max_height": null,
      "max_width": null,
      "min_height": null,
      "min_width": null,
      "object_fit": null,
      "object_position": null,
      "order": null,
      "overflow": null,
      "overflow_x": null,
      "overflow_y": null,
      "padding": null,
      "right": null,
      "top": null,
      "visibility": null,
      "width": null
     }
    },
    "e37d73705d9348a786612b575488e4aa": {
     "model_module": "@jupyter-widgets/controls",
     "model_name": "DescriptionStyleModel",
     "state": {
      "_model_module": "@jupyter-widgets/controls",
      "_model_module_version": "1.5.0",
      "_model_name": "DescriptionStyleModel",
      "_view_count": null,
      "_view_module": "@jupyter-widgets/base",
      "_view_module_version": "1.2.0",
      "_view_name": "StyleView",
      "description_width": ""
     }
    },
    "e5e00ab969f6425fbc392c88f38a630a": {
     "model_module": "@jupyter-widgets/controls",
     "model_name": "HBoxModel",
     "state": {
      "_dom_classes": [],
      "_model_module": "@jupyter-widgets/controls",
      "_model_module_version": "1.5.0",
      "_model_name": "HBoxModel",
      "_view_count": null,
      "_view_module": "@jupyter-widgets/controls",
      "_view_module_version": "1.5.0",
      "_view_name": "HBoxView",
      "box_style": "",
      "children": [
       "IPY_MODEL_b4955e76c0354d9d9d29b6f7e49c2b71",
       "IPY_MODEL_f8e4f98078f94f19b4689bde63227e85"
      ],
      "layout": "IPY_MODEL_4572286ac20445b5830fa2ab64cd7e0e"
     }
    },
    "e7073ff31ce14397ab0db32b36b494aa": {
     "model_module": "@jupyter-widgets/controls",
     "model_name": "DescriptionStyleModel",
     "state": {
      "_model_module": "@jupyter-widgets/controls",
      "_model_module_version": "1.5.0",
      "_model_name": "DescriptionStyleModel",
      "_view_count": null,
      "_view_module": "@jupyter-widgets/base",
      "_view_module_version": "1.2.0",
      "_view_name": "StyleView",
      "description_width": ""
     }
    },
    "e781ed48b2094e9697948d62ff67de3e": {
     "model_module": "@jupyter-widgets/base",
     "model_name": "LayoutModel",
     "state": {
      "_model_module": "@jupyter-widgets/base",
      "_model_module_version": "1.2.0",
      "_model_name": "LayoutModel",
      "_view_count": null,
      "_view_module": "@jupyter-widgets/base",
      "_view_module_version": "1.2.0",
      "_view_name": "LayoutView",
      "align_content": null,
      "align_items": null,
      "align_self": null,
      "border": null,
      "bottom": null,
      "display": null,
      "flex": null,
      "flex_flow": null,
      "grid_area": null,
      "grid_auto_columns": null,
      "grid_auto_flow": null,
      "grid_auto_rows": null,
      "grid_column": null,
      "grid_gap": null,
      "grid_row": null,
      "grid_template_areas": null,
      "grid_template_columns": null,
      "grid_template_rows": null,
      "height": null,
      "justify_content": null,
      "justify_items": null,
      "left": null,
      "margin": null,
      "max_height": null,
      "max_width": null,
      "min_height": null,
      "min_width": null,
      "object_fit": null,
      "object_position": null,
      "order": null,
      "overflow": null,
      "overflow_x": null,
      "overflow_y": null,
      "padding": null,
      "right": null,
      "top": null,
      "visibility": null,
      "width": null
     }
    },
    "e7a4727372124e68ae44d6da14b453b5": {
     "model_module": "@jupyter-widgets/controls",
     "model_name": "ProgressStyleModel",
     "state": {
      "_model_module": "@jupyter-widgets/controls",
      "_model_module_version": "1.5.0",
      "_model_name": "ProgressStyleModel",
      "_view_count": null,
      "_view_module": "@jupyter-widgets/base",
      "_view_module_version": "1.2.0",
      "_view_name": "StyleView",
      "bar_color": null,
      "description_width": "initial"
     }
    },
    "e82a0168ddc848369ec2f20c898c006e": {
     "model_module": "@jupyter-widgets/controls",
     "model_name": "FloatProgressModel",
     "state": {
      "_dom_classes": [],
      "_model_module": "@jupyter-widgets/controls",
      "_model_module_version": "1.5.0",
      "_model_name": "FloatProgressModel",
      "_view_count": null,
      "_view_module": "@jupyter-widgets/controls",
      "_view_module_version": "1.5.0",
      "_view_name": "ProgressView",
      "bar_style": "success",
      "description": "Downloading: 100%",
      "description_tooltip": null,
      "layout": "IPY_MODEL_c33492ae46e94f65a33063fdcfdc8426",
      "max": 385,
      "min": 0,
      "orientation": "horizontal",
      "style": "IPY_MODEL_2c22231ddf224100992887c8b0114676",
      "value": 385
     }
    },
    "e881efe6c82f4526a3c6798cddabd27f": {
     "model_module": "@jupyter-widgets/base",
     "model_name": "LayoutModel",
     "state": {
      "_model_module": "@jupyter-widgets/base",
      "_model_module_version": "1.2.0",
      "_model_name": "LayoutModel",
      "_view_count": null,
      "_view_module": "@jupyter-widgets/base",
      "_view_module_version": "1.2.0",
      "_view_name": "LayoutView",
      "align_content": null,
      "align_items": null,
      "align_self": null,
      "border": null,
      "bottom": null,
      "display": null,
      "flex": null,
      "flex_flow": null,
      "grid_area": null,
      "grid_auto_columns": null,
      "grid_auto_flow": null,
      "grid_auto_rows": null,
      "grid_column": null,
      "grid_gap": null,
      "grid_row": null,
      "grid_template_areas": null,
      "grid_template_columns": null,
      "grid_template_rows": null,
      "height": null,
      "justify_content": null,
      "justify_items": null,
      "left": null,
      "margin": null,
      "max_height": null,
      "max_width": null,
      "min_height": null,
      "min_width": null,
      "object_fit": null,
      "object_position": null,
      "order": null,
      "overflow": null,
      "overflow_x": null,
      "overflow_y": null,
      "padding": null,
      "right": null,
      "top": null,
      "visibility": null,
      "width": null
     }
    },
    "ec8567fe751e4e6ebfd59878759e306d": {
     "model_module": "@jupyter-widgets/controls",
     "model_name": "FloatProgressModel",
     "state": {
      "_dom_classes": [],
      "_model_module": "@jupyter-widgets/controls",
      "_model_module_version": "1.5.0",
      "_model_name": "FloatProgressModel",
      "_view_count": null,
      "_view_module": "@jupyter-widgets/controls",
      "_view_module_version": "1.5.0",
      "_view_name": "ProgressView",
      "bar_style": "success",
      "description": "Downloading: 100%",
      "description_tooltip": null,
      "layout": "IPY_MODEL_fb078f11d1f643f3a488f6b29190c388",
      "max": 354041576,
      "min": 0,
      "orientation": "horizontal",
      "style": "IPY_MODEL_0ec6b3aabfd34a1a87307c0f2956a6df",
      "value": 354041576
     }
    },
    "ef7a48b690984c8aa77b062c1b48c87e": {
     "model_module": "@jupyter-widgets/base",
     "model_name": "LayoutModel",
     "state": {
      "_model_module": "@jupyter-widgets/base",
      "_model_module_version": "1.2.0",
      "_model_name": "LayoutModel",
      "_view_count": null,
      "_view_module": "@jupyter-widgets/base",
      "_view_module_version": "1.2.0",
      "_view_name": "LayoutView",
      "align_content": null,
      "align_items": null,
      "align_self": null,
      "border": null,
      "bottom": null,
      "display": null,
      "flex": null,
      "flex_flow": null,
      "grid_area": null,
      "grid_auto_columns": null,
      "grid_auto_flow": null,
      "grid_auto_rows": null,
      "grid_column": null,
      "grid_gap": null,
      "grid_row": null,
      "grid_template_areas": null,
      "grid_template_columns": null,
      "grid_template_rows": null,
      "height": null,
      "justify_content": null,
      "justify_items": null,
      "left": null,
      "margin": null,
      "max_height": null,
      "max_width": null,
      "min_height": null,
      "min_width": null,
      "object_fit": null,
      "object_position": null,
      "order": null,
      "overflow": null,
      "overflow_x": null,
      "overflow_y": null,
      "padding": null,
      "right": null,
      "top": null,
      "visibility": null,
      "width": null
     }
    },
    "f01827b12d684ccf98e900c599ad6063": {
     "model_module": "@jupyter-widgets/controls",
     "model_name": "DescriptionStyleModel",
     "state": {
      "_model_module": "@jupyter-widgets/controls",
      "_model_module_version": "1.5.0",
      "_model_name": "DescriptionStyleModel",
      "_view_count": null,
      "_view_module": "@jupyter-widgets/base",
      "_view_module_version": "1.2.0",
      "_view_name": "StyleView",
      "description_width": ""
     }
    },
    "f03f4ee565604ed292d111b05c6500b3": {
     "model_module": "@jupyter-widgets/base",
     "model_name": "LayoutModel",
     "state": {
      "_model_module": "@jupyter-widgets/base",
      "_model_module_version": "1.2.0",
      "_model_name": "LayoutModel",
      "_view_count": null,
      "_view_module": "@jupyter-widgets/base",
      "_view_module_version": "1.2.0",
      "_view_name": "LayoutView",
      "align_content": null,
      "align_items": null,
      "align_self": null,
      "border": null,
      "bottom": null,
      "display": null,
      "flex": null,
      "flex_flow": null,
      "grid_area": null,
      "grid_auto_columns": null,
      "grid_auto_flow": null,
      "grid_auto_rows": null,
      "grid_column": null,
      "grid_gap": null,
      "grid_row": null,
      "grid_template_areas": null,
      "grid_template_columns": null,
      "grid_template_rows": null,
      "height": null,
      "justify_content": null,
      "justify_items": null,
      "left": null,
      "margin": null,
      "max_height": null,
      "max_width": null,
      "min_height": null,
      "min_width": null,
      "object_fit": null,
      "object_position": null,
      "order": null,
      "overflow": null,
      "overflow_x": null,
      "overflow_y": null,
      "padding": null,
      "right": null,
      "top": null,
      "visibility": null,
      "width": null
     }
    },
    "f0a7abe1389b4299a6bbbd7a3d73eb41": {
     "model_module": "@jupyter-widgets/base",
     "model_name": "LayoutModel",
     "state": {
      "_model_module": "@jupyter-widgets/base",
      "_model_module_version": "1.2.0",
      "_model_name": "LayoutModel",
      "_view_count": null,
      "_view_module": "@jupyter-widgets/base",
      "_view_module_version": "1.2.0",
      "_view_name": "LayoutView",
      "align_content": null,
      "align_items": null,
      "align_self": null,
      "border": null,
      "bottom": null,
      "display": null,
      "flex": null,
      "flex_flow": null,
      "grid_area": null,
      "grid_auto_columns": null,
      "grid_auto_flow": null,
      "grid_auto_rows": null,
      "grid_column": null,
      "grid_gap": null,
      "grid_row": null,
      "grid_template_areas": null,
      "grid_template_columns": null,
      "grid_template_rows": null,
      "height": null,
      "justify_content": null,
      "justify_items": null,
      "left": null,
      "margin": null,
      "max_height": null,
      "max_width": null,
      "min_height": null,
      "min_width": null,
      "object_fit": null,
      "object_position": null,
      "order": null,
      "overflow": null,
      "overflow_x": null,
      "overflow_y": null,
      "padding": null,
      "right": null,
      "top": null,
      "visibility": null,
      "width": null
     }
    },
    "f2153b8afa3c4b21b5f53fc9d4057e63": {
     "model_module": "@jupyter-widgets/controls",
     "model_name": "HBoxModel",
     "state": {
      "_dom_classes": [],
      "_model_module": "@jupyter-widgets/controls",
      "_model_module_version": "1.5.0",
      "_model_name": "HBoxModel",
      "_view_count": null,
      "_view_module": "@jupyter-widgets/controls",
      "_view_module_version": "1.5.0",
      "_view_name": "HBoxView",
      "box_style": "",
      "children": [
       "IPY_MODEL_ec8567fe751e4e6ebfd59878759e306d",
       "IPY_MODEL_1e96d78d43f74834b0801bfa4f7e8fbc"
      ],
      "layout": "IPY_MODEL_29e1199c529c42008b4e3d77b8237f2b"
     }
    },
    "f238aa075f044e5b8efafd62a2ba433f": {
     "model_module": "@jupyter-widgets/controls",
     "model_name": "HBoxModel",
     "state": {
      "_dom_classes": [],
      "_model_module": "@jupyter-widgets/controls",
      "_model_module_version": "1.5.0",
      "_model_name": "HBoxModel",
      "_view_count": null,
      "_view_module": "@jupyter-widgets/controls",
      "_view_module_version": "1.5.0",
      "_view_name": "HBoxView",
      "box_style": "",
      "children": [
       "IPY_MODEL_446ffa094de54707a10d732af8a7307e",
       "IPY_MODEL_a4701554c9f84de98b24e6dfee779e5c"
      ],
      "layout": "IPY_MODEL_74fd385f19c54b2da714ff96090ec148"
     }
    },
    "f342dd090cea420b83b3fd53a520ad04": {
     "model_module": "@jupyter-widgets/controls",
     "model_name": "ProgressStyleModel",
     "state": {
      "_model_module": "@jupyter-widgets/controls",
      "_model_module_version": "1.5.0",
      "_model_name": "ProgressStyleModel",
      "_view_count": null,
      "_view_module": "@jupyter-widgets/base",
      "_view_module_version": "1.2.0",
      "_view_name": "StyleView",
      "bar_color": null,
      "description_width": "initial"
     }
    },
    "f38a3f6be03f442a889121a7460bb44b": {
     "model_module": "@jupyter-widgets/controls",
     "model_name": "FloatProgressModel",
     "state": {
      "_dom_classes": [],
      "_model_module": "@jupyter-widgets/controls",
      "_model_module_version": "1.5.0",
      "_model_name": "FloatProgressModel",
      "_view_count": null,
      "_view_module": "@jupyter-widgets/controls",
      "_view_module_version": "1.5.0",
      "_view_name": "ProgressView",
      "bar_style": "success",
      "description": "Downloading: 100%",
      "description_tooltip": null,
      "layout": "IPY_MODEL_6b9c6c006937416bbfe44bc955d9cbbc",
      "max": 1355863,
      "min": 0,
      "orientation": "horizontal",
      "style": "IPY_MODEL_96ee6923a44f40958b78b23adb5a1ac9",
      "value": 1355863
     }
    },
    "f45fe4aaeb774ed49a2d7330bd7cf0fd": {
     "model_module": "@jupyter-widgets/controls",
     "model_name": "DescriptionStyleModel",
     "state": {
      "_model_module": "@jupyter-widgets/controls",
      "_model_module_version": "1.5.0",
      "_model_name": "DescriptionStyleModel",
      "_view_count": null,
      "_view_module": "@jupyter-widgets/base",
      "_view_module_version": "1.2.0",
      "_view_name": "StyleView",
      "description_width": ""
     }
    },
    "f7456ce098c440ad86d7fd9580fb1983": {
     "model_module": "@jupyter-widgets/controls",
     "model_name": "FloatProgressModel",
     "state": {
      "_dom_classes": [],
      "_model_module": "@jupyter-widgets/controls",
      "_model_module_version": "1.5.0",
      "_model_name": "FloatProgressModel",
      "_view_count": null,
      "_view_module": "@jupyter-widgets/controls",
      "_view_module_version": "1.5.0",
      "_view_name": "ProgressView",
      "bar_style": "success",
      "description": "Downloading: 100%",
      "description_tooltip": null,
      "layout": "IPY_MODEL_0d145c336a9841c387702fe81cd11aa0",
      "max": 442,
      "min": 0,
      "orientation": "horizontal",
      "style": "IPY_MODEL_dd2e5970199a4c82a0423fd9b1f407a4",
      "value": 442
     }
    },
    "f8a536005c4348e8a7ec6d69b3e7b155": {
     "model_module": "@jupyter-widgets/controls",
     "model_name": "ProgressStyleModel",
     "state": {
      "_model_module": "@jupyter-widgets/controls",
      "_model_module_version": "1.5.0",
      "_model_name": "ProgressStyleModel",
      "_view_count": null,
      "_view_module": "@jupyter-widgets/base",
      "_view_module_version": "1.2.0",
      "_view_name": "StyleView",
      "bar_color": null,
      "description_width": "initial"
     }
    },
    "f8e4f98078f94f19b4689bde63227e85": {
     "model_module": "@jupyter-widgets/controls",
     "model_name": "HTMLModel",
     "state": {
      "_dom_classes": [],
      "_model_module": "@jupyter-widgets/controls",
      "_model_module_version": "1.5.0",
      "_model_name": "HTMLModel",
      "_view_count": null,
      "_view_module": "@jupyter-widgets/controls",
      "_view_module_version": "1.5.0",
      "_view_name": "HTMLView",
      "description": "",
      "description_tooltip": null,
      "layout": "IPY_MODEL_7844f4ad4e1047b8b8f26f7477bc5b0c",
      "placeholder": "​",
      "style": "IPY_MODEL_f01827b12d684ccf98e900c599ad6063",
      "value": " 456k/456k [00:07&lt;00:00, 63.6kB/s]"
     }
    },
    "fa3a483186234a7bb0eef60711eccbe0": {
     "model_module": "@jupyter-widgets/controls",
     "model_name": "HTMLModel",
     "state": {
      "_dom_classes": [],
      "_model_module": "@jupyter-widgets/controls",
      "_model_module_version": "1.5.0",
      "_model_name": "HTMLModel",
      "_view_count": null,
      "_view_module": "@jupyter-widgets/controls",
      "_view_module_version": "1.5.0",
      "_view_name": "HTMLView",
      "description": "",
      "description_tooltip": null,
      "layout": "IPY_MODEL_86ad2e03e6cb484ca6279cd1a58919b7",
      "placeholder": "​",
      "style": "IPY_MODEL_e37d73705d9348a786612b575488e4aa",
      "value": " 1.36M/1.36M [00:05&lt;00:00, 265kB/s]"
     }
    },
    "fb078f11d1f643f3a488f6b29190c388": {
     "model_module": "@jupyter-widgets/base",
     "model_name": "LayoutModel",
     "state": {
      "_model_module": "@jupyter-widgets/base",
      "_model_module_version": "1.2.0",
      "_model_name": "LayoutModel",
      "_view_count": null,
      "_view_module": "@jupyter-widgets/base",
      "_view_module_version": "1.2.0",
      "_view_name": "LayoutView",
      "align_content": null,
      "align_items": null,
      "align_self": null,
      "border": null,
      "bottom": null,
      "display": null,
      "flex": null,
      "flex_flow": null,
      "grid_area": null,
      "grid_auto_columns": null,
      "grid_auto_flow": null,
      "grid_auto_rows": null,
      "grid_column": null,
      "grid_gap": null,
      "grid_row": null,
      "grid_template_areas": null,
      "grid_template_columns": null,
      "grid_template_rows": null,
      "height": null,
      "justify_content": null,
      "justify_items": null,
      "left": null,
      "margin": null,
      "max_height": null,
      "max_width": null,
      "min_height": null,
      "min_width": null,
      "object_fit": null,
      "object_position": null,
      "order": null,
      "overflow": null,
      "overflow_x": null,
      "overflow_y": null,
      "padding": null,
      "right": null,
      "top": null,
      "visibility": null,
      "width": null
     }
    },
    "fc0d79987a354f999681d0f7e2d5beb0": {
     "model_module": "@jupyter-widgets/base",
     "model_name": "LayoutModel",
     "state": {
      "_model_module": "@jupyter-widgets/base",
      "_model_module_version": "1.2.0",
      "_model_name": "LayoutModel",
      "_view_count": null,
      "_view_module": "@jupyter-widgets/base",
      "_view_module_version": "1.2.0",
      "_view_name": "LayoutView",
      "align_content": null,
      "align_items": null,
      "align_self": null,
      "border": null,
      "bottom": null,
      "display": null,
      "flex": null,
      "flex_flow": null,
      "grid_area": null,
      "grid_auto_columns": null,
      "grid_auto_flow": null,
      "grid_auto_rows": null,
      "grid_column": null,
      "grid_gap": null,
      "grid_row": null,
      "grid_template_areas": null,
      "grid_template_columns": null,
      "grid_template_rows": null,
      "height": null,
      "justify_content": null,
      "justify_items": null,
      "left": null,
      "margin": null,
      "max_height": null,
      "max_width": null,
      "min_height": null,
      "min_width": null,
      "object_fit": null,
      "object_position": null,
      "order": null,
      "overflow": null,
      "overflow_x": null,
      "overflow_y": null,
      "padding": null,
      "right": null,
      "top": null,
      "visibility": null,
      "width": null
     }
    },
    "fe1ce75e3df146259b81c02b0e74ecfe": {
     "model_module": "@jupyter-widgets/controls",
     "model_name": "HBoxModel",
     "state": {
      "_dom_classes": [],
      "_model_module": "@jupyter-widgets/controls",
      "_model_module_version": "1.5.0",
      "_model_name": "HBoxModel",
      "_view_count": null,
      "_view_module": "@jupyter-widgets/controls",
      "_view_module_version": "1.5.0",
      "_view_name": "HBoxView",
      "box_style": "",
      "children": [
       "IPY_MODEL_554b0dd32d544c81891ee4ac0efa4347",
       "IPY_MODEL_6ef2df21f32b4314a9291f1cb0554aa0"
      ],
      "layout": "IPY_MODEL_dd1c0cb7765c462c8edf89643f068dcc"
     }
    }
   }
  }
 },
 "nbformat": 4,
 "nbformat_minor": 4
}
