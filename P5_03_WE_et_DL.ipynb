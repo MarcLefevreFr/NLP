{
 "cells": [
  {
   "cell_type": "markdown",
   "metadata": {},
   "source": [
    "Formation OpenClassrooms DS-IML - **Marc Lefèvre**, <marc.lefevre@noos.fr>"
   ]
  },
  {
   "cell_type": "markdown",
   "metadata": {},
   "source": [
    " "
   ]
  },
  {
   "cell_type": "markdown",
   "metadata": {},
   "source": [
    " "
   ]
  },
  {
   "cell_type": "markdown",
   "metadata": {},
   "source": [
    "# **Projet 5 : Catégorisation de questions Stack Overflow**"
   ]
  },
  {
   "cell_type": "markdown",
   "metadata": {},
   "source": [
    " "
   ]
  },
  {
   "cell_type": "markdown",
   "metadata": {},
   "source": [
    " "
   ]
  },
  {
   "cell_type": "markdown",
   "metadata": {},
   "source": [
    "## **3ème partie : Word Embedding & piste du Deep Learning**"
   ]
  },
  {
   "cell_type": "markdown",
   "metadata": {},
   "source": [
    " "
   ]
  },
  {
   "cell_type": "markdown",
   "metadata": {},
   "source": [
    "## **Opérations préliminaires**"
   ]
  },
  {
   "cell_type": "markdown",
   "metadata": {},
   "source": [
    " "
   ]
  },
  {
   "cell_type": "markdown",
   "metadata": {},
   "source": [
    "### **Importation des bibliothèques python utiles**"
   ]
  },
  {
   "cell_type": "code",
   "execution_count": 33,
   "metadata": {},
   "outputs": [],
   "source": [
    "import pandas as pd\n",
    "import pickle\n",
    "import spacy\n",
    "import re\n",
    "import numpy as np\n",
    "import matplotlib.pyplot as plt\n",
    "import seaborn as sns\n",
    "import warnings\n",
    "import xgboost as xgb\n",
    "import gensim\n",
    "import nltk\n",
    "import tensorflow as tf\n",
    "\n",
    "from gensim.models.fasttext import FastText\n",
    "from gensim.test.utils import get_tmpfile\n",
    "from tqdm.notebook import trange, tqdm\n",
    "\n",
    "from time import time\n",
    "\n",
    "from sklearn.preprocessing import StandardScaler\n",
    "from sklearn.feature_extraction.text import TfidfVectorizer, CountVectorizer\n",
    "from sklearn.decomposition import LatentDirichletAllocation, PCA\n",
    "from sklearn.metrics import f1_score, classification_report, multilabel_confusion_matrix\n",
    "from sklearn.model_selection import GridSearchCV, cross_val_predict, cross_validate, cross_val_score, learning_curve\n",
    "from sklearn.manifold import TSNE\n",
    "\n",
    "from tensorflow.keras.models import Sequential\n",
    "from tensorflow.keras.layers import Flatten, Dense, Dropout, Activation, Conv2D, MaxPooling2D\n",
    "from tensorflow.keras.callbacks import ModelCheckpoint\n",
    "\n",
    "from bayes_opt import BayesianOptimization\n",
    "from skmultilearn.problem_transform import BinaryRelevance\n",
    "\n",
    "# Ignorance de certains avertissements\n",
    "warnings.filterwarnings('ignore')\n",
    "warnings.simplefilter('ignore')"
   ]
  },
  {
   "cell_type": "markdown",
   "metadata": {},
   "source": [
    "## **Fonctions utiles**"
   ]
  },
  {
   "cell_type": "markdown",
   "metadata": {},
   "source": [
    "**Traitement données texte**"
   ]
  },
  {
   "cell_type": "code",
   "execution_count": 15,
   "metadata": {},
   "outputs": [],
   "source": [
    "def clean_text(texte):\n",
    "    \n",
    "    char_gardes = r'[^a-z#+.\\s]'\n",
    "    return re.sub(char_gardes, '', texte)  \n",
    "\n",
    "\n",
    "def remove_sw(texte, return_verbs, return_token):\n",
    "    \n",
    "    doc = nlp(texte)\n",
    "    \n",
    "    if return_verbs :\n",
    "    \n",
    "        tokens = [token for token in doc if \\\n",
    "                  token.is_stop == False and token.is_punct == False\\\n",
    "                  and token.is_space == False\n",
    "                 ]\n",
    "    \n",
    "    else :\n",
    "        \n",
    "        tokens = [token for token in doc if \\\n",
    "                  token.is_stop == False and token.is_punct == False\\\n",
    "                  and token.pos_ != \"VERB\"\\\n",
    "                  and token.is_space == False\n",
    "                 ]\n",
    "    \n",
    "    if return_token :\n",
    "        \n",
    "        return tokens\n",
    "    \n",
    "    txt = \"\"\n",
    "    \n",
    "    for t in tokens :\n",
    "        \n",
    "        txt = txt + \" \" + t.text\n",
    "        txt = txt.lstrip()\n",
    "        \n",
    "    return txt\n",
    "\n",
    "\n",
    "def pipe_clsw(texte, return_verbs = True, return_token = True):\n",
    "    \"\"\"\n",
    "    Nettoye et enlève les SW d'un text/str et retourne une liste de tokens.\n",
    "    Par défaut : \n",
    "    - On garde les verbe. Si False on les élimine du résultat.\n",
    "    - On retourne une liste de tokens. Si False on retourne une \"str\".\n",
    "    \"\"\"\n",
    "    \n",
    "    res = remove_sw(clean_text(texte), return_verbs, return_token)\n",
    "    \n",
    "    return res"
   ]
  },
  {
   "cell_type": "markdown",
   "metadata": {},
   "source": [
    "**Représentations graphiques**"
   ]
  },
  {
   "cell_type": "code",
   "execution_count": 16,
   "metadata": {},
   "outputs": [],
   "source": [
    "def c_tsne(df_coord, perp) :\n",
    "    \"\"\"\n",
    "    \n",
    "    \"\"\"\n",
    "    \n",
    "    start = time()\n",
    "\n",
    "    tsne = TSNE(n_components=2, init='pca', perplexity = perp, random_state = 47)\n",
    "    red_tsne = tsne.fit_transform(df_coord)\n",
    "    red_tsne = StandardScaler().fit_transform(red_tsne)\n",
    "    df_tsne = pd.DataFrame(red_tsne, columns = [\"tsne_1\", \"tsne_2\"])\n",
    "    \n",
    "    return df_tsne\n",
    "\n",
    "def fullGraph(df_tsne, df_targ, size, titre):    \n",
    "    \n",
    "    #df_tsne = c_tsne(df_coord, complexity)\n",
    "    \n",
    "    plt.figure(figsize = size)\n",
    "    #plt.grid()\n",
    "    sns.set_style(\"whitegrid\")\n",
    "\n",
    "    \n",
    "    for col in df_targ.columns :\n",
    "        \n",
    "        plt.scatter(df_tsne.tsne_1[df_targ[col] == 1],\n",
    "                    df_tsne.tsne_2[df_targ[col] == 1],\n",
    "                    color= plt.cm.Set1(df_targ.columns.tolist().index(col) / float(len(df_targ.columns))),\n",
    "                    label = col,\n",
    "                    marker='o',\n",
    "                    s = 4,\n",
    "                    linewidth=1,\n",
    "                    alpha = 1\n",
    "                   )\n",
    "        \n",
    "    plt.legend(bbox_to_anchor=(1.01, 1), fontsize='large')\n",
    "    plt.title(titre, fontsize='large')\n",
    "    plt.show()\n",
    "    \n",
    "    \n",
    "def annotgraph(df_tsne, df_targ, size, titre) :\n",
    "    \n",
    "    #df_te = c_tsne(df_coord, complexity)\n",
    "    df_rep = df_targ.join(df_tsne)\n",
    "    \n",
    "    liste = []\n",
    "\n",
    "    for col in df_targ.columns :\n",
    "        liste.append(df_rep[df_tsne.columns][df_rep[col] == 1].mean())\n",
    "        \n",
    "    df_mean = pd.DataFrame(liste)\n",
    "    df_mean[\"tag\"] = df_targ.columns.tolist()\n",
    "    \n",
    "    plt.figure(figsize = size)\n",
    "    #plt.grid()\n",
    "    sns.set_style(\"darkgrid\")\n",
    "    \n",
    "    sns.scatterplot(x = \"tsne_1\", \n",
    "                    y = \"tsne_2\",\n",
    "                    hue = df_mean.tag,\n",
    "                    data = df_mean,\n",
    "                    legend = None,\n",
    "                    alpha = 1\n",
    "                    )\n",
    "    \n",
    "    \n",
    "    for i, val in df_mean.iterrows():\n",
    "        \n",
    "        if val[2] in [\"php\", \"laravel\"] :\n",
    "            \n",
    "            plt.annotate(val[2],\n",
    "                         val[:2],\n",
    "                         xytext=(-5, 10),\n",
    "                         textcoords='offset pixels',\n",
    "                         ha='right')\n",
    "\n",
    "        else :\n",
    "\n",
    "            plt.annotate(val[2], \n",
    "                         val[:2],\n",
    "                         xytext=(10, 10),\n",
    "                         textcoords='offset pixels',\n",
    "                         ha='center')\n",
    "        \n",
    "    plt.title(titre, fontsize='large')\n",
    "    plt.show()"
   ]
  },
  {
   "cell_type": "markdown",
   "metadata": {},
   "source": [
    "**Modélisation**"
   ]
  },
  {
   "cell_type": "code",
   "execution_count": 17,
   "metadata": {},
   "outputs": [],
   "source": [
    "def modeli(n, X_train, y_train, X_test, y_test):\n",
    "    \"\"\"\n",
    "    Fonction de modélisation prenant en paramètre le nombre \"n\" de composants d'une PCA\n",
    "    \"\"\"\n",
    "    \n",
    "    start = time()\n",
    "    \n",
    "    pca = PCA(n_components = n)\n",
    "    pca.fit(X_train)\n",
    "    X_train_pca = pca.transform(X_train)\n",
    "    X_test_pca = pca.transform(X_test)\n",
    "    \n",
    "    xgb_model = xgb.XGBClassifier(objective = \"reg:logistic\", random_state = 47)\n",
    "    m_class = BinaryRelevance(classifier = xgb_model).fit(X_train_pca, y_train)\n",
    "    pred_train = m_class.predict(X_train_pca)\n",
    "    pred_test = m_class.predict(X_test_pca)\n",
    "    \n",
    "    score_train = f1_score(y_train, pred_train, average = \"weighted\")\n",
    "    score_test = f1_score(y_test, pred_test, average = \"weighted\")\n",
    "    \n",
    "    temps = (time() - start)\n",
    "    \n",
    "    return (score_train, score_test, temps)\n",
    "\n",
    "\n",
    "\n",
    "\n",
    "def modelize(n, X_train, y_train, X_test, y_test):\n",
    "    \"\"\"\n",
    "    Fonction similaire à la précédente qui renvoie en plus la variance expliquée des données par le\n",
    "    nombre de composants \"n\" de la PCA.\n",
    "    \"\"\"\n",
    "    \n",
    "    start = time()\n",
    "    \n",
    "    pca = PCA(n_components = n)\n",
    "    pca.fit(X_train)\n",
    "    X_train_pca = pca.transform(X_train)\n",
    "    X_test_pca = pca.transform(X_test)\n",
    "    \n",
    "    xgb_model = xgb.XGBClassifier()\n",
    "    m_class = BinaryRelevance(classifier = xgb_model).fit(X_train_pca, y_train)\n",
    "    pred_train = m_class.predict(X_train_pca)\n",
    "    pred_test = m_class.predict(X_test_pca)\n",
    "    \n",
    "    score_train = f1_score(y_train, pred_train, average = \"weighted\")\n",
    "    score_test = f1_score(y_test, pred_test, average = \"weighted\")\n",
    "    \n",
    "    explained_variance = pca.explained_variance_ratio_.sum()*100\n",
    "    \n",
    "    temps = (time() - start)\n",
    "    \n",
    "    return (score_test, explained_variance, temps)\n",
    "\n",
    "\n",
    "\n",
    "def model_pca(liste, X_train, y_train, X_test, y_test):\n",
    "    \"\"\"\n",
    "    Fonction similaire à la précédente en fonction d'une liste de composants \"n\".\n",
    "    \"\"\"\n",
    "    \n",
    "    score = []\n",
    "    explained_variance = []\n",
    "    temps = []\n",
    "    \n",
    "    for n in liste :\n",
    "        \n",
    "        results = (modelize(n, X_train, y_train, X_test, y_test))\n",
    "        score.append(results[0])\n",
    "        explained_variance.append(results[1])\n",
    "        temps.append(results[2])\n",
    "        \n",
    "    best_index = np.argmax(score)\n",
    "    \n",
    "    print(f\"Meilleur score {score[best_index]:.2f} pour PCA avec n = {liste[best_index]} expliquant {explained_variance[best_index]:.0f}% de la variance en {temps[best_index]:.0f} secondes.\")\n",
    "    return(score[best_index], liste[best_index], explained_variance[best_index], temps[best_index])"
   ]
  },
  {
   "cell_type": "markdown",
   "metadata": {},
   "source": [
    "**Word embedding**"
   ]
  },
  {
   "cell_type": "code",
   "execution_count": 18,
   "metadata": {},
   "outputs": [],
   "source": [
    "def make_gensim_vectors(corpus, model) :\n",
    "    \"\"\"\n",
    "    Fonction de vectorisation de données texte par un modèle \"word2vec\".\n",
    "    \"\"\"\n",
    "    \n",
    "    liste_vect_totale = []\n",
    "    \n",
    "    for texte in corpus:\n",
    "        \n",
    "        list_vect_text = []\n",
    "        \n",
    "        for mot in texte :\n",
    "            \n",
    "            list_vect_text.append(model[mot])\n",
    "        \n",
    "        list_vect_text = np.array(list_vect_text)\n",
    "        vect_text = np.mean(list_vect_text, axis = 0)\n",
    "        \n",
    "            \n",
    "        liste_vect_totale.append(vect_text)\n",
    "        \n",
    "    return np.array(liste_vect_totale)\n",
    "\n",
    "def text_from_tok(corpus):\n",
    "    \"\"\"\n",
    "    Fonction d'extraction de données texte à partir de tokens.\n",
    "    \"\"\"\n",
    "    \n",
    "    new_corpus = []\n",
    "    \n",
    "    for quest in corpus :\n",
    "        \n",
    "        new_quest = [tok.text for tok in quest]\n",
    "        new_corpus.append(new_quest)\n",
    "        \n",
    "    return new_corpus\n",
    "\n",
    "\n",
    "def clean_for_gensim(corpus, lexique):\n",
    "    \"\"\"\n",
    "    Fonction servant à enlever d'un texte les mots ne figurant pas dans le \"vocabulaire\" d'un modèle\n",
    "    word2vec.\n",
    "    \"\"\"\n",
    "    \n",
    "    clean_corpus = []\n",
    "    \n",
    "    for texte in corpus :\n",
    "        \n",
    "        new_text = []\n",
    "        \n",
    "        for w in texte :\n",
    "            \n",
    "            if w in lexique :\n",
    "                \n",
    "                new_text.append(w)\n",
    "        \n",
    "        # pour éviter l'ajout d'une valeur NAN à notre tableau...\n",
    "        if len(new_text) == 0 :\n",
    "            clean_corpus.append('error')\n",
    "        else :\n",
    "            clean_corpus.append(new_text)   \n",
    "        \n",
    "    return clean_corpus"
   ]
  },
  {
   "cell_type": "markdown",
   "metadata": {},
   "source": [
    "**Classe SO_Tag_Predictor**"
   ]
  },
  {
   "cell_type": "markdown",
   "metadata": {},
   "source": [
    "Classe à partir de laquelle utiliser le \"prédicteur de tag\" final de notre projet."
   ]
  },
  {
   "cell_type": "code",
   "execution_count": null,
   "metadata": {},
   "outputs": [],
   "source": [
    "class SO_Tag_Predictor() :\n",
    "    \"\"\"\n",
    "    Utilisation :\n",
    "    predictor = SO_Tag_Predictor()\n",
    "    prediction = predictor.tag_one_question(\"texte de la question\")\n",
    "    print(prediction)\n",
    "    \"\"\"\n",
    "    \n",
    "    \n",
    "    def __init__(self):\n",
    "\n",
    "        self.model_w2v = FastText.load(\"Data/model_ft.bin\")\n",
    "        self.model = self.create_model()\n",
    "        self.nlp = spacy.load('en_core_web_sm')\n",
    "        self.std = pickle.load(open(\"Data/std.pickle\", \"rb\"))\n",
    "        self.pca = pickle.load(open(\"Data/pca.pickle\", \"rb\"))\n",
    "        self.labels = pickle.load(open(\"Data/labels.pickle\", \"rb\"))\n",
    "    \n",
    "    \n",
    "    def tag_one_question(self, texte):\n",
    "        \n",
    "        t = self.soup_text(texte)\n",
    "    \n",
    "        tx = self.pipe_clsw(t, True, True)\n",
    "    \n",
    "        txt = self.text_from_tok([tx])\n",
    "\n",
    "        tx_we = self.make_gensim_vectors(txt, self.model_w2v)\n",
    "\n",
    "        tx_std = self.std.transform(tx_we)\n",
    "\n",
    "        tx_pca = self.pca.transform(tx_std)\n",
    "\n",
    "        pred = self.model.predict(tx_pca)\n",
    "        \n",
    "        # On force la prédiction\n",
    "        res = []\n",
    "\n",
    "        if (pred > 0.5).sum() == 0 :\n",
    "\n",
    "            res.append(labels[np.argmax(pred)])\n",
    "\n",
    "        else :\n",
    "\n",
    "            pred = pred.round()\n",
    "\n",
    "            for n in np.nonzero(pred)[1].tolist():\n",
    "\n",
    "                res.append(self.labels[n])\n",
    "\n",
    "        return res\n",
    "    \n",
    " \n",
    "    def create_model(self):\n",
    "\n",
    "        model = Sequential()\n",
    "\n",
    "        model.add(Dense(75, input_shape = (75, )))\n",
    "        model.add(Activation(\"relu\"))\n",
    "        model.add(Dropout(0.2))\n",
    "\n",
    "        model.add(Dense(75))\n",
    "        model.add(Activation(\"relu\"))\n",
    "\n",
    "        model.add(Dense(25))\n",
    "        model.add(Activation(\"sigmoid\"))\n",
    "\n",
    "        model.compile(loss='binary_crossentropy', optimizer=\"adam\", metrics=\"accuracy\")\n",
    "\n",
    "        model.load_weights(\"Data/so_dl_01.hdf5\")\n",
    "\n",
    "        return model\n",
    "    \n",
    "    \n",
    "    def soup_text(self, t):\n",
    "    \n",
    "        liste_sans_pre = []\n",
    "        texte = \"\"\n",
    "\n",
    "        soup = soupe(t)\n",
    "\n",
    "        for cont in soup :\n",
    "\n",
    "            if not cont.name or cont.name != \"pre\":\n",
    "\n",
    "                liste_sans_pre.append(cont)\n",
    "\n",
    "        for c in liste_sans_pre :\n",
    "\n",
    "            if isinstance(c, bs4.element.Tag):\n",
    "\n",
    "                texte = texte + c.text.replace(\"\\n\", \"\") + \" \"\n",
    "\n",
    "            else :\n",
    "\n",
    "                texte = texte + c.replace(\"\\n\", \"\") + \" \"\n",
    "\n",
    "        texte = texte.rstrip()\n",
    "\n",
    "        return texte.lower()   \n",
    "    \n",
    "\n",
    "    def clean_text(self, texte):\n",
    "\n",
    "        char_gardes = r'[^a-z#+.\\s]'\n",
    "        return re.sub(char_gardes, '', texte)  \n",
    "\n",
    "    \n",
    "    def remove_sw(self, texte, return_verbs, return_token):\n",
    "\n",
    "        doc = self.nlp(texte)\n",
    "\n",
    "        if return_verbs :\n",
    "\n",
    "            tokens = [token for token in doc if \\\n",
    "                      token.is_stop == False and token.is_punct == False\\\n",
    "                      and token.is_space == False\n",
    "                     ]\n",
    "\n",
    "        else :\n",
    "\n",
    "            tokens = [token for token in doc if \\\n",
    "                      token.is_stop == False and token.is_punct == False\\\n",
    "                      and token.pos_ != \"VERB\"\\\n",
    "                      and token.is_space == False\n",
    "                     ]\n",
    "\n",
    "        if return_token :\n",
    "\n",
    "            return tokens\n",
    "\n",
    "        txt = \"\"\n",
    "\n",
    "        for t in tokens :\n",
    "\n",
    "            txt = txt + \" \" + t.text\n",
    "            txt = txt.lstrip()\n",
    "\n",
    "        return txt\n",
    "\n",
    "\n",
    "    def pipe_clsw(self, texte, return_verbs = True, return_token = True):\n",
    "\n",
    "        res = self.remove_sw(self.clean_text(texte), return_verbs, return_token)\n",
    "\n",
    "        return res\n",
    "\n",
    "\n",
    "    def make_gensim_vectors(self, corpus, model) :\n",
    "\n",
    "        liste_vect_totale = []\n",
    "\n",
    "        for texte in corpus:\n",
    "\n",
    "            list_vect_text = []\n",
    "\n",
    "            for mot in texte :\n",
    "\n",
    "                list_vect_text.append(model[mot])\n",
    "\n",
    "            list_vect_text = np.array(list_vect_text)\n",
    "            vect_text = np.mean(list_vect_text, axis = 0)\n",
    "\n",
    "\n",
    "            liste_vect_totale.append(vect_text)\n",
    "\n",
    "        return np.array(liste_vect_totale)\n",
    "\n",
    "    \n",
    "    def text_from_tok(self, corpus):\n",
    "    \n",
    "        new_corpus = []\n",
    "\n",
    "        for quest in corpus :\n",
    "\n",
    "            new_quest = [tok.text for tok in quest]\n",
    "            new_corpus.append(new_quest)\n",
    "\n",
    "        return new_corpus\n",
    "\n",
    "\n",
    "    def clean_for_gensim(self, corpus, lexique):\n",
    "\n",
    "        clean_corpus = []\n",
    "\n",
    "        #lex = model_google.vocab.keys()\n",
    "\n",
    "        for texte in corpus :\n",
    "\n",
    "            new_text = []\n",
    "\n",
    "            for w in texte :\n",
    "\n",
    "                if w in lexique :\n",
    "\n",
    "                    new_text.append(w)\n",
    "\n",
    "            # pour éviter l'ajout d'une valeur NAN à notre tableau...\n",
    "            if len(new_text) == 0 :\n",
    "                clean_corpus.append('error')\n",
    "            else :\n",
    "                clean_corpus.append(new_text)   \n",
    "\n",
    "        return clean_corpus"
   ]
  },
  {
   "cell_type": "markdown",
   "metadata": {},
   "source": [
    " "
   ]
  },
  {
   "cell_type": "markdown",
   "metadata": {},
   "source": [
    "# **1-) Non pertinence d'une approche 100% supervisée**"
   ]
  },
  {
   "cell_type": "markdown",
   "metadata": {},
   "source": [
    "A partir des données texte vectorisées TF, voyons si un moyen de réduction dimensionnelle comme la PCA pourrait nous permettre d'obtenir des réductions satisfaisantes..."
   ]
  },
  {
   "cell_type": "code",
   "execution_count": 2,
   "metadata": {},
   "outputs": [],
   "source": [
    "feat_train_vect = pickle.load(open(\"Data/feat_train_vect.pickle\", \"rb\"))\n",
    "feat_test_vect = pickle.load(open(\"Data/feat_test_vect.pickle\", \"rb\"))\n",
    "\n",
    "y_train = pickle.load(open(\"Data/y_train.pickle\", \"rb\"))\n",
    "y_test = pickle.load(open(\"Data/y_test.pickle\", \"rb\"))"
   ]
  },
  {
   "cell_type": "code",
   "execution_count": 3,
   "metadata": {},
   "outputs": [
    {
     "data": {
      "text/plain": [
       "(20000, 4789)"
      ]
     },
     "execution_count": 3,
     "metadata": {},
     "output_type": "execute_result"
    }
   ],
   "source": [
    "feat_train_vect.shape"
   ]
  },
  {
   "cell_type": "markdown",
   "metadata": {},
   "source": [
    "Comme nous le voyons, en l'état ces données vectorisées TF sont de dimension 20000x**4789**."
   ]
  },
  {
   "cell_type": "markdown",
   "metadata": {},
   "source": [
    "**Normalisation**"
   ]
  },
  {
   "cell_type": "code",
   "execution_count": 548,
   "metadata": {},
   "outputs": [],
   "source": [
    "std = StandardScaler().fit(feat_train_vect.toarray())\n",
    "feat_train_scaled = std.transform(feat_train_vect.toarray())\n",
    "feat_test_scaled = std.transform(feat_test_vect.toarray())"
   ]
  },
  {
   "cell_type": "markdown",
   "metadata": {},
   "source": [
    "### **PCA**"
   ]
  },
  {
   "cell_type": "code",
   "execution_count": 549,
   "metadata": {},
   "outputs": [
    {
     "name": "stdout",
     "output_type": "stream",
     "text": [
      "Pour n = 5, la PCA explique 0.015275843166922688 % de la variance des données\n",
      "Pour n = 10, la PCA explique 0.02460407690061692 % de la variance des données\n",
      "Pour n = 100, la PCA explique 0.1061283353918617 % de la variance des données\n",
      "Pour n = 500, la PCA explique 0.29765390655260965 % de la variance des données\n",
      "Pour n = 1000, la PCA explique 0.469105218599058 % de la variance des données\n"
     ]
    }
   ],
   "source": [
    "for n in [5, 10, 100, 500, 1000]:\n",
    "    pca = PCA(n_components = n)\n",
    "    pca.fit(feat_train_scaled)\n",
    "    print(f\"Pour n = {n}, la PCA explique {pca.explained_variance_ratio_.sum()} % de la variance des données\")    "
   ]
  },
  {
   "cell_type": "markdown",
   "metadata": {},
   "source": [
    "Une réduction en **1000** composants principaux n'explique que **47%** de la variance des données.<br>Manifestement la PCA ne va pas nous permettre de réduire suffisamment le nombre de dimension de nos données. Il va nous falloir trouver un autre moyen de modélisation/vectorisation de notre texte, qui est le **word_embedding**."
   ]
  },
  {
   "cell_type": "markdown",
   "metadata": {},
   "source": [
    "# **2-) Word Embedding**"
   ]
  },
  {
   "cell_type": "markdown",
   "metadata": {},
   "source": [
    "Le **word embedding**"
   ]
  },
  {
   "cell_type": "markdown",
   "metadata": {},
   "source": [
    "### **1-) Préparation**"
   ]
  },
  {
   "cell_type": "markdown",
   "metadata": {},
   "source": [
    " "
   ]
  },
  {
   "cell_type": "code",
   "execution_count": 107,
   "metadata": {},
   "outputs": [],
   "source": [
    "feat = pickle.load(open(\"Data/X.pickle\", \"rb\"))\n",
    "cible = pickle.load(open(\"Data/y.pickle\", \"rb\"))\n",
    "\n",
    "feat_train = feat[:20000]\n",
    "feat_test = feat[20000:]"
   ]
  },
  {
   "cell_type": "code",
   "execution_count": 556,
   "metadata": {},
   "outputs": [
    {
     "name": "stdout",
     "output_type": "stream",
     "text": [
      "Ce travail de nettoyage a pris 504 secondes.\n"
     ]
    }
   ],
   "source": [
    "# on garde les verbes, mais on veut le résultat en \"string\"\n",
    "now = time()\n",
    "feat_train_clean = [pipe_clsw(t, True, False) for t in feat_train]\n",
    "feat_test_clean = [pipe_clsw(t, True, False) for t in feat_test]\n",
    "print(f\"Ce travail de nettoyage a pris {time() - now:.0f} secondes.\")"
   ]
  },
  {
   "cell_type": "code",
   "execution_count": 58,
   "metadata": {},
   "outputs": [
    {
     "data": {
      "text/plain": [
       "'spring boot controller content negotiation simple rest controller written springboot application sure implement content negotiation return json xml based contenttype parameter request header explain wrong controller method json calling method specify contenttype applicationxml textxml implement methods different mapping different content type able xml xml work specify mediatypes single method like provided example like message endpoint receive xml contenttype request set applicationxmljson contenttype applicationjson help appreciated editi updated controller accept media types'"
      ]
     },
     "execution_count": 58,
     "metadata": {},
     "output_type": "execute_result"
    }
   ],
   "source": [
    "feat_train_clean[1]"
   ]
  },
  {
   "cell_type": "code",
   "execution_count": 59,
   "metadata": {
    "jupyter": {
     "source_hidden": true
    },
    "tags": []
   },
   "outputs": [],
   "source": [
    "pickle_out = open(\"Data/feat_train_clean.pickle\", \"wb\")\n",
    "pickle.dump(feat_train_clean, pickle_out)\n",
    "pickle_out.close()\n",
    "\n",
    "pickle_out = open(\"Data/feat_test_clean.pickle\", \"wb\")\n",
    "pickle.dump(feat_test_clean, pickle_out)\n",
    "pickle_out.close()"
   ]
  },
  {
   "cell_type": "markdown",
   "metadata": {},
   "source": [
    "### **2-) Modèle pré-entraîné SpaCy**"
   ]
  },
  {
   "cell_type": "markdown",
   "metadata": {},
   "source": [
    " "
   ]
  },
  {
   "cell_type": "code",
   "execution_count": 85,
   "metadata": {},
   "outputs": [],
   "source": [
    "feat_train_clean = pickle.load(open(\"Data/feat_train_clean.pickle\", \"rb\"))\n",
    "feat_test_clean = pickle.load(open(\"Data/feat_test_clean.pickle\", \"rb\"))"
   ]
  },
  {
   "cell_type": "code",
   "execution_count": 21,
   "metadata": {},
   "outputs": [],
   "source": [
    "# chargement du modèle\n",
    "nlp = spacy.load('en_core_web_lg')"
   ]
  },
  {
   "cell_type": "markdown",
   "metadata": {},
   "source": [
    "L'opération suivante crée des vecteurs pour chaque texte (question...). Un vecteur représentant un texte étant la moyenne des vecteurs des ses mots."
   ]
  },
  {
   "cell_type": "code",
   "execution_count": 61,
   "metadata": {},
   "outputs": [
    {
     "name": "stdout",
     "output_type": "stream",
     "text": [
      "Cette transformation Word-Embedding avec Spacy a pris 291 secondes.\n"
     ]
    }
   ],
   "source": [
    "# transformation du corpus\n",
    "now = time()\n",
    "X_train_spacy = np.array([nlp(w).vector for w in feat_train_clean])\n",
    "X_test_spacy = np.array([nlp(w).vector for w in feat_test_clean])\n",
    "print(f\"Cette transformation Word-Embedding avec Spacy a pris {time() - now:.0f} secondes.\")"
   ]
  },
  {
   "cell_type": "code",
   "execution_count": 65,
   "metadata": {
    "jupyter": {
     "source_hidden": true
    }
   },
   "outputs": [],
   "source": [
    "# Sauvegarde\n",
    "pickle_out = open(\"Data/X_train_spacy.pickle\", \"wb\")\n",
    "pickle.dump(X_train_spacy, pickle_out)\n",
    "pickle_out.close()\n",
    "\n",
    "pickle_out = open(\"Data/X_test_spacy.pickle\", \"wb\")\n",
    "pickle.dump(X_test_spacy, pickle_out)\n",
    "pickle_out.close()"
   ]
  },
  {
   "cell_type": "markdown",
   "metadata": {},
   "source": [
    "**Représentation graphique**"
   ]
  },
  {
   "cell_type": "markdown",
   "metadata": {},
   "source": [
    "Afin d'illustrer, au propre comme au figuré, le fait que le **word-embedding** permette de représenter le sens des mots, et la proximité sémantique de mots ou de textes, voici des représentations graphiques de **réductions T-SNE** à deux dimensions de nos données d'entrainement en fonction des tags cibles."
   ]
  },
  {
   "cell_type": "code",
   "execution_count": 9,
   "metadata": {},
   "outputs": [],
   "source": [
    "df_coord_spacy = pd.DataFrame(X_train_spacy)\n",
    "\n",
    "df_targ = pickle.load(open(\"Data/df_targ.pickle\", \"rb\"))\n",
    "\n",
    "df_tsne_spacy = c_tsne(df_coord_spacy, 60)\n",
    "\n",
    "# Sauvegarde\n",
    "pickle_out = open(\"Data/df_tsne_spacy.pickle\", \"wb\")\n",
    "pickle.dump(df_tsne_spacy, pickle_out)\n",
    "pickle_out.close()"
   ]
  },
  {
   "cell_type": "code",
   "execution_count": 10,
   "metadata": {},
   "outputs": [
    {
     "data": {
      "image/png": "[encoded data removed]",
      "text/plain": [
       "<Figure size 864x864 with 1 Axes>"
      ]
     },
     "metadata": {
      "needs_background": "light"
     },
     "output_type": "display_data"
    }
   ],
   "source": [
    "titre = \"Réduction T-SNE des données après word-embedding SpaCy\"\n",
    "\n",
    "fullGraph(df_tsne_spacy, df_targ, (12, 12), titre)"
   ]
  },
  {
   "cell_type": "markdown",
   "metadata": {},
   "source": [
    "On observe bien des \"nuages\" ou regroupements de points par couleurs, qui montrent bien que les tags, pour peu qu'ils ne soient pas trop généralistes, correspondent bien à des proximités sémantiques des questions."
   ]
  },
  {
   "cell_type": "markdown",
   "metadata": {},
   "source": [
    "Voici maintenant une représentation **annotée** des positions moyennes des questions en fonctions de leurs tags."
   ]
  },
  {
   "cell_type": "code",
   "execution_count": 17,
   "metadata": {},
   "outputs": [
    {
     "data": {
      "image/png": "[encoded data removed]",
      "text/plain": [
       "<Figure size 792x792 with 1 Axes>"
      ]
     },
     "metadata": {},
     "output_type": "display_data"
    }
   ],
   "source": [
    "titre = \"Positions moyennes par tag des questions\"\n",
    "\n",
    "annotgraph(df_tsne_spacy, df_targ, (11, 11), titre)"
   ]
  },
  {
   "cell_type": "code",
   "execution_count": null,
   "metadata": {},
   "outputs": [],
   "source": []
  },
  {
   "cell_type": "code",
   "execution_count": null,
   "metadata": {},
   "outputs": [],
   "source": []
  },
  {
   "cell_type": "code",
   "execution_count": 79,
   "metadata": {
    "jupyter": {
     "source_hidden": true
    }
   },
   "outputs": [],
   "source": [
    "X_train_spacy = pickle.load(open(\"Data/X_train_spacy.pickle\", \"rb\"))\n",
    "X_test_spacy = pickle.load(open(\"Data/X_test_spacy.pickle\", \"rb\"))\n",
    "\n",
    "y_train = pickle.load(open(\"Data/y_train.pickle\", \"rb\"))\n",
    "y_test = pickle.load(open(\"Data/y_test.pickle\", \"rb\"))"
   ]
  },
  {
   "cell_type": "markdown",
   "metadata": {},
   "source": [
    "**PCA**"
   ]
  },
  {
   "cell_type": "markdown",
   "metadata": {},
   "source": [
    "300 dimensions c'est encore beaucoup, nous allons réutiliser la **PCA** pour réduire autant que possible ce nombre."
   ]
  },
  {
   "cell_type": "code",
   "execution_count": 80,
   "metadata": {},
   "outputs": [],
   "source": [
    "std = StandardScaler().fit(X_train_spacy)\n",
    "X_train_spacy_scaled = std.transform(X_train_spacy)\n",
    "X_test_spacy_scaled = std.transform(X_test_spacy)"
   ]
  },
  {
   "cell_type": "code",
   "execution_count": 81,
   "metadata": {},
   "outputs": [
    {
     "name": "stdout",
     "output_type": "stream",
     "text": [
      "Pour n = 5, la PCA explique 25.85% de la variance des données\n",
      "Pour n = 10, la PCA explique 37.20% de la variance des données\n",
      "Pour n = 50, la PCA explique 69.13% de la variance des données\n",
      "Pour n = 100, la PCA explique 83.69% de la variance des données\n",
      "Pour n = 150, la PCA explique 91.33% de la variance des données\n",
      "Pour n = 200, la PCA explique 95.92% de la variance des données\n",
      "Pour n = 250, la PCA explique 98.74% de la variance des données\n",
      "Pour n = 300, la PCA explique 100.00% de la variance des données\n"
     ]
    }
   ],
   "source": [
    "for n in [5, 10, 50, 100, 150, 200, 250, 300]:\n",
    "    pca = PCA(n_components = n)\n",
    "    pca.fit(X_train_spacy_scaled)\n",
    "    print(f\"Pour n = {n}, la PCA explique {pca.explained_variance_ratio_.sum()*100:.2f}% de la variance des données\")    "
   ]
  },
  {
   "cell_type": "markdown",
   "metadata": {},
   "source": [
    "Essayons maintenant des modélisations en fonction de **n**."
   ]
  },
  {
   "cell_type": "code",
   "execution_count": 564,
   "metadata": {},
   "outputs": [],
   "source": [
    "results = []\n",
    "\n",
    "for n in [5, 10, 50, 100, 150, 200, 250, 300]:\n",
    "    \n",
    "    results.append(modeli(n, X_train_spacy_scaled, y_train, X_test_spacy_scaled, y_test))"
   ]
  },
  {
   "cell_type": "code",
   "execution_count": 565,
   "metadata": {},
   "outputs": [
    {
     "data": {
      "text/plain": [
       "[(0.49105134675565815, 0.12177014009088197, 17.12490439414978),\n",
       " (0.7679166809445286, 0.20116912171203344, 38.73817706108093),\n",
       " (0.9854032771173125, 0.45523751217096536, 91.83217239379883),\n",
       " (0.9954944761764153, 0.492971131240814, 162.19306993484497),\n",
       " (0.9983642516680047, 0.4944033544166741, 244.68287134170532),\n",
       " (0.9992426381624344, 0.48642340201136525, 319.33326482772827),\n",
       " (0.9996602350529881, 0.4867507452259863, 423.03519654273987),\n",
       " (0.9997925033389263, 0.4821342713785624, 463.70052218437195)]"
      ]
     },
     "execution_count": 565,
     "metadata": {},
     "output_type": "execute_result"
    }
   ],
   "source": [
    "results"
   ]
  },
  {
   "cell_type": "markdown",
   "metadata": {},
   "source": [
    "Les prochaines fois, nous utiliserons le duo de fonctions **modelize** et **model_pca** pour effectuer ce type de démarche plus rapidement."
   ]
  },
  {
   "cell_type": "markdown",
   "metadata": {},
   "source": [
    "**Optimisation bayesiène pour N=150**"
   ]
  },
  {
   "cell_type": "code",
   "execution_count": 567,
   "metadata": {},
   "outputs": [],
   "source": [
    "pca = PCA(n_components = 150)\n",
    "pca.fit(X_train_spacy_scaled)\n",
    "X_train_spacy_pca = pca.transform(X_train_spacy_scaled)\n",
    "X_test_spacy_pca = pca.transform(X_test_spacy_scaled)"
   ]
  },
  {
   "cell_type": "code",
   "execution_count": 569,
   "metadata": {
    "jupyter": {
     "source_hidden": true
    }
   },
   "outputs": [],
   "source": [
    "# sauvegardes\n",
    "pickle_out = open(\"Data/X_train_spacy_pca.pickle\", \"wb\")\n",
    "pickle.dump(X_train_spacy_pca, pickle_out)\n",
    "pickle_out.close()\n",
    "\n",
    "pickle_out = open(\"Data/X_test_spacy_pca.pickle\", \"wb\")\n",
    "pickle.dump(X_test_spacy_pca, pickle_out)\n",
    "pickle_out.close()"
   ]
  },
  {
   "cell_type": "code",
   "execution_count": 570,
   "metadata": {},
   "outputs": [
    {
     "name": "stdout",
     "output_type": "stream",
     "text": [
      "l'entrainement a pris 234 secondes\n"
     ]
    }
   ],
   "source": [
    "now = time()\n",
    "xgb_model = xgb.XGBClassifier(objective = \"reg:logistic\", random_state = 47)\n",
    "m_class_spacy = BinaryRelevance(classifier = xgb_model).fit(X_train_spacy_pca, y_train)\n",
    "print(f\"l'entrainement a pris {time() - now:.0f} secondes\")"
   ]
  },
  {
   "cell_type": "code",
   "execution_count": 571,
   "metadata": {},
   "outputs": [
    {
     "data": {
      "text/plain": [
       "0.49479086434200414"
      ]
     },
     "execution_count": 571,
     "metadata": {},
     "output_type": "execute_result"
    }
   ],
   "source": [
    "preds = m_class_spacy.predict(X_test_spacy_pca)\n",
    "\n",
    "f1_score(y_test, \n",
    "         preds, \n",
    "         average = \"weighted\")"
   ]
  },
  {
   "cell_type": "markdown",
   "metadata": {},
   "source": [
    "248 secondes pour une modélisation... Pour un résultat bien meilleure que ce qu'on a eu avant. On va tenter une recherche des meilleurs hyper-paramètres avec la méthode BO, et **sans** validation croisée."
   ]
  },
  {
   "cell_type": "code",
   "execution_count": 572,
   "metadata": {},
   "outputs": [],
   "source": [
    "def bo_m_clas3(max_depth, gamma, n_estimators ,learning_rate, eta):\n",
    "    params = {'max_depth': int(max_depth),\n",
    "              'gamma': gamma,\n",
    "              'n_estimators': int(n_estimators),\n",
    "              'learning_rate': learning_rate,\n",
    "              'subsample': 0.8,\n",
    "              'eta': eta, \n",
    "              'verbosity': 0, \n",
    "              'objective': \"reg:logistic\",\n",
    "              'random_state' : 47#, 'eval_metric': 'f1'\n",
    "             }\n",
    "    \n",
    "    # création du model qu'on va utiliser\n",
    "    xgb_model = xgb.XGBClassifier(**params)\n",
    "    # création du modèle multilabels\n",
    "    m_clas = BinaryRelevance(classifier = xgb_model)\n",
    "    \n",
    "    m_clas.fit(X_train_spacy_pca, y_train)\n",
    "    preds = m_clas.predict(X_test_spacy_pca)\n",
    "\n",
    "    score = f1_score(y_test, preds, average = \"weighted\")\n",
    "    \n",
    "    return score"
   ]
  },
  {
   "cell_type": "code",
   "execution_count": 576,
   "metadata": {},
   "outputs": [],
   "source": [
    "m_clas_bo3 = BayesianOptimization(bo_m_clas3, \n",
    "                                  {'max_depth': (3, 10),\n",
    "                                   'gamma': (0.01, 0.99),\n",
    "                                   'eta' : (0.01, 0.1),\n",
    "                                   'learning_rate':(0.01, 0.99),\n",
    "                                   'n_estimators':(50, 250)}, \n",
    "                                  random_state = 47)"
   ]
  },
  {
   "cell_type": "code",
   "execution_count": 577,
   "metadata": {},
   "outputs": [
    {
     "name": "stdout",
     "output_type": "stream",
     "text": [
      "|   iter    |  target   |    eta    |   gamma   | learni... | max_depth | n_esti... |\n",
      "-------------------------------------------------------------------------------------\n",
      "| \u001b[0m 1       \u001b[0m | \u001b[0m 0.5169  \u001b[0m | \u001b[0m 0.02021 \u001b[0m | \u001b[0m 0.965   \u001b[0m | \u001b[0m 0.7242  \u001b[0m | \u001b[0m 5.46    \u001b[0m | \u001b[0m 191.5   \u001b[0m |\n",
      "| \u001b[0m 2       \u001b[0m | \u001b[0m 0.497   \u001b[0m | \u001b[0m 0.08196 \u001b[0m | \u001b[0m 0.6427  \u001b[0m | \u001b[0m 0.4163  \u001b[0m | \u001b[0m 7.942   \u001b[0m | \u001b[0m 99.33   \u001b[0m |\n",
      "| \u001b[0m 3       \u001b[0m | \u001b[0m 0.4985  \u001b[0m | \u001b[0m 0.03304 \u001b[0m | \u001b[0m 0.03353 \u001b[0m | \u001b[0m 0.1068  \u001b[0m | \u001b[0m 5.103   \u001b[0m | \u001b[0m 178.2   \u001b[0m |\n",
      "| \u001b[95m 4       \u001b[0m | \u001b[95m 0.5273  \u001b[0m | \u001b[95m 0.039   \u001b[0m | \u001b[95m 0.1918  \u001b[0m | \u001b[95m 0.9088  \u001b[0m | \u001b[95m 4.896   \u001b[0m | \u001b[95m 104.7   \u001b[0m |\n",
      "| \u001b[95m 5       \u001b[0m | \u001b[95m 0.5396  \u001b[0m | \u001b[95m 0.0959  \u001b[0m | \u001b[95m 0.1346  \u001b[0m | \u001b[95m 0.7423  \u001b[0m | \u001b[95m 3.037   \u001b[0m | \u001b[95m 221.4   \u001b[0m |\n",
      "| \u001b[0m 6       \u001b[0m | \u001b[0m 0.4895  \u001b[0m | \u001b[0m 0.07494 \u001b[0m | \u001b[0m 0.8244  \u001b[0m | \u001b[0m 0.2579  \u001b[0m | \u001b[0m 6.918   \u001b[0m | \u001b[0m 77.88   \u001b[0m |\n",
      "| \u001b[95m 7       \u001b[0m | \u001b[95m 0.5448  \u001b[0m | \u001b[95m 0.04988 \u001b[0m | \u001b[95m 0.39    \u001b[0m | \u001b[95m 0.3804  \u001b[0m | \u001b[95m 3.126   \u001b[0m | \u001b[95m 209.4   \u001b[0m |\n",
      "| \u001b[0m 8       \u001b[0m | \u001b[0m 0.4983  \u001b[0m | \u001b[0m 0.07489 \u001b[0m | \u001b[0m 0.9617  \u001b[0m | \u001b[0m 0.9789  \u001b[0m | \u001b[0m 5.107   \u001b[0m | \u001b[0m 206.2   \u001b[0m |\n",
      "| \u001b[0m 9       \u001b[0m | \u001b[0m 0.4906  \u001b[0m | \u001b[0m 0.02183 \u001b[0m | \u001b[0m 0.5765  \u001b[0m | \u001b[0m 0.8604  \u001b[0m | \u001b[0m 8.792   \u001b[0m | \u001b[0m 187.4   \u001b[0m |\n",
      "| \u001b[0m 10      \u001b[0m | \u001b[0m 0.5421  \u001b[0m | \u001b[0m 0.06734 \u001b[0m | \u001b[0m 0.4777  \u001b[0m | \u001b[0m 0.3079  \u001b[0m | \u001b[0m 4.758   \u001b[0m | \u001b[0m 213.6   \u001b[0m |\n",
      "| \u001b[0m 11      \u001b[0m | \u001b[0m 0.5017  \u001b[0m | \u001b[0m 0.09608 \u001b[0m | \u001b[0m 0.2469  \u001b[0m | \u001b[0m 0.2378  \u001b[0m | \u001b[0m 7.197   \u001b[0m | \u001b[0m 218.9   \u001b[0m |\n",
      "| \u001b[0m 12      \u001b[0m | \u001b[0m 0.5044  \u001b[0m | \u001b[0m 0.06889 \u001b[0m | \u001b[0m 0.4964  \u001b[0m | \u001b[0m 0.7133  \u001b[0m | \u001b[0m 5.582   \u001b[0m | \u001b[0m 85.6    \u001b[0m |\n",
      "| \u001b[0m 13      \u001b[0m | \u001b[0m 0.4597  \u001b[0m | \u001b[0m 0.0191  \u001b[0m | \u001b[0m 0.6819  \u001b[0m | \u001b[0m 0.1332  \u001b[0m | \u001b[0m 7.178   \u001b[0m | \u001b[0m 107.2   \u001b[0m |\n",
      "| \u001b[0m 14      \u001b[0m | \u001b[0m 0.4923  \u001b[0m | \u001b[0m 0.01591 \u001b[0m | \u001b[0m 0.8965  \u001b[0m | \u001b[0m 0.1689  \u001b[0m | \u001b[0m 5.943   \u001b[0m | \u001b[0m 115.0   \u001b[0m |\n",
      "| \u001b[0m 15      \u001b[0m | \u001b[0m 0.5398  \u001b[0m | \u001b[0m 0.05859 \u001b[0m | \u001b[0m 0.2039  \u001b[0m | \u001b[0m 0.713   \u001b[0m | \u001b[0m 3.276   \u001b[0m | \u001b[0m 164.9   \u001b[0m |\n",
      "=====================================================================================\n",
      "L'optimization a mis : 3953 secondes.\n"
     ]
    }
   ],
   "source": [
    "start = time()\n",
    "m_clas_bo3.maximize(n_iter=10, init_points=5, acq='ucb')\n",
    "print(f\"L'optimization a mis : {time() - start:.0f} secondes.\")"
   ]
  },
  {
   "cell_type": "code",
   "execution_count": 578,
   "metadata": {},
   "outputs": [
    {
     "data": {
      "text/plain": [
       "{'eta': 0.04988373441772504,\n",
       " 'gamma': 0.3899916719809835,\n",
       " 'learning_rate': 0.3803697026606988,\n",
       " 'max_depth': 3.125741502716014,\n",
       " 'n_estimators': 209.3536693510256}"
      ]
     },
     "execution_count": 578,
     "metadata": {},
     "output_type": "execute_result"
    }
   ],
   "source": [
    "best_params_03 = m_clas_bo3.max['params']\n",
    "best_params_03"
   ]
  },
  {
   "cell_type": "code",
   "execution_count": 579,
   "metadata": {},
   "outputs": [],
   "source": [
    "best_params_03['max_depth']= int(best_params_03['max_depth'])\n",
    "best_params_03['n_estimators']= int(best_params_03['n_estimators'])"
   ]
  },
  {
   "cell_type": "code",
   "execution_count": 580,
   "metadata": {},
   "outputs": [],
   "source": [
    "xgb_model3 = xgb.XGBClassifier(objective = \"reg:logistic\", random_state = 47, **best_params_03)\n",
    "# création du modèle multilabels\n",
    "m_clas3 = BinaryRelevance(classifier = xgb_model3)"
   ]
  },
  {
   "cell_type": "code",
   "execution_count": 581,
   "metadata": {},
   "outputs": [
    {
     "name": "stdout",
     "output_type": "stream",
     "text": [
      "L'entrainement a pris 264 secondes\n"
     ]
    }
   ],
   "source": [
    "start = time()\n",
    "m_clas3.fit(X_train_spacy_pca, y_train)\n",
    "print(f\"L'entrainement a pris {time() - start:.0f} secondes\")"
   ]
  },
  {
   "cell_type": "code",
   "execution_count": 582,
   "metadata": {},
   "outputs": [
    {
     "data": {
      "text/plain": [
       "0.5406152229890178"
      ]
     },
     "execution_count": 582,
     "metadata": {},
     "output_type": "execute_result"
    }
   ],
   "source": [
    "pred_03 = m_clas3.predict(X_test_spacy_pca).toarray()\n",
    "f1_score(y_test, \n",
    "         pred_03, \n",
    "         average = \"weighted\")"
   ]
  },
  {
   "cell_type": "code",
   "execution_count": 583,
   "metadata": {
    "jupyter": {
     "source_hidden": true
    }
   },
   "outputs": [],
   "source": [
    "# Sauvegardes\n",
    "\n",
    "pickle_out = open(\"Data/m_clas3.pickle\", \"wb\")\n",
    "pickle.dump(m_clas3, pickle_out)\n",
    "pickle_out.close()\n",
    "\n",
    "pickle_out = open(\"Data/best_params_03.pickle\", \"wb\")\n",
    "pickle.dump(best_params_03, pickle_out)\n",
    "pickle_out.close()\n",
    "\n",
    "pickle_out = open(\"Data/pred_03.pickle\", \"wb\")\n",
    "pickle.dump(pred_03, pickle_out)\n",
    "pickle_out.close()"
   ]
  },
  {
   "cell_type": "markdown",
   "metadata": {},
   "source": [
    "**CRITIQUE**<br>Lors de la vectorisation des questions, le modèle spacy fonctionne en ignorant les mots qui ne sont pas dans son glossaire. Cherchons les..."
   ]
  },
  {
   "cell_type": "code",
   "execution_count": 83,
   "metadata": {},
   "outputs": [
    {
     "name": "stdout",
     "output_type": "stream",
     "text": [
      "Notre modèle spaCy contient 1476296 'mots' ou monogrammes différents\n"
     ]
    }
   ],
   "source": [
    "# lexique de notre modèle :\n",
    "lexique = list(nlp.vocab.strings)\n",
    "\n",
    "print(f\"Notre modèle spaCy contient {len(lexique)} 'mots' ou monogrammes différents\")"
   ]
  },
  {
   "cell_type": "markdown",
   "metadata": {},
   "source": [
    "Recherchons combien de mots de nos données ont été ignorés par le modèle."
   ]
  },
  {
   "cell_type": "code",
   "execution_count": 88,
   "metadata": {},
   "outputs": [
    {
     "name": "stdout",
     "output_type": "stream",
     "text": [
      "Nombre de mots uniques non pris en compte : 46269 sur 62209 mots au total.\n",
      "C'est à dire 74.38% du vocabulaire de notre corpus.\n",
      "Ce décompte a pris 237sec.\n"
     ]
    }
   ],
   "source": [
    "mots_hors_vocab = []\n",
    "mots = []\n",
    "\n",
    "start = time()\n",
    "\n",
    "for elt in feat_train_clean :\n",
    "    \n",
    "    for w in nlp(elt) :\n",
    "        \n",
    "        mots.append(w.text)\n",
    "        \n",
    "        if w.has_vector == False :\n",
    "            \n",
    "            mots_hors_vocab.append(w.text)\n",
    "            \n",
    "mhv_uniques = list(set(mots_hors_vocab))\n",
    "mots_uniques = list(set(mots))\n",
    "\n",
    "temps = time() - start\n",
    "\n",
    "print(f\"Nombre de mots uniques non pris en compte : {len(mhv_uniques)} sur {len(mots_uniques)} mots au total.\")\n",
    "print(f\"C'est à dire {(len(mhv_uniques) / len(mots_uniques))*100:.2f}% du vocabulaire de notre corpus.\")\n",
    "print(f\"Ce décompte a pris {temps:.0f}sec.\")"
   ]
  },
  {
   "cell_type": "markdown",
   "metadata": {},
   "source": [
    "Exemples de mots non pris en compte..."
   ]
  },
  {
   "cell_type": "code",
   "execution_count": 162,
   "metadata": {},
   "outputs": [
    {
     "data": {
      "text/plain": [
       "['nrfnr',\n",
       " 'liptk',\n",
       " 'sun.security.jgss.gsscredentialimpl.addgsscredentialimpl.java',\n",
       " 'httpcodepen.ioanonpendovzdq',\n",
       " 'object.why',\n",
       " 'xlintunchecked',\n",
       " 'car.color',\n",
       " 'printfstring',\n",
       " 'qwe.jpg.how',\n",
       " 'efficientlyany']"
      ]
     },
     "execution_count": 162,
     "metadata": {},
     "output_type": "execute_result"
    }
   ],
   "source": [
    "mhv_uniques[2000:2010]"
   ]
  },
  {
   "cell_type": "markdown",
   "metadata": {},
   "source": [
    "C'est problématique car même avec des résultats encourageants, et même si les mots mis de côté sont d'un registre technique poussé ou concernent du code informatique, on a manifestement perdu beaucoup d'information..."
   ]
  },
  {
   "cell_type": "markdown",
   "metadata": {},
   "source": [
    "Nous allons essayer maintenant le **words embeding Gensim**."
   ]
  },
  {
   "cell_type": "markdown",
   "metadata": {},
   "source": [
    " "
   ]
  },
  {
   "cell_type": "markdown",
   "metadata": {},
   "source": [
    "### **3-) Modèle word2vec pré-entrainé GoogleNews**"
   ]
  },
  {
   "cell_type": "markdown",
   "metadata": {},
   "source": [
    " "
   ]
  },
  {
   "cell_type": "code",
   "execution_count": 26,
   "metadata": {},
   "outputs": [],
   "source": [
    "model_google = gensim.models.KeyedVectors.load_word2vec_format('Data/GoogleNews-vectors-negative300.bin', binary=True)"
   ]
  },
  {
   "cell_type": "code",
   "execution_count": 10,
   "metadata": {},
   "outputs": [],
   "source": [
    "feat_train_gens_tk = [pipe_clsw(t, True, True) for t in feat_train]\n",
    "feat_test_gens_tk = [pipe_clsw(t, True, True) for t in feat_test]"
   ]
  },
  {
   "cell_type": "code",
   "execution_count": 51,
   "metadata": {},
   "outputs": [
    {
     "data": {
      "text/plain": [
       "spacy.tokens.token.Token"
      ]
     },
     "execution_count": 51,
     "metadata": {},
     "output_type": "execute_result"
    }
   ],
   "source": [
    "# Nous devons extraire les texte de nos mots qui sont en fait des objet tokens de SpaCy...\n",
    "type(feat_train_gens_tk[0][0])"
   ]
  },
  {
   "cell_type": "code",
   "execution_count": 22,
   "metadata": {},
   "outputs": [],
   "source": [
    "# Récupération des textes depuis les tokens\n",
    "feat_train_gens = text_from_tok(feat_train_gens_tk)\n",
    "feat_test_gens = text_from_tok(feat_test_gens_tk)"
   ]
  },
  {
   "cell_type": "code",
   "execution_count": 23,
   "metadata": {},
   "outputs": [
    {
     "data": {
      "text/plain": [
       "str"
      ]
     },
     "execution_count": 23,
     "metadata": {},
     "output_type": "execute_result"
    }
   ],
   "source": [
    "# on a bien des tokens en texte maintenant...\n",
    "type(feat_train_gens[0][0])"
   ]
  },
  {
   "cell_type": "code",
   "execution_count": 24,
   "metadata": {
    "jupyter": {
     "source_hidden": true
    }
   },
   "outputs": [],
   "source": [
    "# sauvegarde\n",
    "pickle_out = open(\"Data/feat_train_gens.pickle\", \"wb\")\n",
    "pickle.dump(feat_train_gens, pickle_out)\n",
    "pickle_out.close()\n",
    "\n",
    "pickle_out = open(\"Data/feat_test_gens.pickle\", \"wb\")\n",
    "pickle.dump(feat_test_gens, pickle_out)\n",
    "pickle_out.close()"
   ]
  },
  {
   "cell_type": "markdown",
   "metadata": {},
   "source": [
    "**PROBLEME :**<br>Le word2vec Gensim ne supporte pas, contrairement à SpaCy les mots hors vocabulaire du modèle...<br>Malgré un vaste vocabulaire..."
   ]
  },
  {
   "cell_type": "code",
   "execution_count": 54,
   "metadata": {},
   "outputs": [
    {
     "data": {
      "text/plain": [
       "3000000"
      ]
     },
     "execution_count": 54,
     "metadata": {},
     "output_type": "execute_result"
    }
   ],
   "source": [
    "len(model_google.vocab.keys())"
   ]
  },
  {
   "cell_type": "markdown",
   "metadata": {},
   "source": [
    "...de **3 millions** de mots, voyons combien de mots de nos données ne figurent pas dans ce vocabulaire."
   ]
  },
  {
   "cell_type": "code",
   "execution_count": 55,
   "metadata": {},
   "outputs": [
    {
     "name": "stdout",
     "output_type": "stream",
     "text": [
      "Nombre de mots diférents hors vocabulaire : 48700\n"
     ]
    }
   ],
   "source": [
    "lex = model_google.vocab.keys()\n",
    "\n",
    "mhv_g = []\n",
    "\n",
    "for texte in feat_train_gens :\n",
    "\n",
    "    for mot in texte :\n",
    "        \n",
    "        if mot not in lex :\n",
    "            \n",
    "            mhv_g.append(mot)\n",
    "            \n",
    "mhv_g = list(set(mhv_g))\n",
    "\n",
    "print(f\"Nombre de mots différents hors vocabulaire du modèle : {len(mhv_g)}\")"
   ]
  },
  {
   "cell_type": "markdown",
   "metadata": {},
   "source": [
    "Nous allons devoir opérer un filtrage."
   ]
  },
  {
   "cell_type": "markdown",
   "metadata": {},
   "source": [
    " "
   ]
  },
  {
   "cell_type": "markdown",
   "metadata": {},
   "source": [
    "### **Gensim text \"clean\"**"
   ]
  },
  {
   "cell_type": "markdown",
   "metadata": {},
   "source": [
    "Filtrage de notre corpus afin de ne garder que des mots connus du modèle google."
   ]
  },
  {
   "cell_type": "code",
   "execution_count": 56,
   "metadata": {},
   "outputs": [],
   "source": [
    "feat_train_gens_clean = clean_for_gensim(feat_train_gens, model_google.vocab.keys())\n",
    "feat_test_gens_clean = clean_for_gensim(feat_test_gens, model_google.vocab.keys())"
   ]
  },
  {
   "cell_type": "markdown",
   "metadata": {},
   "source": [
    "Modélisation de nos données par le modèle google."
   ]
  },
  {
   "cell_type": "code",
   "execution_count": 57,
   "metadata": {},
   "outputs": [],
   "source": [
    "X_train_gens = make_gensim_vectors(feat_train_gens_clean, model_google)\n",
    "X_test_gens = make_gensim_vectors(feat_test_gens_clean, model_google)"
   ]
  },
  {
   "cell_type": "code",
   "execution_count": 58,
   "metadata": {
    "jupyter": {
     "source_hidden": true
    }
   },
   "outputs": [],
   "source": [
    "# sauvegardes\n",
    "pickle_out = open(\"Data/X_train_gens.pickle\", \"wb\")\n",
    "pickle.dump(X_train_gens, pickle_out)\n",
    "pickle_out.close()\n",
    "\n",
    "pickle_out = open(\"Data/X_test_gens.pickle\", \"wb\")\n",
    "pickle.dump(X_test_gens, pickle_out)\n",
    "pickle_out.close()"
   ]
  },
  {
   "cell_type": "markdown",
   "metadata": {},
   "source": [
    "**PCA**"
   ]
  },
  {
   "cell_type": "code",
   "execution_count": 44,
   "metadata": {},
   "outputs": [],
   "source": [
    "X_train_gens = pickle.load(open(\"Data/X_train_gens.pickle\", \"rb\"))\n",
    "X_test_gens = pickle.load(open(\"Data/X_test_gens.pickle\", \"rb\"))\n",
    "\n",
    "y_train = pickle.load(open(\"Data/y_train.pickle\", \"rb\"))\n",
    "y_test = pickle.load(open(\"Data/y_test.pickle\", \"rb\"))"
   ]
  },
  {
   "cell_type": "code",
   "execution_count": 59,
   "metadata": {},
   "outputs": [],
   "source": [
    "std = StandardScaler().fit(X_train_gens)\n",
    "X_train_gens_scaled = std.transform(X_train_gens)\n",
    "X_test_gens_scaled = std.transform(X_test_gens)"
   ]
  },
  {
   "cell_type": "markdown",
   "metadata": {},
   "source": [
    "Boucle de modélisation \"out of the box\" en fonction de réduction PCA."
   ]
  },
  {
   "cell_type": "code",
   "execution_count": 60,
   "metadata": {},
   "outputs": [
    {
     "name": "stdout",
     "output_type": "stream",
     "text": [
      "Meilleur score 0.42 pour PCA avec n = 200 expliquant 94% de la variance en 358 secondes.\n"
     ]
    }
   ],
   "source": [
    "liste_n = [5, 10, 50, 100, 150, 200, 250, 300]\n",
    "\n",
    "res = model_pca(liste_n, X_train_gens_scaled, y_train, X_test_gens_scaled, y_test)"
   ]
  },
  {
   "cell_type": "markdown",
   "metadata": {},
   "source": [
    "Nous ne considérons pas que ce résultat décevant mérite une optimisation du modèle... Passons à la création de notre propre modèle word2vec."
   ]
  },
  {
   "cell_type": "markdown",
   "metadata": {},
   "source": [
    " "
   ]
  },
  {
   "cell_type": "markdown",
   "metadata": {},
   "source": [
    "### **4-) Modèle ad-hoc word2vec à 100 dimensions**"
   ]
  },
  {
   "cell_type": "markdown",
   "metadata": {},
   "source": [
    " "
   ]
  },
  {
   "cell_type": "code",
   "execution_count": null,
   "metadata": {},
   "outputs": [],
   "source": [
    "# Création et entrainement du modèle à 100 dimensions...\n",
    "model_w2v = gensim.models.Word2Vec(sentences = feat_train_gens, \n",
    "                                   size = 100, \n",
    "                                   min_count = 1)"
   ]
  },
  {
   "cell_type": "markdown",
   "metadata": {},
   "source": [
    "Vocabulaire total :"
   ]
  },
  {
   "cell_type": "code",
   "execution_count": 62,
   "metadata": {},
   "outputs": [
    {
     "data": {
      "text/plain": [
       "62211"
      ]
     },
     "execution_count": 62,
     "metadata": {},
     "output_type": "execute_result"
    }
   ],
   "source": [
    "len(model_w2v.wv.index2entity)"
   ]
  },
  {
   "cell_type": "markdown",
   "metadata": {},
   "source": [
    "Dix premiers mots du vocabulaire..."
   ]
  },
  {
   "cell_type": "code",
   "execution_count": 63,
   "metadata": {},
   "outputs": [
    {
     "data": {
      "text/plain": [
       "['error',\n",
       " 'nt',\n",
       " 'code',\n",
       " 'm',\n",
       " 'file',\n",
       " 'like',\n",
       " 'use',\n",
       " 'want',\n",
       " 'tried',\n",
       " 'following']"
      ]
     },
     "execution_count": 63,
     "metadata": {},
     "output_type": "execute_result"
    }
   ],
   "source": [
    "model_w2v.wv.index2entity[:10]"
   ]
  },
  {
   "cell_type": "markdown",
   "metadata": {},
   "source": [
    "Obtention du vecteur à 100 dimensions représentant un mot :"
   ]
  },
  {
   "cell_type": "code",
   "execution_count": 64,
   "metadata": {},
   "outputs": [
    {
     "data": {
      "text/plain": [
       "array([-0.31826058,  0.4972509 ,  0.49435705, -2.647892  , -0.26494527,\n",
       "       -1.6657337 , -0.72539943,  1.3213158 ,  0.5772923 , -0.7771791 ,\n",
       "        0.7744524 , -0.44108212,  0.1823054 ,  2.0331523 ,  1.800888  ,\n",
       "        1.6190312 , -2.0224004 ,  1.3922431 , -0.77931726, -0.5322638 ,\n",
       "       -1.5342454 ,  0.31588146, -1.2621872 , -0.5025805 ,  0.19331351,\n",
       "       -1.6167673 , -0.7617966 , -0.00858114,  0.48526704,  0.23851591,\n",
       "        0.91888374, -0.36086366, -0.1372533 , -0.60575914, -0.2626101 ,\n",
       "       -0.5996726 , -1.3044326 , -1.5253217 ,  0.59657055,  1.6535141 ,\n",
       "        2.8380723 ,  0.3027954 ,  0.17825036, -1.0256116 ,  0.9866567 ,\n",
       "       -0.15762284, -0.77320665,  0.92380047,  1.6184607 , -0.19934425,\n",
       "        0.9295886 ,  0.10183082,  0.35655412, -0.5077024 ,  0.7765878 ,\n",
       "        0.8770031 , -2.9213645 , -1.7365096 , -0.99409693, -1.0133057 ,\n",
       "        2.1773367 , -1.1121463 , -1.0099143 , -0.3258325 , -2.2312667 ,\n",
       "       -0.791921  , -1.8667161 ,  0.80201966,  0.9359517 , -1.6169187 ,\n",
       "        2.2909324 , -2.3858817 , -0.7628341 , -0.49671742,  2.3057916 ,\n",
       "       -0.35131803, -1.8775802 ,  0.6923673 , -1.235853  ,  0.87684715,\n",
       "       -0.4936202 ,  0.18439968, -1.0105817 ,  0.34325603, -0.22985503,\n",
       "       -0.07473282,  2.3912637 , -0.80730593, -0.10795585,  1.4379233 ,\n",
       "       -0.1240399 , -1.5047122 , -0.34528613,  0.525331  ,  0.7465613 ,\n",
       "       -0.31356627, -0.8314467 ,  0.9094317 ,  1.5030801 , -2.2905455 ],\n",
       "      dtype=float32)"
      ]
     },
     "execution_count": 64,
     "metadata": {},
     "output_type": "execute_result"
    }
   ],
   "source": [
    "model_w2v[\"error\"]"
   ]
  },
  {
   "cell_type": "markdown",
   "metadata": {},
   "source": [
    "Modélisations de nos données train et test..."
   ]
  },
  {
   "cell_type": "code",
   "execution_count": 65,
   "metadata": {},
   "outputs": [],
   "source": [
    "X_train_w2v = make_gensim_vectors(feat_train_gens, model_w2v)\n",
    "\n",
    "# on doit nettoyer le vocabulaire hors modèle de l'echantillon de test\n",
    "feat_test_gens_clean = clean_for_gensim(feat_test_gens, model_w2v.wv.index2entity)\n",
    "\n",
    "X_test_w2v = make_gensim_vectors(feat_test_gens_clean, model_w2v)"
   ]
  },
  {
   "cell_type": "code",
   "execution_count": 89,
   "metadata": {
    "jupyter": {
     "source_hidden": true
    }
   },
   "outputs": [],
   "source": [
    "# sauvegardes\n",
    "pickle_out = open(\"Data/X_train_w2v.pickle\", \"wb\")\n",
    "pickle.dump(X_train_w2v, pickle_out)\n",
    "pickle_out.close()\n",
    "\n",
    "pickle_out = open(\"Data/X_test_w2v.pickle\", \"wb\")\n",
    "pickle.dump(X_test_w2v, pickle_out)\n",
    "pickle_out.close()"
   ]
  },
  {
   "cell_type": "markdown",
   "metadata": {},
   "source": [
    "**Représentation graphique**"
   ]
  },
  {
   "cell_type": "code",
   "execution_count": 102,
   "metadata": {},
   "outputs": [],
   "source": [
    "df_coord_w2v = pd.DataFrame(X_train_w2v)\n",
    "\n",
    "df_targ = pickle.load(open(\"Data/df_targ.pickle\", \"rb\"))\n",
    "\n",
    "df_tsne_w2v = c_tsne(df_coord_w2v, 60)\n",
    "\n",
    "# Sauvegarde\n",
    "pickle_out = open(\"Data/df_tsne_w2v.pickle\", \"wb\")\n",
    "pickle.dump(df_tsne_w2v, pickle_out)\n",
    "pickle_out.close()"
   ]
  },
  {
   "cell_type": "code",
   "execution_count": 103,
   "metadata": {},
   "outputs": [
    {
     "data": {
      "image/png": "[encoded data removed]",
      "text/plain": [
       "<Figure size 792x792 with 1 Axes>"
      ]
     },
     "metadata": {},
     "output_type": "display_data"
    }
   ],
   "source": [
    "titre = \"Positions moyennes par tag des questions avec modèle W2V Gensim\"\n",
    "\n",
    "annotgraph(df_tsne_w2v, df_targ, (11, 11), titre)"
   ]
  },
  {
   "cell_type": "markdown",
   "metadata": {},
   "source": [
    " "
   ]
  },
  {
   "cell_type": "markdown",
   "metadata": {},
   "source": [
    "**Boucle de modélisation sur réductions PCA**"
   ]
  },
  {
   "cell_type": "code",
   "execution_count": 66,
   "metadata": {},
   "outputs": [],
   "source": [
    "std = StandardScaler().fit(X_train_w2v)\n",
    "X_train_w2v_scaled = std.transform(X_train_w2v)\n",
    "X_test_w2v_scaled = std.transform(X_test_w2v)"
   ]
  },
  {
   "cell_type": "markdown",
   "metadata": {},
   "source": [
    "Boucle de modélisation sur différents nombres de composants PCA"
   ]
  },
  {
   "cell_type": "code",
   "execution_count": 67,
   "metadata": {},
   "outputs": [
    {
     "name": "stdout",
     "output_type": "stream",
     "text": [
      "Meilleur score 0.57 pour PCA avec n = 90 expliquant 100% de la variance en 151 secondes.\n"
     ]
    }
   ],
   "source": [
    "liste_n = [5, 10, 50, 75, 90, 100]\n",
    "\n",
    "res = model_pca(liste_n, X_train_w2v_scaled, y_train, X_test_w2v_scaled, y_test)"
   ]
  },
  {
   "cell_type": "markdown",
   "metadata": {},
   "source": [
    "C'est notre meilleur résultat jusqu'à maintenant. Procédons à une optimisation bayesiène..."
   ]
  },
  {
   "cell_type": "code",
   "execution_count": 69,
   "metadata": {},
   "outputs": [],
   "source": [
    "pca = PCA(n_components = 90)\n",
    "pca.fit(X_train_w2v_scaled)\n",
    "X_train_w2v_pca = pca.transform(X_train_w2v_scaled)\n",
    "X_test_w2v_pca = pca.transform(X_test_w2v_scaled)"
   ]
  },
  {
   "cell_type": "code",
   "execution_count": 70,
   "metadata": {},
   "outputs": [
    {
     "data": {
      "text/plain": [
       "(20000, 90)"
      ]
     },
     "execution_count": 70,
     "metadata": {},
     "output_type": "execute_result"
    }
   ],
   "source": [
    "X_train_w2v_pca.shape"
   ]
  },
  {
   "cell_type": "markdown",
   "metadata": {},
   "source": [
    "**OPTIMISATION**"
   ]
  },
  {
   "cell_type": "code",
   "execution_count": 74,
   "metadata": {},
   "outputs": [],
   "source": [
    "def bo_m_clas4(max_depth, gamma, n_estimators ,learning_rate, eta):\n",
    "    params = {'max_depth': int(max_depth),\n",
    "              'gamma': gamma,\n",
    "              'n_estimators': int(n_estimators),\n",
    "              'learning_rate': learning_rate,\n",
    "              'subsample': 0.8,\n",
    "              'eta': eta, \n",
    "              'verbosity': 0, \n",
    "              'objective': \"reg:logistic\",\n",
    "              'random_state' : 47#, 'eval_metric': 'f1'\n",
    "             }\n",
    "    \n",
    "    # création du model qu'on va utiliser\n",
    "    xgb_model = xgb.XGBClassifier(**params)\n",
    "    # création du modèle multilabels\n",
    "    m_clas = BinaryRelevance(classifier = xgb_model)\n",
    "    \n",
    "    m_clas.fit(X_train_w2v_pca, y_train)\n",
    "    preds = m_clas.predict(X_test_w2v_pca)\n",
    "\n",
    "    score = f1_score(y_test, preds, average = \"weighted\")\n",
    "    \n",
    "    return score"
   ]
  },
  {
   "cell_type": "code",
   "execution_count": 75,
   "metadata": {},
   "outputs": [],
   "source": [
    "m_clas_bo4 = BayesianOptimization(bo_m_clas4, \n",
    "                                  {'max_depth': (3, 10),\n",
    "                                   'gamma': (0.01, 0.999),\n",
    "                                   'eta' : (0.01, 0.1),\n",
    "                                   'learning_rate':(0.001, 0.999),\n",
    "                                   'n_estimators':(50, 250)}, \n",
    "                                  random_state = 47)"
   ]
  },
  {
   "cell_type": "code",
   "execution_count": 76,
   "metadata": {},
   "outputs": [
    {
     "name": "stdout",
     "output_type": "stream",
     "text": [
      "|   iter    |  target   |    eta    |   gamma   | learni... | max_depth | n_esti... |\n",
      "-------------------------------------------------------------------------------------\n",
      "| \u001b[0m 1       \u001b[0m | \u001b[0m 0.5671  \u001b[0m | \u001b[0m 0.02021 \u001b[0m | \u001b[0m 0.9738  \u001b[0m | \u001b[0m 0.7283  \u001b[0m | \u001b[0m 5.46    \u001b[0m | \u001b[0m 191.5   \u001b[0m |\n",
      "| \u001b[0m 2       \u001b[0m | \u001b[0m 0.5586  \u001b[0m | \u001b[0m 0.08196 \u001b[0m | \u001b[0m 0.6485  \u001b[0m | \u001b[0m 0.4148  \u001b[0m | \u001b[0m 7.942   \u001b[0m | \u001b[0m 99.33   \u001b[0m |\n",
      "| \u001b[0m 3       \u001b[0m | \u001b[0m 0.5629  \u001b[0m | \u001b[0m 0.03304 \u001b[0m | \u001b[0m 0.03375 \u001b[0m | \u001b[0m 0.09953 \u001b[0m | \u001b[0m 5.103   \u001b[0m | \u001b[0m 178.2   \u001b[0m |\n",
      "| \u001b[0m 4       \u001b[0m | \u001b[0m 0.5626  \u001b[0m | \u001b[0m 0.039   \u001b[0m | \u001b[0m 0.1935  \u001b[0m | \u001b[0m 0.9164  \u001b[0m | \u001b[0m 4.896   \u001b[0m | \u001b[0m 104.7   \u001b[0m |\n",
      "| \u001b[95m 5       \u001b[0m | \u001b[95m 0.5963  \u001b[0m | \u001b[95m 0.0959  \u001b[0m | \u001b[95m 0.1357  \u001b[0m | \u001b[95m 0.7468  \u001b[0m | \u001b[95m 3.037   \u001b[0m | \u001b[95m 221.4   \u001b[0m |\n",
      "| \u001b[0m 6       \u001b[0m | \u001b[0m 0.5822  \u001b[0m | \u001b[0m 0.1     \u001b[0m | \u001b[0m 0.01    \u001b[0m | \u001b[0m 0.999   \u001b[0m | \u001b[0m 3.0     \u001b[0m | \u001b[0m 240.5   \u001b[0m |\n",
      "| \u001b[0m 7       \u001b[0m | \u001b[0m 0.4186  \u001b[0m | \u001b[0m 0.01    \u001b[0m | \u001b[0m 0.999   \u001b[0m | \u001b[0m 0.001   \u001b[0m | \u001b[0m 10.0    \u001b[0m | \u001b[0m 224.4   \u001b[0m |\n",
      "| \u001b[0m 8       \u001b[0m | \u001b[0m 0.5549  \u001b[0m | \u001b[0m 0.07489 \u001b[0m | \u001b[0m 0.9705  \u001b[0m | \u001b[0m 0.9877  \u001b[0m | \u001b[0m 5.107   \u001b[0m | \u001b[0m 206.2   \u001b[0m |\n",
      "| \u001b[0m 9       \u001b[0m | \u001b[0m 0.5554  \u001b[0m | \u001b[0m 0.02183 \u001b[0m | \u001b[0m 0.5817  \u001b[0m | \u001b[0m 0.8671  \u001b[0m | \u001b[0m 8.792   \u001b[0m | \u001b[0m 187.4   \u001b[0m |\n",
      "| \u001b[0m 10      \u001b[0m | \u001b[0m 0.5862  \u001b[0m | \u001b[0m 0.0868  \u001b[0m | \u001b[0m 0.1793  \u001b[0m | \u001b[0m 0.6638  \u001b[0m | \u001b[0m 4.024   \u001b[0m | \u001b[0m 220.4   \u001b[0m |\n",
      "| \u001b[0m 11      \u001b[0m | \u001b[0m 0.5706  \u001b[0m | \u001b[0m 0.0539  \u001b[0m | \u001b[0m 0.6615  \u001b[0m | \u001b[0m 0.9174  \u001b[0m | \u001b[0m 3.502   \u001b[0m | \u001b[0m 246.1   \u001b[0m |\n",
      "| \u001b[0m 12      \u001b[0m | \u001b[0m 0.5713  \u001b[0m | \u001b[0m 0.09588 \u001b[0m | \u001b[0m 0.03008 \u001b[0m | \u001b[0m 0.6735  \u001b[0m | \u001b[0m 8.79    \u001b[0m | \u001b[0m 241.8   \u001b[0m |\n",
      "| \u001b[0m 13      \u001b[0m | \u001b[0m 0.5707  \u001b[0m | \u001b[0m 0.1     \u001b[0m | \u001b[0m 0.9941  \u001b[0m | \u001b[0m 0.999   \u001b[0m | \u001b[0m 3.0     \u001b[0m | \u001b[0m 215.0   \u001b[0m |\n",
      "| \u001b[0m 14      \u001b[0m | \u001b[0m 0.5539  \u001b[0m | \u001b[0m 0.01621 \u001b[0m | \u001b[0m 0.126   \u001b[0m | \u001b[0m 0.9308  \u001b[0m | \u001b[0m 9.766   \u001b[0m | \u001b[0m 249.9   \u001b[0m |\n",
      "| \u001b[0m 15      \u001b[0m | \u001b[0m 0.5793  \u001b[0m | \u001b[0m 0.01    \u001b[0m | \u001b[0m 0.01    \u001b[0m | \u001b[0m 0.999   \u001b[0m | \u001b[0m 3.0     \u001b[0m | \u001b[0m 234.7   \u001b[0m |\n",
      "=====================================================================================\n",
      "L'optimization a mis : 3036 secondes.\n"
     ]
    }
   ],
   "source": [
    "start = time()\n",
    "m_clas_bo4.maximize(n_iter=10, init_points=5, acq='ucb')\n",
    "print(f\"L'optimization a mis : {time() - start:.0f} secondes.\")"
   ]
  },
  {
   "cell_type": "code",
   "execution_count": 77,
   "metadata": {},
   "outputs": [
    {
     "data": {
      "text/plain": [
       "{'eta': 0.09589714141586884,\n",
       " 'gamma': 0.13571631077741386,\n",
       " 'learning_rate': 0.7467703201796124,\n",
       " 'max_depth': 3.0366656898923186,\n",
       " 'n_estimators': 221.35812157287305}"
      ]
     },
     "execution_count": 77,
     "metadata": {},
     "output_type": "execute_result"
    }
   ],
   "source": [
    "best_params_04 = m_clas_bo4.max['params']\n",
    "best_params_04"
   ]
  },
  {
   "cell_type": "code",
   "execution_count": 78,
   "metadata": {},
   "outputs": [],
   "source": [
    "best_params_04['max_depth']= int(best_params_04['max_depth'])\n",
    "best_params_04['n_estimators']= int(best_params_04['n_estimators'])"
   ]
  },
  {
   "cell_type": "code",
   "execution_count": 79,
   "metadata": {},
   "outputs": [],
   "source": [
    "xgb_model4 = xgb.XGBClassifier(objective = \"reg:logistic\", random_state = 47, **best_params_04)\n",
    "# création du modèle multilabels\n",
    "m_clas4 = BinaryRelevance(classifier = xgb_model4)"
   ]
  },
  {
   "cell_type": "code",
   "execution_count": 80,
   "metadata": {},
   "outputs": [
    {
     "name": "stdout",
     "output_type": "stream",
     "text": [
      "L'entrainement a pris 194 secondes\n"
     ]
    }
   ],
   "source": [
    "start = time()\n",
    "m_clas4.fit(X_train_w2v_pca, y_train)\n",
    "print(f\"L'entrainement a pris {time() - start:.0f} secondes\")"
   ]
  },
  {
   "cell_type": "code",
   "execution_count": 81,
   "metadata": {},
   "outputs": [
    {
     "data": {
      "text/plain": [
       "0.5961856496481222"
      ]
     },
     "execution_count": 81,
     "metadata": {},
     "output_type": "execute_result"
    }
   ],
   "source": [
    "pred_04 = m_clas4.predict(X_test_w2v_pca).toarray()\n",
    "f1_score(y_test, \n",
    "         pred_04, \n",
    "         average = \"weighted\")"
   ]
  },
  {
   "cell_type": "markdown",
   "metadata": {},
   "source": [
    "Encore une fois, on améliore les résultats obtenus jusqu'à présent. Essayons maintenant le word-embedding obtenu grâce à un modèle **FastText**."
   ]
  },
  {
   "cell_type": "code",
   "execution_count": 82,
   "metadata": {},
   "outputs": [],
   "source": [
    "# Sauvegardes\n",
    "pickle_out = open(\"Data/m_clas4.pickle\", \"wb\")\n",
    "pickle.dump(m_clas4, pickle_out)\n",
    "pickle_out.close()\n",
    "\n",
    "pickle_out = open(\"Data/best_params_04.pickle\", \"wb\")\n",
    "pickle.dump(best_params_04, pickle_out)\n",
    "pickle_out.close()\n",
    "\n",
    "pickle_out = open(\"Data/pred_04.pickle\", \"wb\")\n",
    "pickle.dump(pred_04, pickle_out)\n",
    "pickle_out.close()"
   ]
  },
  {
   "cell_type": "markdown",
   "metadata": {},
   "source": [
    "### **5-) Modèle ad-hoc FastText**"
   ]
  },
  {
   "cell_type": "markdown",
   "metadata": {},
   "source": [
    " "
   ]
  },
  {
   "cell_type": "markdown",
   "metadata": {},
   "source": [
    "**Création d'un modèle FastText pas à pas**"
   ]
  },
  {
   "cell_type": "markdown",
   "metadata": {},
   "source": [
    "Création du modèle"
   ]
  },
  {
   "cell_type": "code",
   "execution_count": 38,
   "metadata": {},
   "outputs": [],
   "source": [
    "model_ft = FastText(size=100, window=10, min_count=2, seed = 47)"
   ]
  },
  {
   "cell_type": "markdown",
   "metadata": {},
   "source": [
    "Création du vocabulaire"
   ]
  },
  {
   "cell_type": "code",
   "execution_count": 39,
   "metadata": {},
   "outputs": [],
   "source": [
    "model_ft.build_vocab(sentences = feat_train_gens)"
   ]
  },
  {
   "cell_type": "markdown",
   "metadata": {},
   "source": [
    "Regardons le vecteur d'un mot avant entraînement."
   ]
  },
  {
   "cell_type": "code",
   "execution_count": 85,
   "metadata": {},
   "outputs": [
    {
     "data": {
      "text/plain": [
       "array([-2.4413185e-04, -4.6436209e-03,  1.6983330e-03,  3.6927857e-03,\n",
       "        1.7164272e-03, -4.7118631e-03,  3.1072025e-03,  4.8524728e-03,\n",
       "       -8.1262545e-04, -3.8095473e-03,  1.2497412e-03, -4.6072495e-03,\n",
       "       -1.7519478e-03, -4.7682738e-03,  9.1973183e-05, -1.1011118e-03,\n",
       "        4.1487394e-03,  1.1862753e-03,  4.9976767e-03, -1.1266258e-03,\n",
       "        4.5588370e-03, -4.7933403e-03, -1.9303147e-03, -2.7580031e-03,\n",
       "        5.0129893e-04,  4.3895938e-03, -1.5044528e-03,  2.5775870e-03,\n",
       "        2.8558872e-03, -1.9079596e-03, -1.2728169e-03, -2.1136357e-03,\n",
       "       -3.7687735e-03,  4.9733726e-04, -8.2158303e-04, -2.8132519e-03,\n",
       "       -1.7963051e-03, -2.4820901e-03,  2.6687169e-03, -2.3457860e-03,\n",
       "        3.3561932e-03, -3.0154462e-03,  2.2650412e-03, -2.2130595e-03,\n",
       "       -4.7711702e-03, -2.4327363e-03, -2.8532636e-03,  3.5343599e-03,\n",
       "       -3.6438643e-03,  3.5576965e-03,  1.8383788e-04, -2.3047775e-03,\n",
       "        1.7664213e-03, -3.5851905e-03, -1.1635149e-03, -1.0919272e-05,\n",
       "        2.1477870e-03,  2.8382880e-03,  2.3165348e-03, -1.1485253e-03,\n",
       "        2.4906837e-03, -4.1923150e-03, -3.0383421e-04, -2.0035851e-04,\n",
       "        1.8806913e-03,  4.2050984e-03, -1.3488377e-03,  2.4047426e-03,\n",
       "       -2.5006749e-03,  7.4427109e-04,  1.2409108e-03,  3.2398438e-03,\n",
       "       -7.2976586e-04, -3.7741128e-03,  1.1103516e-03, -1.0499883e-03,\n",
       "       -1.9734367e-03, -4.5824950e-03, -1.9788931e-03, -1.9607292e-03,\n",
       "        6.7827449e-04,  2.5725386e-03,  1.3177830e-03,  1.9627688e-03,\n",
       "       -4.4573608e-04, -2.6868598e-03,  2.7141729e-03,  3.7264435e-03,\n",
       "        4.6877232e-03, -3.3601988e-03,  2.0433611e-03, -4.4343373e-04,\n",
       "        4.6278164e-03, -4.8358347e-03, -2.4543786e-03, -2.7009277e-03,\n",
       "       -4.3168809e-04, -2.0567712e-03, -2.7563290e-03,  2.0397208e-03],\n",
       "      dtype=float32)"
      ]
     },
     "execution_count": 85,
     "metadata": {},
     "output_type": "execute_result"
    }
   ],
   "source": [
    "model_ft['bash']"
   ]
  },
  {
   "cell_type": "markdown",
   "metadata": {},
   "source": [
    "Entraînement du modèle"
   ]
  },
  {
   "cell_type": "code",
   "execution_count": 40,
   "metadata": {},
   "outputs": [
    {
     "name": "stdout",
     "output_type": "stream",
     "text": [
      "L'entrainement a pris 64 secondes\n"
     ]
    }
   ],
   "source": [
    "start = time()\n",
    "model_ft.train(sentences = feat_train_gens, total_examples=len(feat_train_gens), epochs=15)\n",
    "print(f\"L'entrainement a pris {time() - start:.0f} secondes\")"
   ]
  },
  {
   "cell_type": "markdown",
   "metadata": {},
   "source": [
    "Vecteur du mot \"bash\" après entraînement..."
   ]
  },
  {
   "cell_type": "code",
   "execution_count": 87,
   "metadata": {},
   "outputs": [
    {
     "data": {
      "text/plain": [
       "array([-4.264452  , -0.22475463, -0.6798939 , -1.1425767 , -0.7151687 ,\n",
       "        0.43066147,  2.7647462 ,  0.83653617,  0.88253874,  2.3862953 ,\n",
       "       -0.94957596, -3.4297674 , -0.03088828,  1.3999194 ,  1.0941017 ,\n",
       "        0.5574567 ,  0.24036962, -0.1220824 ,  1.6853569 , -0.62314725,\n",
       "       -1.2285213 , -3.1366668 , -1.3463801 ,  0.9775131 , -1.9009361 ,\n",
       "        2.3634133 ,  2.9555817 ,  1.276855  ,  0.34538504, -0.11842585,\n",
       "       -0.6486669 , -0.9703036 , -5.3995256 ,  3.6658692 , -0.34090784,\n",
       "        0.42201158,  1.6624131 , -3.350765  , -2.5385492 , -1.8770199 ,\n",
       "        3.4048188 , -1.6093658 , -1.6537098 , -2.3446763 , -1.5798622 ,\n",
       "       -0.12456157, -0.6791476 ,  1.4568233 , -2.1711617 ,  3.666011  ,\n",
       "        2.472118  ,  1.7243441 , -0.29309547, -3.525274  , -2.9301505 ,\n",
       "        1.3034683 , -3.0330215 , -1.5448323 , -4.3417773 , -1.7727447 ,\n",
       "        0.57120377, -1.417058  , -2.1858351 ,  1.1049399 , -3.4652884 ,\n",
       "       -0.33381957, -2.2226858 , -1.6275798 , -1.4392229 , -1.078005  ,\n",
       "       -1.1154851 , -2.0438898 , -0.44516933, -1.0791632 ,  1.7500211 ,\n",
       "       -2.5460532 , -4.211822  ,  2.1409032 , -2.4307745 ,  2.9348028 ,\n",
       "        0.51304525, -3.9897103 ,  0.08013404,  0.51631314, -0.3097295 ,\n",
       "       -0.5096081 ,  0.69653225, -0.4833501 ,  1.3366528 ,  0.28786114,\n",
       "        1.5909363 ,  0.13531591, -1.8884822 , -1.7904007 ,  1.5678945 ,\n",
       "        2.2645395 , -3.7103262 , -0.9246533 ,  0.6614028 ,  1.3699335 ],\n",
       "      dtype=float32)"
      ]
     },
     "execution_count": 87,
     "metadata": {},
     "output_type": "execute_result"
    }
   ],
   "source": [
    "model_ft['bash']"
   ]
  },
  {
   "cell_type": "markdown",
   "metadata": {},
   "source": [
    "Modélisation de nos données avec le modèle FastText entraîné"
   ]
  },
  {
   "cell_type": "code",
   "execution_count": 88,
   "metadata": {},
   "outputs": [],
   "source": [
    "X_train_ft = make_gensim_vectors(feat_train_gens, model_ft)\n",
    "\n",
    "# Fast text gère les \"nouveaux mots\" absents de son vocabulaire initial...\n",
    "# inutile de nettoyer les données test du vocabulaire manquant...\n",
    "X_test_ft = make_gensim_vectors(feat_test_gens, model_ft)"
   ]
  },
  {
   "cell_type": "code",
   "execution_count": 90,
   "metadata": {
    "jupyter": {
     "source_hidden": true
    }
   },
   "outputs": [],
   "source": [
    "# Sauvegardes des données et du modèle FastText\n",
    "model_ft.save(\"Data/model_ft.bin\")\n",
    "\n",
    "pickle_out = open(\"Data/X_train_ft.pickle\", \"wb\")\n",
    "pickle.dump(X_train_ft, pickle_out)\n",
    "pickle_out.close()\n",
    "\n",
    "pickle_out = open(\"Data/X_test_ft.pickle\", \"wb\")\n",
    "pickle.dump(X_test_ft, pickle_out)\n",
    "pickle_out.close()"
   ]
  },
  {
   "cell_type": "markdown",
   "metadata": {},
   "source": [
    "**Représentation graphique**"
   ]
  },
  {
   "cell_type": "code",
   "execution_count": 104,
   "metadata": {},
   "outputs": [],
   "source": [
    "df_coord_ft = pd.DataFrame(X_train_ft)\n",
    "\n",
    "df_targ = pickle.load(open(\"Data/df_targ.pickle\", \"rb\"))\n",
    "\n",
    "df_tsne_ft = c_tsne(df_coord_ft, 60)\n",
    "\n",
    "# Sauvegarde\n",
    "pickle_out = open(\"Data/df_tsne_ft.pickle\", \"wb\")\n",
    "pickle.dump(df_tsne_ft, pickle_out)\n",
    "pickle_out.close()"
   ]
  },
  {
   "cell_type": "code",
   "execution_count": 105,
   "metadata": {},
   "outputs": [
    {
     "data": {
      "image/png": "[encoded data removed]",
      "text/plain": [
       "<Figure size 792x792 with 1 Axes>"
      ]
     },
     "metadata": {},
     "output_type": "display_data"
    }
   ],
   "source": [
    "titre = \"Positions moyennes par tag des questions avec modèle Fast-Text\"\n",
    "\n",
    "annotgraph(df_tsne_ft, df_targ, (11, 11), titre)"
   ]
  },
  {
   "cell_type": "markdown",
   "metadata": {},
   "source": [
    " "
   ]
  },
  {
   "cell_type": "markdown",
   "metadata": {},
   "source": [
    "**Boucle de modélisation sur réductions PCA**"
   ]
  },
  {
   "cell_type": "code",
   "execution_count": 257,
   "metadata": {},
   "outputs": [],
   "source": [
    "std = StandardScaler().fit(X_train_ft)\n",
    "X_train_ft_scaled = std.transform(X_train_ft)\n",
    "X_test_ft_scaled = std.transform(X_test_ft)"
   ]
  },
  {
   "cell_type": "code",
   "execution_count": 93,
   "metadata": {},
   "outputs": [
    {
     "name": "stdout",
     "output_type": "stream",
     "text": [
      "Meilleur score 0.60 pour PCA avec n = 75 expliquant 99% de la variance en 132 secondes.\n"
     ]
    }
   ],
   "source": [
    "liste_n = [5, 10, 50, 75, 90, 100]\n",
    "\n",
    "res = model_pca(liste_n, X_train_ft_scaled, y_train, X_test_ft_scaled, y_test)"
   ]
  },
  {
   "cell_type": "markdown",
   "metadata": {},
   "source": [
    "Résultats toujours plus encourageants...<br>On passe à l'optimisation..."
   ]
  },
  {
   "cell_type": "code",
   "execution_count": 258,
   "metadata": {},
   "outputs": [],
   "source": [
    "pca = PCA(n_components = 75)\n",
    "pca.fit(X_train_ft_scaled)\n",
    "X_train_ft_pca = pca.transform(X_train_ft_scaled)\n",
    "X_test_ft_pca = pca.transform(X_test_ft_scaled)"
   ]
  },
  {
   "cell_type": "code",
   "execution_count": 259,
   "metadata": {
    "jupyter": {
     "source_hidden": true
    }
   },
   "outputs": [],
   "source": [
    "# sauvegardes\n",
    "pickle_out = open(\"Data/std.pickle\", \"wb\")\n",
    "pickle.dump(std, pickle_out)\n",
    "pickle_out.close()\n",
    "\n",
    "pickle_out = open(\"Data/pca.pickle\", \"wb\")\n",
    "pickle.dump(pca, pickle_out)\n",
    "pickle_out.close()\n",
    "\n",
    "pickle_out = open(\"Data/X_train_ft_pca.pickle\", \"wb\")\n",
    "pickle.dump(X_train_ft_pca, pickle_out)\n",
    "pickle_out.close()\n",
    "\n",
    "pickle_out = open(\"Data/X_test_ft_pca.pickle\", \"wb\")\n",
    "pickle.dump(X_test_ft_pca, pickle_out)\n",
    "pickle_out.close()"
   ]
  },
  {
   "cell_type": "code",
   "execution_count": 62,
   "metadata": {},
   "outputs": [],
   "source": [
    "X_train_ft_pca = pickle.load(open(\"Data/X_train_ft_pca.pickle\", \"rb\"))"
   ]
  },
  {
   "cell_type": "code",
   "execution_count": 95,
   "metadata": {},
   "outputs": [],
   "source": [
    "def bo_m_clas5(max_depth, gamma, n_estimators ,learning_rate, eta):\n",
    "    params = {'max_depth': int(max_depth),\n",
    "              'gamma': gamma,\n",
    "              'n_estimators': int(n_estimators),\n",
    "              'learning_rate': learning_rate,\n",
    "              'subsample': 0.8,\n",
    "              'eta': eta, \n",
    "              'verbosity': 0, \n",
    "              'objective': \"reg:logistic\",\n",
    "              'random_state' : 47#, 'eval_metric': 'f1'\n",
    "             }\n",
    "    \n",
    "    # création du model qu'on va utiliser\n",
    "    xgb_model = xgb.XGBClassifier(**params)\n",
    "    # création du modèle multilabels\n",
    "    m_clas = BinaryRelevance(classifier = xgb_model)\n",
    "    \n",
    "    m_clas.fit(X_train_ft_pca, y_train)\n",
    "    preds = m_clas.predict(X_test_ft_pca)\n",
    "\n",
    "    score = f1_score(y_test, preds, average = \"weighted\")\n",
    "    \n",
    "    return score"
   ]
  },
  {
   "cell_type": "code",
   "execution_count": 96,
   "metadata": {},
   "outputs": [],
   "source": [
    "m_clas_bo5 = BayesianOptimization(bo_m_clas5, \n",
    "                                  {'max_depth': (3, 10),\n",
    "                                   'gamma': (0.01, 0.999),\n",
    "                                   'eta' : (0.01, 0.1),\n",
    "                                   'learning_rate':(0.001, 0.999),\n",
    "                                   'n_estimators':(50, 250)}, \n",
    "                                  random_state = 47)"
   ]
  },
  {
   "cell_type": "code",
   "execution_count": 97,
   "metadata": {},
   "outputs": [
    {
     "name": "stdout",
     "output_type": "stream",
     "text": [
      "|   iter    |  target   |    eta    |   gamma   | learni... | max_depth | n_esti... |\n",
      "-------------------------------------------------------------------------------------\n",
      "| \u001b[0m 1       \u001b[0m | \u001b[0m 0.5968  \u001b[0m | \u001b[0m 0.02021 \u001b[0m | \u001b[0m 0.9738  \u001b[0m | \u001b[0m 0.7283  \u001b[0m | \u001b[0m 5.46    \u001b[0m | \u001b[0m 191.5   \u001b[0m |\n",
      "| \u001b[0m 2       \u001b[0m | \u001b[0m 0.5928  \u001b[0m | \u001b[0m 0.08196 \u001b[0m | \u001b[0m 0.6485  \u001b[0m | \u001b[0m 0.4148  \u001b[0m | \u001b[0m 7.942   \u001b[0m | \u001b[0m 99.33   \u001b[0m |\n",
      "| \u001b[0m 3       \u001b[0m | \u001b[0m 0.5941  \u001b[0m | \u001b[0m 0.03304 \u001b[0m | \u001b[0m 0.03375 \u001b[0m | \u001b[0m 0.09953 \u001b[0m | \u001b[0m 5.103   \u001b[0m | \u001b[0m 178.2   \u001b[0m |\n",
      "| \u001b[95m 4       \u001b[0m | \u001b[95m 0.5996  \u001b[0m | \u001b[95m 0.039   \u001b[0m | \u001b[95m 0.1935  \u001b[0m | \u001b[95m 0.9164  \u001b[0m | \u001b[95m 4.896   \u001b[0m | \u001b[95m 104.7   \u001b[0m |\n",
      "| \u001b[95m 5       \u001b[0m | \u001b[95m 0.617   \u001b[0m | \u001b[95m 0.0959  \u001b[0m | \u001b[95m 0.1357  \u001b[0m | \u001b[95m 0.7468  \u001b[0m | \u001b[95m 3.037   \u001b[0m | \u001b[95m 221.4   \u001b[0m |\n",
      "| \u001b[95m 6       \u001b[0m | \u001b[95m 0.6171  \u001b[0m | \u001b[95m 0.09751 \u001b[0m | \u001b[95m 0.8148  \u001b[0m | \u001b[95m 0.6484  \u001b[0m | \u001b[95m 3.22    \u001b[0m | \u001b[95m 220.9   \u001b[0m |\n",
      "| \u001b[0m 7       \u001b[0m | \u001b[0m 0.435   \u001b[0m | \u001b[0m 0.01    \u001b[0m | \u001b[0m 0.999   \u001b[0m | \u001b[0m 0.001   \u001b[0m | \u001b[0m 10.0    \u001b[0m | \u001b[0m 238.7   \u001b[0m |\n",
      "| \u001b[0m 8       \u001b[0m | \u001b[0m 0.5874  \u001b[0m | \u001b[0m 0.02378 \u001b[0m | \u001b[0m 0.7569  \u001b[0m | \u001b[0m 0.3278  \u001b[0m | \u001b[0m 9.823   \u001b[0m | \u001b[0m 130.0   \u001b[0m |\n",
      "| \u001b[0m 9       \u001b[0m | \u001b[0m 0.6162  \u001b[0m | \u001b[0m 0.0449  \u001b[0m | \u001b[0m 0.1539  \u001b[0m | \u001b[0m 0.5212  \u001b[0m | \u001b[0m 3.015   \u001b[0m | \u001b[0m 208.1   \u001b[0m |\n",
      "| \u001b[0m 10      \u001b[0m | \u001b[0m 0.587   \u001b[0m | \u001b[0m 0.03434 \u001b[0m | \u001b[0m 0.6594  \u001b[0m | \u001b[0m 0.9031  \u001b[0m | \u001b[0m 3.647   \u001b[0m | \u001b[0m 50.2    \u001b[0m |\n",
      "| \u001b[0m 11      \u001b[0m | \u001b[0m 0.6163  \u001b[0m | \u001b[0m 0.08931 \u001b[0m | \u001b[0m 0.5836  \u001b[0m | \u001b[0m 0.5911  \u001b[0m | \u001b[0m 3.001   \u001b[0m | \u001b[0m 153.9   \u001b[0m |\n",
      "| \u001b[0m 12      \u001b[0m | \u001b[0m 0.5802  \u001b[0m | \u001b[0m 0.01    \u001b[0m | \u001b[0m 0.01    \u001b[0m | \u001b[0m 0.999   \u001b[0m | \u001b[0m 3.0     \u001b[0m | \u001b[0m 74.61   \u001b[0m |\n",
      "| \u001b[0m 13      \u001b[0m | \u001b[0m 0.5569  \u001b[0m | \u001b[0m 0.01    \u001b[0m | \u001b[0m 0.999   \u001b[0m | \u001b[0m 0.999   \u001b[0m | \u001b[0m 10.0    \u001b[0m | \u001b[0m 163.6   \u001b[0m |\n",
      "| \u001b[0m 14      \u001b[0m | \u001b[0m 0.592   \u001b[0m | \u001b[0m 0.1     \u001b[0m | \u001b[0m 0.01    \u001b[0m | \u001b[0m 0.999   \u001b[0m | \u001b[0m 3.0     \u001b[0m | \u001b[0m 142.7   \u001b[0m |\n",
      "| \u001b[0m 15      \u001b[0m | \u001b[0m 0.5849  \u001b[0m | \u001b[0m 0.01    \u001b[0m | \u001b[0m 0.01    \u001b[0m | \u001b[0m 0.999   \u001b[0m | \u001b[0m 10.0    \u001b[0m | \u001b[0m 213.5   \u001b[0m |\n",
      "=====================================================================================\n",
      "L'optimization a mis : 2126 secondes.\n"
     ]
    }
   ],
   "source": [
    "start = time()\n",
    "m_clas_bo5.maximize(n_iter=10, init_points=5, acq='ucb')\n",
    "print(f\"L'optimization a mis : {time() - start:.0f} secondes.\")"
   ]
  },
  {
   "cell_type": "code",
   "execution_count": 98,
   "metadata": {},
   "outputs": [],
   "source": [
    "best_params_05 = m_clas_bo5.max['params']\n",
    "\n",
    "best_params_05['max_depth']= int(best_params_05['max_depth'])\n",
    "best_params_05['n_estimators']= int(best_params_05['n_estimators'])"
   ]
  },
  {
   "cell_type": "code",
   "execution_count": 60,
   "metadata": {},
   "outputs": [],
   "source": [
    "xgb_model5 = xgb.XGBClassifier(objective = \"reg:logistic\", random_state = 47, **best_params_05)\n",
    "# création du modèle multilabels\n",
    "m_clas5 = BinaryRelevance(classifier = xgb_model5)"
   ]
  },
  {
   "cell_type": "code",
   "execution_count": 64,
   "metadata": {},
   "outputs": [
    {
     "name": "stdout",
     "output_type": "stream",
     "text": [
      "L'entrainement a pris 184 secondes\n"
     ]
    }
   ],
   "source": [
    "start = time()\n",
    "m_clas5.fit(X_train_ft_pca, y_train)\n",
    "print(f\"L'entrainement a pris {time() - start:.0f} secondes\")"
   ]
  },
  {
   "cell_type": "code",
   "execution_count": 65,
   "metadata": {},
   "outputs": [
    {
     "data": {
      "text/plain": [
       "0.6096856090636585"
      ]
     },
     "execution_count": 65,
     "metadata": {},
     "output_type": "execute_result"
    }
   ],
   "source": [
    "pred_05 = m_clas5.predict(X_test_ft_pca).toarray()\n",
    "f1_score(y_test, \n",
    "         pred_05, \n",
    "         average = \"weighted\")"
   ]
  },
  {
   "cell_type": "markdown",
   "metadata": {},
   "source": [
    "Il s'agit du meilleur résultat obtenu.<br>De toutes les options essayées, la modélisation **FastText**, réputée pour son efficacité dans les cas où l'on entraîne son propre modèle sur une quantité modérée de données, est la meilleure."
   ]
  },
  {
   "cell_type": "code",
   "execution_count": 106,
   "metadata": {
    "jupyter": {
     "source_hidden": true
    }
   },
   "outputs": [],
   "source": [
    "# Sauvegardes\n",
    "pickle_out = open(\"Data/m_clas5.pickle\", \"wb\")\n",
    "pickle.dump(m_clas5, pickle_out)\n",
    "pickle_out.close()\n",
    "\n",
    "pickle_out = open(\"Data/best_params_05.pickle\", \"wb\")\n",
    "pickle.dump(best_params_05, pickle_out)\n",
    "pickle_out.close()\n",
    "\n",
    "pickle_out = open(\"Data/xgb_model5.pickle\", \"wb\")\n",
    "pickle.dump(xgb_model5, pickle_out)\n",
    "pickle_out.close()\n",
    "\n",
    "pickle_out = open(\"Data/pred_05.pickle\", \"wb\")\n",
    "pickle.dump(pred_05, pickle_out)\n",
    "pickle_out.close()\n",
    "\n",
    "pickle_out = open(\"Data/m_clas5.pickle\", \"wb\")\n",
    "pickle.dump(m_clas5, pickle_out)\n",
    "pickle_out.close()"
   ]
  },
  {
   "cell_type": "markdown",
   "metadata": {},
   "source": [
    " "
   ]
  },
  {
   "cell_type": "markdown",
   "metadata": {},
   "source": [
    "# **3-) Recours au Deep Learning**"
   ]
  },
  {
   "cell_type": "markdown",
   "metadata": {},
   "source": [
    " "
   ]
  },
  {
   "cell_type": "markdown",
   "metadata": {},
   "source": [
    "Notre projet a été rendu plus compliqué par son cadre de classification multi-label.<br><br>Or, il s'avère que le **deep learning** gère **nativement** le multi-label pour peu qu'on respecte certaines conditions, à savoir que la couche de sortie :<br>- dispose d'autant de neurones qu'on a de labels<br>- ait une activation **sigmoïde**.<br><br>Nous allons donc tester un **réseau de neurones** sur les données à partir desquelles nous avons obtenus les meilleurs résultats, celle du modèle **Fast-Text** réduites par PCA à 75 dimensions."
   ]
  },
  {
   "cell_type": "code",
   "execution_count": 34,
   "metadata": {},
   "outputs": [],
   "source": [
    "# chargement des données\n",
    "X_train_ft_pca = pickle.load(open(\"Data/X_train_ft_pca.pickle\", \"rb\"))\n",
    "X_test_ft_pca = pickle.load(open(\"Data/X_test_ft_pca.pickle\", \"rb\"))\n",
    "\n",
    "y_train = pickle.load(open(\"Data/y_train.pickle\", \"rb\"))\n",
    "y_train = y_train.toarray()\n",
    "y_test = pickle.load(open(\"Data/y_test.pickle\", \"rb\"))\n",
    "y_test = y_test.toarray()"
   ]
  },
  {
   "cell_type": "markdown",
   "metadata": {},
   "source": [
    "Fonctions utilisées pour cette modélisation :"
   ]
  },
  {
   "cell_type": "code",
   "execution_count": 35,
   "metadata": {},
   "outputs": [],
   "source": [
    "def model_nn(model, epoch, save):\n",
    "    \"\"\"\n",
    "    Fonction de modélisation à l'aide d'un réseau neuronal.\n",
    "    \"\"\"\n",
    "    checkpoint = ModelCheckpoint(filepath = save, \n",
    "                                 monitor = \"val_accuracy\",\n",
    "                                 verbose = 1,\n",
    "                                 save_best_only = True)\n",
    "    \n",
    "    history = model.fit(X_train_ft_pca, \n",
    "                        y_train,\n",
    "                        epochs = epoch,\n",
    "                        batch_size = 32,\n",
    "                        validation_split = 0.2,\n",
    "                        callbacks = [checkpoint])\n",
    "    \n",
    "    val_acc = history.history['val_accuracy'][-1]\n",
    "    \n",
    "    preds = model.predict(X_test_ft_pca)\n",
    "    \n",
    "    pred = preds.round()\n",
    "    \n",
    "    f1_sc = f1_score(y_test,\n",
    "                     pred,\n",
    "                     average = \"weighted\")\n",
    "    \n",
    "    return val_acc, f1_sc "
   ]
  },
  {
   "cell_type": "code",
   "execution_count": 36,
   "metadata": {},
   "outputs": [],
   "source": [
    "def loop(liste_ep, model, save):\n",
    "    \"\"\"\n",
    "    Fonction permettant d'opérer une boucle de modélisations à partir d'une liste de nombre d'epochs\n",
    "    d'entraînement.\n",
    "    \"\"\"\n",
    "    \n",
    "    start = time()\n",
    "    vals = []\n",
    "    f1s = []\n",
    "    \n",
    "    for ep in tqdm(liste_ep) :\n",
    "    \n",
    "        res = model_nn(model, ep, save)\n",
    "        vals.append(res[0])\n",
    "        f1s.append(res[1])\n",
    "        \n",
    "    temps = time() - start\n",
    "        \n",
    "    return vals, f1s, res, temps"
   ]
  },
  {
   "cell_type": "code",
   "execution_count": 37,
   "metadata": {},
   "outputs": [],
   "source": [
    "def graph(liste_ep, vals, f1s) :\n",
    "    \"\"\"\n",
    "    Fonction permettant d'afficher un graphique à partir des données recueillies après une boucle de\n",
    "    modélisations.\n",
    "    \"\"\"\n",
    "    \n",
    "    fig = plt.figure(figsize = (7,4))\n",
    "    \n",
    "    plt.plot(liste_ep, vals, 'b', label='Validation acc', color = \"red\")\n",
    "    plt.plot(liste_ep, f1s, 'b', label='F1 weighted', color = \"blue\")\n",
    "    plt.title('Val. Accuracy et test F1 Score')\n",
    "    plt.xlabel(\"Epochs\")\n",
    "    plt.ylabel(\"Scores\")\n",
    "    plt.legend()\n",
    "    plt.show()"
   ]
  },
  {
   "cell_type": "markdown",
   "metadata": {},
   "source": [
    " "
   ]
  },
  {
   "cell_type": "markdown",
   "metadata": {},
   "source": [
    "### **Modélisation**"
   ]
  },
  {
   "cell_type": "markdown",
   "metadata": {},
   "source": [
    "Création du modèle"
   ]
  },
  {
   "cell_type": "code",
   "execution_count": 67,
   "metadata": {},
   "outputs": [],
   "source": [
    "def create_model():\n",
    "    \n",
    "    model = Sequential()\n",
    "\n",
    "    model.add(Dense(75, input_shape = (75, )))\n",
    "    model.add(Activation(\"relu\"))\n",
    "    model.add(Dropout(0.2))\n",
    "\n",
    "    model.add(Dense(75))\n",
    "    model.add(Activation(\"relu\"))\n",
    "    model.add(Dropout(0.2))\n",
    "\n",
    "    model.add(Dense(25))\n",
    "    model.add(Activation(\"sigmoid\"))\n",
    "\n",
    "    model.compile(loss='binary_crossentropy', optimizer=\"adam\", metrics=\"accuracy\")\n",
    "    \n",
    "    return model"
   ]
  },
  {
   "cell_type": "code",
   "execution_count": 76,
   "metadata": {},
   "outputs": [
    {
     "name": "stdout",
     "output_type": "stream",
     "text": [
      "Model: \"sequential_26\"\n",
      "_________________________________________________________________\n",
      "Layer (type)                 Output Shape              Param #   \n",
      "=================================================================\n",
      "dense_75 (Dense)             (None, 75)                5700      \n",
      "_________________________________________________________________\n",
      "activation_75 (Activation)   (None, 75)                0         \n",
      "_________________________________________________________________\n",
      "dropout_40 (Dropout)         (None, 75)                0         \n",
      "_________________________________________________________________\n",
      "dense_76 (Dense)             (None, 75)                5700      \n",
      "_________________________________________________________________\n",
      "activation_76 (Activation)   (None, 75)                0         \n",
      "_________________________________________________________________\n",
      "dropout_41 (Dropout)         (None, 75)                0         \n",
      "_________________________________________________________________\n",
      "dense_77 (Dense)             (None, 25)                1900      \n",
      "_________________________________________________________________\n",
      "activation_77 (Activation)   (None, 25)                0         \n",
      "=================================================================\n",
      "Total params: 13,300\n",
      "Trainable params: 13,300\n",
      "Non-trainable params: 0\n",
      "_________________________________________________________________\n"
     ]
    }
   ],
   "source": [
    "model_1 = create_model()\n",
    "\n",
    "model_1.summary()"
   ]
  },
  {
   "cell_type": "markdown",
   "metadata": {},
   "source": [
    "**Boucle de modélisation en fonction du nombre d'epochs**"
   ]
  },
  {
   "cell_type": "code",
   "execution_count": 77,
   "metadata": {
    "collapsed": true,
    "jupyter": {
     "outputs_hidden": true
    }
   },
   "outputs": [
    {
     "data": {
      "application/vnd.jupyter.widget-view+json": {
       "model_id": "756e99d029ad4ea9ab3731983acdf311",
       "version_major": 2,
       "version_minor": 0
      },
      "text/plain": [
       "  0%|          | 0/9 [00:00<?, ?it/s]"
      ]
     },
     "metadata": {},
     "output_type": "display_data"
    },
    {
     "name": "stdout",
     "output_type": "stream",
     "text": [
      "420/500 [========================>.....] - ETA: 0s - loss: 0.1979 - accuracy: 0.3175\n",
      "Epoch 00001: val_accuracy improved from -inf to 0.55325, saving model to so_dl_01.hdf5\n",
      "500/500 [==============================] - 0s 926us/step - loss: 0.1862 - accuracy: 0.3457 - val_loss: 0.1041 - val_accuracy: 0.5533\n",
      "Epoch 1/5\n",
      "  1/500 [..............................] - ETA: 0s - loss: 0.1123 - accuracy: 0.5000WARNING:tensorflow:Callbacks method `on_train_batch_end` is slow compared to the batch time (batch time: 0.0000s vs `on_train_batch_end` time: 0.0010s). Check your callbacks.\n",
      "476/500 [===========================>..] - ETA: 0s - loss: 0.1089 - accuracy: 0.5389\n",
      "Epoch 00001: val_accuracy improved from -inf to 0.60400, saving model to so_dl_01.hdf5\n",
      "500/500 [==============================] - 0s 828us/step - loss: 0.1088 - accuracy: 0.5400 - val_loss: 0.0895 - val_accuracy: 0.6040\n",
      "Epoch 2/5\n",
      "472/500 [===========================>..] - ETA: 0s - loss: 0.0975 - accuracy: 0.5771\n",
      "Epoch 00002: val_accuracy improved from 0.60400 to 0.62825, saving model to so_dl_01.hdf5\n",
      "500/500 [==============================] - 0s 782us/step - loss: 0.0973 - accuracy: 0.5776 - val_loss: 0.0845 - val_accuracy: 0.6283\n",
      "Epoch 3/5\n",
      "477/500 [===========================>..] - ETA: 0s - loss: 0.0922 - accuracy: 0.5932\n",
      "Epoch 00003: val_accuracy improved from 0.62825 to 0.63000, saving model to so_dl_01.hdf5\n",
      "500/500 [==============================] - 0s 768us/step - loss: 0.0920 - accuracy: 0.5945 - val_loss: 0.0822 - val_accuracy: 0.6300\n",
      "Epoch 4/5\n",
      "457/500 [==========================>...] - ETA: 0s - loss: 0.0889 - accuracy: 0.6047\n",
      "Epoch 00004: val_accuracy improved from 0.63000 to 0.63800, saving model to so_dl_01.hdf5\n",
      "500/500 [==============================] - 0s 794us/step - loss: 0.0888 - accuracy: 0.6049 - val_loss: 0.0811 - val_accuracy: 0.6380\n",
      "Epoch 5/5\n",
      "483/500 [===========================>..] - ETA: 0s - loss: 0.0869 - accuracy: 0.6086\n",
      "Epoch 00005: val_accuracy improved from 0.63800 to 0.63900, saving model to so_dl_01.hdf5\n",
      "500/500 [==============================] - 0s 758us/step - loss: 0.0869 - accuracy: 0.6083 - val_loss: 0.0806 - val_accuracy: 0.6390\n",
      "Epoch 1/10\n",
      "430/500 [========================>.....] - ETA: 0s - loss: 0.0849 - accuracy: 0.6165\n",
      "Epoch 00001: val_accuracy improved from -inf to 0.63925, saving model to so_dl_01.hdf5\n",
      "500/500 [==============================] - 0s 760us/step - loss: 0.0852 - accuracy: 0.6152 - val_loss: 0.0799 - val_accuracy: 0.6392\n",
      "Epoch 2/10\n",
      "444/500 [=========================>....] - ETA: 0s - loss: 0.0838 - accuracy: 0.6231\n",
      "Epoch 00002: val_accuracy did not improve from 0.63925\n",
      "500/500 [==============================] - 0s 672us/step - loss: 0.0838 - accuracy: 0.6206 - val_loss: 0.0797 - val_accuracy: 0.6320\n",
      "Epoch 3/10\n",
      "443/500 [=========================>....] - ETA: 0s - loss: 0.0825 - accuracy: 0.6262\n",
      "Epoch 00003: val_accuracy improved from 0.63925 to 0.64775, saving model to so_dl_01.hdf5\n",
      "500/500 [==============================] - 0s 708us/step - loss: 0.0825 - accuracy: 0.6255 - val_loss: 0.0788 - val_accuracy: 0.6478\n",
      "Epoch 4/10\n",
      "497/500 [============================>.] - ETA: 0s - loss: 0.0815 - accuracy: 0.6236\n",
      "Epoch 00004: val_accuracy improved from 0.64775 to 0.64825, saving model to so_dl_01.hdf5\n",
      "500/500 [==============================] - 0s 738us/step - loss: 0.0816 - accuracy: 0.6238 - val_loss: 0.0782 - val_accuracy: 0.6482\n",
      "Epoch 5/10\n",
      "435/500 [=========================>....] - ETA: 0s - loss: 0.0809 - accuracy: 0.6307\n",
      "Epoch 00005: val_accuracy improved from 0.64825 to 0.65450, saving model to so_dl_01.hdf5\n",
      "500/500 [==============================] - 0s 716us/step - loss: 0.0814 - accuracy: 0.6279 - val_loss: 0.0786 - val_accuracy: 0.6545\n",
      "Epoch 6/10\n",
      "428/500 [========================>.....] - ETA: 0s - loss: 0.0800 - accuracy: 0.6338\n",
      "Epoch 00006: val_accuracy did not improve from 0.65450\n",
      "500/500 [==============================] - 0s 696us/step - loss: 0.0804 - accuracy: 0.6313 - val_loss: 0.0782 - val_accuracy: 0.6428\n",
      "Epoch 7/10\n",
      "444/500 [=========================>....] - ETA: 0s - loss: 0.0796 - accuracy: 0.6345\n",
      "Epoch 00007: val_accuracy did not improve from 0.65450\n",
      "500/500 [==============================] - 0s 676us/step - loss: 0.0797 - accuracy: 0.6326 - val_loss: 0.0777 - val_accuracy: 0.6420\n",
      "Epoch 8/10\n",
      "447/500 [=========================>....] - ETA: 0s - loss: 0.0788 - accuracy: 0.6339\n",
      "Epoch 00008: val_accuracy did not improve from 0.65450\n",
      "500/500 [==============================] - 0s 672us/step - loss: 0.0790 - accuracy: 0.6331 - val_loss: 0.0774 - val_accuracy: 0.6475\n",
      "Epoch 9/10\n",
      "432/500 [========================>.....] - ETA: 0s - loss: 0.0784 - accuracy: 0.6397\n",
      "Epoch 00009: val_accuracy did not improve from 0.65450\n",
      "500/500 [==============================] - 0s 690us/step - loss: 0.0786 - accuracy: 0.6378 - val_loss: 0.0772 - val_accuracy: 0.6455\n",
      "Epoch 10/10\n",
      "446/500 [=========================>....] - ETA: 0s - loss: 0.0777 - accuracy: 0.6375\n",
      "Epoch 00010: val_accuracy did not improve from 0.65450\n",
      "500/500 [==============================] - 0s 680us/step - loss: 0.0778 - accuracy: 0.6361 - val_loss: 0.0773 - val_accuracy: 0.6507\n",
      "Epoch 1/15\n",
      "435/500 [=========================>....] - ETA: 0s - loss: 0.0778 - accuracy: 0.6373\n",
      "Epoch 00001: val_accuracy improved from -inf to 0.65250, saving model to so_dl_01.hdf5\n",
      "500/500 [==============================] - 0s 758us/step - loss: 0.0779 - accuracy: 0.6356 - val_loss: 0.0774 - val_accuracy: 0.6525\n",
      "Epoch 2/15\n",
      "414/500 [=======================>......] - ETA: 0s - loss: 0.0766 - accuracy: 0.6418\n",
      "Epoch 00002: val_accuracy did not improve from 0.65250\n",
      "500/500 [==============================] - 0s 708us/step - loss: 0.0771 - accuracy: 0.6404 - val_loss: 0.0772 - val_accuracy: 0.6492\n",
      "Epoch 3/15\n",
      "445/500 [=========================>....] - ETA: 0s - loss: 0.0764 - accuracy: 0.6399\n",
      "Epoch 00003: val_accuracy did not improve from 0.65250\n",
      "500/500 [==============================] - 0s 676us/step - loss: 0.0768 - accuracy: 0.6396 - val_loss: 0.0769 - val_accuracy: 0.6455\n",
      "Epoch 4/15\n",
      "431/500 [========================>.....] - ETA: 0s - loss: 0.0761 - accuracy: 0.6410\n",
      "Epoch 00004: val_accuracy did not improve from 0.65250\n",
      "500/500 [==============================] - 0s 692us/step - loss: 0.0763 - accuracy: 0.6431 - val_loss: 0.0768 - val_accuracy: 0.6442\n",
      "Epoch 5/15\n",
      "443/500 [=========================>....] - ETA: 0s - loss: 0.0760 - accuracy: 0.6459\n",
      "Epoch 00005: val_accuracy did not improve from 0.65250\n",
      "500/500 [==============================] - 0s 678us/step - loss: 0.0760 - accuracy: 0.6457 - val_loss: 0.0768 - val_accuracy: 0.6460\n",
      "Epoch 6/15\n",
      "434/500 [=========================>....] - ETA: 0s - loss: 0.0753 - accuracy: 0.6452\n",
      "Epoch 00006: val_accuracy did not improve from 0.65250\n",
      "500/500 [==============================] - 0s 684us/step - loss: 0.0757 - accuracy: 0.6417 - val_loss: 0.0769 - val_accuracy: 0.6415\n",
      "Epoch 7/15\n",
      "416/500 [=======================>......] - ETA: 0s - loss: 0.0753 - accuracy: 0.6467\n",
      "Epoch 00007: val_accuracy did not improve from 0.65250\n",
      "500/500 [==============================] - 0s 710us/step - loss: 0.0753 - accuracy: 0.6474 - val_loss: 0.0771 - val_accuracy: 0.6363\n",
      "Epoch 8/15\n",
      "436/500 [=========================>....] - ETA: 0s - loss: 0.0746 - accuracy: 0.6519\n",
      "Epoch 00008: val_accuracy did not improve from 0.65250\n",
      "500/500 [==============================] - 0s 686us/step - loss: 0.0747 - accuracy: 0.6499 - val_loss: 0.0765 - val_accuracy: 0.6450\n",
      "Epoch 9/15\n",
      "439/500 [=========================>....] - ETA: 0s - loss: 0.0748 - accuracy: 0.6454\n",
      "Epoch 00009: val_accuracy did not improve from 0.65250\n",
      "500/500 [==============================] - 0s 680us/step - loss: 0.0748 - accuracy: 0.6465 - val_loss: 0.0764 - val_accuracy: 0.6463\n",
      "Epoch 10/15\n",
      "442/500 [=========================>....] - ETA: 0s - loss: 0.0751 - accuracy: 0.6425\n",
      "Epoch 00010: val_accuracy did not improve from 0.65250\n",
      "500/500 [==============================] - 0s 676us/step - loss: 0.0750 - accuracy: 0.6420 - val_loss: 0.0767 - val_accuracy: 0.6413\n",
      "Epoch 11/15\n",
      "444/500 [=========================>....] - ETA: 0s - loss: 0.0745 - accuracy: 0.6490\n",
      "Epoch 00011: val_accuracy did not improve from 0.65250\n",
      "500/500 [==============================] - 0s 678us/step - loss: 0.0744 - accuracy: 0.6501 - val_loss: 0.0767 - val_accuracy: 0.6440\n",
      "Epoch 12/15\n",
      "441/500 [=========================>....] - ETA: 0s - loss: 0.0735 - accuracy: 0.6477\n",
      "Epoch 00012: val_accuracy did not improve from 0.65250\n",
      "500/500 [==============================] - 0s 682us/step - loss: 0.0739 - accuracy: 0.6467 - val_loss: 0.0764 - val_accuracy: 0.6407\n",
      "Epoch 13/15\n",
      "440/500 [=========================>....] - ETA: 0s - loss: 0.0734 - accuracy: 0.6491\n",
      "Epoch 00013: val_accuracy did not improve from 0.65250\n",
      "500/500 [==============================] - 0s 682us/step - loss: 0.0737 - accuracy: 0.6480 - val_loss: 0.0768 - val_accuracy: 0.6445\n",
      "Epoch 14/15\n",
      "499/500 [============================>.] - ETA: 0s - loss: 0.0735 - accuracy: 0.6529\n",
      "Epoch 00014: val_accuracy did not improve from 0.65250\n",
      "500/500 [==============================] - 0s 718us/step - loss: 0.0735 - accuracy: 0.6527 - val_loss: 0.0767 - val_accuracy: 0.6417\n",
      "Epoch 15/15\n",
      "433/500 [========================>.....] - ETA: 0s - loss: 0.0734 - accuracy: 0.6496\n",
      "Epoch 00015: val_accuracy did not improve from 0.65250\n",
      "500/500 [==============================] - 0s 692us/step - loss: 0.0736 - accuracy: 0.6481 - val_loss: 0.0768 - val_accuracy: 0.6488\n",
      "Epoch 1/20\n",
      "433/500 [========================>.....] - ETA: 0s - loss: 0.0729 - accuracy: 0.6499\n",
      "Epoch 00001: val_accuracy improved from -inf to 0.64150, saving model to so_dl_01.hdf5\n",
      "500/500 [==============================] - 0s 756us/step - loss: 0.0728 - accuracy: 0.6524 - val_loss: 0.0767 - val_accuracy: 0.6415\n",
      "Epoch 2/20\n",
      "421/500 [========================>.....] - ETA: 0s - loss: 0.0728 - accuracy: 0.6484\n",
      "Epoch 00002: val_accuracy improved from 0.64150 to 0.64225, saving model to so_dl_01.hdf5\n",
      "500/500 [==============================] - 0s 726us/step - loss: 0.0731 - accuracy: 0.6512 - val_loss: 0.0766 - val_accuracy: 0.6423\n",
      "Epoch 3/20\n",
      "439/500 [=========================>....] - ETA: 0s - loss: 0.0723 - accuracy: 0.6527\n",
      "Epoch 00003: val_accuracy did not improve from 0.64225\n",
      "500/500 [==============================] - 0s 682us/step - loss: 0.0726 - accuracy: 0.6538 - val_loss: 0.0765 - val_accuracy: 0.6403\n",
      "Epoch 4/20\n",
      "443/500 [=========================>....] - ETA: 0s - loss: 0.0726 - accuracy: 0.6553\n",
      "Epoch 00004: val_accuracy improved from 0.64225 to 0.64575, saving model to so_dl_01.hdf5\n",
      "500/500 [==============================] - 0s 700us/step - loss: 0.0724 - accuracy: 0.6551 - val_loss: 0.0768 - val_accuracy: 0.6457\n",
      "Epoch 5/20\n",
      "433/500 [========================>.....] - ETA: 0s - loss: 0.0730 - accuracy: 0.6525\n",
      "Epoch 00005: val_accuracy improved from 0.64575 to 0.64900, saving model to so_dl_01.hdf5\n",
      "500/500 [==============================] - 0s 716us/step - loss: 0.0730 - accuracy: 0.6523 - val_loss: 0.0766 - val_accuracy: 0.6490\n",
      "Epoch 6/20\n",
      "428/500 [========================>.....] - ETA: 0s - loss: 0.0725 - accuracy: 0.6552\n",
      "Epoch 00006: val_accuracy did not improve from 0.64900\n",
      "500/500 [==============================] - 0s 700us/step - loss: 0.0726 - accuracy: 0.6561 - val_loss: 0.0769 - val_accuracy: 0.6430\n",
      "Epoch 7/20\n",
      "443/500 [=========================>....] - ETA: 0s - loss: 0.0717 - accuracy: 0.6574\n",
      "Epoch 00007: val_accuracy did not improve from 0.64900\n",
      "500/500 [==============================] - 0s 676us/step - loss: 0.0721 - accuracy: 0.6562 - val_loss: 0.0769 - val_accuracy: 0.6447\n",
      "Epoch 8/20\n",
      "436/500 [=========================>....] - ETA: 0s - loss: 0.0718 - accuracy: 0.6504\n",
      "Epoch 00008: val_accuracy did not improve from 0.64900\n",
      "500/500 [==============================] - 0s 682us/step - loss: 0.0721 - accuracy: 0.6506 - val_loss: 0.0768 - val_accuracy: 0.6420\n",
      "Epoch 9/20\n",
      "419/500 [========================>.....] - ETA: 0s - loss: 0.0712 - accuracy: 0.6567\n",
      "Epoch 00009: val_accuracy improved from 0.64900 to 0.65300, saving model to so_dl_01.hdf5\n",
      "500/500 [==============================] - 0s 726us/step - loss: 0.0719 - accuracy: 0.6543 - val_loss: 0.0768 - val_accuracy: 0.6530\n",
      "Epoch 10/20\n",
      "423/500 [========================>.....] - ETA: 0s - loss: 0.0711 - accuracy: 0.6569\n",
      "Epoch 00010: val_accuracy did not improve from 0.65300\n",
      "500/500 [==============================] - 0s 696us/step - loss: 0.0715 - accuracy: 0.6566 - val_loss: 0.0766 - val_accuracy: 0.6460\n",
      "Epoch 11/20\n",
      "435/500 [=========================>....] - ETA: 0s - loss: 0.0709 - accuracy: 0.6596\n",
      "Epoch 00011: val_accuracy did not improve from 0.65300\n",
      "500/500 [==============================] - 0s 686us/step - loss: 0.0713 - accuracy: 0.6581 - val_loss: 0.0765 - val_accuracy: 0.6463\n",
      "Epoch 12/20\n",
      "436/500 [=========================>....] - ETA: 0s - loss: 0.0712 - accuracy: 0.6567\n",
      "Epoch 00012: val_accuracy did not improve from 0.65300\n",
      "500/500 [==============================] - 0s 682us/step - loss: 0.0711 - accuracy: 0.6568 - val_loss: 0.0770 - val_accuracy: 0.6503\n",
      "Epoch 13/20\n",
      "434/500 [=========================>....] - ETA: 0s - loss: 0.0710 - accuracy: 0.6612\n",
      "Epoch 00013: val_accuracy did not improve from 0.65300\n",
      "500/500 [==============================] - 0s 696us/step - loss: 0.0709 - accuracy: 0.6614 - val_loss: 0.0771 - val_accuracy: 0.6428\n",
      "Epoch 14/20\n",
      "443/500 [=========================>....] - ETA: 0s - loss: 0.0704 - accuracy: 0.6605\n",
      "Epoch 00014: val_accuracy did not improve from 0.65300\n",
      "500/500 [==============================] - 0s 690us/step - loss: 0.0709 - accuracy: 0.6591 - val_loss: 0.0773 - val_accuracy: 0.6430\n",
      "Epoch 15/20\n",
      "428/500 [========================>.....] - ETA: 0s - loss: 0.0703 - accuracy: 0.6590\n",
      "Epoch 00015: val_accuracy did not improve from 0.65300\n",
      "500/500 [==============================] - 0s 696us/step - loss: 0.0705 - accuracy: 0.6582 - val_loss: 0.0770 - val_accuracy: 0.6435\n",
      "Epoch 16/20\n",
      "429/500 [========================>.....] - ETA: 0s - loss: 0.0706 - accuracy: 0.6571\n",
      "Epoch 00016: val_accuracy did not improve from 0.65300\n",
      "500/500 [==============================] - 0s 702us/step - loss: 0.0706 - accuracy: 0.6566 - val_loss: 0.0771 - val_accuracy: 0.6472\n",
      "Epoch 17/20\n",
      "436/500 [=========================>....] - ETA: 0s - loss: 0.0701 - accuracy: 0.6593\n",
      "Epoch 00017: val_accuracy did not improve from 0.65300\n",
      "500/500 [==============================] - 0s 684us/step - loss: 0.0705 - accuracy: 0.6588 - val_loss: 0.0774 - val_accuracy: 0.6415\n",
      "Epoch 18/20\n",
      "441/500 [=========================>....] - ETA: 0s - loss: 0.0707 - accuracy: 0.6543\n",
      "Epoch 00018: val_accuracy did not improve from 0.65300\n",
      "500/500 [==============================] - 0s 680us/step - loss: 0.0708 - accuracy: 0.6546 - val_loss: 0.0774 - val_accuracy: 0.6413\n",
      "Epoch 19/20\n",
      "442/500 [=========================>....] - ETA: 0s - loss: 0.0709 - accuracy: 0.6604\n",
      "Epoch 00019: val_accuracy did not improve from 0.65300\n",
      "500/500 [==============================] - 0s 678us/step - loss: 0.0705 - accuracy: 0.6612 - val_loss: 0.0775 - val_accuracy: 0.6415\n",
      "Epoch 20/20\n",
      "434/500 [=========================>....] - ETA: 0s - loss: 0.0705 - accuracy: 0.6591\n",
      "Epoch 00020: val_accuracy did not improve from 0.65300\n",
      "500/500 [==============================] - 0s 686us/step - loss: 0.0704 - accuracy: 0.6593 - val_loss: 0.0772 - val_accuracy: 0.6478\n",
      "Epoch 1/25\n",
      "  1/500 [..............................] - ETA: 0s - loss: 0.0477 - accuracy: 0.7812WARNING:tensorflow:Callbacks method `on_train_batch_begin` is slow compared to the batch time (batch time: 0.0000s vs `on_train_batch_begin` time: 0.0010s). Check your callbacks.\n",
      "WARNING:tensorflow:Callbacks method `on_train_batch_end` is slow compared to the batch time (batch time: 0.0000s vs `on_train_batch_end` time: 0.0010s). Check your callbacks.\n",
      "437/500 [=========================>....] - ETA: 0s - loss: 0.0699 - accuracy: 0.6604\n",
      "Epoch 00001: val_accuracy improved from -inf to 0.64500, saving model to so_dl_01.hdf5\n",
      "500/500 [==============================] - 0s 750us/step - loss: 0.0701 - accuracy: 0.6598 - val_loss: 0.0771 - val_accuracy: 0.6450\n",
      "Epoch 2/25\n",
      "432/500 [========================>.....] - ETA: 0s - loss: 0.0699 - accuracy: 0.6628\n",
      "Epoch 00002: val_accuracy improved from 0.64500 to 0.64850, saving model to so_dl_01.hdf5\n",
      "500/500 [==============================] - 0s 714us/step - loss: 0.0703 - accuracy: 0.6618 - val_loss: 0.0772 - val_accuracy: 0.6485\n",
      "Epoch 3/25\n",
      "429/500 [========================>.....] - ETA: 0s - loss: 0.0702 - accuracy: 0.6595\n",
      "Epoch 00003: val_accuracy improved from 0.64850 to 0.65125, saving model to so_dl_01.hdf5\n",
      "500/500 [==============================] - 0s 720us/step - loss: 0.0703 - accuracy: 0.6594 - val_loss: 0.0772 - val_accuracy: 0.6513\n",
      "Epoch 4/25\n",
      "428/500 [========================>.....] - ETA: 0s - loss: 0.0695 - accuracy: 0.6579\n",
      "Epoch 00004: val_accuracy did not improve from 0.65125\n",
      "500/500 [==============================] - 0s 718us/step - loss: 0.0697 - accuracy: 0.6562 - val_loss: 0.0775 - val_accuracy: 0.6488\n",
      "Epoch 5/25\n",
      "442/500 [=========================>....] - ETA: 0s - loss: 0.0700 - accuracy: 0.6602\n",
      "Epoch 00005: val_accuracy did not improve from 0.65125\n",
      "500/500 [==============================] - 0s 680us/step - loss: 0.0701 - accuracy: 0.6580 - val_loss: 0.0770 - val_accuracy: 0.6465\n",
      "Epoch 6/25\n",
      "432/500 [========================>.....] - ETA: 0s - loss: 0.0697 - accuracy: 0.6621\n",
      "Epoch 00006: val_accuracy did not improve from 0.65125\n",
      "500/500 [==============================] - 0s 702us/step - loss: 0.0700 - accuracy: 0.6629 - val_loss: 0.0770 - val_accuracy: 0.6478\n",
      "Epoch 7/25\n",
      "434/500 [=========================>....] - ETA: 0s - loss: 0.0698 - accuracy: 0.6609\n",
      "Epoch 00007: val_accuracy did not improve from 0.65125\n",
      "500/500 [==============================] - 0s 686us/step - loss: 0.0701 - accuracy: 0.6590 - val_loss: 0.0774 - val_accuracy: 0.6423\n",
      "Epoch 8/25\n",
      "431/500 [========================>.....] - ETA: 0s - loss: 0.0699 - accuracy: 0.6613\n",
      "Epoch 00008: val_accuracy did not improve from 0.65125\n",
      "500/500 [==============================] - 0s 688us/step - loss: 0.0700 - accuracy: 0.6619 - val_loss: 0.0775 - val_accuracy: 0.6470\n",
      "Epoch 9/25\n",
      "426/500 [========================>.....] - ETA: 0s - loss: 0.0686 - accuracy: 0.6624\n",
      "Epoch 00009: val_accuracy improved from 0.65125 to 0.65150, saving model to so_dl_01.hdf5\n",
      "500/500 [==============================] - 0s 720us/step - loss: 0.0692 - accuracy: 0.6621 - val_loss: 0.0777 - val_accuracy: 0.6515\n",
      "Epoch 10/25\n",
      "437/500 [=========================>....] - ETA: 0s - loss: 0.0693 - accuracy: 0.6608\n",
      "Epoch 00010: val_accuracy did not improve from 0.65150\n",
      "500/500 [==============================] - 0s 682us/step - loss: 0.0696 - accuracy: 0.6609 - val_loss: 0.0776 - val_accuracy: 0.6457\n",
      "Epoch 11/25\n",
      "435/500 [=========================>....] - ETA: 0s - loss: 0.0694 - accuracy: 0.6606\n",
      "Epoch 00011: val_accuracy did not improve from 0.65150\n",
      "500/500 [==============================] - 0s 688us/step - loss: 0.0693 - accuracy: 0.6636 - val_loss: 0.0779 - val_accuracy: 0.6495\n",
      "Epoch 12/25\n",
      "438/500 [=========================>....] - ETA: 0s - loss: 0.0688 - accuracy: 0.6649\n",
      "Epoch 00012: val_accuracy did not improve from 0.65150\n",
      "500/500 [==============================] - 0s 682us/step - loss: 0.0690 - accuracy: 0.6662 - val_loss: 0.0777 - val_accuracy: 0.6442\n",
      "Epoch 13/25\n",
      "442/500 [=========================>....] - ETA: 0s - loss: 0.0693 - accuracy: 0.6623\n",
      "Epoch 00013: val_accuracy did not improve from 0.65150\n",
      "500/500 [==============================] - 0s 678us/step - loss: 0.0692 - accuracy: 0.6634 - val_loss: 0.0778 - val_accuracy: 0.6472\n",
      "Epoch 14/25\n",
      "432/500 [========================>.....] - ETA: 0s - loss: 0.0687 - accuracy: 0.6618\n",
      "Epoch 00014: val_accuracy did not improve from 0.65150\n",
      "500/500 [==============================] - 0s 690us/step - loss: 0.0689 - accuracy: 0.6624 - val_loss: 0.0783 - val_accuracy: 0.6413\n",
      "Epoch 15/25\n",
      "435/500 [=========================>....] - ETA: 0s - loss: 0.0685 - accuracy: 0.6611\n",
      "Epoch 00015: val_accuracy did not improve from 0.65150\n",
      "500/500 [==============================] - 0s 694us/step - loss: 0.0690 - accuracy: 0.6621 - val_loss: 0.0777 - val_accuracy: 0.6488\n",
      "Epoch 16/25\n",
      "429/500 [========================>.....] - ETA: 0s - loss: 0.0685 - accuracy: 0.6657\n",
      "Epoch 00016: val_accuracy did not improve from 0.65150\n",
      "500/500 [==============================] - 0s 692us/step - loss: 0.0686 - accuracy: 0.6660 - val_loss: 0.0782 - val_accuracy: 0.6467\n",
      "Epoch 17/25\n",
      "439/500 [=========================>....] - ETA: 0s - loss: 0.0688 - accuracy: 0.6637\n",
      "Epoch 00017: val_accuracy did not improve from 0.65150\n",
      "500/500 [==============================] - 0s 684us/step - loss: 0.0687 - accuracy: 0.6649 - val_loss: 0.0781 - val_accuracy: 0.6403\n",
      "Epoch 18/25\n",
      "440/500 [=========================>....] - ETA: 0s - loss: 0.0687 - accuracy: 0.6653\n",
      "Epoch 00018: val_accuracy did not improve from 0.65150\n",
      "500/500 [==============================] - 0s 680us/step - loss: 0.0687 - accuracy: 0.6654 - val_loss: 0.0782 - val_accuracy: 0.6457\n",
      "Epoch 19/25\n",
      "430/500 [========================>.....] - ETA: 0s - loss: 0.0689 - accuracy: 0.6663\n",
      "Epoch 00019: val_accuracy did not improve from 0.65150\n",
      "500/500 [==============================] - 0s 696us/step - loss: 0.0690 - accuracy: 0.6648 - val_loss: 0.0777 - val_accuracy: 0.6450\n",
      "Epoch 20/25\n",
      "499/500 [============================>.] - ETA: 0s - loss: 0.0684 - accuracy: 0.6650\n",
      "Epoch 00020: val_accuracy did not improve from 0.65150\n",
      "500/500 [==============================] - 0s 720us/step - loss: 0.0684 - accuracy: 0.6648 - val_loss: 0.0778 - val_accuracy: 0.6453\n",
      "Epoch 21/25\n",
      "415/500 [=======================>......] - ETA: 0s - loss: 0.0681 - accuracy: 0.6698\n",
      "Epoch 00021: val_accuracy did not improve from 0.65150\n",
      "500/500 [==============================] - 0s 708us/step - loss: 0.0687 - accuracy: 0.6694 - val_loss: 0.0777 - val_accuracy: 0.6460\n",
      "Epoch 22/25\n",
      "426/500 [========================>.....] - ETA: 0s - loss: 0.0680 - accuracy: 0.6679\n",
      "Epoch 00022: val_accuracy did not improve from 0.65150\n",
      "500/500 [==============================] - 0s 706us/step - loss: 0.0683 - accuracy: 0.6665 - val_loss: 0.0787 - val_accuracy: 0.6445\n",
      "Epoch 23/25\n",
      "470/500 [===========================>..] - ETA: 0s - loss: 0.0684 - accuracy: 0.6645\n",
      "Epoch 00023: val_accuracy did not improve from 0.65150\n",
      "500/500 [==============================] - 0s 744us/step - loss: 0.0684 - accuracy: 0.6650 - val_loss: 0.0783 - val_accuracy: 0.6488\n",
      "Epoch 24/25\n",
      "437/500 [=========================>....] - ETA: 0s - loss: 0.0680 - accuracy: 0.6677\n",
      "Epoch 00024: val_accuracy did not improve from 0.65150\n",
      "500/500 [==============================] - 0s 682us/step - loss: 0.0683 - accuracy: 0.6683 - val_loss: 0.0782 - val_accuracy: 0.6430\n",
      "Epoch 25/25\n",
      "497/500 [============================>.] - ETA: 0s - loss: 0.0686 - accuracy: 0.6622\n",
      "Epoch 00025: val_accuracy did not improve from 0.65150\n",
      "500/500 [==============================] - 0s 718us/step - loss: 0.0686 - accuracy: 0.6621 - val_loss: 0.0781 - val_accuracy: 0.6485\n",
      "Epoch 1/30\n",
      "499/500 [============================>.] - ETA: 0s - loss: 0.0682 - accuracy: 0.6691\n",
      "Epoch 00001: val_accuracy improved from -inf to 0.64250, saving model to so_dl_01.hdf5\n",
      "500/500 [==============================] - 0s 792us/step - loss: 0.0682 - accuracy: 0.6690 - val_loss: 0.0784 - val_accuracy: 0.6425\n",
      "Epoch 2/30\n",
      "423/500 [========================>.....] - ETA: 0s - loss: 0.0674 - accuracy: 0.6684\n",
      "Epoch 00002: val_accuracy did not improve from 0.64250\n",
      "500/500 [==============================] - 0s 704us/step - loss: 0.0679 - accuracy: 0.6648 - val_loss: 0.0786 - val_accuracy: 0.6382\n",
      "Epoch 3/30\n",
      "413/500 [=======================>......] - ETA: 0s - loss: 0.0683 - accuracy: 0.6673\n",
      "Epoch 00003: val_accuracy did not improve from 0.64250\n",
      "500/500 [==============================] - 0s 714us/step - loss: 0.0684 - accuracy: 0.6676 - val_loss: 0.0786 - val_accuracy: 0.6423\n",
      "Epoch 4/30\n",
      "434/500 [=========================>....] - ETA: 0s - loss: 0.0681 - accuracy: 0.6662\n",
      "Epoch 00004: val_accuracy did not improve from 0.64250\n",
      "500/500 [==============================] - 0s 698us/step - loss: 0.0683 - accuracy: 0.6643 - val_loss: 0.0785 - val_accuracy: 0.6348\n",
      "Epoch 5/30\n",
      "489/500 [============================>.] - ETA: 0s - loss: 0.0677 - accuracy: 0.6657\n",
      "Epoch 00005: val_accuracy improved from 0.64250 to 0.64425, saving model to so_dl_01.hdf5\n",
      "500/500 [==============================] - 0s 756us/step - loss: 0.0677 - accuracy: 0.6653 - val_loss: 0.0783 - val_accuracy: 0.6442\n",
      "Epoch 6/30\n",
      "489/500 [============================>.] - ETA: 0s - loss: 0.0681 - accuracy: 0.6646\n",
      "Epoch 00006: val_accuracy did not improve from 0.64425\n",
      "500/500 [==============================] - 0s 730us/step - loss: 0.0682 - accuracy: 0.6636 - val_loss: 0.0789 - val_accuracy: 0.6403\n",
      "Epoch 7/30\n",
      "486/500 [============================>.] - ETA: 0s - loss: 0.0678 - accuracy: 0.6677\n",
      "Epoch 00007: val_accuracy improved from 0.64425 to 0.64625, saving model to so_dl_01.hdf5\n",
      "500/500 [==============================] - 0s 756us/step - loss: 0.0679 - accuracy: 0.6678 - val_loss: 0.0786 - val_accuracy: 0.6463\n",
      "Epoch 8/30\n",
      "420/500 [========================>.....] - ETA: 0s - loss: 0.0676 - accuracy: 0.6690\n",
      "Epoch 00008: val_accuracy did not improve from 0.64625\n",
      "500/500 [==============================] - 0s 712us/step - loss: 0.0680 - accuracy: 0.6672 - val_loss: 0.0787 - val_accuracy: 0.6430\n",
      "Epoch 9/30\n",
      "453/500 [==========================>...] - ETA: 0s - loss: 0.0680 - accuracy: 0.6627\n",
      "Epoch 00009: val_accuracy did not improve from 0.64625\n",
      "500/500 [==============================] - 0s 768us/step - loss: 0.0678 - accuracy: 0.6625 - val_loss: 0.0788 - val_accuracy: 0.6430\n",
      "Epoch 10/30\n",
      "432/500 [========================>.....] - ETA: 0s - loss: 0.0677 - accuracy: 0.6707\n",
      "Epoch 00010: val_accuracy did not improve from 0.64625\n",
      "500/500 [==============================] - 0s 698us/step - loss: 0.0677 - accuracy: 0.6707 - val_loss: 0.0786 - val_accuracy: 0.6413\n",
      "Epoch 11/30\n",
      "433/500 [========================>.....] - ETA: 0s - loss: 0.0678 - accuracy: 0.6710\n",
      "Epoch 00011: val_accuracy did not improve from 0.64625\n",
      "500/500 [==============================] - 0s 692us/step - loss: 0.0678 - accuracy: 0.6693 - val_loss: 0.0786 - val_accuracy: 0.6440\n",
      "Epoch 12/30\n",
      "484/500 [============================>.] - ETA: 0s - loss: 0.0679 - accuracy: 0.6646\n",
      "Epoch 00012: val_accuracy did not improve from 0.64625\n",
      "500/500 [==============================] - 0s 732us/step - loss: 0.0678 - accuracy: 0.6654 - val_loss: 0.0785 - val_accuracy: 0.6410\n",
      "Epoch 13/30\n",
      "433/500 [========================>.....] - ETA: 0s - loss: 0.0672 - accuracy: 0.6729\n",
      "Epoch 00013: val_accuracy did not improve from 0.64625\n",
      "500/500 [==============================] - 0s 686us/step - loss: 0.0673 - accuracy: 0.6708 - val_loss: 0.0786 - val_accuracy: 0.6460\n",
      "Epoch 14/30\n",
      "436/500 [=========================>....] - ETA: 0s - loss: 0.0676 - accuracy: 0.6707\n",
      "Epoch 00014: val_accuracy did not improve from 0.64625\n",
      "500/500 [==============================] - 0s 684us/step - loss: 0.0678 - accuracy: 0.6680 - val_loss: 0.0788 - val_accuracy: 0.6430\n",
      "Epoch 15/30\n",
      "427/500 [========================>.....] - ETA: 0s - loss: 0.0674 - accuracy: 0.6686\n",
      "Epoch 00015: val_accuracy did not improve from 0.64625\n",
      "500/500 [==============================] - 0s 710us/step - loss: 0.0674 - accuracy: 0.6716 - val_loss: 0.0792 - val_accuracy: 0.6417\n",
      "Epoch 16/30\n",
      "496/500 [============================>.] - ETA: 0s - loss: 0.0680 - accuracy: 0.6648\n",
      "Epoch 00016: val_accuracy did not improve from 0.64625\n",
      "500/500 [==============================] - 0s 724us/step - loss: 0.0680 - accuracy: 0.6654 - val_loss: 0.0791 - val_accuracy: 0.6382\n",
      "Epoch 17/30\n",
      "431/500 [========================>.....] - ETA: 0s - loss: 0.0672 - accuracy: 0.6663\n",
      "Epoch 00017: val_accuracy did not improve from 0.64625\n",
      "500/500 [==============================] - 0s 698us/step - loss: 0.0674 - accuracy: 0.6664 - val_loss: 0.0790 - val_accuracy: 0.6305\n",
      "Epoch 18/30\n",
      "483/500 [===========================>..] - ETA: 0s - loss: 0.0673 - accuracy: 0.6691\n",
      "Epoch 00018: val_accuracy did not improve from 0.64625\n",
      "500/500 [==============================] - 0s 738us/step - loss: 0.0674 - accuracy: 0.6678 - val_loss: 0.0789 - val_accuracy: 0.6435\n",
      "Epoch 19/30\n",
      "426/500 [========================>.....] - ETA: 0s - loss: 0.0670 - accuracy: 0.6694\n",
      "Epoch 00019: val_accuracy did not improve from 0.64625\n",
      "500/500 [==============================] - 0s 704us/step - loss: 0.0672 - accuracy: 0.6669 - val_loss: 0.0794 - val_accuracy: 0.6332\n",
      "Epoch 20/30\n",
      "499/500 [============================>.] - ETA: 0s - loss: 0.0676 - accuracy: 0.6653\n",
      "Epoch 00020: val_accuracy did not improve from 0.64625\n",
      "500/500 [==============================] - 0s 714us/step - loss: 0.0676 - accuracy: 0.6654 - val_loss: 0.0789 - val_accuracy: 0.6340\n",
      "Epoch 21/30\n",
      "432/500 [========================>.....] - ETA: 0s - loss: 0.0674 - accuracy: 0.6672\n",
      "Epoch 00021: val_accuracy did not improve from 0.64625\n",
      "500/500 [==============================] - 0s 690us/step - loss: 0.0676 - accuracy: 0.6689 - val_loss: 0.0790 - val_accuracy: 0.6453\n",
      "Epoch 22/30\n",
      "487/500 [============================>.] - ETA: 0s - loss: 0.0675 - accuracy: 0.6658\n",
      "Epoch 00022: val_accuracy did not improve from 0.64625\n",
      "500/500 [==============================] - 0s 730us/step - loss: 0.0675 - accuracy: 0.6662 - val_loss: 0.0792 - val_accuracy: 0.6375\n",
      "Epoch 23/30\n",
      "422/500 [========================>.....] - ETA: 0s - loss: 0.0672 - accuracy: 0.6717\n",
      "Epoch 00023: val_accuracy did not improve from 0.64625\n",
      "500/500 [==============================] - 0s 710us/step - loss: 0.0672 - accuracy: 0.6704 - val_loss: 0.0793 - val_accuracy: 0.6455\n",
      "Epoch 24/30\n",
      "496/500 [============================>.] - ETA: 0s - loss: 0.0679 - accuracy: 0.6714\n",
      "Epoch 00024: val_accuracy did not improve from 0.64625\n",
      "500/500 [==============================] - 0s 724us/step - loss: 0.0679 - accuracy: 0.6710 - val_loss: 0.0790 - val_accuracy: 0.6417\n",
      "Epoch 25/30\n",
      "498/500 [============================>.] - ETA: 0s - loss: 0.0668 - accuracy: 0.6691\n",
      "Epoch 00025: val_accuracy did not improve from 0.64625\n",
      "500/500 [==============================] - 0s 722us/step - loss: 0.0668 - accuracy: 0.6695 - val_loss: 0.0796 - val_accuracy: 0.6395\n",
      "Epoch 26/30\n",
      "464/500 [==========================>...] - ETA: 0s - loss: 0.0670 - accuracy: 0.6693\n",
      "Epoch 00026: val_accuracy did not improve from 0.64625\n",
      "500/500 [==============================] - 0s 756us/step - loss: 0.0674 - accuracy: 0.6693 - val_loss: 0.0790 - val_accuracy: 0.6407\n",
      "Epoch 27/30\n",
      "489/500 [============================>.] - ETA: 0s - loss: 0.0672 - accuracy: 0.6679\n",
      "Epoch 00027: val_accuracy did not improve from 0.64625\n",
      "500/500 [==============================] - 0s 730us/step - loss: 0.0672 - accuracy: 0.6683 - val_loss: 0.0795 - val_accuracy: 0.6385\n",
      "Epoch 28/30\n",
      "430/500 [========================>.....] - ETA: 0s - loss: 0.0671 - accuracy: 0.6689\n",
      "Epoch 00028: val_accuracy improved from 0.64625 to 0.64650, saving model to so_dl_01.hdf5\n",
      "500/500 [==============================] - 0s 728us/step - loss: 0.0670 - accuracy: 0.6697 - val_loss: 0.0789 - val_accuracy: 0.6465\n",
      "Epoch 29/30\n",
      "418/500 [========================>.....] - ETA: 0s - loss: 0.0666 - accuracy: 0.6719\n",
      "Epoch 00029: val_accuracy did not improve from 0.64650\n",
      "500/500 [==============================] - 0s 708us/step - loss: 0.0667 - accuracy: 0.6709 - val_loss: 0.0792 - val_accuracy: 0.6413\n",
      "Epoch 30/30\n",
      "417/500 [========================>.....] - ETA: 0s - loss: 0.0671 - accuracy: 0.6689\n",
      "Epoch 00030: val_accuracy did not improve from 0.64650\n",
      "500/500 [==============================] - 0s 714us/step - loss: 0.0674 - accuracy: 0.6681 - val_loss: 0.0794 - val_accuracy: 0.6420\n",
      "Epoch 1/40\n",
      "430/500 [========================>.....] - ETA: 0s - loss: 0.0669 - accuracy: 0.6685\n",
      "Epoch 00001: val_accuracy improved from -inf to 0.64150, saving model to so_dl_01.hdf5\n",
      "500/500 [==============================] - 0s 764us/step - loss: 0.0669 - accuracy: 0.6686 - val_loss: 0.0797 - val_accuracy: 0.6415\n",
      "Epoch 2/40\n",
      "428/500 [========================>.....] - ETA: 0s - loss: 0.0671 - accuracy: 0.6720\n",
      "Epoch 00002: val_accuracy improved from 0.64150 to 0.64350, saving model to so_dl_01.hdf5\n",
      "500/500 [==============================] - 0s 720us/step - loss: 0.0672 - accuracy: 0.6709 - val_loss: 0.0793 - val_accuracy: 0.6435\n",
      "Epoch 3/40\n",
      "425/500 [========================>.....] - ETA: 0s - loss: 0.0678 - accuracy: 0.6672\n",
      "Epoch 00003: val_accuracy did not improve from 0.64350\n",
      "500/500 [==============================] - 0s 702us/step - loss: 0.0675 - accuracy: 0.6690 - val_loss: 0.0797 - val_accuracy: 0.6375\n",
      "Epoch 4/40\n",
      "477/500 [===========================>..] - ETA: 0s - loss: 0.0669 - accuracy: 0.6671\n",
      "Epoch 00004: val_accuracy did not improve from 0.64350\n",
      "500/500 [==============================] - 0s 742us/step - loss: 0.0669 - accuracy: 0.6670 - val_loss: 0.0798 - val_accuracy: 0.6420\n",
      "Epoch 5/40\n",
      "422/500 [========================>.....] - ETA: 0s - loss: 0.0660 - accuracy: 0.6746\n",
      "Epoch 00005: val_accuracy did not improve from 0.64350\n",
      "500/500 [==============================] - 0s 712us/step - loss: 0.0664 - accuracy: 0.6744 - val_loss: 0.0801 - val_accuracy: 0.6415\n",
      "Epoch 6/40\n",
      "423/500 [========================>.....] - ETA: 0s - loss: 0.0668 - accuracy: 0.6662\n",
      "Epoch 00006: val_accuracy did not improve from 0.64350\n",
      "500/500 [==============================] - 0s 696us/step - loss: 0.0669 - accuracy: 0.6691 - val_loss: 0.0794 - val_accuracy: 0.6400\n",
      "Epoch 7/40\n",
      "431/500 [========================>.....] - ETA: 0s - loss: 0.0669 - accuracy: 0.6713\n",
      "Epoch 00007: val_accuracy did not improve from 0.64350\n",
      "500/500 [==============================] - 0s 698us/step - loss: 0.0670 - accuracy: 0.6711 - val_loss: 0.0798 - val_accuracy: 0.6405\n",
      "Epoch 8/40\n",
      "434/500 [=========================>....] - ETA: 0s - loss: 0.0662 - accuracy: 0.6701\n",
      "Epoch 00008: val_accuracy did not improve from 0.64350\n",
      "500/500 [==============================] - 0s 686us/step - loss: 0.0667 - accuracy: 0.6698 - val_loss: 0.0799 - val_accuracy: 0.6410\n",
      "Epoch 9/40\n",
      "436/500 [=========================>....] - ETA: 0s - loss: 0.0665 - accuracy: 0.6722\n",
      "Epoch 00009: val_accuracy did not improve from 0.64350\n",
      "500/500 [==============================] - 0s 686us/step - loss: 0.0670 - accuracy: 0.6704 - val_loss: 0.0797 - val_accuracy: 0.6325\n",
      "Epoch 10/40\n",
      "499/500 [============================>.] - ETA: 0s - loss: 0.0668 - accuracy: 0.6718\n",
      "Epoch 00010: val_accuracy did not improve from 0.64350\n",
      "500/500 [==============================] - 0s 710us/step - loss: 0.0669 - accuracy: 0.6717 - val_loss: 0.0799 - val_accuracy: 0.6407\n",
      "Epoch 11/40\n",
      "440/500 [=========================>....] - ETA: 0s - loss: 0.0664 - accuracy: 0.6704\n",
      "Epoch 00011: val_accuracy did not improve from 0.64350\n",
      "500/500 [==============================] - 0s 692us/step - loss: 0.0666 - accuracy: 0.6719 - val_loss: 0.0800 - val_accuracy: 0.6398\n",
      "Epoch 12/40\n",
      "443/500 [=========================>....] - ETA: 0s - loss: 0.0673 - accuracy: 0.6700\n",
      "Epoch 00012: val_accuracy did not improve from 0.64350\n",
      "500/500 [==============================] - 0s 676us/step - loss: 0.0672 - accuracy: 0.6703 - val_loss: 0.0798 - val_accuracy: 0.6415\n",
      "Epoch 13/40\n",
      "428/500 [========================>.....] - ETA: 0s - loss: 0.0667 - accuracy: 0.6698\n",
      "Epoch 00013: val_accuracy did not improve from 0.64350\n",
      "500/500 [==============================] - 0s 698us/step - loss: 0.0670 - accuracy: 0.6680 - val_loss: 0.0800 - val_accuracy: 0.6373\n",
      "Epoch 14/40\n",
      "441/500 [=========================>....] - ETA: 0s - loss: 0.0667 - accuracy: 0.6730\n",
      "Epoch 00014: val_accuracy improved from 0.64350 to 0.64425, saving model to so_dl_01.hdf5\n",
      "500/500 [==============================] - 0s 704us/step - loss: 0.0667 - accuracy: 0.6735 - val_loss: 0.0802 - val_accuracy: 0.6442\n",
      "Epoch 15/40\n",
      "426/500 [========================>.....] - ETA: 0s - loss: 0.0665 - accuracy: 0.6729\n",
      "Epoch 00015: val_accuracy did not improve from 0.64425\n",
      "500/500 [==============================] - 0s 720us/step - loss: 0.0666 - accuracy: 0.6703 - val_loss: 0.0800 - val_accuracy: 0.6407\n",
      "Epoch 16/40\n",
      "471/500 [===========================>..] - ETA: 0s - loss: 0.0667 - accuracy: 0.6643\n",
      "Epoch 00016: val_accuracy did not improve from 0.64425\n",
      "500/500 [==============================] - 0s 776us/step - loss: 0.0667 - accuracy: 0.6661 - val_loss: 0.0804 - val_accuracy: 0.6388\n",
      "Epoch 17/40\n",
      "428/500 [========================>.....] - ETA: 0s - loss: 0.0668 - accuracy: 0.6679\n",
      "Epoch 00017: val_accuracy did not improve from 0.64425\n",
      "500/500 [==============================] - 0s 698us/step - loss: 0.0665 - accuracy: 0.6707 - val_loss: 0.0801 - val_accuracy: 0.6398\n",
      "Epoch 18/40\n",
      "485/500 [============================>.] - ETA: 0s - loss: 0.0663 - accuracy: 0.6720\n",
      "Epoch 00018: val_accuracy did not improve from 0.64425\n",
      "500/500 [==============================] - 0s 732us/step - loss: 0.0663 - accuracy: 0.6712 - val_loss: 0.0800 - val_accuracy: 0.6338\n",
      "Epoch 19/40\n",
      "440/500 [=========================>....] - ETA: 0s - loss: 0.0662 - accuracy: 0.6730\n",
      "Epoch 00019: val_accuracy did not improve from 0.64425\n",
      "500/500 [==============================] - 0s 682us/step - loss: 0.0665 - accuracy: 0.6723 - val_loss: 0.0803 - val_accuracy: 0.6378\n",
      "Epoch 20/40\n",
      "418/500 [========================>.....] - ETA: 0s - loss: 0.0657 - accuracy: 0.6742\n",
      "Epoch 00020: val_accuracy did not improve from 0.64425\n",
      "500/500 [==============================] - 0s 708us/step - loss: 0.0663 - accuracy: 0.6750 - val_loss: 0.0800 - val_accuracy: 0.6370\n",
      "Epoch 21/40\n",
      "497/500 [============================>.] - ETA: 0s - loss: 0.0665 - accuracy: 0.6706\n",
      "Epoch 00021: val_accuracy improved from 0.64425 to 0.64450, saving model to so_dl_01.hdf5\n",
      "500/500 [==============================] - 0s 740us/step - loss: 0.0665 - accuracy: 0.6705 - val_loss: 0.0804 - val_accuracy: 0.6445\n",
      "Epoch 22/40\n",
      "424/500 [========================>.....] - ETA: 0s - loss: 0.0657 - accuracy: 0.6745\n",
      "Epoch 00022: val_accuracy did not improve from 0.64450\n",
      "500/500 [==============================] - 0s 698us/step - loss: 0.0663 - accuracy: 0.6707 - val_loss: 0.0800 - val_accuracy: 0.6360\n",
      "Epoch 23/40\n",
      "439/500 [=========================>....] - ETA: 0s - loss: 0.0662 - accuracy: 0.6705\n",
      "Epoch 00023: val_accuracy did not improve from 0.64450\n",
      "500/500 [==============================] - 0s 684us/step - loss: 0.0664 - accuracy: 0.6721 - val_loss: 0.0800 - val_accuracy: 0.6428\n",
      "Epoch 24/40\n",
      "435/500 [=========================>....] - ETA: 0s - loss: 0.0666 - accuracy: 0.6733\n",
      "Epoch 00024: val_accuracy did not improve from 0.64450\n",
      "500/500 [==============================] - 0s 688us/step - loss: 0.0664 - accuracy: 0.6752 - val_loss: 0.0807 - val_accuracy: 0.6382\n",
      "Epoch 25/40\n",
      "437/500 [=========================>....] - ETA: 0s - loss: 0.0661 - accuracy: 0.6744\n",
      "Epoch 00025: val_accuracy did not improve from 0.64450\n",
      "500/500 [==============================] - 0s 686us/step - loss: 0.0660 - accuracy: 0.6752 - val_loss: 0.0802 - val_accuracy: 0.6403\n",
      "Epoch 26/40\n",
      "433/500 [========================>.....] - ETA: 0s - loss: 0.0662 - accuracy: 0.6749\n",
      "Epoch 00026: val_accuracy did not improve from 0.64450\n",
      "500/500 [==============================] - 0s 686us/step - loss: 0.0662 - accuracy: 0.6751 - val_loss: 0.0802 - val_accuracy: 0.6432\n",
      "Epoch 27/40\n",
      "435/500 [=========================>....] - ETA: 0s - loss: 0.0660 - accuracy: 0.6748\n",
      "Epoch 00027: val_accuracy did not improve from 0.64450\n",
      "500/500 [==============================] - 0s 692us/step - loss: 0.0661 - accuracy: 0.6734 - val_loss: 0.0803 - val_accuracy: 0.6390\n",
      "Epoch 28/40\n",
      "415/500 [=======================>......] - ETA: 0s - loss: 0.0659 - accuracy: 0.6748\n",
      "Epoch 00028: val_accuracy did not improve from 0.64450\n",
      "500/500 [==============================] - 0s 704us/step - loss: 0.0658 - accuracy: 0.6741 - val_loss: 0.0805 - val_accuracy: 0.6445\n",
      "Epoch 29/40\n",
      "429/500 [========================>.....] - ETA: 0s - loss: 0.0664 - accuracy: 0.6686\n",
      "Epoch 00029: val_accuracy did not improve from 0.64450\n",
      "500/500 [==============================] - 0s 690us/step - loss: 0.0663 - accuracy: 0.6709 - val_loss: 0.0805 - val_accuracy: 0.6438\n",
      "Epoch 30/40\n",
      "439/500 [=========================>....] - ETA: 0s - loss: 0.0656 - accuracy: 0.6741\n",
      "Epoch 00030: val_accuracy did not improve from 0.64450\n",
      "500/500 [==============================] - 0s 682us/step - loss: 0.0661 - accuracy: 0.6723 - val_loss: 0.0802 - val_accuracy: 0.6388\n",
      "Epoch 31/40\n",
      "432/500 [========================>.....] - ETA: 0s - loss: 0.0663 - accuracy: 0.6709\n",
      "Epoch 00031: val_accuracy did not improve from 0.64450\n",
      "500/500 [==============================] - 0s 690us/step - loss: 0.0663 - accuracy: 0.6724 - val_loss: 0.0799 - val_accuracy: 0.6400\n",
      "Epoch 32/40\n",
      "431/500 [========================>.....] - ETA: 0s - loss: 0.0663 - accuracy: 0.6740\n",
      "Epoch 00032: val_accuracy did not improve from 0.64450\n",
      "500/500 [==============================] - 0s 692us/step - loss: 0.0666 - accuracy: 0.6719 - val_loss: 0.0800 - val_accuracy: 0.6345\n",
      "Epoch 33/40\n",
      "431/500 [========================>.....] - ETA: 0s - loss: 0.0659 - accuracy: 0.6715\n",
      "Epoch 00033: val_accuracy did not improve from 0.64450\n",
      "500/500 [==============================] - 0s 694us/step - loss: 0.0663 - accuracy: 0.6682 - val_loss: 0.0801 - val_accuracy: 0.6410\n",
      "Epoch 34/40\n",
      "427/500 [========================>.....] - ETA: 0s - loss: 0.0654 - accuracy: 0.6739\n",
      "Epoch 00034: val_accuracy did not improve from 0.64450\n",
      "500/500 [==============================] - 0s 696us/step - loss: 0.0658 - accuracy: 0.6734 - val_loss: 0.0802 - val_accuracy: 0.6428\n",
      "Epoch 35/40\n",
      "421/500 [========================>.....] - ETA: 0s - loss: 0.0659 - accuracy: 0.6716\n",
      "Epoch 00035: val_accuracy did not improve from 0.64450\n",
      "500/500 [==============================] - 0s 700us/step - loss: 0.0660 - accuracy: 0.6739 - val_loss: 0.0802 - val_accuracy: 0.6438\n",
      "Epoch 36/40\n",
      "424/500 [========================>.....] - ETA: 0s - loss: 0.0658 - accuracy: 0.6711\n",
      "Epoch 00036: val_accuracy did not improve from 0.64450\n",
      "500/500 [==============================] - 0s 696us/step - loss: 0.0661 - accuracy: 0.6706 - val_loss: 0.0805 - val_accuracy: 0.6373\n",
      "Epoch 37/40\n",
      "423/500 [========================>.....] - ETA: 0s - loss: 0.0649 - accuracy: 0.6774\n",
      "Epoch 00037: val_accuracy did not improve from 0.64450\n",
      "500/500 [==============================] - 0s 704us/step - loss: 0.0649 - accuracy: 0.6766 - val_loss: 0.0807 - val_accuracy: 0.6342\n",
      "Epoch 38/40\n",
      "431/500 [========================>.....] - ETA: 0s - loss: 0.0659 - accuracy: 0.6725\n",
      "Epoch 00038: val_accuracy did not improve from 0.64450\n",
      "500/500 [==============================] - 0s 698us/step - loss: 0.0661 - accuracy: 0.6729 - val_loss: 0.0803 - val_accuracy: 0.6413\n",
      "Epoch 39/40\n",
      "499/500 [============================>.] - ETA: 0s - loss: 0.0653 - accuracy: 0.6784\n",
      "Epoch 00039: val_accuracy did not improve from 0.64450\n",
      "500/500 [==============================] - 0s 714us/step - loss: 0.0653 - accuracy: 0.6783 - val_loss: 0.0801 - val_accuracy: 0.6382\n",
      "Epoch 40/40\n",
      "426/500 [========================>.....] - ETA: 0s - loss: 0.0661 - accuracy: 0.6708\n",
      "Epoch 00040: val_accuracy did not improve from 0.64450\n",
      "500/500 [==============================] - 0s 694us/step - loss: 0.0660 - accuracy: 0.6714 - val_loss: 0.0808 - val_accuracy: 0.6417\n",
      "Epoch 1/50\n",
      "432/500 [========================>.....] - ETA: 0s - loss: 0.0654 - accuracy: 0.6748\n",
      "Epoch 00001: val_accuracy improved from -inf to 0.63225, saving model to so_dl_01.hdf5\n",
      "500/500 [==============================] - 0s 758us/step - loss: 0.0658 - accuracy: 0.6726 - val_loss: 0.0808 - val_accuracy: 0.6323\n",
      "Epoch 2/50\n",
      "428/500 [========================>.....] - ETA: 0s - loss: 0.0656 - accuracy: 0.6730\n",
      "Epoch 00002: val_accuracy improved from 0.63225 to 0.63700, saving model to so_dl_01.hdf5\n",
      "500/500 [==============================] - 0s 720us/step - loss: 0.0657 - accuracy: 0.6727 - val_loss: 0.0806 - val_accuracy: 0.6370\n",
      "Epoch 3/50\n",
      "414/500 [=======================>......] - ETA: 0s - loss: 0.0657 - accuracy: 0.6746\n",
      "Epoch 00003: val_accuracy improved from 0.63700 to 0.64150, saving model to so_dl_01.hdf5\n",
      "500/500 [==============================] - 0s 736us/step - loss: 0.0657 - accuracy: 0.6748 - val_loss: 0.0804 - val_accuracy: 0.6415\n",
      "Epoch 4/50\n",
      "498/500 [============================>.] - ETA: 0s - loss: 0.0658 - accuracy: 0.6731\n",
      "Epoch 00004: val_accuracy did not improve from 0.64150\n",
      "500/500 [==============================] - 0s 722us/step - loss: 0.0657 - accuracy: 0.6731 - val_loss: 0.0804 - val_accuracy: 0.6407\n",
      "Epoch 5/50\n",
      "425/500 [========================>.....] - ETA: 0s - loss: 0.0658 - accuracy: 0.6728\n",
      "Epoch 00005: val_accuracy did not improve from 0.64150\n",
      "500/500 [==============================] - 0s 708us/step - loss: 0.0660 - accuracy: 0.6727 - val_loss: 0.0806 - val_accuracy: 0.6400\n",
      "Epoch 6/50\n",
      "430/500 [========================>.....] - ETA: 0s - loss: 0.0659 - accuracy: 0.6781\n",
      "Epoch 00006: val_accuracy did not improve from 0.64150\n",
      "500/500 [==============================] - 0s 698us/step - loss: 0.0661 - accuracy: 0.6775 - val_loss: 0.0801 - val_accuracy: 0.6415\n",
      "Epoch 7/50\n",
      "424/500 [========================>.....] - ETA: 0s - loss: 0.0656 - accuracy: 0.6752\n",
      "Epoch 00007: val_accuracy did not improve from 0.64150\n",
      "500/500 [==============================] - 0s 706us/step - loss: 0.0658 - accuracy: 0.6740 - val_loss: 0.0807 - val_accuracy: 0.6363\n",
      "Epoch 8/50\n",
      "485/500 [============================>.] - ETA: 0s - loss: 0.0654 - accuracy: 0.6738\n",
      "Epoch 00008: val_accuracy did not improve from 0.64150\n",
      "500/500 [==============================] - 0s 726us/step - loss: 0.0655 - accuracy: 0.6735 - val_loss: 0.0807 - val_accuracy: 0.6352\n",
      "Epoch 9/50\n",
      "429/500 [========================>.....] - ETA: 0s - loss: 0.0652 - accuracy: 0.6764\n",
      "Epoch 00009: val_accuracy did not improve from 0.64150\n",
      "500/500 [==============================] - 0s 692us/step - loss: 0.0654 - accuracy: 0.6767 - val_loss: 0.0809 - val_accuracy: 0.6370\n",
      "Epoch 10/50\n",
      "432/500 [========================>.....] - ETA: 0s - loss: 0.0652 - accuracy: 0.6749\n",
      "Epoch 00010: val_accuracy did not improve from 0.64150\n",
      "500/500 [==============================] - 0s 690us/step - loss: 0.0655 - accuracy: 0.6743 - val_loss: 0.0810 - val_accuracy: 0.6352\n",
      "Epoch 11/50\n",
      "417/500 [========================>.....] - ETA: 0s - loss: 0.0651 - accuracy: 0.6788\n",
      "Epoch 00011: val_accuracy did not improve from 0.64150\n",
      "500/500 [==============================] - 0s 708us/step - loss: 0.0657 - accuracy: 0.6750 - val_loss: 0.0807 - val_accuracy: 0.6317\n",
      "Epoch 12/50\n",
      "430/500 [========================>.....] - ETA: 0s - loss: 0.0656 - accuracy: 0.6721\n",
      "Epoch 00012: val_accuracy improved from 0.64150 to 0.64325, saving model to so_dl_01.hdf5\n",
      "500/500 [==============================] - 0s 718us/step - loss: 0.0657 - accuracy: 0.6729 - val_loss: 0.0805 - val_accuracy: 0.6432\n",
      "Epoch 13/50\n",
      "419/500 [========================>.....] - ETA: 0s - loss: 0.0658 - accuracy: 0.6736\n",
      "Epoch 00013: val_accuracy improved from 0.64325 to 0.64450, saving model to so_dl_01.hdf5\n",
      "500/500 [==============================] - 0s 734us/step - loss: 0.0662 - accuracy: 0.6702 - val_loss: 0.0800 - val_accuracy: 0.6445\n",
      "Epoch 14/50\n",
      "424/500 [========================>.....] - ETA: 0s - loss: 0.0655 - accuracy: 0.6776\n",
      "Epoch 00014: val_accuracy did not improve from 0.64450\n",
      "500/500 [==============================] - 0s 700us/step - loss: 0.0658 - accuracy: 0.6757 - val_loss: 0.0801 - val_accuracy: 0.6403\n",
      "Epoch 15/50\n",
      "494/500 [============================>.] - ETA: 0s - loss: 0.0654 - accuracy: 0.6771\n",
      "Epoch 00015: val_accuracy did not improve from 0.64450\n",
      "500/500 [==============================] - 0s 722us/step - loss: 0.0653 - accuracy: 0.6766 - val_loss: 0.0802 - val_accuracy: 0.6400\n",
      "Epoch 16/50\n",
      "432/500 [========================>.....] - ETA: 0s - loss: 0.0654 - accuracy: 0.6746\n",
      "Epoch 00016: val_accuracy did not improve from 0.64450\n",
      "500/500 [==============================] - 0s 696us/step - loss: 0.0653 - accuracy: 0.6756 - val_loss: 0.0811 - val_accuracy: 0.6413\n",
      "Epoch 17/50\n",
      "418/500 [========================>.....] - ETA: 0s - loss: 0.0655 - accuracy: 0.6773\n",
      "Epoch 00017: val_accuracy did not improve from 0.64450\n",
      "500/500 [==============================] - 0s 710us/step - loss: 0.0653 - accuracy: 0.6771 - val_loss: 0.0806 - val_accuracy: 0.6355\n",
      "Epoch 18/50\n",
      "433/500 [========================>.....] - ETA: 0s - loss: 0.0650 - accuracy: 0.6801\n",
      "Epoch 00018: val_accuracy did not improve from 0.64450\n",
      "500/500 [==============================] - 0s 690us/step - loss: 0.0654 - accuracy: 0.6764 - val_loss: 0.0809 - val_accuracy: 0.6355\n",
      "Epoch 19/50\n",
      "431/500 [========================>.....] - ETA: 0s - loss: 0.0653 - accuracy: 0.6786\n",
      "Epoch 00019: val_accuracy did not improve from 0.64450\n",
      "500/500 [==============================] - 0s 690us/step - loss: 0.0654 - accuracy: 0.6777 - val_loss: 0.0807 - val_accuracy: 0.6385\n",
      "Epoch 20/50\n",
      "435/500 [=========================>....] - ETA: 0s - loss: 0.0661 - accuracy: 0.6773\n",
      "Epoch 00020: val_accuracy did not improve from 0.64450\n",
      "500/500 [==============================] - 0s 688us/step - loss: 0.0659 - accuracy: 0.6771 - val_loss: 0.0807 - val_accuracy: 0.6363\n",
      "Epoch 21/50\n",
      "430/500 [========================>.....] - ETA: 0s - loss: 0.0649 - accuracy: 0.6747\n",
      "Epoch 00021: val_accuracy did not improve from 0.64450\n",
      "500/500 [==============================] - 0s 698us/step - loss: 0.0653 - accuracy: 0.6713 - val_loss: 0.0807 - val_accuracy: 0.6400\n",
      "Epoch 22/50\n",
      "500/500 [==============================] - ETA: 0s - loss: 0.0654 - accuracy: 0.6742\n",
      "Epoch 00022: val_accuracy did not improve from 0.64450\n",
      "500/500 [==============================] - 0s 718us/step - loss: 0.0654 - accuracy: 0.6742 - val_loss: 0.0809 - val_accuracy: 0.6392\n",
      "Epoch 23/50\n",
      "430/500 [========================>.....] - ETA: 0s - loss: 0.0651 - accuracy: 0.6746\n",
      "Epoch 00023: val_accuracy did not improve from 0.64450\n",
      "500/500 [==============================] - 0s 690us/step - loss: 0.0656 - accuracy: 0.6744 - val_loss: 0.0804 - val_accuracy: 0.6410\n",
      "Epoch 24/50\n",
      "426/500 [========================>.....] - ETA: 0s - loss: 0.0648 - accuracy: 0.6754\n",
      "Epoch 00024: val_accuracy did not improve from 0.64450\n",
      "500/500 [==============================] - 0s 698us/step - loss: 0.0649 - accuracy: 0.6759 - val_loss: 0.0815 - val_accuracy: 0.6382\n",
      "Epoch 25/50\n",
      "427/500 [========================>.....] - ETA: 0s - loss: 0.0658 - accuracy: 0.6718\n",
      "Epoch 00025: val_accuracy did not improve from 0.64450\n",
      "500/500 [==============================] - 0s 696us/step - loss: 0.0658 - accuracy: 0.6736 - val_loss: 0.0808 - val_accuracy: 0.6370\n",
      "Epoch 26/50\n",
      "428/500 [========================>.....] - ETA: 0s - loss: 0.0655 - accuracy: 0.6745\n",
      "Epoch 00026: val_accuracy did not improve from 0.64450\n",
      "500/500 [==============================] - 0s 698us/step - loss: 0.0652 - accuracy: 0.6724 - val_loss: 0.0811 - val_accuracy: 0.6430\n",
      "Epoch 27/50\n",
      "433/500 [========================>.....] - ETA: 0s - loss: 0.0655 - accuracy: 0.6738\n",
      "Epoch 00027: val_accuracy did not improve from 0.64450\n",
      "500/500 [==============================] - 0s 688us/step - loss: 0.0654 - accuracy: 0.6755 - val_loss: 0.0815 - val_accuracy: 0.6435\n",
      "Epoch 28/50\n",
      "433/500 [========================>.....] - ETA: 0s - loss: 0.0650 - accuracy: 0.6808\n",
      "Epoch 00028: val_accuracy did not improve from 0.64450\n",
      "500/500 [==============================] - 0s 694us/step - loss: 0.0653 - accuracy: 0.6793 - val_loss: 0.0812 - val_accuracy: 0.6305\n",
      "Epoch 29/50\n",
      "431/500 [========================>.....] - ETA: 0s - loss: 0.0646 - accuracy: 0.6760\n",
      "Epoch 00029: val_accuracy did not improve from 0.64450\n",
      "500/500 [==============================] - 0s 694us/step - loss: 0.0648 - accuracy: 0.6739 - val_loss: 0.0809 - val_accuracy: 0.6390\n",
      "Epoch 30/50\n",
      "419/500 [========================>.....] - ETA: 0s - loss: 0.0655 - accuracy: 0.6730\n",
      "Epoch 00030: val_accuracy did not improve from 0.64450\n",
      "500/500 [==============================] - 0s 704us/step - loss: 0.0659 - accuracy: 0.6717 - val_loss: 0.0812 - val_accuracy: 0.6385\n",
      "Epoch 31/50\n",
      "437/500 [=========================>....] - ETA: 0s - loss: 0.0657 - accuracy: 0.6751\n",
      "Epoch 00031: val_accuracy did not improve from 0.64450\n",
      "500/500 [==============================] - 0s 682us/step - loss: 0.0659 - accuracy: 0.6725 - val_loss: 0.0809 - val_accuracy: 0.6363\n",
      "Epoch 32/50\n",
      "424/500 [========================>.....] - ETA: 0s - loss: 0.0644 - accuracy: 0.6739\n",
      "Epoch 00032: val_accuracy did not improve from 0.64450\n",
      "500/500 [==============================] - 0s 696us/step - loss: 0.0650 - accuracy: 0.6714 - val_loss: 0.0807 - val_accuracy: 0.6390\n",
      "Epoch 33/50\n",
      "425/500 [========================>.....] - ETA: 0s - loss: 0.0650 - accuracy: 0.6773\n",
      "Epoch 00033: val_accuracy did not improve from 0.64450\n",
      "500/500 [==============================] - 0s 694us/step - loss: 0.0654 - accuracy: 0.6764 - val_loss: 0.0815 - val_accuracy: 0.6330\n",
      "Epoch 34/50\n",
      "429/500 [========================>.....] - ETA: 0s - loss: 0.0647 - accuracy: 0.6711\n",
      "Epoch 00034: val_accuracy did not improve from 0.64450\n",
      "500/500 [==============================] - 0s 694us/step - loss: 0.0651 - accuracy: 0.6718 - val_loss: 0.0813 - val_accuracy: 0.6400\n",
      "Epoch 35/50\n",
      "435/500 [=========================>....] - ETA: 0s - loss: 0.0651 - accuracy: 0.6713\n",
      "Epoch 00035: val_accuracy did not improve from 0.64450\n",
      "500/500 [==============================] - 0s 694us/step - loss: 0.0651 - accuracy: 0.6711 - val_loss: 0.0815 - val_accuracy: 0.6352\n",
      "Epoch 36/50\n",
      "428/500 [========================>.....] - ETA: 0s - loss: 0.0653 - accuracy: 0.6746\n",
      "Epoch 00036: val_accuracy did not improve from 0.64450\n",
      "500/500 [==============================] - 0s 696us/step - loss: 0.0650 - accuracy: 0.6765 - val_loss: 0.0812 - val_accuracy: 0.6395\n",
      "Epoch 37/50\n",
      "431/500 [========================>.....] - ETA: 0s - loss: 0.0649 - accuracy: 0.6768\n",
      "Epoch 00037: val_accuracy did not improve from 0.64450\n",
      "500/500 [==============================] - 0s 688us/step - loss: 0.0651 - accuracy: 0.6765 - val_loss: 0.0816 - val_accuracy: 0.6407\n",
      "Epoch 38/50\n",
      "428/500 [========================>.....] - ETA: 0s - loss: 0.0651 - accuracy: 0.6784\n",
      "Epoch 00038: val_accuracy did not improve from 0.64450\n",
      "500/500 [==============================] - 0s 696us/step - loss: 0.0653 - accuracy: 0.6755 - val_loss: 0.0807 - val_accuracy: 0.6355\n",
      "Epoch 39/50\n",
      "433/500 [========================>.....] - ETA: 0s - loss: 0.0649 - accuracy: 0.6799\n",
      "Epoch 00039: val_accuracy did not improve from 0.64450\n",
      "500/500 [==============================] - 0s 692us/step - loss: 0.0655 - accuracy: 0.6770 - val_loss: 0.0805 - val_accuracy: 0.6407\n",
      "Epoch 40/50\n",
      "431/500 [========================>.....] - ETA: 0s - loss: 0.0653 - accuracy: 0.6763\n",
      "Epoch 00040: val_accuracy did not improve from 0.64450\n",
      "500/500 [==============================] - 0s 698us/step - loss: 0.0649 - accuracy: 0.6777 - val_loss: 0.0812 - val_accuracy: 0.6382\n",
      "Epoch 41/50\n",
      "438/500 [=========================>....] - ETA: 0s - loss: 0.0661 - accuracy: 0.6765\n",
      "Epoch 00041: val_accuracy did not improve from 0.64450\n",
      "500/500 [==============================] - 0s 686us/step - loss: 0.0658 - accuracy: 0.6765 - val_loss: 0.0815 - val_accuracy: 0.6330\n",
      "Epoch 42/50\n",
      "436/500 [=========================>....] - ETA: 0s - loss: 0.0648 - accuracy: 0.6793\n",
      "Epoch 00042: val_accuracy did not improve from 0.64450\n",
      "500/500 [==============================] - 0s 688us/step - loss: 0.0652 - accuracy: 0.6758 - val_loss: 0.0809 - val_accuracy: 0.6360\n",
      "Epoch 43/50\n",
      "431/500 [========================>.....] - ETA: 0s - loss: 0.0646 - accuracy: 0.6766\n",
      "Epoch 00043: val_accuracy did not improve from 0.64450\n",
      "500/500 [==============================] - 0s 696us/step - loss: 0.0649 - accuracy: 0.6769 - val_loss: 0.0816 - val_accuracy: 0.6317\n",
      "Epoch 44/50\n",
      "429/500 [========================>.....] - ETA: 0s - loss: 0.0642 - accuracy: 0.6829\n",
      "Epoch 00044: val_accuracy did not improve from 0.64450\n",
      "500/500 [==============================] - 0s 694us/step - loss: 0.0645 - accuracy: 0.6799 - val_loss: 0.0812 - val_accuracy: 0.6325\n",
      "Epoch 45/50\n",
      "425/500 [========================>.....] - ETA: 0s - loss: 0.0646 - accuracy: 0.6783\n",
      "Epoch 00045: val_accuracy did not improve from 0.64450\n",
      "500/500 [==============================] - 0s 702us/step - loss: 0.0649 - accuracy: 0.6775 - val_loss: 0.0811 - val_accuracy: 0.6363\n",
      "Epoch 46/50\n",
      "498/500 [============================>.] - ETA: 0s - loss: 0.0652 - accuracy: 0.6792\n",
      "Epoch 00046: val_accuracy did not improve from 0.64450\n",
      "500/500 [==============================] - 0s 714us/step - loss: 0.0652 - accuracy: 0.6789 - val_loss: 0.0814 - val_accuracy: 0.6400\n",
      "Epoch 47/50\n",
      "422/500 [========================>.....] - ETA: 0s - loss: 0.0650 - accuracy: 0.6739\n",
      "Epoch 00047: val_accuracy did not improve from 0.64450\n",
      "500/500 [==============================] - 0s 706us/step - loss: 0.0648 - accuracy: 0.6770 - val_loss: 0.0816 - val_accuracy: 0.6388\n",
      "Epoch 48/50\n",
      "487/500 [============================>.] - ETA: 0s - loss: 0.0652 - accuracy: 0.6757\n",
      "Epoch 00048: val_accuracy did not improve from 0.64450\n",
      "500/500 [==============================] - 0s 726us/step - loss: 0.0652 - accuracy: 0.6766 - val_loss: 0.0813 - val_accuracy: 0.6432\n",
      "Epoch 49/50\n",
      "487/500 [============================>.] - ETA: 0s - loss: 0.0651 - accuracy: 0.6738\n",
      "Epoch 00049: val_accuracy did not improve from 0.64450\n",
      "500/500 [==============================] - 0s 728us/step - loss: 0.0651 - accuracy: 0.6735 - val_loss: 0.0815 - val_accuracy: 0.6388\n",
      "Epoch 50/50\n",
      "427/500 [========================>.....] - ETA: 0s - loss: 0.0645 - accuracy: 0.6746\n",
      "Epoch 00050: val_accuracy did not improve from 0.64450\n",
      "500/500 [==============================] - 0s 696us/step - loss: 0.0647 - accuracy: 0.6749 - val_loss: 0.0814 - val_accuracy: 0.6425\n"
     ]
    }
   ],
   "source": [
    "liste_ep1 = [1, 5, 10, 15, 20, 25, 30, 40, 50]\n",
    "vals, f1s, res, temps = loop(liste_ep1, model_1, \"so_dl_01.hdf5\")"
   ]
  },
  {
   "cell_type": "code",
   "execution_count": 78,
   "metadata": {},
   "outputs": [
    {
     "name": "stdout",
     "output_type": "stream",
     "text": [
      "Durée de la boucle d'entrainements : 71.65409851074219\n",
      " Meilleur score : 0.6947982990421135, pour nb epochs : 20\n",
      "\n"
     ]
    },
    {
     "data": {
      "image/png": "[encoded data removed]",
      "text/plain": [
       "<Figure size 504x288 with 1 Axes>"
      ]
     },
     "metadata": {
      "needs_background": "light"
     },
     "output_type": "display_data"
    }
   ],
   "source": [
    "#avec 2dropout\n",
    "print(f\"Durée de la boucle d'entrainements : {temps}\")\n",
    "print(f\" Meilleur score : {np.max(np.array(f1s))}, pour nb epochs : {liste_ep1[np.argmax(np.array(f1s))]}\")\n",
    "print()\n",
    "graph(liste_ep1, vals, f1s)"
   ]
  },
  {
   "cell_type": "markdown",
   "metadata": {},
   "source": [
    "**Création du modèle optimal :**"
   ]
  },
  {
   "cell_type": "code",
   "execution_count": 79,
   "metadata": {},
   "outputs": [
    {
     "data": {
      "text/plain": [
       "0.6914259717160915"
      ]
     },
     "execution_count": 79,
     "metadata": {},
     "output_type": "execute_result"
    }
   ],
   "source": [
    "# Instanciation du modèle en récupérant les \"poids\" optimaux\n",
    "trained_model = create_model()\n",
    "trained_model.load_weights(\"so_dl_01.hdf5\")\n",
    "\n",
    "# Prévisions obtenues sur notre échantillon test avec ce modèle\n",
    "preds = trained_model.predict(X_test_ft_pca)\n",
    "preds = preds.round()\n",
    "\n",
    "# Calcul du F1_Score weighted\n",
    "f1_sc = f1_score(y_test,\n",
    "                 preds,\n",
    "                 average = \"weighted\")\n",
    "f1_sc"
   ]
  },
  {
   "cell_type": "markdown",
   "metadata": {},
   "source": [
    "Ce résultat sera le résultat définitif de ce projet.<br>Il nous montre qu'en plus de gérer sans douleur le **multi-label**, le **deep-learning** nous permet de dépasser tous les résultats obtenus jusqu'alors, et ce du premier coup, avec un **réseau de neurones** très basique.<br><br>Si on souhaite poursuivre et améliorer ce projet, la voie est toute tracée. C'est d'abord peut-être celle de **réseaux denses** plus approfondis, mais surtout aussi celle des réseaux adaptés au **NLP** que sont par exempls les **LSTM**, si toutefois la récente technologie **BERT** ne les a pas mis hors-jeux... "
   ]
  },
  {
   "cell_type": "markdown",
   "metadata": {},
   "source": [
    " "
   ]
  },
  {
   "cell_type": "markdown",
   "metadata": {},
   "source": [
    " "
   ]
  }
 ],
 "metadata": {
  "kernelspec": {
   "display_name": "py310",
   "language": "python",
   "name": "py310"
  },
  "language_info": {
   "codemirror_mode": {
    "name": "ipython",
    "version": 3
   },
   "file_extension": ".py",
   "mimetype": "text/x-python",
   "name": "python",
   "nbconvert_exporter": "python",
   "pygments_lexer": "ipython3",
   "version": "3.10.6"
  }
 },
 "nbformat": 4,
 "nbformat_minor": 4
}
