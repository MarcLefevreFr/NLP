{
 "cells": [
  {
   "cell_type": "markdown",
   "metadata": {},
   "source": [
    "Formation OpenClassrooms DS-IML - **Marc Lefèvre**, <marc.lefevre@noos.fr>"
   ]
  },
  {
   "cell_type": "markdown",
   "metadata": {},
   "source": [
    " "
   ]
  },
  {
   "cell_type": "markdown",
   "metadata": {},
   "source": [
    "# **Projet 7 : Classification de textes avec BERT**"
   ]
  },
  {
   "cell_type": "markdown",
   "metadata": {},
   "source": [
    " "
   ]
  },
  {
   "cell_type": "markdown",
   "metadata": {},
   "source": [
    " "
   ]
  },
  {
   "cell_type": "markdown",
   "metadata": {},
   "source": [
    "## **2ème partie : Construction d'un plus grand dataset**"
   ]
  },
  {
   "cell_type": "markdown",
   "metadata": {},
   "source": [
    " "
   ]
  },
  {
   "cell_type": "markdown",
   "metadata": {},
   "source": [
    " "
   ]
  },
  {
   "cell_type": "markdown",
   "metadata": {},
   "source": [
    "Suite aux résultats obtenus lors de notre première série de modélisations (notebook précédent), nous allons reconstruire ici un nouveau dataset plus large que l'original. Nous estimons que procéder à de nouvelles modélisations à partir de plus de données pourrait en effet nous permettre d'obtenir de meilleurs résultats."
   ]
  },
  {
   "cell_type": "markdown",
   "metadata": {},
   "source": [
    " "
   ]
  },
  {
   "cell_type": "markdown",
   "metadata": {},
   "source": [
    "### **Importation des bibliothèques python**"
   ]
  },
  {
   "cell_type": "code",
   "execution_count": 1,
   "metadata": {},
   "outputs": [],
   "source": [
    "import pandas as pd\n",
    "import os\n",
    "import pickle\n",
    "import bs4\n",
    "import spacy\n",
    "import re\n",
    "import numpy as np\n",
    "import random\n",
    "\n",
    "from time import time\n",
    "from bs4 import BeautifulSoup as soupe\n",
    "from collections import Counter\n",
    "from spacy.matcher import PhraseMatcher\n",
    "from sklearn.feature_extraction.text import CountVectorizer"
   ]
  },
  {
   "cell_type": "markdown",
   "metadata": {},
   "source": [
    " "
   ]
  },
  {
   "cell_type": "markdown",
   "metadata": {},
   "source": [
    "### **Récupération des données**"
   ]
  },
  {
   "cell_type": "markdown",
   "metadata": {},
   "source": [
    "Téléchargement des données brutes depuis le site **Stack Exchange** et son **API**:<br>https://data.stackexchange.com/stackoverflow/query/new\n"
   ]
  },
  {
   "cell_type": "markdown",
   "metadata": {},
   "source": [
    "Cela s'est fait au moyen des requêtes SQL qui suivent, qui nous permettaient de télécharger des données au format **CSV**. Comme précédemment, nous avons uniquement pioché dans les question postérieures à l'année **2014**. Afin de récupérer plus de données que lors du **projet 5**, nous avons diminué le nombre de vues exigées des questions (de 40000 à 20000)."
   ]
  },
  {
   "cell_type": "markdown",
   "metadata": {},
   "source": [
    "Première requête :"
   ]
  },
  {
   "cell_type": "raw",
   "metadata": {},
   "source": [
    "SELECT Id, CreationDate, ViewCount, Score, AnswerCount, CommentCount, FavoriteCount, Tags, Title, Body\n",
    "FROM Posts\n",
    "WHERE\n",
    "    (Id < 30000000 AND (NOT Id < 27727381))\n",
    "    AND PostTypeId = 1\n",
    "    AND Score > 0\n",
    "    AND AnswerCount > 0\n",
    "    AND CommentCount > 0\n",
    "    AND ViewCount > 20000"
   ]
  },
  {
   "cell_type": "markdown",
   "metadata": {},
   "source": [
    "Requêtes suivantes (qui parcourent la base de données Stack Overflow par \"paquets\" de 5 millions d'entrées...)."
   ]
  },
  {
   "cell_type": "raw",
   "metadata": {
    "jupyter": {
     "source_hidden": true
    }
   },
   "source": [
    "SELECT Id, CreationDate, ViewCount, Score, AnswerCount, CommentCount, FavoriteCount, Tags, Title, Body\n",
    "FROM Posts\n",
    "WHERE\n",
    "    (Id < 35000000 AND (NOT Id < 30000000))\n",
    "    AND PostTypeId = 1\n",
    "    AND Score > 0\n",
    "    AND AnswerCount > 0\n",
    "    AND CommentCount > 0\n",
    "    AND ViewCount > 20000"
   ]
  },
  {
   "cell_type": "raw",
   "metadata": {
    "jupyter": {
     "source_hidden": true
    }
   },
   "source": [
    "SELECT Id, CreationDate, ViewCount, Score, AnswerCount, CommentCount, FavoriteCount, Tags, Title, Body\n",
    "FROM Posts\n",
    "WHERE\n",
    "    (Id < 40000000 AND (NOT Id < 35000000))\n",
    "    AND PostTypeId = 1\n",
    "    AND Score > 0\n",
    "    AND AnswerCount > 0\n",
    "    AND CommentCount > 0\n",
    "    AND ViewCount > 20000"
   ]
  },
  {
   "cell_type": "raw",
   "metadata": {
    "jupyter": {
     "source_hidden": true
    }
   },
   "source": [
    "SELECT Id, CreationDate, ViewCount, Score, AnswerCount, CommentCount, FavoriteCount, Tags, Title, Body\n",
    "FROM Posts\n",
    "WHERE\n",
    "    (Id < 45000000 AND (NOT Id < 40000000))\n",
    "    AND PostTypeId = 1\n",
    "    AND Score > 0\n",
    "    AND AnswerCount > 0\n",
    "    AND CommentCount > 0\n",
    "    AND ViewCount > 20000"
   ]
  },
  {
   "cell_type": "raw",
   "metadata": {
    "jupyter": {
     "source_hidden": true
    }
   },
   "source": [
    "SELECT Id, CreationDate, ViewCount, Score, AnswerCount, CommentCount, FavoriteCount, Tags, Title, Body\n",
    "FROM Posts\n",
    "WHERE\n",
    "    (Id < 50000000 AND (NOT Id < 45000000))\n",
    "    AND PostTypeId = 1\n",
    "    AND Score > 0\n",
    "    AND AnswerCount > 0\n",
    "    AND CommentCount > 0\n",
    "    AND ViewCount > 20000"
   ]
  },
  {
   "cell_type": "raw",
   "metadata": {
    "jupyter": {
     "source_hidden": true
    }
   },
   "source": [
    "SELECT Id, CreationDate, ViewCount, Score, AnswerCount, CommentCount, FavoriteCount, Tags, Title, Body\n",
    "FROM Posts\n",
    "WHERE\n",
    "    (Id < 55000000 AND (NOT Id < 50000000))\n",
    "    AND PostTypeId = 1\n",
    "    AND Score > 0\n",
    "    AND AnswerCount > 0\n",
    "    AND CommentCount > 0\n",
    "    AND ViewCount > 15000"
   ]
  },
  {
   "cell_type": "raw",
   "metadata": {
    "jupyter": {
     "source_hidden": true
    }
   },
   "source": [
    "SELECT Id, CreationDate, ViewCount, Score, AnswerCount, CommentCount, FavoriteCount, Tags, Title, Body\n",
    "FROM Posts\n",
    "WHERE\n",
    "    (Id < 60000000 AND (NOT Id < 55000000))\n",
    "    AND PostTypeId = 1\n",
    "    AND Score > 0\n",
    "    AND AnswerCount > 0\n",
    "    AND CommentCount > 0\n",
    "    AND ViewCount > 15000"
   ]
  },
  {
   "cell_type": "raw",
   "metadata": {
    "jupyter": {
     "source_hidden": true
    }
   },
   "source": [
    "SELECT Id, CreationDate, ViewCount, Score, AnswerCount, CommentCount, FavoriteCount, Tags, Title, Body\n",
    "FROM Posts\n",
    "WHERE\n",
    "    (Id < 65000000 AND (NOT Id < 60000000))\n",
    "    AND PostTypeId = 1\n",
    "    AND Score > 0\n",
    "    AND AnswerCount > 0\n",
    "    AND CommentCount > 0\n",
    "    AND ViewCount > 10000"
   ]
  },
  {
   "cell_type": "raw",
   "metadata": {
    "jupyter": {
     "source_hidden": true
    }
   },
   "source": [
    "SELECT Id, CreationDate, ViewCount, Score, AnswerCount, CommentCount, FavoriteCount, Tags, Title, Body\n",
    "FROM Posts\n",
    "WHERE\n",
    "    (Id < 70000000 AND (NOT Id < 65000000))\n",
    "    AND PostTypeId = 1\n",
    "    AND Score > 0\n",
    "    AND AnswerCount > 0\n",
    "    AND CommentCount > 0\n",
    "    AND ViewCount > 5000"
   ]
  },
  {
   "cell_type": "raw",
   "metadata": {
    "jupyter": {
     "source_hidden": true
    }
   },
   "source": [
    "SELECT Id, CreationDate, ViewCount, Score, AnswerCount, CommentCount, FavoriteCount, Tags, Title, Body\n",
    "FROM Posts\n",
    "WHERE\n",
    "    (Id < 75000000 AND (NOT Id < 70000000))\n",
    "    AND PostTypeId = 1\n",
    "    AND Score > 0\n",
    "    AND AnswerCount > 0\n",
    "    AND CommentCount > 0\n",
    "    AND ViewCount > 5000"
   ]
  },
  {
   "cell_type": "markdown",
   "metadata": {},
   "source": [
    "Fichiers obtenus :"
   ]
  },
  {
   "cell_type": "code",
   "execution_count": 4,
   "metadata": {},
   "outputs": [
    {
     "data": {
      "text/plain": [
       "['QueryResults(1).csv',\n",
       " 'QueryResults(2).csv',\n",
       " 'QueryResults(3).csv',\n",
       " 'QueryResults(4).csv',\n",
       " 'QueryResults(5).csv',\n",
       " 'QueryResults(6).csv',\n",
       " 'QueryResults(7).csv',\n",
       " 'QueryResults(8).csv',\n",
       " 'QueryResults.csv']"
      ]
     },
     "execution_count": 4,
     "metadata": {},
     "output_type": "execute_result"
    }
   ],
   "source": [
    "cwd = os.getcwd()\n",
    "path = cwd + \"/Original_Data_1/\"\n",
    "files = os.listdir(path)\n",
    "files"
   ]
  },
  {
   "cell_type": "markdown",
   "metadata": {},
   "source": [
    "Nombre de questions téléchargées :"
   ]
  },
  {
   "cell_type": "code",
   "execution_count": 5,
   "metadata": {},
   "outputs": [
    {
     "name": "stdout",
     "output_type": "stream",
     "text": [
      "Le nombre total de question téléchargées est : 60387\n"
     ]
    }
   ],
   "source": [
    "nb_posts = 0\n",
    "\n",
    "for f in files :\n",
    "    \n",
    "    fich = path + f\n",
    "    df = pd.read_csv(fich)\n",
    "    nb_posts = nb_posts + len(df)\n",
    "    \n",
    "print(f\"Le nombre total de questions téléchargées est : {nb_posts}\")"
   ]
  },
  {
   "cell_type": "markdown",
   "metadata": {},
   "source": [
    "Réunion des questions dans un dataframe unique."
   ]
  },
  {
   "cell_type": "code",
   "execution_count": 95,
   "metadata": {},
   "outputs": [
    {
     "name": "stdout",
     "output_type": "stream",
     "text": [
      "Le nombre totale de question téléchargées est : 60387\n"
     ]
    }
   ],
   "source": [
    "df = pd.DataFrame()\n",
    "\n",
    "cwd = os.getcwd()\n",
    "path = cwd + \"/Original_Data_1/\"\n",
    "files = os.listdir(path)\n",
    "\n",
    "for f in files :\n",
    "    \n",
    "    fichier = path + f\n",
    "    df = pd.concat([df, pd.read_csv(fichier)], ignore_index = True)\n",
    "    \n",
    "print(f\"Le nombre total de questions téléchargées est : {len(df)}\")"
   ]
  },
  {
   "cell_type": "markdown",
   "metadata": {},
   "source": [
    "On a le même nombre de question, la réunion s'est donc bien passée."
   ]
  },
  {
   "cell_type": "code",
   "execution_count": 96,
   "metadata": {},
   "outputs": [
    {
     "data": {
      "text/html": [
       "<div>\n",
       "<style scoped>\n",
       "    .dataframe tbody tr th:only-of-type {\n",
       "        vertical-align: middle;\n",
       "    }\n",
       "\n",
       "    .dataframe tbody tr th {\n",
       "        vertical-align: top;\n",
       "    }\n",
       "\n",
       "    .dataframe thead th {\n",
       "        text-align: right;\n",
       "    }\n",
       "</style>\n",
       "<table border=\"1\" class=\"dataframe\">\n",
       "  <thead>\n",
       "    <tr style=\"text-align: right;\">\n",
       "      <th></th>\n",
       "      <th>Id</th>\n",
       "      <th>CreationDate</th>\n",
       "      <th>ViewCount</th>\n",
       "      <th>Score</th>\n",
       "      <th>AnswerCount</th>\n",
       "      <th>CommentCount</th>\n",
       "      <th>FavoriteCount</th>\n",
       "      <th>Tags</th>\n",
       "      <th>Title</th>\n",
       "      <th>Body</th>\n",
       "    </tr>\n",
       "  </thead>\n",
       "  <tbody>\n",
       "    <tr>\n",
       "      <th>0</th>\n",
       "      <td>30000088</td>\n",
       "      <td>2015-05-02 08:28:27</td>\n",
       "      <td>30813</td>\n",
       "      <td>12</td>\n",
       "      <td>3</td>\n",
       "      <td>4</td>\n",
       "      <td>0.0</td>\n",
       "      <td>&lt;java&gt;</td>\n",
       "      <td>How to implement negative indexes in java?</td>\n",
       "      <td>&lt;p&gt;In Python, you are allowed to use negative ...</td>\n",
       "    </tr>\n",
       "  </tbody>\n",
       "</table>\n",
       "</div>"
      ],
      "text/plain": [
       "         Id         CreationDate  ViewCount  Score  AnswerCount  CommentCount  \\\n",
       "0  30000088  2015-05-02 08:28:27      30813     12            3             4   \n",
       "\n",
       "   FavoriteCount    Tags                                       Title  \\\n",
       "0            0.0  <java>  How to implement negative indexes in java?   \n",
       "\n",
       "                                                Body  \n",
       "0  <p>In Python, you are allowed to use negative ...  "
      ]
     },
     "execution_count": 96,
     "metadata": {},
     "output_type": "execute_result"
    }
   ],
   "source": [
    "df.head(1)"
   ]
  },
  {
   "cell_type": "markdown",
   "metadata": {},
   "source": [
    "Comme nous aimons les \"comptes ronds\", nous allons restreindre nos données aux **50000 questions**, parmi celles dont on dispose, qui ont le plus grand nombre de vues.<br>Par ailleurs, avec ce nombre questions, nous aurons doublé celui dont on disposait initialement."
   ]
  },
  {
   "cell_type": "code",
   "execution_count": 100,
   "metadata": {},
   "outputs": [
    {
     "data": {
      "text/html": [
       "<div>\n",
       "<style scoped>\n",
       "    .dataframe tbody tr th:only-of-type {\n",
       "        vertical-align: middle;\n",
       "    }\n",
       "\n",
       "    .dataframe tbody tr th {\n",
       "        vertical-align: top;\n",
       "    }\n",
       "\n",
       "    .dataframe thead th {\n",
       "        text-align: right;\n",
       "    }\n",
       "</style>\n",
       "<table border=\"1\" class=\"dataframe\">\n",
       "  <thead>\n",
       "    <tr style=\"text-align: right;\">\n",
       "      <th></th>\n",
       "      <th>Id</th>\n",
       "      <th>CreationDate</th>\n",
       "      <th>ViewCount</th>\n",
       "      <th>Score</th>\n",
       "      <th>AnswerCount</th>\n",
       "      <th>CommentCount</th>\n",
       "      <th>FavoriteCount</th>\n",
       "      <th>Tags</th>\n",
       "      <th>Title</th>\n",
       "      <th>Body</th>\n",
       "    </tr>\n",
       "  </thead>\n",
       "  <tbody>\n",
       "    <tr>\n",
       "      <th>60303</th>\n",
       "      <td>29973357</td>\n",
       "      <td>2015-04-30 16:43:35</td>\n",
       "      <td>2893381</td>\n",
       "      <td>990</td>\n",
       "      <td>29</td>\n",
       "      <td>3</td>\n",
       "      <td>626.0</td>\n",
       "      <td>&lt;code-formatting&gt;&lt;visual-studio-code&gt;</td>\n",
       "      <td>How do you format code in Visual Studio Code (...</td>\n",
       "      <td>&lt;p&gt;What is the equivalent of &lt;kbd&gt;Ctrl&lt;/kbd&gt; +...</td>\n",
       "    </tr>\n",
       "  </tbody>\n",
       "</table>\n",
       "</div>"
      ],
      "text/plain": [
       "             Id         CreationDate  ViewCount  Score  AnswerCount  \\\n",
       "60303  29973357  2015-04-30 16:43:35    2893381    990           29   \n",
       "\n",
       "       CommentCount  FavoriteCount                                   Tags  \\\n",
       "60303             3          626.0  <code-formatting><visual-studio-code>   \n",
       "\n",
       "                                                   Title  \\\n",
       "60303  How do you format code in Visual Studio Code (...   \n",
       "\n",
       "                                                    Body  \n",
       "60303  <p>What is the equivalent of <kbd>Ctrl</kbd> +...  "
      ]
     },
     "execution_count": 100,
     "metadata": {},
     "output_type": "execute_result"
    }
   ],
   "source": [
    "# Classement des questions par nombre de vues\n",
    "df = df.sort_values(\"ViewCount\", ascending = False)\n",
    "\n",
    "# On ne garde que les 50000 premières\n",
    "df = df.iloc[:50000]\n",
    "df.head(1)"
   ]
  },
  {
   "cell_type": "markdown",
   "metadata": {},
   "source": [
    "Restriction du dataset aux données qui nous intéressent, les colonnes **Tags**, **Title** et **Body**."
   ]
  },
  {
   "cell_type": "code",
   "execution_count": 102,
   "metadata": {},
   "outputs": [
    {
     "data": {
      "text/html": [
       "<div>\n",
       "<style scoped>\n",
       "    .dataframe tbody tr th:only-of-type {\n",
       "        vertical-align: middle;\n",
       "    }\n",
       "\n",
       "    .dataframe tbody tr th {\n",
       "        vertical-align: top;\n",
       "    }\n",
       "\n",
       "    .dataframe thead th {\n",
       "        text-align: right;\n",
       "    }\n",
       "</style>\n",
       "<table border=\"1\" class=\"dataframe\">\n",
       "  <thead>\n",
       "    <tr style=\"text-align: right;\">\n",
       "      <th></th>\n",
       "      <th>Tags</th>\n",
       "      <th>Title</th>\n",
       "      <th>Body</th>\n",
       "    </tr>\n",
       "  </thead>\n",
       "  <tbody>\n",
       "    <tr>\n",
       "      <th>60303</th>\n",
       "      <td>&lt;code-formatting&gt;&lt;visual-studio-code&gt;</td>\n",
       "      <td>How do you format code in Visual Studio Code (...</td>\n",
       "      <td>&lt;p&gt;What is the equivalent of &lt;kbd&gt;Ctrl&lt;/kbd&gt; +...</td>\n",
       "    </tr>\n",
       "    <tr>\n",
       "      <th>15907</th>\n",
       "      <td>&lt;git&gt;&lt;credentials&gt;&lt;git-config&gt;&lt;git-extensions&gt;</td>\n",
       "      <td>How to save username and password in Git?</td>\n",
       "      <td>&lt;p&gt;I want to use a push and pull automatically...</td>\n",
       "    </tr>\n",
       "    <tr>\n",
       "      <th>20762</th>\n",
       "      <td>&lt;git&gt;&lt;rebase&gt;</td>\n",
       "      <td>Git refusing to merge unrelated histories on r...</td>\n",
       "      <td>&lt;p&gt;During &lt;code&gt;git rebase origin/development&lt;...</td>\n",
       "    </tr>\n",
       "    <tr>\n",
       "      <th>53759</th>\n",
       "      <td>&lt;python&gt;&lt;pip&gt;&lt;python-wheel&gt;&lt;downloadfile&gt;&lt;jpype&gt;</td>\n",
       "      <td>How do I install a Python package with a .whl ...</td>\n",
       "      <td>&lt;p&gt;I'm having trouble installing a Python pack...</td>\n",
       "    </tr>\n",
       "    <tr>\n",
       "      <th>15054</th>\n",
       "      <td>&lt;javascript&gt;&lt;ajax&gt;&lt;http&gt;&lt;cors&gt;&lt;http-status-cod...</td>\n",
       "      <td>Response to preflight request doesn't pass acc...</td>\n",
       "      <td>&lt;p&gt;I'm getting this error using ngResource to ...</td>\n",
       "    </tr>\n",
       "  </tbody>\n",
       "</table>\n",
       "</div>"
      ],
      "text/plain": [
       "                                                    Tags  \\\n",
       "60303              <code-formatting><visual-studio-code>   \n",
       "15907     <git><credentials><git-config><git-extensions>   \n",
       "20762                                      <git><rebase>   \n",
       "53759   <python><pip><python-wheel><downloadfile><jpype>   \n",
       "15054  <javascript><ajax><http><cors><http-status-cod...   \n",
       "\n",
       "                                                   Title  \\\n",
       "60303  How do you format code in Visual Studio Code (...   \n",
       "15907          How to save username and password in Git?   \n",
       "20762  Git refusing to merge unrelated histories on r...   \n",
       "53759  How do I install a Python package with a .whl ...   \n",
       "15054  Response to preflight request doesn't pass acc...   \n",
       "\n",
       "                                                    Body  \n",
       "60303  <p>What is the equivalent of <kbd>Ctrl</kbd> +...  \n",
       "15907  <p>I want to use a push and pull automatically...  \n",
       "20762  <p>During <code>git rebase origin/development<...  \n",
       "53759  <p>I'm having trouble installing a Python pack...  \n",
       "15054  <p>I'm getting this error using ngResource to ...  "
      ]
     },
     "execution_count": 102,
     "metadata": {},
     "output_type": "execute_result"
    }
   ],
   "source": [
    "df = df[[\"Tags\", \"Title\", \"Body\"]]\n",
    "df.head()"
   ]
  },
  {
   "cell_type": "code",
   "execution_count": 103,
   "metadata": {},
   "outputs": [],
   "source": [
    "# Sauvegarde des données brutes\n",
    "pickle_out = open(\"Data/corpus_raw.pickle\", \"wb\")\n",
    "pickle.dump(df, pickle_out)\n",
    "pickle_out.close()"
   ]
  },
  {
   "cell_type": "markdown",
   "metadata": {},
   "source": [
    " "
   ]
  },
  {
   "cell_type": "markdown",
   "metadata": {},
   "source": [
    "### **Nettoyage des données texte**"
   ]
  },
  {
   "cell_type": "code",
   "execution_count": 77,
   "metadata": {},
   "outputs": [],
   "source": [
    "df = pickle.load(open(\"Data/corpus_raw.pickle\", \"rb\"))"
   ]
  },
  {
   "cell_type": "markdown",
   "metadata": {},
   "source": [
    "Fonction de \"nettoyage\" des données texte de la colonne **Body**.<br>Cette fonction :<br>- Elimine les \"gros\" blocs de code présents entre balises de préformattage \"pre\".<br>- Nettoye le texte gardé des retours charriot.<br><br>Initialement lors du projet 5, nous enlevions aussi les majuscules, mais comme les modèles de type Bert sont sensés traiter du texte tel quel, nous nous passons de cette étape."
   ]
  },
  {
   "cell_type": "code",
   "execution_count": 79,
   "metadata": {},
   "outputs": [],
   "source": [
    "def map_text(x):\n",
    "    \n",
    "    liste_sans_pre = []\n",
    "    texte = \"\"\n",
    "    \n",
    "    soup = soupe(x)\n",
    "\n",
    "    for cont in soup :\n",
    "\n",
    "        if cont.name != \"pre\":\n",
    "\n",
    "            liste_sans_pre.append(cont)\n",
    "            \n",
    "    for c in liste_sans_pre :\n",
    "    \n",
    "        if isinstance(c, bs4.element.Tag):\n",
    "\n",
    "            texte = texte + c.text.replace(\"\\n\", \"\") + \" \"\n",
    "\n",
    "    texte = texte.rstrip()\n",
    "    \n",
    "    #return texte.lower()\n",
    "    return texte"
   ]
  },
  {
   "cell_type": "code",
   "execution_count": 80,
   "metadata": {},
   "outputs": [
    {
     "data": {
      "text/html": [
       "<div>\n",
       "<style scoped>\n",
       "    .dataframe tbody tr th:only-of-type {\n",
       "        vertical-align: middle;\n",
       "    }\n",
       "\n",
       "    .dataframe tbody tr th {\n",
       "        vertical-align: top;\n",
       "    }\n",
       "\n",
       "    .dataframe thead th {\n",
       "        text-align: right;\n",
       "    }\n",
       "</style>\n",
       "<table border=\"1\" class=\"dataframe\">\n",
       "  <thead>\n",
       "    <tr style=\"text-align: right;\">\n",
       "      <th></th>\n",
       "      <th>Tags</th>\n",
       "      <th>Title</th>\n",
       "      <th>Body</th>\n",
       "      <th>Body_texte</th>\n",
       "    </tr>\n",
       "  </thead>\n",
       "  <tbody>\n",
       "    <tr>\n",
       "      <th>60303</th>\n",
       "      <td>&lt;code-formatting&gt;&lt;visual-studio-code&gt;</td>\n",
       "      <td>How do you format code in Visual Studio Code (...</td>\n",
       "      <td>&lt;p&gt;What is the equivalent of &lt;kbd&gt;Ctrl&lt;/kbd&gt; +...</td>\n",
       "      <td>What is the equivalent of Ctrl + K + F and Ctr...</td>\n",
       "    </tr>\n",
       "    <tr>\n",
       "      <th>15907</th>\n",
       "      <td>&lt;git&gt;&lt;credentials&gt;&lt;git-config&gt;&lt;git-extensions&gt;</td>\n",
       "      <td>How to save username and password in Git?</td>\n",
       "      <td>&lt;p&gt;I want to use a push and pull automatically...</td>\n",
       "      <td>I want to use a push and pull automatically in...</td>\n",
       "    </tr>\n",
       "    <tr>\n",
       "      <th>20762</th>\n",
       "      <td>&lt;git&gt;&lt;rebase&gt;</td>\n",
       "      <td>Git refusing to merge unrelated histories on r...</td>\n",
       "      <td>&lt;p&gt;During &lt;code&gt;git rebase origin/development&lt;...</td>\n",
       "      <td>During git rebase origin/development the follo...</td>\n",
       "    </tr>\n",
       "  </tbody>\n",
       "</table>\n",
       "</div>"
      ],
      "text/plain": [
       "                                                 Tags  \\\n",
       "60303           <code-formatting><visual-studio-code>   \n",
       "15907  <git><credentials><git-config><git-extensions>   \n",
       "20762                                   <git><rebase>   \n",
       "\n",
       "                                                   Title  \\\n",
       "60303  How do you format code in Visual Studio Code (...   \n",
       "15907          How to save username and password in Git?   \n",
       "20762  Git refusing to merge unrelated histories on r...   \n",
       "\n",
       "                                                    Body  \\\n",
       "60303  <p>What is the equivalent of <kbd>Ctrl</kbd> +...   \n",
       "15907  <p>I want to use a push and pull automatically...   \n",
       "20762  <p>During <code>git rebase origin/development<...   \n",
       "\n",
       "                                              Body_texte  \n",
       "60303  What is the equivalent of Ctrl + K + F and Ctr...  \n",
       "15907  I want to use a push and pull automatically in...  \n",
       "20762  During git rebase origin/development the follo...  "
      ]
     },
     "execution_count": 80,
     "metadata": {},
     "output_type": "execute_result"
    }
   ],
   "source": [
    "df[\"Body_texte\"] = df[\"Body\"].map(map_text)\n",
    "df.head(3)"
   ]
  },
  {
   "cell_type": "markdown",
   "metadata": {},
   "source": [
    "Ajout d'une ponctuation pour les titres n'en ayant pas."
   ]
  },
  {
   "cell_type": "code",
   "execution_count": 82,
   "metadata": {},
   "outputs": [],
   "source": [
    "for index, row in df.iterrows():\n",
    "    if row['Title'][-1] not in [\".\", \"?\", \"!\"]:\n",
    "        row['Title'] = row['Title'] + \".\""
   ]
  },
  {
   "cell_type": "markdown",
   "metadata": {},
   "source": [
    "Réunion des colonnes **Title** et **Body** en une seule contenant tout le texte des questions."
   ]
  },
  {
   "cell_type": "code",
   "execution_count": 84,
   "metadata": {},
   "outputs": [],
   "source": [
    "df[\"texte\"] = df[\"Title\"] + \" \" + df[\"Body_texte\"]"
   ]
  },
  {
   "cell_type": "code",
   "execution_count": 85,
   "metadata": {},
   "outputs": [
    {
     "data": {
      "text/html": [
       "<div>\n",
       "<style scoped>\n",
       "    .dataframe tbody tr th:only-of-type {\n",
       "        vertical-align: middle;\n",
       "    }\n",
       "\n",
       "    .dataframe tbody tr th {\n",
       "        vertical-align: top;\n",
       "    }\n",
       "\n",
       "    .dataframe thead th {\n",
       "        text-align: right;\n",
       "    }\n",
       "</style>\n",
       "<table border=\"1\" class=\"dataframe\">\n",
       "  <thead>\n",
       "    <tr style=\"text-align: right;\">\n",
       "      <th></th>\n",
       "      <th>Tags</th>\n",
       "      <th>Title</th>\n",
       "      <th>Body</th>\n",
       "      <th>Body_texte</th>\n",
       "      <th>texte</th>\n",
       "    </tr>\n",
       "  </thead>\n",
       "  <tbody>\n",
       "    <tr>\n",
       "      <th>60303</th>\n",
       "      <td>&lt;code-formatting&gt;&lt;visual-studio-code&gt;</td>\n",
       "      <td>How do you format code in Visual Studio Code (...</td>\n",
       "      <td>&lt;p&gt;What is the equivalent of &lt;kbd&gt;Ctrl&lt;/kbd&gt; +...</td>\n",
       "      <td>What is the equivalent of Ctrl + K + F and Ctr...</td>\n",
       "      <td>How do you format code in Visual Studio Code (...</td>\n",
       "    </tr>\n",
       "    <tr>\n",
       "      <th>15907</th>\n",
       "      <td>&lt;git&gt;&lt;credentials&gt;&lt;git-config&gt;&lt;git-extensions&gt;</td>\n",
       "      <td>How to save username and password in Git?</td>\n",
       "      <td>&lt;p&gt;I want to use a push and pull automatically...</td>\n",
       "      <td>I want to use a push and pull automatically in...</td>\n",
       "      <td>How to save username and password in Git? I wa...</td>\n",
       "    </tr>\n",
       "    <tr>\n",
       "      <th>20762</th>\n",
       "      <td>&lt;git&gt;&lt;rebase&gt;</td>\n",
       "      <td>Git refusing to merge unrelated histories on r...</td>\n",
       "      <td>&lt;p&gt;During &lt;code&gt;git rebase origin/development&lt;...</td>\n",
       "      <td>During git rebase origin/development the follo...</td>\n",
       "      <td>Git refusing to merge unrelated histories on r...</td>\n",
       "    </tr>\n",
       "  </tbody>\n",
       "</table>\n",
       "</div>"
      ],
      "text/plain": [
       "                                                 Tags  \\\n",
       "60303           <code-formatting><visual-studio-code>   \n",
       "15907  <git><credentials><git-config><git-extensions>   \n",
       "20762                                   <git><rebase>   \n",
       "\n",
       "                                                   Title  \\\n",
       "60303  How do you format code in Visual Studio Code (...   \n",
       "15907          How to save username and password in Git?   \n",
       "20762  Git refusing to merge unrelated histories on r...   \n",
       "\n",
       "                                                    Body  \\\n",
       "60303  <p>What is the equivalent of <kbd>Ctrl</kbd> +...   \n",
       "15907  <p>I want to use a push and pull automatically...   \n",
       "20762  <p>During <code>git rebase origin/development<...   \n",
       "\n",
       "                                              Body_texte  \\\n",
       "60303  What is the equivalent of Ctrl + K + F and Ctr...   \n",
       "15907  I want to use a push and pull automatically in...   \n",
       "20762  During git rebase origin/development the follo...   \n",
       "\n",
       "                                                   texte  \n",
       "60303  How do you format code in Visual Studio Code (...  \n",
       "15907  How to save username and password in Git? I wa...  \n",
       "20762  Git refusing to merge unrelated histories on r...  "
      ]
     },
     "execution_count": 85,
     "metadata": {},
     "output_type": "execute_result"
    }
   ],
   "source": [
    "df.head(3)"
   ]
  },
  {
   "cell_type": "code",
   "execution_count": 83,
   "metadata": {},
   "outputs": [
    {
     "name": "stdout",
     "output_type": "stream",
     "text": [
      "0\n"
     ]
    }
   ],
   "source": [
    "i = 0\n",
    "\n",
    "for index, row in df.iterrows():\n",
    "    if row['Title'][-1] not in [\".\", \"?\", \"!\"]:\n",
    "        i = i+1\n",
    "\n",
    "print(i)"
   ]
  },
  {
   "cell_type": "markdown",
   "metadata": {},
   "source": [
    "Le traitement des tags sera lui inchangé..."
   ]
  },
  {
   "cell_type": "markdown",
   "metadata": {},
   "source": [
    "Premier nettoyage des tags (chevrons...) et élimination des colonnes désormais inutiles."
   ]
  },
  {
   "cell_type": "code",
   "execution_count": 86,
   "metadata": {},
   "outputs": [],
   "source": [
    "def map_tags(x):\n",
    "    \n",
    "    x = x.replace(\"<\", \"\")\n",
    "    x = x.replace(\">\", \" \")\n",
    "    x = x.rstrip()\n",
    "    \n",
    "    return x"
   ]
  },
  {
   "cell_type": "code",
   "execution_count": 87,
   "metadata": {},
   "outputs": [],
   "source": [
    "df[\"tags\"] = df[\"Tags\"].map(map_tags)"
   ]
  },
  {
   "cell_type": "code",
   "execution_count": 88,
   "metadata": {},
   "outputs": [
    {
     "data": {
      "text/html": [
       "<div>\n",
       "<style scoped>\n",
       "    .dataframe tbody tr th:only-of-type {\n",
       "        vertical-align: middle;\n",
       "    }\n",
       "\n",
       "    .dataframe tbody tr th {\n",
       "        vertical-align: top;\n",
       "    }\n",
       "\n",
       "    .dataframe thead th {\n",
       "        text-align: right;\n",
       "    }\n",
       "</style>\n",
       "<table border=\"1\" class=\"dataframe\">\n",
       "  <thead>\n",
       "    <tr style=\"text-align: right;\">\n",
       "      <th></th>\n",
       "      <th>tags</th>\n",
       "      <th>texte</th>\n",
       "    </tr>\n",
       "  </thead>\n",
       "  <tbody>\n",
       "    <tr>\n",
       "      <th>60303</th>\n",
       "      <td>code-formatting visual-studio-code</td>\n",
       "      <td>How do you format code in Visual Studio Code (...</td>\n",
       "    </tr>\n",
       "    <tr>\n",
       "      <th>15907</th>\n",
       "      <td>git credentials git-config git-extensions</td>\n",
       "      <td>How to save username and password in Git? I wa...</td>\n",
       "    </tr>\n",
       "    <tr>\n",
       "      <th>20762</th>\n",
       "      <td>git rebase</td>\n",
       "      <td>Git refusing to merge unrelated histories on r...</td>\n",
       "    </tr>\n",
       "    <tr>\n",
       "      <th>53759</th>\n",
       "      <td>python pip python-wheel downloadfile jpype</td>\n",
       "      <td>How do I install a Python package with a .whl ...</td>\n",
       "    </tr>\n",
       "    <tr>\n",
       "      <th>15054</th>\n",
       "      <td>javascript ajax http cors http-status-code-405</td>\n",
       "      <td>Response to preflight request doesn't pass acc...</td>\n",
       "    </tr>\n",
       "  </tbody>\n",
       "</table>\n",
       "</div>"
      ],
      "text/plain": [
       "                                                 tags  \\\n",
       "60303              code-formatting visual-studio-code   \n",
       "15907       git credentials git-config git-extensions   \n",
       "20762                                      git rebase   \n",
       "53759      python pip python-wheel downloadfile jpype   \n",
       "15054  javascript ajax http cors http-status-code-405   \n",
       "\n",
       "                                                   texte  \n",
       "60303  How do you format code in Visual Studio Code (...  \n",
       "15907  How to save username and password in Git? I wa...  \n",
       "20762  Git refusing to merge unrelated histories on r...  \n",
       "53759  How do I install a Python package with a .whl ...  \n",
       "15054  Response to preflight request doesn't pass acc...  "
      ]
     },
     "execution_count": 88,
     "metadata": {},
     "output_type": "execute_result"
    }
   ],
   "source": [
    "df = df[[\"tags\", \"texte\"]]\n",
    "df.head(5)"
   ]
  },
  {
   "cell_type": "code",
   "execution_count": 89,
   "metadata": {},
   "outputs": [],
   "source": [
    "pickle_out = open(\"Data/corpus.pickle\", \"wb\")\n",
    "pickle.dump(df, pickle_out)\n",
    "pickle_out.close()"
   ]
  },
  {
   "cell_type": "markdown",
   "metadata": {},
   "source": [
    "### **Nettoyage et sélection des tags**"
   ]
  },
  {
   "cell_type": "code",
   "execution_count": 90,
   "metadata": {},
   "outputs": [],
   "source": [
    "df = pickle.load(open(\"Data/corpus.pickle\", \"rb\"))"
   ]
  },
  {
   "cell_type": "markdown",
   "metadata": {},
   "source": [
    "Chargement d'un modèle **SpaCy** et fonction de nettoyage & uniformisation des tags."
   ]
  },
  {
   "cell_type": "code",
   "execution_count": 91,
   "metadata": {},
   "outputs": [],
   "source": [
    "nlp = spacy.blank(\"en\")\n",
    "\n",
    "def clean_tags(x) :\n",
    "    \n",
    "    # supprime les \"-\"\n",
    "    x = x.replace(\"-\", \" \")\n",
    "    # regex pour ne garder que les lettres + exceptions : le \"#\" de \"c#\"\n",
    "    x = re.sub('[^a-z#+\\s.]+', '', x)\n",
    "    # on clean les \"x\" seuls\n",
    "    x = x.replace(\" x\", \"\")\n",
    "\n",
    "    \n",
    "    out = \"\"\n",
    "    seen = set()\n",
    "    doc = nlp(x)\n",
    "    \n",
    "    for word in doc :\n",
    "        \n",
    "        if word.text not in seen:\n",
    "            out = out + \" \" + word.text\n",
    "            out = out.lstrip()\n",
    "            \n",
    "        seen.add(word.text)\n",
    "    \n",
    "    # corrections manuelles de découpages faits par spacy \n",
    "    out = out.replace(\" .x\", \"\")\n",
    "    out = out.replace(\" . \", \" \")\n",
    "    out = out.replace(\"c #\", \"c#\")\n",
    "    \n",
    "    return out"
   ]
  },
  {
   "cell_type": "markdown",
   "metadata": {},
   "source": [
    "Utilistion de cette fonction pour créer une colonne de tags \"nettoyés\"."
   ]
  },
  {
   "cell_type": "code",
   "execution_count": 92,
   "metadata": {},
   "outputs": [],
   "source": [
    "df[\"tags_c\"] = df[\"tags\"].map(clean_tags)"
   ]
  },
  {
   "cell_type": "markdown",
   "metadata": {},
   "source": [
    "Afin de sélectionner les tags les plus courants, on commence par les réunir dans un (long) objet **string** à partir duquel **SpaCy** nous permettra de facilement les compter."
   ]
  },
  {
   "cell_type": "code",
   "execution_count": 93,
   "metadata": {},
   "outputs": [],
   "source": [
    "tag_c_text = \"\"\n",
    "\n",
    "for t in df.tags_c.values :\n",
    "    \n",
    "    tag_c_text = tag_c_text + \" \" + t\n",
    "    \n",
    "tag_c_text = tag_c_text.lstrip()"
   ]
  },
  {
   "cell_type": "markdown",
   "metadata": {},
   "source": [
    "Décompte des tags..."
   ]
  },
  {
   "cell_type": "code",
   "execution_count": 94,
   "metadata": {},
   "outputs": [],
   "source": [
    "# Ce code enlève le caractère \"#\" des suffixes de SpaCy afin de préserver un tag comme \"c#\"\n",
    "suffixes = list(nlp.Defaults.suffixes)\n",
    "suffixes.remove(\"#\")\n",
    "suffix_regex = spacy.util.compile_suffix_regex(suffixes)\n",
    "nlp.tokenizer.suffix_search = suffix_regex.search\n",
    "\n",
    "# Comme on travaille sur un très long objet string, on augmente une limitation par défaut de SpaCy.\n",
    "nlp.max_length = 1500000\n",
    "\n",
    "doc2 = nlp(tag_c_text)\n",
    "tags_c = [token.text for token in doc2 if token.is_punct == False and token.is_space == False]"
   ]
  },
  {
   "cell_type": "markdown",
   "metadata": {},
   "source": [
    "Hit-parade de nos tags..."
   ]
  },
  {
   "cell_type": "code",
   "execution_count": 95,
   "metadata": {},
   "outputs": [
    {
     "data": {
      "text/plain": [
       "[('python', 6895),\n",
       " ('javascript', 6283),\n",
       " ('java', 4438),\n",
       " ('android', 4418),\n",
       " ('angular', 2985),\n",
       " ('html', 2364),\n",
       " ('php', 2242),\n",
       " ('c#', 2159),\n",
       " ('reactjs', 2116),\n",
       " ('studio', 2009),\n",
       " ('css', 1821),\n",
       " ('ios', 1675),\n",
       " ('node.js', 1649),\n",
       " ('spring', 1521),\n",
       " ('typescript', 1511),\n",
       " ('swift', 1372),\n",
       " ('jquery', 1358),\n",
       " ('asp.net', 1300),\n",
       " ('laravel', 1263),\n",
       " ('sql', 1237),\n",
       " ('react', 1223),\n",
       " ('visual', 1200),\n",
       " ('google', 1143),\n",
       " ('json', 1135),\n",
       " ('pandas', 1125),\n",
       " ('docker', 936)]"
      ]
     },
     "execution_count": 95,
     "metadata": {},
     "output_type": "execute_result"
    }
   ],
   "source": [
    "tag_c_freq = Counter(tags_c)\n",
    "top_c = tag_c_freq.most_common(26)\n",
    "top_c"
   ]
  },
  {
   "cell_type": "markdown",
   "metadata": {},
   "source": [
    "Sans les chiffres..."
   ]
  },
  {
   "cell_type": "code",
   "execution_count": 96,
   "metadata": {},
   "outputs": [
    {
     "data": {
      "text/plain": [
       "(['python',\n",
       "  'javascript',\n",
       "  'java',\n",
       "  'android',\n",
       "  'angular',\n",
       "  'html',\n",
       "  'php',\n",
       "  'c#',\n",
       "  'reactjs',\n",
       "  'studio',\n",
       "  'css',\n",
       "  'ios',\n",
       "  'node.js',\n",
       "  'spring',\n",
       "  'typescript',\n",
       "  'swift',\n",
       "  'jquery',\n",
       "  'asp.net',\n",
       "  'laravel',\n",
       "  'sql',\n",
       "  'react',\n",
       "  'visual',\n",
       "  'google',\n",
       "  'json',\n",
       "  'pandas',\n",
       "  'docker'],\n",
       " 26)"
      ]
     },
     "execution_count": 96,
     "metadata": {},
     "output_type": "execute_result"
    }
   ],
   "source": [
    "top = [t[0] for t in top_c]\n",
    "top, len(top)"
   ]
  },
  {
   "cell_type": "markdown",
   "metadata": {},
   "source": [
    "On enlève le terme \"studio\" qui est un terme parasite..."
   ]
  },
  {
   "cell_type": "code",
   "execution_count": 97,
   "metadata": {},
   "outputs": [],
   "source": [
    "liste = [\"studio\"]\n",
    "\n",
    "for m in liste :\n",
    "    \n",
    "    top.remove(m)"
   ]
  },
  {
   "cell_type": "markdown",
   "metadata": {},
   "source": [
    "Le traitement plus tard du doublon \"reactjs / react\" diminuera notre nombre de tags à 24. Mais l'ajout d'un tag \"misc\" pour toutes les questions n'ayant pas de tag dans cette liste nous fera revenir à 25."
   ]
  },
  {
   "cell_type": "markdown",
   "metadata": {},
   "source": [
    "Déterminons maintenant grâce à un **PhraseMatcher** de **SpaCy** si les questions ont ou pas un de leurs tags dans notre \"top\"."
   ]
  },
  {
   "cell_type": "code",
   "execution_count": 99,
   "metadata": {
    "collapsed": true,
    "jupyter": {
     "outputs_hidden": true
    }
   },
   "outputs": [
    {
     "name": "stderr",
     "output_type": "stream",
     "text": [
      "<ipython-input-99-ac5a801dd9ba>:12: SettingWithCopyWarning: \n",
      "A value is trying to be set on a copy of a slice from a DataFrame\n",
      "\n",
      "See the caveats in the documentation: https://pandas.pydata.org/pandas-docs/stable/user_guide/indexing.html#returning-a-view-versus-a-copy\n",
      "  df[\"tag_in_top\"][idx] = 1\n"
     ]
    }
   ],
   "source": [
    "df[\"tag_in_top\"] = 0\n",
    "\n",
    "matcher = PhraseMatcher(nlp.vocab)\n",
    "patterns = [nlp(tag) for tag in top]\n",
    "matcher.add(\"TOP\", patterns) \n",
    "\n",
    "for idx, quest in df.iterrows() :\n",
    "    \n",
    "    doc = nlp(quest.tags_c)\n",
    "    matches = matcher(doc)\n",
    "    if len(matches) != 0 :\n",
    "        df[\"tag_in_top\"][idx] = 1"
   ]
  },
  {
   "cell_type": "code",
   "execution_count": 100,
   "metadata": {},
   "outputs": [
    {
     "data": {
      "text/html": [
       "<div>\n",
       "<style scoped>\n",
       "    .dataframe tbody tr th:only-of-type {\n",
       "        vertical-align: middle;\n",
       "    }\n",
       "\n",
       "    .dataframe tbody tr th {\n",
       "        vertical-align: top;\n",
       "    }\n",
       "\n",
       "    .dataframe thead th {\n",
       "        text-align: right;\n",
       "    }\n",
       "</style>\n",
       "<table border=\"1\" class=\"dataframe\">\n",
       "  <thead>\n",
       "    <tr style=\"text-align: right;\">\n",
       "      <th></th>\n",
       "      <th>tags</th>\n",
       "      <th>texte</th>\n",
       "      <th>tags_c</th>\n",
       "      <th>tag_in_top</th>\n",
       "    </tr>\n",
       "  </thead>\n",
       "  <tbody>\n",
       "    <tr>\n",
       "      <th>6316</th>\n",
       "      <td>mysql ubuntu</td>\n",
       "      <td>unable to connect to mysql database in Ubuntu....</td>\n",
       "      <td>mysql ubuntu</td>\n",
       "      <td>0</td>\n",
       "    </tr>\n",
       "    <tr>\n",
       "      <th>16711</th>\n",
       "      <td>javascript html css</td>\n",
       "      <td>Add Multiple Styles with JavaScript. I want to...</td>\n",
       "      <td>javascript html css</td>\n",
       "      <td>1</td>\n",
       "    </tr>\n",
       "    <tr>\n",
       "      <th>6571</th>\n",
       "      <td>mips</td>\n",
       "      <td>What is the use of a $zero register in MIPS? W...</td>\n",
       "      <td>mips</td>\n",
       "      <td>0</td>\n",
       "    </tr>\n",
       "    <tr>\n",
       "      <th>58042</th>\n",
       "      <td>c# asp.net asp.net-mvc</td>\n",
       "      <td>Deploying an ASP.NET MVC project to server. I'...</td>\n",
       "      <td>c# asp.net mvc</td>\n",
       "      <td>1</td>\n",
       "    </tr>\n",
       "    <tr>\n",
       "      <th>6679</th>\n",
       "      <td>swift uigesturerecognizer</td>\n",
       "      <td>How to add a double tap Gesture Recognizer in ...</td>\n",
       "      <td>swift uigesturerecognizer</td>\n",
       "      <td>1</td>\n",
       "    </tr>\n",
       "  </tbody>\n",
       "</table>\n",
       "</div>"
      ],
      "text/plain": [
       "                            tags  \\\n",
       "6316                mysql ubuntu   \n",
       "16711        javascript html css   \n",
       "6571                        mips   \n",
       "58042     c# asp.net asp.net-mvc   \n",
       "6679   swift uigesturerecognizer   \n",
       "\n",
       "                                                   texte  \\\n",
       "6316   unable to connect to mysql database in Ubuntu....   \n",
       "16711  Add Multiple Styles with JavaScript. I want to...   \n",
       "6571   What is the use of a $zero register in MIPS? W...   \n",
       "58042  Deploying an ASP.NET MVC project to server. I'...   \n",
       "6679   How to add a double tap Gesture Recognizer in ...   \n",
       "\n",
       "                          tags_c  tag_in_top  \n",
       "6316                mysql ubuntu           0  \n",
       "16711        javascript html css           1  \n",
       "6571                        mips           0  \n",
       "58042             c# asp.net mvc           1  \n",
       "6679   swift uigesturerecognizer           1  "
      ]
     },
     "execution_count": 100,
     "metadata": {},
     "output_type": "execute_result"
    }
   ],
   "source": [
    "df.tail(5)"
   ]
  },
  {
   "cell_type": "code",
   "execution_count": 101,
   "metadata": {},
   "outputs": [
    {
     "name": "stdout",
     "output_type": "stream",
     "text": [
      "Nombre des questions sans aucun tag dans le top : 11365\n"
     ]
    }
   ],
   "source": [
    "print(f\"Nombre des questions sans aucun tag dans le top : {len(df[df.tag_in_top == 0])}\")"
   ]
  },
  {
   "cell_type": "code",
   "execution_count": 102,
   "metadata": {},
   "outputs": [
    {
     "name": "stdout",
     "output_type": "stream",
     "text": [
      "Proportion de questions sans aucun tag dans le top : 22.73 %\n"
     ]
    }
   ],
   "source": [
    "res = (len(df[df.tag_in_top == 0])/ len(df))*100 \n",
    "print(f\"Proportion de questions sans aucun tag dans le top : {res:.2f} %\")"
   ]
  },
  {
   "cell_type": "markdown",
   "metadata": {},
   "source": [
    "Création d'une nouvelle colonne qui contiendra pour chaque questions leurs tags appartenant à notre \"top\" ou un nouveau tag \"misc\" si elles n'en ont aucun."
   ]
  },
  {
   "cell_type": "code",
   "execution_count": 103,
   "metadata": {
    "collapsed": true,
    "jupyter": {
     "outputs_hidden": true
    }
   },
   "outputs": [
    {
     "name": "stderr",
     "output_type": "stream",
     "text": [
      "<ipython-input-103-1ea853c472a7>:24: SettingWithCopyWarning: \n",
      "A value is trying to be set on a copy of a slice from a DataFrame\n",
      "\n",
      "See the caveats in the documentation: https://pandas.pydata.org/pandas-docs/stable/user_guide/indexing.html#returning-a-view-versus-a-copy\n",
      "  df[\"new_t\"][idx] = tag_str\n",
      "<ipython-input-103-1ea853c472a7>:13: SettingWithCopyWarning: \n",
      "A value is trying to be set on a copy of a slice from a DataFrame\n",
      "\n",
      "See the caveats in the documentation: https://pandas.pydata.org/pandas-docs/stable/user_guide/indexing.html#returning-a-view-versus-a-copy\n",
      "  df[\"new_t\"][idx] = \"misc\"\n"
     ]
    }
   ],
   "source": [
    "df[\"new_t\"] = \"\"\n",
    "\n",
    "matcher = PhraseMatcher(nlp.vocab)\n",
    "patterns = [nlp(tag) for tag in top]\n",
    "matcher.add(\"TOP\", patterns) \n",
    "\n",
    "for idx, quest in df.iterrows() :\n",
    "    \n",
    "    doc = nlp(quest.tags_c)\n",
    "    matches = matcher(doc)\n",
    "    \n",
    "    if len(matches) == 0 :\n",
    "        df[\"new_t\"][idx] = \"misc\"\n",
    "        \n",
    "    else :\n",
    "                \n",
    "        tag_str = \"\"\n",
    "        for m in matches :    \n",
    "    \n",
    "            m_id, m_start, m_end = m\n",
    "            tag_str = tag_str + \" \" + doc[m_start:m_end].text\n",
    "            tag_str = tag_str.lstrip()\n",
    "            \n",
    "        df[\"new_t\"][idx] = tag_str"
   ]
  },
  {
   "cell_type": "code",
   "execution_count": 104,
   "metadata": {},
   "outputs": [
    {
     "data": {
      "text/html": [
       "<div>\n",
       "<style scoped>\n",
       "    .dataframe tbody tr th:only-of-type {\n",
       "        vertical-align: middle;\n",
       "    }\n",
       "\n",
       "    .dataframe tbody tr th {\n",
       "        vertical-align: top;\n",
       "    }\n",
       "\n",
       "    .dataframe thead th {\n",
       "        text-align: right;\n",
       "    }\n",
       "</style>\n",
       "<table border=\"1\" class=\"dataframe\">\n",
       "  <thead>\n",
       "    <tr style=\"text-align: right;\">\n",
       "      <th></th>\n",
       "      <th>tags</th>\n",
       "      <th>texte</th>\n",
       "      <th>tags_c</th>\n",
       "      <th>tag_in_top</th>\n",
       "      <th>new_t</th>\n",
       "    </tr>\n",
       "  </thead>\n",
       "  <tbody>\n",
       "    <tr>\n",
       "      <th>60303</th>\n",
       "      <td>code-formatting visual-studio-code</td>\n",
       "      <td>How do you format code in Visual Studio Code (...</td>\n",
       "      <td>code formatting visual studio</td>\n",
       "      <td>1</td>\n",
       "      <td>visual</td>\n",
       "    </tr>\n",
       "    <tr>\n",
       "      <th>15907</th>\n",
       "      <td>git credentials git-config git-extensions</td>\n",
       "      <td>How to save username and password in Git? I wa...</td>\n",
       "      <td>git credentials config extensions</td>\n",
       "      <td>0</td>\n",
       "      <td>misc</td>\n",
       "    </tr>\n",
       "    <tr>\n",
       "      <th>20762</th>\n",
       "      <td>git rebase</td>\n",
       "      <td>Git refusing to merge unrelated histories on r...</td>\n",
       "      <td>git rebase</td>\n",
       "      <td>0</td>\n",
       "      <td>misc</td>\n",
       "    </tr>\n",
       "  </tbody>\n",
       "</table>\n",
       "</div>"
      ],
      "text/plain": [
       "                                            tags  \\\n",
       "60303         code-formatting visual-studio-code   \n",
       "15907  git credentials git-config git-extensions   \n",
       "20762                                 git rebase   \n",
       "\n",
       "                                                   texte  \\\n",
       "60303  How do you format code in Visual Studio Code (...   \n",
       "15907  How to save username and password in Git? I wa...   \n",
       "20762  Git refusing to merge unrelated histories on r...   \n",
       "\n",
       "                                  tags_c  tag_in_top   new_t  \n",
       "60303      code formatting visual studio           1  visual  \n",
       "15907  git credentials config extensions           0    misc  \n",
       "20762                         git rebase           0    misc  "
      ]
     },
     "execution_count": 104,
     "metadata": {},
     "output_type": "execute_result"
    }
   ],
   "source": [
    "df.head(3)"
   ]
  },
  {
   "cell_type": "markdown",
   "metadata": {},
   "source": [
    "On ne sépare des colonnes qui ne nous intéressent plus."
   ]
  },
  {
   "cell_type": "code",
   "execution_count": 105,
   "metadata": {},
   "outputs": [],
   "source": [
    "df = df[[\"texte\", \"new_t\"]]\n",
    "df = df.rename(columns={\"new_t\" : \"tags\"})"
   ]
  },
  {
   "cell_type": "markdown",
   "metadata": {},
   "source": [
    "Ne nous reste plus qu'à gérer le doulon \"reactjs/react\" avec la fonction suivante :"
   ]
  },
  {
   "cell_type": "code",
   "execution_count": 106,
   "metadata": {},
   "outputs": [],
   "source": [
    "def map_react(x):\n",
    "    \n",
    "    x = x.replace(\"reactjs\", \"react\")\n",
    "    \n",
    "    out = \"\"\n",
    "    seen = set()\n",
    "    doc = nlp(x)\n",
    "    \n",
    "    # gestion doublon - cas où du coup on se retrouve avec 2x react en tag\n",
    "    for word in doc :\n",
    "        \n",
    "        if word.text not in seen:\n",
    "            out = out + \" \" + word.text\n",
    "            out = out.lstrip()\n",
    "            \n",
    "        seen.add(word.text)\n",
    "    \n",
    "    return out"
   ]
  },
  {
   "cell_type": "code",
   "execution_count": 107,
   "metadata": {},
   "outputs": [],
   "source": [
    "df.tags = df.tags.map(map_react)"
   ]
  },
  {
   "cell_type": "code",
   "execution_count": 108,
   "metadata": {},
   "outputs": [
    {
     "data": {
      "text/html": [
       "<div>\n",
       "<style scoped>\n",
       "    .dataframe tbody tr th:only-of-type {\n",
       "        vertical-align: middle;\n",
       "    }\n",
       "\n",
       "    .dataframe tbody tr th {\n",
       "        vertical-align: top;\n",
       "    }\n",
       "\n",
       "    .dataframe thead th {\n",
       "        text-align: right;\n",
       "    }\n",
       "</style>\n",
       "<table border=\"1\" class=\"dataframe\">\n",
       "  <thead>\n",
       "    <tr style=\"text-align: right;\">\n",
       "      <th></th>\n",
       "      <th>texte</th>\n",
       "      <th>tags</th>\n",
       "    </tr>\n",
       "  </thead>\n",
       "  <tbody>\n",
       "    <tr>\n",
       "      <th>60303</th>\n",
       "      <td>How do you format code in Visual Studio Code (...</td>\n",
       "      <td>visual</td>\n",
       "    </tr>\n",
       "    <tr>\n",
       "      <th>15907</th>\n",
       "      <td>How to save username and password in Git? I wa...</td>\n",
       "      <td>misc</td>\n",
       "    </tr>\n",
       "    <tr>\n",
       "      <th>20762</th>\n",
       "      <td>Git refusing to merge unrelated histories on r...</td>\n",
       "      <td>misc</td>\n",
       "    </tr>\n",
       "    <tr>\n",
       "      <th>53759</th>\n",
       "      <td>How do I install a Python package with a .whl ...</td>\n",
       "      <td>python</td>\n",
       "    </tr>\n",
       "    <tr>\n",
       "      <th>15054</th>\n",
       "      <td>Response to preflight request doesn't pass acc...</td>\n",
       "      <td>javascript</td>\n",
       "    </tr>\n",
       "    <tr>\n",
       "      <th>24829</th>\n",
       "      <td>How do I kill the process currently using a po...</td>\n",
       "      <td>misc</td>\n",
       "    </tr>\n",
       "    <tr>\n",
       "      <th>8811</th>\n",
       "      <td>TypeError: a bytes-like object is required, no...</td>\n",
       "      <td>python</td>\n",
       "    </tr>\n",
       "    <tr>\n",
       "      <th>570</th>\n",
       "      <td>How do I get into a Docker container's shell? ...</td>\n",
       "      <td>docker</td>\n",
       "    </tr>\n",
       "    <tr>\n",
       "      <th>43320</th>\n",
       "      <td>Could not find module \"@angular-devkit/build-a...</td>\n",
       "      <td>angular</td>\n",
       "    </tr>\n",
       "    <tr>\n",
       "      <th>29203</th>\n",
       "      <td>MySQL Error: : 'Access denied for user 'root'@...</td>\n",
       "      <td>sql</td>\n",
       "    </tr>\n",
       "    <tr>\n",
       "      <th>40731</th>\n",
       "      <td>Stylesheet not loaded because of MIME-type. I'...</td>\n",
       "      <td>html css</td>\n",
       "    </tr>\n",
       "    <tr>\n",
       "      <th>51104</th>\n",
       "      <td>\"Uncaught SyntaxError: Cannot use import state...</td>\n",
       "      <td>javascript</td>\n",
       "    </tr>\n",
       "    <tr>\n",
       "      <th>19401</th>\n",
       "      <td>(unicode error) 'unicodeescape' codec can't de...</td>\n",
       "      <td>python</td>\n",
       "    </tr>\n",
       "    <tr>\n",
       "      <th>18279</th>\n",
       "      <td>Truth value of a Series is ambiguous. Use a.em...</td>\n",
       "      <td>python pandas</td>\n",
       "    </tr>\n",
       "    <tr>\n",
       "      <th>6756</th>\n",
       "      <td>Could not find a version that satisfies the re...</td>\n",
       "      <td>python</td>\n",
       "    </tr>\n",
       "    <tr>\n",
       "      <th>23084</th>\n",
       "      <td>Can't bind to 'ngModel' since it isn't a known...</td>\n",
       "      <td>javascript angular typescript</td>\n",
       "    </tr>\n",
       "    <tr>\n",
       "      <th>1914</th>\n",
       "      <td>Can you force a React component to rerender wi...</td>\n",
       "      <td>react</td>\n",
       "    </tr>\n",
       "    <tr>\n",
       "      <th>14512</th>\n",
       "      <td>React - How to get parameter value from query ...</td>\n",
       "      <td>react</td>\n",
       "    </tr>\n",
       "    <tr>\n",
       "      <th>19094</th>\n",
       "      <td>\"SyntaxError: Unexpected token &lt; in JSON at po...</td>\n",
       "      <td>javascript json react</td>\n",
       "    </tr>\n",
       "    <tr>\n",
       "      <th>22283</th>\n",
       "      <td>How to find which version of TensorFlow is ins...</td>\n",
       "      <td>python</td>\n",
       "    </tr>\n",
       "  </tbody>\n",
       "</table>\n",
       "</div>"
      ],
      "text/plain": [
       "                                                   texte  \\\n",
       "60303  How do you format code in Visual Studio Code (...   \n",
       "15907  How to save username and password in Git? I wa...   \n",
       "20762  Git refusing to merge unrelated histories on r...   \n",
       "53759  How do I install a Python package with a .whl ...   \n",
       "15054  Response to preflight request doesn't pass acc...   \n",
       "24829  How do I kill the process currently using a po...   \n",
       "8811   TypeError: a bytes-like object is required, no...   \n",
       "570    How do I get into a Docker container's shell? ...   \n",
       "43320  Could not find module \"@angular-devkit/build-a...   \n",
       "29203  MySQL Error: : 'Access denied for user 'root'@...   \n",
       "40731  Stylesheet not loaded because of MIME-type. I'...   \n",
       "51104  \"Uncaught SyntaxError: Cannot use import state...   \n",
       "19401  (unicode error) 'unicodeescape' codec can't de...   \n",
       "18279  Truth value of a Series is ambiguous. Use a.em...   \n",
       "6756   Could not find a version that satisfies the re...   \n",
       "23084  Can't bind to 'ngModel' since it isn't a known...   \n",
       "1914   Can you force a React component to rerender wi...   \n",
       "14512  React - How to get parameter value from query ...   \n",
       "19094  \"SyntaxError: Unexpected token < in JSON at po...   \n",
       "22283  How to find which version of TensorFlow is ins...   \n",
       "\n",
       "                                tags  \n",
       "60303                         visual  \n",
       "15907                           misc  \n",
       "20762                           misc  \n",
       "53759                         python  \n",
       "15054                     javascript  \n",
       "24829                           misc  \n",
       "8811                          python  \n",
       "570                           docker  \n",
       "43320                        angular  \n",
       "29203                            sql  \n",
       "40731                       html css  \n",
       "51104                     javascript  \n",
       "19401                         python  \n",
       "18279                  python pandas  \n",
       "6756                          python  \n",
       "23084  javascript angular typescript  \n",
       "1914                           react  \n",
       "14512                          react  \n",
       "19094          javascript json react  \n",
       "22283                         python  "
      ]
     },
     "execution_count": 108,
     "metadata": {},
     "output_type": "execute_result"
    }
   ],
   "source": [
    "df.head(20)"
   ]
  },
  {
   "cell_type": "code",
   "execution_count": 109,
   "metadata": {},
   "outputs": [],
   "source": [
    "# Sauvegarde du fichier\n",
    "pickle_out = open(\"Data/data.pickle\", \"wb\")\n",
    "pickle.dump(df, pickle_out)\n",
    "pickle_out.close()"
   ]
  },
  {
   "cell_type": "markdown",
   "metadata": {},
   "source": [
    " "
   ]
  },
  {
   "cell_type": "markdown",
   "metadata": {},
   "source": [
    "### **Echantillonnage features/labels**"
   ]
  },
  {
   "cell_type": "code",
   "execution_count": 110,
   "metadata": {},
   "outputs": [],
   "source": [
    "df = pickle.load(open(\"Data/data.pickle\", \"rb\"))"
   ]
  },
  {
   "cell_type": "code",
   "execution_count": 111,
   "metadata": {},
   "outputs": [],
   "source": [
    "liste_data = []\n",
    "\n",
    "for idx, row in df.iterrows():\n",
    "    \n",
    "    liste_data.append((row.texte, row.tags))"
   ]
  },
  {
   "cell_type": "code",
   "execution_count": 112,
   "metadata": {},
   "outputs": [],
   "source": [
    "random.seed(47)\n",
    "random.shuffle(liste_data)\n",
    "random.shuffle(liste_data)"
   ]
  },
  {
   "cell_type": "code",
   "execution_count": 113,
   "metadata": {},
   "outputs": [],
   "source": [
    "feat = [t[0] for t in liste_data]\n",
    "targ = [t[1] for t in liste_data]"
   ]
  },
  {
   "cell_type": "code",
   "execution_count": 114,
   "metadata": {},
   "outputs": [
    {
     "data": {
      "text/plain": [
       "(50000, 50000)"
      ]
     },
     "execution_count": 114,
     "metadata": {},
     "output_type": "execute_result"
    }
   ],
   "source": [
    "len(feat), len(targ)"
   ]
  },
  {
   "cell_type": "code",
   "execution_count": 115,
   "metadata": {},
   "outputs": [],
   "source": [
    "# Sauvegardes\n",
    "pickle_out = open(\"Data/feat.pickle\", \"wb\")\n",
    "pickle.dump(feat, pickle_out)\n",
    "pickle_out.close()\n",
    "\n",
    "pickle_out = open(\"Data/targ.pickle\", \"wb\")\n",
    "pickle.dump(targ, pickle_out)\n",
    "pickle_out.close()"
   ]
  },
  {
   "cell_type": "markdown",
   "metadata": {},
   "source": [
    "### **Echantillonnage train/test**"
   ]
  },
  {
   "cell_type": "code",
   "execution_count": 55,
   "metadata": {
    "jupyter": {
     "source_hidden": true
    }
   },
   "outputs": [],
   "source": [
    "feat = pickle.load(open(\"Data/feat.pickle\", \"rb\"))\n",
    "targ = pickle.load(open(\"Data/targ.pickle\", \"rb\"))"
   ]
  },
  {
   "cell_type": "code",
   "execution_count": 116,
   "metadata": {},
   "outputs": [],
   "source": [
    "feat_train = feat[:40000]\n",
    "feat_test = feat[40000:]\n",
    "\n",
    "targ_train = targ[:40000]\n",
    "targ_test = targ[40000:]"
   ]
  },
  {
   "cell_type": "code",
   "execution_count": 117,
   "metadata": {},
   "outputs": [
    {
     "data": {
      "text/plain": [
       "(40000, 10000)"
      ]
     },
     "execution_count": 117,
     "metadata": {},
     "output_type": "execute_result"
    }
   ],
   "source": [
    "len(feat_train), len(feat_test)"
   ]
  },
  {
   "cell_type": "markdown",
   "metadata": {},
   "source": [
    "### **Préparation finale des données**"
   ]
  },
  {
   "cell_type": "markdown",
   "metadata": {},
   "source": [
    "**Vectorisation des labels**"
   ]
  },
  {
   "cell_type": "code",
   "execution_count": 118,
   "metadata": {
    "collapsed": true,
    "jupyter": {
     "outputs_hidden": true
    }
   },
   "outputs": [
    {
     "name": "stderr",
     "output_type": "stream",
     "text": [
      "e:\\anaconda3\\envs\\oc2\\lib\\site-packages\\sklearn\\feature_extraction\\text.py:489: UserWarning: The parameter 'token_pattern' will not be used since 'tokenizer' is not None'\n",
      "  warnings.warn(\"The parameter 'token_pattern' will not be used\"\n"
     ]
    }
   ],
   "source": [
    "# préparation des cibles\n",
    "def neutral_tokenizer(tokens):\n",
    "    \n",
    "    return tokens.split(\" \")\n",
    "\n",
    "vect_targ = CountVectorizer(tokenizer = neutral_tokenizer).fit(targ_train)\n",
    "\n",
    "big_y_train = vect_targ.fit_transform(targ_train)\n",
    "big_y_test = vect_targ.transform(targ_test)"
   ]
  },
  {
   "cell_type": "code",
   "execution_count": 120,
   "metadata": {},
   "outputs": [],
   "source": [
    "df_targ = pd.DataFrame(big_y_train.toarray(), columns = vect_targ.get_feature_names())\n",
    "labels = df_targ.columns.tolist()"
   ]
  },
  {
   "cell_type": "code",
   "execution_count": 127,
   "metadata": {},
   "outputs": [],
   "source": [
    "# sauvegarde\n",
    "pickle_out = open(\"Data/big_y_train.pickle\", \"wb\")\n",
    "pickle.dump(big_y_train, pickle_out)\n",
    "pickle_out.close()\n",
    "# sauvegarde\n",
    "pickle_out = open(\"Data/big_y_test.pickle\", \"wb\")\n",
    "pickle.dump(big_y_test, pickle_out)\n",
    "pickle_out.close()\n",
    "# sauvegarde\n",
    "pickle_out = open(\"Data/big_df_targ.pickle\", \"wb\")\n",
    "pickle.dump(df_targ, pickle_out)\n",
    "pickle_out.close()\n",
    "# sauvegarde\n",
    "pickle_out = open(\"Data/big_labels.pickle\", \"wb\")\n",
    "pickle.dump(labels, pickle_out)\n",
    "pickle_out.close()"
   ]
  },
  {
   "cell_type": "markdown",
   "metadata": {},
   "source": [
    " "
   ]
  },
  {
   "cell_type": "markdown",
   "metadata": {},
   "source": [
    "**Preprocessing des données texte**"
   ]
  },
  {
   "cell_type": "markdown",
   "metadata": {},
   "source": [
    "Jusqu'à présent, dans tout ce qu'on a fait en **NLP**, une grande importance a été donnée au **preprocessing de données texte** en vue d'en envoyer aux modèles des versions \"épurées\" de celui-ci. Ce n'est pas le cas avec les modèles de type **BERT** (voir notebook précédent...), nous nous passons donc ce ce travail sur la forme du texte."
   ]
  },
  {
   "cell_type": "code",
   "execution_count": 142,
   "metadata": {},
   "outputs": [],
   "source": [
    "# Sauvegardes\n",
    "pickle_out = open(\"Data/big_feat_train.pickle\", \"wb\")\n",
    "pickle.dump(feat_train, pickle_out)\n",
    "pickle_out.close()\n",
    "\n",
    "pickle_out = open(\"Data/big_feat_test.pickle\", \"wb\")\n",
    "pickle.dump(feat_test, pickle_out)\n",
    "pickle_out.close()"
   ]
  },
  {
   "cell_type": "markdown",
   "metadata": {},
   "source": [
    "Nous pouvons maintenant refaire nos modélisations (notebook suivant...) avec deux fois plus de données, et voir si cela nous permettra d'obtenir de meilleurs résultats..."
   ]
  },
  {
   "cell_type": "markdown",
   "metadata": {},
   "source": [
    " "
   ]
  },
  {
   "cell_type": "markdown",
   "metadata": {},
   "source": [
    "**Fin de la seconde partie.**"
   ]
  },
  {
   "cell_type": "markdown",
   "metadata": {},
   "source": [
    " "
   ]
  },
  {
   "cell_type": "markdown",
   "metadata": {},
   "source": [
    " "
   ]
  }
 ],
 "metadata": {
  "kernelspec": {
   "display_name": "oc2",
   "language": "python",
   "name": "oc2"
  },
  "language_info": {
   "codemirror_mode": {
    "name": "ipython",
    "version": 3
   },
   "file_extension": ".py",
   "mimetype": "text/x-python",
   "name": "python",
   "nbconvert_exporter": "python",
   "pygments_lexer": "ipython3",
   "version": "3.8.5"
  }
 },
 "nbformat": 4,
 "nbformat_minor": 4
}
