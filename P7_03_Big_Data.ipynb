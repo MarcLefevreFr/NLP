{
 "cells": [
  {
   "cell_type": "markdown",
   "metadata": {
    "id": "G4FJCrMd-56m"
   },
   "source": [
    "Formation OpenClassrooms DS-IML - **Marc Lefèvre**, <marc.lefevre@noos.fr>"
   ]
  },
  {
   "cell_type": "markdown",
   "metadata": {
    "id": "5YJ01PL6_FTM"
   },
   "source": [
    " "
   ]
  },
  {
   "cell_type": "markdown",
   "metadata": {
    "id": "jCRe35B4_FVt"
   },
   "source": [
    " "
   ]
  },
  {
   "cell_type": "markdown",
   "metadata": {},
   "source": [
    "# **Projet 7 : Classification de textes avec BERT**"
   ]
  },
  {
   "cell_type": "markdown",
   "metadata": {},
   "source": [
    " "
   ]
  },
  {
   "cell_type": "markdown",
   "metadata": {},
   "source": [
    " "
   ]
  },
  {
   "cell_type": "markdown",
   "metadata": {},
   "source": [
    "## **3ème partie : Modélisations avec dataset agrandi**"
   ]
  },
  {
   "cell_type": "markdown",
   "metadata": {},
   "source": [
    " "
   ]
  },
  {
   "cell_type": "markdown",
   "metadata": {},
   "source": [
    " "
   ]
  },
  {
   "cell_type": "markdown",
   "metadata": {
    "id": "1sUqIgEo_FYn"
   },
   "source": [
    "## **1-) Opérations préliminaires**"
   ]
  },
  {
   "cell_type": "markdown",
   "metadata": {},
   "source": [
    " "
   ]
  },
  {
   "cell_type": "markdown",
   "metadata": {},
   "source": [
    "**Liaison Google Drive**"
   ]
  },
  {
   "cell_type": "code",
   "execution_count": null,
   "metadata": {
    "colab": {
     "base_uri": "https://localhost:8080/"
    },
    "id": "WxV1pD2s_FbZ",
    "outputId": "7131fefe-9f16-4a98-f88d-66be9c81d8f5"
   },
   "outputs": [
    {
     "name": "stdout",
     "output_type": "stream",
     "text": [
      "Mounted at /content/drive\n"
     ]
    }
   ],
   "source": [
    "# instal google drive\n",
    "from google.colab import drive\n",
    "\n",
    "drive.mount(\"/content/drive\")"
   ]
  },
  {
   "cell_type": "markdown",
   "metadata": {},
   "source": [
    " "
   ]
  },
  {
   "cell_type": "markdown",
   "metadata": {},
   "source": [
    "**Installation librairie \"transformers\" de Hugging Face**"
   ]
  },
  {
   "cell_type": "code",
   "execution_count": null,
   "metadata": {
    "colab": {
     "base_uri": "https://localhost:8080/"
    },
    "collapsed": true,
    "id": "ApXZJNtJ_FeQ",
    "jupyter": {
     "outputs_hidden": true
    },
    "outputId": "3d1f5cae-c55c-4a66-f456-85956ab5fb79"
   },
   "outputs": [
    {
     "name": "stdout",
     "output_type": "stream",
     "text": [
      "Collecting transformers\n",
      "  Downloading transformers-4.8.2-py3-none-any.whl (2.5 MB)\n",
      "\u001b[K     |████████████████████████████████| 2.5 MB 6.7 MB/s \n",
      "\u001b[?25hCollecting huggingface-hub==0.0.12\n",
      "  Downloading huggingface_hub-0.0.12-py3-none-any.whl (37 kB)\n",
      "Requirement already satisfied: importlib-metadata in /usr/local/lib/python3.7/dist-packages (from transformers) (4.6.1)\n",
      "Requirement already satisfied: regex!=2019.12.17 in /usr/local/lib/python3.7/dist-packages (from transformers) (2019.12.20)\n",
      "Collecting sacremoses\n",
      "  Downloading sacremoses-0.0.45-py3-none-any.whl (895 kB)\n",
      "\u001b[K     |████████████████████████████████| 895 kB 75.6 MB/s \n",
      "\u001b[?25hRequirement already satisfied: requests in /usr/local/lib/python3.7/dist-packages (from transformers) (2.23.0)\n",
      "Requirement already satisfied: packaging in /usr/local/lib/python3.7/dist-packages (from transformers) (21.0)\n",
      "Requirement already satisfied: pyyaml in /usr/local/lib/python3.7/dist-packages (from transformers) (3.13)\n",
      "Collecting tokenizers<0.11,>=0.10.1\n",
      "  Downloading tokenizers-0.10.3-cp37-cp37m-manylinux_2_5_x86_64.manylinux1_x86_64.manylinux_2_12_x86_64.manylinux2010_x86_64.whl (3.3 MB)\n",
      "\u001b[K     |████████████████████████████████| 3.3 MB 52.9 MB/s \n",
      "\u001b[?25hRequirement already satisfied: tqdm>=4.27 in /usr/local/lib/python3.7/dist-packages (from transformers) (4.41.1)\n",
      "Requirement already satisfied: filelock in /usr/local/lib/python3.7/dist-packages (from transformers) (3.0.12)\n",
      "Requirement already satisfied: numpy>=1.17 in /usr/local/lib/python3.7/dist-packages (from transformers) (1.19.5)\n",
      "Requirement already satisfied: typing-extensions in /usr/local/lib/python3.7/dist-packages (from huggingface-hub==0.0.12->transformers) (3.7.4.3)\n",
      "Requirement already satisfied: pyparsing>=2.0.2 in /usr/local/lib/python3.7/dist-packages (from packaging->transformers) (2.4.7)\n",
      "Requirement already satisfied: zipp>=0.5 in /usr/local/lib/python3.7/dist-packages (from importlib-metadata->transformers) (3.5.0)\n",
      "Requirement already satisfied: certifi>=2017.4.17 in /usr/local/lib/python3.7/dist-packages (from requests->transformers) (2021.5.30)\n",
      "Requirement already satisfied: chardet<4,>=3.0.2 in /usr/local/lib/python3.7/dist-packages (from requests->transformers) (3.0.4)\n",
      "Requirement already satisfied: urllib3!=1.25.0,!=1.25.1,<1.26,>=1.21.1 in /usr/local/lib/python3.7/dist-packages (from requests->transformers) (1.24.3)\n",
      "Requirement already satisfied: idna<3,>=2.5 in /usr/local/lib/python3.7/dist-packages (from requests->transformers) (2.10)\n",
      "Requirement already satisfied: joblib in /usr/local/lib/python3.7/dist-packages (from sacremoses->transformers) (1.0.1)\n",
      "Requirement already satisfied: six in /usr/local/lib/python3.7/dist-packages (from sacremoses->transformers) (1.15.0)\n",
      "Requirement already satisfied: click in /usr/local/lib/python3.7/dist-packages (from sacremoses->transformers) (7.1.2)\n",
      "Installing collected packages: tokenizers, sacremoses, huggingface-hub, transformers\n",
      "Successfully installed huggingface-hub-0.0.12 sacremoses-0.0.45 tokenizers-0.10.3 transformers-4.8.2\n"
     ]
    }
   ],
   "source": [
    "# install librairie huggin face transformers\n",
    "!pip install transformers"
   ]
  },
  {
   "cell_type": "markdown",
   "metadata": {},
   "source": [
    " "
   ]
  },
  {
   "cell_type": "markdown",
   "metadata": {},
   "source": [
    "**Importations Python**"
   ]
  },
  {
   "cell_type": "code",
   "execution_count": null,
   "metadata": {
    "id": "ZpQ8lKxA_FhA"
   },
   "outputs": [],
   "source": [
    "# début données\n",
    "import shutil\n",
    "import os\n",
    "import pickle\n",
    "import numpy as np\n",
    "import pandas as pd\n",
    "\n",
    "from time import time\n",
    "\n",
    "from tensorflow.keras.callbacks import ModelCheckpoint\n",
    "from transformers import BertTokenizer, TFBertModel, DistilBertTokenizerFast, TFDistilBertModel, AutoTokenizer, TFAutoModel, TFRobertaModel#, DistilBertConfig\n",
    "import matplotlib.pyplot as plt\n",
    "import tensorflow as tf\n",
    "from sklearn.metrics import f1_score"
   ]
  },
  {
   "cell_type": "markdown",
   "metadata": {},
   "source": [
    " "
   ]
  },
  {
   "cell_type": "markdown",
   "metadata": {},
   "source": [
    "**Importation et chargement des données**"
   ]
  },
  {
   "cell_type": "code",
   "execution_count": null,
   "metadata": {
    "colab": {
     "base_uri": "https://localhost:8080/"
    },
    "id": "ccVT62Ta_Fjp",
    "outputId": "622d4b3a-0f3d-4c31-e2d4-374faecf9b5b"
   },
   "outputs": [],
   "source": [
    "cwd = os.getcwd()\n",
    "\n",
    "path_data = cwd + \"/drive/MyDrive/P7/Data/\"\n",
    "\n",
    "for file in os.listdir(path_data) :\n",
    "\n",
    "    if file != \"Models\" :\n",
    "        shutil.copy(os.path.join(path_data, file), cwd)"
   ]
  },
  {
   "cell_type": "code",
   "execution_count": null,
   "metadata": {
    "id": "HDGcEo4VAhCt"
   },
   "outputs": [],
   "source": [
    "X_train = pickle.load(open(\"big_feat_train.pickle\", \"rb\"))\n",
    "X_test = pickle.load(open(\"big_feat_test.pickle\", \"rb\"))\n",
    "\n",
    "y_train = pickle.load(open(\"big_y_train.pickle\", \"rb\"))\n",
    "y_test = pickle.load(open(\"big_y_test.pickle\", \"rb\"))\n",
    "\n",
    "y_train = y_train.toarray()\n",
    "y_test = y_test.toarray()"
   ]
  },
  {
   "cell_type": "code",
   "execution_count": null,
   "metadata": {
    "colab": {
     "base_uri": "https://localhost:8080/"
    },
    "id": "aXA9jtjYAhF-",
    "outputId": "6639eebe-549b-412a-9ae3-27920215d477"
   },
   "outputs": [
    {
     "name": "stdout",
     "output_type": "stream",
     "text": [
      "40000 10000 40000 10000\n"
     ]
    }
   ],
   "source": [
    "print(len(X_train), len(X_test), len(y_train), len(y_test))"
   ]
  },
  {
   "cell_type": "markdown",
   "metadata": {
    "id": "LwIUAxchAhMK"
   },
   "source": [
    " "
   ]
  },
  {
   "cell_type": "markdown",
   "metadata": {
    "id": "_F7FEry7Bl3F"
   },
   "source": [
    "**Configuration de l'environnement TPU**"
   ]
  },
  {
   "cell_type": "code",
   "execution_count": null,
   "metadata": {
    "colab": {
     "base_uri": "https://localhost:8080/"
    },
    "collapsed": true,
    "id": "IsuUnZkhAhPQ",
    "jupyter": {
     "outputs_hidden": true
    },
    "outputId": "66daf4d9-a72c-4ff2-c7a8-d658d7e801b7"
   },
   "outputs": [
    {
     "name": "stderr",
     "output_type": "stream",
     "text": [
      "INFO:absl:Entering into master device scope: /job:worker/replica:0/task:0/device:CPU:0\n"
     ]
    },
    {
     "name": "stdout",
     "output_type": "stream",
     "text": [
      "INFO:tensorflow:Initializing the TPU system: grpc://10.87.254.114:8470\n"
     ]
    },
    {
     "name": "stderr",
     "output_type": "stream",
     "text": [
      "INFO:tensorflow:Initializing the TPU system: grpc://10.87.254.114:8470\n"
     ]
    },
    {
     "name": "stdout",
     "output_type": "stream",
     "text": [
      "INFO:tensorflow:Clearing out eager caches\n"
     ]
    },
    {
     "name": "stderr",
     "output_type": "stream",
     "text": [
      "INFO:tensorflow:Clearing out eager caches\n"
     ]
    },
    {
     "name": "stdout",
     "output_type": "stream",
     "text": [
      "INFO:tensorflow:Finished initializing TPU system.\n"
     ]
    },
    {
     "name": "stderr",
     "output_type": "stream",
     "text": [
      "INFO:tensorflow:Finished initializing TPU system.\n",
      "WARNING:absl:`tf.distribute.experimental.TPUStrategy` is deprecated, please use  the non experimental symbol `tf.distribute.TPUStrategy` instead.\n"
     ]
    },
    {
     "name": "stdout",
     "output_type": "stream",
     "text": [
      "INFO:tensorflow:Found TPU system:\n"
     ]
    },
    {
     "name": "stderr",
     "output_type": "stream",
     "text": [
      "INFO:tensorflow:Found TPU system:\n"
     ]
    },
    {
     "name": "stdout",
     "output_type": "stream",
     "text": [
      "INFO:tensorflow:*** Num TPU Cores: 8\n"
     ]
    },
    {
     "name": "stderr",
     "output_type": "stream",
     "text": [
      "INFO:tensorflow:*** Num TPU Cores: 8\n"
     ]
    },
    {
     "name": "stdout",
     "output_type": "stream",
     "text": [
      "INFO:tensorflow:*** Num TPU Workers: 1\n"
     ]
    },
    {
     "name": "stderr",
     "output_type": "stream",
     "text": [
      "INFO:tensorflow:*** Num TPU Workers: 1\n"
     ]
    },
    {
     "name": "stdout",
     "output_type": "stream",
     "text": [
      "INFO:tensorflow:*** Num TPU Cores Per Worker: 8\n"
     ]
    },
    {
     "name": "stderr",
     "output_type": "stream",
     "text": [
      "INFO:tensorflow:*** Num TPU Cores Per Worker: 8\n"
     ]
    },
    {
     "name": "stdout",
     "output_type": "stream",
     "text": [
      "INFO:tensorflow:*** Available Device: _DeviceAttributes(/job:localhost/replica:0/task:0/device:CPU:0, CPU, 0, 0)\n"
     ]
    },
    {
     "name": "stderr",
     "output_type": "stream",
     "text": [
      "INFO:tensorflow:*** Available Device: _DeviceAttributes(/job:localhost/replica:0/task:0/device:CPU:0, CPU, 0, 0)\n"
     ]
    },
    {
     "name": "stdout",
     "output_type": "stream",
     "text": [
      "INFO:tensorflow:*** Available Device: _DeviceAttributes(/job:worker/replica:0/task:0/device:CPU:0, CPU, 0, 0)\n"
     ]
    },
    {
     "name": "stderr",
     "output_type": "stream",
     "text": [
      "INFO:tensorflow:*** Available Device: _DeviceAttributes(/job:worker/replica:0/task:0/device:CPU:0, CPU, 0, 0)\n"
     ]
    },
    {
     "name": "stdout",
     "output_type": "stream",
     "text": [
      "INFO:tensorflow:*** Available Device: _DeviceAttributes(/job:worker/replica:0/task:0/device:TPU:0, TPU, 0, 0)\n"
     ]
    },
    {
     "name": "stderr",
     "output_type": "stream",
     "text": [
      "INFO:tensorflow:*** Available Device: _DeviceAttributes(/job:worker/replica:0/task:0/device:TPU:0, TPU, 0, 0)\n"
     ]
    },
    {
     "name": "stdout",
     "output_type": "stream",
     "text": [
      "INFO:tensorflow:*** Available Device: _DeviceAttributes(/job:worker/replica:0/task:0/device:TPU:1, TPU, 0, 0)\n"
     ]
    },
    {
     "name": "stderr",
     "output_type": "stream",
     "text": [
      "INFO:tensorflow:*** Available Device: _DeviceAttributes(/job:worker/replica:0/task:0/device:TPU:1, TPU, 0, 0)\n"
     ]
    },
    {
     "name": "stdout",
     "output_type": "stream",
     "text": [
      "INFO:tensorflow:*** Available Device: _DeviceAttributes(/job:worker/replica:0/task:0/device:TPU:2, TPU, 0, 0)\n"
     ]
    },
    {
     "name": "stderr",
     "output_type": "stream",
     "text": [
      "INFO:tensorflow:*** Available Device: _DeviceAttributes(/job:worker/replica:0/task:0/device:TPU:2, TPU, 0, 0)\n"
     ]
    },
    {
     "name": "stdout",
     "output_type": "stream",
     "text": [
      "INFO:tensorflow:*** Available Device: _DeviceAttributes(/job:worker/replica:0/task:0/device:TPU:3, TPU, 0, 0)\n"
     ]
    },
    {
     "name": "stderr",
     "output_type": "stream",
     "text": [
      "INFO:tensorflow:*** Available Device: _DeviceAttributes(/job:worker/replica:0/task:0/device:TPU:3, TPU, 0, 0)\n"
     ]
    },
    {
     "name": "stdout",
     "output_type": "stream",
     "text": [
      "INFO:tensorflow:*** Available Device: _DeviceAttributes(/job:worker/replica:0/task:0/device:TPU:4, TPU, 0, 0)\n"
     ]
    },
    {
     "name": "stderr",
     "output_type": "stream",
     "text": [
      "INFO:tensorflow:*** Available Device: _DeviceAttributes(/job:worker/replica:0/task:0/device:TPU:4, TPU, 0, 0)\n"
     ]
    },
    {
     "name": "stdout",
     "output_type": "stream",
     "text": [
      "INFO:tensorflow:*** Available Device: _DeviceAttributes(/job:worker/replica:0/task:0/device:TPU:5, TPU, 0, 0)\n"
     ]
    },
    {
     "name": "stderr",
     "output_type": "stream",
     "text": [
      "INFO:tensorflow:*** Available Device: _DeviceAttributes(/job:worker/replica:0/task:0/device:TPU:5, TPU, 0, 0)\n"
     ]
    },
    {
     "name": "stdout",
     "output_type": "stream",
     "text": [
      "INFO:tensorflow:*** Available Device: _DeviceAttributes(/job:worker/replica:0/task:0/device:TPU:6, TPU, 0, 0)\n"
     ]
    },
    {
     "name": "stderr",
     "output_type": "stream",
     "text": [
      "INFO:tensorflow:*** Available Device: _DeviceAttributes(/job:worker/replica:0/task:0/device:TPU:6, TPU, 0, 0)\n"
     ]
    },
    {
     "name": "stdout",
     "output_type": "stream",
     "text": [
      "INFO:tensorflow:*** Available Device: _DeviceAttributes(/job:worker/replica:0/task:0/device:TPU:7, TPU, 0, 0)\n"
     ]
    },
    {
     "name": "stderr",
     "output_type": "stream",
     "text": [
      "INFO:tensorflow:*** Available Device: _DeviceAttributes(/job:worker/replica:0/task:0/device:TPU:7, TPU, 0, 0)\n"
     ]
    },
    {
     "name": "stdout",
     "output_type": "stream",
     "text": [
      "INFO:tensorflow:*** Available Device: _DeviceAttributes(/job:worker/replica:0/task:0/device:TPU_SYSTEM:0, TPU_SYSTEM, 0, 0)\n"
     ]
    },
    {
     "name": "stderr",
     "output_type": "stream",
     "text": [
      "INFO:tensorflow:*** Available Device: _DeviceAttributes(/job:worker/replica:0/task:0/device:TPU_SYSTEM:0, TPU_SYSTEM, 0, 0)\n"
     ]
    },
    {
     "name": "stdout",
     "output_type": "stream",
     "text": [
      "INFO:tensorflow:*** Available Device: _DeviceAttributes(/job:worker/replica:0/task:0/device:XLA_CPU:0, XLA_CPU, 0, 0)\n"
     ]
    },
    {
     "name": "stderr",
     "output_type": "stream",
     "text": [
      "INFO:tensorflow:*** Available Device: _DeviceAttributes(/job:worker/replica:0/task:0/device:XLA_CPU:0, XLA_CPU, 0, 0)\n"
     ]
    }
   ],
   "source": [
    "try:\n",
    "    tpu = tf.distribute.cluster_resolver.TPUClusterResolver() # KM: detect and init the TPU: TPUClusterResolver() locates the TPUs on the network\n",
    "    tf.config.experimental_connect_to_cluster(tpu)\n",
    "    tf.tpu.experimental.initialize_tpu_system(tpu)\n",
    "    strategy = tf.distribute.experimental.TPUStrategy(tpu) # KM: \"strategy\" contains the necessary distributed training code that will work on the TPUs\n",
    "except ValueError: # KM: in case Accelerator is not set to TPU in the Notebook Settings\n",
    "    strategy = tf.distribute.get_strategy() # for CPU and single GPU\n",
    "    print('Number of replicas:', strategy.num_replicas_in_sync) # KM: returns the number of cores"
   ]
  },
  {
   "cell_type": "markdown",
   "metadata": {},
   "source": [
    " "
   ]
  },
  {
   "cell_type": "markdown",
   "metadata": {},
   "source": [
    "**Définition de constantes**"
   ]
  },
  {
   "cell_type": "code",
   "execution_count": null,
   "metadata": {
    "id": "TLFZeEwDAhSK"
   },
   "outputs": [],
   "source": [
    "MAX_LENGTH = 512\n",
    "BATCH_SIZE = 32"
   ]
  },
  {
   "cell_type": "markdown",
   "metadata": {
    "id": "gFIIkYE3AhU_"
   },
   "source": [
    " "
   ]
  },
  {
   "cell_type": "markdown",
   "metadata": {
    "id": "wUub46IRCh6M"
   },
   "source": [
    "**Fonctions utiles**"
   ]
  },
  {
   "cell_type": "code",
   "execution_count": null,
   "metadata": {
    "id": "w-li2vojChDp"
   },
   "outputs": [],
   "source": [
    "def batch_encode(tokenizer, data, batch_size=BATCH_SIZE, max_length=MAX_LENGTH):\n",
    "    \"\"\"\n",
    "    Fonction d'encodage/tokenization des données\n",
    "    \"\"\"\n",
    "    \n",
    "    input_ids = []\n",
    "    attention_mask = []\n",
    "    \n",
    "    for i in range(0, len(data), batch_size):\n",
    "        batch = data[i:i+batch_size]\n",
    "        inputs = tokenizer.batch_encode_plus(batch,\n",
    "                                             max_length=max_length,\n",
    "                                             padding= \"max_length\",\n",
    "                                             truncation=True,\n",
    "                                             return_attention_mask=True,\n",
    "                                             return_token_type_ids=False)\n",
    "        input_ids.extend(inputs['input_ids'])\n",
    "        attention_mask.extend(inputs['attention_mask'])\n",
    "    \n",
    "    \n",
    "    return tf.convert_to_tensor(input_ids), tf.convert_to_tensor(attention_mask)"
   ]
  },
  {
   "cell_type": "code",
   "execution_count": null,
   "metadata": {
    "id": "7NZRdj7gChGj"
   },
   "outputs": [],
   "source": [
    "def modelize(model, epochs, data, mod_name, batch = BATCH_SIZE):\n",
    "    \"\"\"\n",
    "    Fonction de modélisation.\n",
    "    \"\"\"\n",
    "    checkpoint = ModelCheckpoint(filepath = \"drive/MyDrive/P7/Data/Models/\" + mod_name + \".hdf5\", \n",
    "                                 monitor = \"val_accuracy\",\n",
    "                                 verbose = 0,\n",
    "                                 save_weights_only = True,\n",
    "                                 save_best_only = True)\n",
    "    \n",
    "    start = time()\n",
    "\n",
    "    history = model.fit(data[0],\n",
    "                        data[1],\n",
    "                        epochs = epochs,\n",
    "                        batch_size = batch,\n",
    "                        validation_split = 0.2,\n",
    "                        callbacks = [checkpoint])\n",
    "    \n",
    "    preds = model.predict(data[2])\n",
    "    \n",
    "    preds = preds.round()\n",
    "    \n",
    "    f1_sc = f1_score(data[3],\n",
    "                     preds,\n",
    "                     average = \"weighted\")\n",
    "    \n",
    "    fig = plt.figure(figsize = (10,4))\n",
    "\n",
    "    train_acc = history.history[\"accuracy\"]\n",
    "    val_acc = history.history[\"val_accuracy\"]\n",
    "    \n",
    "    plt.plot(range(1, epochs+1), train_acc, 'b', label='Train acc', color = \"red\")\n",
    "    plt.plot(range(1, epochs+1), val_acc, 'b', label='Validation acc', color = \"blue\")\n",
    "    plt.title('Train & validation accuracies - ' + mod_name)\n",
    "    plt.xlabel(\"Epochs\")\n",
    "    plt.ylabel(\"Accuracy\")\n",
    "    plt.legend()\n",
    "    \n",
    "    print()\n",
    "    print(f\"Temps d'entrainements pour {epochs} epochs : {time()-start:.0f} secondes.\")\n",
    "    print(f\"Meilleure train_acc = {np.max(train_acc):.3f}, meilleure val_acc = {np.max(val_acc):.3f}\")\n",
    "    print()\n",
    "    print(f\"F1_score obtenu : {f1_sc:.2f}\")\n",
    "\n",
    "    plt.show()"
   ]
  },
  {
   "cell_type": "markdown",
   "metadata": {
    "id": "MHjlFxF2ChP7"
   },
   "source": [
    " "
   ]
  },
  {
   "cell_type": "markdown",
   "metadata": {
    "id": "jiuwUc5RCWbQ"
   },
   "source": [
    "## **Modélisation DistilBERT**`"
   ]
  },
  {
   "cell_type": "code",
   "execution_count": null,
   "metadata": {
    "colab": {
     "base_uri": "https://localhost:8080/",
     "height": 168,
     "referenced_widgets": [
      "be0c5a1c861c43acbb3338881e595ad2",
      "4b14beed61cb495db30697bd3fe7a22e",
      "6e74dc5bef9b46ff9ec445eed026989d",
      "853e085ae9a4490a9c78dd9636506631",
      "6f40e4255d49443386bc445d12a9fb78",
      "6b0f952fa9da45eca7247c76bff28947",
      "502619f6e0cb428fa863a90e1a8e66f9",
      "cba1c20035fa42849f5d7bec06fb841f",
      "09581b30e81c4c0db3762ed379d6fb7f",
      "36579299aa184397a03005a704096a02",
      "9326530291104f2eb9dfc07d1f6fc003",
      "b210d8884dac48cba464836f10409697",
      "9c2625249b4e49bbb818bf24e9dd28da",
      "57d6304a85494d2198f109ad8597f31a",
      "23233e1384e94367b08cd7b347e634a4",
      "62ce8840e97f481fa629bfb77467f60d",
      "82d19c414ab4436d96acd2ac1f48a4cf",
      "9ea2deca909349c3bc9356522779c800",
      "0ba0ffeebb0d40c6a60601379e269252",
      "b8d817e331e64a0784efe993dd879e40",
      "c3242c23cced4eebbf4fc59233eb2412",
      "6d6b77696dfb486c9e23dfb179abe688",
      "a9df0c99d70f4a29b32eff7b8986e0db",
      "7b51963601344d4297ea69670c2a4a6c"
     ]
    },
    "collapsed": true,
    "id": "tgKWQPkZAhXw",
    "jupyter": {
     "outputs_hidden": true
    },
    "outputId": "1e135b50-9b36-4d46-9e61-ae0539496790"
   },
   "outputs": [
    {
     "data": {
      "application/vnd.jupyter.widget-view+json": {
       "model_id": "be0c5a1c861c43acbb3338881e595ad2",
       "version_major": 2,
       "version_minor": 0
      },
      "text/plain": [
       "HBox(children=(FloatProgress(value=0.0, description='Downloading', max=231508.0, style=ProgressStyle(descripti…"
      ]
     },
     "metadata": {
      "tags": []
     },
     "output_type": "display_data"
    },
    {
     "name": "stdout",
     "output_type": "stream",
     "text": [
      "\n"
     ]
    },
    {
     "data": {
      "application/vnd.jupyter.widget-view+json": {
       "model_id": "09581b30e81c4c0db3762ed379d6fb7f",
       "version_major": 2,
       "version_minor": 0
      },
      "text/plain": [
       "HBox(children=(FloatProgress(value=0.0, description='Downloading', max=466062.0, style=ProgressStyle(descripti…"
      ]
     },
     "metadata": {
      "tags": []
     },
     "output_type": "display_data"
    },
    {
     "name": "stdout",
     "output_type": "stream",
     "text": [
      "\n"
     ]
    },
    {
     "data": {
      "application/vnd.jupyter.widget-view+json": {
       "model_id": "82d19c414ab4436d96acd2ac1f48a4cf",
       "version_major": 2,
       "version_minor": 0
      },
      "text/plain": [
       "HBox(children=(FloatProgress(value=0.0, description='Downloading', max=28.0, style=ProgressStyle(description_w…"
      ]
     },
     "metadata": {
      "tags": []
     },
     "output_type": "display_data"
    },
    {
     "name": "stdout",
     "output_type": "stream",
     "text": [
      "\n"
     ]
    }
   ],
   "source": [
    "model_name = 'distilbert-base-uncased'\n",
    "tokenizer = DistilBertTokenizerFast.from_pretrained(model_name)"
   ]
  },
  {
   "cell_type": "code",
   "execution_count": null,
   "metadata": {
    "colab": {
     "base_uri": "https://localhost:8080/"
    },
    "id": "I0y4GGcDAhai",
    "outputId": "a2be9d4f-8f7e-442b-a49f-9fb204e0601d"
   },
   "outputs": [
    {
     "name": "stdout",
     "output_type": "stream",
     "text": [
      "L'encodage a pris : 39 secondes.\n"
     ]
    }
   ],
   "source": [
    "start = time()\n",
    "X_train_ids, X_train_attention = batch_encode(tokenizer, X_train)\n",
    "X_test_ids, X_test_attention = batch_encode(tokenizer, X_test)\n",
    "data_dist = [[X_train_ids, X_train_attention], y_train, [X_test_ids, X_test_attention], y_test]\n",
    "\n",
    "print(f\"L'encodage a pris : {time()-start:.0f} secondes.\")"
   ]
  },
  {
   "cell_type": "code",
   "execution_count": null,
   "metadata": {
    "colab": {
     "base_uri": "https://localhost:8080/"
    },
    "id": "rmUimCvSAheF",
    "outputId": "d18c501c-b01e-428d-e4c5-636ad76b3d71"
   },
   "outputs": [
    {
     "name": "stdout",
     "output_type": "stream",
     "text": [
      "(40000, 512) (40000, 512) (10000, 512) (10000, 512)\n"
     ]
    }
   ],
   "source": [
    "print(X_train_ids.shape,\n",
    "      X_train_attention.shape,\n",
    "      X_test_ids.shape,\n",
    "      X_test_attention.shape)"
   ]
  },
  {
   "cell_type": "code",
   "execution_count": null,
   "metadata": {
    "id": "XvsZjSmfAhgj"
   },
   "outputs": [],
   "source": [
    "def build_distil_model(max_length = MAX_LENGTH):\n",
    "\n",
    "    distilBERT = TFDistilBertModel.from_pretrained('distilbert-base-uncased')#, config = config)\n",
    "\n",
    "    for layer in distilBERT.layers:\n",
    "        layer.trainable = False\n",
    "\n",
    "    input_ids_layer = tf.keras.layers.Input(shape=(max_length,), \n",
    "                                            name='input_ids', \n",
    "                                            dtype='int32')\n",
    "    input_attention_layer = tf.keras.layers.Input(shape=(max_length,), \n",
    "                                                  name='input_attention', \n",
    "                                                  dtype='int32')\n",
    "    \n",
    "    last_hidden_state = distilBERT([input_ids_layer, input_attention_layer])[0]\n",
    "    \n",
    "    cls_token = last_hidden_state[:, 0, :]\n",
    "\n",
    "    output = tf.keras.layers.Dense(25, activation='sigmoid')(cls_token)\n",
    "    \n",
    "    model = tf.keras.Model([input_ids_layer, input_attention_layer], output)\n",
    "\n",
    "    model.compile(tf.keras.optimizers.Adam(),\n",
    "                  loss = 'binary_crossentropy',\n",
    "                  metrics='accuracy')\n",
    "\n",
    "    return model"
   ]
  },
  {
   "cell_type": "code",
   "execution_count": null,
   "metadata": {
    "colab": {
     "base_uri": "https://localhost:8080/",
     "height": 803,
     "referenced_widgets": [
      "24b751e7ad1b4d599616c7c53f7c2879",
      "b491b697d4a242a5993f83e930efbf33",
      "10cb85703d9c486a8458f98cbd512796",
      "3629d1d783294a81ade1122349d9599c",
      "08e0f8ffa0ac46b5b973b2cf3d6fe4ca",
      "090d5d2345984e6d9b949f3c9963ea2a",
      "cc89cc9340694d3e9a0eebd30c48c049",
      "d987ebfee4fe4ed78701cc400a2a2cf2",
      "e7fe5202fee8496683e3400d18cf32fc",
      "ff4c5dc7eda04b5b8c2229463d3799c9",
      "fe6b2b6dc14b4a65ad995c520bda2259",
      "31a4af7bc4694e12b5d7cf7524117e80",
      "d8192c9fb5b3407799654303774878a4",
      "3fe3d4b88db149089181bcbe8d5ef4af",
      "19cbf27ab2904fc59e1d702137cae810",
      "1f8618a00a414514b0aed41fcf09dd25"
     ]
    },
    "collapsed": true,
    "id": "NH5lmCC4AhjE",
    "jupyter": {
     "outputs_hidden": true
    },
    "outputId": "5cbed915-8b97-4613-cedd-a7fded54627f"
   },
   "outputs": [
    {
     "data": {
      "application/vnd.jupyter.widget-view+json": {
       "model_id": "24b751e7ad1b4d599616c7c53f7c2879",
       "version_major": 2,
       "version_minor": 0
      },
      "text/plain": [
       "HBox(children=(FloatProgress(value=0.0, description='Downloading', max=442.0, style=ProgressStyle(description_…"
      ]
     },
     "metadata": {
      "tags": []
     },
     "output_type": "display_data"
    },
    {
     "name": "stdout",
     "output_type": "stream",
     "text": [
      "\n"
     ]
    },
    {
     "data": {
      "application/vnd.jupyter.widget-view+json": {
       "model_id": "e7fe5202fee8496683e3400d18cf32fc",
       "version_major": 2,
       "version_minor": 0
      },
      "text/plain": [
       "HBox(children=(FloatProgress(value=0.0, description='Downloading', max=363423424.0, style=ProgressStyle(descri…"
      ]
     },
     "metadata": {
      "tags": []
     },
     "output_type": "display_data"
    },
    {
     "name": "stdout",
     "output_type": "stream",
     "text": [
      "\n"
     ]
    },
    {
     "name": "stderr",
     "output_type": "stream",
     "text": [
      "Some layers from the model checkpoint at distilbert-base-uncased were not used when initializing TFDistilBertModel: ['vocab_transform', 'vocab_layer_norm', 'activation_13', 'vocab_projector']\n",
      "- This IS expected if you are initializing TFDistilBertModel from the checkpoint of a model trained on another task or with another architecture (e.g. initializing a BertForSequenceClassification model from a BertForPreTraining model).\n",
      "- This IS NOT expected if you are initializing TFDistilBertModel from the checkpoint of a model that you expect to be exactly identical (initializing a BertForSequenceClassification model from a BertForSequenceClassification model).\n",
      "All the layers of TFDistilBertModel were initialized from the model checkpoint at distilbert-base-uncased.\n",
      "If your task is similar to the task the model of the checkpoint was trained on, you can already use TFDistilBertModel for predictions without further training.\n"
     ]
    },
    {
     "name": "stdout",
     "output_type": "stream",
     "text": [
      "WARNING:tensorflow:The parameters `output_attentions`, `output_hidden_states` and `use_cache` cannot be updated when calling a model.They have to be set to True/False in the config object (i.e.: `config=XConfig.from_pretrained('name', output_attentions=True)`).\n",
      "WARNING:tensorflow:AutoGraph could not transform <bound method Socket.send of <zmq.sugar.socket.Socket object at 0x7fa582df3c20>> and will run it as-is.\n",
      "Please report this to the TensorFlow team. When filing the bug, set the verbosity to 10 (on Linux, `export AUTOGRAPH_VERBOSITY=10`) and attach the full output.\n",
      "Cause: module, class, method, function, traceback, frame, or code object was expected, got cython_function_or_method\n",
      "To silence this warning, decorate the function with @tf.autograph.experimental.do_not_convert\n"
     ]
    },
    {
     "name": "stderr",
     "output_type": "stream",
     "text": [
      "WARNING:tensorflow:AutoGraph could not transform <bound method Socket.send of <zmq.sugar.socket.Socket object at 0x7fa582df3c20>> and will run it as-is.\n",
      "Please report this to the TensorFlow team. When filing the bug, set the verbosity to 10 (on Linux, `export AUTOGRAPH_VERBOSITY=10`) and attach the full output.\n",
      "Cause: module, class, method, function, traceback, frame, or code object was expected, got cython_function_or_method\n",
      "To silence this warning, decorate the function with @tf.autograph.experimental.do_not_convert\n"
     ]
    },
    {
     "name": "stdout",
     "output_type": "stream",
     "text": [
      "WARNING: AutoGraph could not transform <bound method Socket.send of <zmq.sugar.socket.Socket object at 0x7fa582df3c20>> and will run it as-is.\n",
      "Please report this to the TensorFlow team. When filing the bug, set the verbosity to 10 (on Linux, `export AUTOGRAPH_VERBOSITY=10`) and attach the full output.\n",
      "Cause: module, class, method, function, traceback, frame, or code object was expected, got cython_function_or_method\n",
      "To silence this warning, decorate the function with @tf.autograph.experimental.do_not_convert\n"
     ]
    },
    {
     "name": "stderr",
     "output_type": "stream",
     "text": [
      "WARNING:tensorflow:The parameters `output_attentions`, `output_hidden_states` and `use_cache` cannot be updated when calling a model.They have to be set to True/False in the config object (i.e.: `config=XConfig.from_pretrained('name', output_attentions=True)`).\n"
     ]
    },
    {
     "name": "stdout",
     "output_type": "stream",
     "text": [
      "WARNING:tensorflow:AutoGraph could not transform <function wrap at 0x7fa59a108cb0> and will run it as-is.\n",
      "Cause: while/else statement not yet supported\n",
      "To silence this warning, decorate the function with @tf.autograph.experimental.do_not_convert\n"
     ]
    },
    {
     "name": "stderr",
     "output_type": "stream",
     "text": [
      "WARNING:tensorflow:AutoGraph could not transform <function wrap at 0x7fa59a108cb0> and will run it as-is.\n",
      "Cause: while/else statement not yet supported\n",
      "To silence this warning, decorate the function with @tf.autograph.experimental.do_not_convert\n"
     ]
    },
    {
     "name": "stdout",
     "output_type": "stream",
     "text": [
      "WARNING:tensorflow:The parameter `return_dict` cannot be set in graph mode and will always be set to `True`.\n",
      "WARNING: AutoGraph could not transform <function wrap at 0x7fa59a108cb0> and will run it as-is.\n",
      "Cause: while/else statement not yet supported\n",
      "To silence this warning, decorate the function with @tf.autograph.experimental.do_not_convert\n"
     ]
    },
    {
     "name": "stderr",
     "output_type": "stream",
     "text": [
      "WARNING:tensorflow:The parameter `return_dict` cannot be set in graph mode and will always be set to `True`.\n"
     ]
    },
    {
     "name": "stdout",
     "output_type": "stream",
     "text": [
      "WARNING:tensorflow:From /usr/local/lib/python3.7/dist-packages/tensorflow/python/ops/array_ops.py:5049: calling gather (from tensorflow.python.ops.array_ops) with validate_indices is deprecated and will be removed in a future version.\n",
      "Instructions for updating:\n",
      "The `validate_indices` argument has no effect. Indices are always validated on CPU and never validated on GPU.\n"
     ]
    },
    {
     "name": "stderr",
     "output_type": "stream",
     "text": [
      "WARNING:tensorflow:From /usr/local/lib/python3.7/dist-packages/tensorflow/python/ops/array_ops.py:5049: calling gather (from tensorflow.python.ops.array_ops) with validate_indices is deprecated and will be removed in a future version.\n",
      "Instructions for updating:\n",
      "The `validate_indices` argument has no effect. Indices are always validated on CPU and never validated on GPU.\n"
     ]
    }
   ],
   "source": [
    "with strategy.scope():\n",
    "    model_dist = build_distil_model()"
   ]
  },
  {
   "cell_type": "code",
   "execution_count": null,
   "metadata": {
    "colab": {
     "base_uri": "https://localhost:8080/"
    },
    "id": "0LouXTayT892",
    "outputId": "d99273a4-8918-4d89-a99f-95d62f61f59d"
   },
   "outputs": [
    {
     "name": "stdout",
     "output_type": "stream",
     "text": [
      "Model: \"model\"\n",
      "__________________________________________________________________________________________________\n",
      "Layer (type)                    Output Shape         Param #     Connected to                     \n",
      "==================================================================================================\n",
      "input_ids (InputLayer)          [(None, 512)]        0                                            \n",
      "__________________________________________________________________________________________________\n",
      "input_attention (InputLayer)    [(None, 512)]        0                                            \n",
      "__________________________________________________________________________________________________\n",
      "tf_distil_bert_model (TFDistilB TFBaseModelOutput(la 66362880    input_ids[0][0]                  \n",
      "                                                                 input_attention[0][0]            \n",
      "__________________________________________________________________________________________________\n",
      "tf.__operators__.getitem (Slici (None, 768)          0           tf_distil_bert_model[0][0]       \n",
      "__________________________________________________________________________________________________\n",
      "dense (Dense)                   (None, 25)           19225       tf.__operators__.getitem[0][0]   \n",
      "==================================================================================================\n",
      "Total params: 66,382,105\n",
      "Trainable params: 19,225\n",
      "Non-trainable params: 66,362,880\n",
      "__________________________________________________________________________________________________\n"
     ]
    }
   ],
   "source": [
    "model_dist.summary()"
   ]
  },
  {
   "cell_type": "code",
   "execution_count": null,
   "metadata": {
    "colab": {
     "base_uri": "https://localhost:8080/",
     "height": 1000
    },
    "collapsed": true,
    "id": "QvsQzkx4Ahl7",
    "jupyter": {
     "outputs_hidden": true
    },
    "outputId": "740de969-b69b-42ee-8a0a-1056118eb013"
   },
   "outputs": [
    {
     "name": "stdout",
     "output_type": "stream",
     "text": [
      "Epoch 1/50\n",
      "WARNING:tensorflow:The parameters `output_attentions`, `output_hidden_states` and `use_cache` cannot be updated when calling a model.They have to be set to True/False in the config object (i.e.: `config=XConfig.from_pretrained('name', output_attentions=True)`).\n"
     ]
    },
    {
     "name": "stderr",
     "output_type": "stream",
     "text": [
      "WARNING:tensorflow:The parameters `output_attentions`, `output_hidden_states` and `use_cache` cannot be updated when calling a model.They have to be set to True/False in the config object (i.e.: `config=XConfig.from_pretrained('name', output_attentions=True)`).\n"
     ]
    },
    {
     "name": "stdout",
     "output_type": "stream",
     "text": [
      "WARNING:tensorflow:The parameter `return_dict` cannot be set in graph mode and will always be set to `True`.\n"
     ]
    },
    {
     "name": "stderr",
     "output_type": "stream",
     "text": [
      "WARNING:tensorflow:The parameter `return_dict` cannot be set in graph mode and will always be set to `True`.\n"
     ]
    },
    {
     "name": "stdout",
     "output_type": "stream",
     "text": [
      "WARNING:tensorflow:The parameters `output_attentions`, `output_hidden_states` and `use_cache` cannot be updated when calling a model.They have to be set to True/False in the config object (i.e.: `config=XConfig.from_pretrained('name', output_attentions=True)`).\n"
     ]
    },
    {
     "name": "stderr",
     "output_type": "stream",
     "text": [
      "WARNING:tensorflow:The parameters `output_attentions`, `output_hidden_states` and `use_cache` cannot be updated when calling a model.They have to be set to True/False in the config object (i.e.: `config=XConfig.from_pretrained('name', output_attentions=True)`).\n"
     ]
    },
    {
     "name": "stdout",
     "output_type": "stream",
     "text": [
      "WARNING:tensorflow:The parameter `return_dict` cannot be set in graph mode and will always be set to `True`.\n"
     ]
    },
    {
     "name": "stderr",
     "output_type": "stream",
     "text": [
      "WARNING:tensorflow:The parameter `return_dict` cannot be set in graph mode and will always be set to `True`.\n"
     ]
    },
    {
     "name": "stdout",
     "output_type": "stream",
     "text": [
      "1000/1000 [==============================] - ETA: 0s - loss: 0.1745 - accuracy: 0.3105WARNING:tensorflow:The parameters `output_attentions`, `output_hidden_states` and `use_cache` cannot be updated when calling a model.They have to be set to True/False in the config object (i.e.: `config=XConfig.from_pretrained('name', output_attentions=True)`).\n"
     ]
    },
    {
     "name": "stderr",
     "output_type": "stream",
     "text": [
      "WARNING:tensorflow:The parameters `output_attentions`, `output_hidden_states` and `use_cache` cannot be updated when calling a model.They have to be set to True/False in the config object (i.e.: `config=XConfig.from_pretrained('name', output_attentions=True)`).\n"
     ]
    },
    {
     "name": "stdout",
     "output_type": "stream",
     "text": [
      "WARNING:tensorflow:The parameter `return_dict` cannot be set in graph mode and will always be set to `True`.\n"
     ]
    },
    {
     "name": "stderr",
     "output_type": "stream",
     "text": [
      "WARNING:tensorflow:The parameter `return_dict` cannot be set in graph mode and will always be set to `True`.\n"
     ]
    },
    {
     "name": "stdout",
     "output_type": "stream",
     "text": [
      "1000/1000 [==============================] - 42s 33ms/step - loss: 0.1745 - accuracy: 0.3105 - val_loss: 0.1533 - val_accuracy: 0.3746\n",
      "Epoch 2/50\n",
      "1000/1000 [==============================] - 30s 30ms/step - loss: 0.1497 - accuracy: 0.4016 - val_loss: 0.1404 - val_accuracy: 0.4459\n",
      "Epoch 3/50\n",
      "1000/1000 [==============================] - 30s 30ms/step - loss: 0.1403 - accuracy: 0.4353 - val_loss: 0.1325 - val_accuracy: 0.4681\n",
      "Epoch 4/50\n",
      "1000/1000 [==============================] - 30s 30ms/step - loss: 0.1347 - accuracy: 0.4555 - val_loss: 0.1285 - val_accuracy: 0.4934\n",
      "Epoch 5/50\n",
      "1000/1000 [==============================] - 30s 30ms/step - loss: 0.1309 - accuracy: 0.4703 - val_loss: 0.1241 - val_accuracy: 0.5019\n",
      "Epoch 6/50\n",
      "1000/1000 [==============================] - 30s 30ms/step - loss: 0.1280 - accuracy: 0.4812 - val_loss: 0.1225 - val_accuracy: 0.5098\n",
      "Epoch 7/50\n",
      "1000/1000 [==============================] - 30s 30ms/step - loss: 0.1256 - accuracy: 0.4901 - val_loss: 0.1196 - val_accuracy: 0.5146\n",
      "Epoch 8/50\n",
      "1000/1000 [==============================] - 30s 30ms/step - loss: 0.1240 - accuracy: 0.4978 - val_loss: 0.1178 - val_accuracy: 0.5199\n",
      "Epoch 9/50\n",
      "1000/1000 [==============================] - 30s 30ms/step - loss: 0.1224 - accuracy: 0.5002 - val_loss: 0.1172 - val_accuracy: 0.5270\n",
      "Epoch 10/50\n",
      "1000/1000 [==============================] - 30s 30ms/step - loss: 0.1212 - accuracy: 0.5078 - val_loss: 0.1166 - val_accuracy: 0.5218\n",
      "Epoch 11/50\n",
      "1000/1000 [==============================] - 29s 29ms/step - loss: 0.1202 - accuracy: 0.5102 - val_loss: 0.1146 - val_accuracy: 0.5325\n",
      "Epoch 12/50\n",
      "1000/1000 [==============================] - 30s 30ms/step - loss: 0.1191 - accuracy: 0.5109 - val_loss: 0.1143 - val_accuracy: 0.5269\n",
      "Epoch 13/50\n",
      "1000/1000 [==============================] - 29s 29ms/step - loss: 0.1186 - accuracy: 0.5137 - val_loss: 0.1123 - val_accuracy: 0.5348\n",
      "Epoch 14/50\n",
      "1000/1000 [==============================] - 30s 30ms/step - loss: 0.1176 - accuracy: 0.5162 - val_loss: 0.1115 - val_accuracy: 0.5314\n",
      "Epoch 15/50\n",
      "1000/1000 [==============================] - 29s 29ms/step - loss: 0.1169 - accuracy: 0.5185 - val_loss: 0.1124 - val_accuracy: 0.5365\n",
      "Epoch 16/50\n",
      "1000/1000 [==============================] - 30s 30ms/step - loss: 0.1163 - accuracy: 0.5203 - val_loss: 0.1104 - val_accuracy: 0.5433\n",
      "Epoch 17/50\n",
      "1000/1000 [==============================] - 30s 30ms/step - loss: 0.1160 - accuracy: 0.5238 - val_loss: 0.1109 - val_accuracy: 0.5451\n",
      "Epoch 18/50\n",
      "1000/1000 [==============================] - 30s 30ms/step - loss: 0.1155 - accuracy: 0.5227 - val_loss: 0.1101 - val_accuracy: 0.5391\n",
      "Epoch 19/50\n",
      "1000/1000 [==============================] - 29s 29ms/step - loss: 0.1150 - accuracy: 0.5237 - val_loss: 0.1092 - val_accuracy: 0.5564\n",
      "Epoch 20/50\n",
      "1000/1000 [==============================] - 30s 30ms/step - loss: 0.1146 - accuracy: 0.5283 - val_loss: 0.1089 - val_accuracy: 0.5481\n",
      "Epoch 21/50\n",
      "1000/1000 [==============================] - 29s 29ms/step - loss: 0.1146 - accuracy: 0.5285 - val_loss: 0.1097 - val_accuracy: 0.5508\n",
      "Epoch 22/50\n",
      "1000/1000 [==============================] - 29s 29ms/step - loss: 0.1139 - accuracy: 0.5288 - val_loss: 0.1078 - val_accuracy: 0.5554\n",
      "Epoch 23/50\n",
      "1000/1000 [==============================] - 29s 29ms/step - loss: 0.1138 - accuracy: 0.5276 - val_loss: 0.1084 - val_accuracy: 0.5539\n",
      "Epoch 24/50\n",
      "1000/1000 [==============================] - 29s 29ms/step - loss: 0.1132 - accuracy: 0.5319 - val_loss: 0.1082 - val_accuracy: 0.5518\n",
      "Epoch 25/50\n",
      "1000/1000 [==============================] - 29s 29ms/step - loss: 0.1132 - accuracy: 0.5280 - val_loss: 0.1075 - val_accuracy: 0.5578\n",
      "Epoch 26/50\n",
      "1000/1000 [==============================] - 30s 30ms/step - loss: 0.1130 - accuracy: 0.5293 - val_loss: 0.1070 - val_accuracy: 0.5496\n",
      "Epoch 27/50\n",
      "1000/1000 [==============================] - 29s 29ms/step - loss: 0.1124 - accuracy: 0.5324 - val_loss: 0.1071 - val_accuracy: 0.5620\n",
      "Epoch 28/50\n",
      "1000/1000 [==============================] - 30s 30ms/step - loss: 0.1122 - accuracy: 0.5350 - val_loss: 0.1066 - val_accuracy: 0.5569\n",
      "Epoch 29/50\n",
      "1000/1000 [==============================] - 29s 29ms/step - loss: 0.1123 - accuracy: 0.5329 - val_loss: 0.1062 - val_accuracy: 0.5614\n",
      "Epoch 30/50\n",
      "1000/1000 [==============================] - 29s 29ms/step - loss: 0.1120 - accuracy: 0.5346 - val_loss: 0.1071 - val_accuracy: 0.5553\n",
      "Epoch 31/50\n",
      "1000/1000 [==============================] - 29s 29ms/step - loss: 0.1118 - accuracy: 0.5343 - val_loss: 0.1058 - val_accuracy: 0.5604\n",
      "Epoch 32/50\n",
      "1000/1000 [==============================] - 29s 29ms/step - loss: 0.1113 - accuracy: 0.5386 - val_loss: 0.1066 - val_accuracy: 0.5563\n",
      "Epoch 33/50\n",
      "1000/1000 [==============================] - 29s 29ms/step - loss: 0.1116 - accuracy: 0.5363 - val_loss: 0.1060 - val_accuracy: 0.5592\n",
      "Epoch 34/50\n",
      "1000/1000 [==============================] - 29s 29ms/step - loss: 0.1115 - accuracy: 0.5339 - val_loss: 0.1057 - val_accuracy: 0.5533\n",
      "Epoch 35/50\n",
      "1000/1000 [==============================] - 29s 29ms/step - loss: 0.1109 - accuracy: 0.5372 - val_loss: 0.1056 - val_accuracy: 0.5676\n",
      "Epoch 36/50\n",
      "1000/1000 [==============================] - 30s 30ms/step - loss: 0.1111 - accuracy: 0.5380 - val_loss: 0.1049 - val_accuracy: 0.5654\n",
      "Epoch 37/50\n",
      "1000/1000 [==============================] - 29s 29ms/step - loss: 0.1107 - accuracy: 0.5388 - val_loss: 0.1049 - val_accuracy: 0.5724\n",
      "Epoch 38/50\n",
      "1000/1000 [==============================] - 30s 30ms/step - loss: 0.1105 - accuracy: 0.5391 - val_loss: 0.1070 - val_accuracy: 0.5665\n",
      "Epoch 39/50\n",
      "1000/1000 [==============================] - 29s 29ms/step - loss: 0.1110 - accuracy: 0.5363 - val_loss: 0.1048 - val_accuracy: 0.5633\n",
      "Epoch 40/50\n",
      "1000/1000 [==============================] - 29s 29ms/step - loss: 0.1105 - accuracy: 0.5376 - val_loss: 0.1055 - val_accuracy: 0.5621\n",
      "Epoch 41/50\n",
      "1000/1000 [==============================] - 29s 29ms/step - loss: 0.1106 - accuracy: 0.5397 - val_loss: 0.1069 - val_accuracy: 0.5393\n",
      "Epoch 42/50\n",
      "1000/1000 [==============================] - 29s 29ms/step - loss: 0.1105 - accuracy: 0.5400 - val_loss: 0.1042 - val_accuracy: 0.5653\n",
      "Epoch 43/50\n",
      "1000/1000 [==============================] - 29s 29ms/step - loss: 0.1103 - accuracy: 0.5392 - val_loss: 0.1041 - val_accuracy: 0.5680\n",
      "Epoch 44/50\n",
      "1000/1000 [==============================] - 30s 30ms/step - loss: 0.1104 - accuracy: 0.5383 - val_loss: 0.1038 - val_accuracy: 0.5681\n",
      "Epoch 45/50\n",
      "1000/1000 [==============================] - 29s 29ms/step - loss: 0.1102 - accuracy: 0.5431 - val_loss: 0.1043 - val_accuracy: 0.5630\n",
      "Epoch 46/50\n",
      "1000/1000 [==============================] - 30s 30ms/step - loss: 0.1098 - accuracy: 0.5435 - val_loss: 0.1048 - val_accuracy: 0.5705\n",
      "Epoch 47/50\n",
      "1000/1000 [==============================] - 30s 30ms/step - loss: 0.1098 - accuracy: 0.5413 - val_loss: 0.1046 - val_accuracy: 0.5718\n",
      "Epoch 48/50\n",
      "1000/1000 [==============================] - 30s 30ms/step - loss: 0.1096 - accuracy: 0.5435 - val_loss: 0.1039 - val_accuracy: 0.5709\n",
      "Epoch 49/50\n",
      "1000/1000 [==============================] - 30s 30ms/step - loss: 0.1095 - accuracy: 0.5432 - val_loss: 0.1038 - val_accuracy: 0.5655\n",
      "Epoch 50/50\n",
      "1000/1000 [==============================] - 30s 30ms/step - loss: 0.1095 - accuracy: 0.5423 - val_loss: 0.1037 - val_accuracy: 0.5643\n"
     ]
    },
    {
     "name": "stderr",
     "output_type": "stream",
     "text": [
      "INFO:absl:TPU has inputs with dynamic shapes: [<tf.Tensor 'Const:0' shape=() dtype=int32>, <tf.Tensor 'cond_8/Identity:0' shape=(None, 512) dtype=int32>, <tf.Tensor 'cond_8/Identity_1:0' shape=(None, 512) dtype=int32>]\n"
     ]
    },
    {
     "name": "stdout",
     "output_type": "stream",
     "text": [
      "WARNING:tensorflow:The parameters `output_attentions`, `output_hidden_states` and `use_cache` cannot be updated when calling a model.They have to be set to True/False in the config object (i.e.: `config=XConfig.from_pretrained('name', output_attentions=True)`).\n"
     ]
    },
    {
     "name": "stderr",
     "output_type": "stream",
     "text": [
      "WARNING:tensorflow:The parameters `output_attentions`, `output_hidden_states` and `use_cache` cannot be updated when calling a model.They have to be set to True/False in the config object (i.e.: `config=XConfig.from_pretrained('name', output_attentions=True)`).\n"
     ]
    },
    {
     "name": "stdout",
     "output_type": "stream",
     "text": [
      "WARNING:tensorflow:The parameter `return_dict` cannot be set in graph mode and will always be set to `True`.\n"
     ]
    },
    {
     "name": "stderr",
     "output_type": "stream",
     "text": [
      "WARNING:tensorflow:The parameter `return_dict` cannot be set in graph mode and will always be set to `True`.\n"
     ]
    },
    {
     "name": "stdout",
     "output_type": "stream",
     "text": [
      "\n",
      "Temps d'entrainements pour 50 epochs : 1563 secondes.\n",
      "Meilleure train_acc = 0.544, meilleure val_acc = 0.572\n",
      "\n",
      "F1_score obtenu : 0.51\n"
     ]
    },
    {
     "data": {
      "image/png": "[encoded data removed]",
      "text/plain": [
       "<Figure size 720x288 with 1 Axes>"
      ]
     },
     "metadata": {
      "needs_background": "light",
      "tags": []
     },
     "output_type": "display_data"
    }
   ],
   "source": [
    "modelize(model_dist, 50, data_dist, \"big_mod_dist_t\")"
   ]
  },
  {
   "cell_type": "markdown",
   "metadata": {
    "id": "ALmdXiD8Aho9"
   },
   "source": [
    "<br><img src=\"images/distilbert_big_t.png\" width = \"600\" heights = \"336\">"
   ]
  },
  {
   "cell_type": "code",
   "execution_count": null,
   "metadata": {
    "id": "i5Mo1SbhAhr9"
   },
   "outputs": [],
   "source": [
    "for layer in model_dist.layers :\n",
    "    layer.trainable = True\n",
    "    \n",
    "model_dist.layers[-1].trainable = False\n",
    "\n",
    "model_dist.compile(tf.keras.optimizers.Adam(learning_rate = 1e-5),\n",
    "                       loss = 'binary_crossentropy',\n",
    "                       metrics='accuracy')"
   ]
  },
  {
   "cell_type": "code",
   "execution_count": null,
   "metadata": {
    "colab": {
     "base_uri": "https://localhost:8080/",
     "height": 1000
    },
    "collapsed": true,
    "id": "fjO6UV1aAhuy",
    "jupyter": {
     "outputs_hidden": true
    },
    "outputId": "75e493cc-2f3a-4916-f3e1-520a82d304f1"
   },
   "outputs": [
    {
     "name": "stdout",
     "output_type": "stream",
     "text": [
      "Epoch 1/20\n",
      "WARNING:tensorflow:The parameters `output_attentions`, `output_hidden_states` and `use_cache` cannot be updated when calling a model.They have to be set to True/False in the config object (i.e.: `config=XConfig.from_pretrained('name', output_attentions=True)`).\n"
     ]
    },
    {
     "name": "stderr",
     "output_type": "stream",
     "text": [
      "WARNING:tensorflow:The parameters `output_attentions`, `output_hidden_states` and `use_cache` cannot be updated when calling a model.They have to be set to True/False in the config object (i.e.: `config=XConfig.from_pretrained('name', output_attentions=True)`).\n"
     ]
    },
    {
     "name": "stdout",
     "output_type": "stream",
     "text": [
      "WARNING:tensorflow:The parameter `return_dict` cannot be set in graph mode and will always be set to `True`.\n"
     ]
    },
    {
     "name": "stderr",
     "output_type": "stream",
     "text": [
      "WARNING:tensorflow:The parameter `return_dict` cannot be set in graph mode and will always be set to `True`.\n"
     ]
    },
    {
     "name": "stdout",
     "output_type": "stream",
     "text": [
      "WARNING:tensorflow:The parameters `output_attentions`, `output_hidden_states` and `use_cache` cannot be updated when calling a model.They have to be set to True/False in the config object (i.e.: `config=XConfig.from_pretrained('name', output_attentions=True)`).\n"
     ]
    },
    {
     "name": "stderr",
     "output_type": "stream",
     "text": [
      "WARNING:tensorflow:The parameters `output_attentions`, `output_hidden_states` and `use_cache` cannot be updated when calling a model.They have to be set to True/False in the config object (i.e.: `config=XConfig.from_pretrained('name', output_attentions=True)`).\n"
     ]
    },
    {
     "name": "stdout",
     "output_type": "stream",
     "text": [
      "WARNING:tensorflow:The parameter `return_dict` cannot be set in graph mode and will always be set to `True`.\n"
     ]
    },
    {
     "name": "stderr",
     "output_type": "stream",
     "text": [
      "WARNING:tensorflow:The parameter `return_dict` cannot be set in graph mode and will always be set to `True`.\n"
     ]
    },
    {
     "name": "stdout",
     "output_type": "stream",
     "text": [
      "1000/1000 [==============================] - ETA: 0s - loss: 0.0768 - accuracy: 0.6576WARNING:tensorflow:The parameters `output_attentions`, `output_hidden_states` and `use_cache` cannot be updated when calling a model.They have to be set to True/False in the config object (i.e.: `config=XConfig.from_pretrained('name', output_attentions=True)`).\n"
     ]
    },
    {
     "name": "stderr",
     "output_type": "stream",
     "text": [
      "WARNING:tensorflow:The parameters `output_attentions`, `output_hidden_states` and `use_cache` cannot be updated when calling a model.They have to be set to True/False in the config object (i.e.: `config=XConfig.from_pretrained('name', output_attentions=True)`).\n"
     ]
    },
    {
     "name": "stdout",
     "output_type": "stream",
     "text": [
      "WARNING:tensorflow:The parameter `return_dict` cannot be set in graph mode and will always be set to `True`.\n"
     ]
    },
    {
     "name": "stderr",
     "output_type": "stream",
     "text": [
      "WARNING:tensorflow:The parameter `return_dict` cannot be set in graph mode and will always be set to `True`.\n"
     ]
    },
    {
     "name": "stdout",
     "output_type": "stream",
     "text": [
      "1000/1000 [==============================] - 122s 83ms/step - loss: 0.0768 - accuracy: 0.6576 - val_loss: 0.0685 - val_accuracy: 0.6805\n",
      "Epoch 2/20\n",
      "1000/1000 [==============================] - 80s 80ms/step - loss: 0.0605 - accuracy: 0.7099 - val_loss: 0.0623 - val_accuracy: 0.7096\n",
      "Epoch 3/20\n",
      "1000/1000 [==============================] - 79s 79ms/step - loss: 0.0528 - accuracy: 0.7330 - val_loss: 0.0614 - val_accuracy: 0.7066\n",
      "Epoch 4/20\n",
      "1000/1000 [==============================] - 79s 79ms/step - loss: 0.0463 - accuracy: 0.7535 - val_loss: 0.0630 - val_accuracy: 0.7181\n",
      "Epoch 5/20\n",
      "1000/1000 [==============================] - 79s 79ms/step - loss: 0.0398 - accuracy: 0.7742 - val_loss: 0.0649 - val_accuracy: 0.7184\n",
      "Epoch 6/20\n",
      "1000/1000 [==============================] - 79s 79ms/step - loss: 0.0337 - accuracy: 0.7903 - val_loss: 0.0689 - val_accuracy: 0.7213\n",
      "Epoch 7/20\n",
      "1000/1000 [==============================] - 79s 79ms/step - loss: 0.0279 - accuracy: 0.8099 - val_loss: 0.0761 - val_accuracy: 0.7136\n",
      "Epoch 8/20\n",
      "1000/1000 [==============================] - 79s 79ms/step - loss: 0.0232 - accuracy: 0.8206 - val_loss: 0.0822 - val_accuracy: 0.7161\n",
      "Epoch 9/20\n",
      "1000/1000 [==============================] - 79s 79ms/step - loss: 0.0188 - accuracy: 0.8361 - val_loss: 0.0925 - val_accuracy: 0.7100\n",
      "Epoch 10/20\n",
      "1000/1000 [==============================] - 79s 79ms/step - loss: 0.0154 - accuracy: 0.8421 - val_loss: 0.1020 - val_accuracy: 0.7101\n",
      "Epoch 11/20\n",
      "1000/1000 [==============================] - 79s 79ms/step - loss: 0.0129 - accuracy: 0.8474 - val_loss: 0.1071 - val_accuracy: 0.7156\n",
      "Epoch 12/20\n",
      "1000/1000 [==============================] - 78s 78ms/step - loss: 0.0110 - accuracy: 0.8517 - val_loss: 0.1131 - val_accuracy: 0.7129\n",
      "Epoch 13/20\n",
      "1000/1000 [==============================] - 78s 78ms/step - loss: 0.0095 - accuracy: 0.8524 - val_loss: 0.1207 - val_accuracy: 0.7176\n",
      "Epoch 14/20\n",
      "1000/1000 [==============================] - 78s 78ms/step - loss: 0.0082 - accuracy: 0.8553 - val_loss: 0.1259 - val_accuracy: 0.7158\n",
      "Epoch 15/20\n",
      "1000/1000 [==============================] - 78s 78ms/step - loss: 0.0072 - accuracy: 0.8559 - val_loss: 0.1325 - val_accuracy: 0.7183\n",
      "Epoch 16/20\n",
      "1000/1000 [==============================] - 78s 78ms/step - loss: 0.0065 - accuracy: 0.8598 - val_loss: 0.1312 - val_accuracy: 0.7149\n",
      "Epoch 17/20\n",
      "1000/1000 [==============================] - 79s 79ms/step - loss: 0.0057 - accuracy: 0.8622 - val_loss: 0.1395 - val_accuracy: 0.7163\n",
      "Epoch 18/20\n",
      "1000/1000 [==============================] - 78s 78ms/step - loss: 0.0052 - accuracy: 0.8639 - val_loss: 0.1422 - val_accuracy: 0.7189\n",
      "Epoch 19/20\n",
      "1000/1000 [==============================] - 78s 78ms/step - loss: 0.0046 - accuracy: 0.8639 - val_loss: 0.1469 - val_accuracy: 0.7160\n",
      "Epoch 20/20\n",
      "1000/1000 [==============================] - 78s 78ms/step - loss: 0.0042 - accuracy: 0.8656 - val_loss: 0.1496 - val_accuracy: 0.7208\n"
     ]
    },
    {
     "name": "stderr",
     "output_type": "stream",
     "text": [
      "INFO:absl:TPU has inputs with dynamic shapes: [<tf.Tensor 'Const:0' shape=() dtype=int32>, <tf.Tensor 'cond_8/Identity:0' shape=(None, 512) dtype=int32>, <tf.Tensor 'cond_8/Identity_1:0' shape=(None, 512) dtype=int32>]\n"
     ]
    },
    {
     "name": "stdout",
     "output_type": "stream",
     "text": [
      "WARNING:tensorflow:The parameters `output_attentions`, `output_hidden_states` and `use_cache` cannot be updated when calling a model.They have to be set to True/False in the config object (i.e.: `config=XConfig.from_pretrained('name', output_attentions=True)`).\n"
     ]
    },
    {
     "name": "stderr",
     "output_type": "stream",
     "text": [
      "WARNING:tensorflow:The parameters `output_attentions`, `output_hidden_states` and `use_cache` cannot be updated when calling a model.They have to be set to True/False in the config object (i.e.: `config=XConfig.from_pretrained('name', output_attentions=True)`).\n"
     ]
    },
    {
     "name": "stdout",
     "output_type": "stream",
     "text": [
      "WARNING:tensorflow:The parameter `return_dict` cannot be set in graph mode and will always be set to `True`.\n"
     ]
    },
    {
     "name": "stderr",
     "output_type": "stream",
     "text": [
      "WARNING:tensorflow:The parameter `return_dict` cannot be set in graph mode and will always be set to `True`.\n"
     ]
    },
    {
     "name": "stdout",
     "output_type": "stream",
     "text": [
      "\n",
      "Temps d'entrainements pour 20 epochs : 1643 secondes.\n",
      "Meilleure train_acc = 0.866, meilleure val_acc = 0.721\n",
      "\n",
      "F1_score obtenu : 0.78\n"
     ]
    },
    {
     "data": {
      "image/png": "[encoded data removed]",
      "text/plain": [
       "<Figure size 720x288 with 1 Axes>"
      ]
     },
     "metadata": {
      "needs_background": "light",
      "tags": []
     },
     "output_type": "display_data"
    }
   ],
   "source": [
    "modelize(model_dist, 20, data_dist, \"big_mod_dist_ft\")"
   ]
  },
  {
   "cell_type": "markdown",
   "metadata": {},
   "source": [
    "<br><img src=\"images/distilbert_big_ft.png\" width = \"600\" heights = \"336\">"
   ]
  },
  {
   "cell_type": "code",
   "execution_count": null,
   "metadata": {
    "id": "2O5wMwHzAhxu",
    "jupyter": {
     "source_hidden": true
    }
   },
   "outputs": [],
   "source": [
    "results_big = dict()\n",
    "\n",
    "results_big[\"DistilBert\"] = {\"Training\" : (0.572, 0.51), \"Fine-Tuning\": (0.721, 0.78)}\n",
    "\n",
    "pickle_out = open(path_data + \"results_big.pickle\", \"wb\")\n",
    "pickle.dump(results_big, pickle_out)\n",
    "pickle_out.close()"
   ]
  },
  {
   "cell_type": "markdown",
   "metadata": {
    "id": "Pc8_ycvKTdGA"
   },
   "source": [
    " "
   ]
  },
  {
   "cell_type": "markdown",
   "metadata": {
    "id": "ufKd9xGlI0ng"
   },
   "source": [
    "## **2-) Modèle BERT**"
   ]
  },
  {
   "cell_type": "code",
   "execution_count": null,
   "metadata": {
    "colab": {
     "base_uri": "https://localhost:8080/",
     "height": 168,
     "referenced_widgets": [
      "052dbeee465f4dd5883a5813ec4cb59a",
      "cecc56c9949342e09eb8e648582cee8b",
      "a06a71743cd044a6bef513fb821e3782",
      "52b5b9509e364c5588838d344c528271",
      "a70227e28d6a46b08dcf5ef464a8c5b6",
      "d7526510afef4c40b14d966058fa50f8",
      "df5ed7233ea1415280513b30d59f604e",
      "7b0df0ffdd734226a575662943eda89f",
      "294f155095ff45e7a57f05e7570f56f6",
      "f6d449864d754cbca499ef888d772d75",
      "86a47c35e57c4e0eb1470c9ae6629e9e",
      "5cc075c5c0d5421f94e81a21723d28ed",
      "2129cccbb048473dbbb7bf39b2749e74",
      "f802cdf742f147de8ad9f04a29624fef",
      "00ab80af17d34b27bcbd37f84e3fb7a2",
      "169d1e9869b94715af38d9e24ffe6fbe",
      "4790f66718ad44d9ae2217715c283667",
      "687e5c74c2f44a53b042d8dc278e432f",
      "852e132eda8349eda6366b014cd83fea",
      "2d6e66603a7a4c51af0e74420e21b0da",
      "99466f534f3843d58d6480b99431f5bb",
      "5f295ceec39b49eab4b8468ea0f9526c",
      "4b174a340b9a437895d358287f176eeb",
      "e625323b57b149ea844dc13b07195496"
     ]
    },
    "collapsed": true,
    "id": "0Zg2i7EpAh0j",
    "jupyter": {
     "outputs_hidden": true
    },
    "outputId": "1925093a-7241-437d-aa2a-29e685a3204f"
   },
   "outputs": [
    {
     "data": {
      "application/vnd.jupyter.widget-view+json": {
       "model_id": "052dbeee465f4dd5883a5813ec4cb59a",
       "version_major": 2,
       "version_minor": 0
      },
      "text/plain": [
       "HBox(children=(FloatProgress(value=0.0, description='Downloading', max=231508.0, style=ProgressStyle(descripti…"
      ]
     },
     "metadata": {
      "tags": []
     },
     "output_type": "display_data"
    },
    {
     "name": "stdout",
     "output_type": "stream",
     "text": [
      "\n"
     ]
    },
    {
     "data": {
      "application/vnd.jupyter.widget-view+json": {
       "model_id": "294f155095ff45e7a57f05e7570f56f6",
       "version_major": 2,
       "version_minor": 0
      },
      "text/plain": [
       "HBox(children=(FloatProgress(value=0.0, description='Downloading', max=28.0, style=ProgressStyle(description_w…"
      ]
     },
     "metadata": {
      "tags": []
     },
     "output_type": "display_data"
    },
    {
     "name": "stdout",
     "output_type": "stream",
     "text": [
      "\n"
     ]
    },
    {
     "data": {
      "application/vnd.jupyter.widget-view+json": {
       "model_id": "4790f66718ad44d9ae2217715c283667",
       "version_major": 2,
       "version_minor": 0
      },
      "text/plain": [
       "HBox(children=(FloatProgress(value=0.0, description='Downloading', max=466062.0, style=ProgressStyle(descripti…"
      ]
     },
     "metadata": {
      "tags": []
     },
     "output_type": "display_data"
    },
    {
     "name": "stdout",
     "output_type": "stream",
     "text": [
      "\n"
     ]
    }
   ],
   "source": [
    "model_name = 'bert-base-uncased'\n",
    "tokenizer = BertTokenizer.from_pretrained(model_name)"
   ]
  },
  {
   "cell_type": "code",
   "execution_count": null,
   "metadata": {
    "colab": {
     "base_uri": "https://localhost:8080/"
    },
    "id": "X_8oV9IvAh3r",
    "outputId": "e021b89d-97d5-4af1-d607-eacea795d37d"
   },
   "outputs": [
    {
     "name": "stdout",
     "output_type": "stream",
     "text": [
      "L'encodage a pris : 154 secondes.\n"
     ]
    }
   ],
   "source": [
    "start = time()\n",
    "X_train_ids, X_train_attention = batch_encode(tokenizer, X_train)\n",
    "X_test_ids, X_test_attention = batch_encode(tokenizer, X_test)\n",
    "\n",
    "data_bert = [[X_train_ids, X_train_attention], y_train, [X_test_ids, X_test_attention], y_test]\n",
    "\n",
    "print(f\"L'encodage a pris : {time()-start:.0f} secondes.\")"
   ]
  },
  {
   "cell_type": "code",
   "execution_count": null,
   "metadata": {
    "id": "O_qanwmFAh7T"
   },
   "outputs": [],
   "source": [
    "def build_bert_model(max_length = MAX_LENGTH):\n",
    "                    \n",
    "\n",
    "    bert = TFBertModel.from_pretrained('bert-base-uncased')\n",
    "\n",
    "    for layer in bert.layers:\n",
    "        layer.trainable = False\n",
    "\n",
    "    input_ids_layer = tf.keras.layers.Input(shape=(max_length,), \n",
    "                                            name='input_ids', \n",
    "                                            dtype='int32')\n",
    "    input_attention_layer = tf.keras.layers.Input(shape=(max_length,), \n",
    "                                                  name='input_attention', \n",
    "                                                  dtype='int32')\n",
    "\n",
    "    last_hidden_state = bert([input_ids_layer, input_attention_layer])[0]\n",
    "\n",
    "    cls_token = last_hidden_state[:, 0, :]\n",
    "\n",
    "    output = tf.keras.layers.Dense(25, activation='sigmoid')(cls_token)\n",
    "    \n",
    "    model = tf.keras.Model([input_ids_layer, input_attention_layer], output)\n",
    "\n",
    "    model.compile(tf.keras.optimizers.Adam(),\n",
    "                  loss = 'binary_crossentropy',\n",
    "                  metrics='accuracy')\n",
    "\n",
    "    return model"
   ]
  },
  {
   "cell_type": "code",
   "execution_count": null,
   "metadata": {
    "colab": {
     "base_uri": "https://localhost:8080/",
     "height": 304,
     "referenced_widgets": [
      "89e1a6a8c1794e1f9519e2fe90a7463f",
      "c2f5d7b76a8b4a06b93695f04eae453a",
      "9536804611944497af738cfaa19d70c5",
      "79c60c4b49fc4f35886a0a438a82fdb2",
      "38d77fa901dd41a192985046f6c5394c",
      "f3ab4cc852cb46d9a95f7ef6a86b5697",
      "faaa1c2605d4411b99adc82a61529a82",
      "8d1a467636234b7ba6f3f8244ea73831",
      "705e33aea8d3423a9cd6218142fd9ed8",
      "1fd779cacf5248acb24b7653a40e9010",
      "23e4edece50946f3aeed5508c20ed01a",
      "1cd98fceec4047438a5dbb32ece1f049",
      "d462e4adb3404e2197539288be73b7b0",
      "2b4e778be1a54715917a1f971c212756",
      "bc9be22afaec4e0290048a05dceaecaf",
      "11280472723a4547a8a33244f40dc5dc"
     ]
    },
    "collapsed": true,
    "id": "KcV92EJzAh9q",
    "jupyter": {
     "outputs_hidden": true
    },
    "outputId": "89bfdb7c-5f5e-41d5-ab4b-383a258ce6bf"
   },
   "outputs": [
    {
     "data": {
      "application/vnd.jupyter.widget-view+json": {
       "model_id": "89e1a6a8c1794e1f9519e2fe90a7463f",
       "version_major": 2,
       "version_minor": 0
      },
      "text/plain": [
       "HBox(children=(FloatProgress(value=0.0, description='Downloading', max=570.0, style=ProgressStyle(description_…"
      ]
     },
     "metadata": {
      "tags": []
     },
     "output_type": "display_data"
    },
    {
     "name": "stdout",
     "output_type": "stream",
     "text": [
      "\n"
     ]
    },
    {
     "data": {
      "application/vnd.jupyter.widget-view+json": {
       "model_id": "705e33aea8d3423a9cd6218142fd9ed8",
       "version_major": 2,
       "version_minor": 0
      },
      "text/plain": [
       "HBox(children=(FloatProgress(value=0.0, description='Downloading', max=536063208.0, style=ProgressStyle(descri…"
      ]
     },
     "metadata": {
      "tags": []
     },
     "output_type": "display_data"
    },
    {
     "name": "stdout",
     "output_type": "stream",
     "text": [
      "\n"
     ]
    },
    {
     "name": "stderr",
     "output_type": "stream",
     "text": [
      "Some layers from the model checkpoint at bert-base-uncased were not used when initializing TFBertModel: ['nsp___cls', 'mlm___cls']\n",
      "- This IS expected if you are initializing TFBertModel from the checkpoint of a model trained on another task or with another architecture (e.g. initializing a BertForSequenceClassification model from a BertForPreTraining model).\n",
      "- This IS NOT expected if you are initializing TFBertModel from the checkpoint of a model that you expect to be exactly identical (initializing a BertForSequenceClassification model from a BertForSequenceClassification model).\n",
      "All the layers of TFBertModel were initialized from the model checkpoint at bert-base-uncased.\n",
      "If your task is similar to the task the model of the checkpoint was trained on, you can already use TFBertModel for predictions without further training.\n"
     ]
    },
    {
     "name": "stdout",
     "output_type": "stream",
     "text": [
      "WARNING:tensorflow:The parameters `output_attentions`, `output_hidden_states` and `use_cache` cannot be updated when calling a model.They have to be set to True/False in the config object (i.e.: `config=XConfig.from_pretrained('name', output_attentions=True)`).\n"
     ]
    },
    {
     "name": "stderr",
     "output_type": "stream",
     "text": [
      "WARNING:tensorflow:The parameters `output_attentions`, `output_hidden_states` and `use_cache` cannot be updated when calling a model.They have to be set to True/False in the config object (i.e.: `config=XConfig.from_pretrained('name', output_attentions=True)`).\n"
     ]
    },
    {
     "name": "stdout",
     "output_type": "stream",
     "text": [
      "WARNING:tensorflow:The parameter `return_dict` cannot be set in graph mode and will always be set to `True`.\n"
     ]
    },
    {
     "name": "stderr",
     "output_type": "stream",
     "text": [
      "WARNING:tensorflow:The parameter `return_dict` cannot be set in graph mode and will always be set to `True`.\n"
     ]
    }
   ],
   "source": [
    "with strategy.scope():\n",
    "    model_bert = build_bert_model()"
   ]
  },
  {
   "cell_type": "code",
   "execution_count": null,
   "metadata": {
    "colab": {
     "base_uri": "https://localhost:8080/",
     "height": 1000
    },
    "collapsed": true,
    "id": "jIIL6cJgAiAF",
    "jupyter": {
     "outputs_hidden": true
    },
    "outputId": "775c3c56-f214-453d-e33d-caee0300d190"
   },
   "outputs": [
    {
     "name": "stdout",
     "output_type": "stream",
     "text": [
      "Epoch 1/50\n",
      "WARNING:tensorflow:The parameters `output_attentions`, `output_hidden_states` and `use_cache` cannot be updated when calling a model.They have to be set to True/False in the config object (i.e.: `config=XConfig.from_pretrained('name', output_attentions=True)`).\n"
     ]
    },
    {
     "name": "stderr",
     "output_type": "stream",
     "text": [
      "WARNING:tensorflow:The parameters `output_attentions`, `output_hidden_states` and `use_cache` cannot be updated when calling a model.They have to be set to True/False in the config object (i.e.: `config=XConfig.from_pretrained('name', output_attentions=True)`).\n"
     ]
    },
    {
     "name": "stdout",
     "output_type": "stream",
     "text": [
      "WARNING:tensorflow:The parameter `return_dict` cannot be set in graph mode and will always be set to `True`.\n"
     ]
    },
    {
     "name": "stderr",
     "output_type": "stream",
     "text": [
      "WARNING:tensorflow:The parameter `return_dict` cannot be set in graph mode and will always be set to `True`.\n"
     ]
    },
    {
     "name": "stdout",
     "output_type": "stream",
     "text": [
      "WARNING:tensorflow:The parameters `output_attentions`, `output_hidden_states` and `use_cache` cannot be updated when calling a model.They have to be set to True/False in the config object (i.e.: `config=XConfig.from_pretrained('name', output_attentions=True)`).\n"
     ]
    },
    {
     "name": "stderr",
     "output_type": "stream",
     "text": [
      "WARNING:tensorflow:The parameters `output_attentions`, `output_hidden_states` and `use_cache` cannot be updated when calling a model.They have to be set to True/False in the config object (i.e.: `config=XConfig.from_pretrained('name', output_attentions=True)`).\n"
     ]
    },
    {
     "name": "stdout",
     "output_type": "stream",
     "text": [
      "WARNING:tensorflow:The parameter `return_dict` cannot be set in graph mode and will always be set to `True`.\n"
     ]
    },
    {
     "name": "stderr",
     "output_type": "stream",
     "text": [
      "WARNING:tensorflow:The parameter `return_dict` cannot be set in graph mode and will always be set to `True`.\n"
     ]
    },
    {
     "name": "stdout",
     "output_type": "stream",
     "text": [
      " 999/1000 [============================>.] - ETA: 0s - loss: 0.1735 - accuracy: 0.3093WARNING:tensorflow:The parameters `output_attentions`, `output_hidden_states` and `use_cache` cannot be updated when calling a model.They have to be set to True/False in the config object (i.e.: `config=XConfig.from_pretrained('name', output_attentions=True)`).\n"
     ]
    },
    {
     "name": "stderr",
     "output_type": "stream",
     "text": [
      "WARNING:tensorflow:The parameters `output_attentions`, `output_hidden_states` and `use_cache` cannot be updated when calling a model.They have to be set to True/False in the config object (i.e.: `config=XConfig.from_pretrained('name', output_attentions=True)`).\n"
     ]
    },
    {
     "name": "stdout",
     "output_type": "stream",
     "text": [
      "WARNING:tensorflow:The parameter `return_dict` cannot be set in graph mode and will always be set to `True`.\n"
     ]
    },
    {
     "name": "stderr",
     "output_type": "stream",
     "text": [
      "WARNING:tensorflow:The parameter `return_dict` cannot be set in graph mode and will always be set to `True`.\n"
     ]
    },
    {
     "name": "stdout",
     "output_type": "stream",
     "text": [
      "1000/1000 [==============================] - 71s 56ms/step - loss: 0.1734 - accuracy: 0.3093 - val_loss: 0.1524 - val_accuracy: 0.3744\n",
      "Epoch 2/50\n",
      "1000/1000 [==============================] - 50s 50ms/step - loss: 0.1496 - accuracy: 0.3937 - val_loss: 0.1391 - val_accuracy: 0.4400\n",
      "Epoch 3/50\n",
      "1000/1000 [==============================] - 50s 50ms/step - loss: 0.1419 - accuracy: 0.4247 - val_loss: 0.1325 - val_accuracy: 0.4566\n",
      "Epoch 4/50\n",
      "1000/1000 [==============================] - 50s 50ms/step - loss: 0.1374 - accuracy: 0.4414 - val_loss: 0.1288 - val_accuracy: 0.4749\n",
      "Epoch 5/50\n",
      "1000/1000 [==============================] - 50s 50ms/step - loss: 0.1346 - accuracy: 0.4530 - val_loss: 0.1265 - val_accuracy: 0.4835\n",
      "Epoch 6/50\n",
      "1000/1000 [==============================] - 50s 50ms/step - loss: 0.1326 - accuracy: 0.4568 - val_loss: 0.1254 - val_accuracy: 0.4875\n",
      "Epoch 7/50\n",
      "1000/1000 [==============================] - 51s 51ms/step - loss: 0.1313 - accuracy: 0.4620 - val_loss: 0.1234 - val_accuracy: 0.4943\n",
      "Epoch 8/50\n",
      "1000/1000 [==============================] - 50s 50ms/step - loss: 0.1306 - accuracy: 0.4655 - val_loss: 0.1226 - val_accuracy: 0.5036\n",
      "Epoch 9/50\n",
      "1000/1000 [==============================] - 50s 50ms/step - loss: 0.1295 - accuracy: 0.4679 - val_loss: 0.1219 - val_accuracy: 0.4993\n",
      "Epoch 10/50\n",
      "1000/1000 [==============================] - 49s 49ms/step - loss: 0.1288 - accuracy: 0.4723 - val_loss: 0.1206 - val_accuracy: 0.5100\n",
      "Epoch 11/50\n",
      "1000/1000 [==============================] - 50s 50ms/step - loss: 0.1284 - accuracy: 0.4750 - val_loss: 0.1197 - val_accuracy: 0.5081\n",
      "Epoch 12/50\n",
      "1000/1000 [==============================] - 49s 49ms/step - loss: 0.1281 - accuracy: 0.4757 - val_loss: 0.1198 - val_accuracy: 0.4988\n",
      "Epoch 13/50\n",
      "1000/1000 [==============================] - 49s 49ms/step - loss: 0.1275 - accuracy: 0.4749 - val_loss: 0.1198 - val_accuracy: 0.5166\n",
      "Epoch 14/50\n",
      "1000/1000 [==============================] - 50s 50ms/step - loss: 0.1272 - accuracy: 0.4724 - val_loss: 0.1186 - val_accuracy: 0.5174\n",
      "Epoch 15/50\n",
      "1000/1000 [==============================] - 50s 50ms/step - loss: 0.1271 - accuracy: 0.4759 - val_loss: 0.1183 - val_accuracy: 0.5241\n",
      "Epoch 16/50\n",
      "1000/1000 [==============================] - 50s 50ms/step - loss: 0.1268 - accuracy: 0.4781 - val_loss: 0.1177 - val_accuracy: 0.5136\n",
      "Epoch 17/50\n",
      "1000/1000 [==============================] - 49s 49ms/step - loss: 0.1263 - accuracy: 0.4803 - val_loss: 0.1176 - val_accuracy: 0.5238\n",
      "Epoch 18/50\n",
      "1000/1000 [==============================] - 49s 49ms/step - loss: 0.1262 - accuracy: 0.4831 - val_loss: 0.1171 - val_accuracy: 0.5204\n",
      "Epoch 19/50\n",
      "1000/1000 [==============================] - 49s 49ms/step - loss: 0.1260 - accuracy: 0.4809 - val_loss: 0.1169 - val_accuracy: 0.5171\n",
      "Epoch 20/50\n",
      "1000/1000 [==============================] - 49s 49ms/step - loss: 0.1257 - accuracy: 0.4827 - val_loss: 0.1179 - val_accuracy: 0.5109\n",
      "Epoch 21/50\n",
      "1000/1000 [==============================] - 49s 49ms/step - loss: 0.1258 - accuracy: 0.4823 - val_loss: 0.1167 - val_accuracy: 0.5308\n",
      "Epoch 22/50\n",
      "1000/1000 [==============================] - 50s 50ms/step - loss: 0.1256 - accuracy: 0.4834 - val_loss: 0.1171 - val_accuracy: 0.5206\n",
      "Epoch 23/50\n",
      "1000/1000 [==============================] - 49s 49ms/step - loss: 0.1258 - accuracy: 0.4771 - val_loss: 0.1159 - val_accuracy: 0.5293\n",
      "Epoch 24/50\n",
      "1000/1000 [==============================] - 49s 49ms/step - loss: 0.1258 - accuracy: 0.4816 - val_loss: 0.1171 - val_accuracy: 0.5206\n",
      "Epoch 25/50\n",
      "1000/1000 [==============================] - 49s 49ms/step - loss: 0.1255 - accuracy: 0.4823 - val_loss: 0.1169 - val_accuracy: 0.5245\n",
      "Epoch 26/50\n",
      "1000/1000 [==============================] - 49s 49ms/step - loss: 0.1254 - accuracy: 0.4834 - val_loss: 0.1166 - val_accuracy: 0.5255\n",
      "Epoch 27/50\n",
      "1000/1000 [==============================] - 49s 49ms/step - loss: 0.1255 - accuracy: 0.4784 - val_loss: 0.1168 - val_accuracy: 0.5154\n",
      "Epoch 28/50\n",
      "1000/1000 [==============================] - 49s 49ms/step - loss: 0.1251 - accuracy: 0.4841 - val_loss: 0.1165 - val_accuracy: 0.5266\n",
      "Epoch 29/50\n",
      "1000/1000 [==============================] - 49s 49ms/step - loss: 0.1252 - accuracy: 0.4826 - val_loss: 0.1169 - val_accuracy: 0.5236\n",
      "Epoch 30/50\n",
      "1000/1000 [==============================] - 49s 49ms/step - loss: 0.1248 - accuracy: 0.4853 - val_loss: 0.1161 - val_accuracy: 0.5271\n",
      "Epoch 31/50\n",
      "1000/1000 [==============================] - 49s 49ms/step - loss: 0.1252 - accuracy: 0.4853 - val_loss: 0.1161 - val_accuracy: 0.5239\n",
      "Epoch 32/50\n",
      "1000/1000 [==============================] - 49s 49ms/step - loss: 0.1254 - accuracy: 0.4853 - val_loss: 0.1162 - val_accuracy: 0.5243\n",
      "Epoch 33/50\n",
      "1000/1000 [==============================] - 49s 49ms/step - loss: 0.1249 - accuracy: 0.4834 - val_loss: 0.1159 - val_accuracy: 0.5243\n",
      "Epoch 34/50\n",
      "1000/1000 [==============================] - 49s 49ms/step - loss: 0.1248 - accuracy: 0.4850 - val_loss: 0.1153 - val_accuracy: 0.5291\n",
      "Epoch 35/50\n",
      "1000/1000 [==============================] - 49s 49ms/step - loss: 0.1247 - accuracy: 0.4852 - val_loss: 0.1166 - val_accuracy: 0.5276\n",
      "Epoch 36/50\n",
      "1000/1000 [==============================] - 49s 49ms/step - loss: 0.1248 - accuracy: 0.4868 - val_loss: 0.1155 - val_accuracy: 0.5274\n",
      "Epoch 37/50\n",
      "1000/1000 [==============================] - 49s 49ms/step - loss: 0.1248 - accuracy: 0.4874 - val_loss: 0.1147 - val_accuracy: 0.5309\n",
      "Epoch 38/50\n",
      "1000/1000 [==============================] - 51s 51ms/step - loss: 0.1247 - accuracy: 0.4837 - val_loss: 0.1151 - val_accuracy: 0.5339\n",
      "Epoch 39/50\n",
      "1000/1000 [==============================] - 50s 50ms/step - loss: 0.1248 - accuracy: 0.4852 - val_loss: 0.1150 - val_accuracy: 0.5320\n",
      "Epoch 40/50\n",
      "1000/1000 [==============================] - 49s 49ms/step - loss: 0.1248 - accuracy: 0.4825 - val_loss: 0.1172 - val_accuracy: 0.5264\n",
      "Epoch 41/50\n",
      "1000/1000 [==============================] - 49s 49ms/step - loss: 0.1243 - accuracy: 0.4884 - val_loss: 0.1167 - val_accuracy: 0.5205\n",
      "Epoch 42/50\n",
      "1000/1000 [==============================] - 49s 49ms/step - loss: 0.1246 - accuracy: 0.4850 - val_loss: 0.1156 - val_accuracy: 0.5300\n",
      "Epoch 43/50\n",
      "1000/1000 [==============================] - 49s 49ms/step - loss: 0.1247 - accuracy: 0.4843 - val_loss: 0.1146 - val_accuracy: 0.5381\n",
      "Epoch 44/50\n",
      "1000/1000 [==============================] - 50s 50ms/step - loss: 0.1246 - accuracy: 0.4831 - val_loss: 0.1158 - val_accuracy: 0.5096\n",
      "Epoch 45/50\n",
      "1000/1000 [==============================] - 49s 49ms/step - loss: 0.1245 - accuracy: 0.4873 - val_loss: 0.1147 - val_accuracy: 0.5310\n",
      "Epoch 46/50\n",
      "1000/1000 [==============================] - 49s 49ms/step - loss: 0.1246 - accuracy: 0.4866 - val_loss: 0.1149 - val_accuracy: 0.5369\n",
      "Epoch 47/50\n",
      "1000/1000 [==============================] - 49s 49ms/step - loss: 0.1248 - accuracy: 0.4838 - val_loss: 0.1155 - val_accuracy: 0.5219\n",
      "Epoch 48/50\n",
      "1000/1000 [==============================] - 49s 49ms/step - loss: 0.1246 - accuracy: 0.4845 - val_loss: 0.1149 - val_accuracy: 0.5299\n",
      "Epoch 49/50\n",
      "1000/1000 [==============================] - 49s 49ms/step - loss: 0.1246 - accuracy: 0.4869 - val_loss: 0.1144 - val_accuracy: 0.5284\n",
      "Epoch 50/50\n",
      "1000/1000 [==============================] - 49s 49ms/step - loss: 0.1244 - accuracy: 0.4866 - val_loss: 0.1157 - val_accuracy: 0.5312\n"
     ]
    },
    {
     "name": "stderr",
     "output_type": "stream",
     "text": [
      "INFO:absl:TPU has inputs with dynamic shapes: [<tf.Tensor 'Const:0' shape=() dtype=int32>, <tf.Tensor 'cond_8/Identity:0' shape=(None, 512) dtype=int32>, <tf.Tensor 'cond_8/Identity_1:0' shape=(None, 512) dtype=int32>]\n"
     ]
    },
    {
     "name": "stdout",
     "output_type": "stream",
     "text": [
      "WARNING:tensorflow:The parameters `output_attentions`, `output_hidden_states` and `use_cache` cannot be updated when calling a model.They have to be set to True/False in the config object (i.e.: `config=XConfig.from_pretrained('name', output_attentions=True)`).\n"
     ]
    },
    {
     "name": "stderr",
     "output_type": "stream",
     "text": [
      "WARNING:tensorflow:The parameters `output_attentions`, `output_hidden_states` and `use_cache` cannot be updated when calling a model.They have to be set to True/False in the config object (i.e.: `config=XConfig.from_pretrained('name', output_attentions=True)`).\n"
     ]
    },
    {
     "name": "stdout",
     "output_type": "stream",
     "text": [
      "WARNING:tensorflow:The parameter `return_dict` cannot be set in graph mode and will always be set to `True`.\n"
     ]
    },
    {
     "name": "stderr",
     "output_type": "stream",
     "text": [
      "WARNING:tensorflow:The parameter `return_dict` cannot be set in graph mode and will always be set to `True`.\n"
     ]
    },
    {
     "name": "stdout",
     "output_type": "stream",
     "text": [
      "\n",
      "Temps d'entrainements pour 50 epochs : 2612 secondes.\n",
      "Meilleure train_acc = 0.488, meilleure val_acc = 0.538\n",
      "\n",
      "F1_score obtenu : 0.44\n"
     ]
    },
    {
     "data": {
      "image/png": "[encoded data removed]",
      "text/plain": [
       "<Figure size 720x288 with 1 Axes>"
      ]
     },
     "metadata": {
      "needs_background": "light",
      "tags": []
     },
     "output_type": "display_data"
    }
   ],
   "source": [
    "modelize(model_bert, 50, data_bert, \"big_mod_bert_t\")"
   ]
  },
  {
   "cell_type": "markdown",
   "metadata": {
    "id": "n3P_Q06jAiDA"
   },
   "source": [
    "<br><img src=\"images/bert_big_t.png\" width = \"600\" heights = \"336\">"
   ]
  },
  {
   "cell_type": "code",
   "execution_count": null,
   "metadata": {
    "id": "fjwja0LWAiF4"
   },
   "outputs": [],
   "source": [
    "for layer in model_bert.layers :\n",
    "    layer.trainable = True\n",
    "    \n",
    "model_bert.layers[-1].trainable = False\n",
    "\n",
    "model_bert.compile(tf.keras.optimizers.Adam(learning_rate = 1e-5),\n",
    "                       loss = 'binary_crossentropy',\n",
    "                       metrics='accuracy')"
   ]
  },
  {
   "cell_type": "code",
   "execution_count": null,
   "metadata": {
    "colab": {
     "base_uri": "https://localhost:8080/",
     "height": 1000
    },
    "collapsed": true,
    "id": "QDI3uVJ9AiI3",
    "jupyter": {
     "outputs_hidden": true
    },
    "outputId": "767dfae2-fddf-4035-a76a-9d3f1731ad66"
   },
   "outputs": [
    {
     "name": "stdout",
     "output_type": "stream",
     "text": [
      "Epoch 1/20\n",
      "WARNING:tensorflow:The parameters `output_attentions`, `output_hidden_states` and `use_cache` cannot be updated when calling a model.They have to be set to True/False in the config object (i.e.: `config=XConfig.from_pretrained('name', output_attentions=True)`).\n"
     ]
    },
    {
     "name": "stderr",
     "output_type": "stream",
     "text": [
      "WARNING:tensorflow:The parameters `output_attentions`, `output_hidden_states` and `use_cache` cannot be updated when calling a model.They have to be set to True/False in the config object (i.e.: `config=XConfig.from_pretrained('name', output_attentions=True)`).\n"
     ]
    },
    {
     "name": "stdout",
     "output_type": "stream",
     "text": [
      "WARNING:tensorflow:The parameter `return_dict` cannot be set in graph mode and will always be set to `True`.\n"
     ]
    },
    {
     "name": "stderr",
     "output_type": "stream",
     "text": [
      "WARNING:tensorflow:The parameter `return_dict` cannot be set in graph mode and will always be set to `True`.\n"
     ]
    },
    {
     "name": "stdout",
     "output_type": "stream",
     "text": [
      "WARNING:tensorflow:Gradients do not exist for variables ['tf_bert_model/bert/pooler/dense/kernel:0', 'tf_bert_model/bert/pooler/dense/bias:0'] when minimizing the loss.\n"
     ]
    },
    {
     "name": "stderr",
     "output_type": "stream",
     "text": [
      "WARNING:tensorflow:Gradients do not exist for variables ['tf_bert_model/bert/pooler/dense/kernel:0', 'tf_bert_model/bert/pooler/dense/bias:0'] when minimizing the loss.\n"
     ]
    },
    {
     "name": "stdout",
     "output_type": "stream",
     "text": [
      "WARNING:tensorflow:The parameters `output_attentions`, `output_hidden_states` and `use_cache` cannot be updated when calling a model.They have to be set to True/False in the config object (i.e.: `config=XConfig.from_pretrained('name', output_attentions=True)`).\n"
     ]
    },
    {
     "name": "stderr",
     "output_type": "stream",
     "text": [
      "WARNING:tensorflow:The parameters `output_attentions`, `output_hidden_states` and `use_cache` cannot be updated when calling a model.They have to be set to True/False in the config object (i.e.: `config=XConfig.from_pretrained('name', output_attentions=True)`).\n"
     ]
    },
    {
     "name": "stdout",
     "output_type": "stream",
     "text": [
      "WARNING:tensorflow:The parameter `return_dict` cannot be set in graph mode and will always be set to `True`.\n"
     ]
    },
    {
     "name": "stderr",
     "output_type": "stream",
     "text": [
      "WARNING:tensorflow:The parameter `return_dict` cannot be set in graph mode and will always be set to `True`.\n"
     ]
    },
    {
     "name": "stdout",
     "output_type": "stream",
     "text": [
      "WARNING:tensorflow:Gradients do not exist for variables ['tf_bert_model/bert/pooler/dense/kernel:0', 'tf_bert_model/bert/pooler/dense/bias:0'] when minimizing the loss.\n"
     ]
    },
    {
     "name": "stderr",
     "output_type": "stream",
     "text": [
      "WARNING:tensorflow:Gradients do not exist for variables ['tf_bert_model/bert/pooler/dense/kernel:0', 'tf_bert_model/bert/pooler/dense/bias:0'] when minimizing the loss.\n"
     ]
    },
    {
     "name": "stdout",
     "output_type": "stream",
     "text": [
      "1000/1000 [==============================] - ETA: 0s - loss: 0.0764 - accuracy: 0.6645WARNING:tensorflow:The parameters `output_attentions`, `output_hidden_states` and `use_cache` cannot be updated when calling a model.They have to be set to True/False in the config object (i.e.: `config=XConfig.from_pretrained('name', output_attentions=True)`).\n"
     ]
    },
    {
     "name": "stderr",
     "output_type": "stream",
     "text": [
      "WARNING:tensorflow:The parameters `output_attentions`, `output_hidden_states` and `use_cache` cannot be updated when calling a model.They have to be set to True/False in the config object (i.e.: `config=XConfig.from_pretrained('name', output_attentions=True)`).\n"
     ]
    },
    {
     "name": "stdout",
     "output_type": "stream",
     "text": [
      "WARNING:tensorflow:The parameter `return_dict` cannot be set in graph mode and will always be set to `True`.\n"
     ]
    },
    {
     "name": "stderr",
     "output_type": "stream",
     "text": [
      "WARNING:tensorflow:The parameter `return_dict` cannot be set in graph mode and will always be set to `True`.\n"
     ]
    },
    {
     "name": "stdout",
     "output_type": "stream",
     "text": [
      "1000/1000 [==============================] - 210s 148ms/step - loss: 0.0764 - accuracy: 0.6645 - val_loss: 0.0670 - val_accuracy: 0.6990\n",
      "Epoch 2/20\n",
      "1000/1000 [==============================] - 142s 142ms/step - loss: 0.0593 - accuracy: 0.7162 - val_loss: 0.0606 - val_accuracy: 0.7171\n",
      "Epoch 3/20\n",
      "1000/1000 [==============================] - 142s 142ms/step - loss: 0.0511 - accuracy: 0.7397 - val_loss: 0.0604 - val_accuracy: 0.7161\n",
      "Epoch 4/20\n",
      "1000/1000 [==============================] - 142s 142ms/step - loss: 0.0444 - accuracy: 0.7621 - val_loss: 0.0603 - val_accuracy: 0.7259\n",
      "Epoch 5/20\n",
      "1000/1000 [==============================] - 142s 142ms/step - loss: 0.0379 - accuracy: 0.7809 - val_loss: 0.0633 - val_accuracy: 0.7251\n",
      "Epoch 6/20\n",
      "1000/1000 [==============================] - 142s 142ms/step - loss: 0.0315 - accuracy: 0.8014 - val_loss: 0.0706 - val_accuracy: 0.7236\n",
      "Epoch 7/20\n",
      "1000/1000 [==============================] - 141s 141ms/step - loss: 0.0261 - accuracy: 0.8168 - val_loss: 0.0795 - val_accuracy: 0.7188\n",
      "Epoch 8/20\n",
      "1000/1000 [==============================] - 142s 142ms/step - loss: 0.0212 - accuracy: 0.8320 - val_loss: 0.0815 - val_accuracy: 0.7230\n",
      "Epoch 9/20\n",
      "1000/1000 [==============================] - 141s 141ms/step - loss: 0.0177 - accuracy: 0.8390 - val_loss: 0.0877 - val_accuracy: 0.7199\n",
      "Epoch 10/20\n",
      "1000/1000 [==============================] - 142s 142ms/step - loss: 0.0141 - accuracy: 0.8472 - val_loss: 0.0949 - val_accuracy: 0.7230\n",
      "Epoch 11/20\n",
      "1000/1000 [==============================] - 142s 142ms/step - loss: 0.0122 - accuracy: 0.8511 - val_loss: 0.0993 - val_accuracy: 0.7208\n",
      "Epoch 12/20\n",
      "1000/1000 [==============================] - 142s 142ms/step - loss: 0.0100 - accuracy: 0.8548 - val_loss: 0.1058 - val_accuracy: 0.7214\n",
      "Epoch 13/20\n",
      "1000/1000 [==============================] - 142s 142ms/step - loss: 0.0085 - accuracy: 0.8544 - val_loss: 0.1110 - val_accuracy: 0.7221\n",
      "Epoch 14/20\n",
      "1000/1000 [==============================] - 142s 142ms/step - loss: 0.0073 - accuracy: 0.8587 - val_loss: 0.1119 - val_accuracy: 0.7221\n",
      "Epoch 15/20\n",
      "1000/1000 [==============================] - 142s 142ms/step - loss: 0.0063 - accuracy: 0.8588 - val_loss: 0.1153 - val_accuracy: 0.7240\n",
      "Epoch 16/20\n",
      "1000/1000 [==============================] - 142s 142ms/step - loss: 0.0053 - accuracy: 0.8620 - val_loss: 0.1182 - val_accuracy: 0.7231\n",
      "Epoch 17/20\n",
      "1000/1000 [==============================] - 141s 141ms/step - loss: 0.0047 - accuracy: 0.8616 - val_loss: 0.1222 - val_accuracy: 0.7245\n",
      "Epoch 18/20\n",
      "1000/1000 [==============================] - 141s 141ms/step - loss: 0.0042 - accuracy: 0.8615 - val_loss: 0.1259 - val_accuracy: 0.7220\n",
      "Epoch 19/20\n",
      "1000/1000 [==============================] - 141s 141ms/step - loss: 0.0039 - accuracy: 0.8625 - val_loss: 0.1281 - val_accuracy: 0.7230\n",
      "Epoch 20/20\n",
      "1000/1000 [==============================] - 142s 142ms/step - loss: 0.0035 - accuracy: 0.8630 - val_loss: 0.1302 - val_accuracy: 0.7231\n"
     ]
    },
    {
     "name": "stderr",
     "output_type": "stream",
     "text": [
      "INFO:absl:TPU has inputs with dynamic shapes: [<tf.Tensor 'Const:0' shape=() dtype=int32>, <tf.Tensor 'cond_8/Identity:0' shape=(None, 512) dtype=int32>, <tf.Tensor 'cond_8/Identity_1:0' shape=(None, 512) dtype=int32>]\n"
     ]
    },
    {
     "name": "stdout",
     "output_type": "stream",
     "text": [
      "WARNING:tensorflow:The parameters `output_attentions`, `output_hidden_states` and `use_cache` cannot be updated when calling a model.They have to be set to True/False in the config object (i.e.: `config=XConfig.from_pretrained('name', output_attentions=True)`).\n"
     ]
    },
    {
     "name": "stderr",
     "output_type": "stream",
     "text": [
      "WARNING:tensorflow:The parameters `output_attentions`, `output_hidden_states` and `use_cache` cannot be updated when calling a model.They have to be set to True/False in the config object (i.e.: `config=XConfig.from_pretrained('name', output_attentions=True)`).\n"
     ]
    },
    {
     "name": "stdout",
     "output_type": "stream",
     "text": [
      "WARNING:tensorflow:The parameter `return_dict` cannot be set in graph mode and will always be set to `True`.\n"
     ]
    },
    {
     "name": "stderr",
     "output_type": "stream",
     "text": [
      "WARNING:tensorflow:The parameter `return_dict` cannot be set in graph mode and will always be set to `True`.\n"
     ]
    },
    {
     "name": "stdout",
     "output_type": "stream",
     "text": [
      "\n",
      "Temps d'entrainements pour 20 epochs : 2947 secondes.\n",
      "Meilleure train_acc = 0.863, meilleure val_acc = 0.726\n",
      "\n",
      "F1_score obtenu : 0.79\n"
     ]
    },
    {
     "data": {
      "image/png": "[encoded data removed]",
      "text/plain": [
       "<Figure size 720x288 with 1 Axes>"
      ]
     },
     "metadata": {
      "needs_background": "light",
      "tags": []
     },
     "output_type": "display_data"
    }
   ],
   "source": [
    "modelize(model_bert, 20, data_bert, \"big_mod_bert_ft\")"
   ]
  },
  {
   "cell_type": "markdown",
   "metadata": {},
   "source": [
    "<br><img src=\"images/bert_big_ft.png\" width = \"600\" heights = \"336\">"
   ]
  },
  {
   "cell_type": "code",
   "execution_count": null,
   "metadata": {
    "id": "0FwYrSFOAiLj",
    "jupyter": {
     "source_hidden": true
    }
   },
   "outputs": [],
   "source": [
    "results_big[\"Bert\"] = {\"Training\" : (0.538, 0.44), \"Fine-Tuning\": (0.726, 0.79)}\n",
    "\n",
    "pickle_out = open(path_data + \"results_big.pickle\", \"wb\")\n",
    "pickle.dump(results_big, pickle_out)\n",
    "pickle_out.close()"
   ]
  },
  {
   "cell_type": "markdown",
   "metadata": {
    "id": "PEiT7C_ib64S"
   },
   "source": [
    " "
   ]
  },
  {
   "cell_type": "markdown",
   "metadata": {
    "id": "7JdwmLdVh6pv"
   },
   "source": [
    "## **3-) Modèle SciBert**"
   ]
  },
  {
   "cell_type": "code",
   "execution_count": null,
   "metadata": {
    "colab": {
     "base_uri": "https://localhost:8080/",
     "height": 118,
     "referenced_widgets": [
      "0c1723d821554bf9ae82c2adf49b302e",
      "55947c4f475041fea10d131d204b1520",
      "e65aa96ce4c44b3fb250726b2229d6f4",
      "31ddc794f609489a873e5202b689c3da",
      "bad06a4f6d994cd38de33bdf31bb5f37",
      "3512f0d96e7b4e13ae35ae2431475124",
      "c5da03d0f1d6457bad7aa2ff0ebfcffb",
      "a75cd4d77bda446fa19936b553f642cf",
      "d2c25c1e4610450782ec517d30646c3b",
      "41f8e55a80184b32a8f4a49c7535b54e",
      "f3ff432775ed481d96519bf922141609",
      "752c3801ad7340cba273005c48271ab3",
      "98b773a1ff0348dd823b7c99c4e399af",
      "40b9a1f47ed045028663e579030b1f50",
      "567b33e71f73489bb7e930d060832cdb",
      "da3a453526bd45c996200f92f60ca8f2"
     ]
    },
    "collapsed": true,
    "id": "9_i7C-ZNAiRO",
    "jupyter": {
     "outputs_hidden": true
    },
    "outputId": "428e7dd0-3819-4d8d-be0f-1953b1708957"
   },
   "outputs": [
    {
     "data": {
      "application/vnd.jupyter.widget-view+json": {
       "model_id": "0c1723d821554bf9ae82c2adf49b302e",
       "version_major": 2,
       "version_minor": 0
      },
      "text/plain": [
       "HBox(children=(FloatProgress(value=0.0, description='Downloading', max=385.0, style=ProgressStyle(description_…"
      ]
     },
     "metadata": {
      "tags": []
     },
     "output_type": "display_data"
    },
    {
     "name": "stdout",
     "output_type": "stream",
     "text": [
      "\n"
     ]
    },
    {
     "data": {
      "application/vnd.jupyter.widget-view+json": {
       "model_id": "d2c25c1e4610450782ec517d30646c3b",
       "version_major": 2,
       "version_minor": 0
      },
      "text/plain": [
       "HBox(children=(FloatProgress(value=0.0, description='Downloading', max=227845.0, style=ProgressStyle(descripti…"
      ]
     },
     "metadata": {
      "tags": []
     },
     "output_type": "display_data"
    },
    {
     "name": "stdout",
     "output_type": "stream",
     "text": [
      "\n"
     ]
    }
   ],
   "source": [
    "model_name = 'allenai/scibert_scivocab_uncased'\n",
    "tokenizer = AutoTokenizer.from_pretrained(model_name)"
   ]
  },
  {
   "cell_type": "code",
   "execution_count": null,
   "metadata": {
    "colab": {
     "base_uri": "https://localhost:8080/"
    },
    "id": "d3SejAKgAiUD",
    "outputId": "76a19efe-d436-4660-e0b6-e1c26182dac0"
   },
   "outputs": [
    {
     "name": "stdout",
     "output_type": "stream",
     "text": [
      "L'encodage a pris : 48 secondes.\n"
     ]
    }
   ],
   "source": [
    "start = time()\n",
    "\n",
    "X_train_ids, X_train_attention = batch_encode(tokenizer, X_train)\n",
    "X_test_ids, X_test_attention = batch_encode(tokenizer, X_test)\n",
    "\n",
    "data_sci = [[X_train_ids, X_train_attention], y_train, [X_test_ids, X_test_attention], y_test]\n",
    "\n",
    "print(f\"L'encodage a pris : {time()-start:.0f} secondes.\")"
   ]
  },
  {
   "cell_type": "code",
   "execution_count": null,
   "metadata": {
    "id": "QAGEmRh7AiWy"
   },
   "outputs": [],
   "source": [
    "def build_sci_model(max_length = MAX_LENGTH):\n",
    "\n",
    "    sci_mod = TFAutoModel.from_pretrained('allenai/scibert_scivocab_uncased', from_pt=True)#, config = config)\n",
    "\n",
    "    for layer in sci_mod.layers:\n",
    "        layer.trainable = False\n",
    "\n",
    "    input_ids_layer = tf.keras.layers.Input(shape=(max_length,), \n",
    "                                            name='input_ids', \n",
    "                                            dtype='int32')\n",
    "    input_attention_layer = tf.keras.layers.Input(shape=(max_length,), \n",
    "                                                  name='input_attention', \n",
    "                                                  dtype='int32')\n",
    "\n",
    "    last_hidden_state = sci_mod([input_ids_layer, input_attention_layer])[0]\n",
    "\n",
    "    cls_token = last_hidden_state[:, 0, :]\n",
    "\n",
    "    output = tf.keras.layers.Dense(25, activation='sigmoid')(cls_token)\n",
    "    \n",
    "    model = tf.keras.Model([input_ids_layer, input_attention_layer], output)\n",
    "\n",
    "    model.compile(tf.keras.optimizers.Adam(),\n",
    "                  loss = 'binary_crossentropy',\n",
    "                  metrics='accuracy')\n",
    "\n",
    "    return model"
   ]
  },
  {
   "cell_type": "code",
   "execution_count": null,
   "metadata": {
    "colab": {
     "base_uri": "https://localhost:8080/",
     "height": 254,
     "referenced_widgets": [
      "a5546004bae84e4499571aa037bba364",
      "2848d28bb3bb408b99ad776eacc6eb8d",
      "bb9ea83c52254db7969ce50f6d230a0c",
      "a3a96c4f2f8643409001cd1faad0cd5a",
      "17b453a024ff409a8da5de011bd33742",
      "b96e44ac62f2468b99a0ee3effcffc6a",
      "8ae80a4260af418cbabedd7cc8607db3",
      "87de6efa249244dfb79ba304c4722f21"
     ]
    },
    "collapsed": true,
    "id": "Lb-qcp4mAiZi",
    "jupyter": {
     "outputs_hidden": true
    },
    "outputId": "1115a6da-43f7-4f4a-f53c-8a4509928252"
   },
   "outputs": [
    {
     "data": {
      "application/vnd.jupyter.widget-view+json": {
       "model_id": "a5546004bae84e4499571aa037bba364",
       "version_major": 2,
       "version_minor": 0
      },
      "text/plain": [
       "HBox(children=(FloatProgress(value=0.0, description='Downloading', max=442221694.0, style=ProgressStyle(descri…"
      ]
     },
     "metadata": {
      "tags": []
     },
     "output_type": "display_data"
    },
    {
     "name": "stdout",
     "output_type": "stream",
     "text": [
      "\n"
     ]
    },
    {
     "name": "stderr",
     "output_type": "stream",
     "text": [
      "Some weights of the PyTorch model were not used when initializing the TF 2.0 model TFBertModel: ['cls.predictions.transform.dense.weight', 'cls.predictions.transform.LayerNorm.weight', 'cls.seq_relationship.weight', 'cls.predictions.decoder.weight', 'cls.predictions.transform.LayerNorm.bias', 'cls.predictions.decoder.bias', 'cls.predictions.transform.dense.bias', 'cls.seq_relationship.bias', 'cls.predictions.bias']\n",
      "- This IS expected if you are initializing TFBertModel from a PyTorch model trained on another task or with another architecture (e.g. initializing a TFBertForSequenceClassification model from a BertForPreTraining model).\n",
      "- This IS NOT expected if you are initializing TFBertModel from a PyTorch model that you expect to be exactly identical (e.g. initializing a TFBertForSequenceClassification model from a BertForSequenceClassification model).\n",
      "All the weights of TFBertModel were initialized from the PyTorch model.\n",
      "If your task is similar to the task the model of the checkpoint was trained on, you can already use TFBertModel for predictions without further training.\n"
     ]
    },
    {
     "name": "stdout",
     "output_type": "stream",
     "text": [
      "WARNING:tensorflow:The parameters `output_attentions`, `output_hidden_states` and `use_cache` cannot be updated when calling a model.They have to be set to True/False in the config object (i.e.: `config=XConfig.from_pretrained('name', output_attentions=True)`).\n"
     ]
    },
    {
     "name": "stderr",
     "output_type": "stream",
     "text": [
      "WARNING:tensorflow:The parameters `output_attentions`, `output_hidden_states` and `use_cache` cannot be updated when calling a model.They have to be set to True/False in the config object (i.e.: `config=XConfig.from_pretrained('name', output_attentions=True)`).\n"
     ]
    },
    {
     "name": "stdout",
     "output_type": "stream",
     "text": [
      "WARNING:tensorflow:The parameter `return_dict` cannot be set in graph mode and will always be set to `True`.\n"
     ]
    },
    {
     "name": "stderr",
     "output_type": "stream",
     "text": [
      "WARNING:tensorflow:The parameter `return_dict` cannot be set in graph mode and will always be set to `True`.\n"
     ]
    }
   ],
   "source": [
    "with strategy.scope():\n",
    "    model_sci = build_sci_model()"
   ]
  },
  {
   "cell_type": "code",
   "execution_count": null,
   "metadata": {
    "colab": {
     "base_uri": "https://localhost:8080/",
     "height": 1000
    },
    "collapsed": true,
    "id": "vshZyg-kAicM",
    "jupyter": {
     "outputs_hidden": true
    },
    "outputId": "d93ed1d3-6b9b-41cb-b7ee-cfbb58bcd727"
   },
   "outputs": [
    {
     "name": "stdout",
     "output_type": "stream",
     "text": [
      "Epoch 1/50\n",
      "WARNING:tensorflow:The parameters `output_attentions`, `output_hidden_states` and `use_cache` cannot be updated when calling a model.They have to be set to True/False in the config object (i.e.: `config=XConfig.from_pretrained('name', output_attentions=True)`).\n"
     ]
    },
    {
     "name": "stderr",
     "output_type": "stream",
     "text": [
      "WARNING:tensorflow:The parameters `output_attentions`, `output_hidden_states` and `use_cache` cannot be updated when calling a model.They have to be set to True/False in the config object (i.e.: `config=XConfig.from_pretrained('name', output_attentions=True)`).\n"
     ]
    },
    {
     "name": "stdout",
     "output_type": "stream",
     "text": [
      "WARNING:tensorflow:The parameter `return_dict` cannot be set in graph mode and will always be set to `True`.\n"
     ]
    },
    {
     "name": "stderr",
     "output_type": "stream",
     "text": [
      "WARNING:tensorflow:The parameter `return_dict` cannot be set in graph mode and will always be set to `True`.\n"
     ]
    },
    {
     "name": "stdout",
     "output_type": "stream",
     "text": [
      "WARNING:tensorflow:The parameters `output_attentions`, `output_hidden_states` and `use_cache` cannot be updated when calling a model.They have to be set to True/False in the config object (i.e.: `config=XConfig.from_pretrained('name', output_attentions=True)`).\n"
     ]
    },
    {
     "name": "stderr",
     "output_type": "stream",
     "text": [
      "WARNING:tensorflow:The parameters `output_attentions`, `output_hidden_states` and `use_cache` cannot be updated when calling a model.They have to be set to True/False in the config object (i.e.: `config=XConfig.from_pretrained('name', output_attentions=True)`).\n"
     ]
    },
    {
     "name": "stdout",
     "output_type": "stream",
     "text": [
      "WARNING:tensorflow:The parameter `return_dict` cannot be set in graph mode and will always be set to `True`.\n"
     ]
    },
    {
     "name": "stderr",
     "output_type": "stream",
     "text": [
      "WARNING:tensorflow:The parameter `return_dict` cannot be set in graph mode and will always be set to `True`.\n"
     ]
    },
    {
     "name": "stdout",
     "output_type": "stream",
     "text": [
      " 999/1000 [============================>.] - ETA: 0s - loss: 0.1767 - accuracy: 0.2994WARNING:tensorflow:The parameters `output_attentions`, `output_hidden_states` and `use_cache` cannot be updated when calling a model.They have to be set to True/False in the config object (i.e.: `config=XConfig.from_pretrained('name', output_attentions=True)`).\n"
     ]
    },
    {
     "name": "stderr",
     "output_type": "stream",
     "text": [
      "WARNING:tensorflow:The parameters `output_attentions`, `output_hidden_states` and `use_cache` cannot be updated when calling a model.They have to be set to True/False in the config object (i.e.: `config=XConfig.from_pretrained('name', output_attentions=True)`).\n"
     ]
    },
    {
     "name": "stdout",
     "output_type": "stream",
     "text": [
      "WARNING:tensorflow:The parameter `return_dict` cannot be set in graph mode and will always be set to `True`.\n"
     ]
    },
    {
     "name": "stderr",
     "output_type": "stream",
     "text": [
      "WARNING:tensorflow:The parameter `return_dict` cannot be set in graph mode and will always be set to `True`.\n"
     ]
    },
    {
     "name": "stdout",
     "output_type": "stream",
     "text": [
      "1000/1000 [==============================] - 71s 55ms/step - loss: 0.1767 - accuracy: 0.2993 - val_loss: 0.1550 - val_accuracy: 0.3739\n",
      "Epoch 2/50\n",
      "1000/1000 [==============================] - 51s 51ms/step - loss: 0.1542 - accuracy: 0.3712 - val_loss: 0.1472 - val_accuracy: 0.3980\n",
      "Epoch 3/50\n",
      "1000/1000 [==============================] - 51s 51ms/step - loss: 0.1478 - accuracy: 0.3978 - val_loss: 0.1421 - val_accuracy: 0.4284\n",
      "Epoch 4/50\n",
      "1000/1000 [==============================] - 51s 51ms/step - loss: 0.1447 - accuracy: 0.4056 - val_loss: 0.1394 - val_accuracy: 0.4318\n",
      "Epoch 5/50\n",
      "1000/1000 [==============================] - 51s 51ms/step - loss: 0.1426 - accuracy: 0.4145 - val_loss: 0.1376 - val_accuracy: 0.4443\n",
      "Epoch 6/50\n",
      "1000/1000 [==============================] - 50s 50ms/step - loss: 0.1411 - accuracy: 0.4191 - val_loss: 0.1354 - val_accuracy: 0.4526\n",
      "Epoch 7/50\n",
      "1000/1000 [==============================] - 50s 50ms/step - loss: 0.1403 - accuracy: 0.4255 - val_loss: 0.1331 - val_accuracy: 0.4594\n",
      "Epoch 8/50\n",
      "1000/1000 [==============================] - 50s 50ms/step - loss: 0.1392 - accuracy: 0.4237 - val_loss: 0.1336 - val_accuracy: 0.4554\n",
      "Epoch 9/50\n",
      "1000/1000 [==============================] - 49s 49ms/step - loss: 0.1386 - accuracy: 0.4284 - val_loss: 0.1326 - val_accuracy: 0.4529\n",
      "Epoch 10/50\n",
      "1000/1000 [==============================] - 49s 49ms/step - loss: 0.1381 - accuracy: 0.4301 - val_loss: 0.1330 - val_accuracy: 0.4595\n",
      "Epoch 11/50\n",
      "1000/1000 [==============================] - 50s 50ms/step - loss: 0.1382 - accuracy: 0.4299 - val_loss: 0.1316 - val_accuracy: 0.4656\n",
      "Epoch 12/50\n",
      "1000/1000 [==============================] - 51s 51ms/step - loss: 0.1375 - accuracy: 0.4334 - val_loss: 0.1322 - val_accuracy: 0.4514\n",
      "Epoch 13/50\n",
      "1000/1000 [==============================] - 49s 49ms/step - loss: 0.1368 - accuracy: 0.4353 - val_loss: 0.1318 - val_accuracy: 0.4690\n",
      "Epoch 14/50\n",
      "1000/1000 [==============================] - 51s 51ms/step - loss: 0.1372 - accuracy: 0.4348 - val_loss: 0.1309 - val_accuracy: 0.4689\n",
      "Epoch 15/50\n",
      "1000/1000 [==============================] - 50s 50ms/step - loss: 0.1369 - accuracy: 0.4329 - val_loss: 0.1302 - val_accuracy: 0.4651\n",
      "Epoch 16/50\n",
      "1000/1000 [==============================] - 50s 50ms/step - loss: 0.1367 - accuracy: 0.4373 - val_loss: 0.1301 - val_accuracy: 0.4656\n",
      "Epoch 17/50\n",
      "1000/1000 [==============================] - 50s 50ms/step - loss: 0.1366 - accuracy: 0.4348 - val_loss: 0.1314 - val_accuracy: 0.4519\n",
      "Epoch 18/50\n",
      "1000/1000 [==============================] - 49s 49ms/step - loss: 0.1365 - accuracy: 0.4388 - val_loss: 0.1301 - val_accuracy: 0.4649\n",
      "Epoch 19/50\n",
      "1000/1000 [==============================] - 49s 49ms/step - loss: 0.1360 - accuracy: 0.4386 - val_loss: 0.1307 - val_accuracy: 0.4708\n",
      "Epoch 20/50\n",
      "1000/1000 [==============================] - 51s 51ms/step - loss: 0.1363 - accuracy: 0.4384 - val_loss: 0.1298 - val_accuracy: 0.4659\n",
      "Epoch 21/50\n",
      "1000/1000 [==============================] - 49s 49ms/step - loss: 0.1357 - accuracy: 0.4403 - val_loss: 0.1304 - val_accuracy: 0.4596\n",
      "Epoch 22/50\n",
      "1000/1000 [==============================] - 50s 50ms/step - loss: 0.1358 - accuracy: 0.4359 - val_loss: 0.1291 - val_accuracy: 0.4773\n",
      "Epoch 23/50\n",
      "1000/1000 [==============================] - 51s 51ms/step - loss: 0.1362 - accuracy: 0.4378 - val_loss: 0.1309 - val_accuracy: 0.4508\n",
      "Epoch 24/50\n",
      "1000/1000 [==============================] - 49s 49ms/step - loss: 0.1356 - accuracy: 0.4408 - val_loss: 0.1287 - val_accuracy: 0.4760\n",
      "Epoch 25/50\n",
      "1000/1000 [==============================] - 49s 49ms/step - loss: 0.1357 - accuracy: 0.4404 - val_loss: 0.1297 - val_accuracy: 0.4754\n",
      "Epoch 26/50\n",
      "1000/1000 [==============================] - 49s 49ms/step - loss: 0.1357 - accuracy: 0.4378 - val_loss: 0.1291 - val_accuracy: 0.4690\n",
      "Epoch 27/50\n",
      "1000/1000 [==============================] - 49s 49ms/step - loss: 0.1359 - accuracy: 0.4373 - val_loss: 0.1288 - val_accuracy: 0.4655\n",
      "Epoch 28/50\n",
      "1000/1000 [==============================] - 49s 49ms/step - loss: 0.1355 - accuracy: 0.4415 - val_loss: 0.1282 - val_accuracy: 0.4786\n",
      "Epoch 29/50\n",
      "1000/1000 [==============================] - 51s 51ms/step - loss: 0.1355 - accuracy: 0.4393 - val_loss: 0.1286 - val_accuracy: 0.4796\n",
      "Epoch 30/50\n",
      "1000/1000 [==============================] - 50s 50ms/step - loss: 0.1355 - accuracy: 0.4387 - val_loss: 0.1285 - val_accuracy: 0.4826\n",
      "Epoch 31/50\n",
      "1000/1000 [==============================] - 51s 51ms/step - loss: 0.1353 - accuracy: 0.4353 - val_loss: 0.1307 - val_accuracy: 0.4548\n",
      "Epoch 32/50\n",
      "1000/1000 [==============================] - 49s 50ms/step - loss: 0.1360 - accuracy: 0.4372 - val_loss: 0.1295 - val_accuracy: 0.4718\n",
      "Epoch 33/50\n",
      "1000/1000 [==============================] - 49s 49ms/step - loss: 0.1353 - accuracy: 0.4388 - val_loss: 0.1297 - val_accuracy: 0.4765\n",
      "Epoch 34/50\n",
      "1000/1000 [==============================] - 49s 49ms/step - loss: 0.1353 - accuracy: 0.4420 - val_loss: 0.1306 - val_accuracy: 0.4671\n",
      "Epoch 35/50\n",
      "1000/1000 [==============================] - 49s 49ms/step - loss: 0.1356 - accuracy: 0.4396 - val_loss: 0.1298 - val_accuracy: 0.4610\n",
      "Epoch 36/50\n",
      "1000/1000 [==============================] - 49s 49ms/step - loss: 0.1357 - accuracy: 0.4404 - val_loss: 0.1281 - val_accuracy: 0.4689\n",
      "Epoch 37/50\n",
      "1000/1000 [==============================] - 50s 50ms/step - loss: 0.1350 - accuracy: 0.4383 - val_loss: 0.1271 - val_accuracy: 0.4855\n",
      "Epoch 38/50\n",
      "1000/1000 [==============================] - 51s 51ms/step - loss: 0.1356 - accuracy: 0.4354 - val_loss: 0.1288 - val_accuracy: 0.4736\n",
      "Epoch 39/50\n",
      "1000/1000 [==============================] - 49s 49ms/step - loss: 0.1352 - accuracy: 0.4388 - val_loss: 0.1309 - val_accuracy: 0.4496\n",
      "Epoch 40/50\n",
      "1000/1000 [==============================] - 49s 49ms/step - loss: 0.1352 - accuracy: 0.4366 - val_loss: 0.1279 - val_accuracy: 0.4828\n",
      "Epoch 41/50\n",
      "1000/1000 [==============================] - 50s 50ms/step - loss: 0.1355 - accuracy: 0.4378 - val_loss: 0.1274 - val_accuracy: 0.4748\n",
      "Epoch 42/50\n",
      "1000/1000 [==============================] - 49s 49ms/step - loss: 0.1355 - accuracy: 0.4381 - val_loss: 0.1285 - val_accuracy: 0.4798\n",
      "Epoch 43/50\n",
      "1000/1000 [==============================] - 49s 49ms/step - loss: 0.1355 - accuracy: 0.4365 - val_loss: 0.1283 - val_accuracy: 0.4699\n",
      "Epoch 44/50\n",
      "1000/1000 [==============================] - 49s 49ms/step - loss: 0.1356 - accuracy: 0.4390 - val_loss: 0.1281 - val_accuracy: 0.4706\n",
      "Epoch 45/50\n",
      "1000/1000 [==============================] - 49s 49ms/step - loss: 0.1352 - accuracy: 0.4412 - val_loss: 0.1291 - val_accuracy: 0.4726\n",
      "Epoch 46/50\n",
      "1000/1000 [==============================] - 49s 49ms/step - loss: 0.1346 - accuracy: 0.4427 - val_loss: 0.1285 - val_accuracy: 0.4695\n",
      "Epoch 47/50\n",
      "1000/1000 [==============================] - 49s 49ms/step - loss: 0.1358 - accuracy: 0.4387 - val_loss: 0.1284 - val_accuracy: 0.4801\n",
      "Epoch 48/50\n",
      "1000/1000 [==============================] - 49s 49ms/step - loss: 0.1351 - accuracy: 0.4388 - val_loss: 0.1286 - val_accuracy: 0.4660\n",
      "Epoch 49/50\n",
      "1000/1000 [==============================] - 49s 49ms/step - loss: 0.1353 - accuracy: 0.4393 - val_loss: 0.1280 - val_accuracy: 0.4929\n",
      "Epoch 50/50\n",
      "1000/1000 [==============================] - 51s 51ms/step - loss: 0.1353 - accuracy: 0.4395 - val_loss: 0.1279 - val_accuracy: 0.4745\n"
     ]
    },
    {
     "name": "stderr",
     "output_type": "stream",
     "text": [
      "INFO:absl:TPU has inputs with dynamic shapes: [<tf.Tensor 'Const:0' shape=() dtype=int32>, <tf.Tensor 'cond_8/Identity:0' shape=(None, 512) dtype=int32>, <tf.Tensor 'cond_8/Identity_1:0' shape=(None, 512) dtype=int32>]\n"
     ]
    },
    {
     "name": "stdout",
     "output_type": "stream",
     "text": [
      "WARNING:tensorflow:The parameters `output_attentions`, `output_hidden_states` and `use_cache` cannot be updated when calling a model.They have to be set to True/False in the config object (i.e.: `config=XConfig.from_pretrained('name', output_attentions=True)`).\n"
     ]
    },
    {
     "name": "stderr",
     "output_type": "stream",
     "text": [
      "WARNING:tensorflow:The parameters `output_attentions`, `output_hidden_states` and `use_cache` cannot be updated when calling a model.They have to be set to True/False in the config object (i.e.: `config=XConfig.from_pretrained('name', output_attentions=True)`).\n"
     ]
    },
    {
     "name": "stdout",
     "output_type": "stream",
     "text": [
      "WARNING:tensorflow:The parameter `return_dict` cannot be set in graph mode and will always be set to `True`.\n"
     ]
    },
    {
     "name": "stderr",
     "output_type": "stream",
     "text": [
      "WARNING:tensorflow:The parameter `return_dict` cannot be set in graph mode and will always be set to `True`.\n"
     ]
    },
    {
     "name": "stdout",
     "output_type": "stream",
     "text": [
      "\n",
      "Temps d'entrainements pour 50 epochs : 2634 secondes.\n",
      "Meilleure train_acc = 0.443, meilleure val_acc = 0.493\n",
      "\n",
      "F1_score obtenu : 0.32\n"
     ]
    },
    {
     "data": {
      "image/png": "[encoded data removed]",
      "text/plain": [
       "<Figure size 720x288 with 1 Axes>"
      ]
     },
     "metadata": {
      "needs_background": "light",
      "tags": []
     },
     "output_type": "display_data"
    }
   ],
   "source": [
    "modelize(model_sci, 50, data_sci, \"big_mod_sci_t\")"
   ]
  },
  {
   "cell_type": "markdown",
   "metadata": {},
   "source": [
    "<br><img src=\"images/scibert_big_t.png\" width = \"600\" heights = \"336\">"
   ]
  },
  {
   "cell_type": "markdown",
   "metadata": {
    "id": "Szpmh2ozAie5"
   },
   "source": [
    " "
   ]
  },
  {
   "cell_type": "markdown",
   "metadata": {
    "id": "JnqxrZ-MicDt"
   },
   "source": [
    "**Fine-tuning SciBert**"
   ]
  },
  {
   "cell_type": "code",
   "execution_count": null,
   "metadata": {
    "id": "yJAAKxFmAih4"
   },
   "outputs": [],
   "source": [
    "for layer in model_sci.layers :\n",
    "    layer.trainable = True\n",
    "    \n",
    "model_sci.layers[-1].trainable = False\n",
    "\n",
    "model_sci.compile(tf.keras.optimizers.Adam(learning_rate = 1e-5),\n",
    "                       loss = 'binary_crossentropy',\n",
    "                       metrics='accuracy')"
   ]
  },
  {
   "cell_type": "code",
   "execution_count": null,
   "metadata": {
    "colab": {
     "base_uri": "https://localhost:8080/",
     "height": 1000
    },
    "collapsed": true,
    "id": "0Y5bcelz_Fmb",
    "jupyter": {
     "outputs_hidden": true
    },
    "outputId": "139ee40f-f1b6-4f0b-acbb-ceed650e8120"
   },
   "outputs": [
    {
     "name": "stdout",
     "output_type": "stream",
     "text": [
      "Epoch 1/20\n",
      "WARNING:tensorflow:The parameters `output_attentions`, `output_hidden_states` and `use_cache` cannot be updated when calling a model.They have to be set to True/False in the config object (i.e.: `config=XConfig.from_pretrained('name', output_attentions=True)`).\n"
     ]
    },
    {
     "name": "stderr",
     "output_type": "stream",
     "text": [
      "WARNING:tensorflow:The parameters `output_attentions`, `output_hidden_states` and `use_cache` cannot be updated when calling a model.They have to be set to True/False in the config object (i.e.: `config=XConfig.from_pretrained('name', output_attentions=True)`).\n"
     ]
    },
    {
     "name": "stdout",
     "output_type": "stream",
     "text": [
      "WARNING:tensorflow:The parameter `return_dict` cannot be set in graph mode and will always be set to `True`.\n"
     ]
    },
    {
     "name": "stderr",
     "output_type": "stream",
     "text": [
      "WARNING:tensorflow:The parameter `return_dict` cannot be set in graph mode and will always be set to `True`.\n"
     ]
    },
    {
     "name": "stdout",
     "output_type": "stream",
     "text": [
      "WARNING:tensorflow:Gradients do not exist for variables ['tf_bert_model_1/bert/pooler/dense/kernel:0', 'tf_bert_model_1/bert/pooler/dense/bias:0'] when minimizing the loss.\n"
     ]
    },
    {
     "name": "stderr",
     "output_type": "stream",
     "text": [
      "WARNING:tensorflow:Gradients do not exist for variables ['tf_bert_model_1/bert/pooler/dense/kernel:0', 'tf_bert_model_1/bert/pooler/dense/bias:0'] when minimizing the loss.\n"
     ]
    },
    {
     "name": "stdout",
     "output_type": "stream",
     "text": [
      "WARNING:tensorflow:The parameters `output_attentions`, `output_hidden_states` and `use_cache` cannot be updated when calling a model.They have to be set to True/False in the config object (i.e.: `config=XConfig.from_pretrained('name', output_attentions=True)`).\n"
     ]
    },
    {
     "name": "stderr",
     "output_type": "stream",
     "text": [
      "WARNING:tensorflow:The parameters `output_attentions`, `output_hidden_states` and `use_cache` cannot be updated when calling a model.They have to be set to True/False in the config object (i.e.: `config=XConfig.from_pretrained('name', output_attentions=True)`).\n"
     ]
    },
    {
     "name": "stdout",
     "output_type": "stream",
     "text": [
      "WARNING:tensorflow:The parameter `return_dict` cannot be set in graph mode and will always be set to `True`.\n"
     ]
    },
    {
     "name": "stderr",
     "output_type": "stream",
     "text": [
      "WARNING:tensorflow:The parameter `return_dict` cannot be set in graph mode and will always be set to `True`.\n"
     ]
    },
    {
     "name": "stdout",
     "output_type": "stream",
     "text": [
      "WARNING:tensorflow:Gradients do not exist for variables ['tf_bert_model_1/bert/pooler/dense/kernel:0', 'tf_bert_model_1/bert/pooler/dense/bias:0'] when minimizing the loss.\n"
     ]
    },
    {
     "name": "stderr",
     "output_type": "stream",
     "text": [
      "WARNING:tensorflow:Gradients do not exist for variables ['tf_bert_model_1/bert/pooler/dense/kernel:0', 'tf_bert_model_1/bert/pooler/dense/bias:0'] when minimizing the loss.\n"
     ]
    },
    {
     "name": "stdout",
     "output_type": "stream",
     "text": [
      "1000/1000 [==============================] - ETA: 0s - loss: 0.0757 - accuracy: 0.6647WARNING:tensorflow:The parameters `output_attentions`, `output_hidden_states` and `use_cache` cannot be updated when calling a model.They have to be set to True/False in the config object (i.e.: `config=XConfig.from_pretrained('name', output_attentions=True)`).\n"
     ]
    },
    {
     "name": "stderr",
     "output_type": "stream",
     "text": [
      "WARNING:tensorflow:The parameters `output_attentions`, `output_hidden_states` and `use_cache` cannot be updated when calling a model.They have to be set to True/False in the config object (i.e.: `config=XConfig.from_pretrained('name', output_attentions=True)`).\n"
     ]
    },
    {
     "name": "stdout",
     "output_type": "stream",
     "text": [
      "WARNING:tensorflow:The parameter `return_dict` cannot be set in graph mode and will always be set to `True`.\n"
     ]
    },
    {
     "name": "stderr",
     "output_type": "stream",
     "text": [
      "WARNING:tensorflow:The parameter `return_dict` cannot be set in graph mode and will always be set to `True`.\n"
     ]
    },
    {
     "name": "stdout",
     "output_type": "stream",
     "text": [
      "1000/1000 [==============================] - 212s 149ms/step - loss: 0.0757 - accuracy: 0.6647 - val_loss: 0.0639 - val_accuracy: 0.6908\n",
      "Epoch 2/20\n",
      "1000/1000 [==============================] - 142s 142ms/step - loss: 0.0579 - accuracy: 0.7150 - val_loss: 0.0604 - val_accuracy: 0.7089\n",
      "Epoch 3/20\n",
      "1000/1000 [==============================] - 142s 142ms/step - loss: 0.0491 - accuracy: 0.7424 - val_loss: 0.0588 - val_accuracy: 0.7191\n",
      "Epoch 4/20\n",
      "1000/1000 [==============================] - 143s 143ms/step - loss: 0.0412 - accuracy: 0.7698 - val_loss: 0.0617 - val_accuracy: 0.7215\n",
      "Epoch 5/20\n",
      "1000/1000 [==============================] - 143s 143ms/step - loss: 0.0339 - accuracy: 0.7918 - val_loss: 0.0670 - val_accuracy: 0.7239\n",
      "Epoch 6/20\n",
      "1000/1000 [==============================] - 142s 142ms/step - loss: 0.0271 - accuracy: 0.8125 - val_loss: 0.0715 - val_accuracy: 0.7198\n",
      "Epoch 7/20\n",
      "1000/1000 [==============================] - 142s 142ms/step - loss: 0.0214 - accuracy: 0.8316 - val_loss: 0.0797 - val_accuracy: 0.7158\n",
      "Epoch 8/20\n",
      "1000/1000 [==============================] - 142s 142ms/step - loss: 0.0168 - accuracy: 0.8397 - val_loss: 0.0863 - val_accuracy: 0.7235\n",
      "Epoch 9/20\n",
      "1000/1000 [==============================] - 142s 142ms/step - loss: 0.0132 - accuracy: 0.8467 - val_loss: 0.0914 - val_accuracy: 0.7145\n",
      "Epoch 10/20\n",
      "1000/1000 [==============================] - 142s 142ms/step - loss: 0.0106 - accuracy: 0.8519 - val_loss: 0.1014 - val_accuracy: 0.7163\n",
      "Epoch 11/20\n",
      "1000/1000 [==============================] - 142s 142ms/step - loss: 0.0087 - accuracy: 0.8540 - val_loss: 0.1022 - val_accuracy: 0.7126\n",
      "Epoch 12/20\n",
      "1000/1000 [==============================] - 142s 142ms/step - loss: 0.0071 - accuracy: 0.8555 - val_loss: 0.1073 - val_accuracy: 0.7161\n",
      "Epoch 13/20\n",
      "1000/1000 [==============================] - 142s 142ms/step - loss: 0.0062 - accuracy: 0.8572 - val_loss: 0.1126 - val_accuracy: 0.7155\n",
      "Epoch 14/20\n",
      "1000/1000 [==============================] - 142s 142ms/step - loss: 0.0053 - accuracy: 0.8578 - val_loss: 0.1152 - val_accuracy: 0.7225\n",
      "Epoch 15/20\n",
      "1000/1000 [==============================] - 142s 142ms/step - loss: 0.0044 - accuracy: 0.8604 - val_loss: 0.1171 - val_accuracy: 0.7213\n",
      "Epoch 16/20\n",
      "1000/1000 [==============================] - 142s 142ms/step - loss: 0.0038 - accuracy: 0.8598 - val_loss: 0.1227 - val_accuracy: 0.7239\n",
      "Epoch 17/20\n",
      "1000/1000 [==============================] - 142s 142ms/step - loss: 0.0036 - accuracy: 0.8593 - val_loss: 0.1257 - val_accuracy: 0.7168\n",
      "Epoch 18/20\n",
      "1000/1000 [==============================] - 142s 142ms/step - loss: 0.0031 - accuracy: 0.8584 - val_loss: 0.1259 - val_accuracy: 0.7150\n",
      "Epoch 19/20\n",
      "1000/1000 [==============================] - 142s 142ms/step - loss: 0.0028 - accuracy: 0.8597 - val_loss: 0.1265 - val_accuracy: 0.7214\n",
      "Epoch 20/20\n",
      "1000/1000 [==============================] - 142s 142ms/step - loss: 0.0026 - accuracy: 0.8617 - val_loss: 0.1320 - val_accuracy: 0.7186\n"
     ]
    },
    {
     "name": "stderr",
     "output_type": "stream",
     "text": [
      "INFO:absl:TPU has inputs with dynamic shapes: [<tf.Tensor 'Const:0' shape=() dtype=int32>, <tf.Tensor 'cond_8/Identity:0' shape=(None, 512) dtype=int32>, <tf.Tensor 'cond_8/Identity_1:0' shape=(None, 512) dtype=int32>]\n"
     ]
    },
    {
     "name": "stdout",
     "output_type": "stream",
     "text": [
      "WARNING:tensorflow:The parameters `output_attentions`, `output_hidden_states` and `use_cache` cannot be updated when calling a model.They have to be set to True/False in the config object (i.e.: `config=XConfig.from_pretrained('name', output_attentions=True)`).\n"
     ]
    },
    {
     "name": "stderr",
     "output_type": "stream",
     "text": [
      "WARNING:tensorflow:The parameters `output_attentions`, `output_hidden_states` and `use_cache` cannot be updated when calling a model.They have to be set to True/False in the config object (i.e.: `config=XConfig.from_pretrained('name', output_attentions=True)`).\n"
     ]
    },
    {
     "name": "stdout",
     "output_type": "stream",
     "text": [
      "WARNING:tensorflow:The parameter `return_dict` cannot be set in graph mode and will always be set to `True`.\n"
     ]
    },
    {
     "name": "stderr",
     "output_type": "stream",
     "text": [
      "WARNING:tensorflow:The parameter `return_dict` cannot be set in graph mode and will always be set to `True`.\n"
     ]
    },
    {
     "name": "stdout",
     "output_type": "stream",
     "text": [
      "\n",
      "Temps d'entrainements pour 20 epochs : 2958 secondes.\n",
      "Meilleure train_acc = 0.862, meilleure val_acc = 0.724\n",
      "\n",
      "F1_score obtenu : 0.79\n"
     ]
    },
    {
     "data": {
      "image/png": "[encoded data removed]",
      "text/plain": [
       "<Figure size 720x288 with 1 Axes>"
      ]
     },
     "metadata": {
      "needs_background": "light",
      "tags": []
     },
     "output_type": "display_data"
    }
   ],
   "source": [
    "modelize(model_sci, 20, data_sci, \"big_mod_sci_ft\")"
   ]
  },
  {
   "cell_type": "markdown",
   "metadata": {},
   "source": [
    "<br><img src=\"images/scibert_big_ft.png\" width = \"600\" heights = \"336\">"
   ]
  },
  {
   "cell_type": "code",
   "execution_count": null,
   "metadata": {
    "id": "LffJKtSZ_Fph",
    "jupyter": {
     "source_hidden": true
    }
   },
   "outputs": [],
   "source": [
    "results_big[\"SciBert\"] = {\"Training\" : (0.493, 0.32), \"Fine-Tuning\": (0.724, 0.79)}\n",
    "\n",
    "pickle_out = open(path_data + \"results_big.pickle\", \"wb\")\n",
    "pickle.dump(results_big, pickle_out)\n",
    "pickle_out.close()"
   ]
  },
  {
   "cell_type": "markdown",
   "metadata": {
    "id": "CkCGhM4Eiftb"
   },
   "source": [
    " "
   ]
  },
  {
   "cell_type": "markdown",
   "metadata": {
    "id": "AbCrTb0fzeRr"
   },
   "source": [
    "## **4-) Modèle RoBERTa**"
   ]
  },
  {
   "cell_type": "code",
   "execution_count": null,
   "metadata": {
    "id": "R2PvVj_PifwZ"
   },
   "outputs": [],
   "source": [
    "model_name = \"roberta-base\"\n",
    "tokenizer = AutoTokenizer.from_pretrained(model_name)"
   ]
  },
  {
   "cell_type": "code",
   "execution_count": null,
   "metadata": {
    "colab": {
     "base_uri": "https://localhost:8080/"
    },
    "id": "WCl1n3uVifzh",
    "outputId": "5d6f1416-e777-4e8b-d2b8-40357a374ebf"
   },
   "outputs": [
    {
     "name": "stdout",
     "output_type": "stream",
     "text": [
      "L'encodage a pris : 52 secondes.\n"
     ]
    }
   ],
   "source": [
    "start = time()\n",
    "X_train_ids, X_train_attention = batch_encode(tokenizer, X_train)\n",
    "X_test_ids, X_test_attention = batch_encode(tokenizer, X_test)\n",
    "\n",
    "data_berta = [[X_train_ids, X_train_attention], y_train, [X_test_ids, X_test_attention], y_test]\n",
    "\n",
    "print(f\"L'encodage a pris : {time()-start:.0f} secondes.\")"
   ]
  },
  {
   "cell_type": "code",
   "execution_count": null,
   "metadata": {
    "id": "_9x9X_XMif2k"
   },
   "outputs": [],
   "source": [
    "def build_berta_model(max_length = MAX_LENGTH):\n",
    "                    \n",
    "    roberta = TFRobertaModel.from_pretrained(\"roberta-base\")#, config = config)\n",
    "\n",
    "    for layer in roberta.layers:\n",
    "        layer.trainable = False\n",
    "\n",
    "    input_ids_layer = tf.keras.layers.Input(shape=(max_length,), \n",
    "                                            name='input_ids', \n",
    "                                            dtype='int32')\n",
    "    input_attention_layer = tf.keras.layers.Input(shape=(max_length,), \n",
    "                                                  name='input_attention', \n",
    "                                                  dtype='int32')\n",
    "\n",
    "    last_hidden_state = roberta([input_ids_layer, input_attention_layer])[0]\n",
    "\n",
    "    cls_token = last_hidden_state[:, 0, :]\n",
    "    \n",
    "    output = tf.keras.layers.Dense(25, activation='sigmoid')(cls_token)\n",
    "    \n",
    "    model = tf.keras.Model([input_ids_layer, input_attention_layer], output)\n",
    "\n",
    "    model.compile(tf.keras.optimizers.Adam(),\n",
    "                  loss = 'binary_crossentropy',\n",
    "                  metrics='accuracy')\n",
    "\n",
    "    return model"
   ]
  },
  {
   "cell_type": "code",
   "execution_count": null,
   "metadata": {
    "colab": {
     "base_uri": "https://localhost:8080/"
    },
    "collapsed": true,
    "id": "9yZKRJJ5if5R",
    "jupyter": {
     "outputs_hidden": true
    },
    "outputId": "f285a35a-bab4-4d9b-8f23-f9e1df4ba7c2"
   },
   "outputs": [
    {
     "name": "stderr",
     "output_type": "stream",
     "text": [
      "Some layers from the model checkpoint at roberta-base were not used when initializing TFRobertaModel: ['lm_head']\n",
      "- This IS expected if you are initializing TFRobertaModel from the checkpoint of a model trained on another task or with another architecture (e.g. initializing a BertForSequenceClassification model from a BertForPreTraining model).\n",
      "- This IS NOT expected if you are initializing TFRobertaModel from the checkpoint of a model that you expect to be exactly identical (initializing a BertForSequenceClassification model from a BertForSequenceClassification model).\n",
      "All the layers of TFRobertaModel were initialized from the model checkpoint at roberta-base.\n",
      "If your task is similar to the task the model of the checkpoint was trained on, you can already use TFRobertaModel for predictions without further training.\n"
     ]
    },
    {
     "name": "stdout",
     "output_type": "stream",
     "text": [
      "WARNING:tensorflow:The parameters `output_attentions`, `output_hidden_states` and `use_cache` cannot be updated when calling a model.They have to be set to True/False in the config object (i.e.: `config=XConfig.from_pretrained('name', output_attentions=True)`).\n"
     ]
    },
    {
     "name": "stderr",
     "output_type": "stream",
     "text": [
      "WARNING:tensorflow:The parameters `output_attentions`, `output_hidden_states` and `use_cache` cannot be updated when calling a model.They have to be set to True/False in the config object (i.e.: `config=XConfig.from_pretrained('name', output_attentions=True)`).\n"
     ]
    },
    {
     "name": "stdout",
     "output_type": "stream",
     "text": [
      "WARNING:tensorflow:The parameter `return_dict` cannot be set in graph mode and will always be set to `True`.\n"
     ]
    },
    {
     "name": "stderr",
     "output_type": "stream",
     "text": [
      "WARNING:tensorflow:The parameter `return_dict` cannot be set in graph mode and will always be set to `True`.\n"
     ]
    }
   ],
   "source": [
    "with strategy.scope():\n",
    "    model_berta = build_berta_model()"
   ]
  },
  {
   "cell_type": "code",
   "execution_count": null,
   "metadata": {
    "colab": {
     "base_uri": "https://localhost:8080/",
     "height": 1000
    },
    "collapsed": true,
    "id": "YI-QTrnMzrih",
    "jupyter": {
     "outputs_hidden": true
    },
    "outputId": "875ce43c-000d-466c-c6ee-daa5146ea4f9"
   },
   "outputs": [
    {
     "name": "stdout",
     "output_type": "stream",
     "text": [
      "Epoch 1/50\n",
      "WARNING:tensorflow:The parameters `output_attentions`, `output_hidden_states` and `use_cache` cannot be updated when calling a model.They have to be set to True/False in the config object (i.e.: `config=XConfig.from_pretrained('name', output_attentions=True)`).\n"
     ]
    },
    {
     "name": "stderr",
     "output_type": "stream",
     "text": [
      "WARNING:tensorflow:The parameters `output_attentions`, `output_hidden_states` and `use_cache` cannot be updated when calling a model.They have to be set to True/False in the config object (i.e.: `config=XConfig.from_pretrained('name', output_attentions=True)`).\n"
     ]
    },
    {
     "name": "stdout",
     "output_type": "stream",
     "text": [
      "WARNING:tensorflow:The parameter `return_dict` cannot be set in graph mode and will always be set to `True`.\n"
     ]
    },
    {
     "name": "stderr",
     "output_type": "stream",
     "text": [
      "WARNING:tensorflow:The parameter `return_dict` cannot be set in graph mode and will always be set to `True`.\n"
     ]
    },
    {
     "name": "stdout",
     "output_type": "stream",
     "text": [
      "WARNING:tensorflow:The parameters `output_attentions`, `output_hidden_states` and `use_cache` cannot be updated when calling a model.They have to be set to True/False in the config object (i.e.: `config=XConfig.from_pretrained('name', output_attentions=True)`).\n"
     ]
    },
    {
     "name": "stderr",
     "output_type": "stream",
     "text": [
      "WARNING:tensorflow:The parameters `output_attentions`, `output_hidden_states` and `use_cache` cannot be updated when calling a model.They have to be set to True/False in the config object (i.e.: `config=XConfig.from_pretrained('name', output_attentions=True)`).\n"
     ]
    },
    {
     "name": "stdout",
     "output_type": "stream",
     "text": [
      "WARNING:tensorflow:The parameter `return_dict` cannot be set in graph mode and will always be set to `True`.\n"
     ]
    },
    {
     "name": "stderr",
     "output_type": "stream",
     "text": [
      "WARNING:tensorflow:The parameter `return_dict` cannot be set in graph mode and will always be set to `True`.\n"
     ]
    },
    {
     "name": "stdout",
     "output_type": "stream",
     "text": [
      " 999/1000 [============================>.] - ETA: 0s - loss: 0.2094 - accuracy: 0.2197WARNING:tensorflow:The parameters `output_attentions`, `output_hidden_states` and `use_cache` cannot be updated when calling a model.They have to be set to True/False in the config object (i.e.: `config=XConfig.from_pretrained('name', output_attentions=True)`).\n"
     ]
    },
    {
     "name": "stderr",
     "output_type": "stream",
     "text": [
      "WARNING:tensorflow:The parameters `output_attentions`, `output_hidden_states` and `use_cache` cannot be updated when calling a model.They have to be set to True/False in the config object (i.e.: `config=XConfig.from_pretrained('name', output_attentions=True)`).\n"
     ]
    },
    {
     "name": "stdout",
     "output_type": "stream",
     "text": [
      "WARNING:tensorflow:The parameter `return_dict` cannot be set in graph mode and will always be set to `True`.\n"
     ]
    },
    {
     "name": "stderr",
     "output_type": "stream",
     "text": [
      "WARNING:tensorflow:The parameter `return_dict` cannot be set in graph mode and will always be set to `True`.\n"
     ]
    },
    {
     "name": "stdout",
     "output_type": "stream",
     "text": [
      "1000/1000 [==============================] - 71s 56ms/step - loss: 0.2094 - accuracy: 0.2198 - val_loss: 0.1801 - val_accuracy: 0.2319\n",
      "Epoch 2/50\n",
      "1000/1000 [==============================] - 51s 51ms/step - loss: 0.1797 - accuracy: 0.2668 - val_loss: 0.1702 - val_accuracy: 0.3099\n",
      "Epoch 3/50\n",
      "1000/1000 [==============================] - 52s 52ms/step - loss: 0.1695 - accuracy: 0.3149 - val_loss: 0.1630 - val_accuracy: 0.3686\n",
      "Epoch 4/50\n",
      "1000/1000 [==============================] - 52s 52ms/step - loss: 0.1629 - accuracy: 0.3434 - val_loss: 0.1566 - val_accuracy: 0.3768\n",
      "Epoch 5/50\n",
      "1000/1000 [==============================] - 51s 51ms/step - loss: 0.1583 - accuracy: 0.3660 - val_loss: 0.1521 - val_accuracy: 0.3938\n",
      "Epoch 6/50\n",
      "1000/1000 [==============================] - 51s 51ms/step - loss: 0.1545 - accuracy: 0.3832 - val_loss: 0.1483 - val_accuracy: 0.4029\n",
      "Epoch 7/50\n",
      "1000/1000 [==============================] - 51s 51ms/step - loss: 0.1523 - accuracy: 0.3970 - val_loss: 0.1452 - val_accuracy: 0.4203\n",
      "Epoch 8/50\n",
      "1000/1000 [==============================] - 52s 52ms/step - loss: 0.1500 - accuracy: 0.4068 - val_loss: 0.1427 - val_accuracy: 0.4480\n",
      "Epoch 9/50\n",
      "1000/1000 [==============================] - 52s 52ms/step - loss: 0.1482 - accuracy: 0.4125 - val_loss: 0.1407 - val_accuracy: 0.4439\n",
      "Epoch 10/50\n",
      "1000/1000 [==============================] - 51s 51ms/step - loss: 0.1464 - accuracy: 0.4205 - val_loss: 0.1383 - val_accuracy: 0.4631\n",
      "Epoch 11/50\n",
      "1000/1000 [==============================] - 52s 52ms/step - loss: 0.1452 - accuracy: 0.4262 - val_loss: 0.1368 - val_accuracy: 0.4683\n",
      "Epoch 12/50\n",
      "1000/1000 [==============================] - 52s 52ms/step - loss: 0.1443 - accuracy: 0.4287 - val_loss: 0.1353 - val_accuracy: 0.4624\n",
      "Epoch 13/50\n",
      "1000/1000 [==============================] - 50s 50ms/step - loss: 0.1427 - accuracy: 0.4383 - val_loss: 0.1337 - val_accuracy: 0.4770\n",
      "Epoch 14/50\n",
      "1000/1000 [==============================] - 52s 52ms/step - loss: 0.1420 - accuracy: 0.4430 - val_loss: 0.1326 - val_accuracy: 0.4844\n",
      "Epoch 15/50\n",
      "1000/1000 [==============================] - 52s 52ms/step - loss: 0.1414 - accuracy: 0.4436 - val_loss: 0.1313 - val_accuracy: 0.4913\n",
      "Epoch 16/50\n",
      "1000/1000 [==============================] - 51s 51ms/step - loss: 0.1407 - accuracy: 0.4473 - val_loss: 0.1302 - val_accuracy: 0.5005\n",
      "Epoch 17/50\n",
      "1000/1000 [==============================] - 52s 52ms/step - loss: 0.1397 - accuracy: 0.4519 - val_loss: 0.1293 - val_accuracy: 0.4995\n",
      "Epoch 18/50\n",
      "1000/1000 [==============================] - 50s 50ms/step - loss: 0.1393 - accuracy: 0.4555 - val_loss: 0.1285 - val_accuracy: 0.5030\n",
      "Epoch 19/50\n",
      "1000/1000 [==============================] - 52s 52ms/step - loss: 0.1390 - accuracy: 0.4589 - val_loss: 0.1277 - val_accuracy: 0.5050\n",
      "Epoch 20/50\n",
      "1000/1000 [==============================] - 52s 52ms/step - loss: 0.1385 - accuracy: 0.4612 - val_loss: 0.1270 - val_accuracy: 0.5091\n",
      "Epoch 21/50\n",
      "1000/1000 [==============================] - 52s 52ms/step - loss: 0.1377 - accuracy: 0.4603 - val_loss: 0.1263 - val_accuracy: 0.5138\n",
      "Epoch 22/50\n",
      "1000/1000 [==============================] - 52s 52ms/step - loss: 0.1374 - accuracy: 0.4616 - val_loss: 0.1257 - val_accuracy: 0.5074\n",
      "Epoch 23/50\n",
      "1000/1000 [==============================] - 50s 50ms/step - loss: 0.1366 - accuracy: 0.4673 - val_loss: 0.1251 - val_accuracy: 0.5185\n",
      "Epoch 24/50\n",
      "1000/1000 [==============================] - 53s 53ms/step - loss: 0.1364 - accuracy: 0.4670 - val_loss: 0.1244 - val_accuracy: 0.5124\n",
      "Epoch 25/50\n",
      "1000/1000 [==============================] - 51s 51ms/step - loss: 0.1365 - accuracy: 0.4694 - val_loss: 0.1240 - val_accuracy: 0.5066\n",
      "Epoch 26/50\n",
      "1000/1000 [==============================] - 51s 51ms/step - loss: 0.1366 - accuracy: 0.4703 - val_loss: 0.1233 - val_accuracy: 0.5213\n",
      "Epoch 27/50\n",
      "1000/1000 [==============================] - 52s 52ms/step - loss: 0.1352 - accuracy: 0.4708 - val_loss: 0.1230 - val_accuracy: 0.5205\n",
      "Epoch 28/50\n",
      "1000/1000 [==============================] - 50s 51ms/step - loss: 0.1360 - accuracy: 0.4725 - val_loss: 0.1225 - val_accuracy: 0.5248\n",
      "Epoch 29/50\n",
      "1000/1000 [==============================] - 52s 52ms/step - loss: 0.1349 - accuracy: 0.4779 - val_loss: 0.1220 - val_accuracy: 0.5283\n",
      "Epoch 30/50\n",
      "1000/1000 [==============================] - 52s 52ms/step - loss: 0.1346 - accuracy: 0.4748 - val_loss: 0.1217 - val_accuracy: 0.5224\n",
      "Epoch 31/50\n",
      "1000/1000 [==============================] - 50s 50ms/step - loss: 0.1348 - accuracy: 0.4785 - val_loss: 0.1213 - val_accuracy: 0.5319\n",
      "Epoch 32/50\n",
      "1000/1000 [==============================] - 52s 52ms/step - loss: 0.1341 - accuracy: 0.4810 - val_loss: 0.1208 - val_accuracy: 0.5284\n",
      "Epoch 33/50\n",
      "1000/1000 [==============================] - 50s 50ms/step - loss: 0.1346 - accuracy: 0.4769 - val_loss: 0.1204 - val_accuracy: 0.5279\n",
      "Epoch 34/50\n",
      "1000/1000 [==============================] - 50s 50ms/step - loss: 0.1336 - accuracy: 0.4815 - val_loss: 0.1201 - val_accuracy: 0.5285\n",
      "Epoch 35/50\n",
      "1000/1000 [==============================] - 50s 50ms/step - loss: 0.1335 - accuracy: 0.4774 - val_loss: 0.1201 - val_accuracy: 0.5199\n",
      "Epoch 36/50\n",
      "1000/1000 [==============================] - 51s 51ms/step - loss: 0.1342 - accuracy: 0.4799 - val_loss: 0.1195 - val_accuracy: 0.5333\n",
      "Epoch 37/50\n",
      "1000/1000 [==============================] - 52s 52ms/step - loss: 0.1332 - accuracy: 0.4859 - val_loss: 0.1193 - val_accuracy: 0.5266\n",
      "Epoch 38/50\n",
      "1000/1000 [==============================] - 50s 50ms/step - loss: 0.1330 - accuracy: 0.4851 - val_loss: 0.1189 - val_accuracy: 0.5349\n",
      "Epoch 39/50\n",
      "1000/1000 [==============================] - 52s 52ms/step - loss: 0.1336 - accuracy: 0.4830 - val_loss: 0.1186 - val_accuracy: 0.5373\n",
      "Epoch 40/50\n",
      "1000/1000 [==============================] - 52s 52ms/step - loss: 0.1335 - accuracy: 0.4846 - val_loss: 0.1186 - val_accuracy: 0.5381\n",
      "Epoch 41/50\n",
      "1000/1000 [==============================] - 52s 52ms/step - loss: 0.1329 - accuracy: 0.4853 - val_loss: 0.1180 - val_accuracy: 0.5451\n",
      "Epoch 42/50\n",
      "1000/1000 [==============================] - 52s 52ms/step - loss: 0.1326 - accuracy: 0.4878 - val_loss: 0.1180 - val_accuracy: 0.5340\n",
      "Epoch 43/50\n",
      "1000/1000 [==============================] - 50s 50ms/step - loss: 0.1323 - accuracy: 0.4856 - val_loss: 0.1176 - val_accuracy: 0.5431\n",
      "Epoch 44/50\n",
      "1000/1000 [==============================] - 50s 50ms/step - loss: 0.1327 - accuracy: 0.4872 - val_loss: 0.1174 - val_accuracy: 0.5461\n",
      "Epoch 45/50\n",
      "1000/1000 [==============================] - 52s 52ms/step - loss: 0.1322 - accuracy: 0.4879 - val_loss: 0.1171 - val_accuracy: 0.5418\n",
      "Epoch 46/50\n",
      "1000/1000 [==============================] - 50s 50ms/step - loss: 0.1319 - accuracy: 0.4916 - val_loss: 0.1169 - val_accuracy: 0.5423\n",
      "Epoch 47/50\n",
      "1000/1000 [==============================] - 50s 50ms/step - loss: 0.1321 - accuracy: 0.4932 - val_loss: 0.1169 - val_accuracy: 0.5425\n",
      "Epoch 48/50\n",
      "1000/1000 [==============================] - 50s 50ms/step - loss: 0.1322 - accuracy: 0.4894 - val_loss: 0.1166 - val_accuracy: 0.5473\n",
      "Epoch 49/50\n",
      "1000/1000 [==============================] - 52s 52ms/step - loss: 0.1317 - accuracy: 0.4926 - val_loss: 0.1165 - val_accuracy: 0.5461\n",
      "Epoch 50/50\n",
      "1000/1000 [==============================] - 50s 50ms/step - loss: 0.1315 - accuracy: 0.4933 - val_loss: 0.1162 - val_accuracy: 0.5395\n"
     ]
    },
    {
     "name": "stderr",
     "output_type": "stream",
     "text": [
      "INFO:absl:TPU has inputs with dynamic shapes: [<tf.Tensor 'Const:0' shape=() dtype=int32>, <tf.Tensor 'cond_8/Identity:0' shape=(None, 512) dtype=int32>, <tf.Tensor 'cond_8/Identity_1:0' shape=(None, 512) dtype=int32>]\n"
     ]
    },
    {
     "name": "stdout",
     "output_type": "stream",
     "text": [
      "WARNING:tensorflow:The parameters `output_attentions`, `output_hidden_states` and `use_cache` cannot be updated when calling a model.They have to be set to True/False in the config object (i.e.: `config=XConfig.from_pretrained('name', output_attentions=True)`).\n"
     ]
    },
    {
     "name": "stderr",
     "output_type": "stream",
     "text": [
      "WARNING:tensorflow:The parameters `output_attentions`, `output_hidden_states` and `use_cache` cannot be updated when calling a model.They have to be set to True/False in the config object (i.e.: `config=XConfig.from_pretrained('name', output_attentions=True)`).\n"
     ]
    },
    {
     "name": "stdout",
     "output_type": "stream",
     "text": [
      "WARNING:tensorflow:The parameter `return_dict` cannot be set in graph mode and will always be set to `True`.\n"
     ]
    },
    {
     "name": "stderr",
     "output_type": "stream",
     "text": [
      "WARNING:tensorflow:The parameter `return_dict` cannot be set in graph mode and will always be set to `True`.\n"
     ]
    },
    {
     "name": "stdout",
     "output_type": "stream",
     "text": [
      "\n",
      "Temps d'entrainements pour 50 epochs : 2821 secondes.\n",
      "Meilleure train_acc = 0.493, meilleure val_acc = 0.547\n",
      "\n",
      "F1_score obtenu : 0.29\n"
     ]
    },
    {
     "data": {
      "image/png": "[encoded data removed]",
      "text/plain": [
       "<Figure size 720x288 with 1 Axes>"
      ]
     },
     "metadata": {
      "needs_background": "light",
      "tags": []
     },
     "output_type": "display_data"
    }
   ],
   "source": [
    "modelize(model_berta, 50, data_berta, \"big_mod_berta_t\")"
   ]
  },
  {
   "cell_type": "markdown",
   "metadata": {},
   "source": [
    "<br><img src=\"images/berta_big_t.png\" width = \"600\" heights = \"336\">"
   ]
  },
  {
   "cell_type": "markdown",
   "metadata": {
    "id": "v7_jTVXrzrlD"
   },
   "source": [
    " "
   ]
  },
  {
   "cell_type": "markdown",
   "metadata": {},
   "source": [
    "**Fine-tuning**"
   ]
  },
  {
   "cell_type": "code",
   "execution_count": null,
   "metadata": {
    "id": "JdxNNDgnzrnu"
   },
   "outputs": [],
   "source": [
    "for layer in model_berta.layers :\n",
    "    layer.trainable = True\n",
    "    \n",
    "model_berta.layers[-1].trainable = False\n",
    "\n",
    "model_berta.compile(tf.keras.optimizers.Adam(learning_rate = 1e-5),\n",
    "                       loss = 'binary_crossentropy',\n",
    "                       metrics='accuracy')"
   ]
  },
  {
   "cell_type": "code",
   "execution_count": null,
   "metadata": {
    "colab": {
     "base_uri": "https://localhost:8080/",
     "height": 1000
    },
    "collapsed": true,
    "id": "RopY8zK5zrqi",
    "jupyter": {
     "outputs_hidden": true
    },
    "outputId": "a3ae6220-5121-468d-cc53-721f58253534"
   },
   "outputs": [
    {
     "name": "stdout",
     "output_type": "stream",
     "text": [
      "Epoch 1/20\n",
      "WARNING:tensorflow:The parameters `output_attentions`, `output_hidden_states` and `use_cache` cannot be updated when calling a model.They have to be set to True/False in the config object (i.e.: `config=XConfig.from_pretrained('name', output_attentions=True)`).\n"
     ]
    },
    {
     "name": "stderr",
     "output_type": "stream",
     "text": [
      "WARNING:tensorflow:The parameters `output_attentions`, `output_hidden_states` and `use_cache` cannot be updated when calling a model.They have to be set to True/False in the config object (i.e.: `config=XConfig.from_pretrained('name', output_attentions=True)`).\n"
     ]
    },
    {
     "name": "stdout",
     "output_type": "stream",
     "text": [
      "WARNING:tensorflow:The parameter `return_dict` cannot be set in graph mode and will always be set to `True`.\n"
     ]
    },
    {
     "name": "stderr",
     "output_type": "stream",
     "text": [
      "WARNING:tensorflow:The parameter `return_dict` cannot be set in graph mode and will always be set to `True`.\n"
     ]
    },
    {
     "name": "stdout",
     "output_type": "stream",
     "text": [
      "WARNING:tensorflow:Gradients do not exist for variables ['tf_roberta_model_1/roberta/pooler/dense/kernel:0', 'tf_roberta_model_1/roberta/pooler/dense/bias:0'] when minimizing the loss.\n"
     ]
    },
    {
     "name": "stderr",
     "output_type": "stream",
     "text": [
      "WARNING:tensorflow:Gradients do not exist for variables ['tf_roberta_model_1/roberta/pooler/dense/kernel:0', 'tf_roberta_model_1/roberta/pooler/dense/bias:0'] when minimizing the loss.\n"
     ]
    },
    {
     "name": "stdout",
     "output_type": "stream",
     "text": [
      "WARNING:tensorflow:The parameters `output_attentions`, `output_hidden_states` and `use_cache` cannot be updated when calling a model.They have to be set to True/False in the config object (i.e.: `config=XConfig.from_pretrained('name', output_attentions=True)`).\n"
     ]
    },
    {
     "name": "stderr",
     "output_type": "stream",
     "text": [
      "WARNING:tensorflow:The parameters `output_attentions`, `output_hidden_states` and `use_cache` cannot be updated when calling a model.They have to be set to True/False in the config object (i.e.: `config=XConfig.from_pretrained('name', output_attentions=True)`).\n"
     ]
    },
    {
     "name": "stdout",
     "output_type": "stream",
     "text": [
      "WARNING:tensorflow:The parameter `return_dict` cannot be set in graph mode and will always be set to `True`.\n"
     ]
    },
    {
     "name": "stderr",
     "output_type": "stream",
     "text": [
      "WARNING:tensorflow:The parameter `return_dict` cannot be set in graph mode and will always be set to `True`.\n"
     ]
    },
    {
     "name": "stdout",
     "output_type": "stream",
     "text": [
      "WARNING:tensorflow:Gradients do not exist for variables ['tf_roberta_model_1/roberta/pooler/dense/kernel:0', 'tf_roberta_model_1/roberta/pooler/dense/bias:0'] when minimizing the loss.\n"
     ]
    },
    {
     "name": "stderr",
     "output_type": "stream",
     "text": [
      "WARNING:tensorflow:Gradients do not exist for variables ['tf_roberta_model_1/roberta/pooler/dense/kernel:0', 'tf_roberta_model_1/roberta/pooler/dense/bias:0'] when minimizing the loss.\n"
     ]
    },
    {
     "name": "stdout",
     "output_type": "stream",
     "text": [
      "1000/1000 [==============================] - ETA: 0s - loss: 0.0825 - accuracy: 0.6558WARNING:tensorflow:The parameters `output_attentions`, `output_hidden_states` and `use_cache` cannot be updated when calling a model.They have to be set to True/False in the config object (i.e.: `config=XConfig.from_pretrained('name', output_attentions=True)`).\n"
     ]
    },
    {
     "name": "stderr",
     "output_type": "stream",
     "text": [
      "WARNING:tensorflow:The parameters `output_attentions`, `output_hidden_states` and `use_cache` cannot be updated when calling a model.They have to be set to True/False in the config object (i.e.: `config=XConfig.from_pretrained('name', output_attentions=True)`).\n"
     ]
    },
    {
     "name": "stdout",
     "output_type": "stream",
     "text": [
      "WARNING:tensorflow:The parameter `return_dict` cannot be set in graph mode and will always be set to `True`.\n"
     ]
    },
    {
     "name": "stderr",
     "output_type": "stream",
     "text": [
      "WARNING:tensorflow:The parameter `return_dict` cannot be set in graph mode and will always be set to `True`.\n"
     ]
    },
    {
     "name": "stdout",
     "output_type": "stream",
     "text": [
      "1000/1000 [==============================] - 212s 152ms/step - loss: 0.0825 - accuracy: 0.6558 - val_loss: 0.0665 - val_accuracy: 0.6923\n",
      "Epoch 2/20\n",
      "1000/1000 [==============================] - 147s 147ms/step - loss: 0.0670 - accuracy: 0.7000 - val_loss: 0.0622 - val_accuracy: 0.7161\n",
      "Epoch 3/20\n",
      "1000/1000 [==============================] - 147s 147ms/step - loss: 0.0593 - accuracy: 0.7222 - val_loss: 0.0641 - val_accuracy: 0.7180\n",
      "Epoch 4/20\n",
      "1000/1000 [==============================] - 147s 147ms/step - loss: 0.0542 - accuracy: 0.7375 - val_loss: 0.0593 - val_accuracy: 0.7201\n",
      "Epoch 5/20\n",
      "1000/1000 [==============================] - 148s 148ms/step - loss: 0.0488 - accuracy: 0.7501 - val_loss: 0.0614 - val_accuracy: 0.7224\n",
      "Epoch 6/20\n",
      "1000/1000 [==============================] - 147s 147ms/step - loss: 0.0439 - accuracy: 0.7663 - val_loss: 0.0599 - val_accuracy: 0.7261\n",
      "Epoch 7/20\n",
      "1000/1000 [==============================] - 147s 147ms/step - loss: 0.0399 - accuracy: 0.7789 - val_loss: 0.0627 - val_accuracy: 0.7213\n",
      "Epoch 8/20\n",
      "1000/1000 [==============================] - 146s 146ms/step - loss: 0.0353 - accuracy: 0.7923 - val_loss: 0.0675 - val_accuracy: 0.7243\n",
      "Epoch 9/20\n",
      "1000/1000 [==============================] - 146s 147ms/step - loss: 0.0317 - accuracy: 0.8024 - val_loss: 0.0712 - val_accuracy: 0.7226\n",
      "Epoch 10/20\n",
      "1000/1000 [==============================] - 146s 147ms/step - loss: 0.0280 - accuracy: 0.8109 - val_loss: 0.0736 - val_accuracy: 0.7254\n",
      "Epoch 11/20\n",
      "1000/1000 [==============================] - 147s 147ms/step - loss: 0.0249 - accuracy: 0.8207 - val_loss: 0.0861 - val_accuracy: 0.7165\n",
      "Epoch 12/20\n",
      "1000/1000 [==============================] - 146s 146ms/step - loss: 0.0217 - accuracy: 0.8286 - val_loss: 0.0873 - val_accuracy: 0.7249\n",
      "Epoch 13/20\n",
      "1000/1000 [==============================] - 147s 147ms/step - loss: 0.0190 - accuracy: 0.8331 - val_loss: 0.0976 - val_accuracy: 0.7261\n",
      "Epoch 14/20\n",
      "1000/1000 [==============================] - 146s 146ms/step - loss: 0.0171 - accuracy: 0.8412 - val_loss: 0.0903 - val_accuracy: 0.7160\n",
      "Epoch 15/20\n",
      "1000/1000 [==============================] - 146s 146ms/step - loss: 0.0150 - accuracy: 0.8430 - val_loss: 0.1021 - val_accuracy: 0.7158\n",
      "Epoch 16/20\n",
      "1000/1000 [==============================] - 146s 146ms/step - loss: 0.0129 - accuracy: 0.8457 - val_loss: 0.1116 - val_accuracy: 0.7224\n",
      "Epoch 17/20\n",
      "1000/1000 [==============================] - 146s 146ms/step - loss: 0.0117 - accuracy: 0.8484 - val_loss: 0.1094 - val_accuracy: 0.7201\n",
      "Epoch 18/20\n",
      "1000/1000 [==============================] - 146s 146ms/step - loss: 0.0105 - accuracy: 0.8511 - val_loss: 0.1192 - val_accuracy: 0.7193\n",
      "Epoch 19/20\n",
      "1000/1000 [==============================] - 146s 146ms/step - loss: 0.0095 - accuracy: 0.8521 - val_loss: 0.1201 - val_accuracy: 0.7235\n",
      "Epoch 20/20\n",
      "1000/1000 [==============================] - 146s 146ms/step - loss: 0.0085 - accuracy: 0.8539 - val_loss: 0.1310 - val_accuracy: 0.7226\n"
     ]
    },
    {
     "name": "stderr",
     "output_type": "stream",
     "text": [
      "INFO:absl:TPU has inputs with dynamic shapes: [<tf.Tensor 'Const:0' shape=() dtype=int32>, <tf.Tensor 'cond_8/Identity:0' shape=(None, 512) dtype=int32>, <tf.Tensor 'cond_8/Identity_1:0' shape=(None, 512) dtype=int32>]\n"
     ]
    },
    {
     "name": "stdout",
     "output_type": "stream",
     "text": [
      "WARNING:tensorflow:The parameters `output_attentions`, `output_hidden_states` and `use_cache` cannot be updated when calling a model.They have to be set to True/False in the config object (i.e.: `config=XConfig.from_pretrained('name', output_attentions=True)`).\n"
     ]
    },
    {
     "name": "stderr",
     "output_type": "stream",
     "text": [
      "WARNING:tensorflow:The parameters `output_attentions`, `output_hidden_states` and `use_cache` cannot be updated when calling a model.They have to be set to True/False in the config object (i.e.: `config=XConfig.from_pretrained('name', output_attentions=True)`).\n"
     ]
    },
    {
     "name": "stdout",
     "output_type": "stream",
     "text": [
      "WARNING:tensorflow:The parameter `return_dict` cannot be set in graph mode and will always be set to `True`.\n"
     ]
    },
    {
     "name": "stderr",
     "output_type": "stream",
     "text": [
      "WARNING:tensorflow:The parameter `return_dict` cannot be set in graph mode and will always be set to `True`.\n"
     ]
    },
    {
     "name": "stdout",
     "output_type": "stream",
     "text": [
      "\n",
      "Temps d'entrainements pour 20 epochs : 3055 secondes.\n",
      "Meilleure train_acc = 0.854, meilleure val_acc = 0.726\n",
      "\n",
      "F1_score obtenu : 0.79\n"
     ]
    },
    {
     "data": {
      "image/png": "[encoded data removed]",
      "text/plain": [
       "<Figure size 720x288 with 1 Axes>"
      ]
     },
     "metadata": {
      "needs_background": "light",
      "tags": []
     },
     "output_type": "display_data"
    }
   ],
   "source": [
    "modelize(model_berta, 20, data_berta, \"big_mod_berta_ft\")"
   ]
  },
  {
   "cell_type": "markdown",
   "metadata": {},
   "source": [
    "<br><img src=\"images/berta_big_ft.png\" width = \"600\" heights = \"336\">"
   ]
  },
  {
   "cell_type": "code",
   "execution_count": null,
   "metadata": {
    "id": "h6Wi4CrmzrtP"
   },
   "outputs": [],
   "source": [
    "results_big[\"Roberta\"] = {\"Training\" : (0.547, 0.29), \"Fine-Tuning\": (0.726, 0.79)}\n",
    "\n",
    "pickle_out = open(path_data + \"results_big.pickle\", \"wb\")\n",
    "pickle.dump(results_big, pickle_out)\n",
    "pickle_out.close()"
   ]
  },
  {
   "cell_type": "markdown",
   "metadata": {},
   "source": [
    " "
   ]
  },
  {
   "cell_type": "markdown",
   "metadata": {},
   "source": [
    "## **Résultats finaux**"
   ]
  },
  {
   "cell_type": "code",
   "execution_count": null,
   "metadata": {
    "colab": {
     "base_uri": "https://localhost:8080/",
     "height": 175
    },
    "id": "8zWr3CChif8a",
    "outputId": "9f4d7d30-2d60-418d-cc91-0bc1c8923f32"
   },
   "outputs": [
    {
     "data": {
      "text/html": [
       "<div>\n",
       "<style scoped>\n",
       "    .dataframe tbody tr th:only-of-type {\n",
       "        vertical-align: middle;\n",
       "    }\n",
       "\n",
       "    .dataframe tbody tr th {\n",
       "        vertical-align: top;\n",
       "    }\n",
       "\n",
       "    .dataframe thead th {\n",
       "        text-align: right;\n",
       "    }\n",
       "</style>\n",
       "<table border=\"1\" class=\"dataframe\">\n",
       "  <thead>\n",
       "    <tr style=\"text-align: right;\">\n",
       "      <th></th>\n",
       "      <th>Training</th>\n",
       "      <th>Fine-Tuning</th>\n",
       "    </tr>\n",
       "  </thead>\n",
       "  <tbody>\n",
       "    <tr>\n",
       "      <th>DistilBert</th>\n",
       "      <td>(0.572, 0.51)</td>\n",
       "      <td>(0.721, 0.78)</td>\n",
       "    </tr>\n",
       "    <tr>\n",
       "      <th>Bert</th>\n",
       "      <td>(0.538, 0.44)</td>\n",
       "      <td>(0.726, 0.79)</td>\n",
       "    </tr>\n",
       "    <tr>\n",
       "      <th>SciBert</th>\n",
       "      <td>(0.493, 0.32)</td>\n",
       "      <td>(0.724, 0.79)</td>\n",
       "    </tr>\n",
       "    <tr>\n",
       "      <th>Roberta</th>\n",
       "      <td>(0.547, 0.29)</td>\n",
       "      <td>(0.726, 0.79)</td>\n",
       "    </tr>\n",
       "  </tbody>\n",
       "</table>\n",
       "</div>"
      ],
      "text/plain": [
       "                 Training    Fine-Tuning\n",
       "DistilBert  (0.572, 0.51)  (0.721, 0.78)\n",
       "Bert        (0.538, 0.44)  (0.726, 0.79)\n",
       "SciBert     (0.493, 0.32)  (0.724, 0.79)\n",
       "Roberta     (0.547, 0.29)  (0.726, 0.79)"
      ]
     },
     "execution_count": 11,
     "metadata": {
      "tags": []
     },
     "output_type": "execute_result"
    }
   ],
   "source": [
    "res = pd.DataFrame.from_dict(results_big, orient='index')\n",
    "res"
   ]
  },
  {
   "cell_type": "markdown",
   "metadata": {
    "id": "l_VQsMfkif_S"
   },
   "source": [
    "Travailler sur un nouveau dataset deux fois plus conséquent que le premier n'a pas eu l'effet escompté. Cette démarche a juste permis de gagner un point au F1_score_weighted avec trois de nos quatre modèles.<br><br>Même si avec les modèles **BERT** nous avons gagné 10 points par rapport à ce que nous avions obtenu lors du **Projet 5**, et que donc ce **projet 7** est un succès, nous avons peut-être atteint les limites de leurs capacités. Ou tout du moins, les possibilités d'amélioration significative étaient ailleurs."
   ]
  },
  {
   "cell_type": "markdown",
   "metadata": {
    "id": "5838v-2vigB-"
   },
   "source": [
    " "
   ]
  },
  {
   "cell_type": "markdown",
   "metadata": {},
   "source": [
    "**Fin**"
   ]
  }
 ],
 "metadata": {
  "accelerator": "TPU",
  "colab": {
   "collapsed_sections": [],
   "machine_shape": "hm",
   "name": "P7_3_BigData_2.ipynb",
   "provenance": []
  },
  "kernelspec": {
   "display_name": "Python 3",
   "language": "python",
   "name": "python3"
  },
  "language_info": {
   "codemirror_mode": {
    "name": "ipython",
    "version": 3
   },
   "file_extension": ".py",
   "mimetype": "text/x-python",
   "name": "python",
   "nbconvert_exporter": "python",
   "pygments_lexer": "ipython3",
   "version": "3.7.4"
  },
  "widgets": {
   "application/vnd.jupyter.widget-state+json": {
    "00ab80af17d34b27bcbd37f84e3fb7a2": {
     "model_module": "@jupyter-widgets/controls",
     "model_module_version": "1.5.0",
     "model_name": "DescriptionStyleModel",
     "state": {
      "_model_module": "@jupyter-widgets/controls",
      "_model_module_version": "1.5.0",
      "_model_name": "DescriptionStyleModel",
      "_view_count": null,
      "_view_module": "@jupyter-widgets/base",
      "_view_module_version": "1.2.0",
      "_view_name": "StyleView",
      "description_width": ""
     }
    },
    "052dbeee465f4dd5883a5813ec4cb59a": {
     "model_module": "@jupyter-widgets/controls",
     "model_module_version": "1.5.0",
     "model_name": "HBoxModel",
     "state": {
      "_dom_classes": [],
      "_model_module": "@jupyter-widgets/controls",
      "_model_module_version": "1.5.0",
      "_model_name": "HBoxModel",
      "_view_count": null,
      "_view_module": "@jupyter-widgets/controls",
      "_view_module_version": "1.5.0",
      "_view_name": "HBoxView",
      "box_style": "",
      "children": [
       "IPY_MODEL_a06a71743cd044a6bef513fb821e3782",
       "IPY_MODEL_52b5b9509e364c5588838d344c528271"
      ],
      "layout": "IPY_MODEL_cecc56c9949342e09eb8e648582cee8b"
     }
    },
    "08e0f8ffa0ac46b5b973b2cf3d6fe4ca": {
     "model_module": "@jupyter-widgets/controls",
     "model_module_version": "1.5.0",
     "model_name": "ProgressStyleModel",
     "state": {
      "_model_module": "@jupyter-widgets/controls",
      "_model_module_version": "1.5.0",
      "_model_name": "ProgressStyleModel",
      "_view_count": null,
      "_view_module": "@jupyter-widgets/base",
      "_view_module_version": "1.2.0",
      "_view_name": "StyleView",
      "bar_color": null,
      "description_width": "initial"
     }
    },
    "090d5d2345984e6d9b949f3c9963ea2a": {
     "model_module": "@jupyter-widgets/base",
     "model_module_version": "1.2.0",
     "model_name": "LayoutModel",
     "state": {
      "_model_module": "@jupyter-widgets/base",
      "_model_module_version": "1.2.0",
      "_model_name": "LayoutModel",
      "_view_count": null,
      "_view_module": "@jupyter-widgets/base",
      "_view_module_version": "1.2.0",
      "_view_name": "LayoutView",
      "align_content": null,
      "align_items": null,
      "align_self": null,
      "border": null,
      "bottom": null,
      "display": null,
      "flex": null,
      "flex_flow": null,
      "grid_area": null,
      "grid_auto_columns": null,
      "grid_auto_flow": null,
      "grid_auto_rows": null,
      "grid_column": null,
      "grid_gap": null,
      "grid_row": null,
      "grid_template_areas": null,
      "grid_template_columns": null,
      "grid_template_rows": null,
      "height": null,
      "justify_content": null,
      "justify_items": null,
      "left": null,
      "margin": null,
      "max_height": null,
      "max_width": null,
      "min_height": null,
      "min_width": null,
      "object_fit": null,
      "object_position": null,
      "order": null,
      "overflow": null,
      "overflow_x": null,
      "overflow_y": null,
      "padding": null,
      "right": null,
      "top": null,
      "visibility": null,
      "width": null
     }
    },
    "09581b30e81c4c0db3762ed379d6fb7f": {
     "model_module": "@jupyter-widgets/controls",
     "model_module_version": "1.5.0",
     "model_name": "HBoxModel",
     "state": {
      "_dom_classes": [],
      "_model_module": "@jupyter-widgets/controls",
      "_model_module_version": "1.5.0",
      "_model_name": "HBoxModel",
      "_view_count": null,
      "_view_module": "@jupyter-widgets/controls",
      "_view_module_version": "1.5.0",
      "_view_name": "HBoxView",
      "box_style": "",
      "children": [
       "IPY_MODEL_9326530291104f2eb9dfc07d1f6fc003",
       "IPY_MODEL_b210d8884dac48cba464836f10409697"
      ],
      "layout": "IPY_MODEL_36579299aa184397a03005a704096a02"
     }
    },
    "0ba0ffeebb0d40c6a60601379e269252": {
     "model_module": "@jupyter-widgets/controls",
     "model_module_version": "1.5.0",
     "model_name": "FloatProgressModel",
     "state": {
      "_dom_classes": [],
      "_model_module": "@jupyter-widgets/controls",
      "_model_module_version": "1.5.0",
      "_model_name": "FloatProgressModel",
      "_view_count": null,
      "_view_module": "@jupyter-widgets/controls",
      "_view_module_version": "1.5.0",
      "_view_name": "ProgressView",
      "bar_style": "success",
      "description": "Downloading: 100%",
      "description_tooltip": null,
      "layout": "IPY_MODEL_6d6b77696dfb486c9e23dfb179abe688",
      "max": 28,
      "min": 0,
      "orientation": "horizontal",
      "style": "IPY_MODEL_c3242c23cced4eebbf4fc59233eb2412",
      "value": 28
     }
    },
    "0c1723d821554bf9ae82c2adf49b302e": {
     "model_module": "@jupyter-widgets/controls",
     "model_module_version": "1.5.0",
     "model_name": "HBoxModel",
     "state": {
      "_dom_classes": [],
      "_model_module": "@jupyter-widgets/controls",
      "_model_module_version": "1.5.0",
      "_model_name": "HBoxModel",
      "_view_count": null,
      "_view_module": "@jupyter-widgets/controls",
      "_view_module_version": "1.5.0",
      "_view_name": "HBoxView",
      "box_style": "",
      "children": [
       "IPY_MODEL_e65aa96ce4c44b3fb250726b2229d6f4",
       "IPY_MODEL_31ddc794f609489a873e5202b689c3da"
      ],
      "layout": "IPY_MODEL_55947c4f475041fea10d131d204b1520"
     }
    },
    "10cb85703d9c486a8458f98cbd512796": {
     "model_module": "@jupyter-widgets/controls",
     "model_module_version": "1.5.0",
     "model_name": "FloatProgressModel",
     "state": {
      "_dom_classes": [],
      "_model_module": "@jupyter-widgets/controls",
      "_model_module_version": "1.5.0",
      "_model_name": "FloatProgressModel",
      "_view_count": null,
      "_view_module": "@jupyter-widgets/controls",
      "_view_module_version": "1.5.0",
      "_view_name": "ProgressView",
      "bar_style": "success",
      "description": "Downloading: 100%",
      "description_tooltip": null,
      "layout": "IPY_MODEL_090d5d2345984e6d9b949f3c9963ea2a",
      "max": 442,
      "min": 0,
      "orientation": "horizontal",
      "style": "IPY_MODEL_08e0f8ffa0ac46b5b973b2cf3d6fe4ca",
      "value": 442
     }
    },
    "11280472723a4547a8a33244f40dc5dc": {
     "model_module": "@jupyter-widgets/base",
     "model_module_version": "1.2.0",
     "model_name": "LayoutModel",
     "state": {
      "_model_module": "@jupyter-widgets/base",
      "_model_module_version": "1.2.0",
      "_model_name": "LayoutModel",
      "_view_count": null,
      "_view_module": "@jupyter-widgets/base",
      "_view_module_version": "1.2.0",
      "_view_name": "LayoutView",
      "align_content": null,
      "align_items": null,
      "align_self": null,
      "border": null,
      "bottom": null,
      "display": null,
      "flex": null,
      "flex_flow": null,
      "grid_area": null,
      "grid_auto_columns": null,
      "grid_auto_flow": null,
      "grid_auto_rows": null,
      "grid_column": null,
      "grid_gap": null,
      "grid_row": null,
      "grid_template_areas": null,
      "grid_template_columns": null,
      "grid_template_rows": null,
      "height": null,
      "justify_content": null,
      "justify_items": null,
      "left": null,
      "margin": null,
      "max_height": null,
      "max_width": null,
      "min_height": null,
      "min_width": null,
      "object_fit": null,
      "object_position": null,
      "order": null,
      "overflow": null,
      "overflow_x": null,
      "overflow_y": null,
      "padding": null,
      "right": null,
      "top": null,
      "visibility": null,
      "width": null
     }
    },
    "169d1e9869b94715af38d9e24ffe6fbe": {
     "model_module": "@jupyter-widgets/base",
     "model_module_version": "1.2.0",
     "model_name": "LayoutModel",
     "state": {
      "_model_module": "@jupyter-widgets/base",
      "_model_module_version": "1.2.0",
      "_model_name": "LayoutModel",
      "_view_count": null,
      "_view_module": "@jupyter-widgets/base",
      "_view_module_version": "1.2.0",
      "_view_name": "LayoutView",
      "align_content": null,
      "align_items": null,
      "align_self": null,
      "border": null,
      "bottom": null,
      "display": null,
      "flex": null,
      "flex_flow": null,
      "grid_area": null,
      "grid_auto_columns": null,
      "grid_auto_flow": null,
      "grid_auto_rows": null,
      "grid_column": null,
      "grid_gap": null,
      "grid_row": null,
      "grid_template_areas": null,
      "grid_template_columns": null,
      "grid_template_rows": null,
      "height": null,
      "justify_content": null,
      "justify_items": null,
      "left": null,
      "margin": null,
      "max_height": null,
      "max_width": null,
      "min_height": null,
      "min_width": null,
      "object_fit": null,
      "object_position": null,
      "order": null,
      "overflow": null,
      "overflow_x": null,
      "overflow_y": null,
      "padding": null,
      "right": null,
      "top": null,
      "visibility": null,
      "width": null
     }
    },
    "17b453a024ff409a8da5de011bd33742": {
     "model_module": "@jupyter-widgets/controls",
     "model_module_version": "1.5.0",
     "model_name": "ProgressStyleModel",
     "state": {
      "_model_module": "@jupyter-widgets/controls",
      "_model_module_version": "1.5.0",
      "_model_name": "ProgressStyleModel",
      "_view_count": null,
      "_view_module": "@jupyter-widgets/base",
      "_view_module_version": "1.2.0",
      "_view_name": "StyleView",
      "bar_color": null,
      "description_width": "initial"
     }
    },
    "19cbf27ab2904fc59e1d702137cae810": {
     "model_module": "@jupyter-widgets/controls",
     "model_module_version": "1.5.0",
     "model_name": "DescriptionStyleModel",
     "state": {
      "_model_module": "@jupyter-widgets/controls",
      "_model_module_version": "1.5.0",
      "_model_name": "DescriptionStyleModel",
      "_view_count": null,
      "_view_module": "@jupyter-widgets/base",
      "_view_module_version": "1.2.0",
      "_view_name": "StyleView",
      "description_width": ""
     }
    },
    "1cd98fceec4047438a5dbb32ece1f049": {
     "model_module": "@jupyter-widgets/controls",
     "model_module_version": "1.5.0",
     "model_name": "HTMLModel",
     "state": {
      "_dom_classes": [],
      "_model_module": "@jupyter-widgets/controls",
      "_model_module_version": "1.5.0",
      "_model_name": "HTMLModel",
      "_view_count": null,
      "_view_module": "@jupyter-widgets/controls",
      "_view_module_version": "1.5.0",
      "_view_name": "HTMLView",
      "description": "",
      "description_tooltip": null,
      "layout": "IPY_MODEL_11280472723a4547a8a33244f40dc5dc",
      "placeholder": "​",
      "style": "IPY_MODEL_bc9be22afaec4e0290048a05dceaecaf",
      "value": " 536M/536M [00:09&lt;00:00, 54.4MB/s]"
     }
    },
    "1f8618a00a414514b0aed41fcf09dd25": {
     "model_module": "@jupyter-widgets/base",
     "model_module_version": "1.2.0",
     "model_name": "LayoutModel",
     "state": {
      "_model_module": "@jupyter-widgets/base",
      "_model_module_version": "1.2.0",
      "_model_name": "LayoutModel",
      "_view_count": null,
      "_view_module": "@jupyter-widgets/base",
      "_view_module_version": "1.2.0",
      "_view_name": "LayoutView",
      "align_content": null,
      "align_items": null,
      "align_self": null,
      "border": null,
      "bottom": null,
      "display": null,
      "flex": null,
      "flex_flow": null,
      "grid_area": null,
      "grid_auto_columns": null,
      "grid_auto_flow": null,
      "grid_auto_rows": null,
      "grid_column": null,
      "grid_gap": null,
      "grid_row": null,
      "grid_template_areas": null,
      "grid_template_columns": null,
      "grid_template_rows": null,
      "height": null,
      "justify_content": null,
      "justify_items": null,
      "left": null,
      "margin": null,
      "max_height": null,
      "max_width": null,
      "min_height": null,
      "min_width": null,
      "object_fit": null,
      "object_position": null,
      "order": null,
      "overflow": null,
      "overflow_x": null,
      "overflow_y": null,
      "padding": null,
      "right": null,
      "top": null,
      "visibility": null,
      "width": null
     }
    },
    "1fd779cacf5248acb24b7653a40e9010": {
     "model_module": "@jupyter-widgets/base",
     "model_module_version": "1.2.0",
     "model_name": "LayoutModel",
     "state": {
      "_model_module": "@jupyter-widgets/base",
      "_model_module_version": "1.2.0",
      "_model_name": "LayoutModel",
      "_view_count": null,
      "_view_module": "@jupyter-widgets/base",
      "_view_module_version": "1.2.0",
      "_view_name": "LayoutView",
      "align_content": null,
      "align_items": null,
      "align_self": null,
      "border": null,
      "bottom": null,
      "display": null,
      "flex": null,
      "flex_flow": null,
      "grid_area": null,
      "grid_auto_columns": null,
      "grid_auto_flow": null,
      "grid_auto_rows": null,
      "grid_column": null,
      "grid_gap": null,
      "grid_row": null,
      "grid_template_areas": null,
      "grid_template_columns": null,
      "grid_template_rows": null,
      "height": null,
      "justify_content": null,
      "justify_items": null,
      "left": null,
      "margin": null,
      "max_height": null,
      "max_width": null,
      "min_height": null,
      "min_width": null,
      "object_fit": null,
      "object_position": null,
      "order": null,
      "overflow": null,
      "overflow_x": null,
      "overflow_y": null,
      "padding": null,
      "right": null,
      "top": null,
      "visibility": null,
      "width": null
     }
    },
    "2129cccbb048473dbbb7bf39b2749e74": {
     "model_module": "@jupyter-widgets/controls",
     "model_module_version": "1.5.0",
     "model_name": "ProgressStyleModel",
     "state": {
      "_model_module": "@jupyter-widgets/controls",
      "_model_module_version": "1.5.0",
      "_model_name": "ProgressStyleModel",
      "_view_count": null,
      "_view_module": "@jupyter-widgets/base",
      "_view_module_version": "1.2.0",
      "_view_name": "StyleView",
      "bar_color": null,
      "description_width": "initial"
     }
    },
    "23233e1384e94367b08cd7b347e634a4": {
     "model_module": "@jupyter-widgets/controls",
     "model_module_version": "1.5.0",
     "model_name": "DescriptionStyleModel",
     "state": {
      "_model_module": "@jupyter-widgets/controls",
      "_model_module_version": "1.5.0",
      "_model_name": "DescriptionStyleModel",
      "_view_count": null,
      "_view_module": "@jupyter-widgets/base",
      "_view_module_version": "1.2.0",
      "_view_name": "StyleView",
      "description_width": ""
     }
    },
    "23e4edece50946f3aeed5508c20ed01a": {
     "model_module": "@jupyter-widgets/controls",
     "model_module_version": "1.5.0",
     "model_name": "FloatProgressModel",
     "state": {
      "_dom_classes": [],
      "_model_module": "@jupyter-widgets/controls",
      "_model_module_version": "1.5.0",
      "_model_name": "FloatProgressModel",
      "_view_count": null,
      "_view_module": "@jupyter-widgets/controls",
      "_view_module_version": "1.5.0",
      "_view_name": "ProgressView",
      "bar_style": "success",
      "description": "Downloading: 100%",
      "description_tooltip": null,
      "layout": "IPY_MODEL_2b4e778be1a54715917a1f971c212756",
      "max": 536063208,
      "min": 0,
      "orientation": "horizontal",
      "style": "IPY_MODEL_d462e4adb3404e2197539288be73b7b0",
      "value": 536063208
     }
    },
    "24b751e7ad1b4d599616c7c53f7c2879": {
     "model_module": "@jupyter-widgets/controls",
     "model_module_version": "1.5.0",
     "model_name": "HBoxModel",
     "state": {
      "_dom_classes": [],
      "_model_module": "@jupyter-widgets/controls",
      "_model_module_version": "1.5.0",
      "_model_name": "HBoxModel",
      "_view_count": null,
      "_view_module": "@jupyter-widgets/controls",
      "_view_module_version": "1.5.0",
      "_view_name": "HBoxView",
      "box_style": "",
      "children": [
       "IPY_MODEL_10cb85703d9c486a8458f98cbd512796",
       "IPY_MODEL_3629d1d783294a81ade1122349d9599c"
      ],
      "layout": "IPY_MODEL_b491b697d4a242a5993f83e930efbf33"
     }
    },
    "2848d28bb3bb408b99ad776eacc6eb8d": {
     "model_module": "@jupyter-widgets/base",
     "model_module_version": "1.2.0",
     "model_name": "LayoutModel",
     "state": {
      "_model_module": "@jupyter-widgets/base",
      "_model_module_version": "1.2.0",
      "_model_name": "LayoutModel",
      "_view_count": null,
      "_view_module": "@jupyter-widgets/base",
      "_view_module_version": "1.2.0",
      "_view_name": "LayoutView",
      "align_content": null,
      "align_items": null,
      "align_self": null,
      "border": null,
      "bottom": null,
      "display": null,
      "flex": null,
      "flex_flow": null,
      "grid_area": null,
      "grid_auto_columns": null,
      "grid_auto_flow": null,
      "grid_auto_rows": null,
      "grid_column": null,
      "grid_gap": null,
      "grid_row": null,
      "grid_template_areas": null,
      "grid_template_columns": null,
      "grid_template_rows": null,
      "height": null,
      "justify_content": null,
      "justify_items": null,
      "left": null,
      "margin": null,
      "max_height": null,
      "max_width": null,
      "min_height": null,
      "min_width": null,
      "object_fit": null,
      "object_position": null,
      "order": null,
      "overflow": null,
      "overflow_x": null,
      "overflow_y": null,
      "padding": null,
      "right": null,
      "top": null,
      "visibility": null,
      "width": null
     }
    },
    "294f155095ff45e7a57f05e7570f56f6": {
     "model_module": "@jupyter-widgets/controls",
     "model_module_version": "1.5.0",
     "model_name": "HBoxModel",
     "state": {
      "_dom_classes": [],
      "_model_module": "@jupyter-widgets/controls",
      "_model_module_version": "1.5.0",
      "_model_name": "HBoxModel",
      "_view_count": null,
      "_view_module": "@jupyter-widgets/controls",
      "_view_module_version": "1.5.0",
      "_view_name": "HBoxView",
      "box_style": "",
      "children": [
       "IPY_MODEL_86a47c35e57c4e0eb1470c9ae6629e9e",
       "IPY_MODEL_5cc075c5c0d5421f94e81a21723d28ed"
      ],
      "layout": "IPY_MODEL_f6d449864d754cbca499ef888d772d75"
     }
    },
    "2b4e778be1a54715917a1f971c212756": {
     "model_module": "@jupyter-widgets/base",
     "model_module_version": "1.2.0",
     "model_name": "LayoutModel",
     "state": {
      "_model_module": "@jupyter-widgets/base",
      "_model_module_version": "1.2.0",
      "_model_name": "LayoutModel",
      "_view_count": null,
      "_view_module": "@jupyter-widgets/base",
      "_view_module_version": "1.2.0",
      "_view_name": "LayoutView",
      "align_content": null,
      "align_items": null,
      "align_self": null,
      "border": null,
      "bottom": null,
      "display": null,
      "flex": null,
      "flex_flow": null,
      "grid_area": null,
      "grid_auto_columns": null,
      "grid_auto_flow": null,
      "grid_auto_rows": null,
      "grid_column": null,
      "grid_gap": null,
      "grid_row": null,
      "grid_template_areas": null,
      "grid_template_columns": null,
      "grid_template_rows": null,
      "height": null,
      "justify_content": null,
      "justify_items": null,
      "left": null,
      "margin": null,
      "max_height": null,
      "max_width": null,
      "min_height": null,
      "min_width": null,
      "object_fit": null,
      "object_position": null,
      "order": null,
      "overflow": null,
      "overflow_x": null,
      "overflow_y": null,
      "padding": null,
      "right": null,
      "top": null,
      "visibility": null,
      "width": null
     }
    },
    "2d6e66603a7a4c51af0e74420e21b0da": {
     "model_module": "@jupyter-widgets/controls",
     "model_module_version": "1.5.0",
     "model_name": "HTMLModel",
     "state": {
      "_dom_classes": [],
      "_model_module": "@jupyter-widgets/controls",
      "_model_module_version": "1.5.0",
      "_model_name": "HTMLModel",
      "_view_count": null,
      "_view_module": "@jupyter-widgets/controls",
      "_view_module_version": "1.5.0",
      "_view_name": "HTMLView",
      "description": "",
      "description_tooltip": null,
      "layout": "IPY_MODEL_e625323b57b149ea844dc13b07195496",
      "placeholder": "​",
      "style": "IPY_MODEL_4b174a340b9a437895d358287f176eeb",
      "value": " 466k/466k [00:00&lt;00:00, 5.35MB/s]"
     }
    },
    "31a4af7bc4694e12b5d7cf7524117e80": {
     "model_module": "@jupyter-widgets/controls",
     "model_module_version": "1.5.0",
     "model_name": "HTMLModel",
     "state": {
      "_dom_classes": [],
      "_model_module": "@jupyter-widgets/controls",
      "_model_module_version": "1.5.0",
      "_model_name": "HTMLModel",
      "_view_count": null,
      "_view_module": "@jupyter-widgets/controls",
      "_view_module_version": "1.5.0",
      "_view_name": "HTMLView",
      "description": "",
      "description_tooltip": null,
      "layout": "IPY_MODEL_1f8618a00a414514b0aed41fcf09dd25",
      "placeholder": "​",
      "style": "IPY_MODEL_19cbf27ab2904fc59e1d702137cae810",
      "value": " 363M/363M [00:06&lt;00:00, 55.7MB/s]"
     }
    },
    "31ddc794f609489a873e5202b689c3da": {
     "model_module": "@jupyter-widgets/controls",
     "model_module_version": "1.5.0",
     "model_name": "HTMLModel",
     "state": {
      "_dom_classes": [],
      "_model_module": "@jupyter-widgets/controls",
      "_model_module_version": "1.5.0",
      "_model_name": "HTMLModel",
      "_view_count": null,
      "_view_module": "@jupyter-widgets/controls",
      "_view_module_version": "1.5.0",
      "_view_name": "HTMLView",
      "description": "",
      "description_tooltip": null,
      "layout": "IPY_MODEL_a75cd4d77bda446fa19936b553f642cf",
      "placeholder": "​",
      "style": "IPY_MODEL_c5da03d0f1d6457bad7aa2ff0ebfcffb",
      "value": " 385/385 [00:00&lt;00:00, 1.11kB/s]"
     }
    },
    "3512f0d96e7b4e13ae35ae2431475124": {
     "model_module": "@jupyter-widgets/base",
     "model_module_version": "1.2.0",
     "model_name": "LayoutModel",
     "state": {
      "_model_module": "@jupyter-widgets/base",
      "_model_module_version": "1.2.0",
      "_model_name": "LayoutModel",
      "_view_count": null,
      "_view_module": "@jupyter-widgets/base",
      "_view_module_version": "1.2.0",
      "_view_name": "LayoutView",
      "align_content": null,
      "align_items": null,
      "align_self": null,
      "border": null,
      "bottom": null,
      "display": null,
      "flex": null,
      "flex_flow": null,
      "grid_area": null,
      "grid_auto_columns": null,
      "grid_auto_flow": null,
      "grid_auto_rows": null,
      "grid_column": null,
      "grid_gap": null,
      "grid_row": null,
      "grid_template_areas": null,
      "grid_template_columns": null,
      "grid_template_rows": null,
      "height": null,
      "justify_content": null,
      "justify_items": null,
      "left": null,
      "margin": null,
      "max_height": null,
      "max_width": null,
      "min_height": null,
      "min_width": null,
      "object_fit": null,
      "object_position": null,
      "order": null,
      "overflow": null,
      "overflow_x": null,
      "overflow_y": null,
      "padding": null,
      "right": null,
      "top": null,
      "visibility": null,
      "width": null
     }
    },
    "3629d1d783294a81ade1122349d9599c": {
     "model_module": "@jupyter-widgets/controls",
     "model_module_version": "1.5.0",
     "model_name": "HTMLModel",
     "state": {
      "_dom_classes": [],
      "_model_module": "@jupyter-widgets/controls",
      "_model_module_version": "1.5.0",
      "_model_name": "HTMLModel",
      "_view_count": null,
      "_view_module": "@jupyter-widgets/controls",
      "_view_module_version": "1.5.0",
      "_view_name": "HTMLView",
      "description": "",
      "description_tooltip": null,
      "layout": "IPY_MODEL_d987ebfee4fe4ed78701cc400a2a2cf2",
      "placeholder": "​",
      "style": "IPY_MODEL_cc89cc9340694d3e9a0eebd30c48c049",
      "value": " 442/442 [00:00&lt;00:00, 15.5kB/s]"
     }
    },
    "36579299aa184397a03005a704096a02": {
     "model_module": "@jupyter-widgets/base",
     "model_module_version": "1.2.0",
     "model_name": "LayoutModel",
     "state": {
      "_model_module": "@jupyter-widgets/base",
      "_model_module_version": "1.2.0",
      "_model_name": "LayoutModel",
      "_view_count": null,
      "_view_module": "@jupyter-widgets/base",
      "_view_module_version": "1.2.0",
      "_view_name": "LayoutView",
      "align_content": null,
      "align_items": null,
      "align_self": null,
      "border": null,
      "bottom": null,
      "display": null,
      "flex": null,
      "flex_flow": null,
      "grid_area": null,
      "grid_auto_columns": null,
      "grid_auto_flow": null,
      "grid_auto_rows": null,
      "grid_column": null,
      "grid_gap": null,
      "grid_row": null,
      "grid_template_areas": null,
      "grid_template_columns": null,
      "grid_template_rows": null,
      "height": null,
      "justify_content": null,
      "justify_items": null,
      "left": null,
      "margin": null,
      "max_height": null,
      "max_width": null,
      "min_height": null,
      "min_width": null,
      "object_fit": null,
      "object_position": null,
      "order": null,
      "overflow": null,
      "overflow_x": null,
      "overflow_y": null,
      "padding": null,
      "right": null,
      "top": null,
      "visibility": null,
      "width": null
     }
    },
    "38d77fa901dd41a192985046f6c5394c": {
     "model_module": "@jupyter-widgets/controls",
     "model_module_version": "1.5.0",
     "model_name": "ProgressStyleModel",
     "state": {
      "_model_module": "@jupyter-widgets/controls",
      "_model_module_version": "1.5.0",
      "_model_name": "ProgressStyleModel",
      "_view_count": null,
      "_view_module": "@jupyter-widgets/base",
      "_view_module_version": "1.2.0",
      "_view_name": "StyleView",
      "bar_color": null,
      "description_width": "initial"
     }
    },
    "3fe3d4b88db149089181bcbe8d5ef4af": {
     "model_module": "@jupyter-widgets/base",
     "model_module_version": "1.2.0",
     "model_name": "LayoutModel",
     "state": {
      "_model_module": "@jupyter-widgets/base",
      "_model_module_version": "1.2.0",
      "_model_name": "LayoutModel",
      "_view_count": null,
      "_view_module": "@jupyter-widgets/base",
      "_view_module_version": "1.2.0",
      "_view_name": "LayoutView",
      "align_content": null,
      "align_items": null,
      "align_self": null,
      "border": null,
      "bottom": null,
      "display": null,
      "flex": null,
      "flex_flow": null,
      "grid_area": null,
      "grid_auto_columns": null,
      "grid_auto_flow": null,
      "grid_auto_rows": null,
      "grid_column": null,
      "grid_gap": null,
      "grid_row": null,
      "grid_template_areas": null,
      "grid_template_columns": null,
      "grid_template_rows": null,
      "height": null,
      "justify_content": null,
      "justify_items": null,
      "left": null,
      "margin": null,
      "max_height": null,
      "max_width": null,
      "min_height": null,
      "min_width": null,
      "object_fit": null,
      "object_position": null,
      "order": null,
      "overflow": null,
      "overflow_x": null,
      "overflow_y": null,
      "padding": null,
      "right": null,
      "top": null,
      "visibility": null,
      "width": null
     }
    },
    "40b9a1f47ed045028663e579030b1f50": {
     "model_module": "@jupyter-widgets/base",
     "model_module_version": "1.2.0",
     "model_name": "LayoutModel",
     "state": {
      "_model_module": "@jupyter-widgets/base",
      "_model_module_version": "1.2.0",
      "_model_name": "LayoutModel",
      "_view_count": null,
      "_view_module": "@jupyter-widgets/base",
      "_view_module_version": "1.2.0",
      "_view_name": "LayoutView",
      "align_content": null,
      "align_items": null,
      "align_self": null,
      "border": null,
      "bottom": null,
      "display": null,
      "flex": null,
      "flex_flow": null,
      "grid_area": null,
      "grid_auto_columns": null,
      "grid_auto_flow": null,
      "grid_auto_rows": null,
      "grid_column": null,
      "grid_gap": null,
      "grid_row": null,
      "grid_template_areas": null,
      "grid_template_columns": null,
      "grid_template_rows": null,
      "height": null,
      "justify_content": null,
      "justify_items": null,
      "left": null,
      "margin": null,
      "max_height": null,
      "max_width": null,
      "min_height": null,
      "min_width": null,
      "object_fit": null,
      "object_position": null,
      "order": null,
      "overflow": null,
      "overflow_x": null,
      "overflow_y": null,
      "padding": null,
      "right": null,
      "top": null,
      "visibility": null,
      "width": null
     }
    },
    "41f8e55a80184b32a8f4a49c7535b54e": {
     "model_module": "@jupyter-widgets/base",
     "model_module_version": "1.2.0",
     "model_name": "LayoutModel",
     "state": {
      "_model_module": "@jupyter-widgets/base",
      "_model_module_version": "1.2.0",
      "_model_name": "LayoutModel",
      "_view_count": null,
      "_view_module": "@jupyter-widgets/base",
      "_view_module_version": "1.2.0",
      "_view_name": "LayoutView",
      "align_content": null,
      "align_items": null,
      "align_self": null,
      "border": null,
      "bottom": null,
      "display": null,
      "flex": null,
      "flex_flow": null,
      "grid_area": null,
      "grid_auto_columns": null,
      "grid_auto_flow": null,
      "grid_auto_rows": null,
      "grid_column": null,
      "grid_gap": null,
      "grid_row": null,
      "grid_template_areas": null,
      "grid_template_columns": null,
      "grid_template_rows": null,
      "height": null,
      "justify_content": null,
      "justify_items": null,
      "left": null,
      "margin": null,
      "max_height": null,
      "max_width": null,
      "min_height": null,
      "min_width": null,
      "object_fit": null,
      "object_position": null,
      "order": null,
      "overflow": null,
      "overflow_x": null,
      "overflow_y": null,
      "padding": null,
      "right": null,
      "top": null,
      "visibility": null,
      "width": null
     }
    },
    "4790f66718ad44d9ae2217715c283667": {
     "model_module": "@jupyter-widgets/controls",
     "model_module_version": "1.5.0",
     "model_name": "HBoxModel",
     "state": {
      "_dom_classes": [],
      "_model_module": "@jupyter-widgets/controls",
      "_model_module_version": "1.5.0",
      "_model_name": "HBoxModel",
      "_view_count": null,
      "_view_module": "@jupyter-widgets/controls",
      "_view_module_version": "1.5.0",
      "_view_name": "HBoxView",
      "box_style": "",
      "children": [
       "IPY_MODEL_852e132eda8349eda6366b014cd83fea",
       "IPY_MODEL_2d6e66603a7a4c51af0e74420e21b0da"
      ],
      "layout": "IPY_MODEL_687e5c74c2f44a53b042d8dc278e432f"
     }
    },
    "4b14beed61cb495db30697bd3fe7a22e": {
     "model_module": "@jupyter-widgets/base",
     "model_module_version": "1.2.0",
     "model_name": "LayoutModel",
     "state": {
      "_model_module": "@jupyter-widgets/base",
      "_model_module_version": "1.2.0",
      "_model_name": "LayoutModel",
      "_view_count": null,
      "_view_module": "@jupyter-widgets/base",
      "_view_module_version": "1.2.0",
      "_view_name": "LayoutView",
      "align_content": null,
      "align_items": null,
      "align_self": null,
      "border": null,
      "bottom": null,
      "display": null,
      "flex": null,
      "flex_flow": null,
      "grid_area": null,
      "grid_auto_columns": null,
      "grid_auto_flow": null,
      "grid_auto_rows": null,
      "grid_column": null,
      "grid_gap": null,
      "grid_row": null,
      "grid_template_areas": null,
      "grid_template_columns": null,
      "grid_template_rows": null,
      "height": null,
      "justify_content": null,
      "justify_items": null,
      "left": null,
      "margin": null,
      "max_height": null,
      "max_width": null,
      "min_height": null,
      "min_width": null,
      "object_fit": null,
      "object_position": null,
      "order": null,
      "overflow": null,
      "overflow_x": null,
      "overflow_y": null,
      "padding": null,
      "right": null,
      "top": null,
      "visibility": null,
      "width": null
     }
    },
    "4b174a340b9a437895d358287f176eeb": {
     "model_module": "@jupyter-widgets/controls",
     "model_module_version": "1.5.0",
     "model_name": "DescriptionStyleModel",
     "state": {
      "_model_module": "@jupyter-widgets/controls",
      "_model_module_version": "1.5.0",
      "_model_name": "DescriptionStyleModel",
      "_view_count": null,
      "_view_module": "@jupyter-widgets/base",
      "_view_module_version": "1.2.0",
      "_view_name": "StyleView",
      "description_width": ""
     }
    },
    "502619f6e0cb428fa863a90e1a8e66f9": {
     "model_module": "@jupyter-widgets/controls",
     "model_module_version": "1.5.0",
     "model_name": "DescriptionStyleModel",
     "state": {
      "_model_module": "@jupyter-widgets/controls",
      "_model_module_version": "1.5.0",
      "_model_name": "DescriptionStyleModel",
      "_view_count": null,
      "_view_module": "@jupyter-widgets/base",
      "_view_module_version": "1.2.0",
      "_view_name": "StyleView",
      "description_width": ""
     }
    },
    "52b5b9509e364c5588838d344c528271": {
     "model_module": "@jupyter-widgets/controls",
     "model_module_version": "1.5.0",
     "model_name": "HTMLModel",
     "state": {
      "_dom_classes": [],
      "_model_module": "@jupyter-widgets/controls",
      "_model_module_version": "1.5.0",
      "_model_name": "HTMLModel",
      "_view_count": null,
      "_view_module": "@jupyter-widgets/controls",
      "_view_module_version": "1.5.0",
      "_view_name": "HTMLView",
      "description": "",
      "description_tooltip": null,
      "layout": "IPY_MODEL_7b0df0ffdd734226a575662943eda89f",
      "placeholder": "​",
      "style": "IPY_MODEL_df5ed7233ea1415280513b30d59f604e",
      "value": " 232k/232k [00:01&lt;00:00, 228kB/s]"
     }
    },
    "55947c4f475041fea10d131d204b1520": {
     "model_module": "@jupyter-widgets/base",
     "model_module_version": "1.2.0",
     "model_name": "LayoutModel",
     "state": {
      "_model_module": "@jupyter-widgets/base",
      "_model_module_version": "1.2.0",
      "_model_name": "LayoutModel",
      "_view_count": null,
      "_view_module": "@jupyter-widgets/base",
      "_view_module_version": "1.2.0",
      "_view_name": "LayoutView",
      "align_content": null,
      "align_items": null,
      "align_self": null,
      "border": null,
      "bottom": null,
      "display": null,
      "flex": null,
      "flex_flow": null,
      "grid_area": null,
      "grid_auto_columns": null,
      "grid_auto_flow": null,
      "grid_auto_rows": null,
      "grid_column": null,
      "grid_gap": null,
      "grid_row": null,
      "grid_template_areas": null,
      "grid_template_columns": null,
      "grid_template_rows": null,
      "height": null,
      "justify_content": null,
      "justify_items": null,
      "left": null,
      "margin": null,
      "max_height": null,
      "max_width": null,
      "min_height": null,
      "min_width": null,
      "object_fit": null,
      "object_position": null,
      "order": null,
      "overflow": null,
      "overflow_x": null,
      "overflow_y": null,
      "padding": null,
      "right": null,
      "top": null,
      "visibility": null,
      "width": null
     }
    },
    "567b33e71f73489bb7e930d060832cdb": {
     "model_module": "@jupyter-widgets/controls",
     "model_module_version": "1.5.0",
     "model_name": "DescriptionStyleModel",
     "state": {
      "_model_module": "@jupyter-widgets/controls",
      "_model_module_version": "1.5.0",
      "_model_name": "DescriptionStyleModel",
      "_view_count": null,
      "_view_module": "@jupyter-widgets/base",
      "_view_module_version": "1.2.0",
      "_view_name": "StyleView",
      "description_width": ""
     }
    },
    "57d6304a85494d2198f109ad8597f31a": {
     "model_module": "@jupyter-widgets/base",
     "model_module_version": "1.2.0",
     "model_name": "LayoutModel",
     "state": {
      "_model_module": "@jupyter-widgets/base",
      "_model_module_version": "1.2.0",
      "_model_name": "LayoutModel",
      "_view_count": null,
      "_view_module": "@jupyter-widgets/base",
      "_view_module_version": "1.2.0",
      "_view_name": "LayoutView",
      "align_content": null,
      "align_items": null,
      "align_self": null,
      "border": null,
      "bottom": null,
      "display": null,
      "flex": null,
      "flex_flow": null,
      "grid_area": null,
      "grid_auto_columns": null,
      "grid_auto_flow": null,
      "grid_auto_rows": null,
      "grid_column": null,
      "grid_gap": null,
      "grid_row": null,
      "grid_template_areas": null,
      "grid_template_columns": null,
      "grid_template_rows": null,
      "height": null,
      "justify_content": null,
      "justify_items": null,
      "left": null,
      "margin": null,
      "max_height": null,
      "max_width": null,
      "min_height": null,
      "min_width": null,
      "object_fit": null,
      "object_position": null,
      "order": null,
      "overflow": null,
      "overflow_x": null,
      "overflow_y": null,
      "padding": null,
      "right": null,
      "top": null,
      "visibility": null,
      "width": null
     }
    },
    "5cc075c5c0d5421f94e81a21723d28ed": {
     "model_module": "@jupyter-widgets/controls",
     "model_module_version": "1.5.0",
     "model_name": "HTMLModel",
     "state": {
      "_dom_classes": [],
      "_model_module": "@jupyter-widgets/controls",
      "_model_module_version": "1.5.0",
      "_model_name": "HTMLModel",
      "_view_count": null,
      "_view_module": "@jupyter-widgets/controls",
      "_view_module_version": "1.5.0",
      "_view_name": "HTMLView",
      "description": "",
      "description_tooltip": null,
      "layout": "IPY_MODEL_169d1e9869b94715af38d9e24ffe6fbe",
      "placeholder": "​",
      "style": "IPY_MODEL_00ab80af17d34b27bcbd37f84e3fb7a2",
      "value": " 28.0/28.0 [00:00&lt;00:00, 70.2B/s]"
     }
    },
    "5f295ceec39b49eab4b8468ea0f9526c": {
     "model_module": "@jupyter-widgets/base",
     "model_module_version": "1.2.0",
     "model_name": "LayoutModel",
     "state": {
      "_model_module": "@jupyter-widgets/base",
      "_model_module_version": "1.2.0",
      "_model_name": "LayoutModel",
      "_view_count": null,
      "_view_module": "@jupyter-widgets/base",
      "_view_module_version": "1.2.0",
      "_view_name": "LayoutView",
      "align_content": null,
      "align_items": null,
      "align_self": null,
      "border": null,
      "bottom": null,
      "display": null,
      "flex": null,
      "flex_flow": null,
      "grid_area": null,
      "grid_auto_columns": null,
      "grid_auto_flow": null,
      "grid_auto_rows": null,
      "grid_column": null,
      "grid_gap": null,
      "grid_row": null,
      "grid_template_areas": null,
      "grid_template_columns": null,
      "grid_template_rows": null,
      "height": null,
      "justify_content": null,
      "justify_items": null,
      "left": null,
      "margin": null,
      "max_height": null,
      "max_width": null,
      "min_height": null,
      "min_width": null,
      "object_fit": null,
      "object_position": null,
      "order": null,
      "overflow": null,
      "overflow_x": null,
      "overflow_y": null,
      "padding": null,
      "right": null,
      "top": null,
      "visibility": null,
      "width": null
     }
    },
    "62ce8840e97f481fa629bfb77467f60d": {
     "model_module": "@jupyter-widgets/base",
     "model_module_version": "1.2.0",
     "model_name": "LayoutModel",
     "state": {
      "_model_module": "@jupyter-widgets/base",
      "_model_module_version": "1.2.0",
      "_model_name": "LayoutModel",
      "_view_count": null,
      "_view_module": "@jupyter-widgets/base",
      "_view_module_version": "1.2.0",
      "_view_name": "LayoutView",
      "align_content": null,
      "align_items": null,
      "align_self": null,
      "border": null,
      "bottom": null,
      "display": null,
      "flex": null,
      "flex_flow": null,
      "grid_area": null,
      "grid_auto_columns": null,
      "grid_auto_flow": null,
      "grid_auto_rows": null,
      "grid_column": null,
      "grid_gap": null,
      "grid_row": null,
      "grid_template_areas": null,
      "grid_template_columns": null,
      "grid_template_rows": null,
      "height": null,
      "justify_content": null,
      "justify_items": null,
      "left": null,
      "margin": null,
      "max_height": null,
      "max_width": null,
      "min_height": null,
      "min_width": null,
      "object_fit": null,
      "object_position": null,
      "order": null,
      "overflow": null,
      "overflow_x": null,
      "overflow_y": null,
      "padding": null,
      "right": null,
      "top": null,
      "visibility": null,
      "width": null
     }
    },
    "687e5c74c2f44a53b042d8dc278e432f": {
     "model_module": "@jupyter-widgets/base",
     "model_module_version": "1.2.0",
     "model_name": "LayoutModel",
     "state": {
      "_model_module": "@jupyter-widgets/base",
      "_model_module_version": "1.2.0",
      "_model_name": "LayoutModel",
      "_view_count": null,
      "_view_module": "@jupyter-widgets/base",
      "_view_module_version": "1.2.0",
      "_view_name": "LayoutView",
      "align_content": null,
      "align_items": null,
      "align_self": null,
      "border": null,
      "bottom": null,
      "display": null,
      "flex": null,
      "flex_flow": null,
      "grid_area": null,
      "grid_auto_columns": null,
      "grid_auto_flow": null,
      "grid_auto_rows": null,
      "grid_column": null,
      "grid_gap": null,
      "grid_row": null,
      "grid_template_areas": null,
      "grid_template_columns": null,
      "grid_template_rows": null,
      "height": null,
      "justify_content": null,
      "justify_items": null,
      "left": null,
      "margin": null,
      "max_height": null,
      "max_width": null,
      "min_height": null,
      "min_width": null,
      "object_fit": null,
      "object_position": null,
      "order": null,
      "overflow": null,
      "overflow_x": null,
      "overflow_y": null,
      "padding": null,
      "right": null,
      "top": null,
      "visibility": null,
      "width": null
     }
    },
    "6b0f952fa9da45eca7247c76bff28947": {
     "model_module": "@jupyter-widgets/base",
     "model_module_version": "1.2.0",
     "model_name": "LayoutModel",
     "state": {
      "_model_module": "@jupyter-widgets/base",
      "_model_module_version": "1.2.0",
      "_model_name": "LayoutModel",
      "_view_count": null,
      "_view_module": "@jupyter-widgets/base",
      "_view_module_version": "1.2.0",
      "_view_name": "LayoutView",
      "align_content": null,
      "align_items": null,
      "align_self": null,
      "border": null,
      "bottom": null,
      "display": null,
      "flex": null,
      "flex_flow": null,
      "grid_area": null,
      "grid_auto_columns": null,
      "grid_auto_flow": null,
      "grid_auto_rows": null,
      "grid_column": null,
      "grid_gap": null,
      "grid_row": null,
      "grid_template_areas": null,
      "grid_template_columns": null,
      "grid_template_rows": null,
      "height": null,
      "justify_content": null,
      "justify_items": null,
      "left": null,
      "margin": null,
      "max_height": null,
      "max_width": null,
      "min_height": null,
      "min_width": null,
      "object_fit": null,
      "object_position": null,
      "order": null,
      "overflow": null,
      "overflow_x": null,
      "overflow_y": null,
      "padding": null,
      "right": null,
      "top": null,
      "visibility": null,
      "width": null
     }
    },
    "6d6b77696dfb486c9e23dfb179abe688": {
     "model_module": "@jupyter-widgets/base",
     "model_module_version": "1.2.0",
     "model_name": "LayoutModel",
     "state": {
      "_model_module": "@jupyter-widgets/base",
      "_model_module_version": "1.2.0",
      "_model_name": "LayoutModel",
      "_view_count": null,
      "_view_module": "@jupyter-widgets/base",
      "_view_module_version": "1.2.0",
      "_view_name": "LayoutView",
      "align_content": null,
      "align_items": null,
      "align_self": null,
      "border": null,
      "bottom": null,
      "display": null,
      "flex": null,
      "flex_flow": null,
      "grid_area": null,
      "grid_auto_columns": null,
      "grid_auto_flow": null,
      "grid_auto_rows": null,
      "grid_column": null,
      "grid_gap": null,
      "grid_row": null,
      "grid_template_areas": null,
      "grid_template_columns": null,
      "grid_template_rows": null,
      "height": null,
      "justify_content": null,
      "justify_items": null,
      "left": null,
      "margin": null,
      "max_height": null,
      "max_width": null,
      "min_height": null,
      "min_width": null,
      "object_fit": null,
      "object_position": null,
      "order": null,
      "overflow": null,
      "overflow_x": null,
      "overflow_y": null,
      "padding": null,
      "right": null,
      "top": null,
      "visibility": null,
      "width": null
     }
    },
    "6e74dc5bef9b46ff9ec445eed026989d": {
     "model_module": "@jupyter-widgets/controls",
     "model_module_version": "1.5.0",
     "model_name": "FloatProgressModel",
     "state": {
      "_dom_classes": [],
      "_model_module": "@jupyter-widgets/controls",
      "_model_module_version": "1.5.0",
      "_model_name": "FloatProgressModel",
      "_view_count": null,
      "_view_module": "@jupyter-widgets/controls",
      "_view_module_version": "1.5.0",
      "_view_name": "ProgressView",
      "bar_style": "success",
      "description": "Downloading: 100%",
      "description_tooltip": null,
      "layout": "IPY_MODEL_6b0f952fa9da45eca7247c76bff28947",
      "max": 231508,
      "min": 0,
      "orientation": "horizontal",
      "style": "IPY_MODEL_6f40e4255d49443386bc445d12a9fb78",
      "value": 231508
     }
    },
    "6f40e4255d49443386bc445d12a9fb78": {
     "model_module": "@jupyter-widgets/controls",
     "model_module_version": "1.5.0",
     "model_name": "ProgressStyleModel",
     "state": {
      "_model_module": "@jupyter-widgets/controls",
      "_model_module_version": "1.5.0",
      "_model_name": "ProgressStyleModel",
      "_view_count": null,
      "_view_module": "@jupyter-widgets/base",
      "_view_module_version": "1.2.0",
      "_view_name": "StyleView",
      "bar_color": null,
      "description_width": "initial"
     }
    },
    "705e33aea8d3423a9cd6218142fd9ed8": {
     "model_module": "@jupyter-widgets/controls",
     "model_module_version": "1.5.0",
     "model_name": "HBoxModel",
     "state": {
      "_dom_classes": [],
      "_model_module": "@jupyter-widgets/controls",
      "_model_module_version": "1.5.0",
      "_model_name": "HBoxModel",
      "_view_count": null,
      "_view_module": "@jupyter-widgets/controls",
      "_view_module_version": "1.5.0",
      "_view_name": "HBoxView",
      "box_style": "",
      "children": [
       "IPY_MODEL_23e4edece50946f3aeed5508c20ed01a",
       "IPY_MODEL_1cd98fceec4047438a5dbb32ece1f049"
      ],
      "layout": "IPY_MODEL_1fd779cacf5248acb24b7653a40e9010"
     }
    },
    "752c3801ad7340cba273005c48271ab3": {
     "model_module": "@jupyter-widgets/controls",
     "model_module_version": "1.5.0",
     "model_name": "HTMLModel",
     "state": {
      "_dom_classes": [],
      "_model_module": "@jupyter-widgets/controls",
      "_model_module_version": "1.5.0",
      "_model_name": "HTMLModel",
      "_view_count": null,
      "_view_module": "@jupyter-widgets/controls",
      "_view_module_version": "1.5.0",
      "_view_name": "HTMLView",
      "description": "",
      "description_tooltip": null,
      "layout": "IPY_MODEL_da3a453526bd45c996200f92f60ca8f2",
      "placeholder": "​",
      "style": "IPY_MODEL_567b33e71f73489bb7e930d060832cdb",
      "value": " 228k/228k [00:00&lt;00:00, 284kB/s]"
     }
    },
    "79c60c4b49fc4f35886a0a438a82fdb2": {
     "model_module": "@jupyter-widgets/controls",
     "model_module_version": "1.5.0",
     "model_name": "HTMLModel",
     "state": {
      "_dom_classes": [],
      "_model_module": "@jupyter-widgets/controls",
      "_model_module_version": "1.5.0",
      "_model_name": "HTMLModel",
      "_view_count": null,
      "_view_module": "@jupyter-widgets/controls",
      "_view_module_version": "1.5.0",
      "_view_name": "HTMLView",
      "description": "",
      "description_tooltip": null,
      "layout": "IPY_MODEL_8d1a467636234b7ba6f3f8244ea73831",
      "placeholder": "​",
      "style": "IPY_MODEL_faaa1c2605d4411b99adc82a61529a82",
      "value": " 570/570 [00:10&lt;00:00, 54.7B/s]"
     }
    },
    "7b0df0ffdd734226a575662943eda89f": {
     "model_module": "@jupyter-widgets/base",
     "model_module_version": "1.2.0",
     "model_name": "LayoutModel",
     "state": {
      "_model_module": "@jupyter-widgets/base",
      "_model_module_version": "1.2.0",
      "_model_name": "LayoutModel",
      "_view_count": null,
      "_view_module": "@jupyter-widgets/base",
      "_view_module_version": "1.2.0",
      "_view_name": "LayoutView",
      "align_content": null,
      "align_items": null,
      "align_self": null,
      "border": null,
      "bottom": null,
      "display": null,
      "flex": null,
      "flex_flow": null,
      "grid_area": null,
      "grid_auto_columns": null,
      "grid_auto_flow": null,
      "grid_auto_rows": null,
      "grid_column": null,
      "grid_gap": null,
      "grid_row": null,
      "grid_template_areas": null,
      "grid_template_columns": null,
      "grid_template_rows": null,
      "height": null,
      "justify_content": null,
      "justify_items": null,
      "left": null,
      "margin": null,
      "max_height": null,
      "max_width": null,
      "min_height": null,
      "min_width": null,
      "object_fit": null,
      "object_position": null,
      "order": null,
      "overflow": null,
      "overflow_x": null,
      "overflow_y": null,
      "padding": null,
      "right": null,
      "top": null,
      "visibility": null,
      "width": null
     }
    },
    "7b51963601344d4297ea69670c2a4a6c": {
     "model_module": "@jupyter-widgets/base",
     "model_module_version": "1.2.0",
     "model_name": "LayoutModel",
     "state": {
      "_model_module": "@jupyter-widgets/base",
      "_model_module_version": "1.2.0",
      "_model_name": "LayoutModel",
      "_view_count": null,
      "_view_module": "@jupyter-widgets/base",
      "_view_module_version": "1.2.0",
      "_view_name": "LayoutView",
      "align_content": null,
      "align_items": null,
      "align_self": null,
      "border": null,
      "bottom": null,
      "display": null,
      "flex": null,
      "flex_flow": null,
      "grid_area": null,
      "grid_auto_columns": null,
      "grid_auto_flow": null,
      "grid_auto_rows": null,
      "grid_column": null,
      "grid_gap": null,
      "grid_row": null,
      "grid_template_areas": null,
      "grid_template_columns": null,
      "grid_template_rows": null,
      "height": null,
      "justify_content": null,
      "justify_items": null,
      "left": null,
      "margin": null,
      "max_height": null,
      "max_width": null,
      "min_height": null,
      "min_width": null,
      "object_fit": null,
      "object_position": null,
      "order": null,
      "overflow": null,
      "overflow_x": null,
      "overflow_y": null,
      "padding": null,
      "right": null,
      "top": null,
      "visibility": null,
      "width": null
     }
    },
    "82d19c414ab4436d96acd2ac1f48a4cf": {
     "model_module": "@jupyter-widgets/controls",
     "model_module_version": "1.5.0",
     "model_name": "HBoxModel",
     "state": {
      "_dom_classes": [],
      "_model_module": "@jupyter-widgets/controls",
      "_model_module_version": "1.5.0",
      "_model_name": "HBoxModel",
      "_view_count": null,
      "_view_module": "@jupyter-widgets/controls",
      "_view_module_version": "1.5.0",
      "_view_name": "HBoxView",
      "box_style": "",
      "children": [
       "IPY_MODEL_0ba0ffeebb0d40c6a60601379e269252",
       "IPY_MODEL_b8d817e331e64a0784efe993dd879e40"
      ],
      "layout": "IPY_MODEL_9ea2deca909349c3bc9356522779c800"
     }
    },
    "852e132eda8349eda6366b014cd83fea": {
     "model_module": "@jupyter-widgets/controls",
     "model_module_version": "1.5.0",
     "model_name": "FloatProgressModel",
     "state": {
      "_dom_classes": [],
      "_model_module": "@jupyter-widgets/controls",
      "_model_module_version": "1.5.0",
      "_model_name": "FloatProgressModel",
      "_view_count": null,
      "_view_module": "@jupyter-widgets/controls",
      "_view_module_version": "1.5.0",
      "_view_name": "ProgressView",
      "bar_style": "success",
      "description": "Downloading: 100%",
      "description_tooltip": null,
      "layout": "IPY_MODEL_5f295ceec39b49eab4b8468ea0f9526c",
      "max": 466062,
      "min": 0,
      "orientation": "horizontal",
      "style": "IPY_MODEL_99466f534f3843d58d6480b99431f5bb",
      "value": 466062
     }
    },
    "853e085ae9a4490a9c78dd9636506631": {
     "model_module": "@jupyter-widgets/controls",
     "model_module_version": "1.5.0",
     "model_name": "HTMLModel",
     "state": {
      "_dom_classes": [],
      "_model_module": "@jupyter-widgets/controls",
      "_model_module_version": "1.5.0",
      "_model_name": "HTMLModel",
      "_view_count": null,
      "_view_module": "@jupyter-widgets/controls",
      "_view_module_version": "1.5.0",
      "_view_name": "HTMLView",
      "description": "",
      "description_tooltip": null,
      "layout": "IPY_MODEL_cba1c20035fa42849f5d7bec06fb841f",
      "placeholder": "​",
      "style": "IPY_MODEL_502619f6e0cb428fa863a90e1a8e66f9",
      "value": " 232k/232k [00:02&lt;00:00, 89.2kB/s]"
     }
    },
    "86a47c35e57c4e0eb1470c9ae6629e9e": {
     "model_module": "@jupyter-widgets/controls",
     "model_module_version": "1.5.0",
     "model_name": "FloatProgressModel",
     "state": {
      "_dom_classes": [],
      "_model_module": "@jupyter-widgets/controls",
      "_model_module_version": "1.5.0",
      "_model_name": "FloatProgressModel",
      "_view_count": null,
      "_view_module": "@jupyter-widgets/controls",
      "_view_module_version": "1.5.0",
      "_view_name": "ProgressView",
      "bar_style": "success",
      "description": "Downloading: 100%",
      "description_tooltip": null,
      "layout": "IPY_MODEL_f802cdf742f147de8ad9f04a29624fef",
      "max": 28,
      "min": 0,
      "orientation": "horizontal",
      "style": "IPY_MODEL_2129cccbb048473dbbb7bf39b2749e74",
      "value": 28
     }
    },
    "87de6efa249244dfb79ba304c4722f21": {
     "model_module": "@jupyter-widgets/base",
     "model_module_version": "1.2.0",
     "model_name": "LayoutModel",
     "state": {
      "_model_module": "@jupyter-widgets/base",
      "_model_module_version": "1.2.0",
      "_model_name": "LayoutModel",
      "_view_count": null,
      "_view_module": "@jupyter-widgets/base",
      "_view_module_version": "1.2.0",
      "_view_name": "LayoutView",
      "align_content": null,
      "align_items": null,
      "align_self": null,
      "border": null,
      "bottom": null,
      "display": null,
      "flex": null,
      "flex_flow": null,
      "grid_area": null,
      "grid_auto_columns": null,
      "grid_auto_flow": null,
      "grid_auto_rows": null,
      "grid_column": null,
      "grid_gap": null,
      "grid_row": null,
      "grid_template_areas": null,
      "grid_template_columns": null,
      "grid_template_rows": null,
      "height": null,
      "justify_content": null,
      "justify_items": null,
      "left": null,
      "margin": null,
      "max_height": null,
      "max_width": null,
      "min_height": null,
      "min_width": null,
      "object_fit": null,
      "object_position": null,
      "order": null,
      "overflow": null,
      "overflow_x": null,
      "overflow_y": null,
      "padding": null,
      "right": null,
      "top": null,
      "visibility": null,
      "width": null
     }
    },
    "89e1a6a8c1794e1f9519e2fe90a7463f": {
     "model_module": "@jupyter-widgets/controls",
     "model_module_version": "1.5.0",
     "model_name": "HBoxModel",
     "state": {
      "_dom_classes": [],
      "_model_module": "@jupyter-widgets/controls",
      "_model_module_version": "1.5.0",
      "_model_name": "HBoxModel",
      "_view_count": null,
      "_view_module": "@jupyter-widgets/controls",
      "_view_module_version": "1.5.0",
      "_view_name": "HBoxView",
      "box_style": "",
      "children": [
       "IPY_MODEL_9536804611944497af738cfaa19d70c5",
       "IPY_MODEL_79c60c4b49fc4f35886a0a438a82fdb2"
      ],
      "layout": "IPY_MODEL_c2f5d7b76a8b4a06b93695f04eae453a"
     }
    },
    "8ae80a4260af418cbabedd7cc8607db3": {
     "model_module": "@jupyter-widgets/controls",
     "model_module_version": "1.5.0",
     "model_name": "DescriptionStyleModel",
     "state": {
      "_model_module": "@jupyter-widgets/controls",
      "_model_module_version": "1.5.0",
      "_model_name": "DescriptionStyleModel",
      "_view_count": null,
      "_view_module": "@jupyter-widgets/base",
      "_view_module_version": "1.2.0",
      "_view_name": "StyleView",
      "description_width": ""
     }
    },
    "8d1a467636234b7ba6f3f8244ea73831": {
     "model_module": "@jupyter-widgets/base",
     "model_module_version": "1.2.0",
     "model_name": "LayoutModel",
     "state": {
      "_model_module": "@jupyter-widgets/base",
      "_model_module_version": "1.2.0",
      "_model_name": "LayoutModel",
      "_view_count": null,
      "_view_module": "@jupyter-widgets/base",
      "_view_module_version": "1.2.0",
      "_view_name": "LayoutView",
      "align_content": null,
      "align_items": null,
      "align_self": null,
      "border": null,
      "bottom": null,
      "display": null,
      "flex": null,
      "flex_flow": null,
      "grid_area": null,
      "grid_auto_columns": null,
      "grid_auto_flow": null,
      "grid_auto_rows": null,
      "grid_column": null,
      "grid_gap": null,
      "grid_row": null,
      "grid_template_areas": null,
      "grid_template_columns": null,
      "grid_template_rows": null,
      "height": null,
      "justify_content": null,
      "justify_items": null,
      "left": null,
      "margin": null,
      "max_height": null,
      "max_width": null,
      "min_height": null,
      "min_width": null,
      "object_fit": null,
      "object_position": null,
      "order": null,
      "overflow": null,
      "overflow_x": null,
      "overflow_y": null,
      "padding": null,
      "right": null,
      "top": null,
      "visibility": null,
      "width": null
     }
    },
    "9326530291104f2eb9dfc07d1f6fc003": {
     "model_module": "@jupyter-widgets/controls",
     "model_module_version": "1.5.0",
     "model_name": "FloatProgressModel",
     "state": {
      "_dom_classes": [],
      "_model_module": "@jupyter-widgets/controls",
      "_model_module_version": "1.5.0",
      "_model_name": "FloatProgressModel",
      "_view_count": null,
      "_view_module": "@jupyter-widgets/controls",
      "_view_module_version": "1.5.0",
      "_view_name": "ProgressView",
      "bar_style": "success",
      "description": "Downloading: 100%",
      "description_tooltip": null,
      "layout": "IPY_MODEL_57d6304a85494d2198f109ad8597f31a",
      "max": 466062,
      "min": 0,
      "orientation": "horizontal",
      "style": "IPY_MODEL_9c2625249b4e49bbb818bf24e9dd28da",
      "value": 466062
     }
    },
    "9536804611944497af738cfaa19d70c5": {
     "model_module": "@jupyter-widgets/controls",
     "model_module_version": "1.5.0",
     "model_name": "FloatProgressModel",
     "state": {
      "_dom_classes": [],
      "_model_module": "@jupyter-widgets/controls",
      "_model_module_version": "1.5.0",
      "_model_name": "FloatProgressModel",
      "_view_count": null,
      "_view_module": "@jupyter-widgets/controls",
      "_view_module_version": "1.5.0",
      "_view_name": "ProgressView",
      "bar_style": "success",
      "description": "Downloading: 100%",
      "description_tooltip": null,
      "layout": "IPY_MODEL_f3ab4cc852cb46d9a95f7ef6a86b5697",
      "max": 570,
      "min": 0,
      "orientation": "horizontal",
      "style": "IPY_MODEL_38d77fa901dd41a192985046f6c5394c",
      "value": 570
     }
    },
    "98b773a1ff0348dd823b7c99c4e399af": {
     "model_module": "@jupyter-widgets/controls",
     "model_module_version": "1.5.0",
     "model_name": "ProgressStyleModel",
     "state": {
      "_model_module": "@jupyter-widgets/controls",
      "_model_module_version": "1.5.0",
      "_model_name": "ProgressStyleModel",
      "_view_count": null,
      "_view_module": "@jupyter-widgets/base",
      "_view_module_version": "1.2.0",
      "_view_name": "StyleView",
      "bar_color": null,
      "description_width": "initial"
     }
    },
    "99466f534f3843d58d6480b99431f5bb": {
     "model_module": "@jupyter-widgets/controls",
     "model_module_version": "1.5.0",
     "model_name": "ProgressStyleModel",
     "state": {
      "_model_module": "@jupyter-widgets/controls",
      "_model_module_version": "1.5.0",
      "_model_name": "ProgressStyleModel",
      "_view_count": null,
      "_view_module": "@jupyter-widgets/base",
      "_view_module_version": "1.2.0",
      "_view_name": "StyleView",
      "bar_color": null,
      "description_width": "initial"
     }
    },
    "9c2625249b4e49bbb818bf24e9dd28da": {
     "model_module": "@jupyter-widgets/controls",
     "model_module_version": "1.5.0",
     "model_name": "ProgressStyleModel",
     "state": {
      "_model_module": "@jupyter-widgets/controls",
      "_model_module_version": "1.5.0",
      "_model_name": "ProgressStyleModel",
      "_view_count": null,
      "_view_module": "@jupyter-widgets/base",
      "_view_module_version": "1.2.0",
      "_view_name": "StyleView",
      "bar_color": null,
      "description_width": "initial"
     }
    },
    "9ea2deca909349c3bc9356522779c800": {
     "model_module": "@jupyter-widgets/base",
     "model_module_version": "1.2.0",
     "model_name": "LayoutModel",
     "state": {
      "_model_module": "@jupyter-widgets/base",
      "_model_module_version": "1.2.0",
      "_model_name": "LayoutModel",
      "_view_count": null,
      "_view_module": "@jupyter-widgets/base",
      "_view_module_version": "1.2.0",
      "_view_name": "LayoutView",
      "align_content": null,
      "align_items": null,
      "align_self": null,
      "border": null,
      "bottom": null,
      "display": null,
      "flex": null,
      "flex_flow": null,
      "grid_area": null,
      "grid_auto_columns": null,
      "grid_auto_flow": null,
      "grid_auto_rows": null,
      "grid_column": null,
      "grid_gap": null,
      "grid_row": null,
      "grid_template_areas": null,
      "grid_template_columns": null,
      "grid_template_rows": null,
      "height": null,
      "justify_content": null,
      "justify_items": null,
      "left": null,
      "margin": null,
      "max_height": null,
      "max_width": null,
      "min_height": null,
      "min_width": null,
      "object_fit": null,
      "object_position": null,
      "order": null,
      "overflow": null,
      "overflow_x": null,
      "overflow_y": null,
      "padding": null,
      "right": null,
      "top": null,
      "visibility": null,
      "width": null
     }
    },
    "a06a71743cd044a6bef513fb821e3782": {
     "model_module": "@jupyter-widgets/controls",
     "model_module_version": "1.5.0",
     "model_name": "FloatProgressModel",
     "state": {
      "_dom_classes": [],
      "_model_module": "@jupyter-widgets/controls",
      "_model_module_version": "1.5.0",
      "_model_name": "FloatProgressModel",
      "_view_count": null,
      "_view_module": "@jupyter-widgets/controls",
      "_view_module_version": "1.5.0",
      "_view_name": "ProgressView",
      "bar_style": "success",
      "description": "Downloading: 100%",
      "description_tooltip": null,
      "layout": "IPY_MODEL_d7526510afef4c40b14d966058fa50f8",
      "max": 231508,
      "min": 0,
      "orientation": "horizontal",
      "style": "IPY_MODEL_a70227e28d6a46b08dcf5ef464a8c5b6",
      "value": 231508
     }
    },
    "a3a96c4f2f8643409001cd1faad0cd5a": {
     "model_module": "@jupyter-widgets/controls",
     "model_module_version": "1.5.0",
     "model_name": "HTMLModel",
     "state": {
      "_dom_classes": [],
      "_model_module": "@jupyter-widgets/controls",
      "_model_module_version": "1.5.0",
      "_model_name": "HTMLModel",
      "_view_count": null,
      "_view_module": "@jupyter-widgets/controls",
      "_view_module_version": "1.5.0",
      "_view_name": "HTMLView",
      "description": "",
      "description_tooltip": null,
      "layout": "IPY_MODEL_87de6efa249244dfb79ba304c4722f21",
      "placeholder": "​",
      "style": "IPY_MODEL_8ae80a4260af418cbabedd7cc8607db3",
      "value": " 442M/442M [00:45&lt;00:00, 9.79MB/s]"
     }
    },
    "a5546004bae84e4499571aa037bba364": {
     "model_module": "@jupyter-widgets/controls",
     "model_module_version": "1.5.0",
     "model_name": "HBoxModel",
     "state": {
      "_dom_classes": [],
      "_model_module": "@jupyter-widgets/controls",
      "_model_module_version": "1.5.0",
      "_model_name": "HBoxModel",
      "_view_count": null,
      "_view_module": "@jupyter-widgets/controls",
      "_view_module_version": "1.5.0",
      "_view_name": "HBoxView",
      "box_style": "",
      "children": [
       "IPY_MODEL_bb9ea83c52254db7969ce50f6d230a0c",
       "IPY_MODEL_a3a96c4f2f8643409001cd1faad0cd5a"
      ],
      "layout": "IPY_MODEL_2848d28bb3bb408b99ad776eacc6eb8d"
     }
    },
    "a70227e28d6a46b08dcf5ef464a8c5b6": {
     "model_module": "@jupyter-widgets/controls",
     "model_module_version": "1.5.0",
     "model_name": "ProgressStyleModel",
     "state": {
      "_model_module": "@jupyter-widgets/controls",
      "_model_module_version": "1.5.0",
      "_model_name": "ProgressStyleModel",
      "_view_count": null,
      "_view_module": "@jupyter-widgets/base",
      "_view_module_version": "1.2.0",
      "_view_name": "StyleView",
      "bar_color": null,
      "description_width": "initial"
     }
    },
    "a75cd4d77bda446fa19936b553f642cf": {
     "model_module": "@jupyter-widgets/base",
     "model_module_version": "1.2.0",
     "model_name": "LayoutModel",
     "state": {
      "_model_module": "@jupyter-widgets/base",
      "_model_module_version": "1.2.0",
      "_model_name": "LayoutModel",
      "_view_count": null,
      "_view_module": "@jupyter-widgets/base",
      "_view_module_version": "1.2.0",
      "_view_name": "LayoutView",
      "align_content": null,
      "align_items": null,
      "align_self": null,
      "border": null,
      "bottom": null,
      "display": null,
      "flex": null,
      "flex_flow": null,
      "grid_area": null,
      "grid_auto_columns": null,
      "grid_auto_flow": null,
      "grid_auto_rows": null,
      "grid_column": null,
      "grid_gap": null,
      "grid_row": null,
      "grid_template_areas": null,
      "grid_template_columns": null,
      "grid_template_rows": null,
      "height": null,
      "justify_content": null,
      "justify_items": null,
      "left": null,
      "margin": null,
      "max_height": null,
      "max_width": null,
      "min_height": null,
      "min_width": null,
      "object_fit": null,
      "object_position": null,
      "order": null,
      "overflow": null,
      "overflow_x": null,
      "overflow_y": null,
      "padding": null,
      "right": null,
      "top": null,
      "visibility": null,
      "width": null
     }
    },
    "a9df0c99d70f4a29b32eff7b8986e0db": {
     "model_module": "@jupyter-widgets/controls",
     "model_module_version": "1.5.0",
     "model_name": "DescriptionStyleModel",
     "state": {
      "_model_module": "@jupyter-widgets/controls",
      "_model_module_version": "1.5.0",
      "_model_name": "DescriptionStyleModel",
      "_view_count": null,
      "_view_module": "@jupyter-widgets/base",
      "_view_module_version": "1.2.0",
      "_view_name": "StyleView",
      "description_width": ""
     }
    },
    "b210d8884dac48cba464836f10409697": {
     "model_module": "@jupyter-widgets/controls",
     "model_module_version": "1.5.0",
     "model_name": "HTMLModel",
     "state": {
      "_dom_classes": [],
      "_model_module": "@jupyter-widgets/controls",
      "_model_module_version": "1.5.0",
      "_model_name": "HTMLModel",
      "_view_count": null,
      "_view_module": "@jupyter-widgets/controls",
      "_view_module_version": "1.5.0",
      "_view_name": "HTMLView",
      "description": "",
      "description_tooltip": null,
      "layout": "IPY_MODEL_62ce8840e97f481fa629bfb77467f60d",
      "placeholder": "​",
      "style": "IPY_MODEL_23233e1384e94367b08cd7b347e634a4",
      "value": " 466k/466k [00:02&lt;00:00, 206kB/s]"
     }
    },
    "b491b697d4a242a5993f83e930efbf33": {
     "model_module": "@jupyter-widgets/base",
     "model_module_version": "1.2.0",
     "model_name": "LayoutModel",
     "state": {
      "_model_module": "@jupyter-widgets/base",
      "_model_module_version": "1.2.0",
      "_model_name": "LayoutModel",
      "_view_count": null,
      "_view_module": "@jupyter-widgets/base",
      "_view_module_version": "1.2.0",
      "_view_name": "LayoutView",
      "align_content": null,
      "align_items": null,
      "align_self": null,
      "border": null,
      "bottom": null,
      "display": null,
      "flex": null,
      "flex_flow": null,
      "grid_area": null,
      "grid_auto_columns": null,
      "grid_auto_flow": null,
      "grid_auto_rows": null,
      "grid_column": null,
      "grid_gap": null,
      "grid_row": null,
      "grid_template_areas": null,
      "grid_template_columns": null,
      "grid_template_rows": null,
      "height": null,
      "justify_content": null,
      "justify_items": null,
      "left": null,
      "margin": null,
      "max_height": null,
      "max_width": null,
      "min_height": null,
      "min_width": null,
      "object_fit": null,
      "object_position": null,
      "order": null,
      "overflow": null,
      "overflow_x": null,
      "overflow_y": null,
      "padding": null,
      "right": null,
      "top": null,
      "visibility": null,
      "width": null
     }
    },
    "b8d817e331e64a0784efe993dd879e40": {
     "model_module": "@jupyter-widgets/controls",
     "model_module_version": "1.5.0",
     "model_name": "HTMLModel",
     "state": {
      "_dom_classes": [],
      "_model_module": "@jupyter-widgets/controls",
      "_model_module_version": "1.5.0",
      "_model_name": "HTMLModel",
      "_view_count": null,
      "_view_module": "@jupyter-widgets/controls",
      "_view_module_version": "1.5.0",
      "_view_name": "HTMLView",
      "description": "",
      "description_tooltip": null,
      "layout": "IPY_MODEL_7b51963601344d4297ea69670c2a4a6c",
      "placeholder": "​",
      "style": "IPY_MODEL_a9df0c99d70f4a29b32eff7b8986e0db",
      "value": " 28.0/28.0 [00:01&lt;00:00, 16.9B/s]"
     }
    },
    "b96e44ac62f2468b99a0ee3effcffc6a": {
     "model_module": "@jupyter-widgets/base",
     "model_module_version": "1.2.0",
     "model_name": "LayoutModel",
     "state": {
      "_model_module": "@jupyter-widgets/base",
      "_model_module_version": "1.2.0",
      "_model_name": "LayoutModel",
      "_view_count": null,
      "_view_module": "@jupyter-widgets/base",
      "_view_module_version": "1.2.0",
      "_view_name": "LayoutView",
      "align_content": null,
      "align_items": null,
      "align_self": null,
      "border": null,
      "bottom": null,
      "display": null,
      "flex": null,
      "flex_flow": null,
      "grid_area": null,
      "grid_auto_columns": null,
      "grid_auto_flow": null,
      "grid_auto_rows": null,
      "grid_column": null,
      "grid_gap": null,
      "grid_row": null,
      "grid_template_areas": null,
      "grid_template_columns": null,
      "grid_template_rows": null,
      "height": null,
      "justify_content": null,
      "justify_items": null,
      "left": null,
      "margin": null,
      "max_height": null,
      "max_width": null,
      "min_height": null,
      "min_width": null,
      "object_fit": null,
      "object_position": null,
      "order": null,
      "overflow": null,
      "overflow_x": null,
      "overflow_y": null,
      "padding": null,
      "right": null,
      "top": null,
      "visibility": null,
      "width": null
     }
    },
    "bad06a4f6d994cd38de33bdf31bb5f37": {
     "model_module": "@jupyter-widgets/controls",
     "model_module_version": "1.5.0",
     "model_name": "ProgressStyleModel",
     "state": {
      "_model_module": "@jupyter-widgets/controls",
      "_model_module_version": "1.5.0",
      "_model_name": "ProgressStyleModel",
      "_view_count": null,
      "_view_module": "@jupyter-widgets/base",
      "_view_module_version": "1.2.0",
      "_view_name": "StyleView",
      "bar_color": null,
      "description_width": "initial"
     }
    },
    "bb9ea83c52254db7969ce50f6d230a0c": {
     "model_module": "@jupyter-widgets/controls",
     "model_module_version": "1.5.0",
     "model_name": "FloatProgressModel",
     "state": {
      "_dom_classes": [],
      "_model_module": "@jupyter-widgets/controls",
      "_model_module_version": "1.5.0",
      "_model_name": "FloatProgressModel",
      "_view_count": null,
      "_view_module": "@jupyter-widgets/controls",
      "_view_module_version": "1.5.0",
      "_view_name": "ProgressView",
      "bar_style": "success",
      "description": "Downloading: 100%",
      "description_tooltip": null,
      "layout": "IPY_MODEL_b96e44ac62f2468b99a0ee3effcffc6a",
      "max": 442221694,
      "min": 0,
      "orientation": "horizontal",
      "style": "IPY_MODEL_17b453a024ff409a8da5de011bd33742",
      "value": 442221694
     }
    },
    "bc9be22afaec4e0290048a05dceaecaf": {
     "model_module": "@jupyter-widgets/controls",
     "model_module_version": "1.5.0",
     "model_name": "DescriptionStyleModel",
     "state": {
      "_model_module": "@jupyter-widgets/controls",
      "_model_module_version": "1.5.0",
      "_model_name": "DescriptionStyleModel",
      "_view_count": null,
      "_view_module": "@jupyter-widgets/base",
      "_view_module_version": "1.2.0",
      "_view_name": "StyleView",
      "description_width": ""
     }
    },
    "be0c5a1c861c43acbb3338881e595ad2": {
     "model_module": "@jupyter-widgets/controls",
     "model_module_version": "1.5.0",
     "model_name": "HBoxModel",
     "state": {
      "_dom_classes": [],
      "_model_module": "@jupyter-widgets/controls",
      "_model_module_version": "1.5.0",
      "_model_name": "HBoxModel",
      "_view_count": null,
      "_view_module": "@jupyter-widgets/controls",
      "_view_module_version": "1.5.0",
      "_view_name": "HBoxView",
      "box_style": "",
      "children": [
       "IPY_MODEL_6e74dc5bef9b46ff9ec445eed026989d",
       "IPY_MODEL_853e085ae9a4490a9c78dd9636506631"
      ],
      "layout": "IPY_MODEL_4b14beed61cb495db30697bd3fe7a22e"
     }
    },
    "c2f5d7b76a8b4a06b93695f04eae453a": {
     "model_module": "@jupyter-widgets/base",
     "model_module_version": "1.2.0",
     "model_name": "LayoutModel",
     "state": {
      "_model_module": "@jupyter-widgets/base",
      "_model_module_version": "1.2.0",
      "_model_name": "LayoutModel",
      "_view_count": null,
      "_view_module": "@jupyter-widgets/base",
      "_view_module_version": "1.2.0",
      "_view_name": "LayoutView",
      "align_content": null,
      "align_items": null,
      "align_self": null,
      "border": null,
      "bottom": null,
      "display": null,
      "flex": null,
      "flex_flow": null,
      "grid_area": null,
      "grid_auto_columns": null,
      "grid_auto_flow": null,
      "grid_auto_rows": null,
      "grid_column": null,
      "grid_gap": null,
      "grid_row": null,
      "grid_template_areas": null,
      "grid_template_columns": null,
      "grid_template_rows": null,
      "height": null,
      "justify_content": null,
      "justify_items": null,
      "left": null,
      "margin": null,
      "max_height": null,
      "max_width": null,
      "min_height": null,
      "min_width": null,
      "object_fit": null,
      "object_position": null,
      "order": null,
      "overflow": null,
      "overflow_x": null,
      "overflow_y": null,
      "padding": null,
      "right": null,
      "top": null,
      "visibility": null,
      "width": null
     }
    },
    "c3242c23cced4eebbf4fc59233eb2412": {
     "model_module": "@jupyter-widgets/controls",
     "model_module_version": "1.5.0",
     "model_name": "ProgressStyleModel",
     "state": {
      "_model_module": "@jupyter-widgets/controls",
      "_model_module_version": "1.5.0",
      "_model_name": "ProgressStyleModel",
      "_view_count": null,
      "_view_module": "@jupyter-widgets/base",
      "_view_module_version": "1.2.0",
      "_view_name": "StyleView",
      "bar_color": null,
      "description_width": "initial"
     }
    },
    "c5da03d0f1d6457bad7aa2ff0ebfcffb": {
     "model_module": "@jupyter-widgets/controls",
     "model_module_version": "1.5.0",
     "model_name": "DescriptionStyleModel",
     "state": {
      "_model_module": "@jupyter-widgets/controls",
      "_model_module_version": "1.5.0",
      "_model_name": "DescriptionStyleModel",
      "_view_count": null,
      "_view_module": "@jupyter-widgets/base",
      "_view_module_version": "1.2.0",
      "_view_name": "StyleView",
      "description_width": ""
     }
    },
    "cba1c20035fa42849f5d7bec06fb841f": {
     "model_module": "@jupyter-widgets/base",
     "model_module_version": "1.2.0",
     "model_name": "LayoutModel",
     "state": {
      "_model_module": "@jupyter-widgets/base",
      "_model_module_version": "1.2.0",
      "_model_name": "LayoutModel",
      "_view_count": null,
      "_view_module": "@jupyter-widgets/base",
      "_view_module_version": "1.2.0",
      "_view_name": "LayoutView",
      "align_content": null,
      "align_items": null,
      "align_self": null,
      "border": null,
      "bottom": null,
      "display": null,
      "flex": null,
      "flex_flow": null,
      "grid_area": null,
      "grid_auto_columns": null,
      "grid_auto_flow": null,
      "grid_auto_rows": null,
      "grid_column": null,
      "grid_gap": null,
      "grid_row": null,
      "grid_template_areas": null,
      "grid_template_columns": null,
      "grid_template_rows": null,
      "height": null,
      "justify_content": null,
      "justify_items": null,
      "left": null,
      "margin": null,
      "max_height": null,
      "max_width": null,
      "min_height": null,
      "min_width": null,
      "object_fit": null,
      "object_position": null,
      "order": null,
      "overflow": null,
      "overflow_x": null,
      "overflow_y": null,
      "padding": null,
      "right": null,
      "top": null,
      "visibility": null,
      "width": null
     }
    },
    "cc89cc9340694d3e9a0eebd30c48c049": {
     "model_module": "@jupyter-widgets/controls",
     "model_module_version": "1.5.0",
     "model_name": "DescriptionStyleModel",
     "state": {
      "_model_module": "@jupyter-widgets/controls",
      "_model_module_version": "1.5.0",
      "_model_name": "DescriptionStyleModel",
      "_view_count": null,
      "_view_module": "@jupyter-widgets/base",
      "_view_module_version": "1.2.0",
      "_view_name": "StyleView",
      "description_width": ""
     }
    },
    "cecc56c9949342e09eb8e648582cee8b": {
     "model_module": "@jupyter-widgets/base",
     "model_module_version": "1.2.0",
     "model_name": "LayoutModel",
     "state": {
      "_model_module": "@jupyter-widgets/base",
      "_model_module_version": "1.2.0",
      "_model_name": "LayoutModel",
      "_view_count": null,
      "_view_module": "@jupyter-widgets/base",
      "_view_module_version": "1.2.0",
      "_view_name": "LayoutView",
      "align_content": null,
      "align_items": null,
      "align_self": null,
      "border": null,
      "bottom": null,
      "display": null,
      "flex": null,
      "flex_flow": null,
      "grid_area": null,
      "grid_auto_columns": null,
      "grid_auto_flow": null,
      "grid_auto_rows": null,
      "grid_column": null,
      "grid_gap": null,
      "grid_row": null,
      "grid_template_areas": null,
      "grid_template_columns": null,
      "grid_template_rows": null,
      "height": null,
      "justify_content": null,
      "justify_items": null,
      "left": null,
      "margin": null,
      "max_height": null,
      "max_width": null,
      "min_height": null,
      "min_width": null,
      "object_fit": null,
      "object_position": null,
      "order": null,
      "overflow": null,
      "overflow_x": null,
      "overflow_y": null,
      "padding": null,
      "right": null,
      "top": null,
      "visibility": null,
      "width": null
     }
    },
    "d2c25c1e4610450782ec517d30646c3b": {
     "model_module": "@jupyter-widgets/controls",
     "model_module_version": "1.5.0",
     "model_name": "HBoxModel",
     "state": {
      "_dom_classes": [],
      "_model_module": "@jupyter-widgets/controls",
      "_model_module_version": "1.5.0",
      "_model_name": "HBoxModel",
      "_view_count": null,
      "_view_module": "@jupyter-widgets/controls",
      "_view_module_version": "1.5.0",
      "_view_name": "HBoxView",
      "box_style": "",
      "children": [
       "IPY_MODEL_f3ff432775ed481d96519bf922141609",
       "IPY_MODEL_752c3801ad7340cba273005c48271ab3"
      ],
      "layout": "IPY_MODEL_41f8e55a80184b32a8f4a49c7535b54e"
     }
    },
    "d462e4adb3404e2197539288be73b7b0": {
     "model_module": "@jupyter-widgets/controls",
     "model_module_version": "1.5.0",
     "model_name": "ProgressStyleModel",
     "state": {
      "_model_module": "@jupyter-widgets/controls",
      "_model_module_version": "1.5.0",
      "_model_name": "ProgressStyleModel",
      "_view_count": null,
      "_view_module": "@jupyter-widgets/base",
      "_view_module_version": "1.2.0",
      "_view_name": "StyleView",
      "bar_color": null,
      "description_width": "initial"
     }
    },
    "d7526510afef4c40b14d966058fa50f8": {
     "model_module": "@jupyter-widgets/base",
     "model_module_version": "1.2.0",
     "model_name": "LayoutModel",
     "state": {
      "_model_module": "@jupyter-widgets/base",
      "_model_module_version": "1.2.0",
      "_model_name": "LayoutModel",
      "_view_count": null,
      "_view_module": "@jupyter-widgets/base",
      "_view_module_version": "1.2.0",
      "_view_name": "LayoutView",
      "align_content": null,
      "align_items": null,
      "align_self": null,
      "border": null,
      "bottom": null,
      "display": null,
      "flex": null,
      "flex_flow": null,
      "grid_area": null,
      "grid_auto_columns": null,
      "grid_auto_flow": null,
      "grid_auto_rows": null,
      "grid_column": null,
      "grid_gap": null,
      "grid_row": null,
      "grid_template_areas": null,
      "grid_template_columns": null,
      "grid_template_rows": null,
      "height": null,
      "justify_content": null,
      "justify_items": null,
      "left": null,
      "margin": null,
      "max_height": null,
      "max_width": null,
      "min_height": null,
      "min_width": null,
      "object_fit": null,
      "object_position": null,
      "order": null,
      "overflow": null,
      "overflow_x": null,
      "overflow_y": null,
      "padding": null,
      "right": null,
      "top": null,
      "visibility": null,
      "width": null
     }
    },
    "d8192c9fb5b3407799654303774878a4": {
     "model_module": "@jupyter-widgets/controls",
     "model_module_version": "1.5.0",
     "model_name": "ProgressStyleModel",
     "state": {
      "_model_module": "@jupyter-widgets/controls",
      "_model_module_version": "1.5.0",
      "_model_name": "ProgressStyleModel",
      "_view_count": null,
      "_view_module": "@jupyter-widgets/base",
      "_view_module_version": "1.2.0",
      "_view_name": "StyleView",
      "bar_color": null,
      "description_width": "initial"
     }
    },
    "d987ebfee4fe4ed78701cc400a2a2cf2": {
     "model_module": "@jupyter-widgets/base",
     "model_module_version": "1.2.0",
     "model_name": "LayoutModel",
     "state": {
      "_model_module": "@jupyter-widgets/base",
      "_model_module_version": "1.2.0",
      "_model_name": "LayoutModel",
      "_view_count": null,
      "_view_module": "@jupyter-widgets/base",
      "_view_module_version": "1.2.0",
      "_view_name": "LayoutView",
      "align_content": null,
      "align_items": null,
      "align_self": null,
      "border": null,
      "bottom": null,
      "display": null,
      "flex": null,
      "flex_flow": null,
      "grid_area": null,
      "grid_auto_columns": null,
      "grid_auto_flow": null,
      "grid_auto_rows": null,
      "grid_column": null,
      "grid_gap": null,
      "grid_row": null,
      "grid_template_areas": null,
      "grid_template_columns": null,
      "grid_template_rows": null,
      "height": null,
      "justify_content": null,
      "justify_items": null,
      "left": null,
      "margin": null,
      "max_height": null,
      "max_width": null,
      "min_height": null,
      "min_width": null,
      "object_fit": null,
      "object_position": null,
      "order": null,
      "overflow": null,
      "overflow_x": null,
      "overflow_y": null,
      "padding": null,
      "right": null,
      "top": null,
      "visibility": null,
      "width": null
     }
    },
    "da3a453526bd45c996200f92f60ca8f2": {
     "model_module": "@jupyter-widgets/base",
     "model_module_version": "1.2.0",
     "model_name": "LayoutModel",
     "state": {
      "_model_module": "@jupyter-widgets/base",
      "_model_module_version": "1.2.0",
      "_model_name": "LayoutModel",
      "_view_count": null,
      "_view_module": "@jupyter-widgets/base",
      "_view_module_version": "1.2.0",
      "_view_name": "LayoutView",
      "align_content": null,
      "align_items": null,
      "align_self": null,
      "border": null,
      "bottom": null,
      "display": null,
      "flex": null,
      "flex_flow": null,
      "grid_area": null,
      "grid_auto_columns": null,
      "grid_auto_flow": null,
      "grid_auto_rows": null,
      "grid_column": null,
      "grid_gap": null,
      "grid_row": null,
      "grid_template_areas": null,
      "grid_template_columns": null,
      "grid_template_rows": null,
      "height": null,
      "justify_content": null,
      "justify_items": null,
      "left": null,
      "margin": null,
      "max_height": null,
      "max_width": null,
      "min_height": null,
      "min_width": null,
      "object_fit": null,
      "object_position": null,
      "order": null,
      "overflow": null,
      "overflow_x": null,
      "overflow_y": null,
      "padding": null,
      "right": null,
      "top": null,
      "visibility": null,
      "width": null
     }
    },
    "df5ed7233ea1415280513b30d59f604e": {
     "model_module": "@jupyter-widgets/controls",
     "model_module_version": "1.5.0",
     "model_name": "DescriptionStyleModel",
     "state": {
      "_model_module": "@jupyter-widgets/controls",
      "_model_module_version": "1.5.0",
      "_model_name": "DescriptionStyleModel",
      "_view_count": null,
      "_view_module": "@jupyter-widgets/base",
      "_view_module_version": "1.2.0",
      "_view_name": "StyleView",
      "description_width": ""
     }
    },
    "e625323b57b149ea844dc13b07195496": {
     "model_module": "@jupyter-widgets/base",
     "model_module_version": "1.2.0",
     "model_name": "LayoutModel",
     "state": {
      "_model_module": "@jupyter-widgets/base",
      "_model_module_version": "1.2.0",
      "_model_name": "LayoutModel",
      "_view_count": null,
      "_view_module": "@jupyter-widgets/base",
      "_view_module_version": "1.2.0",
      "_view_name": "LayoutView",
      "align_content": null,
      "align_items": null,
      "align_self": null,
      "border": null,
      "bottom": null,
      "display": null,
      "flex": null,
      "flex_flow": null,
      "grid_area": null,
      "grid_auto_columns": null,
      "grid_auto_flow": null,
      "grid_auto_rows": null,
      "grid_column": null,
      "grid_gap": null,
      "grid_row": null,
      "grid_template_areas": null,
      "grid_template_columns": null,
      "grid_template_rows": null,
      "height": null,
      "justify_content": null,
      "justify_items": null,
      "left": null,
      "margin": null,
      "max_height": null,
      "max_width": null,
      "min_height": null,
      "min_width": null,
      "object_fit": null,
      "object_position": null,
      "order": null,
      "overflow": null,
      "overflow_x": null,
      "overflow_y": null,
      "padding": null,
      "right": null,
      "top": null,
      "visibility": null,
      "width": null
     }
    },
    "e65aa96ce4c44b3fb250726b2229d6f4": {
     "model_module": "@jupyter-widgets/controls",
     "model_module_version": "1.5.0",
     "model_name": "FloatProgressModel",
     "state": {
      "_dom_classes": [],
      "_model_module": "@jupyter-widgets/controls",
      "_model_module_version": "1.5.0",
      "_model_name": "FloatProgressModel",
      "_view_count": null,
      "_view_module": "@jupyter-widgets/controls",
      "_view_module_version": "1.5.0",
      "_view_name": "ProgressView",
      "bar_style": "success",
      "description": "Downloading: 100%",
      "description_tooltip": null,
      "layout": "IPY_MODEL_3512f0d96e7b4e13ae35ae2431475124",
      "max": 385,
      "min": 0,
      "orientation": "horizontal",
      "style": "IPY_MODEL_bad06a4f6d994cd38de33bdf31bb5f37",
      "value": 385
     }
    },
    "e7fe5202fee8496683e3400d18cf32fc": {
     "model_module": "@jupyter-widgets/controls",
     "model_module_version": "1.5.0",
     "model_name": "HBoxModel",
     "state": {
      "_dom_classes": [],
      "_model_module": "@jupyter-widgets/controls",
      "_model_module_version": "1.5.0",
      "_model_name": "HBoxModel",
      "_view_count": null,
      "_view_module": "@jupyter-widgets/controls",
      "_view_module_version": "1.5.0",
      "_view_name": "HBoxView",
      "box_style": "",
      "children": [
       "IPY_MODEL_fe6b2b6dc14b4a65ad995c520bda2259",
       "IPY_MODEL_31a4af7bc4694e12b5d7cf7524117e80"
      ],
      "layout": "IPY_MODEL_ff4c5dc7eda04b5b8c2229463d3799c9"
     }
    },
    "f3ab4cc852cb46d9a95f7ef6a86b5697": {
     "model_module": "@jupyter-widgets/base",
     "model_module_version": "1.2.0",
     "model_name": "LayoutModel",
     "state": {
      "_model_module": "@jupyter-widgets/base",
      "_model_module_version": "1.2.0",
      "_model_name": "LayoutModel",
      "_view_count": null,
      "_view_module": "@jupyter-widgets/base",
      "_view_module_version": "1.2.0",
      "_view_name": "LayoutView",
      "align_content": null,
      "align_items": null,
      "align_self": null,
      "border": null,
      "bottom": null,
      "display": null,
      "flex": null,
      "flex_flow": null,
      "grid_area": null,
      "grid_auto_columns": null,
      "grid_auto_flow": null,
      "grid_auto_rows": null,
      "grid_column": null,
      "grid_gap": null,
      "grid_row": null,
      "grid_template_areas": null,
      "grid_template_columns": null,
      "grid_template_rows": null,
      "height": null,
      "justify_content": null,
      "justify_items": null,
      "left": null,
      "margin": null,
      "max_height": null,
      "max_width": null,
      "min_height": null,
      "min_width": null,
      "object_fit": null,
      "object_position": null,
      "order": null,
      "overflow": null,
      "overflow_x": null,
      "overflow_y": null,
      "padding": null,
      "right": null,
      "top": null,
      "visibility": null,
      "width": null
     }
    },
    "f3ff432775ed481d96519bf922141609": {
     "model_module": "@jupyter-widgets/controls",
     "model_module_version": "1.5.0",
     "model_name": "FloatProgressModel",
     "state": {
      "_dom_classes": [],
      "_model_module": "@jupyter-widgets/controls",
      "_model_module_version": "1.5.0",
      "_model_name": "FloatProgressModel",
      "_view_count": null,
      "_view_module": "@jupyter-widgets/controls",
      "_view_module_version": "1.5.0",
      "_view_name": "ProgressView",
      "bar_style": "success",
      "description": "Downloading: 100%",
      "description_tooltip": null,
      "layout": "IPY_MODEL_40b9a1f47ed045028663e579030b1f50",
      "max": 227845,
      "min": 0,
      "orientation": "horizontal",
      "style": "IPY_MODEL_98b773a1ff0348dd823b7c99c4e399af",
      "value": 227845
     }
    },
    "f6d449864d754cbca499ef888d772d75": {
     "model_module": "@jupyter-widgets/base",
     "model_module_version": "1.2.0",
     "model_name": "LayoutModel",
     "state": {
      "_model_module": "@jupyter-widgets/base",
      "_model_module_version": "1.2.0",
      "_model_name": "LayoutModel",
      "_view_count": null,
      "_view_module": "@jupyter-widgets/base",
      "_view_module_version": "1.2.0",
      "_view_name": "LayoutView",
      "align_content": null,
      "align_items": null,
      "align_self": null,
      "border": null,
      "bottom": null,
      "display": null,
      "flex": null,
      "flex_flow": null,
      "grid_area": null,
      "grid_auto_columns": null,
      "grid_auto_flow": null,
      "grid_auto_rows": null,
      "grid_column": null,
      "grid_gap": null,
      "grid_row": null,
      "grid_template_areas": null,
      "grid_template_columns": null,
      "grid_template_rows": null,
      "height": null,
      "justify_content": null,
      "justify_items": null,
      "left": null,
      "margin": null,
      "max_height": null,
      "max_width": null,
      "min_height": null,
      "min_width": null,
      "object_fit": null,
      "object_position": null,
      "order": null,
      "overflow": null,
      "overflow_x": null,
      "overflow_y": null,
      "padding": null,
      "right": null,
      "top": null,
      "visibility": null,
      "width": null
     }
    },
    "f802cdf742f147de8ad9f04a29624fef": {
     "model_module": "@jupyter-widgets/base",
     "model_module_version": "1.2.0",
     "model_name": "LayoutModel",
     "state": {
      "_model_module": "@jupyter-widgets/base",
      "_model_module_version": "1.2.0",
      "_model_name": "LayoutModel",
      "_view_count": null,
      "_view_module": "@jupyter-widgets/base",
      "_view_module_version": "1.2.0",
      "_view_name": "LayoutView",
      "align_content": null,
      "align_items": null,
      "align_self": null,
      "border": null,
      "bottom": null,
      "display": null,
      "flex": null,
      "flex_flow": null,
      "grid_area": null,
      "grid_auto_columns": null,
      "grid_auto_flow": null,
      "grid_auto_rows": null,
      "grid_column": null,
      "grid_gap": null,
      "grid_row": null,
      "grid_template_areas": null,
      "grid_template_columns": null,
      "grid_template_rows": null,
      "height": null,
      "justify_content": null,
      "justify_items": null,
      "left": null,
      "margin": null,
      "max_height": null,
      "max_width": null,
      "min_height": null,
      "min_width": null,
      "object_fit": null,
      "object_position": null,
      "order": null,
      "overflow": null,
      "overflow_x": null,
      "overflow_y": null,
      "padding": null,
      "right": null,
      "top": null,
      "visibility": null,
      "width": null
     }
    },
    "faaa1c2605d4411b99adc82a61529a82": {
     "model_module": "@jupyter-widgets/controls",
     "model_module_version": "1.5.0",
     "model_name": "DescriptionStyleModel",
     "state": {
      "_model_module": "@jupyter-widgets/controls",
      "_model_module_version": "1.5.0",
      "_model_name": "DescriptionStyleModel",
      "_view_count": null,
      "_view_module": "@jupyter-widgets/base",
      "_view_module_version": "1.2.0",
      "_view_name": "StyleView",
      "description_width": ""
     }
    },
    "fe6b2b6dc14b4a65ad995c520bda2259": {
     "model_module": "@jupyter-widgets/controls",
     "model_module_version": "1.5.0",
     "model_name": "FloatProgressModel",
     "state": {
      "_dom_classes": [],
      "_model_module": "@jupyter-widgets/controls",
      "_model_module_version": "1.5.0",
      "_model_name": "FloatProgressModel",
      "_view_count": null,
      "_view_module": "@jupyter-widgets/controls",
      "_view_module_version": "1.5.0",
      "_view_name": "ProgressView",
      "bar_style": "success",
      "description": "Downloading: 100%",
      "description_tooltip": null,
      "layout": "IPY_MODEL_3fe3d4b88db149089181bcbe8d5ef4af",
      "max": 363423424,
      "min": 0,
      "orientation": "horizontal",
      "style": "IPY_MODEL_d8192c9fb5b3407799654303774878a4",
      "value": 363423424
     }
    },
    "ff4c5dc7eda04b5b8c2229463d3799c9": {
     "model_module": "@jupyter-widgets/base",
     "model_module_version": "1.2.0",
     "model_name": "LayoutModel",
     "state": {
      "_model_module": "@jupyter-widgets/base",
      "_model_module_version": "1.2.0",
      "_model_name": "LayoutModel",
      "_view_count": null,
      "_view_module": "@jupyter-widgets/base",
      "_view_module_version": "1.2.0",
      "_view_name": "LayoutView",
      "align_content": null,
      "align_items": null,
      "align_self": null,
      "border": null,
      "bottom": null,
      "display": null,
      "flex": null,
      "flex_flow": null,
      "grid_area": null,
      "grid_auto_columns": null,
      "grid_auto_flow": null,
      "grid_auto_rows": null,
      "grid_column": null,
      "grid_gap": null,
      "grid_row": null,
      "grid_template_areas": null,
      "grid_template_columns": null,
      "grid_template_rows": null,
      "height": null,
      "justify_content": null,
      "justify_items": null,
      "left": null,
      "margin": null,
      "max_height": null,
      "max_width": null,
      "min_height": null,
      "min_width": null,
      "object_fit": null,
      "object_position": null,
      "order": null,
      "overflow": null,
      "overflow_x": null,
      "overflow_y": null,
      "padding": null,
      "right": null,
      "top": null,
      "visibility": null,
      "width": null
     }
    }
   }
  }
 },
 "nbformat": 4,
 "nbformat_minor": 4
}
