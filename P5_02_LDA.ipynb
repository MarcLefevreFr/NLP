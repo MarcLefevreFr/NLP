{
 "cells": [
  {
   "cell_type": "markdown",
   "metadata": {},
   "source": [
    "Formation OpenClassrooms DS-IML - **Marc Lefèvre**, <marc.lefevre@noos.fr>"
   ]
  },
  {
   "cell_type": "markdown",
   "metadata": {},
   "source": [
    " "
   ]
  },
  {
   "cell_type": "markdown",
   "metadata": {},
   "source": [
    " "
   ]
  },
  {
   "cell_type": "markdown",
   "metadata": {},
   "source": [
    "# **Projet 5 : Catégorisation de questions Stack Overflow**"
   ]
  },
  {
   "cell_type": "markdown",
   "metadata": {},
   "source": [
    " "
   ]
  },
  {
   "cell_type": "markdown",
   "metadata": {},
   "source": [
    " "
   ]
  },
  {
   "cell_type": "markdown",
   "metadata": {},
   "source": [
    "## **2ème partie : LDA - Approches non supervisées et mixtes**"
   ]
  },
  {
   "cell_type": "markdown",
   "metadata": {},
   "source": [
    " "
   ]
  },
  {
   "cell_type": "markdown",
   "metadata": {},
   "source": [
    "Dans cette seconde partie, nous allons travailler autour du procédé appelé **Latent Dirichlet Allocation** (LDA).<br><br>Nous verrons si son utilisation en tant qu'outils **d'extraction de thèmes** pourrait constituer une approche **100% non-supervisée** satisfaisante dans le cadre de notre projet.<br><br>Nous verrons ensuite quels résultats la **LDA**, prise cette fois comme procédé de **feature engineering** ou de **réduction dimensionnelle**, nous permet d'ontenir."
   ]
  },
  {
   "cell_type": "markdown",
   "metadata": {},
   "source": [
    " "
   ]
  },
  {
   "cell_type": "markdown",
   "metadata": {},
   "source": [
    "## **Opérations préliminaires**"
   ]
  },
  {
   "cell_type": "markdown",
   "metadata": {},
   "source": [
    "### **Importation des bibliothèques python utiles**"
   ]
  },
  {
   "cell_type": "code",
   "execution_count": 37,
   "metadata": {},
   "outputs": [],
   "source": [
    "import pandas as pd\n",
    "import pickle\n",
    "import spacy\n",
    "import re\n",
    "import numpy as np\n",
    "import matplotlib.pyplot as plt\n",
    "import seaborn as sns\n",
    "import warnings\n",
    "import xgboost as xgb\n",
    "import nltk\n",
    "\n",
    "from sklearn.ensemble import RandomForestClassifier\n",
    "from sklearn.naive_bayes import GaussianNB\n",
    "from sklearn.linear_model import LogisticRegression\n",
    "from sklearn.preprocessing import StandardScaler\n",
    "from sklearn.feature_extraction.text import TfidfVectorizer, CountVectorizer\n",
    "from sklearn.decomposition import LatentDirichletAllocation\n",
    "from sklearn.metrics import f1_score, classification_report, multilabel_confusion_matrix, accuracy_score\n",
    "from sklearn.model_selection import GridSearchCV, cross_val_predict, cross_validate, cross_val_score, learning_curve\n",
    "\n",
    "from time import time\n",
    "\n",
    "from scipy import sparse\n",
    "\n",
    "from bayes_opt import BayesianOptimization\n",
    "\n",
    "from skmultilearn.problem_transform import BinaryRelevance\n",
    "\n",
    "from nltk.stem.snowball import SnowballStemmer\n",
    "\n",
    "# Ignorance de certains avertissements\n",
    "warnings.filterwarnings('ignore')\n",
    "warnings.simplefilter('ignore')"
   ]
  },
  {
   "cell_type": "markdown",
   "metadata": {},
   "source": [
    " "
   ]
  },
  {
   "cell_type": "markdown",
   "metadata": {},
   "source": [
    "### **Echantillonage Train/Test**"
   ]
  },
  {
   "cell_type": "code",
   "execution_count": 7,
   "metadata": {},
   "outputs": [],
   "source": [
    "feat = pickle.load(open(\"Data/X.pickle\", \"rb\"))\n",
    "targ = pickle.load(open(\"Data/y.pickle\", \"rb\"))"
   ]
  },
  {
   "cell_type": "code",
   "execution_count": 8,
   "metadata": {},
   "outputs": [],
   "source": [
    "feat_train = feat[:20000]\n",
    "feat_test = feat[20000:]\n",
    "\n",
    "targ_train = targ[:20000]\n",
    "targ_test = targ[20000:]"
   ]
  },
  {
   "cell_type": "markdown",
   "metadata": {},
   "source": [
    "### **Chargement de SpaCy**"
   ]
  },
  {
   "cell_type": "code",
   "execution_count": 24,
   "metadata": {},
   "outputs": [],
   "source": [
    "nlp = spacy.load(\"en\")\n",
    "\n",
    "# On enlève le caractère \"#\" de la liste des suffixes afin que le tokenizer spacy\n",
    "# ne s'en serve pas pour diviser un monogramme\n",
    "suffixes = list(nlp.Defaults.suffixes)\n",
    "suffixes.remove(\"#\")\n",
    "suffix_regex = spacy.util.compile_suffix_regex(suffixes)\n",
    "nlp.tokenizer.suffix_search = suffix_regex.search"
   ]
  },
  {
   "cell_type": "markdown",
   "metadata": {},
   "source": [
    "### **Paramètre LDA**"
   ]
  },
  {
   "cell_type": "code",
   "execution_count": null,
   "metadata": {},
   "outputs": [],
   "source": [
    "NB_SUJETS = 25"
   ]
  },
  {
   "cell_type": "markdown",
   "metadata": {},
   "source": [
    " "
   ]
  },
  {
   "cell_type": "markdown",
   "metadata": {},
   "source": [
    "### **Définitions de fonctions utiles :**"
   ]
  },
  {
   "cell_type": "markdown",
   "metadata": {},
   "source": [
    "### **Outils de nettoyage du corpus**"
   ]
  },
  {
   "cell_type": "markdown",
   "metadata": {},
   "source": [
    "**Fonction de nettoyage**"
   ]
  },
  {
   "cell_type": "code",
   "execution_count": 26,
   "metadata": {},
   "outputs": [],
   "source": [
    "def clean_text(texte):\n",
    "    \n",
    "    char_gardes = r'[^a-z#+.\\s]'\n",
    "    return re.sub(char_gardes, '', texte) "
   ]
  },
  {
   "cell_type": "markdown",
   "metadata": {},
   "source": [
    "**Fonction de suppression des stopwords / verbes renvoyant les données sous forme de texte ou \"bag-of-words\"**"
   ]
  },
  {
   "cell_type": "code",
   "execution_count": 27,
   "metadata": {},
   "outputs": [],
   "source": [
    "def remove_sw(texte, return_verbs, return_token):\n",
    "    \n",
    "    doc = nlp(texte)\n",
    "    \n",
    "    if return_verbs :\n",
    "    \n",
    "        tokens = [token for token in doc if \\\n",
    "                  token.is_stop == False and token.is_punct == False\\\n",
    "                  and token.is_space == False\n",
    "                 ]\n",
    "    \n",
    "    else :\n",
    "        \n",
    "        tokens = [token for token in doc if \\\n",
    "                  token.is_stop == False and token.is_punct == False\\\n",
    "                  and token.pos_ != \"VERB\"\\\n",
    "                  and token.is_space == False\n",
    "                 ]\n",
    "    \n",
    "    if return_token :\n",
    "        \n",
    "        return tokens\n",
    "    \n",
    "    txt = \"\"\n",
    "    \n",
    "    for t in tokens :\n",
    "        \n",
    "        txt = txt + \" \" + t.text\n",
    "        txt = txt.lstrip()\n",
    "        \n",
    "    return txt"
   ]
  },
  {
   "cell_type": "markdown",
   "metadata": {},
   "source": [
    "**Pipeline de nettoyage**"
   ]
  },
  {
   "cell_type": "code",
   "execution_count": 28,
   "metadata": {},
   "outputs": [],
   "source": [
    "# Fonction \"pipeline\" regroupant les deux fonctions précédentes.\n",
    "def pipe_clsw(texte, return_verbs = True, return_token = True):\n",
    "    \"\"\"\n",
    "    Nettoye et enlève les SW d'un text/str et retourne une liste de tokens.\n",
    "    Par défaut : \n",
    "    - On garde les verbe. Si False on les élimine du résultat.\n",
    "    - On retourne une liste de token. Si False on retourne une str des tokens.\n",
    "    \"\"\"\n",
    "    \n",
    "    res = remove_sw(clean_text(texte), return_verbs, return_token)\n",
    "    \n",
    "    return res"
   ]
  },
  {
   "cell_type": "markdown",
   "metadata": {},
   "source": [
    " "
   ]
  },
  {
   "cell_type": "markdown",
   "metadata": {},
   "source": [
    "### **Démonstration de ces outils**"
   ]
  },
  {
   "cell_type": "code",
   "execution_count": 29,
   "metadata": {},
   "outputs": [
    {
     "data": {
      "text/plain": [
       "\"flutter animated container i have a raisedbutton widget and an animatedcontainer widget in a screen, and the idea is that upon pressing the raisedbutton the width of the animatedcontainer would then decrease in a given duration. the documentation of the animatedcontainer states that all i would need to do is declare the width of the widget as a variable, and then setstate(() {}) after changing the value and it will automatically change to that value during the duration. i have tried to implement this and upon pressing the raisedbutton the variables value definitely changes (based on printing the value of it after pressing it), however the widget's width does not change with it. am i missing something obvious? my widgets are within a container in a pageview and my code for the raisedbutton and animatedcontainer is as follows: here is my widget tree:\""
      ]
     },
     "execution_count": 29,
     "metadata": {},
     "output_type": "execute_result"
    }
   ],
   "source": [
    "# texte original\n",
    "feat_train[250]"
   ]
  },
  {
   "cell_type": "code",
   "execution_count": 31,
   "metadata": {},
   "outputs": [
    {
     "name": "stdout",
     "output_type": "stream",
     "text": [
      "[flutter, animated, container, raisedbutton, widget, animatedcontainer, widget, screen, idea, pressing, raisedbutton, width, animatedcontainer, decrease, given, duration, documentation, animatedcontainer, states, need, declare, width, widget, variable, setstate, changing, value, automatically, change, value, duration, tried, implement, pressing, raisedbutton, variables, value, definitely, changes, based, printing, value, pressing, widgets, width, change, missing, obvious, widgets, container, pageview, code, raisedbutton, animatedcontainer, follows, widget, tree]\n"
     ]
    }
   ],
   "source": [
    "# filtrage SW sous forme \"tokenisée\"...\n",
    "res = pipe_clsw(feat_train[250])\n",
    "print(res)"
   ]
  },
  {
   "cell_type": "code",
   "execution_count": 32,
   "metadata": {},
   "outputs": [
    {
     "data": {
      "text/plain": [
       "'flutter container raisedbutton widget animatedcontainer widget screen idea raisedbutton width animatedcontainer duration documentation animatedcontainer width widget variable setstate value automatically value duration raisedbutton variables value definitely changes value widgets width obvious widgets container pageview code raisedbutton animatedcontainer widget tree'"
      ]
     },
     "execution_count": 32,
     "metadata": {},
     "output_type": "execute_result"
    }
   ],
   "source": [
    "# filtrage SW et formes verbales sous forme de texte...\n",
    "res = pipe_clsw(feat_train[250], False, False)\n",
    "res"
   ]
  },
  {
   "cell_type": "markdown",
   "metadata": {},
   "source": [
    " "
   ]
  },
  {
   "cell_type": "markdown",
   "metadata": {},
   "source": [
    " "
   ]
  },
  {
   "cell_type": "markdown",
   "metadata": {},
   "source": [
    "# **1-) Approches LDA non-supervisées**"
   ]
  },
  {
   "cell_type": "markdown",
   "metadata": {},
   "source": [
    " "
   ]
  },
  {
   "cell_type": "markdown",
   "metadata": {},
   "source": [
    "## **A) LDA avec CountVectorizer**"
   ]
  },
  {
   "cell_type": "markdown",
   "metadata": {},
   "source": [
    "Nous allons utiliser la **LDA** (Latent Dirichlet Allocation) sur notre corpus de texte en vue d'en extraire des thèmes, et voir si ce procéder est utilisable au vu de notre objectif.<br>Dans ce but il nous faut d'abord nettoyer nos données puis les vectoriser.<br>Nous utiliserons une vectorisation sur la fréquence des termes avec **CountVectorizer**."
   ]
  },
  {
   "cell_type": "markdown",
   "metadata": {},
   "source": [
    " "
   ]
  },
  {
   "cell_type": "markdown",
   "metadata": {},
   "source": [
    "### **Filtrage SW et verbes**"
   ]
  },
  {
   "cell_type": "markdown",
   "metadata": {},
   "source": [
    "Dans le cadre de notre approche **d'extraction thématique** par **LDA** nous estimons que ni les **stop words** ni les **formes verbales** ne sont des éléments pertinents à garder dans notre corpus. Nous utilisons nos fonctions en conséquence."
   ]
  },
  {
   "cell_type": "code",
   "execution_count": 34,
   "metadata": {},
   "outputs": [
    {
     "name": "stdout",
     "output_type": "stream",
     "text": [
      "Ce travail de nettoyage a pris 418 secondes.\n"
     ]
    }
   ],
   "source": [
    "now = time()\n",
    "feat_train_clean_nv = [pipe_clsw(t, False, False) for t in feat_train]\n",
    "feat_test_clean_nv = [pipe_clsw(t, False, False) for t in feat_test]\n",
    "print(f\"Ce travail de nettoyage a pris {time() - now:.0f} secondes.\")"
   ]
  },
  {
   "cell_type": "code",
   "execution_count": 35,
   "metadata": {
    "jupyter": {
     "source_hidden": true
    }
   },
   "outputs": [],
   "source": [
    "pickle_out = open(\"Data/feat_train_clean_nv.pickle\", \"wb\")\n",
    "pickle.dump(feat_train_clean_nv, pickle_out)\n",
    "pickle_out.close()\n",
    "\n",
    "pickle_out = open(\"Data/feat_test_clean_nv.pickle\", \"wb\")\n",
    "pickle.dump(feat_test_clean_nv, pickle_out)\n",
    "pickle_out.close()"
   ]
  },
  {
   "cell_type": "markdown",
   "metadata": {},
   "source": [
    " "
   ]
  },
  {
   "cell_type": "markdown",
   "metadata": {},
   "source": [
    "### **Vectorisation avec CountVectorizer**"
   ]
  },
  {
   "cell_type": "markdown",
   "metadata": {},
   "source": [
    "Procédons à la vectorisation **term frequency** avec **CountVectiruzer**.<br>Le tokenizer utilisé par CountVectorizer va opérer des séparations indésirables dans notre cas. On utilise donc à la place un tokenizer \"neutre\" qui ne fonctionnera qu'avec les \"espaces\" et préservera des expressions importantes que nous souhaitons garder."
   ]
  },
  {
   "cell_type": "code",
   "execution_count": 2,
   "metadata": {
    "jupyter": {
     "source_hidden": true
    }
   },
   "outputs": [],
   "source": [
    "feat_train_clean_nv = pickle.load(open(\"Data/feat_train_clean_nv.pickle\", \"rb\"))"
   ]
  },
  {
   "cell_type": "code",
   "execution_count": 3,
   "metadata": {},
   "outputs": [
    {
     "data": {
      "text/plain": [
       "CountVectorizer(max_df=0.5, min_df=10,\n",
       "                tokenizer=<function neutral_tokenizer at 0x000000000EC20B80>)"
      ]
     },
     "execution_count": 3,
     "metadata": {},
     "output_type": "execute_result"
    }
   ],
   "source": [
    "# bypass du tokenizer natif (cas \"node.js\"...) et remplacement par un tokenizer \"neutre\"\n",
    "def neutral_tokenizer(tokens):\n",
    "    \n",
    "    return tokens.split(\" \")\n",
    "\n",
    "tf_vect = CountVectorizer(max_df = 0.50, min_df = 10, tokenizer = neutral_tokenizer)\n",
    "tf_vect.fit(feat_train_clean_nv)"
   ]
  },
  {
   "cell_type": "code",
   "execution_count": 4,
   "metadata": {},
   "outputs": [
    {
     "data": {
      "text/plain": [
       "(20000, 3514)"
      ]
     },
     "execution_count": 4,
     "metadata": {},
     "output_type": "execute_result"
    }
   ],
   "source": [
    "feat_train_clean_nv_vect = tf_vect.transform(feat_train_clean_nv)\n",
    "feat_train_clean_nv_vect.shape"
   ]
  },
  {
   "cell_type": "markdown",
   "metadata": {},
   "source": [
    "### **Utilisation de la LDA**"
   ]
  },
  {
   "cell_type": "code",
   "execution_count": 8,
   "metadata": {},
   "outputs": [],
   "source": [
    "lda_tf = LatentDirichletAllocation(n_components = NB_SUJETS, \n",
    "                                max_iter = 5,\n",
    "                                learning_method = \"online\",\n",
    "                                learning_offset = 50., \n",
    "                                random_state = 47)"
   ]
  },
  {
   "cell_type": "code",
   "execution_count": 40,
   "metadata": {},
   "outputs": [
    {
     "name": "stdout",
     "output_type": "stream",
     "text": [
      "L'entrainement de la LDA a mis : 23 secondes.\n"
     ]
    }
   ],
   "source": [
    "start = time()\n",
    "lda_tf.fit(feat_train_clean_nv_vect)\n",
    "print(f\"L'entrainement de la LDA a mis : {time() - start:.0f} secondes.\")"
   ]
  },
  {
   "cell_type": "markdown",
   "metadata": {},
   "source": [
    "**Fonctions utiles à l'exploitation de la LDA.**"
   ]
  },
  {
   "cell_type": "code",
   "execution_count": 41,
   "metadata": {},
   "outputs": [],
   "source": [
    "# Fonction affichant les \"n\" termes les plus représentatifs des thèmes trouvés par la LDA.\n",
    "def montrer_sujets(model, feature_names, n) :\n",
    "    \n",
    "    for sujet_idx, sujet in enumerate(model.components_):\n",
    "        print(f\"topic numéro {sujet_idx} :\")\n",
    "        print(\" \".join(feature_names[i] for i in sujet.argsort()[: -n -1:-1]))\n",
    "        print(\"----------------------------------\")\n",
    "\n",
    "# Fonction retournant le terme le plus représentatif de chaque thème trouvé par LDA.        \n",
    "def retourne_tags(model, feature_names) :\n",
    "    \n",
    "    liste = []\n",
    "    \n",
    "    for sujet_idx, sujet in enumerate(model.components_):\n",
    "        # print(f\"topic numéro {sujet_idx} :\")\n",
    "        \n",
    "        liste.append(feature_names[sujet.argmax()])\n",
    "        \n",
    "    return liste"
   ]
  },
  {
   "cell_type": "markdown",
   "metadata": {},
   "source": [
    "Thèmes extraits représentés par leurs termes les plus représentatifs :"
   ]
  },
  {
   "cell_type": "code",
   "execution_count": 42,
   "metadata": {},
   "outputs": [
    {
     "name": "stdout",
     "output_type": "stream",
     "text": [
      "topic numéro 0 :\n",
      "key model password ubuntu invalid tensorflow item certificate default ssl\n",
      "----------------------------------\n",
      "topic numéro 1 :\n",
      "android app error project studio build nt gradle ios xcode\n",
      "----------------------------------\n",
      "topic numéro 2 :\n",
      "java class typescript project error d library code package jar\n",
      "----------------------------------\n",
      "topic numéro 3 :\n",
      "server error request docker service nt response http container connection\n",
      "----------------------------------\n",
      "topic numéro 4 :\n",
      "table column data values number columns row dataframe + value\n",
      "----------------------------------\n",
      "topic numéro 5 :\n",
      "angular input html form component nt field css value code\n",
      "----------------------------------\n",
      "topic numéro 6 :\n",
      "button spring text bootstrap event script application jquery boot code\n",
      "----------------------------------\n",
      "topic numéro 7 :\n",
      "react multiple state api inside component true like native classes\n",
      "----------------------------------\n",
      "topic numéro 8 :\n",
      "error code type function database nt laravel value pandas exception\n",
      "----------------------------------\n",
      "topic numéro 9 :\n",
      "list nt way like code question example method null array\n",
      "----------------------------------\n",
      "topic numéro 10 :\n",
      "version error php project latest v update node command versions\n",
      "----------------------------------\n",
      "topic numéro 11 :\n",
      "string date time format way like query parameters e.g. base\n",
      "----------------------------------\n",
      "topic numéro 12 :\n",
      "python error module pip import nt package code script command\n",
      "----------------------------------\n",
      "topic numéro 13 :\n",
      "div difference size width height text px flutter layout space\n",
      "----------------------------------\n",
      "topic numéro 14 :\n",
      "google firebase jenkins permission notification job pipeline step storage cloud\n",
      "----------------------------------\n",
      "topic numéro 15 :\n",
      "image view swift images color background custom code icon nt\n",
      "----------------------------------\n",
      "topic numéro 16 :\n",
      "variable environment variables notebook jupyter django selenium random global driver\n",
      "----------------------------------\n",
      "topic numéro 17 :\n",
      "user method core asp.net api token users access kotlin mvc\n",
      "----------------------------------\n",
      "topic numéro 18 :\n",
      "object data json array property element javascript undefined objects value\n",
      "----------------------------------\n",
      "topic numéro 19 :\n",
      "page nt code screen url header app bar right new\n",
      "----------------------------------\n",
      "topic numéro 20 :\n",
      "git mysql repository github local changes branch webpack nt remote\n",
      "----------------------------------\n",
      "topic numéro 21 :\n",
      "test component warning attribute child parent nt tests message route\n",
      "----------------------------------\n",
      "topic numéro 22 :\n",
      "windows command option program machine s c static system bash\n",
      "----------------------------------\n",
      "topic numéro 23 :\n",
      "file files line code visual studio folder directory project nt\n",
      "----------------------------------\n",
      "topic numéro 24 :\n",
      "function npm start x y functions numpy unknown package.json ionic\n",
      "----------------------------------\n"
     ]
    }
   ],
   "source": [
    "montrer_sujets(lda_tf, tf_vect.get_feature_names(), 10)"
   ]
  },
  {
   "cell_type": "markdown",
   "metadata": {},
   "source": [
    "**Critique :**<br>La pertinence des thèmes extraits, illustrés par leurs listes de mots les plus représentatifs, semble inégale. On en identifie parfaitement certains, beaucoup moins d'autres. Toute fois, la qualité pourrait probablement être améliorée en jouant sur les paramètres des outils utilisés pour arriver à ce résultat."
   ]
  },
  {
   "cell_type": "markdown",
   "metadata": {},
   "source": [
    "Extraction de la liste des meilleurs mots pouvant servir de tags..."
   ]
  },
  {
   "cell_type": "code",
   "execution_count": 43,
   "metadata": {},
   "outputs": [
    {
     "name": "stdout",
     "output_type": "stream",
     "text": [
      "['key', 'android', 'java', 'server', 'table', 'angular', 'button', 'react', 'error', 'list', 'version', 'string', 'python', 'div', 'google', 'image', 'variable', 'user', 'object', 'page', 'git', 'test', 'windows', 'file', 'function']\n"
     ]
    }
   ],
   "source": [
    "liste_tags_lda_tf = retourne_tags(lda_tf, tf_vect.get_feature_names())\n",
    "print(liste_tags_lda_tf)"
   ]
  },
  {
   "cell_type": "markdown",
   "metadata": {},
   "source": [
    "**Critique :**<br>Si certains termes pourraient parfaitement constituer de bons tags ('python, java, etc...), ce n'est pas le cas d'autres, plus vagues ou génériques (user, error, file, etc.).<br><br>Néanmoins, continuons notre démarche..."
   ]
  },
  {
   "cell_type": "markdown",
   "metadata": {},
   "source": [
    "**Modélisation de notre corpus par LDA**"
   ]
  },
  {
   "cell_type": "code",
   "execution_count": 44,
   "metadata": {},
   "outputs": [
    {
     "data": {
      "text/plain": [
       "(20000, 25)"
      ]
     },
     "execution_count": 44,
     "metadata": {},
     "output_type": "execute_result"
    }
   ],
   "source": [
    "topic_score_tf = lda_tf.transform(feat_train_clean_nv_vect)\n",
    "\n",
    "# sauvegarde\n",
    "pickle_out = open(\"Data/topic_score_tf.pickle\", \"wb\")\n",
    "pickle.dump(topic_score_tf, pickle_out)\n",
    "pickle_out.close()\n",
    "\n",
    "topic_score_tf.shape"
   ]
  },
  {
   "cell_type": "markdown",
   "metadata": {},
   "source": [
    "Nous pouvons extraire les topics principaux attribués à chaque question..."
   ]
  },
  {
   "cell_type": "code",
   "execution_count": 45,
   "metadata": {},
   "outputs": [
    {
     "data": {
      "text/plain": [
       "array([22,  9,  8, ...,  7, 11, 10], dtype=int64)"
      ]
     },
     "execution_count": 45,
     "metadata": {},
     "output_type": "execute_result"
    }
   ],
   "source": [
    "topic_predicted_tf = np.argmax(topic_score_tf, axis = 1)\n",
    "topic_predicted_tf"
   ]
  },
  {
   "cell_type": "markdown",
   "metadata": {},
   "source": [
    "...et au passage observer leur distribution."
   ]
  },
  {
   "cell_type": "code",
   "execution_count": 46,
   "metadata": {},
   "outputs": [
    {
     "data": {
      "image/png": "[encoded data removed]",
      "text/plain": [
       "<Figure size 864x288 with 1 Axes>"
      ]
     },
     "metadata": {
      "needs_background": "light"
     },
     "output_type": "display_data"
    }
   ],
   "source": [
    "topics_predits = pd.Series([liste_tags_lda_tf[n] for n in topic_predicted_tf])\n",
    "\n",
    "fig = plt.figure(figsize = (12, 4))\n",
    "sns.countplot(topics_predits, \n",
    "              alpha = 0.8, \n",
    "              order = topics_predits.value_counts().index)\n",
    "plt.xticks(rotation = 75)\n",
    "plt.title(\"Distribution des topics\")\n",
    "\n",
    "plt.show()"
   ]
  },
  {
   "cell_type": "markdown",
   "metadata": {},
   "source": [
    "### **Comparaison *tags originaux* vs *tags LDA***"
   ]
  },
  {
   "cell_type": "code",
   "execution_count": 47,
   "metadata": {},
   "outputs": [
    {
     "name": "stdout",
     "output_type": "stream",
     "text": [
      "['key', 'android', 'java', 'server', 'table', 'angular', 'button', 'react', 'error', 'list', 'version', 'string', 'python', 'div', 'google', 'image', 'variable', 'user', 'object', 'page', 'git', 'test', 'windows', 'file', 'function']\n"
     ]
    }
   ],
   "source": [
    "print(liste_tags_lda_tf)"
   ]
  },
  {
   "cell_type": "code",
   "execution_count": 48,
   "metadata": {},
   "outputs": [
    {
     "name": "stdout",
     "output_type": "stream",
     "text": [
      "['android', 'angular', 'asp.net', 'c#', 'css', 'docker', 'flutter', 'google', 'html', 'ios', 'java', 'javascript', 'jquery', 'laravel', 'misc', 'node.js', 'pandas', 'php', 'python', 'react', 'spring', 'sql', 'swift', 'typescript', 'visual']\n"
     ]
    }
   ],
   "source": [
    "vect_y = CountVectorizer(tokenizer = neutral_tokenizer).fit(targ_train)\n",
    "liste_tags_reels = vect_y.get_feature_names()\n",
    "print(liste_tags_reels)"
   ]
  },
  {
   "cell_type": "markdown",
   "metadata": {},
   "source": [
    "Eléments communs :"
   ]
  },
  {
   "cell_type": "code",
   "execution_count": 49,
   "metadata": {},
   "outputs": [
    {
     "name": "stdout",
     "output_type": "stream",
     "text": [
      "['angular', 'python', 'react', 'java', 'android', 'google'] 6\n"
     ]
    }
   ],
   "source": [
    "common = list(set(liste_tags_lda_tf).intersection(liste_tags_reels))\n",
    "print(common, len(common))"
   ]
  },
  {
   "cell_type": "markdown",
   "metadata": {},
   "source": [
    "**Critique :**<br>Il n'y a que 6 tags en commun, cette démarche est caduque."
   ]
  },
  {
   "cell_type": "markdown",
   "metadata": {},
   "source": [
    "### **Nombre de tags par question**"
   ]
  },
  {
   "cell_type": "markdown",
   "metadata": {},
   "source": [
    "Par ailleurs, avec ce procédé se poserait aussi la question des tags multiples. Comment, à partir d'une LDA, assigner plusieurs tags à une question ?<br><br>La façon de faire la plus pertinente serait d'utiliser une logique de seuil en fonction des **topic scores** des questions. On peut donc regarder s'il y a un rapport éventuel entre le nombre de tags à prévoir pour chaque question et les **topic score** prédits par le modèle."
   ]
  },
  {
   "cell_type": "code",
   "execution_count": 50,
   "metadata": {},
   "outputs": [
    {
     "data": {
      "text/plain": [
       "[1, 2, 1, 1, 1, 1, 1, 2, 1, 1]"
      ]
     },
     "execution_count": 50,
     "metadata": {},
     "output_type": "execute_result"
    }
   ],
   "source": [
    "# Liste du nombre de tags à prédire de y_train\n",
    "len_y = []\n",
    "\n",
    "for s in targ_train :\n",
    "    len_y.append(len(s.split()))\n",
    "    \n",
    "len_y[:10]"
   ]
  },
  {
   "cell_type": "markdown",
   "metadata": {},
   "source": [
    "Regardons à quels **topic score** correspondent les n-ièmes tags cibles pour chaque question (pour les 10 premières questions...)"
   ]
  },
  {
   "cell_type": "code",
   "execution_count": 51,
   "metadata": {},
   "outputs": [
    {
     "name": "stdout",
     "output_type": "stream",
     "text": [
      "0.46646252558849827\n",
      "0.22611822660618838\n",
      "0.5684443910404374\n",
      "0.593549977635679\n",
      "0.9244720413047791\n",
      "0.4593838749670163\n",
      "0.8484983494778513\n",
      "0.3920191526857461\n",
      "0.3749909382663318\n",
      "0.39248949938541083\n"
     ]
    }
   ],
   "source": [
    "seuils_topic_score = []\n",
    "\n",
    "for i, n in zip(topic_score_tf[:10], len_y[:10]) :\n",
    "    ar = np.sort(i)\n",
    "    print(ar[-n])   "
   ]
  },
  {
   "cell_type": "markdown",
   "metadata": {},
   "source": [
    "Regardons si ces valeurs pourrait se déduire d'une condition type \"être au dessus d'un certain seuil\"..."
   ]
  },
  {
   "cell_type": "code",
   "execution_count": 52,
   "metadata": {},
   "outputs": [
    {
     "name": "stdout",
     "output_type": "stream",
     "text": [
      "0.19612684002950442\n",
      "0.12292145867922938\n",
      "0.26360323850186546\n",
      "0.1276051390906421\n",
      "0.04014334330809454\n",
      "0.340415232053121\n",
      "0.08073241974581613\n",
      "0.06922566639085238\n",
      "0.2655594147181958\n",
      "0.3445441144352376\n"
     ]
    }
   ],
   "source": [
    "for i, n in zip(topic_score_tf[:10], len_y[:10]) :\n",
    "    ar = np.sort(i)\n",
    "    print(ar[-(n+1)])"
   ]
  },
  {
   "cell_type": "markdown",
   "metadata": {},
   "source": [
    "**Critique :**<br>Il semble impossible de définir un seuil de \"topic score\" à partir duquel tagger une question permettant de faire correspondre un nombre de tags issus du modèle LDA avec le nombre de tags cibles."
   ]
  },
  {
   "cell_type": "markdown",
   "metadata": {},
   "source": [
    "Notre ballon d'essai nous a permi d'émettre de sérieuses critiques sur notre démarche. Regardons toutefois si une approche avec une vectorisation **TfIdf** serait de nature à changer les chose..."
   ]
  },
  {
   "cell_type": "markdown",
   "metadata": {},
   "source": [
    " "
   ]
  },
  {
   "cell_type": "markdown",
   "metadata": {},
   "source": [
    "## **B) - Approche LDA avec TF-IDF**"
   ]
  },
  {
   "cell_type": "markdown",
   "metadata": {},
   "source": [
    "Voyons si une vectorisation TF-IDF nous permet d'obtenir mieux..."
   ]
  },
  {
   "cell_type": "code",
   "execution_count": 53,
   "metadata": {},
   "outputs": [],
   "source": [
    "feat_train_clean_nv = pickle.load(open(\"Data/feat_train_clean_nv.pickle\", \"rb\"))"
   ]
  },
  {
   "cell_type": "markdown",
   "metadata": {},
   "source": [
    "Vectorisation..."
   ]
  },
  {
   "cell_type": "code",
   "execution_count": 54,
   "metadata": {},
   "outputs": [
    {
     "data": {
      "text/plain": [
       "TfidfVectorizer(max_df=0.5, min_df=10)"
      ]
     },
     "execution_count": 54,
     "metadata": {},
     "output_type": "execute_result"
    }
   ],
   "source": [
    "idf_vect = TfidfVectorizer(max_df = 0.50, min_df = 10)\n",
    "\n",
    "idf_vect.fit(feat_train_clean_nv)"
   ]
  },
  {
   "cell_type": "code",
   "execution_count": 55,
   "metadata": {},
   "outputs": [
    {
     "data": {
      "text/plain": [
       "(20000, 3632)"
      ]
     },
     "execution_count": 55,
     "metadata": {},
     "output_type": "execute_result"
    }
   ],
   "source": [
    "feat_train_clean_nv_idf = idf_vect.transform(feat_train_clean_nv)\n",
    "feat_train_clean_nv_idf.shape"
   ]
  },
  {
   "cell_type": "markdown",
   "metadata": {},
   "source": [
    "LDA..."
   ]
  },
  {
   "cell_type": "code",
   "execution_count": 56,
   "metadata": {},
   "outputs": [],
   "source": [
    "lda_idf = LatentDirichletAllocation(n_components = NB_SUJETS, \n",
    "                                max_iter = 5,\n",
    "                                learning_method = \"online\",\n",
    "                                learning_offset = 50., \n",
    "                                random_state = 47)"
   ]
  },
  {
   "cell_type": "code",
   "execution_count": 57,
   "metadata": {},
   "outputs": [
    {
     "name": "stdout",
     "output_type": "stream",
     "text": [
      "L'entrainement de la LDA_idf a mis : 16 secondes.\n"
     ]
    }
   ],
   "source": [
    "start = time()\n",
    "lda_idf.fit(feat_train_clean_nv_idf)\n",
    "print(f\"L'entrainement de la LDA_idf a mis : {time() - start:.0f} secondes.\")"
   ]
  },
  {
   "cell_type": "markdown",
   "metadata": {},
   "source": [
    "Observation des \"sujets extraits\"..."
   ]
  },
  {
   "cell_type": "code",
   "execution_count": 58,
   "metadata": {
    "collapsed": true,
    "jupyter": {
     "outputs_hidden": true
    }
   },
   "outputs": [
    {
     "name": "stdout",
     "output_type": "stream",
     "text": [
      "topic numéro 0 :\n",
      "android color xml button icon font background app navigation image\n",
      "----------------------------------\n",
      "topic numéro 1 :\n",
      "dataframe pandas column columns spark df rows timestamp data index\n",
      "----------------------------------\n",
      "topic numéro 2 :\n",
      "mongodb ruby sierra macos homebrew high intel pylint haxm wizard\n",
      "----------------------------------\n",
      "topic numéro 3 :\n",
      "date format datetime time month day year timezone yyyymmdd atom\n",
      "----------------------------------\n",
      "topic numéro 4 :\n",
      "dplyr factor filereader experiment levels integer byte multiple simple empty\n",
      "----------------------------------\n",
      "topic numéro 5 :\n",
      "fragment tab tabs fragments activity tablayout orientation shadow nameerror jetpack\n",
      "----------------------------------\n",
      "topic numéro 6 :\n",
      "python error command file pip php windows version directory module\n",
      "----------------------------------\n",
      "topic numéro 7 :\n",
      "visual studio vs vscode code editor ctrl join netbeans shortcut\n",
      "----------------------------------\n",
      "topic numéro 8 :\n",
      "xcode ios app beta iphone apple device swift simulator email\n",
      "----------------------------------\n",
      "topic numéro 9 :\n",
      "airflow debounce routeroutlet mariadb coding examples alert emulator gmt sized\n",
      "----------------------------------\n",
      "topic numéro 10 :\n",
      "numpy scipy role vagrant ndarray roles pipes pipe importerror pycharm\n",
      "----------------------------------\n",
      "topic numéro 11 :\n",
      "ionic cordova cookie gulp cookies createreactapp substring mcrypt unavailable wkwebview\n",
      "----------------------------------\n",
      "topic numéro 12 :\n",
      "git branch repository github remote commit master repo gitlab markdown\n",
      "----------------------------------\n",
      "topic numéro 13 :\n",
      "net core asp project framework microsoft mvc web cs assembly\n",
      "----------------------------------\n",
      "topic numéro 14 :\n",
      "swift view swiftui textfield programmatically label viewpager storyboard rounded objectivec\n",
      "----------------------------------\n",
      "topic numéro 15 :\n",
      "jupyter notebook django py ipython kernel manage migration plot migrations\n",
      "----------------------------------\n",
      "topic numéro 16 :\n",
      "div css height width bootstrap image button cell text px\n",
      "----------------------------------\n",
      "topic numéro 17 :\n",
      "nltk significance sd awk sum percentage ipython little prompt output\n",
      "----------------------------------\n",
      "topic numéro 18 :\n",
      "code error nt like function value array data file string\n",
      "----------------------------------\n",
      "topic numéro 19 :\n",
      "modal bootstrap httpsstackoverflow coma crypto aes xs encryption provider smoothly\n",
      "----------------------------------\n",
      "topic numéro 20 :\n",
      "angular component request error spring api response http app url\n",
      "----------------------------------\n",
      "topic numéro 21 :\n",
      "android error docker gradle version studio project java build file\n",
      "----------------------------------\n",
      "topic numéro 22 :\n",
      "flutter firebase jenkins notification pipeline widget dart listview firestore discord\n",
      "----------------------------------\n",
      "topic numéro 23 :\n",
      "npm keyboard yarn err node package json start popper textinput\n",
      "----------------------------------\n",
      "topic numéro 24 :\n",
      "kubernetes pod pods tkinter kubectl cluster favicon ico persistent namespaces\n",
      "----------------------------------\n"
     ]
    }
   ],
   "source": [
    "montrer_sujets(lda_idf, idf_vect.get_feature_names(), 10)"
   ]
  },
  {
   "cell_type": "markdown",
   "metadata": {},
   "source": [
    "Transformation..."
   ]
  },
  {
   "cell_type": "code",
   "execution_count": 59,
   "metadata": {},
   "outputs": [
    {
     "data": {
      "text/plain": [
       "(20000, 25)"
      ]
     },
     "execution_count": 59,
     "metadata": {},
     "output_type": "execute_result"
    }
   ],
   "source": [
    "topic_score_idf = lda_idf.transform(feat_train_clean_nv_idf)\n",
    "topic_score_idf.shape"
   ]
  },
  {
   "cell_type": "code",
   "execution_count": 60,
   "metadata": {},
   "outputs": [
    {
     "data": {
      "text/plain": [
       "array([18, 20, 18, ..., 18, 16,  6], dtype=int64)"
      ]
     },
     "execution_count": 60,
     "metadata": {},
     "output_type": "execute_result"
    }
   ],
   "source": [
    "topic_predicted_idf = np.argmax(topic_score_idf, axis = 1)\n",
    "topic_predicted_idf"
   ]
  },
  {
   "cell_type": "code",
   "execution_count": 61,
   "metadata": {},
   "outputs": [
    {
     "data": {
      "text/plain": [
       "array([0.01033704, 0.01033704, 0.01033704, 0.01033704, 0.01033704,\n",
       "       0.01033704, 0.01033704, 0.01033704, 0.01033704, 0.01033704,\n",
       "       0.01033704, 0.01033704, 0.01033704, 0.01033704, 0.01033704,\n",
       "       0.01033704, 0.10198767, 0.01033704, 0.03073076, 0.01033704,\n",
       "       0.63986671, 0.01033704, 0.01033704, 0.01033704, 0.01033704])"
      ]
     },
     "execution_count": 61,
     "metadata": {},
     "output_type": "execute_result"
    }
   ],
   "source": [
    "topic_score_idf[150]"
   ]
  },
  {
   "cell_type": "markdown",
   "metadata": {},
   "source": [
    "Tags obtenus..."
   ]
  },
  {
   "cell_type": "code",
   "execution_count": 62,
   "metadata": {},
   "outputs": [
    {
     "name": "stdout",
     "output_type": "stream",
     "text": [
      "['android', 'dataframe', 'mongodb', 'date', 'dplyr', 'fragment', 'python', 'visual', 'xcode', 'airflow', 'numpy', 'ionic', 'git', 'net', 'swift', 'jupyter', 'div', 'nltk', 'code', 'modal', 'angular', 'android', 'flutter', 'npm', 'kubernetes']\n"
     ]
    }
   ],
   "source": [
    "liste_tags_lda_idf = retourne_tags(lda_idf, idf_vect.get_feature_names())\n",
    "print(liste_tags_lda_idf)"
   ]
  },
  {
   "cell_type": "code",
   "execution_count": 63,
   "metadata": {},
   "outputs": [
    {
     "name": "stdout",
     "output_type": "stream",
     "text": [
      "['android', 'angular', 'asp.net', 'c#', 'css', 'docker', 'flutter', 'google', 'html', 'ios', 'java', 'javascript', 'jquery', 'laravel', 'misc', 'node.js', 'pandas', 'php', 'python', 'react', 'spring', 'sql', 'swift', 'typescript', 'visual']\n"
     ]
    }
   ],
   "source": [
    "print(liste_tags_reels)"
   ]
  },
  {
   "cell_type": "markdown",
   "metadata": {},
   "source": [
    "Tags communs à la liste de labels..."
   ]
  },
  {
   "cell_type": "code",
   "execution_count": 64,
   "metadata": {},
   "outputs": [
    {
     "name": "stdout",
     "output_type": "stream",
     "text": [
      "['flutter', 'angular', 'python', 'android', 'swift', 'visual'] 6\n"
     ]
    }
   ],
   "source": [
    "common_idf = list(set(liste_tags_lda_idf).intersection(liste_tags_reels))\n",
    "print(common_idf, len(common_idf))"
   ]
  },
  {
   "cell_type": "markdown",
   "metadata": {},
   "source": [
    "L'approche **TfIdf** trouve le même nombre de tags communs."
   ]
  },
  {
   "cell_type": "markdown",
   "metadata": {},
   "source": [
    "regardons la distribution des thèmes prédits"
   ]
  },
  {
   "cell_type": "code",
   "execution_count": 65,
   "metadata": {},
   "outputs": [
    {
     "data": {
      "image/png": "[encoded data removed]",
      "text/plain": [
       "<Figure size 864x288 with 1 Axes>"
      ]
     },
     "metadata": {
      "needs_background": "light"
     },
     "output_type": "display_data"
    }
   ],
   "source": [
    "topics_predits_idf = pd.Series([liste_tags_lda_idf[n] for n in topic_predicted_idf])\n",
    "\n",
    "fig = plt.figure(figsize = (12, 4))\n",
    "sns.countplot(topics_predits_idf, \n",
    "              alpha = 0.8, \n",
    "              order = topics_predits_idf.value_counts().index)\n",
    "plt.xticks(rotation = 75)\n",
    "plt.title(\"Distribution des topics\")\n",
    "\n",
    "plt.show()"
   ]
  },
  {
   "cell_type": "markdown",
   "metadata": {},
   "source": [
    "Et là nous tombons manifestement sur un problème.<br>Il s'avère qu'en fait, telle que nous l'avons utilisée, la vectorisation **Tf-Idf** n'est pas adaptée à l'utilisation de la **LDA**. La LDA est un modèle probabilistique qui fonctionne à partir de la fréquence des mots rencontrés. Dès lors, à partir du moment où nous l'avons faite travailler sur une matrice TF-IDF qui n'est pas constituée de nombres entiers correspondant à des fréquences, les résultats ont probablement été faussés."
   ]
  },
  {
   "cell_type": "markdown",
   "metadata": {},
   "source": [
    "Ressources supplémentaires :<br>https://datascience.stackexchange.com/questions/14676/scikit-learn-should-i-fit-model-with-tf-or-tf-idf"
   ]
  },
  {
   "cell_type": "markdown",
   "metadata": {},
   "source": [
    " "
   ]
  },
  {
   "cell_type": "markdown",
   "metadata": {},
   "source": [
    "## **Conclusion sur l'approche LDA non-supervisée**"
   ]
  },
  {
   "cell_type": "markdown",
   "metadata": {},
   "source": [
    "Au regard de notre projet, cette approche pourrait être pertinente si :<br>- 1) Les thèmes extraits par la LDA correspondaient bien au thèmes représentés par les tags cibles.<br>- 2) Si chaque thème avait pour terme le plus représentatifs le tag cible correspondant.<br>- 3) Si la modélisation LDA permettait en plus une assignation de tags multiples satisfaisantes au regard des tags cibles."
   ]
  },
  {
   "cell_type": "markdown",
   "metadata": {},
   "source": [
    "Or, nous ne voyons pas comment ces conditions pourraient être remplies. Surtout que faire l'hypothèse qu'elles puissent l'être revient à penser que le contenu de Stack Overflow aurait pu être généré par des robots...<br>En tentant cette approche nous attendions beaucoup trop de la LDA alors que nous sommes clairement dans une problématique nécessitant une approche **supervisée**."
   ]
  },
  {
   "cell_type": "markdown",
   "metadata": {},
   "source": [
    " "
   ]
  },
  {
   "cell_type": "markdown",
   "metadata": {},
   "source": [
    "# **2-) Approches LDA mixtes**"
   ]
  },
  {
   "cell_type": "markdown",
   "metadata": {},
   "source": [
    " "
   ]
  },
  {
   "cell_type": "markdown",
   "metadata": {},
   "source": [
    "L'idée est maintenant d'utiliser la modélisation en **topic scores** obtenu par **LDA** pour des approches supervisées."
   ]
  },
  {
   "cell_type": "markdown",
   "metadata": {},
   "source": [
    "Exemple de donnée dans sa forme réduite à 25 dimensions par LDA :"
   ]
  },
  {
   "cell_type": "code",
   "execution_count": 66,
   "metadata": {},
   "outputs": [
    {
     "data": {
      "text/plain": [
       "array([0.00173913, 0.00173913, 0.0867469 , 0.00173913, 0.00173913,\n",
       "       0.00173913, 0.00173913, 0.19612684, 0.00173913, 0.00173913,\n",
       "       0.00173913, 0.00173913, 0.07575567, 0.00173913, 0.00173913,\n",
       "       0.00173913, 0.00173913, 0.00173913, 0.00173913, 0.00173913,\n",
       "       0.00173913, 0.00173913, 0.46646253, 0.00173913, 0.14012546])"
      ]
     },
     "execution_count": 66,
     "metadata": {},
     "output_type": "execute_result"
    }
   ],
   "source": [
    "topic_score_tf = pickle.load(open(\"Data/topic_score_tf.pickle\", \"rb\"))\n",
    "topic_score_tf[0]"
   ]
  },
  {
   "cell_type": "code",
   "execution_count": 67,
   "metadata": {},
   "outputs": [
    {
     "data": {
      "text/plain": [
       "(20000, 25)"
      ]
     },
     "execution_count": 67,
     "metadata": {},
     "output_type": "execute_result"
    }
   ],
   "source": [
    "topic_score_tf.shape"
   ]
  },
  {
   "cell_type": "markdown",
   "metadata": {},
   "source": [
    "### **Conditions propres au projet**"
   ]
  },
  {
   "cell_type": "markdown",
   "metadata": {},
   "source": [
    "Avant de continuer, précisons le cadre global dans lequel nous allons évoluer."
   ]
  },
  {
   "cell_type": "markdown",
   "metadata": {},
   "source": [
    "### **- Cadre de classification multilabels**"
   ]
  },
  {
   "cell_type": "markdown",
   "metadata": {},
   "source": [
    "Etant donné que chaque question est susceptible d'avoir plus d'un tag, nous sommes dans un cadre de **classification multilabels**."
   ]
  },
  {
   "cell_type": "markdown",
   "metadata": {},
   "source": [
    "Nous allons utiliser des outils du module **scikit.ml**."
   ]
  },
  {
   "cell_type": "markdown",
   "metadata": {},
   "source": [
    "http://scikit.ml/"
   ]
  },
  {
   "cell_type": "markdown",
   "metadata": {},
   "source": [
    "Notre approche va être celle de la **Binary Relevance** qui consiste à envisager une classification à **N labels** comme **N classifications** \"normales\" à un seul label. C'est adapté aux situations où il n'y a pas de relations entre labels."
   ]
  },
  {
   "cell_type": "markdown",
   "metadata": {},
   "source": [
    "Cela a un inconvénient majeur, à savoir que chaque modélisation \"multilabels\" revient à effectuer **25 classifications binaires**, ce qui va modifier notre façon d'opérer."
   ]
  },
  {
   "cell_type": "markdown",
   "metadata": {},
   "source": [
    "### **- Métrique utilisée**"
   ]
  },
  {
   "cell_type": "markdown",
   "metadata": {},
   "source": [
    "La métrique que nous allons utiliser sera adaptée à notre cadre multilabels. Il s'agit du **F1-score weighted**.<br><br>Le **F1-Score** est au départ une métrique qui se focalise sur l'aptitude d'un modèle à prédire les \"vrais positifs\". Il est donc adapté lorsque les classes sont nombreuses ou inégalement réparties et que notre objectif est justement de prédire ces \"vrais positifs\".<br><br>Dans notre cadre **multilabel** de **binary relevance**, le **F1-Score weighted** sera la moyenne balancée des 25 \"sous-modélisations\" binaires qui composeront une modélisation."
   ]
  },
  {
   "cell_type": "markdown",
   "metadata": {},
   "source": [
    "### **- Validation croisée et hyper-paramétrage**"
   ]
  },
  {
   "cell_type": "markdown",
   "metadata": {},
   "source": [
    "Etant données notre cadre, nous n'allons pas procéder par validation croisée comme il est usuel de le faire.<br><br>Pour ce qui est de l'hyper-paramétrage, nous ne procéderons pas non plus par **randomized search** ou **gridserach**. Nous utiliserons **l'optimisation bayésienne** (module **bayes_opt**) qui nous permettra d'hyper-paramétrer nos modèles, au moins en partie, pour un coût en ressources restreint."
   ]
  },
  {
   "cell_type": "markdown",
   "metadata": {},
   "source": [
    " "
   ]
  },
  {
   "cell_type": "markdown",
   "metadata": {},
   "source": [
    "## **A) Approche mixte LDA avec CountVectorizer**"
   ]
  },
  {
   "cell_type": "markdown",
   "metadata": {},
   "source": [
    " "
   ]
  },
  {
   "cell_type": "markdown",
   "metadata": {},
   "source": [
    "Nos **features** vont être le tableau **topic_score_tf**, et notre **cible** une **forme vectorisée de nos tags cibles**."
   ]
  },
  {
   "cell_type": "code",
   "execution_count": 81,
   "metadata": {},
   "outputs": [],
   "source": [
    "# préparation des features train\n",
    "std = StandardScaler().fit(topic_score_tf)\n",
    "\n",
    "X_train_mxt = std.transform(topic_score_tf)\n",
    "\n",
    "# préparation des features test\n",
    "feat_test_clean_nv = [pipe_clsw(t, False, False) for t in feat_test]\n",
    "feat_test_clean_vect = tf_vect.transform(feat_test_clean_nv)\n",
    "\n",
    "X_test_mxt = lda_tf.transform(feat_test_clean_vect)\n",
    "X_test_mxt = std.transform(X_test)"
   ]
  },
  {
   "cell_type": "code",
   "execution_count": 69,
   "metadata": {},
   "outputs": [],
   "source": [
    "# préparation des cibles\n",
    "def neutral_tokenizer(tokens):\n",
    "    \n",
    "    return tokens.split(\" \")\n",
    "\n",
    "vect_targ = CountVectorizer(tokenizer = neutral_tokenizer).fit(targ_train)\n",
    "\n",
    "y_train = vect_targ.fit_transform(targ_train)\n",
    "y_test = vect_targ.transform(targ_test)"
   ]
  },
  {
   "cell_type": "code",
   "execution_count": 70,
   "metadata": {},
   "outputs": [],
   "source": [
    "# Création puis sauvegarde d'un éléments qui nous sera utile plus tard...\n",
    "df_targ = pd.DataFrame(y_train.toarray(), columns = vect_targ.get_feature_names())\n",
    "labels = df_targ.columns.tolist()"
   ]
  },
  {
   "cell_type": "code",
   "execution_count": 82,
   "metadata": {},
   "outputs": [],
   "source": [
    "# sauvegarde\n",
    "pickle_out = open(\"Data/X_train_mxt.pickle\", \"wb\")\n",
    "pickle.dump(X_train_mxt, pickle_out)\n",
    "pickle_out.close()\n",
    "# sauvegarde\n",
    "pickle_out = open(\"Data/X_test_mxt.pickle\", \"wb\")\n",
    "pickle.dump(X_test_mxt, pickle_out)\n",
    "pickle_out.close()\n",
    "# sauvegarde\n",
    "pickle_out = open(\"Data/y_train.pickle\", \"wb\")\n",
    "pickle.dump(y_train, pickle_out)\n",
    "pickle_out.close()\n",
    "# sauvegarde\n",
    "pickle_out = open(\"Data/y_test.pickle\", \"wb\")\n",
    "pickle.dump(y_test, pickle_out)\n",
    "pickle_out.close()\n",
    "# sauvegarde\n",
    "pickle_out = open(\"Data/df_targ.pickle\", \"wb\")\n",
    "pickle.dump(df_targ, pickle_out)\n",
    "pickle_out.close()\n",
    "# sauvegarde\n",
    "pickle_out = open(\"Data/labels.pickle\", \"wb\")\n",
    "pickle.dump(labels, pickle_out)\n",
    "pickle_out.close()"
   ]
  },
  {
   "cell_type": "code",
   "execution_count": 14,
   "metadata": {},
   "outputs": [],
   "source": [
    "X_train_mxt = pickle.load(open(\"Data/X_train_mxt.pickle\", \"rb\"))\n",
    "y_train = pickle.load(open(\"Data/y_train.pickle\", \"rb\"))\n",
    "X_test_mxt = pickle.load(open(\"Data/X_test_mxt.pickle\", \"rb\"))\n",
    "y_test = pickle.load(open(\"Data/y_test.pickle\", \"rb\"))"
   ]
  },
  {
   "cell_type": "markdown",
   "metadata": {},
   "source": [
    " "
   ]
  },
  {
   "cell_type": "markdown",
   "metadata": {},
   "source": [
    "### **Baseline : prédicteur naif sur tag \"misc\"**"
   ]
  },
  {
   "cell_type": "markdown",
   "metadata": {},
   "source": [
    "Le tag **misc** est le plus présent"
   ]
  },
  {
   "cell_type": "markdown",
   "metadata": {},
   "source": [
    "Une telle prédiction aurait pour résultat un tableau de dimension **5555 x 25** peuplé de **0** sauf la colonne d'index **14** montrant elle des **1**.<br>Créons ce tableau et calculons sont **F1 Score Weighted**."
   ]
  },
  {
   "cell_type": "code",
   "execution_count": 23,
   "metadata": {},
   "outputs": [],
   "source": [
    "pred_baseline = np.zeros((5555, 25))\n",
    "pred_baseline[:, vect_targ.get_feature_names().index(\"misc\")] = 1"
   ]
  },
  {
   "cell_type": "code",
   "execution_count": 39,
   "metadata": {},
   "outputs": [
    {
     "data": {
      "text/plain": [
       "0.1918991899189919"
      ]
     },
     "execution_count": 39,
     "metadata": {},
     "output_type": "execute_result"
    }
   ],
   "source": [
    "accuracy_score(y_test, pred_baseline)"
   ]
  },
  {
   "cell_type": "code",
   "execution_count": 32,
   "metadata": {},
   "outputs": [
    {
     "data": {
      "text/plain": [
       "0.046752672038824154"
      ]
     },
     "execution_count": 32,
     "metadata": {},
     "output_type": "execute_result"
    }
   ],
   "source": [
    "f1_score(y_test, \n",
    "         pred_baseline, \n",
    "         average = \"weighted\")"
   ]
  },
  {
   "cell_type": "markdown",
   "metadata": {},
   "source": [
    " "
   ]
  },
  {
   "cell_type": "markdown",
   "metadata": {},
   "source": [
    "### **Modélisations test - \"out of the box\"**"
   ]
  },
  {
   "cell_type": "markdown",
   "metadata": {},
   "source": [
    "Testons quelques modélisations avec des réglages par défaut."
   ]
  },
  {
   "cell_type": "markdown",
   "metadata": {},
   "source": [
    "**Fonction utile**"
   ]
  },
  {
   "cell_type": "code",
   "execution_count": 60,
   "metadata": {},
   "outputs": [],
   "source": [
    "def mc_modelize(model, X_train, y_train, X_test, y_test) :\n",
    "    \n",
    "    m_clas = BinaryRelevance(classifier = model)\n",
    "    \n",
    "    start = time()\n",
    "    \n",
    "    m_clas.fit(X_train, y_train)\n",
    "    \n",
    "    preds = m_clas.predict(X_test)\n",
    "    \n",
    "    acc = accuracy_score(y_test, preds)\n",
    "    \n",
    "    score = f1_score(y_test,\n",
    "                     preds,\n",
    "                     average = \"weighted\")\n",
    "    \n",
    "    temps = time() - start\n",
    "    \n",
    "    return score, temps"
   ]
  },
  {
   "cell_type": "markdown",
   "metadata": {},
   "source": [
    " "
   ]
  },
  {
   "cell_type": "markdown",
   "metadata": {},
   "source": [
    "### **Régression Logistique**"
   ]
  },
  {
   "cell_type": "code",
   "execution_count": 61,
   "metadata": {},
   "outputs": [
    {
     "name": "stdout",
     "output_type": "stream",
     "text": [
      "La modélisation a duré 1.03 secondes pour un score de : 0.284\n"
     ]
    }
   ],
   "source": [
    "rlc = LogisticRegression(random_state = 47)\n",
    "score, temps = mc_modelize(rlc, X_train_mxt, y_train, X_test_mxt, y_test)\n",
    "print(f\"La modélisation a duré {temps:.02f} secondes pour un score de : {score:.03f}\")"
   ]
  },
  {
   "cell_type": "markdown",
   "metadata": {},
   "source": [
    " "
   ]
  },
  {
   "cell_type": "markdown",
   "metadata": {},
   "source": [
    "### **RandomForest Classifier**"
   ]
  },
  {
   "cell_type": "code",
   "execution_count": 62,
   "metadata": {},
   "outputs": [
    {
     "name": "stdout",
     "output_type": "stream",
     "text": [
      "La modélisation a duré 93.44 secondes pour un score de : 0.313\n"
     ]
    }
   ],
   "source": [
    "rf = RandomForestClassifier()\n",
    "score, temps = mc_modelize(rf, X_train_mxt, y_train, X_test_mxt, y_test)\n",
    "print(f\"La modélisation a duré {temps:.02f} secondes pour un score de : {score:.03f}\")"
   ]
  },
  {
   "cell_type": "markdown",
   "metadata": {},
   "source": [
    " "
   ]
  },
  {
   "cell_type": "markdown",
   "metadata": {},
   "source": [
    "### **XGBoost**"
   ]
  },
  {
   "cell_type": "code",
   "execution_count": 63,
   "metadata": {},
   "outputs": [
    {
     "name": "stdout",
     "output_type": "stream",
     "text": [
      "La modélisation a duré 21.70 secondes pour un score de : 0.329\n"
     ]
    }
   ],
   "source": [
    "xgb_clas = xgb.XGBClassifier(objective = \"reg:logistic\", random_state = 47)\n",
    "score, temps = mc_modelize(xgb_clas, X_train_mxt, y_train, X_test_mxt, y_test)\n",
    "print(f\"La modélisation a duré {temps:.02f} secondes pour un score de : {score:.03f}\")"
   ]
  },
  {
   "cell_type": "markdown",
   "metadata": {},
   "source": [
    "**XGBoost** produit les meilleurs résultats de loin, nous allons poursuivre avec lui."
   ]
  },
  {
   "cell_type": "markdown",
   "metadata": {},
   "source": [
    "### **Hyper-paramétrage par optimisation bayésienne**"
   ]
  },
  {
   "cell_type": "markdown",
   "metadata": {},
   "source": [
    "Afin d'économiser des ressources lors de ce projet, nous allons comme nous l'avons déjà dit procéder à des **hyper-paramétrages partiels** avec l'aide du module **baysian-optimization**."
   ]
  },
  {
   "cell_type": "markdown",
   "metadata": {},
   "source": [
    "**Utilisation du module Bayesian Optimization**"
   ]
  },
  {
   "cell_type": "markdown",
   "metadata": {},
   "source": [
    "https://analyticsindiamag.com/implementing-bayesian-optimization-on-xgboost-a-beginners-guide/"
   ]
  },
  {
   "cell_type": "markdown",
   "metadata": {},
   "source": [
    "https://github.com/fmfn/BayesianOptimization"
   ]
  },
  {
   "cell_type": "markdown",
   "metadata": {},
   "source": [
    "https://github.com/fmfn/BayesianOptimization/blob/master/examples/basic-tour.ipynb"
   ]
  },
  {
   "cell_type": "markdown",
   "metadata": {},
   "source": [
    "Il faut hyper-paramétrer le modèle sur l'ensemble des données. Essai avec BO pour éviter le random/gridsearch couteux en ressources."
   ]
  },
  {
   "cell_type": "code",
   "execution_count": 107,
   "metadata": {},
   "outputs": [],
   "source": [
    "def bo_tune_m_clas(max_depth, gamma, n_estimators ,learning_rate, eta):\n",
    "    params = {'max_depth': int(max_depth),\n",
    "              'gamma': gamma,\n",
    "              'n_estimators': int(n_estimators),\n",
    "              'learning_rate': learning_rate,\n",
    "              'subsample': 0.8,\n",
    "              'eta': eta, \n",
    "              'verbosity': 0, \n",
    "              'objective': \"reg:logistic\",\n",
    "              'random_state' : 47#, 'eval_metric': 'f1'\n",
    "             }\n",
    "    \n",
    "    # création du model qu'on va utiliser\n",
    "    xgb_model = xgb.XGBClassifier(**params)\n",
    "    # création du modèle multilabels\n",
    "    m_clas = BinaryRelevance(classifier = xgb_model)\n",
    "    \n",
    "    m_clas.fit(X_train_mxt, y_train)\n",
    "    preds = m_clas.predict(X_test_mxt)\n",
    "\n",
    "    score = f1_score(y_test, preds, average = \"weighted\")\n",
    "\n",
    "    return score"
   ]
  },
  {
   "cell_type": "code",
   "execution_count": 108,
   "metadata": {},
   "outputs": [],
   "source": [
    "m_clas_bo = BayesianOptimization(bo_tune_m_clas, \n",
    "                                 {'max_depth': (3, 10),\n",
    "                                  'gamma': (0, 1),\n",
    "                                  'eta' : (0.01, 0.1),\n",
    "                                  'learning_rate':(0, 1),\n",
    "                                  'n_estimators':(50, 250)},\n",
    "                                 random_state = 47)"
   ]
  },
  {
   "cell_type": "code",
   "execution_count": 109,
   "metadata": {},
   "outputs": [
    {
     "name": "stdout",
     "output_type": "stream",
     "text": [
      "|   iter    |  target   |    eta    |   gamma   | learni... | max_depth | n_esti... |\n",
      "-------------------------------------------------------------------------------------\n",
      "| \u001b[0m 1       \u001b[0m | \u001b[0m 0.3068  \u001b[0m | \u001b[0m 0.02021 \u001b[0m | \u001b[0m 0.9745  \u001b[0m | \u001b[0m 0.7287  \u001b[0m | \u001b[0m 5.46    \u001b[0m | \u001b[0m 191.5   \u001b[0m |\n",
      "| \u001b[95m 2       \u001b[0m | \u001b[95m 0.3202  \u001b[0m | \u001b[95m 0.08196 \u001b[0m | \u001b[95m 0.6456  \u001b[0m | \u001b[95m 0.4146  \u001b[0m | \u001b[95m 7.942   \u001b[0m | \u001b[95m 99.33   \u001b[0m |\n",
      "| \u001b[95m 3       \u001b[0m | \u001b[95m 0.3614  \u001b[0m | \u001b[95m 0.03304 \u001b[0m | \u001b[95m 0.02401 \u001b[0m | \u001b[95m 0.09873 \u001b[0m | \u001b[95m 5.103   \u001b[0m | \u001b[95m 178.2   \u001b[0m |\n",
      "| \u001b[0m 4       \u001b[0m | \u001b[0m 0.2859  \u001b[0m | \u001b[0m 0.039   \u001b[0m | \u001b[0m 0.1855  \u001b[0m | \u001b[0m 0.9172  \u001b[0m | \u001b[0m 4.896   \u001b[0m | \u001b[0m 104.7   \u001b[0m |\n",
      "| \u001b[0m 5       \u001b[0m | \u001b[0m 0.2957  \u001b[0m | \u001b[0m 0.0959  \u001b[0m | \u001b[0m 0.1271  \u001b[0m | \u001b[0m 0.7473  \u001b[0m | \u001b[0m 3.037   \u001b[0m | \u001b[0m 221.4   \u001b[0m |\n",
      "| \u001b[0m 6       \u001b[0m | \u001b[0m 0.3375  \u001b[0m | \u001b[0m 0.07494 \u001b[0m | \u001b[0m 0.831   \u001b[0m | \u001b[0m 0.2529  \u001b[0m | \u001b[0m 6.918   \u001b[0m | \u001b[0m 77.88   \u001b[0m |\n",
      "| \u001b[0m 7       \u001b[0m | \u001b[0m 0.3394  \u001b[0m | \u001b[0m 0.04988 \u001b[0m | \u001b[0m 0.3877  \u001b[0m | \u001b[0m 0.3779  \u001b[0m | \u001b[0m 3.126   \u001b[0m | \u001b[0m 209.4   \u001b[0m |\n",
      "| \u001b[95m 8       \u001b[0m | \u001b[95m 0.3788  \u001b[0m | \u001b[95m 0.05805 \u001b[0m | \u001b[95m 0.7509  \u001b[0m | \u001b[95m 0.02094 \u001b[0m | \u001b[95m 5.707   \u001b[0m | \u001b[95m 177.9   \u001b[0m |\n",
      "| \u001b[0m 9       \u001b[0m | \u001b[0m 0.0     \u001b[0m | \u001b[0m 0.0904  \u001b[0m | \u001b[0m 1.0     \u001b[0m | \u001b[0m 0.0     \u001b[0m | \u001b[0m 7.073   \u001b[0m | \u001b[0m 176.3   \u001b[0m |\n",
      "| \u001b[0m 10      \u001b[0m | \u001b[0m 0.0     \u001b[0m | \u001b[0m 0.05394 \u001b[0m | \u001b[0m 1.0     \u001b[0m | \u001b[0m 0.0     \u001b[0m | \u001b[0m 5.303   \u001b[0m | \u001b[0m 178.9   \u001b[0m |\n",
      "| \u001b[0m 11      \u001b[0m | \u001b[0m 0.317   \u001b[0m | \u001b[0m 0.09608 \u001b[0m | \u001b[0m 0.2417  \u001b[0m | \u001b[0m 0.2325  \u001b[0m | \u001b[0m 7.197   \u001b[0m | \u001b[0m 218.9   \u001b[0m |\n",
      "| \u001b[0m 12      \u001b[0m | \u001b[0m 0.3029  \u001b[0m | \u001b[0m 0.06889 \u001b[0m | \u001b[0m 0.4963  \u001b[0m | \u001b[0m 0.7176  \u001b[0m | \u001b[0m 5.582   \u001b[0m | \u001b[0m 85.6    \u001b[0m |\n",
      "| \u001b[0m 13      \u001b[0m | \u001b[0m 0.3752  \u001b[0m | \u001b[0m 0.09358 \u001b[0m | \u001b[0m 0.5788  \u001b[0m | \u001b[0m 0.1081  \u001b[0m | \u001b[0m 3.209   \u001b[0m | \u001b[0m 209.4   \u001b[0m |\n",
      "| \u001b[0m 14      \u001b[0m | \u001b[0m 0.3627  \u001b[0m | \u001b[0m 0.01591 \u001b[0m | \u001b[0m 0.9046  \u001b[0m | \u001b[0m 0.1621  \u001b[0m | \u001b[0m 5.943   \u001b[0m | \u001b[0m 115.0   \u001b[0m |\n",
      "| \u001b[0m 15      \u001b[0m | \u001b[0m 0.3345  \u001b[0m | \u001b[0m 0.01364 \u001b[0m | \u001b[0m 0.4028  \u001b[0m | \u001b[0m 0.3964  \u001b[0m | \u001b[0m 5.25    \u001b[0m | \u001b[0m 177.9   \u001b[0m |\n",
      "=====================================================================================\n",
      "L'optimization a mis : 540 secondes.\n"
     ]
    }
   ],
   "source": [
    "start = time()\n",
    "m_clas_bo.maximize(n_iter=10, init_points=5, acq='ucb')\n",
    "print(f\"L'optimisation a mis : {time() - start:.0f} secondes.\")"
   ]
  },
  {
   "cell_type": "markdown",
   "metadata": {},
   "source": [
    "Récupération et arrondissement des meilleurs hyper-paramètres."
   ]
  },
  {
   "cell_type": "code",
   "execution_count": 110,
   "metadata": {},
   "outputs": [
    {
     "data": {
      "text/plain": [
       "{'eta': 0.05804675564145853,\n",
       " 'gamma': 0.7508746000467451,\n",
       " 'learning_rate': 0.020936078328953722,\n",
       " 'max_depth': 5.70746025818558,\n",
       " 'n_estimators': 177.89849134874282}"
      ]
     },
     "execution_count": 110,
     "metadata": {},
     "output_type": "execute_result"
    }
   ],
   "source": [
    "best_params_01 = m_clas_bo.max['params']\n",
    "best_params_01"
   ]
  },
  {
   "cell_type": "code",
   "execution_count": 111,
   "metadata": {},
   "outputs": [],
   "source": [
    "best_params_01['max_depth']= int(best_params_01['max_depth'])\n",
    "best_params_01['n_estimators']= int(best_params_01['n_estimators'])"
   ]
  },
  {
   "cell_type": "markdown",
   "metadata": {},
   "source": [
    "Entrainement du modèle optimisé"
   ]
  },
  {
   "cell_type": "code",
   "execution_count": 112,
   "metadata": {},
   "outputs": [],
   "source": [
    "xgb_model = xgb.XGBClassifier(objective = \"reg:logistic\", random_state = 47, **best_params_01)\n",
    "# création du modèle multilabels\n",
    "m_clas1 = BinaryRelevance(classifier = xgb_model)"
   ]
  },
  {
   "cell_type": "code",
   "execution_count": 115,
   "metadata": {},
   "outputs": [
    {
     "name": "stdout",
     "output_type": "stream",
     "text": [
      "L'entrainement a pris 34 secondes\n"
     ]
    }
   ],
   "source": [
    "start = time()\n",
    "m_clas1.fit(X_train_mxt, y_train)\n",
    "print(f\"L'entrainement a pris {time() - start:.0f} secondes\")"
   ]
  },
  {
   "cell_type": "markdown",
   "metadata": {},
   "source": [
    "Score du modèle :"
   ]
  },
  {
   "cell_type": "code",
   "execution_count": 116,
   "metadata": {},
   "outputs": [
    {
     "data": {
      "text/plain": [
       "0.36388630357806884"
      ]
     },
     "execution_count": 116,
     "metadata": {},
     "output_type": "execute_result"
    }
   ],
   "source": [
    "pred_01 = m_clas1.predict(X_test_mxt).toarray()\n",
    "f1_score(y_test, \n",
    "         pred_01, \n",
    "         average = \"weighted\")"
   ]
  },
  {
   "cell_type": "markdown",
   "metadata": {},
   "source": [
    " "
   ]
  },
  {
   "cell_type": "markdown",
   "metadata": {},
   "source": [
    "## **B) Approche mixte LDA avec CountVectorizer sur texte normalisé**"
   ]
  },
  {
   "cell_type": "markdown",
   "metadata": {},
   "source": [
    " "
   ]
  },
  {
   "cell_type": "markdown",
   "metadata": {},
   "source": [
    "Nous allons reproduire cette approche, mais cette fois sur un corpus de texte normalisé."
   ]
  },
  {
   "cell_type": "markdown",
   "metadata": {},
   "source": [
    "Concrêtement, pour ce qui est du traitement de nos textes, nous allons continuer de nous passer des formes verbales, mais en plus ceux-ci passeront par des étapes **lemmatisation** et de **stemming**."
   ]
  },
  {
   "cell_type": "code",
   "execution_count": 161,
   "metadata": {},
   "outputs": [],
   "source": [
    "# Rechargement du corpus\n",
    "feat_train_clean_nv = pickle.load(open(\"Data/feat_train_clean_nv.pickle\", \"rb\"))\n",
    "feat_test_clean_nv = pickle.load(open(\"Data/feat_test_clean_nv.pickle\", \"rb\"))"
   ]
  },
  {
   "cell_type": "code",
   "execution_count": 162,
   "metadata": {},
   "outputs": [
    {
     "data": {
      "text/plain": [
       "'script inside aws lambda function bash script inside lambda function aws docs code python nodejs java documents possible bash concrete evidence example'"
      ]
     },
     "execution_count": 162,
     "metadata": {},
     "output_type": "execute_result"
    }
   ],
   "source": [
    "feat_train_clean_nv[0]"
   ]
  },
  {
   "cell_type": "markdown",
   "metadata": {},
   "source": [
    "**Lemmatisation**"
   ]
  },
  {
   "cell_type": "markdown",
   "metadata": {},
   "source": [
    "La lemmatisation consiste à renvoyer si possible la forme canonique d'un mot. Voici un exemple, où pour une question issue de notre corpus nous imprimons chaque token et sa version \"lemmatisée\"."
   ]
  },
  {
   "cell_type": "code",
   "execution_count": 163,
   "metadata": {},
   "outputs": [
    {
     "name": "stdout",
     "output_type": "stream",
     "text": [
      "script  -  script\n",
      "inside  -  inside\n",
      "aws  -  aws\n",
      "lambda  -  lambda\n",
      "function  -  function\n",
      "bash  -  bash\n",
      "script  -  script\n",
      "inside  -  inside\n",
      "lambda  -  lambda\n",
      "function  -  function\n",
      "aws  -  aws\n",
      "docs  -  docs\n",
      "code  -  code\n",
      "python  -  python\n",
      "nodejs  -  nodejs\n",
      "java  -  java\n",
      "documents  -  document\n",
      "possible  -  possible\n",
      "bash  -  bash\n",
      "concrete  -  concrete\n",
      "evidence  -  evidence\n",
      "example  -  example\n"
     ]
    }
   ],
   "source": [
    "for w in nlp(feat_train_clean_nv[0]):\n",
    "    print(w, \" - \", w.lemma_)"
   ]
  },
  {
   "cell_type": "markdown",
   "metadata": {},
   "source": [
    "**Remarque :**<br>Manifestemment, puisque nous sommes en présence de nombreux termes techniques et que les formes verbales sont absentes, ce procédé pourrait n'avoir qu'une influence assez faible puisqu'il va peu modifier notre corpus. Mais nous allons quand même l'appliquer."
   ]
  },
  {
   "cell_type": "code",
   "execution_count": 164,
   "metadata": {},
   "outputs": [],
   "source": [
    "# fonction de lemmatisation\n",
    "def lemmatize(model, corpus):\n",
    "    \n",
    "    corp_lemma = []\n",
    "    \n",
    "    for doc in corpus :\n",
    "        \n",
    "        corp_lemma.append([w.lemma_ for w in model(doc)])\n",
    "        \n",
    "    return corp_lemma"
   ]
  },
  {
   "cell_type": "markdown",
   "metadata": {},
   "source": [
    "**Application de la lemmatisation**"
   ]
  },
  {
   "cell_type": "code",
   "execution_count": 165,
   "metadata": {},
   "outputs": [
    {
     "name": "stdout",
     "output_type": "stream",
     "text": [
      "La lemmatisation a pris 219 secondes.\n"
     ]
    }
   ],
   "source": [
    "start = time()\n",
    "feat_train_lem = lemmatize(nlp, feat_train_clean_nv)\n",
    "feat_test_lem = lemmatize(nlp, feat_test_clean_nv)\n",
    "print(f\"La lemmatisation a pris {time() - start:.0f} secondes.\")"
   ]
  },
  {
   "cell_type": "markdown",
   "metadata": {},
   "source": [
    "**Stemming**"
   ]
  },
  {
   "cell_type": "markdown",
   "metadata": {},
   "source": [
    "Le **stemming** se définit comme une \"désuffixation\" des mots. Nous allons utiliser le stemmer **snowball** du module **nltk**."
   ]
  },
  {
   "cell_type": "code",
   "execution_count": 166,
   "metadata": {},
   "outputs": [],
   "source": [
    "stemmer = SnowballStemmer(\"english\")"
   ]
  },
  {
   "cell_type": "markdown",
   "metadata": {},
   "source": [
    "**Exemple :**<br>Stemming d'une question sous sa forme déjà lemmatisée."
   ]
  },
  {
   "cell_type": "code",
   "execution_count": 167,
   "metadata": {},
   "outputs": [
    {
     "name": "stdout",
     "output_type": "stream",
     "text": [
      "script    -   script\n",
      "inside    -   insid\n",
      "aws    -   aw\n",
      "lambda    -   lambda\n",
      "function    -   function\n",
      "bash    -   bash\n",
      "script    -   script\n",
      "inside    -   insid\n",
      "lambda    -   lambda\n",
      "function    -   function\n"
     ]
    }
   ],
   "source": [
    "for w in feat_train_lem[0][:10] :\n",
    "    print(w, \"   -  \", stemmer.stem(w))"
   ]
  },
  {
   "cell_type": "markdown",
   "metadata": {},
   "source": [
    "Les actions accomplies sont plus visibles même si encore modestes dans notre exemple."
   ]
  },
  {
   "cell_type": "code",
   "execution_count": 168,
   "metadata": {},
   "outputs": [],
   "source": [
    "# fonction de stemming qui recrée également des \"phrases\" factices car la vectorization ne fonctionne\n",
    "# pas sur des données bag-of-words...\n",
    "def stemm(stemmer, corpus):\n",
    "    \n",
    "    corp_stem = []\n",
    "    \n",
    "    for doc in corpus :\n",
    "        \n",
    "        ligne = \" \".join([stemmer.stem(w) for w in doc])\n",
    "        corp_stem.append(ligne)\n",
    "        \n",
    "    return corp_stem"
   ]
  },
  {
   "cell_type": "code",
   "execution_count": 170,
   "metadata": {},
   "outputs": [
    {
     "name": "stdout",
     "output_type": "stream",
     "text": [
      "Le stemming a pris 11 secondes.\n"
     ]
    }
   ],
   "source": [
    "start = time()\n",
    "feat_train = stemm(stemmer, feat_train_lem)\n",
    "feat_test = stemm(stemmer, feat_test_lem)\n",
    "print(f\"Le stemming a pris {time() - start:.0f} secondes.\")"
   ]
  },
  {
   "cell_type": "markdown",
   "metadata": {},
   "source": [
    "### **Nouvelle LDA**"
   ]
  },
  {
   "cell_type": "markdown",
   "metadata": {},
   "source": [
    "**Vectorisation CountVectorizer**"
   ]
  },
  {
   "cell_type": "code",
   "execution_count": 172,
   "metadata": {},
   "outputs": [],
   "source": [
    "tf_vect2 = CountVectorizer(max_df = 0.50, min_df = 5)\n",
    "tf_vect2.fit(feat_train)\n",
    "\n",
    "feat_train_vect = tf_vect2.transform(feat_train)\n",
    "feat_test_vect = tf_vect2.transform(feat_test)"
   ]
  },
  {
   "cell_type": "code",
   "execution_count": 173,
   "metadata": {
    "jupyter": {
     "source_hidden": true
    }
   },
   "outputs": [],
   "source": [
    "# Sauvegarde\n",
    "pickle_out = open(\"Data/feat_train_vect.pickle\", \"wb\")\n",
    "pickle.dump(feat_train_vect, pickle_out)\n",
    "pickle_out.close()\n",
    "\n",
    "pickle_out = open(\"Data/feat_test_vect.pickle\", \"wb\")\n",
    "pickle.dump(feat_test_vect, pickle_out)\n",
    "pickle_out.close()\n",
    "\n",
    "pickle_out = open(\"Data/tf_vect2.pickle\", \"wb\")\n",
    "pickle.dump(tf_vect2, pickle_out)\n",
    "pickle_out.close()"
   ]
  },
  {
   "cell_type": "markdown",
   "metadata": {},
   "source": [
    "**LDA**"
   ]
  },
  {
   "cell_type": "code",
   "execution_count": 174,
   "metadata": {},
   "outputs": [],
   "source": [
    "lda_tf2 = LatentDirichletAllocation(n_components = nb_sujets, \n",
    "                                max_iter = 5,\n",
    "                                learning_method = \"online\",\n",
    "                                learning_offset = 50., \n",
    "                                random_state = 47)"
   ]
  },
  {
   "cell_type": "code",
   "execution_count": 175,
   "metadata": {},
   "outputs": [
    {
     "name": "stdout",
     "output_type": "stream",
     "text": [
      "L'entrainement de la LDA a mis : 25 secondes.\n"
     ]
    }
   ],
   "source": [
    "start = time()\n",
    "lda_tf2.fit(feat_train_vect)\n",
    "print(f\"L'entrainement de la LDA a mis : {time() - start:.0f} secondes.\")"
   ]
  },
  {
   "cell_type": "markdown",
   "metadata": {},
   "source": [
    "Après la normalisation du corpus, les termes caractérisant les topics extraits sont un peu \"spéciaux\"..."
   ]
  },
  {
   "cell_type": "code",
   "execution_count": 176,
   "metadata": {},
   "outputs": [
    {
     "name": "stdout",
     "output_type": "stream",
     "text": [
      "topic numéro 0 :\n",
      "set sort listview assert review pid dto signal iflutt circular\n",
      "----------------------------------\n",
      "topic numéro 1 :\n",
      "symbol explor void nil markdown viewmodel dag internalmodulescjsloader webservic devtool\n",
      "----------------------------------\n",
      "topic numéro 2 :\n",
      "json element option item differ point product recyclerview select ie\n",
      "----------------------------------\n",
      "topic numéro 3 :\n",
      "page request api url app respons header servic error code\n",
      "----------------------------------\n",
      "topic numéro 4 :\n",
      "variabl attribut googl font excel env selenium code nt chrome\n",
      "----------------------------------\n",
      "topic numéro 5 :\n",
      "way nt time number like differ question function exampl instanc\n",
      "----------------------------------\n",
      "topic numéro 6 :\n",
      "file imag line folder like code csv nt webpack path\n",
      "----------------------------------\n",
      "topic numéro 7 :\n",
      "test properti import typescript warn ts export group type unit\n",
      "----------------------------------\n",
      "topic numéro 8 :\n",
      "date visual studio start code format vs default microsoft editor\n",
      "----------------------------------\n",
      "topic numéro 9 :\n",
      "react function state event load firebas compon nativ consol app\n",
      "----------------------------------\n",
      "topic numéro 10 :\n",
      "java org spring jar xml class boot com springframework lang\n",
      "----------------------------------\n",
      "topic numéro 11 :\n",
      "python command docker error window contain pip nt pi ubuntu\n",
      "----------------------------------\n",
      "topic numéro 12 :\n",
      "error version project nt modul file npm packag command node\n",
      "----------------------------------\n",
      "topic numéro 13 :\n",
      "style vue plot global code graph matplotlib chart visibl seaborn\n",
      "----------------------------------\n",
      "topic numéro 14 :\n",
      "server key local valid connect invalid error certif client mode\n",
      "----------------------------------\n",
      "topic numéro 15 :\n",
      "button text view code color nt form background custom icon\n",
      "----------------------------------\n",
      "topic numéro 16 :\n",
      "error php code messag databas laravel except flutter line sql\n",
      "----------------------------------\n",
      "topic numéro 17 :\n",
      "column data tabl row datafram datum valu queri index panda\n",
      "----------------------------------\n",
      "topic numéro 18 :\n",
      "android app gradl studio devic error build applic plugin project\n",
      "----------------------------------\n",
      "topic numéro 19 :\n",
      "script git bar github repositori branch screen video chang nt\n",
      "----------------------------------\n",
      "topic numéro 20 :\n",
      "input charact size notebook numpi memori jupyt db field byte\n",
      "----------------------------------\n",
      "topic numéro 21 :\n",
      "div css bootstrap html height width tab px space jqueri\n",
      "----------------------------------\n",
      "topic numéro 22 :\n",
      "object valu string array function type code class list method\n",
      "----------------------------------\n",
      "topic numéro 23 :\n",
      "angular compon nt model swift templat child like dynam component\n",
      "----------------------------------\n",
      "topic numéro 24 :\n",
      "net user core control password asp web system applic framework\n",
      "----------------------------------\n"
     ]
    }
   ],
   "source": [
    "montrer_sujets(lda_tf2, tf_vect2.get_feature_names(), 10)"
   ]
  },
  {
   "cell_type": "markdown",
   "metadata": {},
   "source": [
    "Maintenant le modèle entrainé, procédons à la modélisation..."
   ]
  },
  {
   "cell_type": "code",
   "execution_count": 177,
   "metadata": {},
   "outputs": [],
   "source": [
    "topic_score_tf2 = lda_tf2.transform(feat_train_vect)\n",
    "\n",
    "# sauvegarde\n",
    "pickle_out = open(\"Data/topic_score_tf2.pickle\", \"wb\")\n",
    "pickle.dump(topic_score_tf2, pickle_out)\n",
    "pickle_out.close()\n",
    "\n",
    "#topic_score_tf2.shape"
   ]
  },
  {
   "cell_type": "code",
   "execution_count": 179,
   "metadata": {},
   "outputs": [],
   "source": [
    "topic_score_tf2 = pickle.load(open(\"Data/topic_score_tf2.pickle\", \"rb\"))\n",
    "\n",
    "# préparation des features\n",
    "std2 = StandardScaler()\n",
    "\n",
    "X_train_mxt_n = std2.fit_transform(topic_score_tf2)\n",
    "\n",
    "X_test_unscaled = lda_tf2.transform(feat_test_vect)\n",
    "X_test_mxt_n = std2.transform(X_test_unscaled)\n",
    "\n",
    "# chargement des targets\n",
    "y_train = pickle.load(open(\"Data/y_train.pickle\", \"rb\"))\n",
    "y_test = pickle.load(open(\"Data/y_test.pickle\", \"rb\"))"
   ]
  },
  {
   "cell_type": "markdown",
   "metadata": {},
   "source": [
    "**Optimisation du modèle**"
   ]
  },
  {
   "cell_type": "code",
   "execution_count": 180,
   "metadata": {},
   "outputs": [],
   "source": [
    "def bo_tune_m_clas2(max_depth, gamma, n_estimators ,learning_rate, eta):\n",
    "    params = {'max_depth': int(max_depth),\n",
    "              'gamma': gamma,\n",
    "              'n_estimators': int(n_estimators),\n",
    "              'learning_rate': learning_rate,\n",
    "              'subsample': 0.8,\n",
    "              'eta': eta, \n",
    "              'verbosity': 0, \n",
    "              'objective': \"reg:logistic\",\n",
    "              'random_state' : 47#, 'eval_metric': 'f1'\n",
    "             }\n",
    "    \n",
    "    # création du model qu'on va utiliser\n",
    "    xgb_model = xgb.XGBClassifier(**params)\n",
    "    # création du modèle multilabels\n",
    "    m_clas = BinaryRelevance(classifier = xgb_model)\n",
    "    \n",
    "    m_clas.fit(X_train_mxt_n, y_train)\n",
    "    preds = m_clas.predict(X_test_mxt_n)\n",
    "\n",
    "    score = f1_score(y_test, preds, average = \"weighted\")\n",
    "\n",
    "    return score"
   ]
  },
  {
   "cell_type": "code",
   "execution_count": 181,
   "metadata": {},
   "outputs": [],
   "source": [
    "m_clas_bo2 = BayesianOptimization(bo_tune_m_clas2, {'max_depth': (2, 10),\n",
    "                                                  'gamma': (0.01, 1),\n",
    "                                                  'eta' : (0.01, 0.1),\n",
    "                                                  'learning_rate':(0, 1),\n",
    "                                                  'n_estimators':(50, 250)}, \n",
    "                                  random_state = 47)"
   ]
  },
  {
   "cell_type": "code",
   "execution_count": 182,
   "metadata": {},
   "outputs": [
    {
     "name": "stdout",
     "output_type": "stream",
     "text": [
      "|   iter    |  target   |    eta    |   gamma   | learni... | max_depth | n_esti... |\n",
      "-------------------------------------------------------------------------------------\n",
      "| \u001b[0m 1       \u001b[0m | \u001b[0m 0.3841  \u001b[0m | \u001b[0m 0.02021 \u001b[0m | \u001b[0m 0.9747  \u001b[0m | \u001b[0m 0.7287  \u001b[0m | \u001b[0m 4.812   \u001b[0m | \u001b[0m 191.5   \u001b[0m |\n",
      "| \u001b[95m 2       \u001b[0m | \u001b[95m 0.3913  \u001b[0m | \u001b[95m 0.08196 \u001b[0m | \u001b[95m 0.6491  \u001b[0m | \u001b[95m 0.4146  \u001b[0m | \u001b[95m 7.648   \u001b[0m | \u001b[95m 99.33   \u001b[0m |\n",
      "| \u001b[0m 3       \u001b[0m | \u001b[0m 0.3758  \u001b[0m | \u001b[0m 0.03304 \u001b[0m | \u001b[0m 0.03377 \u001b[0m | \u001b[0m 0.09873 \u001b[0m | \u001b[0m 4.403   \u001b[0m | \u001b[0m 178.2   \u001b[0m |\n",
      "| \u001b[0m 4       \u001b[0m | \u001b[0m 0.379   \u001b[0m | \u001b[0m 0.039   \u001b[0m | \u001b[0m 0.1936  \u001b[0m | \u001b[0m 0.9172  \u001b[0m | \u001b[0m 4.167   \u001b[0m | \u001b[0m 104.7   \u001b[0m |\n",
      "| \u001b[0m 5       \u001b[0m | \u001b[0m 0.3909  \u001b[0m | \u001b[0m 0.0959  \u001b[0m | \u001b[0m 0.1358  \u001b[0m | \u001b[0m 0.7473  \u001b[0m | \u001b[0m 2.042   \u001b[0m | \u001b[0m 221.4   \u001b[0m |\n",
      "| \u001b[0m 6       \u001b[0m | \u001b[0m 0.3786  \u001b[0m | \u001b[0m 0.07494 \u001b[0m | \u001b[0m 0.8327  \u001b[0m | \u001b[0m 0.2529  \u001b[0m | \u001b[0m 6.477   \u001b[0m | \u001b[0m 77.88   \u001b[0m |\n",
      "| \u001b[0m 7       \u001b[0m | \u001b[0m 0.3775  \u001b[0m | \u001b[0m 0.04988 \u001b[0m | \u001b[0m 0.3939  \u001b[0m | \u001b[0m 0.3779  \u001b[0m | \u001b[0m 2.144   \u001b[0m | \u001b[0m 209.4   \u001b[0m |\n",
      "| \u001b[0m 8       \u001b[0m | \u001b[0m 0.3802  \u001b[0m | \u001b[0m 0.07489 \u001b[0m | \u001b[0m 0.9714  \u001b[0m | \u001b[0m 0.9886  \u001b[0m | \u001b[0m 4.408   \u001b[0m | \u001b[0m 206.2   \u001b[0m |\n",
      "| \u001b[0m 9       \u001b[0m | \u001b[0m 0.3838  \u001b[0m | \u001b[0m 0.04038 \u001b[0m | \u001b[0m 0.2185  \u001b[0m | \u001b[0m 0.8538  \u001b[0m | \u001b[0m 9.413   \u001b[0m | \u001b[0m 98.16   \u001b[0m |\n",
      "| \u001b[0m 10      \u001b[0m | \u001b[0m 0.0     \u001b[0m | \u001b[0m 0.1     \u001b[0m | \u001b[0m 1.0     \u001b[0m | \u001b[0m 0.0     \u001b[0m | \u001b[0m 7.735   \u001b[0m | \u001b[0m 100.6   \u001b[0m |\n",
      "| \u001b[0m 11      \u001b[0m | \u001b[0m 0.3803  \u001b[0m | \u001b[0m 0.03345 \u001b[0m | \u001b[0m 0.3541  \u001b[0m | \u001b[0m 0.6513  \u001b[0m | \u001b[0m 9.294   \u001b[0m | \u001b[0m 98.19   \u001b[0m |\n",
      "| \u001b[0m 12      \u001b[0m | \u001b[0m 0.3817  \u001b[0m | \u001b[0m 0.02278 \u001b[0m | \u001b[0m 0.3371  \u001b[0m | \u001b[0m 0.3592  \u001b[0m | \u001b[0m 7.804   \u001b[0m | \u001b[0m 98.1    \u001b[0m |\n",
      "| \u001b[0m 13      \u001b[0m | \u001b[0m 0.3754  \u001b[0m | \u001b[0m 0.01    \u001b[0m | \u001b[0m 0.01    \u001b[0m | \u001b[0m 1.0     \u001b[0m | \u001b[0m 8.283   \u001b[0m | \u001b[0m 98.97   \u001b[0m |\n",
      "| \u001b[0m 14      \u001b[0m | \u001b[0m 0.3829  \u001b[0m | \u001b[0m 0.028   \u001b[0m | \u001b[0m 0.7014  \u001b[0m | \u001b[0m 0.7722  \u001b[0m | \u001b[0m 6.72    \u001b[0m | \u001b[0m 98.72   \u001b[0m |\n",
      "| \u001b[0m 15      \u001b[0m | \u001b[0m 0.3322  \u001b[0m | \u001b[0m 0.03413 \u001b[0m | \u001b[0m 0.959   \u001b[0m | \u001b[0m 0.07426 \u001b[0m | \u001b[0m 2.554   \u001b[0m | \u001b[0m 220.4   \u001b[0m |\n",
      "=====================================================================================\n",
      "L'optimization a mis : 432 secondes.\n"
     ]
    }
   ],
   "source": [
    "start = time()\n",
    "m_clas_bo2.maximize(n_iter=10, init_points=5, acq='ucb')\n",
    "print(f\"L'optimization a mis : {time() - start:.0f} secondes.\")"
   ]
  },
  {
   "cell_type": "code",
   "execution_count": 185,
   "metadata": {},
   "outputs": [
    {
     "data": {
      "text/plain": [
       "{'eta': 0.08196441414940485,\n",
       " 'gamma': 0.6491062359632096,\n",
       " 'learning_rate': 0.41459960718816635,\n",
       " 'max_depth': 7.648248090184073,\n",
       " 'n_estimators': 99.32987635492839}"
      ]
     },
     "execution_count": 185,
     "metadata": {},
     "output_type": "execute_result"
    }
   ],
   "source": [
    "best_params_02 = m_clas_bo2.max['params']\n",
    "best_params_02"
   ]
  },
  {
   "cell_type": "code",
   "execution_count": 186,
   "metadata": {},
   "outputs": [],
   "source": [
    "best_params_02['max_depth']= int(best_params_02['max_depth'])\n",
    "best_params_02['n_estimators']= int(best_params_02['n_estimators'])"
   ]
  },
  {
   "cell_type": "code",
   "execution_count": 187,
   "metadata": {},
   "outputs": [
    {
     "name": "stdout",
     "output_type": "stream",
     "text": [
      "La modélisation a duré 26.16 secondes pour un score de : 0.380\n"
     ]
    }
   ],
   "source": [
    "xgb_model_mxt_n = xgb.XGBClassifier(objective = \"reg:logistic\", random_state = 47, **best_params_02)\n",
    "score, temps = mc_modelize(xgb_model_mxt_n, X_train_mxt_n, y_train, X_test_mxt_n, y_test)\n",
    "print(f\"La modélisation a duré {temps:.02f} secondes pour un score de : {score:.3f}\")"
   ]
  },
  {
   "cell_type": "markdown",
   "metadata": {},
   "source": [
    "Ce dernier résultat est meilleur que le précédent. Même si nous sommes peut-être dans une **marge d'erreur** du à notre méthode d'optimisation assez partielle, les étapes de normalisation semblent nous avoir fait gagner **1,6 points** au **F1 Score Weighted**."
   ]
  },
  {
   "cell_type": "markdown",
   "metadata": {},
   "source": [
    " "
   ]
  },
  {
   "cell_type": "markdown",
   "metadata": {},
   "source": [
    "### **Learning Curve**"
   ]
  },
  {
   "cell_type": "markdown",
   "metadata": {},
   "source": [
    "Voyons maintenant par curiosité si la **learning curve** de notre modèle laisse envisager une amélioration des résultats avec plus de données."
   ]
  },
  {
   "cell_type": "code",
   "execution_count": 188,
   "metadata": {},
   "outputs": [],
   "source": [
    "m_clas_mxt_n = BinaryRelevance(classifier = xgb_model_mxt_n)\n",
    "\n",
    "l_sizes = [0.5, 0.6, 0.7, 0.8, 0.9, 1]\n",
    "\n",
    "size, score, val_score = learning_curve(m_clas_mxt_n, \n",
    "                                        X_train_mxt_n, \n",
    "                                        y_train,\n",
    "                                        scoring = \"f1_weighted\",\n",
    "                                        cv = 5,\n",
    "                                        train_sizes = l_sizes,\n",
    "                                        random_state = 47)"
   ]
  },
  {
   "cell_type": "code",
   "execution_count": 189,
   "metadata": {},
   "outputs": [
    {
     "name": "stdout",
     "output_type": "stream",
     "text": [
      "[0.36139752 0.36824808 0.36978123 0.37416356 0.37482923 0.37347967]\n"
     ]
    }
   ],
   "source": [
    "sc = val_score.mean(axis = 1)\n",
    "std = val_score.std(axis = 1)\n",
    "print(sc)"
   ]
  },
  {
   "cell_type": "code",
   "execution_count": 190,
   "metadata": {},
   "outputs": [
    {
     "data": {
      "image/png": "[encoded data removed]",
      "text/plain": [
       "<Figure size 576x288 with 1 Axes>"
      ]
     },
     "metadata": {
      "needs_background": "light"
     },
     "output_type": "display_data"
    }
   ],
   "source": [
    "fig = plt.figure(figsize = (8, 4))\n",
    "plt.plot(size, sc, color='blue')\n",
    "plt.fill_between(size, \n",
    "                 sc - std,\n",
    "                 sc + std, alpha=0.08,\n",
    "                 color=\"blue\")\n",
    "plt.title(\"Score F1_weighted en fonction de la taille de l'échantillon de données\")\n",
    "\n",
    "plt.show()"
   ]
  },
  {
   "cell_type": "markdown",
   "metadata": {},
   "source": [
    "La **learning curve** ne laisse pas apparaitre de perspective d'amélioration spectaculaire avec de l'ajout de données..."
   ]
  },
  {
   "cell_type": "markdown",
   "metadata": {},
   "source": [
    " "
   ]
  },
  {
   "cell_type": "markdown",
   "metadata": {},
   "source": [
    " "
   ]
  },
  {
   "cell_type": "markdown",
   "metadata": {},
   "source": [
    "**Fin de la deuxième partie**"
   ]
  }
 ],
 "metadata": {
  "kernelspec": {
   "display_name": "py310",
   "language": "python",
   "name": "py310"
  },
  "language_info": {
   "codemirror_mode": {
    "name": "ipython",
    "version": 3
   },
   "file_extension": ".py",
   "mimetype": "text/x-python",
   "name": "python",
   "nbconvert_exporter": "python",
   "pygments_lexer": "ipython3",
   "version": "3.10.6"
  }
 },
 "nbformat": 4,
 "nbformat_minor": 4
}
